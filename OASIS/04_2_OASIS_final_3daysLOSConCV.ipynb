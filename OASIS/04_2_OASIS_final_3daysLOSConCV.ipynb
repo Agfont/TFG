{
 "cells": [
  {
   "cell_type": "markdown",
   "metadata": {},
   "source": [
    "EXTRA (APÉNDICE)\n",
    "\n",
    "En este notebook se entrenan diferentes modelos predictivos usando la puntuación OASIS para predecir si una estancia en UCI va a ser > 3 días o no. Luego se evalua el rendimiento de los modelos con ACC, AUC-ROC, AUC-PR, confusion matrix....También se realiza Cross Validation y student-t-test para determinar si las diferencias entre los resultados son estadísticamente significativas.\n",
    "\n",
    "Obs. Ejecute primero '03calculateOASIS.ipynb' para obtener 'result_24_horas_final.csv'"
   ]
  },
  {
   "cell_type": "code",
   "execution_count": 1,
   "metadata": {
    "id": "Fu-sdl9qh_1c"
   },
   "outputs": [],
   "source": [
    "import pandas as pd\n",
    "import numpy as np\n",
    "import matplotlib.pyplot as plt\n",
    "import matplotlib\n",
    "import pylab\n",
    "import seaborn as sns\n",
    "from tqdm import tqdm\n",
    "import csv\n",
    "from sklearn.preprocessing import StandardScaler\n",
    "from sklearn.ensemble import RandomForestClassifier\n",
    "from sklearn.model_selection import KFold, cross_val_score\n",
    "from sklearn import metrics\n",
    "from sklearn.metrics import confusion_matrix\n",
    "from sklearn.model_selection import cross_val_predict\n",
    "from sklearn.metrics import classification_report\n",
    "from sklearn.pipeline import make_pipeline\n",
    "from sklearn.linear_model import LogisticRegression\n",
    "from sklearn.model_selection import train_test_split\n",
    "from scipy import stats\n",
    "\n",
    "\n",
    "matplotlib.style.use('ggplot')"
   ]
  },
  {
   "cell_type": "code",
   "execution_count": 2,
   "metadata": {},
   "outputs": [],
   "source": [
    "result_24_horas_final=pd.read_csv('result_24_horas_final.csv')"
   ]
  },
  {
   "cell_type": "code",
   "execution_count": 3,
   "metadata": {},
   "outputs": [
    {
     "data": {
      "text/plain": [
       "Unnamed: 0            0\n",
       "Unnamed: 0.1          0\n",
       "SUBJECT_ID            0\n",
       "HADM_ID               0\n",
       "ADMITTIME             0\n",
       "ADMISSION_TYPE        0\n",
       "ICUSTAY_ID            0\n",
       "INTIME                0\n",
       "LOS                  10\n",
       "AGE                   0\n",
       "PRELOS                0\n",
       "OASIS             13655\n",
       "OASIS_NONAN           0\n",
       "dtype: int64"
      ]
     },
     "execution_count": 3,
     "metadata": {},
     "output_type": "execute_result"
    }
   ],
   "source": [
    "result_24_horas_final.isnull().sum()"
   ]
  },
  {
   "cell_type": "code",
   "execution_count": 4,
   "metadata": {},
   "outputs": [
    {
     "data": {
      "text/plain": [
       "Unnamed: 0            0\n",
       "Unnamed: 0.1          0\n",
       "SUBJECT_ID            0\n",
       "HADM_ID               0\n",
       "ADMITTIME             0\n",
       "ADMISSION_TYPE        0\n",
       "ICUSTAY_ID            0\n",
       "INTIME                0\n",
       "LOS                   0\n",
       "AGE                   0\n",
       "PRELOS                0\n",
       "OASIS             13645\n",
       "OASIS_NONAN           0\n",
       "dtype: int64"
      ]
     },
     "execution_count": 4,
     "metadata": {},
     "output_type": "execute_result"
    }
   ],
   "source": [
    "result_24_horas_final = result_24_horas_final[result_24_horas_final['LOS'].notnull()] \n",
    "result_24_horas_final.isnull().sum()"
   ]
  },
  {
   "cell_type": "code",
   "execution_count": 5,
   "metadata": {},
   "outputs": [],
   "source": [
    "#Excluir admissions < 18 years old, ya que tendran medidas fisiológicas distintas de las de los adultos \n",
    "result_24_horas_final = result_24_horas_final[~(result_24_horas_final['AGE'] < 18)]"
   ]
  },
  {
   "cell_type": "code",
   "execution_count": 6,
   "metadata": {
    "colab": {
     "base_uri": "https://localhost:8080/",
     "height": 363
    },
    "id": "OxPFHpuvxB_v",
    "outputId": "3cd61981-1990-49bb-9d38-d7f0141f89c8"
   },
   "outputs": [
    {
     "name": "stdout",
     "output_type": "stream",
     "text": [
      "(53329, 13)\n",
      "unique SUBJECT_ID: 38510\n",
      "unique HADM_ID   : 49692\n",
      "unique ICUSTAY_ID   : 53329\n"
     ]
    },
    {
     "data": {
      "text/html": [
       "<div>\n",
       "<style scoped>\n",
       "    .dataframe tbody tr th:only-of-type {\n",
       "        vertical-align: middle;\n",
       "    }\n",
       "\n",
       "    .dataframe tbody tr th {\n",
       "        vertical-align: top;\n",
       "    }\n",
       "\n",
       "    .dataframe thead th {\n",
       "        text-align: right;\n",
       "    }\n",
       "</style>\n",
       "<table border=\"1\" class=\"dataframe\">\n",
       "  <thead>\n",
       "    <tr style=\"text-align: right;\">\n",
       "      <th></th>\n",
       "      <th>Unnamed: 0</th>\n",
       "      <th>Unnamed: 0.1</th>\n",
       "      <th>SUBJECT_ID</th>\n",
       "      <th>HADM_ID</th>\n",
       "      <th>ADMITTIME</th>\n",
       "      <th>ADMISSION_TYPE</th>\n",
       "      <th>ICUSTAY_ID</th>\n",
       "      <th>INTIME</th>\n",
       "      <th>LOS</th>\n",
       "      <th>AGE</th>\n",
       "      <th>PRELOS</th>\n",
       "      <th>OASIS</th>\n",
       "      <th>OASIS_NONAN</th>\n",
       "    </tr>\n",
       "  </thead>\n",
       "  <tbody>\n",
       "    <tr>\n",
       "      <td>0</td>\n",
       "      <td>0</td>\n",
       "      <td>0</td>\n",
       "      <td>59618</td>\n",
       "      <td>101145</td>\n",
       "      <td>2102-01-20 20:38:00</td>\n",
       "      <td>EMERGENCY</td>\n",
       "      <td>226547</td>\n",
       "      <td>2102-01-20 20:39:57</td>\n",
       "      <td>0.9954</td>\n",
       "      <td>74.430137</td>\n",
       "      <td>0.0</td>\n",
       "      <td>33.0</td>\n",
       "      <td>33.0</td>\n",
       "    </tr>\n",
       "    <tr>\n",
       "      <td>1</td>\n",
       "      <td>1</td>\n",
       "      <td>0</td>\n",
       "      <td>69108</td>\n",
       "      <td>158993</td>\n",
       "      <td>2132-01-15 23:26:00</td>\n",
       "      <td>ELECTIVE</td>\n",
       "      <td>297532</td>\n",
       "      <td>2132-01-16 06:22:40</td>\n",
       "      <td>1.4185</td>\n",
       "      <td>79.257534</td>\n",
       "      <td>6.9</td>\n",
       "      <td>29.0</td>\n",
       "      <td>29.0</td>\n",
       "    </tr>\n",
       "    <tr>\n",
       "      <td>2</td>\n",
       "      <td>2</td>\n",
       "      <td>0</td>\n",
       "      <td>14008</td>\n",
       "      <td>173497</td>\n",
       "      <td>2136-01-31 07:30:00</td>\n",
       "      <td>ELECTIVE</td>\n",
       "      <td>217593</td>\n",
       "      <td>2136-01-31 18:37:56</td>\n",
       "      <td>0.9808</td>\n",
       "      <td>76.789041</td>\n",
       "      <td>11.1</td>\n",
       "      <td>20.0</td>\n",
       "      <td>20.0</td>\n",
       "    </tr>\n",
       "    <tr>\n",
       "      <td>3</td>\n",
       "      <td>3</td>\n",
       "      <td>0</td>\n",
       "      <td>2187</td>\n",
       "      <td>128059</td>\n",
       "      <td>2134-04-21 02:22:00</td>\n",
       "      <td>EMERGENCY</td>\n",
       "      <td>212355</td>\n",
       "      <td>2134-04-21 02:24:10</td>\n",
       "      <td>5.6340</td>\n",
       "      <td>46.487671</td>\n",
       "      <td>0.0</td>\n",
       "      <td>NaN</td>\n",
       "      <td>0.0</td>\n",
       "    </tr>\n",
       "    <tr>\n",
       "      <td>4</td>\n",
       "      <td>4</td>\n",
       "      <td>0</td>\n",
       "      <td>41040</td>\n",
       "      <td>118624</td>\n",
       "      <td>2135-05-07 11:39:00</td>\n",
       "      <td>EMERGENCY</td>\n",
       "      <td>224627</td>\n",
       "      <td>2135-05-07 11:40:19</td>\n",
       "      <td>5.2510</td>\n",
       "      <td>80.178082</td>\n",
       "      <td>0.0</td>\n",
       "      <td>41.0</td>\n",
       "      <td>41.0</td>\n",
       "    </tr>\n",
       "  </tbody>\n",
       "</table>\n",
       "</div>"
      ],
      "text/plain": [
       "   Unnamed: 0  Unnamed: 0.1  SUBJECT_ID  HADM_ID            ADMITTIME  \\\n",
       "0           0             0       59618   101145  2102-01-20 20:38:00   \n",
       "1           1             0       69108   158993  2132-01-15 23:26:00   \n",
       "2           2             0       14008   173497  2136-01-31 07:30:00   \n",
       "3           3             0        2187   128059  2134-04-21 02:22:00   \n",
       "4           4             0       41040   118624  2135-05-07 11:39:00   \n",
       "\n",
       "  ADMISSION_TYPE  ICUSTAY_ID               INTIME     LOS        AGE  PRELOS  \\\n",
       "0      EMERGENCY      226547  2102-01-20 20:39:57  0.9954  74.430137     0.0   \n",
       "1       ELECTIVE      297532  2132-01-16 06:22:40  1.4185  79.257534     6.9   \n",
       "2       ELECTIVE      217593  2136-01-31 18:37:56  0.9808  76.789041    11.1   \n",
       "3      EMERGENCY      212355  2134-04-21 02:24:10  5.6340  46.487671     0.0   \n",
       "4      EMERGENCY      224627  2135-05-07 11:40:19  5.2510  80.178082     0.0   \n",
       "\n",
       "   OASIS  OASIS_NONAN  \n",
       "0   33.0         33.0  \n",
       "1   29.0         29.0  \n",
       "2   20.0         20.0  \n",
       "3    NaN          0.0  \n",
       "4   41.0         41.0  "
      ]
     },
     "execution_count": 6,
     "metadata": {},
     "output_type": "execute_result"
    }
   ],
   "source": [
    "print(result_24_horas_final.shape)\n",
    "print('unique SUBJECT_ID:', result_24_horas_final.SUBJECT_ID.nunique())\n",
    "print('unique HADM_ID   :', result_24_horas_final.HADM_ID.nunique())\n",
    "print('unique ICUSTAY_ID   :', result_24_horas_final.ICUSTAY_ID.nunique())\n",
    "result_24_horas_final.head()"
   ]
  },
  {
   "cell_type": "markdown",
   "metadata": {
    "id": "Z8gbYijpubHL"
   },
   "source": [
    "Duration for each single icustay_id is the LOS measured in days. LOS_C are computed by binarization."
   ]
  },
  {
   "cell_type": "code",
   "execution_count": 7,
   "metadata": {
    "colab": {
     "base_uri": "https://localhost:8080/",
     "height": 310
    },
    "id": "6Ix6jPQgyA9y",
    "outputId": "0d343126-cfb6-46d4-ebee-b22e3f05af91"
   },
   "outputs": [
    {
     "name": "stdout",
     "output_type": "stream",
     "text": [
      "(53329, 13)\n"
     ]
    },
    {
     "data": {
      "text/html": [
       "<div>\n",
       "<style scoped>\n",
       "    .dataframe tbody tr th:only-of-type {\n",
       "        vertical-align: middle;\n",
       "    }\n",
       "\n",
       "    .dataframe tbody tr th {\n",
       "        vertical-align: top;\n",
       "    }\n",
       "\n",
       "    .dataframe thead th {\n",
       "        text-align: right;\n",
       "    }\n",
       "</style>\n",
       "<table border=\"1\" class=\"dataframe\">\n",
       "  <thead>\n",
       "    <tr style=\"text-align: right;\">\n",
       "      <th></th>\n",
       "      <th>Unnamed: 0</th>\n",
       "      <th>Unnamed: 0.1</th>\n",
       "      <th>SUBJECT_ID</th>\n",
       "      <th>HADM_ID</th>\n",
       "      <th>ADMITTIME</th>\n",
       "      <th>ADMISSION_TYPE</th>\n",
       "      <th>ICUSTAY_ID</th>\n",
       "      <th>INTIME</th>\n",
       "      <th>LOS</th>\n",
       "      <th>AGE</th>\n",
       "      <th>PRELOS</th>\n",
       "      <th>OASIS</th>\n",
       "      <th>OASIS_NONAN</th>\n",
       "    </tr>\n",
       "  </thead>\n",
       "  <tbody>\n",
       "    <tr>\n",
       "      <td>0</td>\n",
       "      <td>0</td>\n",
       "      <td>0</td>\n",
       "      <td>59618</td>\n",
       "      <td>101145</td>\n",
       "      <td>2102-01-20 20:38:00</td>\n",
       "      <td>EMERGENCY</td>\n",
       "      <td>226547</td>\n",
       "      <td>2102-01-20 20:39:57</td>\n",
       "      <td>0</td>\n",
       "      <td>74.430137</td>\n",
       "      <td>0.0</td>\n",
       "      <td>33.0</td>\n",
       "      <td>33.0</td>\n",
       "    </tr>\n",
       "    <tr>\n",
       "      <td>1</td>\n",
       "      <td>1</td>\n",
       "      <td>0</td>\n",
       "      <td>69108</td>\n",
       "      <td>158993</td>\n",
       "      <td>2132-01-15 23:26:00</td>\n",
       "      <td>ELECTIVE</td>\n",
       "      <td>297532</td>\n",
       "      <td>2132-01-16 06:22:40</td>\n",
       "      <td>0</td>\n",
       "      <td>79.257534</td>\n",
       "      <td>6.9</td>\n",
       "      <td>29.0</td>\n",
       "      <td>29.0</td>\n",
       "    </tr>\n",
       "    <tr>\n",
       "      <td>2</td>\n",
       "      <td>2</td>\n",
       "      <td>0</td>\n",
       "      <td>14008</td>\n",
       "      <td>173497</td>\n",
       "      <td>2136-01-31 07:30:00</td>\n",
       "      <td>ELECTIVE</td>\n",
       "      <td>217593</td>\n",
       "      <td>2136-01-31 18:37:56</td>\n",
       "      <td>0</td>\n",
       "      <td>76.789041</td>\n",
       "      <td>11.1</td>\n",
       "      <td>20.0</td>\n",
       "      <td>20.0</td>\n",
       "    </tr>\n",
       "    <tr>\n",
       "      <td>3</td>\n",
       "      <td>3</td>\n",
       "      <td>0</td>\n",
       "      <td>2187</td>\n",
       "      <td>128059</td>\n",
       "      <td>2134-04-21 02:22:00</td>\n",
       "      <td>EMERGENCY</td>\n",
       "      <td>212355</td>\n",
       "      <td>2134-04-21 02:24:10</td>\n",
       "      <td>1</td>\n",
       "      <td>46.487671</td>\n",
       "      <td>0.0</td>\n",
       "      <td>NaN</td>\n",
       "      <td>0.0</td>\n",
       "    </tr>\n",
       "    <tr>\n",
       "      <td>4</td>\n",
       "      <td>4</td>\n",
       "      <td>0</td>\n",
       "      <td>41040</td>\n",
       "      <td>118624</td>\n",
       "      <td>2135-05-07 11:39:00</td>\n",
       "      <td>EMERGENCY</td>\n",
       "      <td>224627</td>\n",
       "      <td>2135-05-07 11:40:19</td>\n",
       "      <td>1</td>\n",
       "      <td>80.178082</td>\n",
       "      <td>0.0</td>\n",
       "      <td>41.0</td>\n",
       "      <td>41.0</td>\n",
       "    </tr>\n",
       "  </tbody>\n",
       "</table>\n",
       "</div>"
      ],
      "text/plain": [
       "   Unnamed: 0  Unnamed: 0.1  SUBJECT_ID  HADM_ID            ADMITTIME  \\\n",
       "0           0             0       59618   101145  2102-01-20 20:38:00   \n",
       "1           1             0       69108   158993  2132-01-15 23:26:00   \n",
       "2           2             0       14008   173497  2136-01-31 07:30:00   \n",
       "3           3             0        2187   128059  2134-04-21 02:22:00   \n",
       "4           4             0       41040   118624  2135-05-07 11:39:00   \n",
       "\n",
       "  ADMISSION_TYPE  ICUSTAY_ID               INTIME  LOS        AGE  PRELOS  \\\n",
       "0      EMERGENCY      226547  2102-01-20 20:39:57    0  74.430137     0.0   \n",
       "1       ELECTIVE      297532  2132-01-16 06:22:40    0  79.257534     6.9   \n",
       "2       ELECTIVE      217593  2136-01-31 18:37:56    0  76.789041    11.1   \n",
       "3      EMERGENCY      212355  2134-04-21 02:24:10    1  46.487671     0.0   \n",
       "4      EMERGENCY      224627  2135-05-07 11:40:19    1  80.178082     0.0   \n",
       "\n",
       "   OASIS  OASIS_NONAN  \n",
       "0   33.0         33.0  \n",
       "1   29.0         29.0  \n",
       "2   20.0         20.0  \n",
       "3    NaN          0.0  \n",
       "4   41.0         41.0  "
      ]
     },
     "execution_count": 7,
     "metadata": {},
     "output_type": "execute_result"
    }
   ],
   "source": [
    "result_24_horas_final['LOS']=np.where(result_24_horas_final['LOS']>3, 1, 0) # 0 \"estancia corta\", 1 \"estancia larga\"\n",
    "print(result_24_horas_final.shape)\n",
    "result_24_horas_final.head()"
   ]
  },
  {
   "cell_type": "markdown",
   "metadata": {
    "id": "9KMPFRXvcfDv"
   },
   "source": [
    "### Predecir en 24  horas  (considerando los oasis_variable nan como 0.0 (usar np.nansum), i.e. en rango 'normal') + mismo cohorte que benchmark"
   ]
  },
  {
   "cell_type": "code",
   "execution_count": 8,
   "metadata": {
    "id": "M4xRwl69dzat"
   },
   "outputs": [
    {
     "data": {
      "text/html": [
       "<div>\n",
       "<style scoped>\n",
       "    .dataframe tbody tr th:only-of-type {\n",
       "        vertical-align: middle;\n",
       "    }\n",
       "\n",
       "    .dataframe tbody tr th {\n",
       "        vertical-align: top;\n",
       "    }\n",
       "\n",
       "    .dataframe thead th {\n",
       "        text-align: right;\n",
       "    }\n",
       "</style>\n",
       "<table border=\"1\" class=\"dataframe\">\n",
       "  <thead>\n",
       "    <tr style=\"text-align: right;\">\n",
       "      <th></th>\n",
       "      <th>LOS</th>\n",
       "      <th>OASIS_NONAN</th>\n",
       "      <th>ICUSTAY_ID</th>\n",
       "    </tr>\n",
       "  </thead>\n",
       "  <tbody>\n",
       "    <tr>\n",
       "      <td>0</td>\n",
       "      <td>0</td>\n",
       "      <td>33.0</td>\n",
       "      <td>226547</td>\n",
       "    </tr>\n",
       "    <tr>\n",
       "      <td>1</td>\n",
       "      <td>0</td>\n",
       "      <td>29.0</td>\n",
       "      <td>297532</td>\n",
       "    </tr>\n",
       "    <tr>\n",
       "      <td>2</td>\n",
       "      <td>0</td>\n",
       "      <td>20.0</td>\n",
       "      <td>217593</td>\n",
       "    </tr>\n",
       "    <tr>\n",
       "      <td>3</td>\n",
       "      <td>1</td>\n",
       "      <td>0.0</td>\n",
       "      <td>212355</td>\n",
       "    </tr>\n",
       "    <tr>\n",
       "      <td>4</td>\n",
       "      <td>1</td>\n",
       "      <td>41.0</td>\n",
       "      <td>224627</td>\n",
       "    </tr>\n",
       "  </tbody>\n",
       "</table>\n",
       "</div>"
      ],
      "text/plain": [
       "   LOS  OASIS_NONAN  ICUSTAY_ID\n",
       "0    0         33.0      226547\n",
       "1    0         29.0      297532\n",
       "2    0         20.0      217593\n",
       "3    1          0.0      212355\n",
       "4    1         41.0      224627"
      ]
     },
     "execution_count": 8,
     "metadata": {},
     "output_type": "execute_result"
    }
   ],
   "source": [
    "result_24_horas_nonnan=result_24_horas_final[['LOS','OASIS_NONAN','ICUSTAY_ID']]\n",
    "result_24_horas_nonnan.head()"
   ]
  },
  {
   "cell_type": "code",
   "execution_count": 9,
   "metadata": {
    "colab": {
     "base_uri": "https://localhost:8080/"
    },
    "id": "pd2bVSgoBnzg",
    "outputId": "54251475-7e6c-41b6-c1df-210ddf5e6b30"
   },
   "outputs": [
    {
     "data": {
      "text/plain": [
       "0    33797\n",
       "1    19532\n",
       "Name: LOS, dtype: int64"
      ]
     },
     "execution_count": 9,
     "metadata": {},
     "output_type": "execute_result"
    }
   ],
   "source": [
    "result_24_horas_nonnan['LOS'].value_counts()"
   ]
  },
  {
   "cell_type": "code",
   "execution_count": 10,
   "metadata": {
    "id": "MuWBVtzGeEEm"
   },
   "outputs": [],
   "source": [
    "#from sklearn.model_selection import train_test_split\n",
    "#from sklearn import preprocessing\n",
    "#X_train, X_test, y_train, y_test = train_test_split(X, y, test_size=0.15, random_state=42)"
   ]
  },
  {
   "cell_type": "markdown",
   "metadata": {},
   "source": [
    "Normalmente basta con train_test_split para tener conjunto de entrenamiento (Train set) y conjunto de prueba (Test set). Pero como queremos comparar con otros modelos, recomienda mantener un mismo Test set. Por lo tanto, usamos ficheros llamados 'listfilexx' para poder rastrear el Test/Train set. (obs. estas listfiles se obtienen ejecutando create_losxdays_icustayidListfiles.py)"
   ]
  },
  {
   "cell_type": "code",
   "execution_count": 11,
   "metadata": {},
   "outputs": [
    {
     "name": "stdout",
     "output_type": "stream",
     "text": [
      "(5282, 3)\n"
     ]
    },
    {
     "data": {
      "text/html": [
       "<div>\n",
       "<style scoped>\n",
       "    .dataframe tbody tr th:only-of-type {\n",
       "        vertical-align: middle;\n",
       "    }\n",
       "\n",
       "    .dataframe tbody tr th {\n",
       "        vertical-align: top;\n",
       "    }\n",
       "\n",
       "    .dataframe thead th {\n",
       "        text-align: right;\n",
       "    }\n",
       "</style>\n",
       "<table border=\"1\" class=\"dataframe\">\n",
       "  <thead>\n",
       "    <tr style=\"text-align: right;\">\n",
       "      <th></th>\n",
       "      <th>stay</th>\n",
       "      <th>y_true</th>\n",
       "      <th>ICUSTAY_ID</th>\n",
       "    </tr>\n",
       "  </thead>\n",
       "  <tbody>\n",
       "    <tr>\n",
       "      <td>0</td>\n",
       "      <td>10000_episode1_timeseries.csv</td>\n",
       "      <td>0</td>\n",
       "      <td>247610</td>\n",
       "    </tr>\n",
       "    <tr>\n",
       "      <td>1</td>\n",
       "      <td>10011_episode1_timeseries.csv</td>\n",
       "      <td>1</td>\n",
       "      <td>232110</td>\n",
       "    </tr>\n",
       "    <tr>\n",
       "      <td>2</td>\n",
       "      <td>10012_episode1_timeseries.csv</td>\n",
       "      <td>0</td>\n",
       "      <td>277998</td>\n",
       "    </tr>\n",
       "    <tr>\n",
       "      <td>3</td>\n",
       "      <td>10019_episode1_timeseries.csv</td>\n",
       "      <td>0</td>\n",
       "      <td>228977</td>\n",
       "    </tr>\n",
       "    <tr>\n",
       "      <td>4</td>\n",
       "      <td>10026_episode1_timeseries.csv</td>\n",
       "      <td>0</td>\n",
       "      <td>277021</td>\n",
       "    </tr>\n",
       "  </tbody>\n",
       "</table>\n",
       "</div>"
      ],
      "text/plain": [
       "                            stay  y_true  ICUSTAY_ID\n",
       "0  10000_episode1_timeseries.csv       0      247610\n",
       "1  10011_episode1_timeseries.csv       1      232110\n",
       "2  10012_episode1_timeseries.csv       0      277998\n",
       "3  10019_episode1_timeseries.csv       0      228977\n",
       "4  10026_episode1_timeseries.csv       0      277021"
      ]
     },
     "execution_count": 11,
     "metadata": {},
     "output_type": "execute_result"
    }
   ],
   "source": [
    "cohorte_test_benchmark = pd.read_csv('/home/usuario/TFG/code/final_versiones_OASIS_mismoCohorteBenchmark/lengthOfStay/test/listfileLos3.csv')\n",
    "cohorte_test_benchmark.rename(columns={'icustayid': 'ICUSTAY_ID'}, inplace=True)\n",
    "print(cohorte_test_benchmark.shape)\n",
    "cohorte_test_benchmark.head()"
   ]
  },
  {
   "cell_type": "code",
   "execution_count": 12,
   "metadata": {},
   "outputs": [
    {
     "name": "stdout",
     "output_type": "stream",
     "text": [
      "(5282, 5)\n"
     ]
    },
    {
     "data": {
      "text/html": [
       "<div>\n",
       "<style scoped>\n",
       "    .dataframe tbody tr th:only-of-type {\n",
       "        vertical-align: middle;\n",
       "    }\n",
       "\n",
       "    .dataframe tbody tr th {\n",
       "        vertical-align: top;\n",
       "    }\n",
       "\n",
       "    .dataframe thead th {\n",
       "        text-align: right;\n",
       "    }\n",
       "</style>\n",
       "<table border=\"1\" class=\"dataframe\">\n",
       "  <thead>\n",
       "    <tr style=\"text-align: right;\">\n",
       "      <th></th>\n",
       "      <th>stay</th>\n",
       "      <th>y_true</th>\n",
       "      <th>ICUSTAY_ID</th>\n",
       "      <th>LOS</th>\n",
       "      <th>OASIS_NONAN</th>\n",
       "    </tr>\n",
       "  </thead>\n",
       "  <tbody>\n",
       "    <tr>\n",
       "      <td>0</td>\n",
       "      <td>10000_episode1_timeseries.csv</td>\n",
       "      <td>0</td>\n",
       "      <td>247610</td>\n",
       "      <td>0</td>\n",
       "      <td>26.0</td>\n",
       "    </tr>\n",
       "    <tr>\n",
       "      <td>1</td>\n",
       "      <td>10011_episode1_timeseries.csv</td>\n",
       "      <td>1</td>\n",
       "      <td>232110</td>\n",
       "      <td>1</td>\n",
       "      <td>27.0</td>\n",
       "    </tr>\n",
       "    <tr>\n",
       "      <td>2</td>\n",
       "      <td>10012_episode1_timeseries.csv</td>\n",
       "      <td>0</td>\n",
       "      <td>277998</td>\n",
       "      <td>0</td>\n",
       "      <td>27.0</td>\n",
       "    </tr>\n",
       "    <tr>\n",
       "      <td>3</td>\n",
       "      <td>10019_episode1_timeseries.csv</td>\n",
       "      <td>0</td>\n",
       "      <td>228977</td>\n",
       "      <td>0</td>\n",
       "      <td>48.0</td>\n",
       "    </tr>\n",
       "    <tr>\n",
       "      <td>4</td>\n",
       "      <td>10026_episode1_timeseries.csv</td>\n",
       "      <td>0</td>\n",
       "      <td>277021</td>\n",
       "      <td>0</td>\n",
       "      <td>34.0</td>\n",
       "    </tr>\n",
       "  </tbody>\n",
       "</table>\n",
       "</div>"
      ],
      "text/plain": [
       "                            stay  y_true  ICUSTAY_ID  LOS  OASIS_NONAN\n",
       "0  10000_episode1_timeseries.csv       0      247610    0         26.0\n",
       "1  10011_episode1_timeseries.csv       1      232110    1         27.0\n",
       "2  10012_episode1_timeseries.csv       0      277998    0         27.0\n",
       "3  10019_episode1_timeseries.csv       0      228977    0         48.0\n",
       "4  10026_episode1_timeseries.csv       0      277021    0         34.0"
      ]
     },
     "execution_count": 12,
     "metadata": {},
     "output_type": "execute_result"
    }
   ],
   "source": [
    "test_set=pd.merge(cohorte_test_benchmark, result_24_horas_nonnan, how='left', on=['ICUSTAY_ID'])\n",
    "print(test_set.shape)\n",
    "test_set.head()"
   ]
  },
  {
   "cell_type": "code",
   "execution_count": 13,
   "metadata": {},
   "outputs": [
    {
     "data": {
      "text/plain": [
       "stay           0\n",
       "y_true         0\n",
       "ICUSTAY_ID     0\n",
       "LOS            0\n",
       "OASIS_NONAN    0\n",
       "dtype: int64"
      ]
     },
     "execution_count": 13,
     "metadata": {},
     "output_type": "execute_result"
    }
   ],
   "source": [
    "test_set.isnull().sum()"
   ]
  },
  {
   "cell_type": "code",
   "execution_count": 14,
   "metadata": {},
   "outputs": [
    {
     "data": {
      "text/plain": [
       "(5282, 5)"
      ]
     },
     "execution_count": 14,
     "metadata": {},
     "output_type": "execute_result"
    }
   ],
   "source": [
    "test_set[test_set['y_true'] == test_set['LOS']].shape"
   ]
  },
  {
   "cell_type": "code",
   "execution_count": 15,
   "metadata": {},
   "outputs": [
    {
     "data": {
      "text/html": [
       "<div>\n",
       "<style scoped>\n",
       "    .dataframe tbody tr th:only-of-type {\n",
       "        vertical-align: middle;\n",
       "    }\n",
       "\n",
       "    .dataframe tbody tr th {\n",
       "        vertical-align: top;\n",
       "    }\n",
       "\n",
       "    .dataframe thead th {\n",
       "        text-align: right;\n",
       "    }\n",
       "</style>\n",
       "<table border=\"1\" class=\"dataframe\">\n",
       "  <thead>\n",
       "    <tr style=\"text-align: right;\">\n",
       "      <th></th>\n",
       "      <th>stay</th>\n",
       "      <th>y_true</th>\n",
       "      <th>ICUSTAY_ID</th>\n",
       "      <th>LOS</th>\n",
       "      <th>OASIS_NONAN</th>\n",
       "    </tr>\n",
       "  </thead>\n",
       "  <tbody>\n",
       "  </tbody>\n",
       "</table>\n",
       "</div>"
      ],
      "text/plain": [
       "Empty DataFrame\n",
       "Columns: [stay, y_true, ICUSTAY_ID, LOS, OASIS_NONAN]\n",
       "Index: []"
      ]
     },
     "execution_count": 15,
     "metadata": {},
     "output_type": "execute_result"
    }
   ],
   "source": [
    "#We can see that they have same LOS, all correct\n",
    "test_set[~(test_set['y_true'] == test_set['LOS'])]"
   ]
  },
  {
   "cell_type": "code",
   "execution_count": 16,
   "metadata": {},
   "outputs": [],
   "source": [
    "#Solo hace falta ejecutar esta linea una vez, que genera listfile para modelos con times_series\n",
    "test_set['ICUSTAY_ID'].to_csv('/home/usuario/TFG/code/final_versiones_OASIS_mismoCohorteBenchmark/lengthOfStay/test/listfile.csv', index=False,header='ICUSTAY_ID')"
   ]
  },
  {
   "cell_type": "code",
   "execution_count": null,
   "metadata": {},
   "outputs": [],
   "source": []
  },
  {
   "cell_type": "code",
   "execution_count": 17,
   "metadata": {},
   "outputs": [],
   "source": [
    "X_test=pd.DataFrame(test_set['OASIS_NONAN'])\n",
    "y_test=pd.DataFrame(test_set['LOS'])"
   ]
  },
  {
   "cell_type": "code",
   "execution_count": 18,
   "metadata": {},
   "outputs": [
    {
     "name": "stdout",
     "output_type": "stream",
     "text": [
      "(29846, 3)\n"
     ]
    },
    {
     "data": {
      "text/html": [
       "<div>\n",
       "<style scoped>\n",
       "    .dataframe tbody tr th:only-of-type {\n",
       "        vertical-align: middle;\n",
       "    }\n",
       "\n",
       "    .dataframe tbody tr th {\n",
       "        vertical-align: top;\n",
       "    }\n",
       "\n",
       "    .dataframe thead th {\n",
       "        text-align: right;\n",
       "    }\n",
       "</style>\n",
       "<table border=\"1\" class=\"dataframe\">\n",
       "  <thead>\n",
       "    <tr style=\"text-align: right;\">\n",
       "      <th></th>\n",
       "      <th>stay</th>\n",
       "      <th>y_true</th>\n",
       "      <th>ICUSTAY_ID</th>\n",
       "    </tr>\n",
       "  </thead>\n",
       "  <tbody>\n",
       "    <tr>\n",
       "      <td>0</td>\n",
       "      <td>91051_episode1_timeseries.csv</td>\n",
       "      <td>0</td>\n",
       "      <td>209804</td>\n",
       "    </tr>\n",
       "    <tr>\n",
       "      <td>1</td>\n",
       "      <td>19208_episode2_timeseries.csv</td>\n",
       "      <td>0</td>\n",
       "      <td>208696</td>\n",
       "    </tr>\n",
       "    <tr>\n",
       "      <td>2</td>\n",
       "      <td>41432_episode1_timeseries.csv</td>\n",
       "      <td>0</td>\n",
       "      <td>229628</td>\n",
       "    </tr>\n",
       "    <tr>\n",
       "      <td>3</td>\n",
       "      <td>65089_episode1_timeseries.csv</td>\n",
       "      <td>0</td>\n",
       "      <td>263325</td>\n",
       "    </tr>\n",
       "    <tr>\n",
       "      <td>4</td>\n",
       "      <td>17882_episode4_timeseries.csv</td>\n",
       "      <td>0</td>\n",
       "      <td>269666</td>\n",
       "    </tr>\n",
       "  </tbody>\n",
       "</table>\n",
       "</div>"
      ],
      "text/plain": [
       "                            stay  y_true  ICUSTAY_ID\n",
       "0  91051_episode1_timeseries.csv       0      209804\n",
       "1  19208_episode2_timeseries.csv       0      208696\n",
       "2  41432_episode1_timeseries.csv       0      229628\n",
       "3  65089_episode1_timeseries.csv       0      263325\n",
       "4  17882_episode4_timeseries.csv       0      269666"
      ]
     },
     "execution_count": 18,
     "metadata": {},
     "output_type": "execute_result"
    }
   ],
   "source": [
    "cohorte_train_benchmark = pd.read_csv('/home/usuario/TFG/code/final_versiones_OASIS_mismoCohorteBenchmark/lengthOfStay/train/listfileLos3.csv')\n",
    "cohorte_train_benchmark.rename(columns={'icustayid': 'ICUSTAY_ID'}, inplace=True)\n",
    "print(cohorte_train_benchmark.shape)\n",
    "cohorte_train_benchmark.head()"
   ]
  },
  {
   "cell_type": "code",
   "execution_count": 19,
   "metadata": {},
   "outputs": [
    {
     "name": "stdout",
     "output_type": "stream",
     "text": [
      "(29846, 5)\n"
     ]
    },
    {
     "data": {
      "text/html": [
       "<div>\n",
       "<style scoped>\n",
       "    .dataframe tbody tr th:only-of-type {\n",
       "        vertical-align: middle;\n",
       "    }\n",
       "\n",
       "    .dataframe tbody tr th {\n",
       "        vertical-align: top;\n",
       "    }\n",
       "\n",
       "    .dataframe thead th {\n",
       "        text-align: right;\n",
       "    }\n",
       "</style>\n",
       "<table border=\"1\" class=\"dataframe\">\n",
       "  <thead>\n",
       "    <tr style=\"text-align: right;\">\n",
       "      <th></th>\n",
       "      <th>stay</th>\n",
       "      <th>y_true</th>\n",
       "      <th>ICUSTAY_ID</th>\n",
       "      <th>LOS</th>\n",
       "      <th>OASIS_NONAN</th>\n",
       "    </tr>\n",
       "  </thead>\n",
       "  <tbody>\n",
       "    <tr>\n",
       "      <td>0</td>\n",
       "      <td>91051_episode1_timeseries.csv</td>\n",
       "      <td>0</td>\n",
       "      <td>209804</td>\n",
       "      <td>0</td>\n",
       "      <td>20.0</td>\n",
       "    </tr>\n",
       "    <tr>\n",
       "      <td>1</td>\n",
       "      <td>19208_episode2_timeseries.csv</td>\n",
       "      <td>0</td>\n",
       "      <td>208696</td>\n",
       "      <td>0</td>\n",
       "      <td>30.0</td>\n",
       "    </tr>\n",
       "    <tr>\n",
       "      <td>2</td>\n",
       "      <td>41432_episode1_timeseries.csv</td>\n",
       "      <td>0</td>\n",
       "      <td>229628</td>\n",
       "      <td>0</td>\n",
       "      <td>30.0</td>\n",
       "    </tr>\n",
       "    <tr>\n",
       "      <td>3</td>\n",
       "      <td>65089_episode1_timeseries.csv</td>\n",
       "      <td>0</td>\n",
       "      <td>263325</td>\n",
       "      <td>0</td>\n",
       "      <td>44.0</td>\n",
       "    </tr>\n",
       "    <tr>\n",
       "      <td>4</td>\n",
       "      <td>17882_episode4_timeseries.csv</td>\n",
       "      <td>0</td>\n",
       "      <td>269666</td>\n",
       "      <td>0</td>\n",
       "      <td>24.0</td>\n",
       "    </tr>\n",
       "  </tbody>\n",
       "</table>\n",
       "</div>"
      ],
      "text/plain": [
       "                            stay  y_true  ICUSTAY_ID  LOS  OASIS_NONAN\n",
       "0  91051_episode1_timeseries.csv       0      209804    0         20.0\n",
       "1  19208_episode2_timeseries.csv       0      208696    0         30.0\n",
       "2  41432_episode1_timeseries.csv       0      229628    0         30.0\n",
       "3  65089_episode1_timeseries.csv       0      263325    0         44.0\n",
       "4  17882_episode4_timeseries.csv       0      269666    0         24.0"
      ]
     },
     "execution_count": 19,
     "metadata": {},
     "output_type": "execute_result"
    }
   ],
   "source": [
    "train_set=pd.merge(cohorte_train_benchmark, result_24_horas_nonnan, how='left', on=['ICUSTAY_ID'])\n",
    "print(train_set.shape)\n",
    "train_set.head()"
   ]
  },
  {
   "cell_type": "code",
   "execution_count": 20,
   "metadata": {},
   "outputs": [
    {
     "data": {
      "text/plain": [
       "stay           0\n",
       "y_true         0\n",
       "ICUSTAY_ID     0\n",
       "LOS            0\n",
       "OASIS_NONAN    0\n",
       "dtype: int64"
      ]
     },
     "execution_count": 20,
     "metadata": {},
     "output_type": "execute_result"
    }
   ],
   "source": [
    "train_set.isnull().sum()"
   ]
  },
  {
   "cell_type": "code",
   "execution_count": 21,
   "metadata": {},
   "outputs": [
    {
     "data": {
      "text/plain": [
       "(29846, 5)"
      ]
     },
     "execution_count": 21,
     "metadata": {},
     "output_type": "execute_result"
    }
   ],
   "source": [
    "train_set[train_set['y_true'] == train_set['LOS']].shape"
   ]
  },
  {
   "cell_type": "code",
   "execution_count": 22,
   "metadata": {},
   "outputs": [],
   "source": [
    "#Solo hace falta ejecutar esta linea una vez, que genera listfile para modelos con times_series\n",
    "train_set['ICUSTAY_ID'].to_csv('/home/usuario/TFG/code/final_versiones_OASIS_mismoCohorteBenchmark/lengthOfStay/train/listfile.csv', index=False,header='ICUSTAY_ID')"
   ]
  },
  {
   "cell_type": "code",
   "execution_count": null,
   "metadata": {},
   "outputs": [],
   "source": []
  },
  {
   "cell_type": "code",
   "execution_count": 23,
   "metadata": {},
   "outputs": [],
   "source": [
    "X_train=pd.DataFrame(train_set['OASIS_NONAN'])\n",
    "y_train=pd.DataFrame(train_set['LOS'])"
   ]
  },
  {
   "cell_type": "code",
   "execution_count": 24,
   "metadata": {},
   "outputs": [],
   "source": [
    "X = (pd.concat([X_train, X_test])).to_numpy() #para Cross Validation, usar el dataset completo\n",
    "y = (pd.concat([y_train, y_test])).to_numpy()"
   ]
  },
  {
   "cell_type": "code",
   "execution_count": 25,
   "metadata": {},
   "outputs": [],
   "source": [
    "scaler = StandardScaler()\n",
    "X_train = scaler.fit_transform(X_train)\n",
    "X_test = scaler.transform(X_test)"
   ]
  },
  {
   "cell_type": "code",
   "execution_count": 26,
   "metadata": {},
   "outputs": [
    {
     "data": {
      "text/plain": [
       "array([[-1.22720012],\n",
       "       [-0.22210936],\n",
       "       [-0.22210936],\n",
       "       ...,\n",
       "       [ 0.17992694],\n",
       "       [ 0.58196324],\n",
       "       [ 1.9890903 ]])"
      ]
     },
     "execution_count": 26,
     "metadata": {},
     "output_type": "execute_result"
    }
   ],
   "source": [
    "X_train\n"
   ]
  },
  {
   "cell_type": "code",
   "execution_count": 27,
   "metadata": {},
   "outputs": [
    {
     "data": {
      "text/plain": [
       "array([[-0.62414567],\n",
       "       [-0.52363659],\n",
       "       [-0.52363659],\n",
       "       ...,\n",
       "       [-1.22720012],\n",
       "       [ 0.17992694],\n",
       "       [-0.42312751]])"
      ]
     },
     "execution_count": 27,
     "metadata": {},
     "output_type": "execute_result"
    }
   ],
   "source": [
    "X_test"
   ]
  },
  {
   "cell_type": "code",
   "execution_count": null,
   "metadata": {},
   "outputs": [],
   "source": []
  },
  {
   "cell_type": "markdown",
   "metadata": {},
   "source": [
    "Random Forest same class weight"
   ]
  },
  {
   "cell_type": "code",
   "execution_count": 28,
   "metadata": {
    "colab": {
     "base_uri": "https://localhost:8080/"
    },
    "id": "Wha-PMPfeEEn",
    "outputId": "5ce47839-8bea-47bb-97da-f32e82c32dbe"
   },
   "outputs": [
    {
     "name": "stdout",
     "output_type": "stream",
     "text": [
      "Accuracy test: 65.0511\n",
      "Accuracy train: 64.9032\n"
     ]
    }
   ],
   "source": [
    "clf=RandomForestClassifier(n_estimators=10, random_state = 42)\n",
    "clf.fit(X_train,np.ravel(y_train))\n",
    "y_pred=clf.predict(X_test)\n",
    "test_ac=np.round(metrics.accuracy_score(y_test, y_pred)*100,4)\n",
    "train_ac=np.round(clf.score(X_train, y_train)*100,4)\n",
    "print(\"Accuracy test:\",test_ac)\n",
    "print(\"Accuracy train:\",train_ac)"
   ]
  },
  {
   "cell_type": "code",
   "execution_count": 29,
   "metadata": {},
   "outputs": [
    {
     "data": {
      "text/plain": [
       "array([[0.72525449, 0.27474551],\n",
       "       [0.70960555, 0.29039445],\n",
       "       [0.70960555, 0.29039445],\n",
       "       ...,\n",
       "       [0.79327636, 0.20672364],\n",
       "       [0.59381375, 0.40618625],\n",
       "       [0.68767047, 0.31232953]])"
      ]
     },
     "execution_count": 29,
     "metadata": {},
     "output_type": "execute_result"
    }
   ],
   "source": [
    "y_pred_probas=clf.predict_proba(X_test)\n",
    "y_pred_probas #probability of being [class 0, class 1]"
   ]
  },
  {
   "cell_type": "code",
   "execution_count": 30,
   "metadata": {},
   "outputs": [
    {
     "data": {
      "text/plain": [
       "array([0.27474551, 0.29039445, 0.29039445, ..., 0.20672364, 0.40618625,\n",
       "       0.31232953])"
      ]
     },
     "execution_count": 30,
     "metadata": {},
     "output_type": "execute_result"
    }
   ],
   "source": [
    "y_pred_probas[:, 1] #probability of being class 1(LOS>3)\n",
    "#Nota: usamos probabilities para calculo de auc_roc. Porque en el benchmark usa probabilities y además\n",
    "#el resultado de auc_roc varia si usa probilidad o valores enteros de 0/1."
   ]
  },
  {
   "cell_type": "code",
   "execution_count": 31,
   "metadata": {},
   "outputs": [
    {
     "name": "stdout",
     "output_type": "stream",
     "text": [
      "AUC-ROC:  0.6590811326344301\n",
      "AUC-PR:  0.5435824269359687\n"
     ]
    }
   ],
   "source": [
    "auroc = metrics.roc_auc_score(y_test, y_pred_probas[:, 1])\n",
    "print(\"AUC-ROC: \", auroc)\n",
    "(precisions, recalls, thresholds) = metrics.precision_recall_curve(y_test, y_pred_probas[:, 1])\n",
    "auprc = metrics.auc(recalls, precisions)\n",
    "print(\"AUC-PR: \", auprc)\n"
   ]
  },
  {
   "cell_type": "code",
   "execution_count": 32,
   "metadata": {
    "colab": {
     "base_uri": "https://localhost:8080/"
    },
    "id": "7YikaWN3LOfo",
    "outputId": "5f219eb4-eccc-4944-c363-144e74faa8d1"
   },
   "outputs": [
    {
     "name": "stdout",
     "output_type": "stream",
     "text": [
      "[[2824  416]\n",
      " [1430  612]]\n"
     ]
    }
   ],
   "source": [
    "confusionMatrix = confusion_matrix(y_test, y_pred)\n",
    "print(confusionMatrix)\n"
   ]
  },
  {
   "cell_type": "markdown",
   "metadata": {},
   "source": [
    "Mirando confusion matrix, ahora estan mas balanceado, el accuracy bajo."
   ]
  },
  {
   "cell_type": "code",
   "execution_count": 33,
   "metadata": {
    "id": "mPrqHnpaLOfs"
   },
   "outputs": [],
   "source": [
    "cm = metrics.confusion_matrix(y_test, y_pred)\n",
    "score = np.round(clf.score(X_test, y_test)*100,4)"
   ]
  },
  {
   "cell_type": "code",
   "execution_count": 34,
   "metadata": {
    "colab": {
     "base_uri": "https://localhost:8080/",
     "height": 362
    },
    "id": "GngccYH5LOfs",
    "outputId": "315fd52d-7806-4a03-fd8b-2c962042db07"
   },
   "outputs": [
    {
     "data": {
      "image/png": "[encoded data removed]",
      "text/plain": [
       "<Figure size 432x432 with 2 Axes>"
      ]
     },
     "metadata": {
      "needs_background": "light"
     },
     "output_type": "display_data"
    }
   ],
   "source": [
    "plt.figure(figsize=(6,6))\n",
    "sns.heatmap(cm, annot=True, fmt=\".3f\", linewidths=.5, square = True, cmap = 'Blues_r');\n",
    "plt.ylabel('Actual label');\n",
    "plt.xlabel('Predicted label');\n",
    "all_sample_title = 'Accuracy Score: {0}'.format(score)\n",
    "plt.title(all_sample_title, size = 15)\n",
    "plt.show()"
   ]
  },
  {
   "cell_type": "code",
   "execution_count": 35,
   "metadata": {
    "colab": {
     "base_uri": "https://localhost:8080/",
     "height": 362
    },
    "id": "UAmU2DrCLOft",
    "outputId": "4239e8ee-82b4-460c-c219-065fda24272e"
   },
   "outputs": [
    {
     "data": {
      "image/png": "[encoded data removed]",
      "text/plain": [
       "<Figure size 432x432 with 2 Axes>"
      ]
     },
     "metadata": {
      "needs_background": "light"
     },
     "output_type": "display_data"
    }
   ],
   "source": [
    "cm = cm.astype('float') / cm.sum(axis=1)[:, np.newaxis]\n",
    "plt.figure(figsize=(6,6))\n",
    "sns.heatmap(cm, annot=True, fmt=\".3f\", linewidths=.5, square = True, cmap = 'Blues_r');\n",
    "plt.ylabel('Actual label');\n",
    "plt.xlabel('Predicted label');\n",
    "all_sample_title = 'Accuracy Score: {0}'.format(score)\n",
    "plt.title(all_sample_title, size = 15)\n",
    "plt.show()"
   ]
  },
  {
   "cell_type": "code",
   "execution_count": 36,
   "metadata": {},
   "outputs": [],
   "source": [
    "#Manteniendo random_state = 42 hara que mantenga mismos split_train_test."
   ]
  },
  {
   "cell_type": "code",
   "execution_count": 37,
   "metadata": {},
   "outputs": [],
   "source": [
    "#Manera 1: To plot curves: #TODO: revisar\n",
    "#scaler = StandardScaler()\n",
    "#RF_clf=RandomForestClassifier(n_estimators=10, random_state = 42)\n",
    "#cv_RF = make_pipeline(scaler, RF_clf)\n",
    "# Create k-Fold cross-validation\n",
    "#kf = KFold(n_splits=5, shuffle=True, random_state=42)\n",
    "#cv_RF_predicted = cross_val_predict(cv_RF, X,np.ravel(y),cv=kf, method='predict_proba')\n",
    "#cv_RF_predicted1 = cross_val_predict(cv_RF, X,np.ravel(y), cv=kf)\n",
    "#acc_RF=np.round(metrics.accuracy_score(np.ravel(y), cv_RF_predicted1)*100,4)"
   ]
  },
  {
   "cell_type": "code",
   "execution_count": 38,
   "metadata": {},
   "outputs": [],
   "source": [
    "#manera 2\n",
    "#https://amirhessam88.github.io/roc-vs-pr/\n",
    "\n",
    "def customCrossValidationMetrics(classifier,X, y):\n",
    "    scaler = StandardScaler()\n",
    "    cv = KFold(n_splits=5, shuffle=True, random_state=42)\n",
    "    #ejemplo classifier=RandomForestClassifier(n_estimators=10, random_state = 42)\n",
    "    aucprs = []\n",
    "    aucrocs = []\n",
    "    accuracies = []\n",
    "\n",
    "    for train, test in cv.split(X, y): #train and test are indexes\n",
    "        X_train_tranformed = scaler.fit_transform(X[train])\n",
    "        X_test_tranformed = scaler.transform(X[test])\n",
    "        probas_ = classifier.fit(X_train_tranformed, np.ravel(y[train])).predict_proba(X_test_tranformed)\n",
    "        # Compute PR curve and area the curve\n",
    "        precision, recall, thresholds = metrics.precision_recall_curve(y[test], probas_[:, 1])\n",
    "        pr_auc =  np.round(metrics.auc(recall, precision), 6)\n",
    "        aucprs.append(pr_auc)\n",
    "        auroc =  np.round(metrics.roc_auc_score(y[test],probas_[:, 1]),6)\n",
    "        aucrocs.append(auroc)\n",
    "\n",
    "        y_pred_binary=classifier.predict(X_test_tranformed)\n",
    "        acc = np.round(metrics.accuracy_score(y[test],y_pred_binary)*100,4)\n",
    "        accuracies.append(acc)\n",
    "\n",
    "    print ('aucpr scores:', aucprs)\n",
    "    print(\"%0.4f mean aucpr with a standard deviation of %0.4f\" % (np.mean(aucprs), np.std(aucprs)))\n",
    "\n",
    "    print ('aucroc scores:', aucrocs)\n",
    "    print(\"%0.4f mean aucroc with a standard deviation of %0.4f\" % (np.mean(aucrocs), np.std(aucrocs)))\n",
    "\n",
    "    print ('accuracy scores:', accuracies)\n",
    "    print(\"%0.4f mean accuracy with a standard deviation of %0.4f\" % (np.mean(accuracies), np.std(accuracies)))\n",
    "    \n",
    "    return aucprs, aucrocs, accuracies\n"
   ]
  },
  {
   "cell_type": "code",
   "execution_count": 39,
   "metadata": {},
   "outputs": [
    {
     "name": "stdout",
     "output_type": "stream",
     "text": [
      "aucpr scores: [0.521526, 0.535587, 0.536623, 0.544644, 0.52562]\n",
      "0.5328 mean aucpr with a standard deviation of 0.0083\n",
      "aucroc scores: [0.655988, 0.659277, 0.651154, 0.676124, 0.656375]\n",
      "0.6598 mean aucroc with a standard deviation of 0.0086\n",
      "accuracy scores: [64.4179, 64.6741, 64.3467, 65.1957, 65.5231]\n",
      "64.8315 mean accuracy with a standard deviation of 0.4565\n"
     ]
    }
   ],
   "source": [
    "classifier=RandomForestClassifier(n_estimators=10, random_state = 42)\n",
    "aucprs_RF, aucrocs_RF, accuracies_RF = customCrossValidationMetrics(classifier, X, y)"
   ]
  },
  {
   "cell_type": "code",
   "execution_count": null,
   "metadata": {},
   "outputs": [],
   "source": []
  },
  {
   "cell_type": "markdown",
   "metadata": {},
   "source": [
    "Random Forest different class weight"
   ]
  },
  {
   "cell_type": "code",
   "execution_count": 40,
   "metadata": {},
   "outputs": [
    {
     "name": "stdout",
     "output_type": "stream",
     "text": [
      "Accuracy test: 61.5676\n",
      "Accuracy train: 61.9916\n"
     ]
    }
   ],
   "source": [
    "clf=RandomForestClassifier(n_estimators=10, random_state = 42,class_weight='balanced')\n",
    "clf.fit(X_train,np.ravel(y_train))\n",
    "y_pred=clf.predict(X_test)\n",
    "test_ac=np.round(metrics.accuracy_score(y_test, y_pred)*100,4)\n",
    "train_ac=np.round(clf.score(X_train, y_train)*100,4)\n",
    "print(\"Accuracy test:\",test_ac)\n",
    "print(\"Accuracy train:\",train_ac)"
   ]
  },
  {
   "cell_type": "code",
   "execution_count": 41,
   "metadata": {},
   "outputs": [
    {
     "name": "stdout",
     "output_type": "stream",
     "text": [
      "AUC-ROC:  0.6590933755335486\n",
      "AUC-PR:  0.5435136643102615\n"
     ]
    }
   ],
   "source": [
    "y_pred_probas=clf.predict_proba(X_test)\n",
    "auroc = metrics.roc_auc_score(y_test,  y_pred_probas[:, 1])\n",
    "print(\"AUC-ROC: \", auroc)\n",
    "(precisions, recalls, thresholds) = metrics.precision_recall_curve(y_test,  y_pred_probas[:, 1]) #same as benchmark\n",
    "auprc = metrics.auc(recalls, precisions)\n",
    "print(\"AUC-PR: \", auprc)\n"
   ]
  },
  {
   "cell_type": "code",
   "execution_count": 42,
   "metadata": {},
   "outputs": [
    {
     "name": "stdout",
     "output_type": "stream",
     "text": [
      "[[1990 1250]\n",
      " [ 780 1262]]\n"
     ]
    }
   ],
   "source": [
    "confusionMatrix = confusion_matrix(y_test, y_pred)\n",
    "print(confusionMatrix)\n"
   ]
  },
  {
   "cell_type": "code",
   "execution_count": 43,
   "metadata": {},
   "outputs": [],
   "source": [
    "cm = metrics.confusion_matrix(y_test, y_pred)\n",
    "score = np.round(clf.score(X_test, y_test)*100,4)"
   ]
  },
  {
   "cell_type": "code",
   "execution_count": 44,
   "metadata": {},
   "outputs": [
    {
     "data": {
      "image/png": "[encoded data removed]",
      "text/plain": [
       "<Figure size 432x432 with 2 Axes>"
      ]
     },
     "metadata": {
      "needs_background": "light"
     },
     "output_type": "display_data"
    }
   ],
   "source": [
    "plt.figure(figsize=(6,6))\n",
    "sns.heatmap(cm, annot=True, fmt=\".3f\", linewidths=.5, square = True, cmap = 'Blues_r');\n",
    "plt.ylabel('Actual label');\n",
    "plt.xlabel('Predicted label');\n",
    "all_sample_title = 'Accuracy Score: {0}'.format(score)\n",
    "plt.title(all_sample_title, size = 15)\n",
    "plt.show()"
   ]
  },
  {
   "cell_type": "code",
   "execution_count": 45,
   "metadata": {},
   "outputs": [
    {
     "data": {
      "image/png": "[encoded data removed]",
      "text/plain": [
       "<Figure size 432x432 with 2 Axes>"
      ]
     },
     "metadata": {
      "needs_background": "light"
     },
     "output_type": "display_data"
    }
   ],
   "source": [
    "cm = cm.astype('float') / cm.sum(axis=1)[:, np.newaxis]\n",
    "plt.figure(figsize=(6,6))\n",
    "sns.heatmap(cm, annot=True, fmt=\".3f\", linewidths=.5, square = True, cmap = 'Blues_r');\n",
    "plt.ylabel('Actual label');\n",
    "plt.xlabel('Predicted label');\n",
    "all_sample_title = 'Accuracy Score: {0}'.format(score)\n",
    "plt.title(all_sample_title, size = 15)\n",
    "plt.show()"
   ]
  },
  {
   "cell_type": "code",
   "execution_count": 46,
   "metadata": {},
   "outputs": [],
   "source": [
    "#Manera 2: To plot curves:\n",
    "scaler = StandardScaler()\n",
    "RF_clf_weighted=RandomForestClassifier(n_estimators=10, random_state = 42, class_weight='balanced')\n",
    "cv_RF_weighted = make_pipeline(scaler, RF_clf_weighted)\n",
    "# Create k-Fold cross-validation\n",
    "kf = KFold(n_splits=5, shuffle=True, random_state=42)\n",
    "cv_RF_weighted_predicted = cross_val_predict(cv_RF_weighted, X,np.ravel(y),cv=kf, method='predict_proba')\n",
    "cv_RF_weighted_predicted1 = cross_val_predict(cv_RF_weighted, X,np.ravel(y), cv=kf)\n",
    "acc_RF_weighted=np.round(metrics.accuracy_score(np.ravel(y), cv_RF_weighted_predicted1)*100,4)"
   ]
  },
  {
   "cell_type": "code",
   "execution_count": 47,
   "metadata": {},
   "outputs": [
    {
     "name": "stdout",
     "output_type": "stream",
     "text": [
      "aucpr scores: [0.521514, 0.535737, 0.5371, 0.544586, 0.525744]\n",
      "0.5329 mean aucpr with a standard deviation of 0.0083\n",
      "aucroc scores: [0.655946, 0.659265, 0.651133, 0.676104, 0.656384]\n",
      "0.6598 mean aucroc with a standard deviation of 0.0086\n",
      "accuracy scores: [61.187, 62.9661, 62.2118, 63.5018, 62.2918]\n",
      "62.4317 mean accuracy with a standard deviation of 0.7808\n"
     ]
    }
   ],
   "source": [
    "classifier=RandomForestClassifier(n_estimators=10, random_state = 42, class_weight='balanced')\n",
    "aucprs_RF_weighted, aucrocs_RF_weighted, accuracies_RF_weighted = customCrossValidationMetrics(classifier, X, y)"
   ]
  },
  {
   "cell_type": "markdown",
   "metadata": {},
   "source": [
    "Logistic Regression same class weight"
   ]
  },
  {
   "cell_type": "code",
   "execution_count": 48,
   "metadata": {},
   "outputs": [
    {
     "name": "stdout",
     "output_type": "stream",
     "text": [
      "Accuracy of logistic regression classifier on train set: 64.7691\n",
      "Accuracy of logistic regression classifier on test set: 65.089\n"
     ]
    }
   ],
   "source": [
    "logreg = LogisticRegression()\n",
    "logreg.fit(X_train, np.ravel(y_train))\n",
    "y_pred = logreg.predict(X_test)\n",
    "actr=np.round(100*logreg.score(X_train, y_train),4)\n",
    "acte=np.round(100*logreg.score(X_test, y_test),4)\n",
    "print('Accuracy of logistic regression classifier on train set:', actr)\n",
    "print('Accuracy of logistic regression classifier on test set:', acte)\n"
   ]
  },
  {
   "cell_type": "code",
   "execution_count": 49,
   "metadata": {},
   "outputs": [
    {
     "name": "stdout",
     "output_type": "stream",
     "text": [
      "AUC-ROC:  0.6565577350938926\n",
      "AUC-PR:  0.5367460527554307\n"
     ]
    }
   ],
   "source": [
    "y_pred_probas=logreg.predict_proba(X_test)\n",
    "auroc = metrics.roc_auc_score(y_test,  y_pred_probas[:, 1])\n",
    "print(\"AUC-ROC: \", auroc)\n",
    "(precisions, recalls, thresholds) = metrics.precision_recall_curve(y_test,  y_pred_probas[:, 1])\n",
    "auprc = metrics.auc(recalls, precisions)\n",
    "print(\"AUC-PR: \", auprc)\n"
   ]
  },
  {
   "cell_type": "code",
   "execution_count": 50,
   "metadata": {},
   "outputs": [
    {
     "name": "stdout",
     "output_type": "stream",
     "text": [
      "[[2881  359]\n",
      " [1485  557]]\n"
     ]
    }
   ],
   "source": [
    "confusionMatrix = confusion_matrix(y_test, y_pred)\n",
    "print(confusionMatrix)"
   ]
  },
  {
   "cell_type": "code",
   "execution_count": 51,
   "metadata": {},
   "outputs": [
    {
     "name": "stdout",
     "output_type": "stream",
     "text": [
      "              precision    recall  f1-score   support\n",
      "\n",
      "           0       0.66      0.89      0.76      3240\n",
      "           1       0.61      0.27      0.38      2042\n",
      "\n",
      "    accuracy                           0.65      5282\n",
      "   macro avg       0.63      0.58      0.57      5282\n",
      "weighted avg       0.64      0.65      0.61      5282\n",
      "\n"
     ]
    }
   ],
   "source": [
    "print(classification_report(y_test, y_pred))"
   ]
  },
  {
   "cell_type": "code",
   "execution_count": 52,
   "metadata": {},
   "outputs": [],
   "source": [
    "#Manera 2: To plot curves:\n",
    "scaler = StandardScaler()\n",
    "LR_clf=LogisticRegression()\n",
    "cv_LR = make_pipeline(scaler, LR_clf)\n",
    "# Create k-Fold cross-validation\n",
    "kf = KFold(n_splits=5, shuffle=True, random_state=42)\n",
    "cv_LR_predicted = cross_val_predict(cv_LR, X,np.ravel(y),cv=kf, method='predict_proba')\n",
    "cv_LR_predicted1 = cross_val_predict(cv_LR, X,np.ravel(y), cv=kf)\n",
    "acc_LR=np.round(metrics.accuracy_score(np.ravel(y), cv_LR_predicted1)*100,4)"
   ]
  },
  {
   "cell_type": "code",
   "execution_count": 53,
   "metadata": {},
   "outputs": [
    {
     "name": "stdout",
     "output_type": "stream",
     "text": [
      "aucpr scores: [0.524477, 0.533812, 0.537692, 0.541745, 0.518267]\n",
      "0.5312 mean aucpr with a standard deviation of 0.0086\n",
      "aucroc scores: [0.654307, 0.657058, 0.649132, 0.669332, 0.655926]\n",
      "0.6572 mean aucroc with a standard deviation of 0.0067\n",
      "accuracy scores: [64.8449, 64.5602, 64.2186, 65.1103, 65.3808]\n",
      "64.8230 mean accuracy with a standard deviation of 0.4071\n"
     ]
    }
   ],
   "source": [
    "classifier=LogisticRegression()\n",
    "aucprs_LR, aucrocs_LR, accuracies_LR = customCrossValidationMetrics(classifier, X,y)"
   ]
  },
  {
   "cell_type": "code",
   "execution_count": null,
   "metadata": {},
   "outputs": [],
   "source": []
  },
  {
   "cell_type": "markdown",
   "metadata": {},
   "source": [
    "Logistic Regression different class weight"
   ]
  },
  {
   "cell_type": "code",
   "execution_count": 54,
   "metadata": {},
   "outputs": [
    {
     "name": "stdout",
     "output_type": "stream",
     "text": [
      "Accuracy of logistic regression classifier on train set: 62.0653\n",
      "Accuracy of logistic regression classifier on test set: 61.719\n"
     ]
    }
   ],
   "source": [
    "logreg = LogisticRegression(class_weight='balanced')\n",
    "logreg.fit(X_train, np.ravel(y_train))\n",
    "y_pred = logreg.predict(X_test)\n",
    "actr=np.round(100*logreg.score(X_train, y_train),4)\n",
    "acte=np.round(100*logreg.score(X_test, y_test),4)\n",
    "print('Accuracy of logistic regression classifier on train set:', actr)\n",
    "print('Accuracy of logistic regression classifier on test set:', acte)"
   ]
  },
  {
   "cell_type": "code",
   "execution_count": 55,
   "metadata": {},
   "outputs": [
    {
     "name": "stdout",
     "output_type": "stream",
     "text": [
      "AUC-ROC:  0.6565577350938926\n",
      "AUC-PR:  0.5367460527554307\n"
     ]
    }
   ],
   "source": [
    "y_pred_probas=logreg.predict_proba(X_test)\n",
    "auroc = metrics.roc_auc_score(y_test, y_pred_probas[:, 1])\n",
    "print(\"AUC-ROC: \", auroc)\n",
    "(precisions, recalls, thresholds) = metrics.precision_recall_curve(y_test, y_pred_probas[:, 1])\n",
    "auprc = metrics.auc(recalls, precisions)\n",
    "print(\"AUC-PR: \", auprc)\n"
   ]
  },
  {
   "cell_type": "code",
   "execution_count": 56,
   "metadata": {},
   "outputs": [
    {
     "name": "stdout",
     "output_type": "stream",
     "text": [
      "[[2020 1220]\n",
      " [ 802 1240]]\n"
     ]
    }
   ],
   "source": [
    "confusionMatrix = confusion_matrix(y_test, y_pred)\n",
    "print(confusionMatrix)"
   ]
  },
  {
   "cell_type": "code",
   "execution_count": 57,
   "metadata": {},
   "outputs": [
    {
     "name": "stdout",
     "output_type": "stream",
     "text": [
      "              precision    recall  f1-score   support\n",
      "\n",
      "           0       0.72      0.62      0.67      3240\n",
      "           1       0.50      0.61      0.55      2042\n",
      "\n",
      "    accuracy                           0.62      5282\n",
      "   macro avg       0.61      0.62      0.61      5282\n",
      "weighted avg       0.63      0.62      0.62      5282\n",
      "\n"
     ]
    }
   ],
   "source": [
    "print(classification_report(y_test, y_pred))"
   ]
  },
  {
   "cell_type": "code",
   "execution_count": 58,
   "metadata": {},
   "outputs": [],
   "source": [
    "#Manera 2: To plot curves:\n",
    "scaler = StandardScaler()\n",
    "LR_clf_weighted=LogisticRegression(class_weight='balanced')\n",
    "cv_LR_weighted = make_pipeline(scaler, LR_clf_weighted)\n",
    "# Create k-Fold cross-validation\n",
    "kf = KFold(n_splits=5, shuffle=True, random_state=42)\n",
    "cv_LR_weighted_predicted = cross_val_predict(cv_LR_weighted, X,np.ravel(y),cv=kf, method='predict_proba')\n",
    "cv_LR_weighted_predicted1 = cross_val_predict(cv_LR_weighted, X,np.ravel(y), cv=kf)\n",
    "acc_LR_weighted=np.round(metrics.accuracy_score(np.ravel(y), cv_LR_weighted_predicted1)*100,4)"
   ]
  },
  {
   "cell_type": "code",
   "execution_count": 59,
   "metadata": {},
   "outputs": [
    {
     "name": "stdout",
     "output_type": "stream",
     "text": [
      "aucpr scores: [0.524477, 0.533812, 0.537692, 0.541745, 0.518267]\n",
      "0.5312 mean aucpr with a standard deviation of 0.0086\n",
      "aucroc scores: [0.654307, 0.657058, 0.649132, 0.669332, 0.655926]\n",
      "0.6572 mean aucroc with a standard deviation of 0.0067\n",
      "accuracy scores: [61.3151, 62.1406, 61.5998, 63.4306, 61.5801]\n",
      "62.0132 mean accuracy with a standard deviation of 0.7578\n"
     ]
    }
   ],
   "source": [
    "classifier=LogisticRegression(class_weight='balanced')\n",
    "aucprs_LR_weighted, aucrocs_LR_weighted, accuracies_LR_weighted = customCrossValidationMetrics(classifier, X,y)"
   ]
  },
  {
   "cell_type": "markdown",
   "metadata": {},
   "source": [
    "Plot ROC and PR curves"
   ]
  },
  {
   "cell_type": "code",
   "execution_count": 60,
   "metadata": {},
   "outputs": [
    {
     "name": "stderr",
     "output_type": "stream",
     "text": [
      "The PostScript backend does not support transparency; partially transparent artists will be rendered opaque.\n",
      "The PostScript backend does not support transparency; partially transparent artists will be rendered opaque.\n",
      "The PostScript backend does not support transparency; partially transparent artists will be rendered opaque.\n",
      "The PostScript backend does not support transparency; partially transparent artists will be rendered opaque.\n"
     ]
    },
    {
     "data": {
      "image/png": "[encoded data removed]",
      "text/plain": [
       "<Figure size 1080x576 with 2 Axes>"
      ]
     },
     "metadata": {
      "needs_background": "light"
     },
     "output_type": "display_data"
    }
   ],
   "source": [
    "from sklearn.metrics import classification_report,confusion_matrix,auc,precision_recall_curve\n",
    "from sklearn.metrics import roc_auc_score\n",
    "from sklearn.metrics import roc_curve\n",
    "fig = plt.figure(figsize=(15,8))\n",
    "ax1 = fig.add_subplot(1,2,1)\n",
    "ax1.set_xlim([-0.025,1])\n",
    "ax1.set_ylim([0,1.025])\n",
    "ax1.set_xlabel('Recall')\n",
    "ax1.set_ylabel('Precision')\n",
    "ax1.set_title('PR Curve')\n",
    "\n",
    "ax2 = fig.add_subplot(1,2,2)\n",
    "ax2.plot([0, 1], [0, 1], color='navy', linestyle='--')\n",
    "ax2.set_xlim([-0.025,1])\n",
    "ax2.set_ylim([0,1.025])\n",
    "ax2.set_xlabel('False Positive Rate')\n",
    "ax2.set_ylabel('True Positive Rate')\n",
    "ax2.set_title('ROC Curve')\n",
    "\n",
    "    \n",
    "y_pred_proba=cv_RF_predicted[::,1]\n",
    "fpr, tpr, _ = metrics.roc_curve(y,  y_pred_proba)\n",
    "p,r,_ = precision_recall_curve(y,y_pred_proba)\n",
    "auc = np.round(metrics.roc_auc_score(y, y_pred_proba),6)\n",
    "ax2.plot(fpr,tpr,label=\"RF, AUC=\"+str(auc)+\", AC=\"+str(acc_RF),color='black')\n",
    "ax1.plot(r,p,label='RF',color='black')\n",
    "\n",
    "\n",
    "y_pred_proba=cv_RF_weighted_predicted[::,1]\n",
    "fpr, tpr, _ = metrics.roc_curve(y,  y_pred_proba)\n",
    "p,r,_ = precision_recall_curve(y,y_pred_proba)\n",
    "auc = np.round(metrics.roc_auc_score(y, y_pred_proba),6)\n",
    "ax2.plot(fpr,tpr,label=\"RF_weighted, AUC=\"+str(auc)+\", AC=\"+str(acc_RF_weighted),color='darkorange')\n",
    "ax1.plot(r,p,label='RF_weighted',color='darkorange')\n",
    "    \n",
    "y_pred_proba=cv_LR_predicted[::,1]\n",
    "fpr, tpr, _ = metrics.roc_curve(y,  y_pred_proba)\n",
    "p,r,_ = precision_recall_curve(y,y_pred_proba)\n",
    "auc = np.round(metrics.roc_auc_score(y, y_pred_proba),6)\n",
    "ax2.plot(fpr,tpr,label=\"LR, AUC=\"+str(auc)+\", AC=\"+str(acc_LR),color='yellow')\n",
    "ax1.plot(r,p,label='LR',color='yellow')\n",
    "\n",
    "\n",
    "y_pred_proba=cv_LR_weighted_predicted[::,1]\n",
    "fpr, tpr, _ = metrics.roc_curve(y, y_pred_proba)\n",
    "p,r,_ = precision_recall_curve(y,y_pred_proba)\n",
    "auc = np.round(metrics.roc_auc_score(y, y_pred_proba),6)\n",
    "ax2.plot(fpr,tpr,label=\"LR_weighted, AUC=\"+str(auc)+\", AC=\"+str(acc_LR_weighted),color='red')\n",
    "ax1.plot(r,p,label='LR_weighted',color='red')\n",
    "\n",
    "ax1.legend(loc='lower right')    \n",
    "ax2.legend(loc='lower right')\n",
    "plt.savefig('OASIS_3daysLOS.eps', format='eps', dpi=1200)\n",
    "plt.show()\n"
   ]
  },
  {
   "cell_type": "code",
   "execution_count": null,
   "metadata": {},
   "outputs": [],
   "source": []
  },
  {
   "cell_type": "markdown",
   "metadata": {},
   "source": [
    "Compare Statistical Significance Tests for Comparing Machine Learning Algorithms\n",
    "(4 models)\n",
    "\n",
    "https://stackoverflow.com/questions/54498235/compare-whether-the-difference-between-performance-accuracy-of-2-ml-models-is-st"
   ]
  },
  {
   "cell_type": "code",
   "execution_count": 61,
   "metadata": {},
   "outputs": [
    {
     "name": "stdout",
     "output_type": "stream",
     "text": [
      "RF vs RF_weighted:  Ttest_relResult(statistic=2.092897305035188, pvalue=0.10448806541146728)\n",
      "RF_weighted vs LR:  Ttest_relResult(statistic=2.4164240687870358, pvalue=0.07304505841565287)\n",
      "LR vs LR_weighted:  Ttest_relResult(statistic=nan, pvalue=nan)\n",
      "LR_weighted vs RF:  Ttest_relResult(statistic=-2.4277179550852632, pvalue=0.07215859977929993)\n",
      "LR_weighted vs RF_weighted:  Ttest_relResult(statistic=-2.4164240687870358, pvalue=0.07304505841565287)\n",
      "LR vs RF:  Ttest_relResult(statistic=-2.4277179550852632, pvalue=0.07215859977929993)\n"
     ]
    }
   ],
   "source": [
    "print('RF vs RF_weighted: ', stats.ttest_rel(aucrocs_RF,aucrocs_RF_weighted))\n",
    "print('RF_weighted vs LR: ', stats.ttest_rel(aucrocs_RF_weighted,aucrocs_LR))\n",
    "print('LR vs LR_weighted: ', stats.ttest_rel(aucrocs_LR,aucrocs_LR_weighted))\n",
    "print('LR_weighted vs RF: ', stats.ttest_rel(aucrocs_LR_weighted,aucrocs_RF))\n",
    "print('LR_weighted vs RF_weighted: ', stats.ttest_rel(aucrocs_LR_weighted,aucrocs_RF_weighted))\n",
    "print('LR vs RF: ', stats.ttest_rel(aucrocs_LR,aucrocs_RF))\n",
    "#si p_value < 0.05, modelos tienen diferencias estadisticamente significativas   "
   ]
  },
  {
   "cell_type": "code",
   "execution_count": null,
   "metadata": {},
   "outputs": [],
   "source": []
  },
  {
   "cell_type": "code",
   "execution_count": 62,
   "metadata": {},
   "outputs": [
    {
     "name": "stdout",
     "output_type": "stream",
     "text": [
      "RF vs RF_weighted:  Ttest_relResult(statistic=-1.4512340796226653, pvalue=0.22034117292231667)\n",
      "RF_weighted vs LR:  Ttest_relResult(statistic=0.9891585821335477, pvalue=0.3785807252871808)\n",
      "LR vs LR_weighted:  Ttest_relResult(statistic=nan, pvalue=nan)\n",
      "LR_weighted vs RF:  Ttest_relResult(statistic=-0.904802174174101, pvalue=0.4167392572774711)\n",
      "LR_weighted vs RF_weighted:  Ttest_relResult(statistic=-0.9891585821335477, pvalue=0.3785807252871808)\n",
      "LR vs RF:  Ttest_relResult(statistic=-0.904802174174101, pvalue=0.4167392572774711)\n"
     ]
    }
   ],
   "source": [
    "print('RF vs RF_weighted: ', stats.ttest_rel(aucprs_RF,aucprs_RF_weighted))\n",
    "print('RF_weighted vs LR: ', stats.ttest_rel(aucprs_RF_weighted,aucprs_LR))\n",
    "print('LR vs LR_weighted: ', stats.ttest_rel(aucprs_LR,aucprs_LR_weighted))\n",
    "print('LR_weighted vs RF: ', stats.ttest_rel(aucprs_LR_weighted,aucprs_RF))\n",
    "print('LR_weighted vs RF_weighted: ', stats.ttest_rel(aucprs_LR_weighted,aucprs_RF_weighted))\n",
    "print('LR vs RF: ', stats.ttest_rel(aucprs_LR,aucprs_RF))\n"
   ]
  },
  {
   "cell_type": "code",
   "execution_count": null,
   "metadata": {},
   "outputs": [],
   "source": []
  },
  {
   "cell_type": "markdown",
   "metadata": {},
   "source": [
    "Conclusión: Las diferencias de performance entre modelos no son estadísticamente significativas. "
   ]
  }
 ],
 "metadata": {
  "colab": {
   "collapsed_sections": [],
   "name": "enviadoaprofe.ipynb",
   "provenance": []
  },
  "kernelspec": {
   "display_name": "Python 3",
   "language": "python",
   "name": "python3"
  },
  "language_info": {
   "codemirror_mode": {
    "name": "ipython",
    "version": 3
   },
   "file_extension": ".py",
   "mimetype": "text/x-python",
   "name": "python",
   "nbconvert_exporter": "python",
   "pygments_lexer": "ipython3",
   "version": "3.6.9"
  }
 },
 "nbformat": 4,
 "nbformat_minor": 1
}
