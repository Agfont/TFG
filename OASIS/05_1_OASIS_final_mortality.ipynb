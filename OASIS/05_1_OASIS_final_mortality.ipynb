{
 "cells": [
  {
   "cell_type": "markdown",
   "metadata": {},
   "source": [
    "### En este notebook se entrenan diferentes modelos predictivos usando la puntuación OASIS para predecir la mortalidad hospitalaria. Luego se evalua el rendimiento de los modelos con ACC, AUC-ROC, AUC-PR, confusion matrix....\n",
    "\n",
    "Obs. Ejecute primero '03calculateOASIS.ipynb' para obtener 'result_24_horas_final.csv'"
   ]
  },
  {
   "cell_type": "code",
   "execution_count": 1,
   "metadata": {
    "id": "Fu-sdl9qh_1c"
   },
   "outputs": [],
   "source": [
    "import pandas as pd\n",
    "import numpy as np\n",
    "import matplotlib.pyplot as plt\n",
    "import matplotlib\n",
    "import pylab\n",
    "import sqlite3\n",
    "import seaborn as sns\n",
    "import os\n",
    "import csv\n",
    "from sklearn.preprocessing import StandardScaler\n",
    "from sklearn.ensemble import RandomForestClassifier\n",
    "from sklearn.model_selection import KFold, cross_val_score\n",
    "from sklearn import metrics\n",
    "from sklearn.metrics import confusion_matrix\n",
    "from sklearn.model_selection import cross_val_predict\n",
    "from sklearn.metrics import classification_report\n",
    "from sklearn.pipeline import make_pipeline\n",
    "from sklearn.linear_model import LogisticRegression\n",
    "from sklearn.model_selection import train_test_split\n",
    "\n",
    "matplotlib.style.use('ggplot')"
   ]
  },
  {
   "cell_type": "code",
   "execution_count": 2,
   "metadata": {
    "colab": {
     "base_uri": "https://localhost:8080/",
     "height": 241
    },
    "id": "bCKcyWu-tJa1",
    "outputId": "67d3751c-4d03-4d92-ecc4-fd18ae222ed6"
   },
   "outputs": [
    {
     "name": "stdout",
     "output_type": "stream",
     "text": [
      "(46520, 8)\n",
      "unique SUBJECT_ID: 46520\n"
     ]
    },
    {
     "data": {
      "text/html": [
       "<div>\n",
       "<style scoped>\n",
       "    .dataframe tbody tr th:only-of-type {\n",
       "        vertical-align: middle;\n",
       "    }\n",
       "\n",
       "    .dataframe tbody tr th {\n",
       "        vertical-align: top;\n",
       "    }\n",
       "\n",
       "    .dataframe thead th {\n",
       "        text-align: right;\n",
       "    }\n",
       "</style>\n",
       "<table border=\"1\" class=\"dataframe\">\n",
       "  <thead>\n",
       "    <tr style=\"text-align: right;\">\n",
       "      <th></th>\n",
       "      <th>ROW_ID</th>\n",
       "      <th>SUBJECT_ID</th>\n",
       "      <th>GENDER</th>\n",
       "      <th>DOB</th>\n",
       "      <th>DOD</th>\n",
       "      <th>DOD_HOSP</th>\n",
       "      <th>DOD_SSN</th>\n",
       "      <th>EXPIRE_FLAG</th>\n",
       "    </tr>\n",
       "  </thead>\n",
       "  <tbody>\n",
       "    <tr>\n",
       "      <th>0</th>\n",
       "      <td>234</td>\n",
       "      <td>249</td>\n",
       "      <td>F</td>\n",
       "      <td>2075-03-13 00:00:00</td>\n",
       "      <td>NaN</td>\n",
       "      <td>NaN</td>\n",
       "      <td>NaN</td>\n",
       "      <td>0</td>\n",
       "    </tr>\n",
       "    <tr>\n",
       "      <th>1</th>\n",
       "      <td>235</td>\n",
       "      <td>250</td>\n",
       "      <td>F</td>\n",
       "      <td>2164-12-27 00:00:00</td>\n",
       "      <td>2188-11-22 00:00:00</td>\n",
       "      <td>2188-11-22 00:00:00</td>\n",
       "      <td>NaN</td>\n",
       "      <td>1</td>\n",
       "    </tr>\n",
       "    <tr>\n",
       "      <th>2</th>\n",
       "      <td>236</td>\n",
       "      <td>251</td>\n",
       "      <td>M</td>\n",
       "      <td>2090-03-15 00:00:00</td>\n",
       "      <td>NaN</td>\n",
       "      <td>NaN</td>\n",
       "      <td>NaN</td>\n",
       "      <td>0</td>\n",
       "    </tr>\n",
       "    <tr>\n",
       "      <th>3</th>\n",
       "      <td>237</td>\n",
       "      <td>252</td>\n",
       "      <td>M</td>\n",
       "      <td>2078-03-06 00:00:00</td>\n",
       "      <td>NaN</td>\n",
       "      <td>NaN</td>\n",
       "      <td>NaN</td>\n",
       "      <td>0</td>\n",
       "    </tr>\n",
       "    <tr>\n",
       "      <th>4</th>\n",
       "      <td>238</td>\n",
       "      <td>253</td>\n",
       "      <td>F</td>\n",
       "      <td>2089-11-26 00:00:00</td>\n",
       "      <td>NaN</td>\n",
       "      <td>NaN</td>\n",
       "      <td>NaN</td>\n",
       "      <td>0</td>\n",
       "    </tr>\n",
       "  </tbody>\n",
       "</table>\n",
       "</div>"
      ],
      "text/plain": [
       "   ROW_ID  SUBJECT_ID GENDER                  DOB                  DOD  \\\n",
       "0     234         249      F  2075-03-13 00:00:00                  NaN   \n",
       "1     235         250      F  2164-12-27 00:00:00  2188-11-22 00:00:00   \n",
       "2     236         251      M  2090-03-15 00:00:00                  NaN   \n",
       "3     237         252      M  2078-03-06 00:00:00                  NaN   \n",
       "4     238         253      F  2089-11-26 00:00:00                  NaN   \n",
       "\n",
       "              DOD_HOSP DOD_SSN  EXPIRE_FLAG  \n",
       "0                  NaN     NaN            0  \n",
       "1  2188-11-22 00:00:00     NaN            1  \n",
       "2                  NaN     NaN            0  \n",
       "3                  NaN     NaN            0  \n",
       "4                  NaN     NaN            0  "
      ]
     },
     "execution_count": 2,
     "metadata": {},
     "output_type": "execute_result"
    }
   ],
   "source": [
    "patients=pd.read_csv('/data/mimic/PATIENTS.csv')\n",
    "print(patients.shape)\n",
    "print('unique SUBJECT_ID:', patients.SUBJECT_ID.nunique())\n",
    "patients.head()"
   ]
  },
  {
   "cell_type": "code",
   "execution_count": 3,
   "metadata": {
    "colab": {
     "base_uri": "https://localhost:8080/",
     "height": 365
    },
    "id": "-X5qj5bStJrA",
    "outputId": "957ce16d-8857-4065-f0c9-ff2d5023a952"
   },
   "outputs": [
    {
     "name": "stdout",
     "output_type": "stream",
     "text": [
      "(58976, 19)\n",
      "unique SUBJECT_ID: 46520\n",
      "unique HADM_ID   : 58976\n"
     ]
    },
    {
     "data": {
      "text/html": [
       "<div>\n",
       "<style scoped>\n",
       "    .dataframe tbody tr th:only-of-type {\n",
       "        vertical-align: middle;\n",
       "    }\n",
       "\n",
       "    .dataframe tbody tr th {\n",
       "        vertical-align: top;\n",
       "    }\n",
       "\n",
       "    .dataframe thead th {\n",
       "        text-align: right;\n",
       "    }\n",
       "</style>\n",
       "<table border=\"1\" class=\"dataframe\">\n",
       "  <thead>\n",
       "    <tr style=\"text-align: right;\">\n",
       "      <th></th>\n",
       "      <th>ROW_ID</th>\n",
       "      <th>SUBJECT_ID</th>\n",
       "      <th>HADM_ID</th>\n",
       "      <th>ADMITTIME</th>\n",
       "      <th>DISCHTIME</th>\n",
       "      <th>DEATHTIME</th>\n",
       "      <th>ADMISSION_TYPE</th>\n",
       "      <th>ADMISSION_LOCATION</th>\n",
       "      <th>DISCHARGE_LOCATION</th>\n",
       "      <th>INSURANCE</th>\n",
       "      <th>LANGUAGE</th>\n",
       "      <th>RELIGION</th>\n",
       "      <th>MARITAL_STATUS</th>\n",
       "      <th>ETHNICITY</th>\n",
       "      <th>EDREGTIME</th>\n",
       "      <th>EDOUTTIME</th>\n",
       "      <th>DIAGNOSIS</th>\n",
       "      <th>HOSPITAL_EXPIRE_FLAG</th>\n",
       "      <th>HAS_CHARTEVENTS_DATA</th>\n",
       "    </tr>\n",
       "  </thead>\n",
       "  <tbody>\n",
       "    <tr>\n",
       "      <th>0</th>\n",
       "      <td>21</td>\n",
       "      <td>22</td>\n",
       "      <td>165315</td>\n",
       "      <td>2196-04-09 12:26:00</td>\n",
       "      <td>2196-04-10 15:54:00</td>\n",
       "      <td>NaN</td>\n",
       "      <td>EMERGENCY</td>\n",
       "      <td>EMERGENCY ROOM ADMIT</td>\n",
       "      <td>DISC-TRAN CANCER/CHLDRN H</td>\n",
       "      <td>Private</td>\n",
       "      <td>NaN</td>\n",
       "      <td>UNOBTAINABLE</td>\n",
       "      <td>MARRIED</td>\n",
       "      <td>WHITE</td>\n",
       "      <td>2196-04-09 10:06:00</td>\n",
       "      <td>2196-04-09 13:24:00</td>\n",
       "      <td>BENZODIAZEPINE OVERDOSE</td>\n",
       "      <td>0</td>\n",
       "      <td>1</td>\n",
       "    </tr>\n",
       "    <tr>\n",
       "      <th>1</th>\n",
       "      <td>22</td>\n",
       "      <td>23</td>\n",
       "      <td>152223</td>\n",
       "      <td>2153-09-03 07:15:00</td>\n",
       "      <td>2153-09-08 19:10:00</td>\n",
       "      <td>NaN</td>\n",
       "      <td>ELECTIVE</td>\n",
       "      <td>PHYS REFERRAL/NORMAL DELI</td>\n",
       "      <td>HOME HEALTH CARE</td>\n",
       "      <td>Medicare</td>\n",
       "      <td>NaN</td>\n",
       "      <td>CATHOLIC</td>\n",
       "      <td>MARRIED</td>\n",
       "      <td>WHITE</td>\n",
       "      <td>NaN</td>\n",
       "      <td>NaN</td>\n",
       "      <td>CORONARY ARTERY DISEASE\\CORONARY ARTERY BYPASS...</td>\n",
       "      <td>0</td>\n",
       "      <td>1</td>\n",
       "    </tr>\n",
       "    <tr>\n",
       "      <th>2</th>\n",
       "      <td>23</td>\n",
       "      <td>23</td>\n",
       "      <td>124321</td>\n",
       "      <td>2157-10-18 19:34:00</td>\n",
       "      <td>2157-10-25 14:00:00</td>\n",
       "      <td>NaN</td>\n",
       "      <td>EMERGENCY</td>\n",
       "      <td>TRANSFER FROM HOSP/EXTRAM</td>\n",
       "      <td>HOME HEALTH CARE</td>\n",
       "      <td>Medicare</td>\n",
       "      <td>ENGL</td>\n",
       "      <td>CATHOLIC</td>\n",
       "      <td>MARRIED</td>\n",
       "      <td>WHITE</td>\n",
       "      <td>NaN</td>\n",
       "      <td>NaN</td>\n",
       "      <td>BRAIN MASS</td>\n",
       "      <td>0</td>\n",
       "      <td>1</td>\n",
       "    </tr>\n",
       "    <tr>\n",
       "      <th>3</th>\n",
       "      <td>24</td>\n",
       "      <td>24</td>\n",
       "      <td>161859</td>\n",
       "      <td>2139-06-06 16:14:00</td>\n",
       "      <td>2139-06-09 12:48:00</td>\n",
       "      <td>NaN</td>\n",
       "      <td>EMERGENCY</td>\n",
       "      <td>TRANSFER FROM HOSP/EXTRAM</td>\n",
       "      <td>HOME</td>\n",
       "      <td>Private</td>\n",
       "      <td>NaN</td>\n",
       "      <td>PROTESTANT QUAKER</td>\n",
       "      <td>SINGLE</td>\n",
       "      <td>WHITE</td>\n",
       "      <td>NaN</td>\n",
       "      <td>NaN</td>\n",
       "      <td>INTERIOR MYOCARDIAL INFARCTION</td>\n",
       "      <td>0</td>\n",
       "      <td>1</td>\n",
       "    </tr>\n",
       "    <tr>\n",
       "      <th>4</th>\n",
       "      <td>25</td>\n",
       "      <td>25</td>\n",
       "      <td>129635</td>\n",
       "      <td>2160-11-02 02:06:00</td>\n",
       "      <td>2160-11-05 14:55:00</td>\n",
       "      <td>NaN</td>\n",
       "      <td>EMERGENCY</td>\n",
       "      <td>EMERGENCY ROOM ADMIT</td>\n",
       "      <td>HOME</td>\n",
       "      <td>Private</td>\n",
       "      <td>NaN</td>\n",
       "      <td>UNOBTAINABLE</td>\n",
       "      <td>MARRIED</td>\n",
       "      <td>WHITE</td>\n",
       "      <td>2160-11-02 01:01:00</td>\n",
       "      <td>2160-11-02 04:27:00</td>\n",
       "      <td>ACUTE CORONARY SYNDROME</td>\n",
       "      <td>0</td>\n",
       "      <td>1</td>\n",
       "    </tr>\n",
       "  </tbody>\n",
       "</table>\n",
       "</div>"
      ],
      "text/plain": [
       "   ROW_ID  SUBJECT_ID  HADM_ID            ADMITTIME            DISCHTIME  \\\n",
       "0      21          22   165315  2196-04-09 12:26:00  2196-04-10 15:54:00   \n",
       "1      22          23   152223  2153-09-03 07:15:00  2153-09-08 19:10:00   \n",
       "2      23          23   124321  2157-10-18 19:34:00  2157-10-25 14:00:00   \n",
       "3      24          24   161859  2139-06-06 16:14:00  2139-06-09 12:48:00   \n",
       "4      25          25   129635  2160-11-02 02:06:00  2160-11-05 14:55:00   \n",
       "\n",
       "  DEATHTIME ADMISSION_TYPE         ADMISSION_LOCATION  \\\n",
       "0       NaN      EMERGENCY       EMERGENCY ROOM ADMIT   \n",
       "1       NaN       ELECTIVE  PHYS REFERRAL/NORMAL DELI   \n",
       "2       NaN      EMERGENCY  TRANSFER FROM HOSP/EXTRAM   \n",
       "3       NaN      EMERGENCY  TRANSFER FROM HOSP/EXTRAM   \n",
       "4       NaN      EMERGENCY       EMERGENCY ROOM ADMIT   \n",
       "\n",
       "          DISCHARGE_LOCATION INSURANCE LANGUAGE           RELIGION  \\\n",
       "0  DISC-TRAN CANCER/CHLDRN H   Private      NaN       UNOBTAINABLE   \n",
       "1           HOME HEALTH CARE  Medicare      NaN           CATHOLIC   \n",
       "2           HOME HEALTH CARE  Medicare     ENGL           CATHOLIC   \n",
       "3                       HOME   Private      NaN  PROTESTANT QUAKER   \n",
       "4                       HOME   Private      NaN       UNOBTAINABLE   \n",
       "\n",
       "  MARITAL_STATUS ETHNICITY            EDREGTIME            EDOUTTIME  \\\n",
       "0        MARRIED     WHITE  2196-04-09 10:06:00  2196-04-09 13:24:00   \n",
       "1        MARRIED     WHITE                  NaN                  NaN   \n",
       "2        MARRIED     WHITE                  NaN                  NaN   \n",
       "3         SINGLE     WHITE                  NaN                  NaN   \n",
       "4        MARRIED     WHITE  2160-11-02 01:01:00  2160-11-02 04:27:00   \n",
       "\n",
       "                                           DIAGNOSIS  HOSPITAL_EXPIRE_FLAG  \\\n",
       "0                            BENZODIAZEPINE OVERDOSE                     0   \n",
       "1  CORONARY ARTERY DISEASE\\CORONARY ARTERY BYPASS...                     0   \n",
       "2                                         BRAIN MASS                     0   \n",
       "3                     INTERIOR MYOCARDIAL INFARCTION                     0   \n",
       "4                            ACUTE CORONARY SYNDROME                     0   \n",
       "\n",
       "   HAS_CHARTEVENTS_DATA  \n",
       "0                     1  \n",
       "1                     1  \n",
       "2                     1  \n",
       "3                     1  \n",
       "4                     1  "
      ]
     },
     "execution_count": 3,
     "metadata": {},
     "output_type": "execute_result"
    }
   ],
   "source": [
    "admissions=pd.read_csv('/data/mimic/ADMISSIONS.csv')\n",
    "print(admissions.shape)\n",
    "print('unique SUBJECT_ID:', admissions.SUBJECT_ID.nunique())\n",
    "print('unique HADM_ID   :', admissions.HADM_ID.nunique())\n",
    "admissions.head()"
   ]
  },
  {
   "cell_type": "code",
   "execution_count": 4,
   "metadata": {},
   "outputs": [
    {
     "data": {
      "text/html": [
       "<div>\n",
       "<style scoped>\n",
       "    .dataframe tbody tr th:only-of-type {\n",
       "        vertical-align: middle;\n",
       "    }\n",
       "\n",
       "    .dataframe tbody tr th {\n",
       "        vertical-align: top;\n",
       "    }\n",
       "\n",
       "    .dataframe thead th {\n",
       "        text-align: right;\n",
       "    }\n",
       "</style>\n",
       "<table border=\"1\" class=\"dataframe\">\n",
       "  <thead>\n",
       "    <tr style=\"text-align: right;\">\n",
       "      <th></th>\n",
       "      <th>SUBJECT_ID</th>\n",
       "      <th>HADM_ID</th>\n",
       "      <th>ADMITTIME</th>\n",
       "      <th>DISCHTIME</th>\n",
       "      <th>DEATHTIME</th>\n",
       "    </tr>\n",
       "  </thead>\n",
       "  <tbody>\n",
       "    <tr>\n",
       "      <th>0</th>\n",
       "      <td>22</td>\n",
       "      <td>165315</td>\n",
       "      <td>2196-04-09 12:26:00</td>\n",
       "      <td>2196-04-10 15:54:00</td>\n",
       "      <td>NaN</td>\n",
       "    </tr>\n",
       "    <tr>\n",
       "      <th>1</th>\n",
       "      <td>23</td>\n",
       "      <td>152223</td>\n",
       "      <td>2153-09-03 07:15:00</td>\n",
       "      <td>2153-09-08 19:10:00</td>\n",
       "      <td>NaN</td>\n",
       "    </tr>\n",
       "    <tr>\n",
       "      <th>2</th>\n",
       "      <td>23</td>\n",
       "      <td>124321</td>\n",
       "      <td>2157-10-18 19:34:00</td>\n",
       "      <td>2157-10-25 14:00:00</td>\n",
       "      <td>NaN</td>\n",
       "    </tr>\n",
       "    <tr>\n",
       "      <th>3</th>\n",
       "      <td>24</td>\n",
       "      <td>161859</td>\n",
       "      <td>2139-06-06 16:14:00</td>\n",
       "      <td>2139-06-09 12:48:00</td>\n",
       "      <td>NaN</td>\n",
       "    </tr>\n",
       "    <tr>\n",
       "      <th>4</th>\n",
       "      <td>25</td>\n",
       "      <td>129635</td>\n",
       "      <td>2160-11-02 02:06:00</td>\n",
       "      <td>2160-11-05 14:55:00</td>\n",
       "      <td>NaN</td>\n",
       "    </tr>\n",
       "  </tbody>\n",
       "</table>\n",
       "</div>"
      ],
      "text/plain": [
       "   SUBJECT_ID  HADM_ID            ADMITTIME            DISCHTIME DEATHTIME\n",
       "0          22   165315  2196-04-09 12:26:00  2196-04-10 15:54:00       NaN\n",
       "1          23   152223  2153-09-03 07:15:00  2153-09-08 19:10:00       NaN\n",
       "2          23   124321  2157-10-18 19:34:00  2157-10-25 14:00:00       NaN\n",
       "3          24   161859  2139-06-06 16:14:00  2139-06-09 12:48:00       NaN\n",
       "4          25   129635  2160-11-02 02:06:00  2160-11-05 14:55:00       NaN"
      ]
     },
     "execution_count": 4,
     "metadata": {},
     "output_type": "execute_result"
    }
   ],
   "source": [
    "admissions = admissions[['SUBJECT_ID','HADM_ID','ADMITTIME','DISCHTIME','DEATHTIME']]\n",
    "admissions.head(5)"
   ]
  },
  {
   "cell_type": "code",
   "execution_count": 5,
   "metadata": {
    "colab": {
     "base_uri": "https://localhost:8080/",
     "height": 365
    },
    "id": "lHsOxvsLOREb",
    "outputId": "358309a5-a4dd-4b10-cb59-69c1a0451e88"
   },
   "outputs": [
    {
     "name": "stdout",
     "output_type": "stream",
     "text": [
      "(58976, 12)\n",
      "unique SUBJECT_ID: 46520\n",
      "unique HADM_ID   : 58976\n"
     ]
    },
    {
     "data": {
      "text/html": [
       "<div>\n",
       "<style scoped>\n",
       "    .dataframe tbody tr th:only-of-type {\n",
       "        vertical-align: middle;\n",
       "    }\n",
       "\n",
       "    .dataframe tbody tr th {\n",
       "        vertical-align: top;\n",
       "    }\n",
       "\n",
       "    .dataframe thead th {\n",
       "        text-align: right;\n",
       "    }\n",
       "</style>\n",
       "<table border=\"1\" class=\"dataframe\">\n",
       "  <thead>\n",
       "    <tr style=\"text-align: right;\">\n",
       "      <th></th>\n",
       "      <th>ROW_ID</th>\n",
       "      <th>SUBJECT_ID</th>\n",
       "      <th>GENDER</th>\n",
       "      <th>DOB</th>\n",
       "      <th>DOD</th>\n",
       "      <th>DOD_HOSP</th>\n",
       "      <th>DOD_SSN</th>\n",
       "      <th>EXPIRE_FLAG</th>\n",
       "      <th>HADM_ID</th>\n",
       "      <th>ADMITTIME</th>\n",
       "      <th>DISCHTIME</th>\n",
       "      <th>DEATHTIME</th>\n",
       "    </tr>\n",
       "  </thead>\n",
       "  <tbody>\n",
       "    <tr>\n",
       "      <th>0</th>\n",
       "      <td>234</td>\n",
       "      <td>249</td>\n",
       "      <td>F</td>\n",
       "      <td>2075-03-13 00:00:00</td>\n",
       "      <td>NaN</td>\n",
       "      <td>NaN</td>\n",
       "      <td>NaN</td>\n",
       "      <td>0</td>\n",
       "      <td>116935</td>\n",
       "      <td>2149-12-17 20:41:00</td>\n",
       "      <td>2149-12-31 14:55:00</td>\n",
       "      <td>NaN</td>\n",
       "    </tr>\n",
       "    <tr>\n",
       "      <th>1</th>\n",
       "      <td>234</td>\n",
       "      <td>249</td>\n",
       "      <td>F</td>\n",
       "      <td>2075-03-13 00:00:00</td>\n",
       "      <td>NaN</td>\n",
       "      <td>NaN</td>\n",
       "      <td>NaN</td>\n",
       "      <td>0</td>\n",
       "      <td>149546</td>\n",
       "      <td>2155-02-03 20:16:00</td>\n",
       "      <td>2155-02-14 11:15:00</td>\n",
       "      <td>NaN</td>\n",
       "    </tr>\n",
       "    <tr>\n",
       "      <th>2</th>\n",
       "      <td>234</td>\n",
       "      <td>249</td>\n",
       "      <td>F</td>\n",
       "      <td>2075-03-13 00:00:00</td>\n",
       "      <td>NaN</td>\n",
       "      <td>NaN</td>\n",
       "      <td>NaN</td>\n",
       "      <td>0</td>\n",
       "      <td>158975</td>\n",
       "      <td>2156-04-27 15:33:00</td>\n",
       "      <td>2156-05-14 15:30:00</td>\n",
       "      <td>NaN</td>\n",
       "    </tr>\n",
       "    <tr>\n",
       "      <th>3</th>\n",
       "      <td>235</td>\n",
       "      <td>250</td>\n",
       "      <td>F</td>\n",
       "      <td>2164-12-27 00:00:00</td>\n",
       "      <td>2188-11-22 00:00:00</td>\n",
       "      <td>2188-11-22 00:00:00</td>\n",
       "      <td>NaN</td>\n",
       "      <td>1</td>\n",
       "      <td>124271</td>\n",
       "      <td>2188-11-12 09:22:00</td>\n",
       "      <td>2188-11-22 12:00:00</td>\n",
       "      <td>2188-11-22 12:00:00</td>\n",
       "    </tr>\n",
       "    <tr>\n",
       "      <th>4</th>\n",
       "      <td>236</td>\n",
       "      <td>251</td>\n",
       "      <td>M</td>\n",
       "      <td>2090-03-15 00:00:00</td>\n",
       "      <td>NaN</td>\n",
       "      <td>NaN</td>\n",
       "      <td>NaN</td>\n",
       "      <td>0</td>\n",
       "      <td>117937</td>\n",
       "      <td>2110-07-27 06:46:00</td>\n",
       "      <td>2110-07-29 15:23:00</td>\n",
       "      <td>NaN</td>\n",
       "    </tr>\n",
       "  </tbody>\n",
       "</table>\n",
       "</div>"
      ],
      "text/plain": [
       "   ROW_ID  SUBJECT_ID GENDER                  DOB                  DOD  \\\n",
       "0     234         249      F  2075-03-13 00:00:00                  NaN   \n",
       "1     234         249      F  2075-03-13 00:00:00                  NaN   \n",
       "2     234         249      F  2075-03-13 00:00:00                  NaN   \n",
       "3     235         250      F  2164-12-27 00:00:00  2188-11-22 00:00:00   \n",
       "4     236         251      M  2090-03-15 00:00:00                  NaN   \n",
       "\n",
       "              DOD_HOSP DOD_SSN  EXPIRE_FLAG  HADM_ID            ADMITTIME  \\\n",
       "0                  NaN     NaN            0   116935  2149-12-17 20:41:00   \n",
       "1                  NaN     NaN            0   149546  2155-02-03 20:16:00   \n",
       "2                  NaN     NaN            0   158975  2156-04-27 15:33:00   \n",
       "3  2188-11-22 00:00:00     NaN            1   124271  2188-11-12 09:22:00   \n",
       "4                  NaN     NaN            0   117937  2110-07-27 06:46:00   \n",
       "\n",
       "             DISCHTIME            DEATHTIME  \n",
       "0  2149-12-31 14:55:00                  NaN  \n",
       "1  2155-02-14 11:15:00                  NaN  \n",
       "2  2156-05-14 15:30:00                  NaN  \n",
       "3  2188-11-22 12:00:00  2188-11-22 12:00:00  \n",
       "4  2110-07-29 15:23:00                  NaN  "
      ]
     },
     "execution_count": 5,
     "metadata": {},
     "output_type": "execute_result"
    }
   ],
   "source": [
    "admissions=pd.merge(patients, admissions, on=['SUBJECT_ID'])\n",
    "print(admissions.shape)\n",
    "print('unique SUBJECT_ID:', admissions.SUBJECT_ID.nunique())\n",
    "print('unique HADM_ID   :', admissions.HADM_ID.nunique())\n",
    "admissions.head()"
   ]
  },
  {
   "cell_type": "code",
   "execution_count": 6,
   "metadata": {},
   "outputs": [
    {
     "data": {
      "text/html": [
       "<div>\n",
       "<style scoped>\n",
       "    .dataframe tbody tr th:only-of-type {\n",
       "        vertical-align: middle;\n",
       "    }\n",
       "\n",
       "    .dataframe tbody tr th {\n",
       "        vertical-align: top;\n",
       "    }\n",
       "\n",
       "    .dataframe thead th {\n",
       "        text-align: right;\n",
       "    }\n",
       "</style>\n",
       "<table border=\"1\" class=\"dataframe\">\n",
       "  <thead>\n",
       "    <tr style=\"text-align: right;\">\n",
       "      <th></th>\n",
       "      <th>SUBJECT_ID</th>\n",
       "      <th>DOB</th>\n",
       "      <th>DOD</th>\n",
       "      <th>HADM_ID</th>\n",
       "      <th>ADMITTIME</th>\n",
       "      <th>DISCHTIME</th>\n",
       "      <th>DEATHTIME</th>\n",
       "    </tr>\n",
       "  </thead>\n",
       "  <tbody>\n",
       "    <tr>\n",
       "      <th>0</th>\n",
       "      <td>249</td>\n",
       "      <td>2075-03-13 00:00:00</td>\n",
       "      <td>NaN</td>\n",
       "      <td>116935</td>\n",
       "      <td>2149-12-17 20:41:00</td>\n",
       "      <td>2149-12-31 14:55:00</td>\n",
       "      <td>NaN</td>\n",
       "    </tr>\n",
       "    <tr>\n",
       "      <th>1</th>\n",
       "      <td>249</td>\n",
       "      <td>2075-03-13 00:00:00</td>\n",
       "      <td>NaN</td>\n",
       "      <td>149546</td>\n",
       "      <td>2155-02-03 20:16:00</td>\n",
       "      <td>2155-02-14 11:15:00</td>\n",
       "      <td>NaN</td>\n",
       "    </tr>\n",
       "    <tr>\n",
       "      <th>2</th>\n",
       "      <td>249</td>\n",
       "      <td>2075-03-13 00:00:00</td>\n",
       "      <td>NaN</td>\n",
       "      <td>158975</td>\n",
       "      <td>2156-04-27 15:33:00</td>\n",
       "      <td>2156-05-14 15:30:00</td>\n",
       "      <td>NaN</td>\n",
       "    </tr>\n",
       "    <tr>\n",
       "      <th>3</th>\n",
       "      <td>250</td>\n",
       "      <td>2164-12-27 00:00:00</td>\n",
       "      <td>2188-11-22 00:00:00</td>\n",
       "      <td>124271</td>\n",
       "      <td>2188-11-12 09:22:00</td>\n",
       "      <td>2188-11-22 12:00:00</td>\n",
       "      <td>2188-11-22 12:00:00</td>\n",
       "    </tr>\n",
       "    <tr>\n",
       "      <th>4</th>\n",
       "      <td>251</td>\n",
       "      <td>2090-03-15 00:00:00</td>\n",
       "      <td>NaN</td>\n",
       "      <td>117937</td>\n",
       "      <td>2110-07-27 06:46:00</td>\n",
       "      <td>2110-07-29 15:23:00</td>\n",
       "      <td>NaN</td>\n",
       "    </tr>\n",
       "  </tbody>\n",
       "</table>\n",
       "</div>"
      ],
      "text/plain": [
       "   SUBJECT_ID                  DOB                  DOD  HADM_ID  \\\n",
       "0         249  2075-03-13 00:00:00                  NaN   116935   \n",
       "1         249  2075-03-13 00:00:00                  NaN   149546   \n",
       "2         249  2075-03-13 00:00:00                  NaN   158975   \n",
       "3         250  2164-12-27 00:00:00  2188-11-22 00:00:00   124271   \n",
       "4         251  2090-03-15 00:00:00                  NaN   117937   \n",
       "\n",
       "             ADMITTIME            DISCHTIME            DEATHTIME  \n",
       "0  2149-12-17 20:41:00  2149-12-31 14:55:00                  NaN  \n",
       "1  2155-02-03 20:16:00  2155-02-14 11:15:00                  NaN  \n",
       "2  2156-04-27 15:33:00  2156-05-14 15:30:00                  NaN  \n",
       "3  2188-11-12 09:22:00  2188-11-22 12:00:00  2188-11-22 12:00:00  \n",
       "4  2110-07-27 06:46:00  2110-07-29 15:23:00                  NaN  "
      ]
     },
     "execution_count": 6,
     "metadata": {},
     "output_type": "execute_result"
    }
   ],
   "source": [
    "admissions = admissions.drop(['ROW_ID','GENDER','DOD_HOSP','DOD_SSN','EXPIRE_FLAG'],axis=1)\n",
    "admissions.head(5)"
   ]
  },
  {
   "cell_type": "code",
   "execution_count": 7,
   "metadata": {
    "colab": {
     "base_uri": "https://localhost:8080/",
     "height": 383
    },
    "id": "YdhYxmqSORGT",
    "outputId": "2ca11f6e-656c-4027-d6ac-61915616c74c"
   },
   "outputs": [
    {
     "name": "stdout",
     "output_type": "stream",
     "text": [
      "(61532, 12)\n",
      "unique SUBJECT_ID: 46476\n",
      "unique HADM_ID   : 57786\n",
      "unique ICUSTAY_ID: 61532\n"
     ]
    },
    {
     "data": {
      "text/html": [
       "<div>\n",
       "<style scoped>\n",
       "    .dataframe tbody tr th:only-of-type {\n",
       "        vertical-align: middle;\n",
       "    }\n",
       "\n",
       "    .dataframe tbody tr th {\n",
       "        vertical-align: top;\n",
       "    }\n",
       "\n",
       "    .dataframe thead th {\n",
       "        text-align: right;\n",
       "    }\n",
       "</style>\n",
       "<table border=\"1\" class=\"dataframe\">\n",
       "  <thead>\n",
       "    <tr style=\"text-align: right;\">\n",
       "      <th></th>\n",
       "      <th>ROW_ID</th>\n",
       "      <th>SUBJECT_ID</th>\n",
       "      <th>HADM_ID</th>\n",
       "      <th>ICUSTAY_ID</th>\n",
       "      <th>DBSOURCE</th>\n",
       "      <th>FIRST_CAREUNIT</th>\n",
       "      <th>LAST_CAREUNIT</th>\n",
       "      <th>FIRST_WARDID</th>\n",
       "      <th>LAST_WARDID</th>\n",
       "      <th>INTIME</th>\n",
       "      <th>OUTTIME</th>\n",
       "      <th>LOS</th>\n",
       "    </tr>\n",
       "  </thead>\n",
       "  <tbody>\n",
       "    <tr>\n",
       "      <th>0</th>\n",
       "      <td>365</td>\n",
       "      <td>268</td>\n",
       "      <td>110404</td>\n",
       "      <td>280836</td>\n",
       "      <td>carevue</td>\n",
       "      <td>MICU</td>\n",
       "      <td>MICU</td>\n",
       "      <td>52</td>\n",
       "      <td>52</td>\n",
       "      <td>2198-02-14 23:27:38</td>\n",
       "      <td>2198-02-18 05:26:11</td>\n",
       "      <td>3.2490</td>\n",
       "    </tr>\n",
       "    <tr>\n",
       "      <th>1</th>\n",
       "      <td>366</td>\n",
       "      <td>269</td>\n",
       "      <td>106296</td>\n",
       "      <td>206613</td>\n",
       "      <td>carevue</td>\n",
       "      <td>MICU</td>\n",
       "      <td>MICU</td>\n",
       "      <td>52</td>\n",
       "      <td>52</td>\n",
       "      <td>2170-11-05 11:05:29</td>\n",
       "      <td>2170-11-08 17:46:57</td>\n",
       "      <td>3.2788</td>\n",
       "    </tr>\n",
       "    <tr>\n",
       "      <th>2</th>\n",
       "      <td>367</td>\n",
       "      <td>270</td>\n",
       "      <td>188028</td>\n",
       "      <td>220345</td>\n",
       "      <td>carevue</td>\n",
       "      <td>CCU</td>\n",
       "      <td>CCU</td>\n",
       "      <td>57</td>\n",
       "      <td>57</td>\n",
       "      <td>2128-06-24 15:05:20</td>\n",
       "      <td>2128-06-27 12:32:29</td>\n",
       "      <td>2.8939</td>\n",
       "    </tr>\n",
       "    <tr>\n",
       "      <th>3</th>\n",
       "      <td>368</td>\n",
       "      <td>271</td>\n",
       "      <td>173727</td>\n",
       "      <td>249196</td>\n",
       "      <td>carevue</td>\n",
       "      <td>MICU</td>\n",
       "      <td>SICU</td>\n",
       "      <td>52</td>\n",
       "      <td>23</td>\n",
       "      <td>2120-08-07 23:12:42</td>\n",
       "      <td>2120-08-10 00:39:04</td>\n",
       "      <td>2.0600</td>\n",
       "    </tr>\n",
       "    <tr>\n",
       "      <th>4</th>\n",
       "      <td>369</td>\n",
       "      <td>272</td>\n",
       "      <td>164716</td>\n",
       "      <td>210407</td>\n",
       "      <td>carevue</td>\n",
       "      <td>CCU</td>\n",
       "      <td>CCU</td>\n",
       "      <td>57</td>\n",
       "      <td>57</td>\n",
       "      <td>2186-12-25 21:08:04</td>\n",
       "      <td>2186-12-27 12:01:13</td>\n",
       "      <td>1.6202</td>\n",
       "    </tr>\n",
       "  </tbody>\n",
       "</table>\n",
       "</div>"
      ],
      "text/plain": [
       "   ROW_ID  SUBJECT_ID  HADM_ID  ICUSTAY_ID DBSOURCE FIRST_CAREUNIT  \\\n",
       "0     365         268   110404      280836  carevue           MICU   \n",
       "1     366         269   106296      206613  carevue           MICU   \n",
       "2     367         270   188028      220345  carevue            CCU   \n",
       "3     368         271   173727      249196  carevue           MICU   \n",
       "4     369         272   164716      210407  carevue            CCU   \n",
       "\n",
       "  LAST_CAREUNIT  FIRST_WARDID  LAST_WARDID               INTIME  \\\n",
       "0          MICU            52           52  2198-02-14 23:27:38   \n",
       "1          MICU            52           52  2170-11-05 11:05:29   \n",
       "2           CCU            57           57  2128-06-24 15:05:20   \n",
       "3          SICU            52           23  2120-08-07 23:12:42   \n",
       "4           CCU            57           57  2186-12-25 21:08:04   \n",
       "\n",
       "               OUTTIME     LOS  \n",
       "0  2198-02-18 05:26:11  3.2490  \n",
       "1  2170-11-08 17:46:57  3.2788  \n",
       "2  2128-06-27 12:32:29  2.8939  \n",
       "3  2120-08-10 00:39:04  2.0600  \n",
       "4  2186-12-27 12:01:13  1.6202  "
      ]
     },
     "execution_count": 7,
     "metadata": {},
     "output_type": "execute_result"
    }
   ],
   "source": [
    "icustays=pd.read_csv('/data/mimic/ICUSTAYS.csv')\n",
    "print(icustays.shape)\n",
    "print('unique SUBJECT_ID:', icustays.SUBJECT_ID.nunique())\n",
    "print('unique HADM_ID   :', icustays.HADM_ID.nunique())\n",
    "print('unique ICUSTAY_ID:', icustays.ICUSTAY_ID.nunique())\n",
    "icustays.head()"
   ]
  },
  {
   "cell_type": "code",
   "execution_count": 8,
   "metadata": {
    "id": "ukB8GPoCORJ5"
   },
   "outputs": [],
   "source": [
    "icustays=icustays.drop(['ROW_ID','DBSOURCE', 'FIRST_CAREUNIT','LAST_CAREUNIT','FIRST_WARDID', 'LAST_WARDID','LOS'], axis=1)"
   ]
  },
  {
   "cell_type": "code",
   "execution_count": 9,
   "metadata": {
    "colab": {
     "base_uri": "https://localhost:8080/",
     "height": 383
    },
    "id": "vErMIvkaORLt",
    "outputId": "29efb52e-d645-4188-ad06-a9e32dd76983",
    "scrolled": false
   },
   "outputs": [
    {
     "name": "stdout",
     "output_type": "stream",
     "text": [
      "(61532, 10)\n",
      "unique SUBJECT_ID: 46476\n",
      "unique HADM_ID   : 57786\n",
      "unique ICUSTAY_ID: 61532\n"
     ]
    },
    {
     "data": {
      "text/html": [
       "<div>\n",
       "<style scoped>\n",
       "    .dataframe tbody tr th:only-of-type {\n",
       "        vertical-align: middle;\n",
       "    }\n",
       "\n",
       "    .dataframe tbody tr th {\n",
       "        vertical-align: top;\n",
       "    }\n",
       "\n",
       "    .dataframe thead th {\n",
       "        text-align: right;\n",
       "    }\n",
       "</style>\n",
       "<table border=\"1\" class=\"dataframe\">\n",
       "  <thead>\n",
       "    <tr style=\"text-align: right;\">\n",
       "      <th></th>\n",
       "      <th>SUBJECT_ID</th>\n",
       "      <th>DOB</th>\n",
       "      <th>DOD</th>\n",
       "      <th>HADM_ID</th>\n",
       "      <th>ADMITTIME</th>\n",
       "      <th>DISCHTIME</th>\n",
       "      <th>DEATHTIME</th>\n",
       "      <th>ICUSTAY_ID</th>\n",
       "      <th>INTIME</th>\n",
       "      <th>OUTTIME</th>\n",
       "    </tr>\n",
       "  </thead>\n",
       "  <tbody>\n",
       "    <tr>\n",
       "      <th>0</th>\n",
       "      <td>249</td>\n",
       "      <td>2075-03-13 00:00:00</td>\n",
       "      <td>NaN</td>\n",
       "      <td>116935</td>\n",
       "      <td>2149-12-17 20:41:00</td>\n",
       "      <td>2149-12-31 14:55:00</td>\n",
       "      <td>NaN</td>\n",
       "      <td>215044</td>\n",
       "      <td>2149-12-18 20:06:02</td>\n",
       "      <td>2149-12-24 13:31:45</td>\n",
       "    </tr>\n",
       "    <tr>\n",
       "      <th>1</th>\n",
       "      <td>249</td>\n",
       "      <td>2075-03-13 00:00:00</td>\n",
       "      <td>NaN</td>\n",
       "      <td>149546</td>\n",
       "      <td>2155-02-03 20:16:00</td>\n",
       "      <td>2155-02-14 11:15:00</td>\n",
       "      <td>NaN</td>\n",
       "      <td>269035</td>\n",
       "      <td>2155-02-03 20:17:29</td>\n",
       "      <td>2155-02-05 18:34:02</td>\n",
       "    </tr>\n",
       "    <tr>\n",
       "      <th>2</th>\n",
       "      <td>249</td>\n",
       "      <td>2075-03-13 00:00:00</td>\n",
       "      <td>NaN</td>\n",
       "      <td>149546</td>\n",
       "      <td>2155-02-03 20:16:00</td>\n",
       "      <td>2155-02-14 11:15:00</td>\n",
       "      <td>NaN</td>\n",
       "      <td>263055</td>\n",
       "      <td>2155-02-07 18:51:16</td>\n",
       "      <td>2155-02-11 16:00:39</td>\n",
       "    </tr>\n",
       "    <tr>\n",
       "      <th>3</th>\n",
       "      <td>249</td>\n",
       "      <td>2075-03-13 00:00:00</td>\n",
       "      <td>NaN</td>\n",
       "      <td>158975</td>\n",
       "      <td>2156-04-27 15:33:00</td>\n",
       "      <td>2156-05-14 15:30:00</td>\n",
       "      <td>NaN</td>\n",
       "      <td>282599</td>\n",
       "      <td>2156-05-01 18:10:12</td>\n",
       "      <td>2156-05-03 18:43:45</td>\n",
       "    </tr>\n",
       "    <tr>\n",
       "      <th>4</th>\n",
       "      <td>249</td>\n",
       "      <td>2075-03-13 00:00:00</td>\n",
       "      <td>NaN</td>\n",
       "      <td>158975</td>\n",
       "      <td>2156-04-27 15:33:00</td>\n",
       "      <td>2156-05-14 15:30:00</td>\n",
       "      <td>NaN</td>\n",
       "      <td>263882</td>\n",
       "      <td>2156-05-10 17:47:35</td>\n",
       "      <td>2156-05-11 19:16:03</td>\n",
       "    </tr>\n",
       "  </tbody>\n",
       "</table>\n",
       "</div>"
      ],
      "text/plain": [
       "   SUBJECT_ID                  DOB  DOD  HADM_ID            ADMITTIME  \\\n",
       "0         249  2075-03-13 00:00:00  NaN   116935  2149-12-17 20:41:00   \n",
       "1         249  2075-03-13 00:00:00  NaN   149546  2155-02-03 20:16:00   \n",
       "2         249  2075-03-13 00:00:00  NaN   149546  2155-02-03 20:16:00   \n",
       "3         249  2075-03-13 00:00:00  NaN   158975  2156-04-27 15:33:00   \n",
       "4         249  2075-03-13 00:00:00  NaN   158975  2156-04-27 15:33:00   \n",
       "\n",
       "             DISCHTIME DEATHTIME  ICUSTAY_ID               INTIME  \\\n",
       "0  2149-12-31 14:55:00       NaN      215044  2149-12-18 20:06:02   \n",
       "1  2155-02-14 11:15:00       NaN      269035  2155-02-03 20:17:29   \n",
       "2  2155-02-14 11:15:00       NaN      263055  2155-02-07 18:51:16   \n",
       "3  2156-05-14 15:30:00       NaN      282599  2156-05-01 18:10:12   \n",
       "4  2156-05-14 15:30:00       NaN      263882  2156-05-10 17:47:35   \n",
       "\n",
       "               OUTTIME  \n",
       "0  2149-12-24 13:31:45  \n",
       "1  2155-02-05 18:34:02  \n",
       "2  2155-02-11 16:00:39  \n",
       "3  2156-05-03 18:43:45  \n",
       "4  2156-05-11 19:16:03  "
      ]
     },
     "execution_count": 9,
     "metadata": {},
     "output_type": "execute_result"
    }
   ],
   "source": [
    "admissions=pd.merge(admissions, icustays, on=['SUBJECT_ID', 'HADM_ID'])\n",
    "print(admissions.shape)\n",
    "print('unique SUBJECT_ID:', admissions.SUBJECT_ID.nunique())\n",
    "print('unique HADM_ID   :', admissions.HADM_ID.nunique())\n",
    "print('unique ICUSTAY_ID:', admissions.ICUSTAY_ID.nunique())\n",
    "admissions.head()"
   ]
  },
  {
   "cell_type": "code",
   "execution_count": 10,
   "metadata": {},
   "outputs": [],
   "source": [
    "admissions['DOD'] = pd.to_datetime(admissions['DOD'])\n",
    "admissions['ADMITTIME'] = pd.to_datetime(admissions['ADMITTIME'])\n",
    "admissions['DISCHTIME'] = pd.to_datetime(admissions['DISCHTIME'])\n",
    "admissions['DEATHTIME'] = pd.to_datetime(admissions['DEATHTIME'])"
   ]
  },
  {
   "cell_type": "code",
   "execution_count": 11,
   "metadata": {},
   "outputs": [],
   "source": [
    "admissions['MORTALITY_INHOSPITAL'] = admissions['DOD'].notnull() & ((admissions['ADMITTIME'] <= admissions['DOD']) & (admissions['DISCHTIME'] >= admissions['DOD']))\n",
    "admissions['MORTALITY_INHOSPITAL'] = admissions['MORTALITY_INHOSPITAL'] | (admissions['DEATHTIME'].notnull() & ((admissions['ADMITTIME'] <= admissions['DEATHTIME']) & (admissions['DISCHTIME'] >= admissions['DEATHTIME'])))\n",
    "admissions['MORTALITY_INHOSPITAL'] = admissions['MORTALITY_INHOSPITAL'].astype(int)"
   ]
  },
  {
   "cell_type": "code",
   "execution_count": 12,
   "metadata": {},
   "outputs": [
    {
     "data": {
      "text/plain": [
       "0    54948\n",
       "1     6584\n",
       "Name: MORTALITY_INHOSPITAL, dtype: int64"
      ]
     },
     "execution_count": 12,
     "metadata": {},
     "output_type": "execute_result"
    }
   ],
   "source": [
    "admissions['MORTALITY_INHOSPITAL'].value_counts()  #OBSERVACION: tenemos 61532 filas con icustays distintas"
   ]
  },
  {
   "cell_type": "code",
   "execution_count": 13,
   "metadata": {},
   "outputs": [],
   "source": [
    "admissions['INTIME'] = pd.to_datetime(admissions['INTIME'])\n",
    "admissions['OUTTIME'] = pd.to_datetime(admissions['OUTTIME'])"
   ]
  },
  {
   "cell_type": "code",
   "execution_count": 14,
   "metadata": {},
   "outputs": [],
   "source": [
    "admissions['MORTALITY_INUNIT'] = admissions['DOD'].notnull() & ((admissions['INTIME'] <= admissions['DOD']) & (admissions['OUTTIME'] >= admissions['DOD']))\n",
    "admissions['MORTALITY_INUNIT'] = admissions['MORTALITY_INUNIT'] | (admissions['DEATHTIME'].notnull() & ((admissions['INTIME'] <= admissions['DEATHTIME']) & (admissions['OUTTIME'] >= admissions['DEATHTIME'])))\n",
    "admissions['MORTALITY_INUNIT'] = admissions['MORTALITY_INUNIT'].astype(int)"
   ]
  },
  {
   "cell_type": "code",
   "execution_count": 15,
   "metadata": {},
   "outputs": [
    {
     "data": {
      "text/plain": [
       "0    56845\n",
       "1     4687\n",
       "Name: MORTALITY_INUNIT, dtype: int64"
      ]
     },
     "execution_count": 15,
     "metadata": {},
     "output_type": "execute_result"
    }
   ],
   "source": [
    "admissions['MORTALITY_INUNIT'].value_counts()"
   ]
  },
  {
   "cell_type": "code",
   "execution_count": 16,
   "metadata": {},
   "outputs": [
    {
     "data": {
      "text/html": [
       "<div>\n",
       "<style scoped>\n",
       "    .dataframe tbody tr th:only-of-type {\n",
       "        vertical-align: middle;\n",
       "    }\n",
       "\n",
       "    .dataframe tbody tr th {\n",
       "        vertical-align: top;\n",
       "    }\n",
       "\n",
       "    .dataframe thead th {\n",
       "        text-align: right;\n",
       "    }\n",
       "</style>\n",
       "<table border=\"1\" class=\"dataframe\">\n",
       "  <thead>\n",
       "    <tr style=\"text-align: right;\">\n",
       "      <th></th>\n",
       "      <th>SUBJECT_ID</th>\n",
       "      <th>DOB</th>\n",
       "      <th>DOD</th>\n",
       "      <th>HADM_ID</th>\n",
       "      <th>ADMITTIME</th>\n",
       "      <th>DISCHTIME</th>\n",
       "      <th>DEATHTIME</th>\n",
       "      <th>ICUSTAY_ID</th>\n",
       "      <th>INTIME</th>\n",
       "      <th>OUTTIME</th>\n",
       "      <th>MORTALITY_INHOSPITAL</th>\n",
       "      <th>MORTALITY_INUNIT</th>\n",
       "    </tr>\n",
       "  </thead>\n",
       "  <tbody>\n",
       "    <tr>\n",
       "      <th>0</th>\n",
       "      <td>249</td>\n",
       "      <td>2075-03-13 00:00:00</td>\n",
       "      <td>NaT</td>\n",
       "      <td>116935</td>\n",
       "      <td>2149-12-17 20:41:00</td>\n",
       "      <td>2149-12-31 14:55:00</td>\n",
       "      <td>NaT</td>\n",
       "      <td>215044</td>\n",
       "      <td>2149-12-18 20:06:02</td>\n",
       "      <td>2149-12-24 13:31:45</td>\n",
       "      <td>0</td>\n",
       "      <td>0</td>\n",
       "    </tr>\n",
       "    <tr>\n",
       "      <th>1</th>\n",
       "      <td>249</td>\n",
       "      <td>2075-03-13 00:00:00</td>\n",
       "      <td>NaT</td>\n",
       "      <td>149546</td>\n",
       "      <td>2155-02-03 20:16:00</td>\n",
       "      <td>2155-02-14 11:15:00</td>\n",
       "      <td>NaT</td>\n",
       "      <td>269035</td>\n",
       "      <td>2155-02-03 20:17:29</td>\n",
       "      <td>2155-02-05 18:34:02</td>\n",
       "      <td>0</td>\n",
       "      <td>0</td>\n",
       "    </tr>\n",
       "    <tr>\n",
       "      <th>2</th>\n",
       "      <td>249</td>\n",
       "      <td>2075-03-13 00:00:00</td>\n",
       "      <td>NaT</td>\n",
       "      <td>149546</td>\n",
       "      <td>2155-02-03 20:16:00</td>\n",
       "      <td>2155-02-14 11:15:00</td>\n",
       "      <td>NaT</td>\n",
       "      <td>263055</td>\n",
       "      <td>2155-02-07 18:51:16</td>\n",
       "      <td>2155-02-11 16:00:39</td>\n",
       "      <td>0</td>\n",
       "      <td>0</td>\n",
       "    </tr>\n",
       "    <tr>\n",
       "      <th>3</th>\n",
       "      <td>249</td>\n",
       "      <td>2075-03-13 00:00:00</td>\n",
       "      <td>NaT</td>\n",
       "      <td>158975</td>\n",
       "      <td>2156-04-27 15:33:00</td>\n",
       "      <td>2156-05-14 15:30:00</td>\n",
       "      <td>NaT</td>\n",
       "      <td>282599</td>\n",
       "      <td>2156-05-01 18:10:12</td>\n",
       "      <td>2156-05-03 18:43:45</td>\n",
       "      <td>0</td>\n",
       "      <td>0</td>\n",
       "    </tr>\n",
       "    <tr>\n",
       "      <th>4</th>\n",
       "      <td>249</td>\n",
       "      <td>2075-03-13 00:00:00</td>\n",
       "      <td>NaT</td>\n",
       "      <td>158975</td>\n",
       "      <td>2156-04-27 15:33:00</td>\n",
       "      <td>2156-05-14 15:30:00</td>\n",
       "      <td>NaT</td>\n",
       "      <td>263882</td>\n",
       "      <td>2156-05-10 17:47:35</td>\n",
       "      <td>2156-05-11 19:16:03</td>\n",
       "      <td>0</td>\n",
       "      <td>0</td>\n",
       "    </tr>\n",
       "    <tr>\n",
       "      <th>...</th>\n",
       "      <td>...</td>\n",
       "      <td>...</td>\n",
       "      <td>...</td>\n",
       "      <td>...</td>\n",
       "      <td>...</td>\n",
       "      <td>...</td>\n",
       "      <td>...</td>\n",
       "      <td>...</td>\n",
       "      <td>...</td>\n",
       "      <td>...</td>\n",
       "      <td>...</td>\n",
       "      <td>...</td>\n",
       "    </tr>\n",
       "    <tr>\n",
       "      <th>61527</th>\n",
       "      <td>44089</td>\n",
       "      <td>2026-05-25 00:00:00</td>\n",
       "      <td>NaT</td>\n",
       "      <td>165748</td>\n",
       "      <td>2111-09-30 12:04:00</td>\n",
       "      <td>2111-10-03 16:04:00</td>\n",
       "      <td>NaT</td>\n",
       "      <td>292151</td>\n",
       "      <td>2111-09-30 18:53:12</td>\n",
       "      <td>2111-10-01 20:03:50</td>\n",
       "      <td>0</td>\n",
       "      <td>0</td>\n",
       "    </tr>\n",
       "    <tr>\n",
       "      <th>61528</th>\n",
       "      <td>44115</td>\n",
       "      <td>2124-07-27 00:00:00</td>\n",
       "      <td>NaT</td>\n",
       "      <td>163623</td>\n",
       "      <td>2161-07-15 12:00:00</td>\n",
       "      <td>2161-07-19 12:30:00</td>\n",
       "      <td>NaT</td>\n",
       "      <td>264947</td>\n",
       "      <td>2161-07-15 17:16:25</td>\n",
       "      <td>2161-07-16 13:21:38</td>\n",
       "      <td>0</td>\n",
       "      <td>0</td>\n",
       "    </tr>\n",
       "    <tr>\n",
       "      <th>61529</th>\n",
       "      <td>44123</td>\n",
       "      <td>2049-11-26 00:00:00</td>\n",
       "      <td>2135-01-12</td>\n",
       "      <td>116395</td>\n",
       "      <td>2135-01-06 07:15:00</td>\n",
       "      <td>2135-01-12 02:50:00</td>\n",
       "      <td>2135-01-12 02:50:00</td>\n",
       "      <td>264065</td>\n",
       "      <td>2135-01-06 09:54:24</td>\n",
       "      <td>2135-01-12 04:50:52</td>\n",
       "      <td>1</td>\n",
       "      <td>1</td>\n",
       "    </tr>\n",
       "    <tr>\n",
       "      <th>61530</th>\n",
       "      <td>44126</td>\n",
       "      <td>2076-07-25 00:00:00</td>\n",
       "      <td>NaT</td>\n",
       "      <td>183530</td>\n",
       "      <td>2129-01-03 07:15:00</td>\n",
       "      <td>2129-01-11 12:29:00</td>\n",
       "      <td>NaT</td>\n",
       "      <td>241939</td>\n",
       "      <td>2129-01-05 16:51:31</td>\n",
       "      <td>2129-01-07 18:03:39</td>\n",
       "      <td>0</td>\n",
       "      <td>0</td>\n",
       "    </tr>\n",
       "    <tr>\n",
       "      <th>61531</th>\n",
       "      <td>44128</td>\n",
       "      <td>2098-07-25 00:00:00</td>\n",
       "      <td>NaT</td>\n",
       "      <td>141304</td>\n",
       "      <td>2149-06-08 15:21:00</td>\n",
       "      <td>2149-06-23 18:44:00</td>\n",
       "      <td>NaT</td>\n",
       "      <td>253669</td>\n",
       "      <td>2149-06-11 02:22:10</td>\n",
       "      <td>2149-06-13 18:41:14</td>\n",
       "      <td>0</td>\n",
       "      <td>0</td>\n",
       "    </tr>\n",
       "  </tbody>\n",
       "</table>\n",
       "<p>61532 rows × 12 columns</p>\n",
       "</div>"
      ],
      "text/plain": [
       "       SUBJECT_ID                  DOB        DOD  HADM_ID  \\\n",
       "0             249  2075-03-13 00:00:00        NaT   116935   \n",
       "1             249  2075-03-13 00:00:00        NaT   149546   \n",
       "2             249  2075-03-13 00:00:00        NaT   149546   \n",
       "3             249  2075-03-13 00:00:00        NaT   158975   \n",
       "4             249  2075-03-13 00:00:00        NaT   158975   \n",
       "...           ...                  ...        ...      ...   \n",
       "61527       44089  2026-05-25 00:00:00        NaT   165748   \n",
       "61528       44115  2124-07-27 00:00:00        NaT   163623   \n",
       "61529       44123  2049-11-26 00:00:00 2135-01-12   116395   \n",
       "61530       44126  2076-07-25 00:00:00        NaT   183530   \n",
       "61531       44128  2098-07-25 00:00:00        NaT   141304   \n",
       "\n",
       "                ADMITTIME           DISCHTIME           DEATHTIME  ICUSTAY_ID  \\\n",
       "0     2149-12-17 20:41:00 2149-12-31 14:55:00                 NaT      215044   \n",
       "1     2155-02-03 20:16:00 2155-02-14 11:15:00                 NaT      269035   \n",
       "2     2155-02-03 20:16:00 2155-02-14 11:15:00                 NaT      263055   \n",
       "3     2156-04-27 15:33:00 2156-05-14 15:30:00                 NaT      282599   \n",
       "4     2156-04-27 15:33:00 2156-05-14 15:30:00                 NaT      263882   \n",
       "...                   ...                 ...                 ...         ...   \n",
       "61527 2111-09-30 12:04:00 2111-10-03 16:04:00                 NaT      292151   \n",
       "61528 2161-07-15 12:00:00 2161-07-19 12:30:00                 NaT      264947   \n",
       "61529 2135-01-06 07:15:00 2135-01-12 02:50:00 2135-01-12 02:50:00      264065   \n",
       "61530 2129-01-03 07:15:00 2129-01-11 12:29:00                 NaT      241939   \n",
       "61531 2149-06-08 15:21:00 2149-06-23 18:44:00                 NaT      253669   \n",
       "\n",
       "                   INTIME             OUTTIME  MORTALITY_INHOSPITAL  \\\n",
       "0     2149-12-18 20:06:02 2149-12-24 13:31:45                     0   \n",
       "1     2155-02-03 20:17:29 2155-02-05 18:34:02                     0   \n",
       "2     2155-02-07 18:51:16 2155-02-11 16:00:39                     0   \n",
       "3     2156-05-01 18:10:12 2156-05-03 18:43:45                     0   \n",
       "4     2156-05-10 17:47:35 2156-05-11 19:16:03                     0   \n",
       "...                   ...                 ...                   ...   \n",
       "61527 2111-09-30 18:53:12 2111-10-01 20:03:50                     0   \n",
       "61528 2161-07-15 17:16:25 2161-07-16 13:21:38                     0   \n",
       "61529 2135-01-06 09:54:24 2135-01-12 04:50:52                     1   \n",
       "61530 2129-01-05 16:51:31 2129-01-07 18:03:39                     0   \n",
       "61531 2149-06-11 02:22:10 2149-06-13 18:41:14                     0   \n",
       "\n",
       "       MORTALITY_INUNIT  \n",
       "0                     0  \n",
       "1                     0  \n",
       "2                     0  \n",
       "3                     0  \n",
       "4                     0  \n",
       "...                 ...  \n",
       "61527                 0  \n",
       "61528                 0  \n",
       "61529                 1  \n",
       "61530                 0  \n",
       "61531                 0  \n",
       "\n",
       "[61532 rows x 12 columns]"
      ]
     },
     "execution_count": 16,
     "metadata": {},
     "output_type": "execute_result"
    }
   ],
   "source": [
    "admissions"
   ]
  },
  {
   "cell_type": "code",
   "execution_count": 17,
   "metadata": {},
   "outputs": [],
   "source": [
    "result_24_horas_final=pd.read_csv('result_24_horas_final.csv')"
   ]
  },
  {
   "cell_type": "code",
   "execution_count": 18,
   "metadata": {},
   "outputs": [
    {
     "data": {
      "text/plain": [
       "Unnamed: 0.1          0\n",
       "Unnamed: 0            0\n",
       "SUBJECT_ID            0\n",
       "HADM_ID               0\n",
       "ADMITTIME             0\n",
       "ADMISSION_TYPE        0\n",
       "ICUSTAY_ID            0\n",
       "INTIME                0\n",
       "LOS                  10\n",
       "AGE                   0\n",
       "PRELOS                0\n",
       "OASIS             13655\n",
       "OASIS_NONAN           0\n",
       "dtype: int64"
      ]
     },
     "execution_count": 18,
     "metadata": {},
     "output_type": "execute_result"
    }
   ],
   "source": [
    "result_24_horas_final.isnull().sum()"
   ]
  },
  {
   "cell_type": "code",
   "execution_count": 19,
   "metadata": {},
   "outputs": [
    {
     "data": {
      "text/plain": [
       "Unnamed: 0.1          0\n",
       "Unnamed: 0            0\n",
       "SUBJECT_ID            0\n",
       "HADM_ID               0\n",
       "ADMITTIME             0\n",
       "ADMISSION_TYPE        0\n",
       "ICUSTAY_ID            0\n",
       "INTIME                0\n",
       "LOS                   0\n",
       "AGE                   0\n",
       "PRELOS                0\n",
       "OASIS             13645\n",
       "OASIS_NONAN           0\n",
       "dtype: int64"
      ]
     },
     "execution_count": 19,
     "metadata": {},
     "output_type": "execute_result"
    }
   ],
   "source": [
    "result_24_horas_final = result_24_horas_final[result_24_horas_final['LOS'].notnull()] \n",
    "result_24_horas_final.isnull().sum()"
   ]
  },
  {
   "cell_type": "code",
   "execution_count": 20,
   "metadata": {},
   "outputs": [
    {
     "data": {
      "text/html": [
       "<div>\n",
       "<style scoped>\n",
       "    .dataframe tbody tr th:only-of-type {\n",
       "        vertical-align: middle;\n",
       "    }\n",
       "\n",
       "    .dataframe tbody tr th {\n",
       "        vertical-align: top;\n",
       "    }\n",
       "\n",
       "    .dataframe thead th {\n",
       "        text-align: right;\n",
       "    }\n",
       "</style>\n",
       "<table border=\"1\" class=\"dataframe\">\n",
       "  <thead>\n",
       "    <tr style=\"text-align: right;\">\n",
       "      <th></th>\n",
       "      <th>SUBJECT_ID</th>\n",
       "      <th>HADM_ID</th>\n",
       "      <th>ICUSTAY_ID</th>\n",
       "      <th>OASIS_NONAN</th>\n",
       "    </tr>\n",
       "  </thead>\n",
       "  <tbody>\n",
       "    <tr>\n",
       "      <th>0</th>\n",
       "      <td>20150</td>\n",
       "      <td>181574</td>\n",
       "      <td>201858</td>\n",
       "      <td>0.0</td>\n",
       "    </tr>\n",
       "    <tr>\n",
       "      <th>1</th>\n",
       "      <td>1472</td>\n",
       "      <td>161232</td>\n",
       "      <td>244372</td>\n",
       "      <td>35.0</td>\n",
       "    </tr>\n",
       "    <tr>\n",
       "      <th>2</th>\n",
       "      <td>81875</td>\n",
       "      <td>143469</td>\n",
       "      <td>238281</td>\n",
       "      <td>24.0</td>\n",
       "    </tr>\n",
       "    <tr>\n",
       "      <th>3</th>\n",
       "      <td>2575</td>\n",
       "      <td>147416</td>\n",
       "      <td>275754</td>\n",
       "      <td>6.0</td>\n",
       "    </tr>\n",
       "    <tr>\n",
       "      <th>4</th>\n",
       "      <td>56209</td>\n",
       "      <td>117730</td>\n",
       "      <td>228215</td>\n",
       "      <td>42.0</td>\n",
       "    </tr>\n",
       "    <tr>\n",
       "      <th>...</th>\n",
       "      <td>...</td>\n",
       "      <td>...</td>\n",
       "      <td>...</td>\n",
       "      <td>...</td>\n",
       "    </tr>\n",
       "    <tr>\n",
       "      <th>61517</th>\n",
       "      <td>27539</td>\n",
       "      <td>185042</td>\n",
       "      <td>279501</td>\n",
       "      <td>30.0</td>\n",
       "    </tr>\n",
       "    <tr>\n",
       "      <th>61518</th>\n",
       "      <td>80156</td>\n",
       "      <td>171470</td>\n",
       "      <td>263893</td>\n",
       "      <td>34.0</td>\n",
       "    </tr>\n",
       "    <tr>\n",
       "      <th>61519</th>\n",
       "      <td>24938</td>\n",
       "      <td>154322</td>\n",
       "      <td>236223</td>\n",
       "      <td>35.0</td>\n",
       "    </tr>\n",
       "    <tr>\n",
       "      <th>61520</th>\n",
       "      <td>21514</td>\n",
       "      <td>108728</td>\n",
       "      <td>296621</td>\n",
       "      <td>27.0</td>\n",
       "    </tr>\n",
       "    <tr>\n",
       "      <th>61521</th>\n",
       "      <td>84410</td>\n",
       "      <td>151056</td>\n",
       "      <td>226987</td>\n",
       "      <td>29.0</td>\n",
       "    </tr>\n",
       "  </tbody>\n",
       "</table>\n",
       "<p>61522 rows × 4 columns</p>\n",
       "</div>"
      ],
      "text/plain": [
       "       SUBJECT_ID  HADM_ID  ICUSTAY_ID  OASIS_NONAN\n",
       "0           20150   181574      201858          0.0\n",
       "1            1472   161232      244372         35.0\n",
       "2           81875   143469      238281         24.0\n",
       "3            2575   147416      275754          6.0\n",
       "4           56209   117730      228215         42.0\n",
       "...           ...      ...         ...          ...\n",
       "61517       27539   185042      279501         30.0\n",
       "61518       80156   171470      263893         34.0\n",
       "61519       24938   154322      236223         35.0\n",
       "61520       21514   108728      296621         27.0\n",
       "61521       84410   151056      226987         29.0\n",
       "\n",
       "[61522 rows x 4 columns]"
      ]
     },
     "execution_count": 20,
     "metadata": {},
     "output_type": "execute_result"
    }
   ],
   "source": [
    "result_24_horas_final = result_24_horas_final[['SUBJECT_ID','HADM_ID','ICUSTAY_ID','OASIS_NONAN']]\n",
    "result_24_horas_final = result_24_horas_final.reset_index(drop=True)\n",
    "result_24_horas_final"
   ]
  },
  {
   "cell_type": "markdown",
   "metadata": {},
   "source": [
    "## Predecimos in-hospital-mortality"
   ]
  },
  {
   "cell_type": "markdown",
   "metadata": {},
   "source": [
    "### Cohort Selection:"
   ]
  },
  {
   "cell_type": "code",
   "execution_count": 21,
   "metadata": {},
   "outputs": [],
   "source": [
    "#we compute the age at the time the patient is admitted to the ICU from date of birth dob, then we drop dob.\n",
    "admissions['DOB'] = pd.to_datetime(admissions['DOB']).dt.date\n",
    "admissions['INTIME_TMP'] = pd.to_datetime(admissions['INTIME']).dt.date\n",
    "admissions['AGE'] = admissions.apply(lambda e: (e['INTIME_TMP'] - e['DOB']).days/365, axis=1)\n",
    "admissions=admissions.drop(['DOB','INTIME_TMP'], axis=1)"
   ]
  },
  {
   "cell_type": "code",
   "execution_count": 22,
   "metadata": {},
   "outputs": [
    {
     "name": "stdout",
     "output_type": "stream",
     "text": [
      "(53332, 12)\n",
      "unique SUBJECT_ID: 38512\n",
      "unique HADM_ID   : 49695\n",
      "unique ICUSTAY_ID: 53332\n"
     ]
    },
    {
     "data": {
      "text/html": [
       "<div>\n",
       "<style scoped>\n",
       "    .dataframe tbody tr th:only-of-type {\n",
       "        vertical-align: middle;\n",
       "    }\n",
       "\n",
       "    .dataframe tbody tr th {\n",
       "        vertical-align: top;\n",
       "    }\n",
       "\n",
       "    .dataframe thead th {\n",
       "        text-align: right;\n",
       "    }\n",
       "</style>\n",
       "<table border=\"1\" class=\"dataframe\">\n",
       "  <thead>\n",
       "    <tr style=\"text-align: right;\">\n",
       "      <th></th>\n",
       "      <th>SUBJECT_ID</th>\n",
       "      <th>DOD</th>\n",
       "      <th>HADM_ID</th>\n",
       "      <th>ADMITTIME</th>\n",
       "      <th>DISCHTIME</th>\n",
       "      <th>DEATHTIME</th>\n",
       "      <th>ICUSTAY_ID</th>\n",
       "      <th>INTIME</th>\n",
       "      <th>OUTTIME</th>\n",
       "      <th>MORTALITY_INHOSPITAL</th>\n",
       "      <th>MORTALITY_INUNIT</th>\n",
       "      <th>AGE</th>\n",
       "    </tr>\n",
       "  </thead>\n",
       "  <tbody>\n",
       "    <tr>\n",
       "      <th>0</th>\n",
       "      <td>249</td>\n",
       "      <td>NaT</td>\n",
       "      <td>116935</td>\n",
       "      <td>2149-12-17 20:41:00</td>\n",
       "      <td>2149-12-31 14:55:00</td>\n",
       "      <td>NaT</td>\n",
       "      <td>215044</td>\n",
       "      <td>2149-12-18 20:06:02</td>\n",
       "      <td>2149-12-24 13:31:45</td>\n",
       "      <td>0</td>\n",
       "      <td>0</td>\n",
       "      <td>74.816438</td>\n",
       "    </tr>\n",
       "    <tr>\n",
       "      <th>1</th>\n",
       "      <td>249</td>\n",
       "      <td>NaT</td>\n",
       "      <td>149546</td>\n",
       "      <td>2155-02-03 20:16:00</td>\n",
       "      <td>2155-02-14 11:15:00</td>\n",
       "      <td>NaT</td>\n",
       "      <td>269035</td>\n",
       "      <td>2155-02-03 20:17:29</td>\n",
       "      <td>2155-02-05 18:34:02</td>\n",
       "      <td>0</td>\n",
       "      <td>0</td>\n",
       "      <td>79.947945</td>\n",
       "    </tr>\n",
       "    <tr>\n",
       "      <th>2</th>\n",
       "      <td>249</td>\n",
       "      <td>NaT</td>\n",
       "      <td>149546</td>\n",
       "      <td>2155-02-03 20:16:00</td>\n",
       "      <td>2155-02-14 11:15:00</td>\n",
       "      <td>NaT</td>\n",
       "      <td>263055</td>\n",
       "      <td>2155-02-07 18:51:16</td>\n",
       "      <td>2155-02-11 16:00:39</td>\n",
       "      <td>0</td>\n",
       "      <td>0</td>\n",
       "      <td>79.958904</td>\n",
       "    </tr>\n",
       "    <tr>\n",
       "      <th>3</th>\n",
       "      <td>249</td>\n",
       "      <td>NaT</td>\n",
       "      <td>158975</td>\n",
       "      <td>2156-04-27 15:33:00</td>\n",
       "      <td>2156-05-14 15:30:00</td>\n",
       "      <td>NaT</td>\n",
       "      <td>282599</td>\n",
       "      <td>2156-05-01 18:10:12</td>\n",
       "      <td>2156-05-03 18:43:45</td>\n",
       "      <td>0</td>\n",
       "      <td>0</td>\n",
       "      <td>81.189041</td>\n",
       "    </tr>\n",
       "    <tr>\n",
       "      <th>4</th>\n",
       "      <td>249</td>\n",
       "      <td>NaT</td>\n",
       "      <td>158975</td>\n",
       "      <td>2156-04-27 15:33:00</td>\n",
       "      <td>2156-05-14 15:30:00</td>\n",
       "      <td>NaT</td>\n",
       "      <td>263882</td>\n",
       "      <td>2156-05-10 17:47:35</td>\n",
       "      <td>2156-05-11 19:16:03</td>\n",
       "      <td>0</td>\n",
       "      <td>0</td>\n",
       "      <td>81.213699</td>\n",
       "    </tr>\n",
       "  </tbody>\n",
       "</table>\n",
       "</div>"
      ],
      "text/plain": [
       "   SUBJECT_ID DOD  HADM_ID           ADMITTIME           DISCHTIME DEATHTIME  \\\n",
       "0         249 NaT   116935 2149-12-17 20:41:00 2149-12-31 14:55:00       NaT   \n",
       "1         249 NaT   149546 2155-02-03 20:16:00 2155-02-14 11:15:00       NaT   \n",
       "2         249 NaT   149546 2155-02-03 20:16:00 2155-02-14 11:15:00       NaT   \n",
       "3         249 NaT   158975 2156-04-27 15:33:00 2156-05-14 15:30:00       NaT   \n",
       "4         249 NaT   158975 2156-04-27 15:33:00 2156-05-14 15:30:00       NaT   \n",
       "\n",
       "   ICUSTAY_ID              INTIME             OUTTIME  MORTALITY_INHOSPITAL  \\\n",
       "0      215044 2149-12-18 20:06:02 2149-12-24 13:31:45                     0   \n",
       "1      269035 2155-02-03 20:17:29 2155-02-05 18:34:02                     0   \n",
       "2      263055 2155-02-07 18:51:16 2155-02-11 16:00:39                     0   \n",
       "3      282599 2156-05-01 18:10:12 2156-05-03 18:43:45                     0   \n",
       "4      263882 2156-05-10 17:47:35 2156-05-11 19:16:03                     0   \n",
       "\n",
       "   MORTALITY_INUNIT        AGE  \n",
       "0                 0  74.816438  \n",
       "1                 0  79.947945  \n",
       "2                 0  79.958904  \n",
       "3                 0  81.189041  \n",
       "4                 0  81.213699  "
      ]
     },
     "execution_count": 22,
     "metadata": {},
     "output_type": "execute_result"
    }
   ],
   "source": [
    "#Excluir admissions < 18 years old\n",
    "admissions_filtradas = admissions[~(admissions['AGE'] < 18)]\n",
    "print(admissions_filtradas.shape)\n",
    "print('unique SUBJECT_ID:', admissions_filtradas.SUBJECT_ID.nunique())\n",
    "print('unique HADM_ID   :', admissions_filtradas.HADM_ID.nunique())\n",
    "print('unique ICUSTAY_ID:', admissions_filtradas.ICUSTAY_ID.nunique())\n",
    "admissions_filtradas.head()"
   ]
  },
  {
   "cell_type": "code",
   "execution_count": 23,
   "metadata": {},
   "outputs": [
    {
     "data": {
      "text/html": [
       "<div>\n",
       "<style scoped>\n",
       "    .dataframe tbody tr th:only-of-type {\n",
       "        vertical-align: middle;\n",
       "    }\n",
       "\n",
       "    .dataframe tbody tr th {\n",
       "        vertical-align: top;\n",
       "    }\n",
       "\n",
       "    .dataframe thead th {\n",
       "        text-align: right;\n",
       "    }\n",
       "</style>\n",
       "<table border=\"1\" class=\"dataframe\">\n",
       "  <thead>\n",
       "    <tr style=\"text-align: right;\">\n",
       "      <th></th>\n",
       "      <th>SUBJECT_ID</th>\n",
       "      <th>DOD</th>\n",
       "      <th>HADM_ID</th>\n",
       "      <th>ADMITTIME</th>\n",
       "      <th>DISCHTIME</th>\n",
       "      <th>DEATHTIME</th>\n",
       "      <th>ICUSTAY_ID</th>\n",
       "      <th>INTIME</th>\n",
       "      <th>OUTTIME</th>\n",
       "      <th>MORTALITY_INHOSPITAL</th>\n",
       "      <th>MORTALITY_INUNIT</th>\n",
       "      <th>AGE</th>\n",
       "    </tr>\n",
       "  </thead>\n",
       "  <tbody>\n",
       "    <tr>\n",
       "      <th>34933</th>\n",
       "      <td>59618</td>\n",
       "      <td>2102-02-11</td>\n",
       "      <td>101145</td>\n",
       "      <td>2102-01-20 20:38:00</td>\n",
       "      <td>2102-01-25 15:00:00</td>\n",
       "      <td>NaT</td>\n",
       "      <td>226547</td>\n",
       "      <td>2102-01-20 20:39:57</td>\n",
       "      <td>2102-01-21 20:33:19</td>\n",
       "      <td>0</td>\n",
       "      <td>0</td>\n",
       "      <td>74.430137</td>\n",
       "    </tr>\n",
       "    <tr>\n",
       "      <th>34934</th>\n",
       "      <td>59618</td>\n",
       "      <td>2102-02-11</td>\n",
       "      <td>157029</td>\n",
       "      <td>2102-02-09 18:14:00</td>\n",
       "      <td>2102-02-11 01:00:00</td>\n",
       "      <td>2102-02-11 01:00:00</td>\n",
       "      <td>275273</td>\n",
       "      <td>2102-02-09 18:15:37</td>\n",
       "      <td>2102-02-11 01:42:05</td>\n",
       "      <td>1</td>\n",
       "      <td>1</td>\n",
       "      <td>74.484932</td>\n",
       "    </tr>\n",
       "  </tbody>\n",
       "</table>\n",
       "</div>"
      ],
      "text/plain": [
       "       SUBJECT_ID        DOD  HADM_ID           ADMITTIME           DISCHTIME  \\\n",
       "34933       59618 2102-02-11   101145 2102-01-20 20:38:00 2102-01-25 15:00:00   \n",
       "34934       59618 2102-02-11   157029 2102-02-09 18:14:00 2102-02-11 01:00:00   \n",
       "\n",
       "                DEATHTIME  ICUSTAY_ID              INTIME             OUTTIME  \\\n",
       "34933                 NaT      226547 2102-01-20 20:39:57 2102-01-21 20:33:19   \n",
       "34934 2102-02-11 01:00:00      275273 2102-02-09 18:15:37 2102-02-11 01:42:05   \n",
       "\n",
       "       MORTALITY_INHOSPITAL  MORTALITY_INUNIT        AGE  \n",
       "34933                     0                 0  74.430137  \n",
       "34934                     1                 1  74.484932  "
      ]
     },
     "execution_count": 23,
     "metadata": {},
     "output_type": "execute_result"
    }
   ],
   "source": [
    "admissions_filtradas.loc[admissions_filtradas['SUBJECT_ID'] == 59618]\n",
    "#Ejemplo de un SUBJECT_ID con dos ICUSTAY_ID pero son de HADM_ID distintas."
   ]
  },
  {
   "cell_type": "markdown",
   "metadata": {
    "id": "FzPs38wEveMs"
   },
   "source": [
    "### Predecir  in-hospital-mortality  con oasis calculada en 24  horas  (considerando los oasis_variable nan como 0.0 (usar np.nansum), i.e. en rango 'normal') + dataset original, no balanceado + mismo cohorte que benchmark"
   ]
  },
  {
   "cell_type": "code",
   "execution_count": 24,
   "metadata": {},
   "outputs": [],
   "source": [
    "result_24_horas_final=pd.merge(result_24_horas_final, admissions_filtradas, on=['SUBJECT_ID','HADM_ID','ICUSTAY_ID'])"
   ]
  },
  {
   "cell_type": "code",
   "execution_count": 25,
   "metadata": {},
   "outputs": [
    {
     "name": "stdout",
     "output_type": "stream",
     "text": [
      "(53329, 13)\n",
      "unique SUBJECT_ID: 38510\n",
      "unique HADM_ID   : 49692\n",
      "unique ICUSTAY_ID   : 53329\n"
     ]
    },
    {
     "data": {
      "text/html": [
       "<div>\n",
       "<style scoped>\n",
       "    .dataframe tbody tr th:only-of-type {\n",
       "        vertical-align: middle;\n",
       "    }\n",
       "\n",
       "    .dataframe tbody tr th {\n",
       "        vertical-align: top;\n",
       "    }\n",
       "\n",
       "    .dataframe thead th {\n",
       "        text-align: right;\n",
       "    }\n",
       "</style>\n",
       "<table border=\"1\" class=\"dataframe\">\n",
       "  <thead>\n",
       "    <tr style=\"text-align: right;\">\n",
       "      <th></th>\n",
       "      <th>SUBJECT_ID</th>\n",
       "      <th>HADM_ID</th>\n",
       "      <th>ICUSTAY_ID</th>\n",
       "      <th>OASIS_NONAN</th>\n",
       "      <th>DOD</th>\n",
       "      <th>ADMITTIME</th>\n",
       "      <th>DISCHTIME</th>\n",
       "      <th>DEATHTIME</th>\n",
       "      <th>INTIME</th>\n",
       "      <th>OUTTIME</th>\n",
       "      <th>MORTALITY_INHOSPITAL</th>\n",
       "      <th>MORTALITY_INUNIT</th>\n",
       "      <th>AGE</th>\n",
       "    </tr>\n",
       "  </thead>\n",
       "  <tbody>\n",
       "    <tr>\n",
       "      <th>0</th>\n",
       "      <td>1472</td>\n",
       "      <td>161232</td>\n",
       "      <td>244372</td>\n",
       "      <td>35.0</td>\n",
       "      <td>2107-10-03</td>\n",
       "      <td>2107-09-26 15:46:00</td>\n",
       "      <td>2107-10-03 10:15:00</td>\n",
       "      <td>2107-10-03 10:15:00</td>\n",
       "      <td>2107-10-01 21:58:11</td>\n",
       "      <td>2107-10-02 17:52:54</td>\n",
       "      <td>1</td>\n",
       "      <td>0</td>\n",
       "      <td>80.646575</td>\n",
       "    </tr>\n",
       "    <tr>\n",
       "      <th>1</th>\n",
       "      <td>81875</td>\n",
       "      <td>143469</td>\n",
       "      <td>238281</td>\n",
       "      <td>24.0</td>\n",
       "      <td>NaT</td>\n",
       "      <td>2193-09-03 19:30:00</td>\n",
       "      <td>2193-09-07 16:50:00</td>\n",
       "      <td>NaT</td>\n",
       "      <td>2193-09-03 19:30:45</td>\n",
       "      <td>2193-09-04 19:43:22</td>\n",
       "      <td>0</td>\n",
       "      <td>0</td>\n",
       "      <td>77.698630</td>\n",
       "    </tr>\n",
       "    <tr>\n",
       "      <th>2</th>\n",
       "      <td>56209</td>\n",
       "      <td>117730</td>\n",
       "      <td>228215</td>\n",
       "      <td>42.0</td>\n",
       "      <td>NaT</td>\n",
       "      <td>2179-09-04 08:18:00</td>\n",
       "      <td>2179-09-10 16:38:00</td>\n",
       "      <td>NaT</td>\n",
       "      <td>2179-09-04 08:19:18</td>\n",
       "      <td>2179-09-07 20:48:47</td>\n",
       "      <td>0</td>\n",
       "      <td>0</td>\n",
       "      <td>18.254795</td>\n",
       "    </tr>\n",
       "    <tr>\n",
       "      <th>3</th>\n",
       "      <td>5056</td>\n",
       "      <td>156002</td>\n",
       "      <td>210815</td>\n",
       "      <td>29.0</td>\n",
       "      <td>2171-05-21</td>\n",
       "      <td>2171-05-01 17:29:00</td>\n",
       "      <td>2171-05-21 12:00:00</td>\n",
       "      <td>2171-05-21 12:00:00</td>\n",
       "      <td>2171-05-16 09:39:01</td>\n",
       "      <td>2171-05-21 14:25:12</td>\n",
       "      <td>1</td>\n",
       "      <td>1</td>\n",
       "      <td>39.641096</td>\n",
       "    </tr>\n",
       "    <tr>\n",
       "      <th>4</th>\n",
       "      <td>19228</td>\n",
       "      <td>138019</td>\n",
       "      <td>240880</td>\n",
       "      <td>19.0</td>\n",
       "      <td>NaT</td>\n",
       "      <td>2193-07-23 18:49:00</td>\n",
       "      <td>2193-08-01 17:19:00</td>\n",
       "      <td>NaT</td>\n",
       "      <td>2193-07-26 17:57:04</td>\n",
       "      <td>2193-07-29 14:48:59</td>\n",
       "      <td>0</td>\n",
       "      <td>0</td>\n",
       "      <td>51.241096</td>\n",
       "    </tr>\n",
       "  </tbody>\n",
       "</table>\n",
       "</div>"
      ],
      "text/plain": [
       "   SUBJECT_ID  HADM_ID  ICUSTAY_ID  OASIS_NONAN        DOD  \\\n",
       "0        1472   161232      244372         35.0 2107-10-03   \n",
       "1       81875   143469      238281         24.0        NaT   \n",
       "2       56209   117730      228215         42.0        NaT   \n",
       "3        5056   156002      210815         29.0 2171-05-21   \n",
       "4       19228   138019      240880         19.0        NaT   \n",
       "\n",
       "            ADMITTIME           DISCHTIME           DEATHTIME  \\\n",
       "0 2107-09-26 15:46:00 2107-10-03 10:15:00 2107-10-03 10:15:00   \n",
       "1 2193-09-03 19:30:00 2193-09-07 16:50:00                 NaT   \n",
       "2 2179-09-04 08:18:00 2179-09-10 16:38:00                 NaT   \n",
       "3 2171-05-01 17:29:00 2171-05-21 12:00:00 2171-05-21 12:00:00   \n",
       "4 2193-07-23 18:49:00 2193-08-01 17:19:00                 NaT   \n",
       "\n",
       "               INTIME             OUTTIME  MORTALITY_INHOSPITAL  \\\n",
       "0 2107-10-01 21:58:11 2107-10-02 17:52:54                     1   \n",
       "1 2193-09-03 19:30:45 2193-09-04 19:43:22                     0   \n",
       "2 2179-09-04 08:19:18 2179-09-07 20:48:47                     0   \n",
       "3 2171-05-16 09:39:01 2171-05-21 14:25:12                     1   \n",
       "4 2193-07-26 17:57:04 2193-07-29 14:48:59                     0   \n",
       "\n",
       "   MORTALITY_INUNIT        AGE  \n",
       "0                 0  80.646575  \n",
       "1                 0  77.698630  \n",
       "2                 0  18.254795  \n",
       "3                 1  39.641096  \n",
       "4                 0  51.241096  "
      ]
     },
     "execution_count": 25,
     "metadata": {},
     "output_type": "execute_result"
    }
   ],
   "source": [
    "print(result_24_horas_final.shape)\n",
    "print('unique SUBJECT_ID:', result_24_horas_final.SUBJECT_ID.nunique())\n",
    "print('unique HADM_ID   :', result_24_horas_final.HADM_ID.nunique())\n",
    "print('unique ICUSTAY_ID   :', result_24_horas_final.ICUSTAY_ID.nunique())\n",
    "result_24_horas_final.head()"
   ]
  },
  {
   "cell_type": "code",
   "execution_count": 26,
   "metadata": {},
   "outputs": [
    {
     "data": {
      "text/html": [
       "<div>\n",
       "<style scoped>\n",
       "    .dataframe tbody tr th:only-of-type {\n",
       "        vertical-align: middle;\n",
       "    }\n",
       "\n",
       "    .dataframe tbody tr th {\n",
       "        vertical-align: top;\n",
       "    }\n",
       "\n",
       "    .dataframe thead th {\n",
       "        text-align: right;\n",
       "    }\n",
       "</style>\n",
       "<table border=\"1\" class=\"dataframe\">\n",
       "  <thead>\n",
       "    <tr style=\"text-align: right;\">\n",
       "      <th></th>\n",
       "      <th>MORTALITY_INHOSPITAL</th>\n",
       "      <th>OASIS_NONAN</th>\n",
       "      <th>ICUSTAY_ID</th>\n",
       "    </tr>\n",
       "  </thead>\n",
       "  <tbody>\n",
       "    <tr>\n",
       "      <th>0</th>\n",
       "      <td>1</td>\n",
       "      <td>35.0</td>\n",
       "      <td>244372</td>\n",
       "    </tr>\n",
       "    <tr>\n",
       "      <th>1</th>\n",
       "      <td>0</td>\n",
       "      <td>24.0</td>\n",
       "      <td>238281</td>\n",
       "    </tr>\n",
       "    <tr>\n",
       "      <th>2</th>\n",
       "      <td>0</td>\n",
       "      <td>42.0</td>\n",
       "      <td>228215</td>\n",
       "    </tr>\n",
       "    <tr>\n",
       "      <th>3</th>\n",
       "      <td>1</td>\n",
       "      <td>29.0</td>\n",
       "      <td>210815</td>\n",
       "    </tr>\n",
       "    <tr>\n",
       "      <th>4</th>\n",
       "      <td>0</td>\n",
       "      <td>19.0</td>\n",
       "      <td>240880</td>\n",
       "    </tr>\n",
       "  </tbody>\n",
       "</table>\n",
       "</div>"
      ],
      "text/plain": [
       "   MORTALITY_INHOSPITAL  OASIS_NONAN  ICUSTAY_ID\n",
       "0                     1         35.0      244372\n",
       "1                     0         24.0      238281\n",
       "2                     0         42.0      228215\n",
       "3                     1         29.0      210815\n",
       "4                     0         19.0      240880"
      ]
     },
     "execution_count": 26,
     "metadata": {},
     "output_type": "execute_result"
    }
   ],
   "source": [
    "result_24_horas_nonnan=result_24_horas_final[['MORTALITY_INHOSPITAL','OASIS_NONAN','ICUSTAY_ID']]\n",
    "result_24_horas_nonnan.head()"
   ]
  },
  {
   "cell_type": "code",
   "execution_count": 27,
   "metadata": {},
   "outputs": [
    {
     "data": {
      "text/plain": [
       "0    46814\n",
       "1     6515\n",
       "Name: MORTALITY_INHOSPITAL, dtype: int64"
      ]
     },
     "execution_count": 27,
     "metadata": {},
     "output_type": "execute_result"
    }
   ],
   "source": [
    "result_24_horas_nonnan['MORTALITY_INHOSPITAL'].value_counts()"
   ]
  },
  {
   "cell_type": "code",
   "execution_count": 28,
   "metadata": {},
   "outputs": [
    {
     "data": {
      "text/plain": [
       "(53329, 3)"
      ]
     },
     "execution_count": 28,
     "metadata": {},
     "output_type": "execute_result"
    }
   ],
   "source": [
    "result_24_horas_nonnan=result_24_horas_nonnan.dropna()\n",
    "result_24_horas_nonnan.shape"
   ]
  },
  {
   "cell_type": "markdown",
   "metadata": {},
   "source": [
    "Normalmente basta con train_test_split para tener conjunto de entrenamiento (Train set) y conjunto de prueba (Test set). Pero como queremos comparar con otros modelos, recomienda mantener un mismo Test set. Por lo tanto, usamos ficheros llamados 'listfilexx' para poder rastrear el Test/Train set. (obs. estas listfiles se obtienen ejecutando create_in_hospital_mortality_icustayidListFile.py)"
   ]
  },
  {
   "cell_type": "code",
   "execution_count": 29,
   "metadata": {},
   "outputs": [],
   "source": [
    "#from sklearn.model_selection import train_test_split\n",
    "#from sklearn import preprocessing\n",
    "#X_train, X_test, y_train, y_test = train_test_split(X, y, test_size=0.15, random_state=42)"
   ]
  },
  {
   "cell_type": "code",
   "execution_count": 30,
   "metadata": {},
   "outputs": [
    {
     "name": "stdout",
     "output_type": "stream",
     "text": [
      "(3236, 3)\n"
     ]
    },
    {
     "data": {
      "text/html": [
       "<div>\n",
       "<style scoped>\n",
       "    .dataframe tbody tr th:only-of-type {\n",
       "        vertical-align: middle;\n",
       "    }\n",
       "\n",
       "    .dataframe tbody tr th {\n",
       "        vertical-align: top;\n",
       "    }\n",
       "\n",
       "    .dataframe thead th {\n",
       "        text-align: right;\n",
       "    }\n",
       "</style>\n",
       "<table border=\"1\" class=\"dataframe\">\n",
       "  <thead>\n",
       "    <tr style=\"text-align: right;\">\n",
       "      <th></th>\n",
       "      <th>stay</th>\n",
       "      <th>y_true</th>\n",
       "      <th>ICUSTAY_ID</th>\n",
       "    </tr>\n",
       "  </thead>\n",
       "  <tbody>\n",
       "    <tr>\n",
       "      <th>0</th>\n",
       "      <td>10011_episode1_timeseries.csv</td>\n",
       "      <td>1</td>\n",
       "      <td>232110</td>\n",
       "    </tr>\n",
       "    <tr>\n",
       "      <th>1</th>\n",
       "      <td>10026_episode1_timeseries.csv</td>\n",
       "      <td>0</td>\n",
       "      <td>277021</td>\n",
       "    </tr>\n",
       "    <tr>\n",
       "      <th>2</th>\n",
       "      <td>10030_episode1_timeseries.csv</td>\n",
       "      <td>0</td>\n",
       "      <td>262782</td>\n",
       "    </tr>\n",
       "    <tr>\n",
       "      <th>3</th>\n",
       "      <td>10042_episode1_timeseries.csv</td>\n",
       "      <td>0</td>\n",
       "      <td>258147</td>\n",
       "    </tr>\n",
       "    <tr>\n",
       "      <th>4</th>\n",
       "      <td>10094_episode1_timeseries.csv</td>\n",
       "      <td>0</td>\n",
       "      <td>243600</td>\n",
       "    </tr>\n",
       "  </tbody>\n",
       "</table>\n",
       "</div>"
      ],
      "text/plain": [
       "                            stay  y_true  ICUSTAY_ID\n",
       "0  10011_episode1_timeseries.csv       1      232110\n",
       "1  10026_episode1_timeseries.csv       0      277021\n",
       "2  10030_episode1_timeseries.csv       0      262782\n",
       "3  10042_episode1_timeseries.csv       0      258147\n",
       "4  10094_episode1_timeseries.csv       0      243600"
      ]
     },
     "execution_count": 30,
     "metadata": {},
     "output_type": "execute_result"
    }
   ],
   "source": [
    "cohorte_test_benchmark = pd.read_csv('/data/codi/OASIS/mortality/test/listfileMortality.csv')\n",
    "cohorte_test_benchmark.rename(columns={'icustayid': 'ICUSTAY_ID'}, inplace=True)\n",
    "print(cohorte_test_benchmark.shape)\n",
    "cohorte_test_benchmark.head()"
   ]
  },
  {
   "cell_type": "code",
   "execution_count": 31,
   "metadata": {},
   "outputs": [
    {
     "name": "stdout",
     "output_type": "stream",
     "text": [
      "(3236, 5)\n"
     ]
    },
    {
     "data": {
      "text/html": [
       "<div>\n",
       "<style scoped>\n",
       "    .dataframe tbody tr th:only-of-type {\n",
       "        vertical-align: middle;\n",
       "    }\n",
       "\n",
       "    .dataframe tbody tr th {\n",
       "        vertical-align: top;\n",
       "    }\n",
       "\n",
       "    .dataframe thead th {\n",
       "        text-align: right;\n",
       "    }\n",
       "</style>\n",
       "<table border=\"1\" class=\"dataframe\">\n",
       "  <thead>\n",
       "    <tr style=\"text-align: right;\">\n",
       "      <th></th>\n",
       "      <th>stay</th>\n",
       "      <th>y_true</th>\n",
       "      <th>ICUSTAY_ID</th>\n",
       "      <th>MORTALITY_INHOSPITAL</th>\n",
       "      <th>OASIS_NONAN</th>\n",
       "    </tr>\n",
       "  </thead>\n",
       "  <tbody>\n",
       "    <tr>\n",
       "      <th>0</th>\n",
       "      <td>10011_episode1_timeseries.csv</td>\n",
       "      <td>1</td>\n",
       "      <td>232110</td>\n",
       "      <td>1</td>\n",
       "      <td>27.0</td>\n",
       "    </tr>\n",
       "    <tr>\n",
       "      <th>1</th>\n",
       "      <td>10026_episode1_timeseries.csv</td>\n",
       "      <td>0</td>\n",
       "      <td>277021</td>\n",
       "      <td>0</td>\n",
       "      <td>34.0</td>\n",
       "    </tr>\n",
       "    <tr>\n",
       "      <th>2</th>\n",
       "      <td>10030_episode1_timeseries.csv</td>\n",
       "      <td>0</td>\n",
       "      <td>262782</td>\n",
       "      <td>0</td>\n",
       "      <td>31.0</td>\n",
       "    </tr>\n",
       "    <tr>\n",
       "      <th>3</th>\n",
       "      <td>10042_episode1_timeseries.csv</td>\n",
       "      <td>0</td>\n",
       "      <td>258147</td>\n",
       "      <td>0</td>\n",
       "      <td>33.0</td>\n",
       "    </tr>\n",
       "    <tr>\n",
       "      <th>4</th>\n",
       "      <td>10094_episode1_timeseries.csv</td>\n",
       "      <td>0</td>\n",
       "      <td>243600</td>\n",
       "      <td>0</td>\n",
       "      <td>41.0</td>\n",
       "    </tr>\n",
       "  </tbody>\n",
       "</table>\n",
       "</div>"
      ],
      "text/plain": [
       "                            stay  y_true  ICUSTAY_ID  MORTALITY_INHOSPITAL  \\\n",
       "0  10011_episode1_timeseries.csv       1      232110                     1   \n",
       "1  10026_episode1_timeseries.csv       0      277021                     0   \n",
       "2  10030_episode1_timeseries.csv       0      262782                     0   \n",
       "3  10042_episode1_timeseries.csv       0      258147                     0   \n",
       "4  10094_episode1_timeseries.csv       0      243600                     0   \n",
       "\n",
       "   OASIS_NONAN  \n",
       "0         27.0  \n",
       "1         34.0  \n",
       "2         31.0  \n",
       "3         33.0  \n",
       "4         41.0  "
      ]
     },
     "execution_count": 31,
     "metadata": {},
     "output_type": "execute_result"
    }
   ],
   "source": [
    "test_set=pd.merge(cohorte_test_benchmark, result_24_horas_nonnan, how='left', on=['ICUSTAY_ID'])\n",
    "print(test_set.shape)\n",
    "test_set.head()"
   ]
  },
  {
   "cell_type": "code",
   "execution_count": 32,
   "metadata": {},
   "outputs": [
    {
     "data": {
      "text/plain": [
       "stay                    0\n",
       "y_true                  0\n",
       "ICUSTAY_ID              0\n",
       "MORTALITY_INHOSPITAL    0\n",
       "OASIS_NONAN             0\n",
       "dtype: int64"
      ]
     },
     "execution_count": 32,
     "metadata": {},
     "output_type": "execute_result"
    }
   ],
   "source": [
    "test_set.isnull().sum()"
   ]
  },
  {
   "cell_type": "code",
   "execution_count": 33,
   "metadata": {},
   "outputs": [
    {
     "data": {
      "text/plain": [
       "(3236, 5)"
      ]
     },
     "execution_count": 33,
     "metadata": {},
     "output_type": "execute_result"
    }
   ],
   "source": [
    "test_set[test_set['y_true'] == test_set['MORTALITY_INHOSPITAL']].shape"
   ]
  },
  {
   "cell_type": "code",
   "execution_count": 34,
   "metadata": {},
   "outputs": [],
   "source": [
    "#Solo hace falta ejecutar esta linea una vez, que genera listfile para modelos con times_series\n",
    "#test_set['ICUSTAY_ID'].to_csv('/home/usuario/TFG/code/final_versiones_OASIS_mismoCohorteBenchmark/mortality/test/listfile.csv', index=False,header='ICUSTAY_ID')"
   ]
  },
  {
   "cell_type": "code",
   "execution_count": 35,
   "metadata": {},
   "outputs": [],
   "source": [
    "X_test=pd.DataFrame(test_set['OASIS_NONAN'])\n",
    "y_test=pd.DataFrame(test_set['MORTALITY_INHOSPITAL'])"
   ]
  },
  {
   "cell_type": "code",
   "execution_count": 36,
   "metadata": {},
   "outputs": [
    {
     "name": "stdout",
     "output_type": "stream",
     "text": [
      "(17903, 3)\n"
     ]
    },
    {
     "data": {
      "text/html": [
       "<div>\n",
       "<style scoped>\n",
       "    .dataframe tbody tr th:only-of-type {\n",
       "        vertical-align: middle;\n",
       "    }\n",
       "\n",
       "    .dataframe tbody tr th {\n",
       "        vertical-align: top;\n",
       "    }\n",
       "\n",
       "    .dataframe thead th {\n",
       "        text-align: right;\n",
       "    }\n",
       "</style>\n",
       "<table border=\"1\" class=\"dataframe\">\n",
       "  <thead>\n",
       "    <tr style=\"text-align: right;\">\n",
       "      <th></th>\n",
       "      <th>stay</th>\n",
       "      <th>y_true</th>\n",
       "      <th>ICUSTAY_ID</th>\n",
       "    </tr>\n",
       "  </thead>\n",
       "  <tbody>\n",
       "    <tr>\n",
       "      <th>0</th>\n",
       "      <td>84984_episode1_timeseries.csv</td>\n",
       "      <td>1</td>\n",
       "      <td>219326</td>\n",
       "    </tr>\n",
       "    <tr>\n",
       "      <th>1</th>\n",
       "      <td>57299_episode1_timeseries.csv</td>\n",
       "      <td>0</td>\n",
       "      <td>273321</td>\n",
       "    </tr>\n",
       "    <tr>\n",
       "      <th>2</th>\n",
       "      <td>72032_episode1_timeseries.csv</td>\n",
       "      <td>0</td>\n",
       "      <td>221917</td>\n",
       "    </tr>\n",
       "    <tr>\n",
       "      <th>3</th>\n",
       "      <td>22175_episode1_timeseries.csv</td>\n",
       "      <td>0</td>\n",
       "      <td>269490</td>\n",
       "    </tr>\n",
       "    <tr>\n",
       "      <th>4</th>\n",
       "      <td>13033_episode14_timeseries.csv</td>\n",
       "      <td>0</td>\n",
       "      <td>225465</td>\n",
       "    </tr>\n",
       "  </tbody>\n",
       "</table>\n",
       "</div>"
      ],
      "text/plain": [
       "                             stay  y_true  ICUSTAY_ID\n",
       "0   84984_episode1_timeseries.csv       1      219326\n",
       "1   57299_episode1_timeseries.csv       0      273321\n",
       "2   72032_episode1_timeseries.csv       0      221917\n",
       "3   22175_episode1_timeseries.csv       0      269490\n",
       "4  13033_episode14_timeseries.csv       0      225465"
      ]
     },
     "execution_count": 36,
     "metadata": {},
     "output_type": "execute_result"
    }
   ],
   "source": [
    "cohorte_train_benchmark = pd.read_csv('/data/codi/OASIS/mortality/train/listfileMortality.csv')\n",
    "cohorte_train_benchmark.rename(columns={'icustayid': 'ICUSTAY_ID'}, inplace=True)\n",
    "print(cohorte_train_benchmark.shape)\n",
    "cohorte_train_benchmark.head()"
   ]
  },
  {
   "cell_type": "code",
   "execution_count": 37,
   "metadata": {},
   "outputs": [
    {
     "name": "stdout",
     "output_type": "stream",
     "text": [
      "(17903, 5)\n"
     ]
    },
    {
     "data": {
      "text/html": [
       "<div>\n",
       "<style scoped>\n",
       "    .dataframe tbody tr th:only-of-type {\n",
       "        vertical-align: middle;\n",
       "    }\n",
       "\n",
       "    .dataframe tbody tr th {\n",
       "        vertical-align: top;\n",
       "    }\n",
       "\n",
       "    .dataframe thead th {\n",
       "        text-align: right;\n",
       "    }\n",
       "</style>\n",
       "<table border=\"1\" class=\"dataframe\">\n",
       "  <thead>\n",
       "    <tr style=\"text-align: right;\">\n",
       "      <th></th>\n",
       "      <th>stay</th>\n",
       "      <th>y_true</th>\n",
       "      <th>ICUSTAY_ID</th>\n",
       "      <th>MORTALITY_INHOSPITAL</th>\n",
       "      <th>OASIS_NONAN</th>\n",
       "    </tr>\n",
       "  </thead>\n",
       "  <tbody>\n",
       "    <tr>\n",
       "      <th>0</th>\n",
       "      <td>84984_episode1_timeseries.csv</td>\n",
       "      <td>1</td>\n",
       "      <td>219326</td>\n",
       "      <td>1</td>\n",
       "      <td>40.0</td>\n",
       "    </tr>\n",
       "    <tr>\n",
       "      <th>1</th>\n",
       "      <td>57299_episode1_timeseries.csv</td>\n",
       "      <td>0</td>\n",
       "      <td>273321</td>\n",
       "      <td>0</td>\n",
       "      <td>26.0</td>\n",
       "    </tr>\n",
       "    <tr>\n",
       "      <th>2</th>\n",
       "      <td>72032_episode1_timeseries.csv</td>\n",
       "      <td>0</td>\n",
       "      <td>221917</td>\n",
       "      <td>0</td>\n",
       "      <td>31.0</td>\n",
       "    </tr>\n",
       "    <tr>\n",
       "      <th>3</th>\n",
       "      <td>22175_episode1_timeseries.csv</td>\n",
       "      <td>0</td>\n",
       "      <td>269490</td>\n",
       "      <td>0</td>\n",
       "      <td>33.0</td>\n",
       "    </tr>\n",
       "    <tr>\n",
       "      <th>4</th>\n",
       "      <td>13033_episode14_timeseries.csv</td>\n",
       "      <td>0</td>\n",
       "      <td>225465</td>\n",
       "      <td>0</td>\n",
       "      <td>27.0</td>\n",
       "    </tr>\n",
       "  </tbody>\n",
       "</table>\n",
       "</div>"
      ],
      "text/plain": [
       "                             stay  y_true  ICUSTAY_ID  MORTALITY_INHOSPITAL  \\\n",
       "0   84984_episode1_timeseries.csv       1      219326                     1   \n",
       "1   57299_episode1_timeseries.csv       0      273321                     0   \n",
       "2   72032_episode1_timeseries.csv       0      221917                     0   \n",
       "3   22175_episode1_timeseries.csv       0      269490                     0   \n",
       "4  13033_episode14_timeseries.csv       0      225465                     0   \n",
       "\n",
       "   OASIS_NONAN  \n",
       "0         40.0  \n",
       "1         26.0  \n",
       "2         31.0  \n",
       "3         33.0  \n",
       "4         27.0  "
      ]
     },
     "execution_count": 37,
     "metadata": {},
     "output_type": "execute_result"
    }
   ],
   "source": [
    "train_set=pd.merge(cohorte_train_benchmark, result_24_horas_nonnan, how='left', on=['ICUSTAY_ID'])\n",
    "print(train_set.shape)\n",
    "train_set.head()"
   ]
  },
  {
   "cell_type": "code",
   "execution_count": 38,
   "metadata": {},
   "outputs": [
    {
     "data": {
      "text/plain": [
       "stay                    0\n",
       "y_true                  0\n",
       "ICUSTAY_ID              0\n",
       "MORTALITY_INHOSPITAL    0\n",
       "OASIS_NONAN             0\n",
       "dtype: int64"
      ]
     },
     "execution_count": 38,
     "metadata": {},
     "output_type": "execute_result"
    }
   ],
   "source": [
    "train_set.isnull().sum()"
   ]
  },
  {
   "cell_type": "code",
   "execution_count": 39,
   "metadata": {},
   "outputs": [
    {
     "data": {
      "text/plain": [
       "(17903, 5)"
      ]
     },
     "execution_count": 39,
     "metadata": {},
     "output_type": "execute_result"
    }
   ],
   "source": [
    "train_set[train_set['y_true'] == train_set['MORTALITY_INHOSPITAL']].shape"
   ]
  },
  {
   "cell_type": "code",
   "execution_count": 40,
   "metadata": {},
   "outputs": [],
   "source": [
    "#Solo hace falta ejecutar esta linea una vez, que genera listfile para modelos con times_series\n",
    "#train_set['ICUSTAY_ID'].to_csv('/home/usuario/TFG/code/final_versiones_OASIS_mismoCohorteBenchmark/mortality/train/listfile.csv', index=False,header='ICUSTAY_ID')"
   ]
  },
  {
   "cell_type": "code",
   "execution_count": 41,
   "metadata": {},
   "outputs": [],
   "source": [
    "X_train=pd.DataFrame(train_set['OASIS_NONAN'])\n",
    "y_train=pd.DataFrame(train_set['MORTALITY_INHOSPITAL'])"
   ]
  },
  {
   "cell_type": "code",
   "execution_count": 42,
   "metadata": {},
   "outputs": [],
   "source": [
    "from sklearn.preprocessing import StandardScaler\n",
    "scaler = StandardScaler()\n",
    "X_train = scaler.fit_transform(X_train)\n",
    "X_test = scaler.transform(X_test)"
   ]
  },
  {
   "cell_type": "code",
   "execution_count": 43,
   "metadata": {},
   "outputs": [
    {
     "data": {
      "text/plain": [
       "array([[ 0.59792936],\n",
       "       [-0.79294034],\n",
       "       [-0.29620116],\n",
       "       ...,\n",
       "       [ 0.29988585],\n",
       "       [-1.28967952],\n",
       "       [-0.395549  ]])"
      ]
     },
     "execution_count": 43,
     "metadata": {},
     "output_type": "execute_result"
    }
   ],
   "source": [
    "X_train"
   ]
  },
  {
   "cell_type": "code",
   "execution_count": 44,
   "metadata": {},
   "outputs": [
    {
     "data": {
      "text/plain": [
       "array([[-0.6935925 ],\n",
       "       [ 0.00184234],\n",
       "       [-0.29620116],\n",
       "       ...,\n",
       "       [ 0.20053801],\n",
       "       [ 0.69727719],\n",
       "       [ 1.59140771]])"
      ]
     },
     "execution_count": 44,
     "metadata": {},
     "output_type": "execute_result"
    }
   ],
   "source": [
    "X_test"
   ]
  },
  {
   "cell_type": "markdown",
   "metadata": {},
   "source": [
    "## Visualization"
   ]
  },
  {
   "cell_type": "code",
   "execution_count": 47,
   "metadata": {},
   "outputs": [
    {
     "name": "stdout",
     "output_type": "stream",
     "text": [
      "Train shape: (17903, 1)\n",
      "Nº components: 1\n",
      "[1.]\n",
      "Cumsum: 1.0\n"
     ]
    }
   ],
   "source": [
    "from sklearn.decomposition import PCA\n",
    "# Plotting the Clusters using matplotlib\n",
    "n=1\n",
    "pca = PCA(n)\n",
    "print(\"Train shape:\", X_train.shape)\n",
    "pca_results = pca.fit_transform(X_train)\n",
    "print(\"Nº components:\", pca_results.shape[1])\n",
    "print(pca.explained_variance_ratio_)\n",
    "print(\"Cumsum:\", np.sum(pca.explained_variance_ratio_))\n",
    "\n",
    "labels = {\n",
    "    str(i): f\"PC {i+1} ({var:.1f}%)\"\n",
    "    for i, var in enumerate(pca.explained_variance_ratio_ * 100)\n",
    "}"
   ]
  },
  {
   "cell_type": "code",
   "execution_count": null,
   "metadata": {},
   "outputs": [],
   "source": [
    "import plotly.express as px"
   ]
  },
  {
   "cell_type": "code",
   "execution_count": null,
   "metadata": {},
   "outputs": [],
   "source": [
    "from sklearn.manifold import TSNE\n",
    "\n",
    "tsne = TSNE(n_components=2)\n",
    "components = tsne.fit_transform(X_train)\n",
    "print(components.shape)"
   ]
  },
  {
   "cell_type": "code",
   "execution_count": null,
   "metadata": {},
   "outputs": [],
   "source": [
    "df = pd.DataFrame()\n",
    "df[\"y\"] = y_train\n",
    "df['tsne-one'] = components[:,0]\n",
    "df['tsne-two'] = components[:,1] \n",
    "\n",
    "sns.scatterplot(x=\"tsne-one\", y=\"tsne-two\", hue=df.y.tolist(),\n",
    "                palette=sns.color_palette(\"hls\", 2),\n",
    "                s=10,,\n",
    "                alpha=0.3,\n",
    "                data=df).set(title=\"OASIS data T-SNE projection\") "
   ]
  },
  {
   "cell_type": "markdown",
   "metadata": {},
   "source": [
    "## Models"
   ]
  },
  {
   "cell_type": "code",
   "execution_count": null,
   "metadata": {},
   "outputs": [],
   "source": [
    "import matplotlib.pyplot as plt\n",
    "from sklearn.metrics import silhouette_score\n",
    "\n",
    "# Silhouette\n",
    "silhouette_coefficients = []\n",
    "kmeans_kwargs= {\n",
    "    \"init\":\"random\",\n",
    "    \"n_init\":10,\n",
    "    \"max_iter\":300,\n",
    "    \"random_state\":42\n",
    "}\n",
    "for k in range(2, 10):\n",
    "    kmeans = KMeans(n_clusters=k, **kmeans_kwargs)\n",
    "    kmeans.fit(X_train)\n",
    "    score = silhouette_score(X_train, kmeans.labels_)\n",
    "    silhouette_coefficients.append(score)\n",
    "\n",
    "# Plotting graph to choose the best number of clusters\n",
    "# with the most Silhouette Coefficient score\n",
    "print(silhouette_coefficients)\n",
    "plt.style.use(\"fivethirtyeight\")\n",
    "plt.plot(range(2, 10), silhouette_coefficients)\n",
    "plt.xticks(range(2, 10))\n",
    "plt.xlabel(\"Number of Clusters\")\n",
    "plt.ylabel(\"Silhouette Coefficient\")\n",
    "plt.show()"
   ]
  },
  {
   "cell_type": "code",
   "execution_count": 49,
   "metadata": {},
   "outputs": [],
   "source": [
    "from sklearn.cluster import KMeans\n",
    "# KMeans K=2\n",
    "n_clusters = 2\n",
    "kmeans = KMeans(\n",
    "    init=\"random\",\n",
    "    n_clusters=n_clusters,\n",
    "    n_init=10,\n",
    "    max_iter=300,\n",
    "    random_state=42\n",
    ")\n",
    "# Fit to the training data\n",
    "kmeans.fit(X_train)\n",
    "train_df = pd.DataFrame(X_train)\n",
    "# Generate out clusters\n",
    "train_cluster = kmeans.predict(X_train)\n",
    "n_columns = X_train.shape[1]\n",
    "\n",
    "# Add predicted cluster and y regression label to our training DataFrame\n",
    "train_df.insert(n_columns,'cluster', train_cluster)\n",
    "train_df.insert(n_columns+1,'y', y_train) \n",
    "train_clusters_df = []\n",
    "for i in range(n_clusters):\n",
    "    train_clusters_df.append(train_df[train_df['cluster']==i])\n",
    "\n",
    "# Random Forest\n",
    "logreg=RandomForestClassifier(n_estimators=10, random_state = 42)\n",
    "k_logregs = []"
   ]
  },
  {
   "cell_type": "code",
   "execution_count": 50,
   "metadata": {},
   "outputs": [
    {
     "name": "stdout",
     "output_type": "stream",
     "text": [
      "-------- Logistic Regression fitting for each cluster --------\n",
      "Training cluster shape:  (10302, 3)\n",
      "Training cluster shape:  (7601, 3)\n"
     ]
    }
   ],
   "source": [
    "# One model for each cluster\n",
    "print(\"-------- Logistic Regression fitting for each cluster --------\")\n",
    "for cluster_df in train_clusters_df:\n",
    "    cluster_X = cluster_df.iloc[:,:n_columns] # X values\n",
    "    cluster_Y = cluster_df.iloc[:,n_columns+1] # Y value\n",
    "    logreg.fit(cluster_X, cluster_Y)\n",
    "    k_logregs.append(logreg)\n",
    "    print(\"Training cluster shape: \", cluster_df.shape)"
   ]
  },
  {
   "cell_type": "code",
   "execution_count": 51,
   "metadata": {},
   "outputs": [
    {
     "name": "stdout",
     "output_type": "stream",
     "text": [
      "Assigning each test sample to the closest cluster centroid...\n",
      "Test cluster shape:  (1901, 3)\n",
      "Test cluster shape:  (1335, 3)\n"
     ]
    }
   ],
   "source": [
    "# Test sample es asignado al cluster correspondiente mediante Distancia euclidiana y se aplica el modelo correspondiente\n",
    "print(\"Assigning each test sample to the closest cluster centroid...\")\n",
    "test_df = pd.DataFrame(X_test)\n",
    "test_clusters_df = test_df.copy()\n",
    "test_clusters_df[\"cluster\"] = None\n",
    "test_clusters_df.insert(n_columns+1,'y', y_test) \n",
    "i=0\n",
    "for row in test_df.itertuples(index=False):\n",
    "    min_distance = float('inf')\n",
    "    closest_cluster = None\n",
    "    for k in range(kmeans.cluster_centers_.shape[0]):\n",
    "        # Check if the assigned cluster has more than 100 samples\n",
    "        # if train_clusters_df[k].shape[0] > 100: # Probar sin limite\n",
    "        distance = np.linalg.norm(kmeans.cluster_centers_[k]-row)\n",
    "        if distance < min_distance:\n",
    "            min_distance = distance\n",
    "            closest_cluster = k\n",
    "    # Assign cluster to test sample\n",
    "    test_clusters_df.iloc[i, n_columns] = closest_cluster\n",
    "    i += 1\n",
    "\n",
    "test_clusters = []\n",
    "for i in range(n_clusters):\n",
    "    test_cluster_i = test_clusters_df[test_clusters_df['cluster']==i]\n",
    "    if np.size(test_cluster_i) != 0:\n",
    "        test_clusters.append(test_cluster_i)\n",
    "        print(\"Test cluster shape: \", test_cluster_i.shape)"
   ]
  },
  {
   "cell_type": "code",
   "execution_count": 52,
   "metadata": {},
   "outputs": [],
   "source": [
    "def print_metrics_binary(y_true, predictions, verbose=1):\n",
    "    predictions = np.array(predictions)\n",
    "    if len(predictions.shape) == 1:\n",
    "        predictions = np.stack([1 - predictions, predictions]).transpose((1, 0))\n",
    "\n",
    "    cf = metrics.confusion_matrix(y_true, predictions.argmax(axis=1))\n",
    "    if verbose:\n",
    "        print(\"confusion matrix:\")\n",
    "        print(cf)\n",
    "    cf = cf.astype(np.float32)\n",
    "\n",
    "    acc = (cf[0][0] + cf[1][1]) / np.sum(cf)\n",
    "    prec0 = cf[0][0] / (cf[0][0] + cf[1][0])\n",
    "    prec1 = cf[1][1] / (cf[1][1] + cf[0][1])\n",
    "    rec0 = cf[0][0] / (cf[0][0] + cf[0][1])\n",
    "    rec1 = cf[1][1] / (cf[1][1] + cf[1][0])\n",
    "    auroc = metrics.roc_auc_score(y_true, predictions[:, 1])\n",
    "\n",
    "    (precisions, recalls, thresholds) = metrics.precision_recall_curve(y_true, predictions[:, 1])\n",
    "    auprc = metrics.auc(recalls, precisions)\n",
    "    minpse = np.max([min(x, y) for (x, y) in zip(precisions, recalls)])\n",
    "\n",
    "    if verbose:\n",
    "        print(\"accuracy = {}\".format(acc))\n",
    "        print(\"precision class 0 = {}\".format(prec0))\n",
    "        print(\"precision class 1 = {}\".format(prec1))\n",
    "        print(\"recall class 0 = {}\".format(rec0))\n",
    "        print(\"recall class 1 = {}\".format(rec1))\n",
    "        print(\"AUC of ROC = {}\".format(auroc))\n",
    "        print(\"AUC of PRC = {}\".format(auprc))\n",
    "        print(\"min(+P, Se) = {}\".format(minpse))\n",
    "\n",
    "    return {\"acc\": acc,\n",
    "            \"prec0\": prec0,\n",
    "            \"prec1\": prec1,\n",
    "            \"rec0\": rec0,\n",
    "            \"rec1\": rec1,\n",
    "            \"auroc\": auroc,\n",
    "            \"auprc\": auprc,\n",
    "            \"minpse\": minpse}"
   ]
  },
  {
   "cell_type": "code",
   "execution_count": 53,
   "metadata": {
    "scrolled": true
   },
   "outputs": [
    {
     "name": "stdout",
     "output_type": "stream",
     "text": [
      "-------- Train metrics ---------\n",
      "confusion matrix:\n",
      "[[15456    24]\n",
      " [ 2380    43]]\n",
      "accuracy = 0.865720808506012\n",
      "precision class 0 = 0.866562008857727\n",
      "precision class 1 = 0.641791045665741\n",
      "recall class 0 = 0.9984496235847473\n",
      "recall class 1 = 0.017746595665812492\n",
      "AUC of ROC = 0.6539229189261823\n",
      "AUC of PRC = 0.27435324914035014\n",
      "min(+P, Se) = 0.30568356374807987\n",
      "-------- Test metrics ---------\n",
      "confusion matrix:\n",
      "[[2859    3]\n",
      " [ 367    7]]\n",
      "accuracy = 0.8856613039970398\n",
      "precision class 0 = 0.886236846446991\n",
      "precision class 1 = 0.699999988079071\n",
      "recall class 0 = 0.99895179271698\n",
      "recall class 1 = 0.01871657744050026\n",
      "AUC of ROC = 0.6278232752983031\n",
      "AUC of PRC = 0.23051284216568332\n",
      "min(+P, Se) = 0.2536231884057971\n"
     ]
    }
   ],
   "source": [
    "print(\"-------- Train metrics ---------\")\n",
    "i = 0\n",
    "# For each cluster, predict probabilities of class labels\n",
    "for cluster_df in train_clusters_df:\n",
    "    cluster_X = cluster_df.iloc[:,:n_columns] # X values\n",
    "    cluster_Y = cluster_df.iloc[:,n_columns+1] # Y value\n",
    "    classes_prob = k_logregs[i].predict_proba(cluster_X)\n",
    "    if i == 0:\n",
    "        train_X_probs = np.array(classes_prob)\n",
    "        y_train = np.array(cluster_Y)\n",
    "    else: \n",
    "        train_X_probs = np.concatenate((train_X_probs, classes_prob))\n",
    "        y_train = np.concatenate((y_train, cluster_Y))\n",
    "    i += 1\n",
    "# Print and save the results\n",
    "ret = print_metrics_binary(y_train, train_X_probs)        \n",
    "\n",
    "\n",
    "# Test metrics\n",
    "print(\"-------- Test metrics ---------\")\n",
    "i = 0\n",
    "# For each cluster, predict probabilities of class labels\n",
    "for cluster_df in test_clusters:\n",
    "    cluster_X = cluster_df.iloc[:,:n_columns] # X values\n",
    "    cluster_Y = cluster_df.iloc[:,n_columns+1] # Y value\n",
    "    classes_prob = k_logregs[i].predict_proba(cluster_X)[:,1]\n",
    "    if i == 0:\n",
    "        test_X_probs = np.array(classes_prob)\n",
    "        y_test = np.array(cluster_Y)\n",
    "    else: \n",
    "        test_X_probs = np.concatenate((test_X_probs, classes_prob))\n",
    "        y_test = np.concatenate((y_test, cluster_Y))\n",
    "    i += 1\n",
    "# Print and save the results\n",
    "ret = print_metrics_binary(y_test, test_X_probs)"
   ]
  },
  {
   "cell_type": "markdown",
   "metadata": {},
   "source": [
    "Random Forest same class weight"
   ]
  },
  {
   "cell_type": "code",
   "execution_count": null,
   "metadata": {},
   "outputs": [],
   "source": [
    "clf=RandomForestClassifier(n_estimators=10, random_state = 42)\n",
    "clf.fit(X_train,np.ravel(y_train))\n",
    "y_pred=clf.predict(X_test)\n",
    "test_ac=np.round(metrics.accuracy_score(y_test, y_pred)*100,4)\n",
    "train_ac=np.round(clf.score(X_train, y_train)*100,4)\n",
    "print(\"Accuracy test:\",test_ac)\n",
    "print(\"Accuracy train:\",train_ac)"
   ]
  },
  {
   "cell_type": "code",
   "execution_count": null,
   "metadata": {},
   "outputs": [],
   "source": [
    "y_pred_probas=clf.predict_proba(X_test)\n",
    "y_pred_probas #probability of being [class 0, class 1]"
   ]
  },
  {
   "cell_type": "code",
   "execution_count": null,
   "metadata": {},
   "outputs": [],
   "source": [
    "y_pred_probas[:, 1] #probability of being class 1(dead)\n",
    "#Nota: usamos probabilities para calculo de auc_roc. Porque en el benchmark usa probabilities y además\n",
    "#el resultado de auc_roc varia si usa probilidad o valores enteros de 0/1."
   ]
  },
  {
   "cell_type": "code",
   "execution_count": null,
   "metadata": {},
   "outputs": [],
   "source": [
    "np.array(np.ravel(y_test))"
   ]
  },
  {
   "cell_type": "code",
   "execution_count": null,
   "metadata": {},
   "outputs": [],
   "source": [
    "auroc = metrics.roc_auc_score(y_test, y_pred_probas[:, 1])\n",
    "print(\"AUC-ROC: \", auroc)\n",
    "(precisions, recalls, thresholds) = metrics.precision_recall_curve(y_test, y_pred_probas[:, 1])\n",
    "auprc = metrics.auc(recalls, precisions)\n",
    "print(\"AUC-PR: \", auprc)\n"
   ]
  },
  {
   "cell_type": "code",
   "execution_count": null,
   "metadata": {},
   "outputs": [],
   "source": [
    "confusionMatrix = confusion_matrix(y_test, y_pred)\n",
    "print(confusionMatrix)\n"
   ]
  },
  {
   "cell_type": "code",
   "execution_count": null,
   "metadata": {},
   "outputs": [],
   "source": [
    "cm = metrics.confusion_matrix(y_test, y_pred)\n",
    "score = np.round(clf.score(X_test, y_test)*100,4)"
   ]
  },
  {
   "cell_type": "code",
   "execution_count": null,
   "metadata": {
    "scrolled": true
   },
   "outputs": [],
   "source": [
    "cm = cm.astype('float') / cm.sum(axis=1)[:, np.newaxis]\n",
    "plt.figure(figsize=(6,6))\n",
    "sns.heatmap(cm, annot=True, fmt=\".3f\", linewidths=.5, square = True, cmap = 'Blues_r');\n",
    "plt.ylabel('Actual label');\n",
    "plt.xlabel('Predicted label');\n",
    "all_sample_title = 'Accuracy Score: {0}'.format(score)\n",
    "plt.title(all_sample_title, size = 15)\n",
    "plt.show()"
   ]
  },
  {
   "cell_type": "code",
   "execution_count": null,
   "metadata": {},
   "outputs": [],
   "source": [
    "def save_results(pred, y_true, path):\n",
    "    directory = os.path.dirname(path)\n",
    "    if not os.path.exists(directory):\n",
    "        os.makedirs(directory)\n",
    "    with open(path, 'w') as f:\n",
    "        f.write(\"prediction,y_true\\n\")\n",
    "        for (x, y) in zip(pred, y_true):\n",
    "            f.write(\"{:.6f},{}\\n\".format(x, y))"
   ]
  },
  {
   "cell_type": "code",
   "execution_count": null,
   "metadata": {},
   "outputs": [],
   "source": [
    "predictions_output_dir = '/home/usuario/TFG/code/final_versiones_OASIS_mismoCohorteBenchmark/mortality'"
   ]
  },
  {
   "cell_type": "code",
   "execution_count": null,
   "metadata": {},
   "outputs": [],
   "source": [
    "save_results(y_pred_probas[:, 1], np.array(np.ravel(y_test)), os.path.join(predictions_output_dir, 'test_predictions', 'RF.csv'))"
   ]
  },
  {
   "cell_type": "code",
   "execution_count": null,
   "metadata": {},
   "outputs": [],
   "source": []
  },
  {
   "cell_type": "code",
   "execution_count": null,
   "metadata": {},
   "outputs": [],
   "source": []
  },
  {
   "cell_type": "markdown",
   "metadata": {},
   "source": [
    "Random Forest different class weight"
   ]
  },
  {
   "cell_type": "code",
   "execution_count": null,
   "metadata": {},
   "outputs": [],
   "source": [
    "clf=RandomForestClassifier(n_estimators=10, random_state = 42,class_weight='balanced')\n",
    "clf.fit(X_train,np.ravel(y_train))\n",
    "y_pred=clf.predict(X_test)\n",
    "test_ac=np.round(metrics.accuracy_score(y_test, y_pred)*100,4)\n",
    "train_ac=np.round(clf.score(X_train, y_train)*100,4)\n",
    "print(\"Accuracy test:\",test_ac)\n",
    "print(\"Accuracy train:\",train_ac)"
   ]
  },
  {
   "cell_type": "code",
   "execution_count": null,
   "metadata": {},
   "outputs": [],
   "source": [
    "y_pred_probas=clf.predict_proba(X_test)\n",
    "auroc = metrics.roc_auc_score(y_test, y_pred_probas[:, 1])\n",
    "print(\"AUC-ROC: \", auroc)\n",
    "(precisions, recalls, thresholds) = metrics.precision_recall_curve(y_test, y_pred_probas[:, 1])\n",
    "auprc = metrics.auc(recalls, precisions)\n",
    "print(\"AUC-PR: \", auprc)\n"
   ]
  },
  {
   "cell_type": "code",
   "execution_count": null,
   "metadata": {
    "colab": {
     "base_uri": "https://localhost:8080/"
    },
    "id": "7YikaWN3LOfo",
    "outputId": "5f219eb4-eccc-4944-c363-144e74faa8d1"
   },
   "outputs": [],
   "source": [
    "confusionMatrix = confusion_matrix(y_test, y_pred)\n",
    "print(confusionMatrix)\n"
   ]
  },
  {
   "cell_type": "code",
   "execution_count": null,
   "metadata": {
    "id": "mPrqHnpaLOfs"
   },
   "outputs": [],
   "source": [
    "cm = metrics.confusion_matrix(y_test, y_pred)\n",
    "score = np.round(clf.score(X_test, y_test)*100,4)"
   ]
  },
  {
   "cell_type": "code",
   "execution_count": null,
   "metadata": {
    "colab": {
     "base_uri": "https://localhost:8080/",
     "height": 362
    },
    "id": "UAmU2DrCLOft",
    "outputId": "4239e8ee-82b4-460c-c219-065fda24272e"
   },
   "outputs": [],
   "source": [
    "cm = cm.astype('float') / cm.sum(axis=1)[:, np.newaxis]\n",
    "plt.figure(figsize=(6,6))\n",
    "sns.heatmap(cm, annot=True, fmt=\".3f\", linewidths=.5, square = True, cmap = 'Blues_r');\n",
    "plt.ylabel('Actual label');\n",
    "plt.xlabel('Predicted label');\n",
    "all_sample_title = 'Accuracy Score: {0}'.format(score)\n",
    "plt.title(all_sample_title, size = 15)\n",
    "plt.show()"
   ]
  },
  {
   "cell_type": "code",
   "execution_count": null,
   "metadata": {},
   "outputs": [],
   "source": [
    "save_results(y_pred_probas[:, 1], np.array(np.ravel(y_test)), os.path.join(predictions_output_dir, 'test_predictions', 'RF_weighted.csv'))"
   ]
  },
  {
   "cell_type": "code",
   "execution_count": null,
   "metadata": {},
   "outputs": [],
   "source": []
  },
  {
   "cell_type": "code",
   "execution_count": null,
   "metadata": {},
   "outputs": [],
   "source": []
  },
  {
   "cell_type": "markdown",
   "metadata": {},
   "source": [
    "Logistic Regression same class weight"
   ]
  },
  {
   "cell_type": "code",
   "execution_count": null,
   "metadata": {},
   "outputs": [],
   "source": [
    "logreg = LogisticRegression()\n",
    "logreg.fit(X_train, np.ravel(y_train))\n",
    "y_pred = logreg.predict(X_test)\n",
    "actr=np.round(100*logreg.score(X_train, y_train),4)\n",
    "acte=np.round(100*logreg.score(X_test, y_test),4)\n",
    "print('Accuracy of logistic regression classifier on train set:', actr)\n",
    "print('Accuracy of logistic regression classifier on test set:', acte)\n"
   ]
  },
  {
   "cell_type": "code",
   "execution_count": null,
   "metadata": {},
   "outputs": [],
   "source": [
    "y_pred_probas=logreg.predict_proba(X_test)\n",
    "auroc = metrics.roc_auc_score(y_test, y_pred_probas[:, 1])\n",
    "print(\"AUC-ROC: \", auroc)\n",
    "(precisions, recalls, thresholds) = metrics.precision_recall_curve(y_test, y_pred_probas[:, 1])\n",
    "auprc = metrics.auc(recalls, precisions)\n",
    "print(\"AUC-PR: \", auprc)\n"
   ]
  },
  {
   "cell_type": "code",
   "execution_count": null,
   "metadata": {},
   "outputs": [],
   "source": [
    "confusionMatrix = confusion_matrix(y_test, y_pred)\n",
    "print(confusionMatrix)"
   ]
  },
  {
   "cell_type": "code",
   "execution_count": null,
   "metadata": {},
   "outputs": [],
   "source": [
    "print(classification_report(y_test, y_pred))"
   ]
  },
  {
   "cell_type": "code",
   "execution_count": null,
   "metadata": {},
   "outputs": [],
   "source": [
    "save_results(y_pred_probas[:, 1], np.array(np.ravel(y_test)), os.path.join(predictions_output_dir, 'test_predictions', 'LR.csv'))"
   ]
  },
  {
   "cell_type": "code",
   "execution_count": null,
   "metadata": {},
   "outputs": [],
   "source": []
  },
  {
   "cell_type": "markdown",
   "metadata": {},
   "source": [
    "Logistic Regression different class weight"
   ]
  },
  {
   "cell_type": "code",
   "execution_count": null,
   "metadata": {},
   "outputs": [],
   "source": [
    "logreg = LogisticRegression(class_weight='balanced')\n",
    "logreg.fit(X_train, np.ravel(y_train))\n",
    "y_pred = logreg.predict(X_test)\n",
    "actr=np.round(100*logreg.score(X_train, y_train),4)\n",
    "acte=np.round(100*logreg.score(X_test, y_test),4)\n",
    "print('Accuracy of logistic regression classifier on train set:', actr)\n",
    "print('Accuracy of logistic regression classifier on test set:', acte)"
   ]
  },
  {
   "cell_type": "code",
   "execution_count": null,
   "metadata": {},
   "outputs": [],
   "source": [
    "y_pred_probas=logreg.predict_proba(X_test)\n",
    "auroc = metrics.roc_auc_score(y_test, y_pred_probas[:, 1])\n",
    "print(\"AUC-ROC: \", auroc)\n",
    "(precisions, recalls, thresholds) = metrics.precision_recall_curve(y_test, y_pred_probas[:, 1])\n",
    "auprc = metrics.auc(recalls, precisions)\n",
    "print(\"AUC-PR: \", auprc)\n"
   ]
  },
  {
   "cell_type": "code",
   "execution_count": null,
   "metadata": {},
   "outputs": [],
   "source": [
    "confusionMatrix = confusion_matrix(y_test, y_pred)\n",
    "print(confusionMatrix)"
   ]
  },
  {
   "cell_type": "code",
   "execution_count": null,
   "metadata": {},
   "outputs": [],
   "source": [
    "print(classification_report(y_test, y_pred))"
   ]
  },
  {
   "cell_type": "code",
   "execution_count": null,
   "metadata": {},
   "outputs": [],
   "source": [
    "save_results(y_pred_probas[:, 1], np.array(np.ravel(y_test)), os.path.join(predictions_output_dir, 'test_predictions', 'LR_weighted.csv'))"
   ]
  },
  {
   "cell_type": "code",
   "execution_count": null,
   "metadata": {},
   "outputs": [],
   "source": []
  }
 ],
 "metadata": {
  "colab": {
   "collapsed_sections": [],
   "name": "enviadoaprofe.ipynb",
   "provenance": []
  },
  "kernelspec": {
   "display_name": "Python 3 (ipykernel)",
   "language": "python",
   "name": "python3"
  },
  "language_info": {
   "codemirror_mode": {
    "name": "ipython",
    "version": 3
   },
   "file_extension": ".py",
   "mimetype": "text/x-python",
   "name": "python",
   "nbconvert_exporter": "python",
   "pygments_lexer": "ipython3",
   "version": "3.9.2"
  }
 },
 "nbformat": 4,
 "nbformat_minor": 1
}
