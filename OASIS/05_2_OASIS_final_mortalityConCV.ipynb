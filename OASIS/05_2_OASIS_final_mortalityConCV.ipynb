{
 "cells": [
  {
   "cell_type": "markdown",
   "metadata": {},
   "source": [
    "EXTRA (APÉNDICE)\n",
    "\n",
    "En este notebook se entrenan diferentes modelos predictivos usando la puntuación OASIS para predecir la mortalidad hospitalaria. Luego se evalua el rendimiento de los modelos con ACC, AUC-ROC, AUC-PR, confusion matrix...También se realiza Cross Validation y student-t-test para determinar si las diferencias entre los resultados son estadísticamente significativas.\n",
    "\n",
    "Obs. Ejecute primero '03calculateOASIS.ipynb' para obtener 'result_24_horas_final.csv'"
   ]
  },
  {
   "cell_type": "code",
   "execution_count": 1,
   "metadata": {
    "id": "Fu-sdl9qh_1c"
   },
   "outputs": [],
   "source": [
    "import pandas as pd\n",
    "import numpy as np\n",
    "import matplotlib.pyplot as plt\n",
    "import matplotlib\n",
    "import pylab\n",
    "import seaborn as sns\n",
    "import csv\n",
    "from sklearn.preprocessing import StandardScaler\n",
    "from sklearn.ensemble import RandomForestClassifier\n",
    "from sklearn.model_selection import KFold, cross_val_score\n",
    "from sklearn import metrics\n",
    "from sklearn.metrics import confusion_matrix\n",
    "from sklearn.model_selection import cross_val_predict\n",
    "from sklearn.metrics import classification_report\n",
    "from sklearn.pipeline import make_pipeline\n",
    "from sklearn.linear_model import LogisticRegression\n",
    "from sklearn.model_selection import train_test_split\n",
    "from scipy import stats\n",
    "\n",
    "matplotlib.style.use('ggplot')"
   ]
  },
  {
   "cell_type": "code",
   "execution_count": 2,
   "metadata": {
    "colab": {
     "base_uri": "https://localhost:8080/",
     "height": 241
    },
    "id": "bCKcyWu-tJa1",
    "outputId": "67d3751c-4d03-4d92-ecc4-fd18ae222ed6"
   },
   "outputs": [
    {
     "name": "stdout",
     "output_type": "stream",
     "text": [
      "(46520, 8)\n",
      "unique SUBJECT_ID: 46520\n"
     ]
    },
    {
     "data": {
      "text/html": [
       "<div>\n",
       "<style scoped>\n",
       "    .dataframe tbody tr th:only-of-type {\n",
       "        vertical-align: middle;\n",
       "    }\n",
       "\n",
       "    .dataframe tbody tr th {\n",
       "        vertical-align: top;\n",
       "    }\n",
       "\n",
       "    .dataframe thead th {\n",
       "        text-align: right;\n",
       "    }\n",
       "</style>\n",
       "<table border=\"1\" class=\"dataframe\">\n",
       "  <thead>\n",
       "    <tr style=\"text-align: right;\">\n",
       "      <th></th>\n",
       "      <th>ROW_ID</th>\n",
       "      <th>SUBJECT_ID</th>\n",
       "      <th>GENDER</th>\n",
       "      <th>DOB</th>\n",
       "      <th>DOD</th>\n",
       "      <th>DOD_HOSP</th>\n",
       "      <th>DOD_SSN</th>\n",
       "      <th>EXPIRE_FLAG</th>\n",
       "    </tr>\n",
       "  </thead>\n",
       "  <tbody>\n",
       "    <tr>\n",
       "      <td>0</td>\n",
       "      <td>234</td>\n",
       "      <td>249</td>\n",
       "      <td>F</td>\n",
       "      <td>2075-03-13 00:00:00</td>\n",
       "      <td>NaN</td>\n",
       "      <td>NaN</td>\n",
       "      <td>NaN</td>\n",
       "      <td>0</td>\n",
       "    </tr>\n",
       "    <tr>\n",
       "      <td>1</td>\n",
       "      <td>235</td>\n",
       "      <td>250</td>\n",
       "      <td>F</td>\n",
       "      <td>2164-12-27 00:00:00</td>\n",
       "      <td>2188-11-22 00:00:00</td>\n",
       "      <td>2188-11-22 00:00:00</td>\n",
       "      <td>NaN</td>\n",
       "      <td>1</td>\n",
       "    </tr>\n",
       "    <tr>\n",
       "      <td>2</td>\n",
       "      <td>236</td>\n",
       "      <td>251</td>\n",
       "      <td>M</td>\n",
       "      <td>2090-03-15 00:00:00</td>\n",
       "      <td>NaN</td>\n",
       "      <td>NaN</td>\n",
       "      <td>NaN</td>\n",
       "      <td>0</td>\n",
       "    </tr>\n",
       "    <tr>\n",
       "      <td>3</td>\n",
       "      <td>237</td>\n",
       "      <td>252</td>\n",
       "      <td>M</td>\n",
       "      <td>2078-03-06 00:00:00</td>\n",
       "      <td>NaN</td>\n",
       "      <td>NaN</td>\n",
       "      <td>NaN</td>\n",
       "      <td>0</td>\n",
       "    </tr>\n",
       "    <tr>\n",
       "      <td>4</td>\n",
       "      <td>238</td>\n",
       "      <td>253</td>\n",
       "      <td>F</td>\n",
       "      <td>2089-11-26 00:00:00</td>\n",
       "      <td>NaN</td>\n",
       "      <td>NaN</td>\n",
       "      <td>NaN</td>\n",
       "      <td>0</td>\n",
       "    </tr>\n",
       "  </tbody>\n",
       "</table>\n",
       "</div>"
      ],
      "text/plain": [
       "   ROW_ID  SUBJECT_ID GENDER                  DOB                  DOD  \\\n",
       "0     234         249      F  2075-03-13 00:00:00                  NaN   \n",
       "1     235         250      F  2164-12-27 00:00:00  2188-11-22 00:00:00   \n",
       "2     236         251      M  2090-03-15 00:00:00                  NaN   \n",
       "3     237         252      M  2078-03-06 00:00:00                  NaN   \n",
       "4     238         253      F  2089-11-26 00:00:00                  NaN   \n",
       "\n",
       "              DOD_HOSP DOD_SSN  EXPIRE_FLAG  \n",
       "0                  NaN     NaN            0  \n",
       "1  2188-11-22 00:00:00     NaN            1  \n",
       "2                  NaN     NaN            0  \n",
       "3                  NaN     NaN            0  \n",
       "4                  NaN     NaN            0  "
      ]
     },
     "execution_count": 2,
     "metadata": {},
     "output_type": "execute_result"
    }
   ],
   "source": [
    "patients=pd.read_csv('/home/usuario/TFG/code/data/PATIENTS.csv')\n",
    "print(patients.shape)\n",
    "print('unique SUBJECT_ID:', patients.SUBJECT_ID.nunique())\n",
    "patients.head()"
   ]
  },
  {
   "cell_type": "code",
   "execution_count": 3,
   "metadata": {
    "colab": {
     "base_uri": "https://localhost:8080/",
     "height": 365
    },
    "id": "-X5qj5bStJrA",
    "outputId": "957ce16d-8857-4065-f0c9-ff2d5023a952"
   },
   "outputs": [
    {
     "name": "stdout",
     "output_type": "stream",
     "text": [
      "(58976, 19)\n",
      "unique SUBJECT_ID: 46520\n",
      "unique HADM_ID   : 58976\n"
     ]
    },
    {
     "data": {
      "text/html": [
       "<div>\n",
       "<style scoped>\n",
       "    .dataframe tbody tr th:only-of-type {\n",
       "        vertical-align: middle;\n",
       "    }\n",
       "\n",
       "    .dataframe tbody tr th {\n",
       "        vertical-align: top;\n",
       "    }\n",
       "\n",
       "    .dataframe thead th {\n",
       "        text-align: right;\n",
       "    }\n",
       "</style>\n",
       "<table border=\"1\" class=\"dataframe\">\n",
       "  <thead>\n",
       "    <tr style=\"text-align: right;\">\n",
       "      <th></th>\n",
       "      <th>ROW_ID</th>\n",
       "      <th>SUBJECT_ID</th>\n",
       "      <th>HADM_ID</th>\n",
       "      <th>ADMITTIME</th>\n",
       "      <th>DISCHTIME</th>\n",
       "      <th>DEATHTIME</th>\n",
       "      <th>ADMISSION_TYPE</th>\n",
       "      <th>ADMISSION_LOCATION</th>\n",
       "      <th>DISCHARGE_LOCATION</th>\n",
       "      <th>INSURANCE</th>\n",
       "      <th>LANGUAGE</th>\n",
       "      <th>RELIGION</th>\n",
       "      <th>MARITAL_STATUS</th>\n",
       "      <th>ETHNICITY</th>\n",
       "      <th>EDREGTIME</th>\n",
       "      <th>EDOUTTIME</th>\n",
       "      <th>DIAGNOSIS</th>\n",
       "      <th>HOSPITAL_EXPIRE_FLAG</th>\n",
       "      <th>HAS_CHARTEVENTS_DATA</th>\n",
       "    </tr>\n",
       "  </thead>\n",
       "  <tbody>\n",
       "    <tr>\n",
       "      <td>0</td>\n",
       "      <td>21</td>\n",
       "      <td>22</td>\n",
       "      <td>165315</td>\n",
       "      <td>2196-04-09 12:26:00</td>\n",
       "      <td>2196-04-10 15:54:00</td>\n",
       "      <td>NaN</td>\n",
       "      <td>EMERGENCY</td>\n",
       "      <td>EMERGENCY ROOM ADMIT</td>\n",
       "      <td>DISC-TRAN CANCER/CHLDRN H</td>\n",
       "      <td>Private</td>\n",
       "      <td>NaN</td>\n",
       "      <td>UNOBTAINABLE</td>\n",
       "      <td>MARRIED</td>\n",
       "      <td>WHITE</td>\n",
       "      <td>2196-04-09 10:06:00</td>\n",
       "      <td>2196-04-09 13:24:00</td>\n",
       "      <td>BENZODIAZEPINE OVERDOSE</td>\n",
       "      <td>0</td>\n",
       "      <td>1</td>\n",
       "    </tr>\n",
       "    <tr>\n",
       "      <td>1</td>\n",
       "      <td>22</td>\n",
       "      <td>23</td>\n",
       "      <td>152223</td>\n",
       "      <td>2153-09-03 07:15:00</td>\n",
       "      <td>2153-09-08 19:10:00</td>\n",
       "      <td>NaN</td>\n",
       "      <td>ELECTIVE</td>\n",
       "      <td>PHYS REFERRAL/NORMAL DELI</td>\n",
       "      <td>HOME HEALTH CARE</td>\n",
       "      <td>Medicare</td>\n",
       "      <td>NaN</td>\n",
       "      <td>CATHOLIC</td>\n",
       "      <td>MARRIED</td>\n",
       "      <td>WHITE</td>\n",
       "      <td>NaN</td>\n",
       "      <td>NaN</td>\n",
       "      <td>CORONARY ARTERY DISEASE\\CORONARY ARTERY BYPASS...</td>\n",
       "      <td>0</td>\n",
       "      <td>1</td>\n",
       "    </tr>\n",
       "    <tr>\n",
       "      <td>2</td>\n",
       "      <td>23</td>\n",
       "      <td>23</td>\n",
       "      <td>124321</td>\n",
       "      <td>2157-10-18 19:34:00</td>\n",
       "      <td>2157-10-25 14:00:00</td>\n",
       "      <td>NaN</td>\n",
       "      <td>EMERGENCY</td>\n",
       "      <td>TRANSFER FROM HOSP/EXTRAM</td>\n",
       "      <td>HOME HEALTH CARE</td>\n",
       "      <td>Medicare</td>\n",
       "      <td>ENGL</td>\n",
       "      <td>CATHOLIC</td>\n",
       "      <td>MARRIED</td>\n",
       "      <td>WHITE</td>\n",
       "      <td>NaN</td>\n",
       "      <td>NaN</td>\n",
       "      <td>BRAIN MASS</td>\n",
       "      <td>0</td>\n",
       "      <td>1</td>\n",
       "    </tr>\n",
       "    <tr>\n",
       "      <td>3</td>\n",
       "      <td>24</td>\n",
       "      <td>24</td>\n",
       "      <td>161859</td>\n",
       "      <td>2139-06-06 16:14:00</td>\n",
       "      <td>2139-06-09 12:48:00</td>\n",
       "      <td>NaN</td>\n",
       "      <td>EMERGENCY</td>\n",
       "      <td>TRANSFER FROM HOSP/EXTRAM</td>\n",
       "      <td>HOME</td>\n",
       "      <td>Private</td>\n",
       "      <td>NaN</td>\n",
       "      <td>PROTESTANT QUAKER</td>\n",
       "      <td>SINGLE</td>\n",
       "      <td>WHITE</td>\n",
       "      <td>NaN</td>\n",
       "      <td>NaN</td>\n",
       "      <td>INTERIOR MYOCARDIAL INFARCTION</td>\n",
       "      <td>0</td>\n",
       "      <td>1</td>\n",
       "    </tr>\n",
       "    <tr>\n",
       "      <td>4</td>\n",
       "      <td>25</td>\n",
       "      <td>25</td>\n",
       "      <td>129635</td>\n",
       "      <td>2160-11-02 02:06:00</td>\n",
       "      <td>2160-11-05 14:55:00</td>\n",
       "      <td>NaN</td>\n",
       "      <td>EMERGENCY</td>\n",
       "      <td>EMERGENCY ROOM ADMIT</td>\n",
       "      <td>HOME</td>\n",
       "      <td>Private</td>\n",
       "      <td>NaN</td>\n",
       "      <td>UNOBTAINABLE</td>\n",
       "      <td>MARRIED</td>\n",
       "      <td>WHITE</td>\n",
       "      <td>2160-11-02 01:01:00</td>\n",
       "      <td>2160-11-02 04:27:00</td>\n",
       "      <td>ACUTE CORONARY SYNDROME</td>\n",
       "      <td>0</td>\n",
       "      <td>1</td>\n",
       "    </tr>\n",
       "  </tbody>\n",
       "</table>\n",
       "</div>"
      ],
      "text/plain": [
       "   ROW_ID  SUBJECT_ID  HADM_ID            ADMITTIME            DISCHTIME  \\\n",
       "0      21          22   165315  2196-04-09 12:26:00  2196-04-10 15:54:00   \n",
       "1      22          23   152223  2153-09-03 07:15:00  2153-09-08 19:10:00   \n",
       "2      23          23   124321  2157-10-18 19:34:00  2157-10-25 14:00:00   \n",
       "3      24          24   161859  2139-06-06 16:14:00  2139-06-09 12:48:00   \n",
       "4      25          25   129635  2160-11-02 02:06:00  2160-11-05 14:55:00   \n",
       "\n",
       "  DEATHTIME ADMISSION_TYPE         ADMISSION_LOCATION  \\\n",
       "0       NaN      EMERGENCY       EMERGENCY ROOM ADMIT   \n",
       "1       NaN       ELECTIVE  PHYS REFERRAL/NORMAL DELI   \n",
       "2       NaN      EMERGENCY  TRANSFER FROM HOSP/EXTRAM   \n",
       "3       NaN      EMERGENCY  TRANSFER FROM HOSP/EXTRAM   \n",
       "4       NaN      EMERGENCY       EMERGENCY ROOM ADMIT   \n",
       "\n",
       "          DISCHARGE_LOCATION INSURANCE LANGUAGE           RELIGION  \\\n",
       "0  DISC-TRAN CANCER/CHLDRN H   Private      NaN       UNOBTAINABLE   \n",
       "1           HOME HEALTH CARE  Medicare      NaN           CATHOLIC   \n",
       "2           HOME HEALTH CARE  Medicare     ENGL           CATHOLIC   \n",
       "3                       HOME   Private      NaN  PROTESTANT QUAKER   \n",
       "4                       HOME   Private      NaN       UNOBTAINABLE   \n",
       "\n",
       "  MARITAL_STATUS ETHNICITY            EDREGTIME            EDOUTTIME  \\\n",
       "0        MARRIED     WHITE  2196-04-09 10:06:00  2196-04-09 13:24:00   \n",
       "1        MARRIED     WHITE                  NaN                  NaN   \n",
       "2        MARRIED     WHITE                  NaN                  NaN   \n",
       "3         SINGLE     WHITE                  NaN                  NaN   \n",
       "4        MARRIED     WHITE  2160-11-02 01:01:00  2160-11-02 04:27:00   \n",
       "\n",
       "                                           DIAGNOSIS  HOSPITAL_EXPIRE_FLAG  \\\n",
       "0                            BENZODIAZEPINE OVERDOSE                     0   \n",
       "1  CORONARY ARTERY DISEASE\\CORONARY ARTERY BYPASS...                     0   \n",
       "2                                         BRAIN MASS                     0   \n",
       "3                     INTERIOR MYOCARDIAL INFARCTION                     0   \n",
       "4                            ACUTE CORONARY SYNDROME                     0   \n",
       "\n",
       "   HAS_CHARTEVENTS_DATA  \n",
       "0                     1  \n",
       "1                     1  \n",
       "2                     1  \n",
       "3                     1  \n",
       "4                     1  "
      ]
     },
     "execution_count": 3,
     "metadata": {},
     "output_type": "execute_result"
    }
   ],
   "source": [
    "admissions=pd.read_csv('/home/usuario/TFG/code/data/ADMISSIONS.csv')\n",
    "print(admissions.shape)\n",
    "print('unique SUBJECT_ID:', admissions.SUBJECT_ID.nunique())\n",
    "print('unique HADM_ID   :', admissions.HADM_ID.nunique())\n",
    "admissions.head()"
   ]
  },
  {
   "cell_type": "code",
   "execution_count": 4,
   "metadata": {},
   "outputs": [
    {
     "data": {
      "text/html": [
       "<div>\n",
       "<style scoped>\n",
       "    .dataframe tbody tr th:only-of-type {\n",
       "        vertical-align: middle;\n",
       "    }\n",
       "\n",
       "    .dataframe tbody tr th {\n",
       "        vertical-align: top;\n",
       "    }\n",
       "\n",
       "    .dataframe thead th {\n",
       "        text-align: right;\n",
       "    }\n",
       "</style>\n",
       "<table border=\"1\" class=\"dataframe\">\n",
       "  <thead>\n",
       "    <tr style=\"text-align: right;\">\n",
       "      <th></th>\n",
       "      <th>SUBJECT_ID</th>\n",
       "      <th>HADM_ID</th>\n",
       "      <th>ADMITTIME</th>\n",
       "      <th>DISCHTIME</th>\n",
       "      <th>DEATHTIME</th>\n",
       "    </tr>\n",
       "  </thead>\n",
       "  <tbody>\n",
       "    <tr>\n",
       "      <td>0</td>\n",
       "      <td>22</td>\n",
       "      <td>165315</td>\n",
       "      <td>2196-04-09 12:26:00</td>\n",
       "      <td>2196-04-10 15:54:00</td>\n",
       "      <td>NaN</td>\n",
       "    </tr>\n",
       "    <tr>\n",
       "      <td>1</td>\n",
       "      <td>23</td>\n",
       "      <td>152223</td>\n",
       "      <td>2153-09-03 07:15:00</td>\n",
       "      <td>2153-09-08 19:10:00</td>\n",
       "      <td>NaN</td>\n",
       "    </tr>\n",
       "    <tr>\n",
       "      <td>2</td>\n",
       "      <td>23</td>\n",
       "      <td>124321</td>\n",
       "      <td>2157-10-18 19:34:00</td>\n",
       "      <td>2157-10-25 14:00:00</td>\n",
       "      <td>NaN</td>\n",
       "    </tr>\n",
       "    <tr>\n",
       "      <td>3</td>\n",
       "      <td>24</td>\n",
       "      <td>161859</td>\n",
       "      <td>2139-06-06 16:14:00</td>\n",
       "      <td>2139-06-09 12:48:00</td>\n",
       "      <td>NaN</td>\n",
       "    </tr>\n",
       "    <tr>\n",
       "      <td>4</td>\n",
       "      <td>25</td>\n",
       "      <td>129635</td>\n",
       "      <td>2160-11-02 02:06:00</td>\n",
       "      <td>2160-11-05 14:55:00</td>\n",
       "      <td>NaN</td>\n",
       "    </tr>\n",
       "  </tbody>\n",
       "</table>\n",
       "</div>"
      ],
      "text/plain": [
       "   SUBJECT_ID  HADM_ID            ADMITTIME            DISCHTIME DEATHTIME\n",
       "0          22   165315  2196-04-09 12:26:00  2196-04-10 15:54:00       NaN\n",
       "1          23   152223  2153-09-03 07:15:00  2153-09-08 19:10:00       NaN\n",
       "2          23   124321  2157-10-18 19:34:00  2157-10-25 14:00:00       NaN\n",
       "3          24   161859  2139-06-06 16:14:00  2139-06-09 12:48:00       NaN\n",
       "4          25   129635  2160-11-02 02:06:00  2160-11-05 14:55:00       NaN"
      ]
     },
     "execution_count": 4,
     "metadata": {},
     "output_type": "execute_result"
    }
   ],
   "source": [
    "admissions = admissions[['SUBJECT_ID','HADM_ID','ADMITTIME','DISCHTIME','DEATHTIME']]\n",
    "admissions.head(5)"
   ]
  },
  {
   "cell_type": "code",
   "execution_count": 5,
   "metadata": {
    "colab": {
     "base_uri": "https://localhost:8080/",
     "height": 365
    },
    "id": "lHsOxvsLOREb",
    "outputId": "358309a5-a4dd-4b10-cb59-69c1a0451e88"
   },
   "outputs": [
    {
     "name": "stdout",
     "output_type": "stream",
     "text": [
      "(58976, 12)\n",
      "unique SUBJECT_ID: 46520\n",
      "unique HADM_ID   : 58976\n"
     ]
    },
    {
     "data": {
      "text/html": [
       "<div>\n",
       "<style scoped>\n",
       "    .dataframe tbody tr th:only-of-type {\n",
       "        vertical-align: middle;\n",
       "    }\n",
       "\n",
       "    .dataframe tbody tr th {\n",
       "        vertical-align: top;\n",
       "    }\n",
       "\n",
       "    .dataframe thead th {\n",
       "        text-align: right;\n",
       "    }\n",
       "</style>\n",
       "<table border=\"1\" class=\"dataframe\">\n",
       "  <thead>\n",
       "    <tr style=\"text-align: right;\">\n",
       "      <th></th>\n",
       "      <th>ROW_ID</th>\n",
       "      <th>SUBJECT_ID</th>\n",
       "      <th>GENDER</th>\n",
       "      <th>DOB</th>\n",
       "      <th>DOD</th>\n",
       "      <th>DOD_HOSP</th>\n",
       "      <th>DOD_SSN</th>\n",
       "      <th>EXPIRE_FLAG</th>\n",
       "      <th>HADM_ID</th>\n",
       "      <th>ADMITTIME</th>\n",
       "      <th>DISCHTIME</th>\n",
       "      <th>DEATHTIME</th>\n",
       "    </tr>\n",
       "  </thead>\n",
       "  <tbody>\n",
       "    <tr>\n",
       "      <td>0</td>\n",
       "      <td>234</td>\n",
       "      <td>249</td>\n",
       "      <td>F</td>\n",
       "      <td>2075-03-13 00:00:00</td>\n",
       "      <td>NaN</td>\n",
       "      <td>NaN</td>\n",
       "      <td>NaN</td>\n",
       "      <td>0</td>\n",
       "      <td>116935</td>\n",
       "      <td>2149-12-17 20:41:00</td>\n",
       "      <td>2149-12-31 14:55:00</td>\n",
       "      <td>NaN</td>\n",
       "    </tr>\n",
       "    <tr>\n",
       "      <td>1</td>\n",
       "      <td>234</td>\n",
       "      <td>249</td>\n",
       "      <td>F</td>\n",
       "      <td>2075-03-13 00:00:00</td>\n",
       "      <td>NaN</td>\n",
       "      <td>NaN</td>\n",
       "      <td>NaN</td>\n",
       "      <td>0</td>\n",
       "      <td>149546</td>\n",
       "      <td>2155-02-03 20:16:00</td>\n",
       "      <td>2155-02-14 11:15:00</td>\n",
       "      <td>NaN</td>\n",
       "    </tr>\n",
       "    <tr>\n",
       "      <td>2</td>\n",
       "      <td>234</td>\n",
       "      <td>249</td>\n",
       "      <td>F</td>\n",
       "      <td>2075-03-13 00:00:00</td>\n",
       "      <td>NaN</td>\n",
       "      <td>NaN</td>\n",
       "      <td>NaN</td>\n",
       "      <td>0</td>\n",
       "      <td>158975</td>\n",
       "      <td>2156-04-27 15:33:00</td>\n",
       "      <td>2156-05-14 15:30:00</td>\n",
       "      <td>NaN</td>\n",
       "    </tr>\n",
       "    <tr>\n",
       "      <td>3</td>\n",
       "      <td>235</td>\n",
       "      <td>250</td>\n",
       "      <td>F</td>\n",
       "      <td>2164-12-27 00:00:00</td>\n",
       "      <td>2188-11-22 00:00:00</td>\n",
       "      <td>2188-11-22 00:00:00</td>\n",
       "      <td>NaN</td>\n",
       "      <td>1</td>\n",
       "      <td>124271</td>\n",
       "      <td>2188-11-12 09:22:00</td>\n",
       "      <td>2188-11-22 12:00:00</td>\n",
       "      <td>2188-11-22 12:00:00</td>\n",
       "    </tr>\n",
       "    <tr>\n",
       "      <td>4</td>\n",
       "      <td>236</td>\n",
       "      <td>251</td>\n",
       "      <td>M</td>\n",
       "      <td>2090-03-15 00:00:00</td>\n",
       "      <td>NaN</td>\n",
       "      <td>NaN</td>\n",
       "      <td>NaN</td>\n",
       "      <td>0</td>\n",
       "      <td>117937</td>\n",
       "      <td>2110-07-27 06:46:00</td>\n",
       "      <td>2110-07-29 15:23:00</td>\n",
       "      <td>NaN</td>\n",
       "    </tr>\n",
       "  </tbody>\n",
       "</table>\n",
       "</div>"
      ],
      "text/plain": [
       "   ROW_ID  SUBJECT_ID GENDER                  DOB                  DOD  \\\n",
       "0     234         249      F  2075-03-13 00:00:00                  NaN   \n",
       "1     234         249      F  2075-03-13 00:00:00                  NaN   \n",
       "2     234         249      F  2075-03-13 00:00:00                  NaN   \n",
       "3     235         250      F  2164-12-27 00:00:00  2188-11-22 00:00:00   \n",
       "4     236         251      M  2090-03-15 00:00:00                  NaN   \n",
       "\n",
       "              DOD_HOSP DOD_SSN  EXPIRE_FLAG  HADM_ID            ADMITTIME  \\\n",
       "0                  NaN     NaN            0   116935  2149-12-17 20:41:00   \n",
       "1                  NaN     NaN            0   149546  2155-02-03 20:16:00   \n",
       "2                  NaN     NaN            0   158975  2156-04-27 15:33:00   \n",
       "3  2188-11-22 00:00:00     NaN            1   124271  2188-11-12 09:22:00   \n",
       "4                  NaN     NaN            0   117937  2110-07-27 06:46:00   \n",
       "\n",
       "             DISCHTIME            DEATHTIME  \n",
       "0  2149-12-31 14:55:00                  NaN  \n",
       "1  2155-02-14 11:15:00                  NaN  \n",
       "2  2156-05-14 15:30:00                  NaN  \n",
       "3  2188-11-22 12:00:00  2188-11-22 12:00:00  \n",
       "4  2110-07-29 15:23:00                  NaN  "
      ]
     },
     "execution_count": 5,
     "metadata": {},
     "output_type": "execute_result"
    }
   ],
   "source": [
    "admissions=pd.merge(patients, admissions, on=['SUBJECT_ID'])\n",
    "print(admissions.shape)\n",
    "print('unique SUBJECT_ID:', admissions.SUBJECT_ID.nunique())\n",
    "print('unique HADM_ID   :', admissions.HADM_ID.nunique())\n",
    "admissions.head()"
   ]
  },
  {
   "cell_type": "code",
   "execution_count": 6,
   "metadata": {},
   "outputs": [
    {
     "data": {
      "text/html": [
       "<div>\n",
       "<style scoped>\n",
       "    .dataframe tbody tr th:only-of-type {\n",
       "        vertical-align: middle;\n",
       "    }\n",
       "\n",
       "    .dataframe tbody tr th {\n",
       "        vertical-align: top;\n",
       "    }\n",
       "\n",
       "    .dataframe thead th {\n",
       "        text-align: right;\n",
       "    }\n",
       "</style>\n",
       "<table border=\"1\" class=\"dataframe\">\n",
       "  <thead>\n",
       "    <tr style=\"text-align: right;\">\n",
       "      <th></th>\n",
       "      <th>SUBJECT_ID</th>\n",
       "      <th>DOB</th>\n",
       "      <th>DOD</th>\n",
       "      <th>HADM_ID</th>\n",
       "      <th>ADMITTIME</th>\n",
       "      <th>DISCHTIME</th>\n",
       "      <th>DEATHTIME</th>\n",
       "    </tr>\n",
       "  </thead>\n",
       "  <tbody>\n",
       "    <tr>\n",
       "      <td>0</td>\n",
       "      <td>249</td>\n",
       "      <td>2075-03-13 00:00:00</td>\n",
       "      <td>NaN</td>\n",
       "      <td>116935</td>\n",
       "      <td>2149-12-17 20:41:00</td>\n",
       "      <td>2149-12-31 14:55:00</td>\n",
       "      <td>NaN</td>\n",
       "    </tr>\n",
       "    <tr>\n",
       "      <td>1</td>\n",
       "      <td>249</td>\n",
       "      <td>2075-03-13 00:00:00</td>\n",
       "      <td>NaN</td>\n",
       "      <td>149546</td>\n",
       "      <td>2155-02-03 20:16:00</td>\n",
       "      <td>2155-02-14 11:15:00</td>\n",
       "      <td>NaN</td>\n",
       "    </tr>\n",
       "    <tr>\n",
       "      <td>2</td>\n",
       "      <td>249</td>\n",
       "      <td>2075-03-13 00:00:00</td>\n",
       "      <td>NaN</td>\n",
       "      <td>158975</td>\n",
       "      <td>2156-04-27 15:33:00</td>\n",
       "      <td>2156-05-14 15:30:00</td>\n",
       "      <td>NaN</td>\n",
       "    </tr>\n",
       "    <tr>\n",
       "      <td>3</td>\n",
       "      <td>250</td>\n",
       "      <td>2164-12-27 00:00:00</td>\n",
       "      <td>2188-11-22 00:00:00</td>\n",
       "      <td>124271</td>\n",
       "      <td>2188-11-12 09:22:00</td>\n",
       "      <td>2188-11-22 12:00:00</td>\n",
       "      <td>2188-11-22 12:00:00</td>\n",
       "    </tr>\n",
       "    <tr>\n",
       "      <td>4</td>\n",
       "      <td>251</td>\n",
       "      <td>2090-03-15 00:00:00</td>\n",
       "      <td>NaN</td>\n",
       "      <td>117937</td>\n",
       "      <td>2110-07-27 06:46:00</td>\n",
       "      <td>2110-07-29 15:23:00</td>\n",
       "      <td>NaN</td>\n",
       "    </tr>\n",
       "  </tbody>\n",
       "</table>\n",
       "</div>"
      ],
      "text/plain": [
       "   SUBJECT_ID                  DOB                  DOD  HADM_ID  \\\n",
       "0         249  2075-03-13 00:00:00                  NaN   116935   \n",
       "1         249  2075-03-13 00:00:00                  NaN   149546   \n",
       "2         249  2075-03-13 00:00:00                  NaN   158975   \n",
       "3         250  2164-12-27 00:00:00  2188-11-22 00:00:00   124271   \n",
       "4         251  2090-03-15 00:00:00                  NaN   117937   \n",
       "\n",
       "             ADMITTIME            DISCHTIME            DEATHTIME  \n",
       "0  2149-12-17 20:41:00  2149-12-31 14:55:00                  NaN  \n",
       "1  2155-02-03 20:16:00  2155-02-14 11:15:00                  NaN  \n",
       "2  2156-04-27 15:33:00  2156-05-14 15:30:00                  NaN  \n",
       "3  2188-11-12 09:22:00  2188-11-22 12:00:00  2188-11-22 12:00:00  \n",
       "4  2110-07-27 06:46:00  2110-07-29 15:23:00                  NaN  "
      ]
     },
     "execution_count": 6,
     "metadata": {},
     "output_type": "execute_result"
    }
   ],
   "source": [
    "admissions = admissions.drop(['ROW_ID','GENDER','DOD_HOSP','DOD_SSN','EXPIRE_FLAG'],axis=1)\n",
    "admissions.head(5)"
   ]
  },
  {
   "cell_type": "code",
   "execution_count": 7,
   "metadata": {
    "colab": {
     "base_uri": "https://localhost:8080/",
     "height": 383
    },
    "id": "YdhYxmqSORGT",
    "outputId": "2ca11f6e-656c-4027-d6ac-61915616c74c"
   },
   "outputs": [
    {
     "name": "stdout",
     "output_type": "stream",
     "text": [
      "(61532, 12)\n",
      "unique SUBJECT_ID: 46476\n",
      "unique HADM_ID   : 57786\n",
      "unique ICUSTAY_ID: 61532\n"
     ]
    },
    {
     "data": {
      "text/html": [
       "<div>\n",
       "<style scoped>\n",
       "    .dataframe tbody tr th:only-of-type {\n",
       "        vertical-align: middle;\n",
       "    }\n",
       "\n",
       "    .dataframe tbody tr th {\n",
       "        vertical-align: top;\n",
       "    }\n",
       "\n",
       "    .dataframe thead th {\n",
       "        text-align: right;\n",
       "    }\n",
       "</style>\n",
       "<table border=\"1\" class=\"dataframe\">\n",
       "  <thead>\n",
       "    <tr style=\"text-align: right;\">\n",
       "      <th></th>\n",
       "      <th>ROW_ID</th>\n",
       "      <th>SUBJECT_ID</th>\n",
       "      <th>HADM_ID</th>\n",
       "      <th>ICUSTAY_ID</th>\n",
       "      <th>DBSOURCE</th>\n",
       "      <th>FIRST_CAREUNIT</th>\n",
       "      <th>LAST_CAREUNIT</th>\n",
       "      <th>FIRST_WARDID</th>\n",
       "      <th>LAST_WARDID</th>\n",
       "      <th>INTIME</th>\n",
       "      <th>OUTTIME</th>\n",
       "      <th>LOS</th>\n",
       "    </tr>\n",
       "  </thead>\n",
       "  <tbody>\n",
       "    <tr>\n",
       "      <td>0</td>\n",
       "      <td>365</td>\n",
       "      <td>268</td>\n",
       "      <td>110404</td>\n",
       "      <td>280836</td>\n",
       "      <td>carevue</td>\n",
       "      <td>MICU</td>\n",
       "      <td>MICU</td>\n",
       "      <td>52</td>\n",
       "      <td>52</td>\n",
       "      <td>2198-02-14 23:27:38</td>\n",
       "      <td>2198-02-18 05:26:11</td>\n",
       "      <td>3.2490</td>\n",
       "    </tr>\n",
       "    <tr>\n",
       "      <td>1</td>\n",
       "      <td>366</td>\n",
       "      <td>269</td>\n",
       "      <td>106296</td>\n",
       "      <td>206613</td>\n",
       "      <td>carevue</td>\n",
       "      <td>MICU</td>\n",
       "      <td>MICU</td>\n",
       "      <td>52</td>\n",
       "      <td>52</td>\n",
       "      <td>2170-11-05 11:05:29</td>\n",
       "      <td>2170-11-08 17:46:57</td>\n",
       "      <td>3.2788</td>\n",
       "    </tr>\n",
       "    <tr>\n",
       "      <td>2</td>\n",
       "      <td>367</td>\n",
       "      <td>270</td>\n",
       "      <td>188028</td>\n",
       "      <td>220345</td>\n",
       "      <td>carevue</td>\n",
       "      <td>CCU</td>\n",
       "      <td>CCU</td>\n",
       "      <td>57</td>\n",
       "      <td>57</td>\n",
       "      <td>2128-06-24 15:05:20</td>\n",
       "      <td>2128-06-27 12:32:29</td>\n",
       "      <td>2.8939</td>\n",
       "    </tr>\n",
       "    <tr>\n",
       "      <td>3</td>\n",
       "      <td>368</td>\n",
       "      <td>271</td>\n",
       "      <td>173727</td>\n",
       "      <td>249196</td>\n",
       "      <td>carevue</td>\n",
       "      <td>MICU</td>\n",
       "      <td>SICU</td>\n",
       "      <td>52</td>\n",
       "      <td>23</td>\n",
       "      <td>2120-08-07 23:12:42</td>\n",
       "      <td>2120-08-10 00:39:04</td>\n",
       "      <td>2.0600</td>\n",
       "    </tr>\n",
       "    <tr>\n",
       "      <td>4</td>\n",
       "      <td>369</td>\n",
       "      <td>272</td>\n",
       "      <td>164716</td>\n",
       "      <td>210407</td>\n",
       "      <td>carevue</td>\n",
       "      <td>CCU</td>\n",
       "      <td>CCU</td>\n",
       "      <td>57</td>\n",
       "      <td>57</td>\n",
       "      <td>2186-12-25 21:08:04</td>\n",
       "      <td>2186-12-27 12:01:13</td>\n",
       "      <td>1.6202</td>\n",
       "    </tr>\n",
       "  </tbody>\n",
       "</table>\n",
       "</div>"
      ],
      "text/plain": [
       "   ROW_ID  SUBJECT_ID  HADM_ID  ICUSTAY_ID DBSOURCE FIRST_CAREUNIT  \\\n",
       "0     365         268   110404      280836  carevue           MICU   \n",
       "1     366         269   106296      206613  carevue           MICU   \n",
       "2     367         270   188028      220345  carevue            CCU   \n",
       "3     368         271   173727      249196  carevue           MICU   \n",
       "4     369         272   164716      210407  carevue            CCU   \n",
       "\n",
       "  LAST_CAREUNIT  FIRST_WARDID  LAST_WARDID               INTIME  \\\n",
       "0          MICU            52           52  2198-02-14 23:27:38   \n",
       "1          MICU            52           52  2170-11-05 11:05:29   \n",
       "2           CCU            57           57  2128-06-24 15:05:20   \n",
       "3          SICU            52           23  2120-08-07 23:12:42   \n",
       "4           CCU            57           57  2186-12-25 21:08:04   \n",
       "\n",
       "               OUTTIME     LOS  \n",
       "0  2198-02-18 05:26:11  3.2490  \n",
       "1  2170-11-08 17:46:57  3.2788  \n",
       "2  2128-06-27 12:32:29  2.8939  \n",
       "3  2120-08-10 00:39:04  2.0600  \n",
       "4  2186-12-27 12:01:13  1.6202  "
      ]
     },
     "execution_count": 7,
     "metadata": {},
     "output_type": "execute_result"
    }
   ],
   "source": [
    "icustays=pd.read_csv('/home/usuario/TFG/code/data/ICUSTAYS.csv')\n",
    "print(icustays.shape)\n",
    "print('unique SUBJECT_ID:', icustays.SUBJECT_ID.nunique())\n",
    "print('unique HADM_ID   :', icustays.HADM_ID.nunique())\n",
    "print('unique ICUSTAY_ID:', icustays.ICUSTAY_ID.nunique())\n",
    "icustays.head()"
   ]
  },
  {
   "cell_type": "code",
   "execution_count": 8,
   "metadata": {
    "id": "ukB8GPoCORJ5"
   },
   "outputs": [],
   "source": [
    "icustays=icustays.drop(['ROW_ID','DBSOURCE', 'FIRST_CAREUNIT','LAST_CAREUNIT','FIRST_WARDID', 'LAST_WARDID','LOS'], axis=1)"
   ]
  },
  {
   "cell_type": "code",
   "execution_count": 9,
   "metadata": {
    "colab": {
     "base_uri": "https://localhost:8080/",
     "height": 383
    },
    "id": "vErMIvkaORLt",
    "outputId": "29efb52e-d645-4188-ad06-a9e32dd76983",
    "scrolled": false
   },
   "outputs": [
    {
     "name": "stdout",
     "output_type": "stream",
     "text": [
      "(61532, 10)\n",
      "unique SUBJECT_ID: 46476\n",
      "unique HADM_ID   : 57786\n",
      "unique ICUSTAY_ID: 61532\n"
     ]
    },
    {
     "data": {
      "text/html": [
       "<div>\n",
       "<style scoped>\n",
       "    .dataframe tbody tr th:only-of-type {\n",
       "        vertical-align: middle;\n",
       "    }\n",
       "\n",
       "    .dataframe tbody tr th {\n",
       "        vertical-align: top;\n",
       "    }\n",
       "\n",
       "    .dataframe thead th {\n",
       "        text-align: right;\n",
       "    }\n",
       "</style>\n",
       "<table border=\"1\" class=\"dataframe\">\n",
       "  <thead>\n",
       "    <tr style=\"text-align: right;\">\n",
       "      <th></th>\n",
       "      <th>SUBJECT_ID</th>\n",
       "      <th>DOB</th>\n",
       "      <th>DOD</th>\n",
       "      <th>HADM_ID</th>\n",
       "      <th>ADMITTIME</th>\n",
       "      <th>DISCHTIME</th>\n",
       "      <th>DEATHTIME</th>\n",
       "      <th>ICUSTAY_ID</th>\n",
       "      <th>INTIME</th>\n",
       "      <th>OUTTIME</th>\n",
       "    </tr>\n",
       "  </thead>\n",
       "  <tbody>\n",
       "    <tr>\n",
       "      <td>0</td>\n",
       "      <td>249</td>\n",
       "      <td>2075-03-13 00:00:00</td>\n",
       "      <td>NaN</td>\n",
       "      <td>116935</td>\n",
       "      <td>2149-12-17 20:41:00</td>\n",
       "      <td>2149-12-31 14:55:00</td>\n",
       "      <td>NaN</td>\n",
       "      <td>215044</td>\n",
       "      <td>2149-12-18 20:06:02</td>\n",
       "      <td>2149-12-24 13:31:45</td>\n",
       "    </tr>\n",
       "    <tr>\n",
       "      <td>1</td>\n",
       "      <td>249</td>\n",
       "      <td>2075-03-13 00:00:00</td>\n",
       "      <td>NaN</td>\n",
       "      <td>149546</td>\n",
       "      <td>2155-02-03 20:16:00</td>\n",
       "      <td>2155-02-14 11:15:00</td>\n",
       "      <td>NaN</td>\n",
       "      <td>269035</td>\n",
       "      <td>2155-02-03 20:17:29</td>\n",
       "      <td>2155-02-05 18:34:02</td>\n",
       "    </tr>\n",
       "    <tr>\n",
       "      <td>2</td>\n",
       "      <td>249</td>\n",
       "      <td>2075-03-13 00:00:00</td>\n",
       "      <td>NaN</td>\n",
       "      <td>149546</td>\n",
       "      <td>2155-02-03 20:16:00</td>\n",
       "      <td>2155-02-14 11:15:00</td>\n",
       "      <td>NaN</td>\n",
       "      <td>263055</td>\n",
       "      <td>2155-02-07 18:51:16</td>\n",
       "      <td>2155-02-11 16:00:39</td>\n",
       "    </tr>\n",
       "    <tr>\n",
       "      <td>3</td>\n",
       "      <td>249</td>\n",
       "      <td>2075-03-13 00:00:00</td>\n",
       "      <td>NaN</td>\n",
       "      <td>158975</td>\n",
       "      <td>2156-04-27 15:33:00</td>\n",
       "      <td>2156-05-14 15:30:00</td>\n",
       "      <td>NaN</td>\n",
       "      <td>282599</td>\n",
       "      <td>2156-05-01 18:10:12</td>\n",
       "      <td>2156-05-03 18:43:45</td>\n",
       "    </tr>\n",
       "    <tr>\n",
       "      <td>4</td>\n",
       "      <td>249</td>\n",
       "      <td>2075-03-13 00:00:00</td>\n",
       "      <td>NaN</td>\n",
       "      <td>158975</td>\n",
       "      <td>2156-04-27 15:33:00</td>\n",
       "      <td>2156-05-14 15:30:00</td>\n",
       "      <td>NaN</td>\n",
       "      <td>263882</td>\n",
       "      <td>2156-05-10 17:47:35</td>\n",
       "      <td>2156-05-11 19:16:03</td>\n",
       "    </tr>\n",
       "  </tbody>\n",
       "</table>\n",
       "</div>"
      ],
      "text/plain": [
       "   SUBJECT_ID                  DOB  DOD  HADM_ID            ADMITTIME  \\\n",
       "0         249  2075-03-13 00:00:00  NaN   116935  2149-12-17 20:41:00   \n",
       "1         249  2075-03-13 00:00:00  NaN   149546  2155-02-03 20:16:00   \n",
       "2         249  2075-03-13 00:00:00  NaN   149546  2155-02-03 20:16:00   \n",
       "3         249  2075-03-13 00:00:00  NaN   158975  2156-04-27 15:33:00   \n",
       "4         249  2075-03-13 00:00:00  NaN   158975  2156-04-27 15:33:00   \n",
       "\n",
       "             DISCHTIME DEATHTIME  ICUSTAY_ID               INTIME  \\\n",
       "0  2149-12-31 14:55:00       NaN      215044  2149-12-18 20:06:02   \n",
       "1  2155-02-14 11:15:00       NaN      269035  2155-02-03 20:17:29   \n",
       "2  2155-02-14 11:15:00       NaN      263055  2155-02-07 18:51:16   \n",
       "3  2156-05-14 15:30:00       NaN      282599  2156-05-01 18:10:12   \n",
       "4  2156-05-14 15:30:00       NaN      263882  2156-05-10 17:47:35   \n",
       "\n",
       "               OUTTIME  \n",
       "0  2149-12-24 13:31:45  \n",
       "1  2155-02-05 18:34:02  \n",
       "2  2155-02-11 16:00:39  \n",
       "3  2156-05-03 18:43:45  \n",
       "4  2156-05-11 19:16:03  "
      ]
     },
     "execution_count": 9,
     "metadata": {},
     "output_type": "execute_result"
    }
   ],
   "source": [
    "admissions=pd.merge(admissions, icustays, on=['SUBJECT_ID', 'HADM_ID'])\n",
    "print(admissions.shape)\n",
    "print('unique SUBJECT_ID:', admissions.SUBJECT_ID.nunique())\n",
    "print('unique HADM_ID   :', admissions.HADM_ID.nunique())\n",
    "print('unique ICUSTAY_ID:', admissions.ICUSTAY_ID.nunique())\n",
    "admissions.head()"
   ]
  },
  {
   "cell_type": "code",
   "execution_count": null,
   "metadata": {},
   "outputs": [],
   "source": [
    "\n"
   ]
  },
  {
   "cell_type": "code",
   "execution_count": null,
   "metadata": {},
   "outputs": [],
   "source": []
  },
  {
   "cell_type": "code",
   "execution_count": 10,
   "metadata": {},
   "outputs": [],
   "source": [
    "admissions['DOD'] = pd.to_datetime(admissions['DOD'])\n",
    "admissions['ADMITTIME'] = pd.to_datetime(admissions['ADMITTIME'])\n",
    "admissions['DISCHTIME'] = pd.to_datetime(admissions['DISCHTIME'])\n",
    "admissions['DEATHTIME'] = pd.to_datetime(admissions['DEATHTIME'])\n"
   ]
  },
  {
   "cell_type": "code",
   "execution_count": 11,
   "metadata": {},
   "outputs": [],
   "source": [
    "admissions['MORTALITY_INHOSPITAL'] = admissions['DOD'].notnull() & ((admissions['ADMITTIME'] <= admissions['DOD']) & (admissions['DISCHTIME'] >= admissions['DOD']))\n",
    "admissions['MORTALITY_INHOSPITAL'] = admissions['MORTALITY_INHOSPITAL'] | (admissions['DEATHTIME'].notnull() & ((admissions['ADMITTIME'] <= admissions['DEATHTIME']) & (admissions['DISCHTIME'] >= admissions['DEATHTIME'])))\n",
    "admissions['MORTALITY_INHOSPITAL'] = admissions['MORTALITY_INHOSPITAL'].astype(int)"
   ]
  },
  {
   "cell_type": "code",
   "execution_count": 12,
   "metadata": {},
   "outputs": [
    {
     "data": {
      "text/plain": [
       "0    54948\n",
       "1     6584\n",
       "Name: MORTALITY_INHOSPITAL, dtype: int64"
      ]
     },
     "execution_count": 12,
     "metadata": {},
     "output_type": "execute_result"
    }
   ],
   "source": [
    "admissions['MORTALITY_INHOSPITAL'].value_counts()  #OBSERVACION: tenemos 61532 filas con icustays distintas"
   ]
  },
  {
   "cell_type": "code",
   "execution_count": 13,
   "metadata": {},
   "outputs": [],
   "source": [
    "admissions['INTIME'] = pd.to_datetime(admissions['INTIME'])\n",
    "admissions['OUTTIME'] = pd.to_datetime(admissions['OUTTIME'])\n"
   ]
  },
  {
   "cell_type": "code",
   "execution_count": 14,
   "metadata": {},
   "outputs": [],
   "source": [
    "admissions['MORTALITY_INUNIT'] = admissions['DOD'].notnull() & ((admissions['INTIME'] <= admissions['DOD']) & (admissions['OUTTIME'] >= admissions['DOD']))\n",
    "admissions['MORTALITY_INUNIT'] = admissions['MORTALITY_INUNIT'] | (admissions['DEATHTIME'].notnull() & ((admissions['INTIME'] <= admissions['DEATHTIME']) & (admissions['OUTTIME'] >= admissions['DEATHTIME'])))\n",
    "admissions['MORTALITY_INUNIT'] = admissions['MORTALITY_INUNIT'].astype(int)"
   ]
  },
  {
   "cell_type": "code",
   "execution_count": 15,
   "metadata": {},
   "outputs": [
    {
     "data": {
      "text/plain": [
       "0    56845\n",
       "1     4687\n",
       "Name: MORTALITY_INUNIT, dtype: int64"
      ]
     },
     "execution_count": 15,
     "metadata": {},
     "output_type": "execute_result"
    }
   ],
   "source": [
    "admissions['MORTALITY_INUNIT'].value_counts()"
   ]
  },
  {
   "cell_type": "code",
   "execution_count": 16,
   "metadata": {},
   "outputs": [
    {
     "data": {
      "text/html": [
       "<div>\n",
       "<style scoped>\n",
       "    .dataframe tbody tr th:only-of-type {\n",
       "        vertical-align: middle;\n",
       "    }\n",
       "\n",
       "    .dataframe tbody tr th {\n",
       "        vertical-align: top;\n",
       "    }\n",
       "\n",
       "    .dataframe thead th {\n",
       "        text-align: right;\n",
       "    }\n",
       "</style>\n",
       "<table border=\"1\" class=\"dataframe\">\n",
       "  <thead>\n",
       "    <tr style=\"text-align: right;\">\n",
       "      <th></th>\n",
       "      <th>SUBJECT_ID</th>\n",
       "      <th>DOB</th>\n",
       "      <th>DOD</th>\n",
       "      <th>HADM_ID</th>\n",
       "      <th>ADMITTIME</th>\n",
       "      <th>DISCHTIME</th>\n",
       "      <th>DEATHTIME</th>\n",
       "      <th>ICUSTAY_ID</th>\n",
       "      <th>INTIME</th>\n",
       "      <th>OUTTIME</th>\n",
       "      <th>MORTALITY_INHOSPITAL</th>\n",
       "      <th>MORTALITY_INUNIT</th>\n",
       "    </tr>\n",
       "  </thead>\n",
       "  <tbody>\n",
       "    <tr>\n",
       "      <td>0</td>\n",
       "      <td>249</td>\n",
       "      <td>2075-03-13 00:00:00</td>\n",
       "      <td>NaT</td>\n",
       "      <td>116935</td>\n",
       "      <td>2149-12-17 20:41:00</td>\n",
       "      <td>2149-12-31 14:55:00</td>\n",
       "      <td>NaT</td>\n",
       "      <td>215044</td>\n",
       "      <td>2149-12-18 20:06:02</td>\n",
       "      <td>2149-12-24 13:31:45</td>\n",
       "      <td>0</td>\n",
       "      <td>0</td>\n",
       "    </tr>\n",
       "    <tr>\n",
       "      <td>1</td>\n",
       "      <td>249</td>\n",
       "      <td>2075-03-13 00:00:00</td>\n",
       "      <td>NaT</td>\n",
       "      <td>149546</td>\n",
       "      <td>2155-02-03 20:16:00</td>\n",
       "      <td>2155-02-14 11:15:00</td>\n",
       "      <td>NaT</td>\n",
       "      <td>269035</td>\n",
       "      <td>2155-02-03 20:17:29</td>\n",
       "      <td>2155-02-05 18:34:02</td>\n",
       "      <td>0</td>\n",
       "      <td>0</td>\n",
       "    </tr>\n",
       "    <tr>\n",
       "      <td>2</td>\n",
       "      <td>249</td>\n",
       "      <td>2075-03-13 00:00:00</td>\n",
       "      <td>NaT</td>\n",
       "      <td>149546</td>\n",
       "      <td>2155-02-03 20:16:00</td>\n",
       "      <td>2155-02-14 11:15:00</td>\n",
       "      <td>NaT</td>\n",
       "      <td>263055</td>\n",
       "      <td>2155-02-07 18:51:16</td>\n",
       "      <td>2155-02-11 16:00:39</td>\n",
       "      <td>0</td>\n",
       "      <td>0</td>\n",
       "    </tr>\n",
       "    <tr>\n",
       "      <td>3</td>\n",
       "      <td>249</td>\n",
       "      <td>2075-03-13 00:00:00</td>\n",
       "      <td>NaT</td>\n",
       "      <td>158975</td>\n",
       "      <td>2156-04-27 15:33:00</td>\n",
       "      <td>2156-05-14 15:30:00</td>\n",
       "      <td>NaT</td>\n",
       "      <td>282599</td>\n",
       "      <td>2156-05-01 18:10:12</td>\n",
       "      <td>2156-05-03 18:43:45</td>\n",
       "      <td>0</td>\n",
       "      <td>0</td>\n",
       "    </tr>\n",
       "    <tr>\n",
       "      <td>4</td>\n",
       "      <td>249</td>\n",
       "      <td>2075-03-13 00:00:00</td>\n",
       "      <td>NaT</td>\n",
       "      <td>158975</td>\n",
       "      <td>2156-04-27 15:33:00</td>\n",
       "      <td>2156-05-14 15:30:00</td>\n",
       "      <td>NaT</td>\n",
       "      <td>263882</td>\n",
       "      <td>2156-05-10 17:47:35</td>\n",
       "      <td>2156-05-11 19:16:03</td>\n",
       "      <td>0</td>\n",
       "      <td>0</td>\n",
       "    </tr>\n",
       "    <tr>\n",
       "      <td>...</td>\n",
       "      <td>...</td>\n",
       "      <td>...</td>\n",
       "      <td>...</td>\n",
       "      <td>...</td>\n",
       "      <td>...</td>\n",
       "      <td>...</td>\n",
       "      <td>...</td>\n",
       "      <td>...</td>\n",
       "      <td>...</td>\n",
       "      <td>...</td>\n",
       "      <td>...</td>\n",
       "      <td>...</td>\n",
       "    </tr>\n",
       "    <tr>\n",
       "      <td>61527</td>\n",
       "      <td>44089</td>\n",
       "      <td>2026-05-25 00:00:00</td>\n",
       "      <td>NaT</td>\n",
       "      <td>165748</td>\n",
       "      <td>2111-09-30 12:04:00</td>\n",
       "      <td>2111-10-03 16:04:00</td>\n",
       "      <td>NaT</td>\n",
       "      <td>292151</td>\n",
       "      <td>2111-09-30 18:53:12</td>\n",
       "      <td>2111-10-01 20:03:50</td>\n",
       "      <td>0</td>\n",
       "      <td>0</td>\n",
       "    </tr>\n",
       "    <tr>\n",
       "      <td>61528</td>\n",
       "      <td>44115</td>\n",
       "      <td>2124-07-27 00:00:00</td>\n",
       "      <td>NaT</td>\n",
       "      <td>163623</td>\n",
       "      <td>2161-07-15 12:00:00</td>\n",
       "      <td>2161-07-19 12:30:00</td>\n",
       "      <td>NaT</td>\n",
       "      <td>264947</td>\n",
       "      <td>2161-07-15 17:16:25</td>\n",
       "      <td>2161-07-16 13:21:38</td>\n",
       "      <td>0</td>\n",
       "      <td>0</td>\n",
       "    </tr>\n",
       "    <tr>\n",
       "      <td>61529</td>\n",
       "      <td>44123</td>\n",
       "      <td>2049-11-26 00:00:00</td>\n",
       "      <td>2135-01-12</td>\n",
       "      <td>116395</td>\n",
       "      <td>2135-01-06 07:15:00</td>\n",
       "      <td>2135-01-12 02:50:00</td>\n",
       "      <td>2135-01-12 02:50:00</td>\n",
       "      <td>264065</td>\n",
       "      <td>2135-01-06 09:54:24</td>\n",
       "      <td>2135-01-12 04:50:52</td>\n",
       "      <td>1</td>\n",
       "      <td>1</td>\n",
       "    </tr>\n",
       "    <tr>\n",
       "      <td>61530</td>\n",
       "      <td>44126</td>\n",
       "      <td>2076-07-25 00:00:00</td>\n",
       "      <td>NaT</td>\n",
       "      <td>183530</td>\n",
       "      <td>2129-01-03 07:15:00</td>\n",
       "      <td>2129-01-11 12:29:00</td>\n",
       "      <td>NaT</td>\n",
       "      <td>241939</td>\n",
       "      <td>2129-01-05 16:51:31</td>\n",
       "      <td>2129-01-07 18:03:39</td>\n",
       "      <td>0</td>\n",
       "      <td>0</td>\n",
       "    </tr>\n",
       "    <tr>\n",
       "      <td>61531</td>\n",
       "      <td>44128</td>\n",
       "      <td>2098-07-25 00:00:00</td>\n",
       "      <td>NaT</td>\n",
       "      <td>141304</td>\n",
       "      <td>2149-06-08 15:21:00</td>\n",
       "      <td>2149-06-23 18:44:00</td>\n",
       "      <td>NaT</td>\n",
       "      <td>253669</td>\n",
       "      <td>2149-06-11 02:22:10</td>\n",
       "      <td>2149-06-13 18:41:14</td>\n",
       "      <td>0</td>\n",
       "      <td>0</td>\n",
       "    </tr>\n",
       "  </tbody>\n",
       "</table>\n",
       "<p>61532 rows × 12 columns</p>\n",
       "</div>"
      ],
      "text/plain": [
       "       SUBJECT_ID                  DOB        DOD  HADM_ID  \\\n",
       "0             249  2075-03-13 00:00:00        NaT   116935   \n",
       "1             249  2075-03-13 00:00:00        NaT   149546   \n",
       "2             249  2075-03-13 00:00:00        NaT   149546   \n",
       "3             249  2075-03-13 00:00:00        NaT   158975   \n",
       "4             249  2075-03-13 00:00:00        NaT   158975   \n",
       "...           ...                  ...        ...      ...   \n",
       "61527       44089  2026-05-25 00:00:00        NaT   165748   \n",
       "61528       44115  2124-07-27 00:00:00        NaT   163623   \n",
       "61529       44123  2049-11-26 00:00:00 2135-01-12   116395   \n",
       "61530       44126  2076-07-25 00:00:00        NaT   183530   \n",
       "61531       44128  2098-07-25 00:00:00        NaT   141304   \n",
       "\n",
       "                ADMITTIME           DISCHTIME           DEATHTIME  ICUSTAY_ID  \\\n",
       "0     2149-12-17 20:41:00 2149-12-31 14:55:00                 NaT      215044   \n",
       "1     2155-02-03 20:16:00 2155-02-14 11:15:00                 NaT      269035   \n",
       "2     2155-02-03 20:16:00 2155-02-14 11:15:00                 NaT      263055   \n",
       "3     2156-04-27 15:33:00 2156-05-14 15:30:00                 NaT      282599   \n",
       "4     2156-04-27 15:33:00 2156-05-14 15:30:00                 NaT      263882   \n",
       "...                   ...                 ...                 ...         ...   \n",
       "61527 2111-09-30 12:04:00 2111-10-03 16:04:00                 NaT      292151   \n",
       "61528 2161-07-15 12:00:00 2161-07-19 12:30:00                 NaT      264947   \n",
       "61529 2135-01-06 07:15:00 2135-01-12 02:50:00 2135-01-12 02:50:00      264065   \n",
       "61530 2129-01-03 07:15:00 2129-01-11 12:29:00                 NaT      241939   \n",
       "61531 2149-06-08 15:21:00 2149-06-23 18:44:00                 NaT      253669   \n",
       "\n",
       "                   INTIME             OUTTIME  MORTALITY_INHOSPITAL  \\\n",
       "0     2149-12-18 20:06:02 2149-12-24 13:31:45                     0   \n",
       "1     2155-02-03 20:17:29 2155-02-05 18:34:02                     0   \n",
       "2     2155-02-07 18:51:16 2155-02-11 16:00:39                     0   \n",
       "3     2156-05-01 18:10:12 2156-05-03 18:43:45                     0   \n",
       "4     2156-05-10 17:47:35 2156-05-11 19:16:03                     0   \n",
       "...                   ...                 ...                   ...   \n",
       "61527 2111-09-30 18:53:12 2111-10-01 20:03:50                     0   \n",
       "61528 2161-07-15 17:16:25 2161-07-16 13:21:38                     0   \n",
       "61529 2135-01-06 09:54:24 2135-01-12 04:50:52                     1   \n",
       "61530 2129-01-05 16:51:31 2129-01-07 18:03:39                     0   \n",
       "61531 2149-06-11 02:22:10 2149-06-13 18:41:14                     0   \n",
       "\n",
       "       MORTALITY_INUNIT  \n",
       "0                     0  \n",
       "1                     0  \n",
       "2                     0  \n",
       "3                     0  \n",
       "4                     0  \n",
       "...                 ...  \n",
       "61527                 0  \n",
       "61528                 0  \n",
       "61529                 1  \n",
       "61530                 0  \n",
       "61531                 0  \n",
       "\n",
       "[61532 rows x 12 columns]"
      ]
     },
     "execution_count": 16,
     "metadata": {},
     "output_type": "execute_result"
    }
   ],
   "source": [
    "admissions"
   ]
  },
  {
   "cell_type": "code",
   "execution_count": null,
   "metadata": {},
   "outputs": [],
   "source": []
  },
  {
   "cell_type": "code",
   "execution_count": 17,
   "metadata": {},
   "outputs": [],
   "source": [
    "result_24_horas_final=pd.read_csv('result_24_horas_final.csv')"
   ]
  },
  {
   "cell_type": "code",
   "execution_count": 18,
   "metadata": {},
   "outputs": [
    {
     "data": {
      "text/plain": [
       "Unnamed: 0            0\n",
       "Unnamed: 0.1          0\n",
       "SUBJECT_ID            0\n",
       "HADM_ID               0\n",
       "ADMITTIME             0\n",
       "ADMISSION_TYPE        0\n",
       "ICUSTAY_ID            0\n",
       "INTIME                0\n",
       "LOS                  10\n",
       "AGE                   0\n",
       "PRELOS                0\n",
       "OASIS             13655\n",
       "OASIS_NONAN           0\n",
       "dtype: int64"
      ]
     },
     "execution_count": 18,
     "metadata": {},
     "output_type": "execute_result"
    }
   ],
   "source": [
    "result_24_horas_final.isnull().sum()"
   ]
  },
  {
   "cell_type": "code",
   "execution_count": 19,
   "metadata": {},
   "outputs": [
    {
     "data": {
      "text/plain": [
       "Unnamed: 0            0\n",
       "Unnamed: 0.1          0\n",
       "SUBJECT_ID            0\n",
       "HADM_ID               0\n",
       "ADMITTIME             0\n",
       "ADMISSION_TYPE        0\n",
       "ICUSTAY_ID            0\n",
       "INTIME                0\n",
       "LOS                   0\n",
       "AGE                   0\n",
       "PRELOS                0\n",
       "OASIS             13645\n",
       "OASIS_NONAN           0\n",
       "dtype: int64"
      ]
     },
     "execution_count": 19,
     "metadata": {},
     "output_type": "execute_result"
    }
   ],
   "source": [
    "result_24_horas_final = result_24_horas_final[result_24_horas_final['LOS'].notnull()] \n",
    "result_24_horas_final.isnull().sum()"
   ]
  },
  {
   "cell_type": "code",
   "execution_count": 20,
   "metadata": {},
   "outputs": [
    {
     "data": {
      "text/html": [
       "<div>\n",
       "<style scoped>\n",
       "    .dataframe tbody tr th:only-of-type {\n",
       "        vertical-align: middle;\n",
       "    }\n",
       "\n",
       "    .dataframe tbody tr th {\n",
       "        vertical-align: top;\n",
       "    }\n",
       "\n",
       "    .dataframe thead th {\n",
       "        text-align: right;\n",
       "    }\n",
       "</style>\n",
       "<table border=\"1\" class=\"dataframe\">\n",
       "  <thead>\n",
       "    <tr style=\"text-align: right;\">\n",
       "      <th></th>\n",
       "      <th>SUBJECT_ID</th>\n",
       "      <th>HADM_ID</th>\n",
       "      <th>ICUSTAY_ID</th>\n",
       "      <th>OASIS_NONAN</th>\n",
       "    </tr>\n",
       "  </thead>\n",
       "  <tbody>\n",
       "    <tr>\n",
       "      <td>0</td>\n",
       "      <td>59618</td>\n",
       "      <td>101145</td>\n",
       "      <td>226547</td>\n",
       "      <td>33.0</td>\n",
       "    </tr>\n",
       "    <tr>\n",
       "      <td>1</td>\n",
       "      <td>69108</td>\n",
       "      <td>158993</td>\n",
       "      <td>297532</td>\n",
       "      <td>29.0</td>\n",
       "    </tr>\n",
       "    <tr>\n",
       "      <td>2</td>\n",
       "      <td>14008</td>\n",
       "      <td>173497</td>\n",
       "      <td>217593</td>\n",
       "      <td>20.0</td>\n",
       "    </tr>\n",
       "    <tr>\n",
       "      <td>3</td>\n",
       "      <td>2187</td>\n",
       "      <td>128059</td>\n",
       "      <td>212355</td>\n",
       "      <td>0.0</td>\n",
       "    </tr>\n",
       "    <tr>\n",
       "      <td>4</td>\n",
       "      <td>41040</td>\n",
       "      <td>118624</td>\n",
       "      <td>224627</td>\n",
       "      <td>41.0</td>\n",
       "    </tr>\n",
       "    <tr>\n",
       "      <td>...</td>\n",
       "      <td>...</td>\n",
       "      <td>...</td>\n",
       "      <td>...</td>\n",
       "      <td>...</td>\n",
       "    </tr>\n",
       "    <tr>\n",
       "      <td>61517</td>\n",
       "      <td>83901</td>\n",
       "      <td>193465</td>\n",
       "      <td>286029</td>\n",
       "      <td>29.0</td>\n",
       "    </tr>\n",
       "    <tr>\n",
       "      <td>61518</td>\n",
       "      <td>10422</td>\n",
       "      <td>113048</td>\n",
       "      <td>227248</td>\n",
       "      <td>34.0</td>\n",
       "    </tr>\n",
       "    <tr>\n",
       "      <td>61519</td>\n",
       "      <td>14743</td>\n",
       "      <td>115333</td>\n",
       "      <td>298656</td>\n",
       "      <td>30.0</td>\n",
       "    </tr>\n",
       "    <tr>\n",
       "      <td>61520</td>\n",
       "      <td>99517</td>\n",
       "      <td>144548</td>\n",
       "      <td>213415</td>\n",
       "      <td>43.0</td>\n",
       "    </tr>\n",
       "    <tr>\n",
       "      <td>61521</td>\n",
       "      <td>51042</td>\n",
       "      <td>167985</td>\n",
       "      <td>209525</td>\n",
       "      <td>60.0</td>\n",
       "    </tr>\n",
       "  </tbody>\n",
       "</table>\n",
       "<p>61522 rows × 4 columns</p>\n",
       "</div>"
      ],
      "text/plain": [
       "       SUBJECT_ID  HADM_ID  ICUSTAY_ID  OASIS_NONAN\n",
       "0           59618   101145      226547         33.0\n",
       "1           69108   158993      297532         29.0\n",
       "2           14008   173497      217593         20.0\n",
       "3            2187   128059      212355          0.0\n",
       "4           41040   118624      224627         41.0\n",
       "...           ...      ...         ...          ...\n",
       "61517       83901   193465      286029         29.0\n",
       "61518       10422   113048      227248         34.0\n",
       "61519       14743   115333      298656         30.0\n",
       "61520       99517   144548      213415         43.0\n",
       "61521       51042   167985      209525         60.0\n",
       "\n",
       "[61522 rows x 4 columns]"
      ]
     },
     "execution_count": 20,
     "metadata": {},
     "output_type": "execute_result"
    }
   ],
   "source": [
    "result_24_horas_final = result_24_horas_final[['SUBJECT_ID','HADM_ID','ICUSTAY_ID','OASIS_NONAN']]\n",
    "result_24_horas_final = result_24_horas_final.reset_index(drop=True)\n",
    "result_24_horas_final"
   ]
  },
  {
   "cell_type": "markdown",
   "metadata": {},
   "source": [
    "## Predecimos in-hospital-mortality"
   ]
  },
  {
   "cell_type": "markdown",
   "metadata": {},
   "source": [
    "### Cohort Selection:"
   ]
  },
  {
   "cell_type": "code",
   "execution_count": 22,
   "metadata": {},
   "outputs": [],
   "source": [
    "#we compute the age at the time the patient is admitted to the ICU from date of birth dob, then we drop dob.\n",
    "admissions['DOB'] = pd.to_datetime(admissions['DOB']).dt.date\n",
    "admissions['INTIME_TMP'] = pd.to_datetime(admissions['INTIME']).dt.date\n",
    "admissions['AGE'] = admissions.apply(lambda e: (e['INTIME_TMP'] - e['DOB']).days/365, axis=1)\n",
    "admissions=admissions.drop(['DOB','INTIME_TMP'], axis=1)"
   ]
  },
  {
   "cell_type": "code",
   "execution_count": 23,
   "metadata": {},
   "outputs": [
    {
     "name": "stdout",
     "output_type": "stream",
     "text": [
      "(53332, 12)\n",
      "unique SUBJECT_ID: 38512\n",
      "unique HADM_ID   : 49695\n",
      "unique ICUSTAY_ID: 53332\n"
     ]
    },
    {
     "data": {
      "text/html": [
       "<div>\n",
       "<style scoped>\n",
       "    .dataframe tbody tr th:only-of-type {\n",
       "        vertical-align: middle;\n",
       "    }\n",
       "\n",
       "    .dataframe tbody tr th {\n",
       "        vertical-align: top;\n",
       "    }\n",
       "\n",
       "    .dataframe thead th {\n",
       "        text-align: right;\n",
       "    }\n",
       "</style>\n",
       "<table border=\"1\" class=\"dataframe\">\n",
       "  <thead>\n",
       "    <tr style=\"text-align: right;\">\n",
       "      <th></th>\n",
       "      <th>SUBJECT_ID</th>\n",
       "      <th>DOD</th>\n",
       "      <th>HADM_ID</th>\n",
       "      <th>ADMITTIME</th>\n",
       "      <th>DISCHTIME</th>\n",
       "      <th>DEATHTIME</th>\n",
       "      <th>ICUSTAY_ID</th>\n",
       "      <th>INTIME</th>\n",
       "      <th>OUTTIME</th>\n",
       "      <th>MORTALITY_INHOSPITAL</th>\n",
       "      <th>MORTALITY_INUNIT</th>\n",
       "      <th>AGE</th>\n",
       "    </tr>\n",
       "  </thead>\n",
       "  <tbody>\n",
       "    <tr>\n",
       "      <td>0</td>\n",
       "      <td>249</td>\n",
       "      <td>NaT</td>\n",
       "      <td>116935</td>\n",
       "      <td>2149-12-17 20:41:00</td>\n",
       "      <td>2149-12-31 14:55:00</td>\n",
       "      <td>NaT</td>\n",
       "      <td>215044</td>\n",
       "      <td>2149-12-18 20:06:02</td>\n",
       "      <td>2149-12-24 13:31:45</td>\n",
       "      <td>0</td>\n",
       "      <td>0</td>\n",
       "      <td>74.816438</td>\n",
       "    </tr>\n",
       "    <tr>\n",
       "      <td>1</td>\n",
       "      <td>249</td>\n",
       "      <td>NaT</td>\n",
       "      <td>149546</td>\n",
       "      <td>2155-02-03 20:16:00</td>\n",
       "      <td>2155-02-14 11:15:00</td>\n",
       "      <td>NaT</td>\n",
       "      <td>269035</td>\n",
       "      <td>2155-02-03 20:17:29</td>\n",
       "      <td>2155-02-05 18:34:02</td>\n",
       "      <td>0</td>\n",
       "      <td>0</td>\n",
       "      <td>79.947945</td>\n",
       "    </tr>\n",
       "    <tr>\n",
       "      <td>2</td>\n",
       "      <td>249</td>\n",
       "      <td>NaT</td>\n",
       "      <td>149546</td>\n",
       "      <td>2155-02-03 20:16:00</td>\n",
       "      <td>2155-02-14 11:15:00</td>\n",
       "      <td>NaT</td>\n",
       "      <td>263055</td>\n",
       "      <td>2155-02-07 18:51:16</td>\n",
       "      <td>2155-02-11 16:00:39</td>\n",
       "      <td>0</td>\n",
       "      <td>0</td>\n",
       "      <td>79.958904</td>\n",
       "    </tr>\n",
       "    <tr>\n",
       "      <td>3</td>\n",
       "      <td>249</td>\n",
       "      <td>NaT</td>\n",
       "      <td>158975</td>\n",
       "      <td>2156-04-27 15:33:00</td>\n",
       "      <td>2156-05-14 15:30:00</td>\n",
       "      <td>NaT</td>\n",
       "      <td>282599</td>\n",
       "      <td>2156-05-01 18:10:12</td>\n",
       "      <td>2156-05-03 18:43:45</td>\n",
       "      <td>0</td>\n",
       "      <td>0</td>\n",
       "      <td>81.189041</td>\n",
       "    </tr>\n",
       "    <tr>\n",
       "      <td>4</td>\n",
       "      <td>249</td>\n",
       "      <td>NaT</td>\n",
       "      <td>158975</td>\n",
       "      <td>2156-04-27 15:33:00</td>\n",
       "      <td>2156-05-14 15:30:00</td>\n",
       "      <td>NaT</td>\n",
       "      <td>263882</td>\n",
       "      <td>2156-05-10 17:47:35</td>\n",
       "      <td>2156-05-11 19:16:03</td>\n",
       "      <td>0</td>\n",
       "      <td>0</td>\n",
       "      <td>81.213699</td>\n",
       "    </tr>\n",
       "  </tbody>\n",
       "</table>\n",
       "</div>"
      ],
      "text/plain": [
       "   SUBJECT_ID DOD  HADM_ID           ADMITTIME           DISCHTIME DEATHTIME  \\\n",
       "0         249 NaT   116935 2149-12-17 20:41:00 2149-12-31 14:55:00       NaT   \n",
       "1         249 NaT   149546 2155-02-03 20:16:00 2155-02-14 11:15:00       NaT   \n",
       "2         249 NaT   149546 2155-02-03 20:16:00 2155-02-14 11:15:00       NaT   \n",
       "3         249 NaT   158975 2156-04-27 15:33:00 2156-05-14 15:30:00       NaT   \n",
       "4         249 NaT   158975 2156-04-27 15:33:00 2156-05-14 15:30:00       NaT   \n",
       "\n",
       "   ICUSTAY_ID              INTIME             OUTTIME  MORTALITY_INHOSPITAL  \\\n",
       "0      215044 2149-12-18 20:06:02 2149-12-24 13:31:45                     0   \n",
       "1      269035 2155-02-03 20:17:29 2155-02-05 18:34:02                     0   \n",
       "2      263055 2155-02-07 18:51:16 2155-02-11 16:00:39                     0   \n",
       "3      282599 2156-05-01 18:10:12 2156-05-03 18:43:45                     0   \n",
       "4      263882 2156-05-10 17:47:35 2156-05-11 19:16:03                     0   \n",
       "\n",
       "   MORTALITY_INUNIT        AGE  \n",
       "0                 0  74.816438  \n",
       "1                 0  79.947945  \n",
       "2                 0  79.958904  \n",
       "3                 0  81.189041  \n",
       "4                 0  81.213699  "
      ]
     },
     "execution_count": 23,
     "metadata": {},
     "output_type": "execute_result"
    }
   ],
   "source": [
    "#Excluir admissions < 18 years old\n",
    "admissions_filtradas = admissions[~(admissions['AGE'] < 18)]\n",
    "print(admissions_filtradas.shape)\n",
    "print('unique SUBJECT_ID:', admissions_filtradas.SUBJECT_ID.nunique())\n",
    "print('unique HADM_ID   :', admissions_filtradas.HADM_ID.nunique())\n",
    "print('unique ICUSTAY_ID:', admissions_filtradas.ICUSTAY_ID.nunique())\n",
    "admissions_filtradas.head()"
   ]
  },
  {
   "cell_type": "code",
   "execution_count": 26,
   "metadata": {},
   "outputs": [
    {
     "data": {
      "text/html": [
       "<div>\n",
       "<style scoped>\n",
       "    .dataframe tbody tr th:only-of-type {\n",
       "        vertical-align: middle;\n",
       "    }\n",
       "\n",
       "    .dataframe tbody tr th {\n",
       "        vertical-align: top;\n",
       "    }\n",
       "\n",
       "    .dataframe thead th {\n",
       "        text-align: right;\n",
       "    }\n",
       "</style>\n",
       "<table border=\"1\" class=\"dataframe\">\n",
       "  <thead>\n",
       "    <tr style=\"text-align: right;\">\n",
       "      <th></th>\n",
       "      <th>SUBJECT_ID</th>\n",
       "      <th>DOD</th>\n",
       "      <th>HADM_ID</th>\n",
       "      <th>ADMITTIME</th>\n",
       "      <th>DISCHTIME</th>\n",
       "      <th>DEATHTIME</th>\n",
       "      <th>ICUSTAY_ID</th>\n",
       "      <th>INTIME</th>\n",
       "      <th>OUTTIME</th>\n",
       "      <th>MORTALITY_INHOSPITAL</th>\n",
       "      <th>MORTALITY_INUNIT</th>\n",
       "      <th>AGE</th>\n",
       "    </tr>\n",
       "  </thead>\n",
       "  <tbody>\n",
       "    <tr>\n",
       "      <td>34933</td>\n",
       "      <td>59618</td>\n",
       "      <td>2102-02-11</td>\n",
       "      <td>101145</td>\n",
       "      <td>2102-01-20 20:38:00</td>\n",
       "      <td>2102-01-25 15:00:00</td>\n",
       "      <td>NaT</td>\n",
       "      <td>226547</td>\n",
       "      <td>2102-01-20 20:39:57</td>\n",
       "      <td>2102-01-21 20:33:19</td>\n",
       "      <td>0</td>\n",
       "      <td>0</td>\n",
       "      <td>74.430137</td>\n",
       "    </tr>\n",
       "    <tr>\n",
       "      <td>34934</td>\n",
       "      <td>59618</td>\n",
       "      <td>2102-02-11</td>\n",
       "      <td>157029</td>\n",
       "      <td>2102-02-09 18:14:00</td>\n",
       "      <td>2102-02-11 01:00:00</td>\n",
       "      <td>2102-02-11 01:00:00</td>\n",
       "      <td>275273</td>\n",
       "      <td>2102-02-09 18:15:37</td>\n",
       "      <td>2102-02-11 01:42:05</td>\n",
       "      <td>1</td>\n",
       "      <td>1</td>\n",
       "      <td>74.484932</td>\n",
       "    </tr>\n",
       "  </tbody>\n",
       "</table>\n",
       "</div>"
      ],
      "text/plain": [
       "       SUBJECT_ID        DOD  HADM_ID           ADMITTIME           DISCHTIME  \\\n",
       "34933       59618 2102-02-11   101145 2102-01-20 20:38:00 2102-01-25 15:00:00   \n",
       "34934       59618 2102-02-11   157029 2102-02-09 18:14:00 2102-02-11 01:00:00   \n",
       "\n",
       "                DEATHTIME  ICUSTAY_ID              INTIME             OUTTIME  \\\n",
       "34933                 NaT      226547 2102-01-20 20:39:57 2102-01-21 20:33:19   \n",
       "34934 2102-02-11 01:00:00      275273 2102-02-09 18:15:37 2102-02-11 01:42:05   \n",
       "\n",
       "       MORTALITY_INHOSPITAL  MORTALITY_INUNIT        AGE  \n",
       "34933                     0                 0  74.430137  \n",
       "34934                     1                 1  74.484932  "
      ]
     },
     "execution_count": 26,
     "metadata": {},
     "output_type": "execute_result"
    }
   ],
   "source": [
    "admissions_filtradas.loc[admissions_filtradas['SUBJECT_ID'] == 59618]\n",
    "#Ejemplo de un SUBJECT_ID con dos ICUSTAY_ID pero son de HADM_ID distintas."
   ]
  },
  {
   "cell_type": "code",
   "execution_count": null,
   "metadata": {},
   "outputs": [],
   "source": []
  },
  {
   "cell_type": "markdown",
   "metadata": {
    "id": "FzPs38wEveMs"
   },
   "source": [
    "### Predecir  in-hospital-mortality  con oasis calculada en 24  horas  (considerando los oasis_variable nan como 0.0 (usar np.nansum), i.e. en rango 'normal') + dataset original, no balanceado + mismo cohorte que benchmark"
   ]
  },
  {
   "cell_type": "code",
   "execution_count": 27,
   "metadata": {},
   "outputs": [],
   "source": [
    "result_24_horas_final=pd.merge(result_24_horas_final, admissions_filtradas, on=['SUBJECT_ID','HADM_ID','ICUSTAY_ID'])"
   ]
  },
  {
   "cell_type": "code",
   "execution_count": 28,
   "metadata": {},
   "outputs": [
    {
     "name": "stdout",
     "output_type": "stream",
     "text": [
      "(53329, 13)\n",
      "unique SUBJECT_ID: 38510\n",
      "unique HADM_ID   : 49692\n",
      "unique ICUSTAY_ID   : 53329\n"
     ]
    },
    {
     "data": {
      "text/html": [
       "<div>\n",
       "<style scoped>\n",
       "    .dataframe tbody tr th:only-of-type {\n",
       "        vertical-align: middle;\n",
       "    }\n",
       "\n",
       "    .dataframe tbody tr th {\n",
       "        vertical-align: top;\n",
       "    }\n",
       "\n",
       "    .dataframe thead th {\n",
       "        text-align: right;\n",
       "    }\n",
       "</style>\n",
       "<table border=\"1\" class=\"dataframe\">\n",
       "  <thead>\n",
       "    <tr style=\"text-align: right;\">\n",
       "      <th></th>\n",
       "      <th>SUBJECT_ID</th>\n",
       "      <th>HADM_ID</th>\n",
       "      <th>ICUSTAY_ID</th>\n",
       "      <th>OASIS_NONAN</th>\n",
       "      <th>DOD</th>\n",
       "      <th>ADMITTIME</th>\n",
       "      <th>DISCHTIME</th>\n",
       "      <th>DEATHTIME</th>\n",
       "      <th>INTIME</th>\n",
       "      <th>OUTTIME</th>\n",
       "      <th>MORTALITY_INHOSPITAL</th>\n",
       "      <th>MORTALITY_INUNIT</th>\n",
       "      <th>AGE</th>\n",
       "    </tr>\n",
       "  </thead>\n",
       "  <tbody>\n",
       "    <tr>\n",
       "      <td>0</td>\n",
       "      <td>59618</td>\n",
       "      <td>101145</td>\n",
       "      <td>226547</td>\n",
       "      <td>33.0</td>\n",
       "      <td>2102-02-11</td>\n",
       "      <td>2102-01-20 20:38:00</td>\n",
       "      <td>2102-01-25 15:00:00</td>\n",
       "      <td>NaT</td>\n",
       "      <td>2102-01-20 20:39:57</td>\n",
       "      <td>2102-01-21 20:33:19</td>\n",
       "      <td>0</td>\n",
       "      <td>0</td>\n",
       "      <td>74.430137</td>\n",
       "    </tr>\n",
       "    <tr>\n",
       "      <td>1</td>\n",
       "      <td>69108</td>\n",
       "      <td>158993</td>\n",
       "      <td>297532</td>\n",
       "      <td>29.0</td>\n",
       "      <td>NaT</td>\n",
       "      <td>2132-01-15 23:26:00</td>\n",
       "      <td>2132-01-23 18:40:00</td>\n",
       "      <td>NaT</td>\n",
       "      <td>2132-01-16 06:22:40</td>\n",
       "      <td>2132-01-17 16:25:18</td>\n",
       "      <td>0</td>\n",
       "      <td>0</td>\n",
       "      <td>79.257534</td>\n",
       "    </tr>\n",
       "    <tr>\n",
       "      <td>2</td>\n",
       "      <td>14008</td>\n",
       "      <td>173497</td>\n",
       "      <td>217593</td>\n",
       "      <td>20.0</td>\n",
       "      <td>2137-04-28</td>\n",
       "      <td>2136-01-31 07:30:00</td>\n",
       "      <td>2136-02-05 12:10:00</td>\n",
       "      <td>NaT</td>\n",
       "      <td>2136-01-31 18:37:56</td>\n",
       "      <td>2136-02-01 18:10:13</td>\n",
       "      <td>0</td>\n",
       "      <td>0</td>\n",
       "      <td>76.789041</td>\n",
       "    </tr>\n",
       "    <tr>\n",
       "      <td>3</td>\n",
       "      <td>2187</td>\n",
       "      <td>128059</td>\n",
       "      <td>212355</td>\n",
       "      <td>0.0</td>\n",
       "      <td>2135-03-15</td>\n",
       "      <td>2134-04-21 02:22:00</td>\n",
       "      <td>2134-04-26 17:30:00</td>\n",
       "      <td>NaT</td>\n",
       "      <td>2134-04-21 02:24:10</td>\n",
       "      <td>2134-04-26 17:37:04</td>\n",
       "      <td>0</td>\n",
       "      <td>0</td>\n",
       "      <td>46.487671</td>\n",
       "    </tr>\n",
       "    <tr>\n",
       "      <td>4</td>\n",
       "      <td>41040</td>\n",
       "      <td>118624</td>\n",
       "      <td>224627</td>\n",
       "      <td>41.0</td>\n",
       "      <td>2135-09-03</td>\n",
       "      <td>2135-05-07 11:39:00</td>\n",
       "      <td>2135-05-17 13:50:00</td>\n",
       "      <td>NaT</td>\n",
       "      <td>2135-05-07 11:40:19</td>\n",
       "      <td>2135-05-12 17:41:46</td>\n",
       "      <td>0</td>\n",
       "      <td>0</td>\n",
       "      <td>80.178082</td>\n",
       "    </tr>\n",
       "  </tbody>\n",
       "</table>\n",
       "</div>"
      ],
      "text/plain": [
       "   SUBJECT_ID  HADM_ID  ICUSTAY_ID  OASIS_NONAN        DOD  \\\n",
       "0       59618   101145      226547         33.0 2102-02-11   \n",
       "1       69108   158993      297532         29.0        NaT   \n",
       "2       14008   173497      217593         20.0 2137-04-28   \n",
       "3        2187   128059      212355          0.0 2135-03-15   \n",
       "4       41040   118624      224627         41.0 2135-09-03   \n",
       "\n",
       "            ADMITTIME           DISCHTIME DEATHTIME              INTIME  \\\n",
       "0 2102-01-20 20:38:00 2102-01-25 15:00:00       NaT 2102-01-20 20:39:57   \n",
       "1 2132-01-15 23:26:00 2132-01-23 18:40:00       NaT 2132-01-16 06:22:40   \n",
       "2 2136-01-31 07:30:00 2136-02-05 12:10:00       NaT 2136-01-31 18:37:56   \n",
       "3 2134-04-21 02:22:00 2134-04-26 17:30:00       NaT 2134-04-21 02:24:10   \n",
       "4 2135-05-07 11:39:00 2135-05-17 13:50:00       NaT 2135-05-07 11:40:19   \n",
       "\n",
       "              OUTTIME  MORTALITY_INHOSPITAL  MORTALITY_INUNIT        AGE  \n",
       "0 2102-01-21 20:33:19                     0                 0  74.430137  \n",
       "1 2132-01-17 16:25:18                     0                 0  79.257534  \n",
       "2 2136-02-01 18:10:13                     0                 0  76.789041  \n",
       "3 2134-04-26 17:37:04                     0                 0  46.487671  \n",
       "4 2135-05-12 17:41:46                     0                 0  80.178082  "
      ]
     },
     "execution_count": 28,
     "metadata": {},
     "output_type": "execute_result"
    }
   ],
   "source": [
    "print(result_24_horas_final.shape)\n",
    "print('unique SUBJECT_ID:', result_24_horas_final.SUBJECT_ID.nunique())\n",
    "print('unique HADM_ID   :', result_24_horas_final.HADM_ID.nunique())\n",
    "print('unique ICUSTAY_ID   :', result_24_horas_final.ICUSTAY_ID.nunique())\n",
    "result_24_horas_final.head()"
   ]
  },
  {
   "cell_type": "code",
   "execution_count": 29,
   "metadata": {},
   "outputs": [
    {
     "data": {
      "text/html": [
       "<div>\n",
       "<style scoped>\n",
       "    .dataframe tbody tr th:only-of-type {\n",
       "        vertical-align: middle;\n",
       "    }\n",
       "\n",
       "    .dataframe tbody tr th {\n",
       "        vertical-align: top;\n",
       "    }\n",
       "\n",
       "    .dataframe thead th {\n",
       "        text-align: right;\n",
       "    }\n",
       "</style>\n",
       "<table border=\"1\" class=\"dataframe\">\n",
       "  <thead>\n",
       "    <tr style=\"text-align: right;\">\n",
       "      <th></th>\n",
       "      <th>MORTALITY_INHOSPITAL</th>\n",
       "      <th>OASIS_NONAN</th>\n",
       "      <th>ICUSTAY_ID</th>\n",
       "    </tr>\n",
       "  </thead>\n",
       "  <tbody>\n",
       "    <tr>\n",
       "      <td>0</td>\n",
       "      <td>0</td>\n",
       "      <td>33.0</td>\n",
       "      <td>226547</td>\n",
       "    </tr>\n",
       "    <tr>\n",
       "      <td>1</td>\n",
       "      <td>0</td>\n",
       "      <td>29.0</td>\n",
       "      <td>297532</td>\n",
       "    </tr>\n",
       "    <tr>\n",
       "      <td>2</td>\n",
       "      <td>0</td>\n",
       "      <td>20.0</td>\n",
       "      <td>217593</td>\n",
       "    </tr>\n",
       "    <tr>\n",
       "      <td>3</td>\n",
       "      <td>0</td>\n",
       "      <td>0.0</td>\n",
       "      <td>212355</td>\n",
       "    </tr>\n",
       "    <tr>\n",
       "      <td>4</td>\n",
       "      <td>0</td>\n",
       "      <td>41.0</td>\n",
       "      <td>224627</td>\n",
       "    </tr>\n",
       "  </tbody>\n",
       "</table>\n",
       "</div>"
      ],
      "text/plain": [
       "   MORTALITY_INHOSPITAL  OASIS_NONAN  ICUSTAY_ID\n",
       "0                     0         33.0      226547\n",
       "1                     0         29.0      297532\n",
       "2                     0         20.0      217593\n",
       "3                     0          0.0      212355\n",
       "4                     0         41.0      224627"
      ]
     },
     "execution_count": 29,
     "metadata": {},
     "output_type": "execute_result"
    }
   ],
   "source": [
    "result_24_horas_nonnan=result_24_horas_final[['MORTALITY_INHOSPITAL','OASIS_NONAN','ICUSTAY_ID']]\n",
    "result_24_horas_nonnan.head()"
   ]
  },
  {
   "cell_type": "code",
   "execution_count": 30,
   "metadata": {},
   "outputs": [
    {
     "data": {
      "text/plain": [
       "0    46814\n",
       "1     6515\n",
       "Name: MORTALITY_INHOSPITAL, dtype: int64"
      ]
     },
     "execution_count": 30,
     "metadata": {},
     "output_type": "execute_result"
    }
   ],
   "source": [
    "result_24_horas_nonnan['MORTALITY_INHOSPITAL'].value_counts()"
   ]
  },
  {
   "cell_type": "code",
   "execution_count": 31,
   "metadata": {},
   "outputs": [
    {
     "data": {
      "text/plain": [
       "(53329, 3)"
      ]
     },
     "execution_count": 31,
     "metadata": {},
     "output_type": "execute_result"
    }
   ],
   "source": [
    "result_24_horas_nonnan=result_24_horas_nonnan.dropna()\n",
    "result_24_horas_nonnan.shape"
   ]
  },
  {
   "cell_type": "code",
   "execution_count": null,
   "metadata": {},
   "outputs": [],
   "source": []
  },
  {
   "cell_type": "markdown",
   "metadata": {},
   "source": [
    "Normalmente basta con train_test_split para tener conjunto de entrenamiento (Train set) y conjunto de prueba (Test set). Pero como queremos comparar con otros modelos, recomienda mantener un mismo Test set. Por lo tanto, usamos ficheros llamados 'listfilexx' para poder rastrear el Test/Train set. (obs. estas listfiles se obtienen ejecutando create_in_hospital_mortality_icustayidListFile.py)"
   ]
  },
  {
   "cell_type": "code",
   "execution_count": null,
   "metadata": {},
   "outputs": [],
   "source": [
    "#from sklearn.model_selection import train_test_split\n",
    "#from sklearn import preprocessing\n",
    "#X_train, X_test, y_train, y_test = train_test_split(X, y, test_size=0.15, random_state=42)"
   ]
  },
  {
   "cell_type": "code",
   "execution_count": 32,
   "metadata": {},
   "outputs": [
    {
     "name": "stdout",
     "output_type": "stream",
     "text": [
      "(3236, 3)\n"
     ]
    },
    {
     "data": {
      "text/html": [
       "<div>\n",
       "<style scoped>\n",
       "    .dataframe tbody tr th:only-of-type {\n",
       "        vertical-align: middle;\n",
       "    }\n",
       "\n",
       "    .dataframe tbody tr th {\n",
       "        vertical-align: top;\n",
       "    }\n",
       "\n",
       "    .dataframe thead th {\n",
       "        text-align: right;\n",
       "    }\n",
       "</style>\n",
       "<table border=\"1\" class=\"dataframe\">\n",
       "  <thead>\n",
       "    <tr style=\"text-align: right;\">\n",
       "      <th></th>\n",
       "      <th>stay</th>\n",
       "      <th>y_true</th>\n",
       "      <th>ICUSTAY_ID</th>\n",
       "    </tr>\n",
       "  </thead>\n",
       "  <tbody>\n",
       "    <tr>\n",
       "      <td>0</td>\n",
       "      <td>10011_episode1_timeseries.csv</td>\n",
       "      <td>1</td>\n",
       "      <td>232110</td>\n",
       "    </tr>\n",
       "    <tr>\n",
       "      <td>1</td>\n",
       "      <td>10026_episode1_timeseries.csv</td>\n",
       "      <td>0</td>\n",
       "      <td>277021</td>\n",
       "    </tr>\n",
       "    <tr>\n",
       "      <td>2</td>\n",
       "      <td>10030_episode1_timeseries.csv</td>\n",
       "      <td>0</td>\n",
       "      <td>262782</td>\n",
       "    </tr>\n",
       "    <tr>\n",
       "      <td>3</td>\n",
       "      <td>10042_episode1_timeseries.csv</td>\n",
       "      <td>0</td>\n",
       "      <td>258147</td>\n",
       "    </tr>\n",
       "    <tr>\n",
       "      <td>4</td>\n",
       "      <td>10094_episode1_timeseries.csv</td>\n",
       "      <td>0</td>\n",
       "      <td>243600</td>\n",
       "    </tr>\n",
       "  </tbody>\n",
       "</table>\n",
       "</div>"
      ],
      "text/plain": [
       "                            stay  y_true  ICUSTAY_ID\n",
       "0  10011_episode1_timeseries.csv       1      232110\n",
       "1  10026_episode1_timeseries.csv       0      277021\n",
       "2  10030_episode1_timeseries.csv       0      262782\n",
       "3  10042_episode1_timeseries.csv       0      258147\n",
       "4  10094_episode1_timeseries.csv       0      243600"
      ]
     },
     "execution_count": 32,
     "metadata": {},
     "output_type": "execute_result"
    }
   ],
   "source": [
    "cohorte_test_benchmark = pd.read_csv('/home/usuario/TFG/code/final_versiones_OASIS_mismoCohorteBenchmark/mortality/test/listfileMortality.csv')\n",
    "cohorte_test_benchmark.rename(columns={'icustayid': 'ICUSTAY_ID'}, inplace=True)\n",
    "print(cohorte_test_benchmark.shape)\n",
    "cohorte_test_benchmark.head()"
   ]
  },
  {
   "cell_type": "code",
   "execution_count": 33,
   "metadata": {},
   "outputs": [
    {
     "name": "stdout",
     "output_type": "stream",
     "text": [
      "(3236, 5)\n"
     ]
    },
    {
     "data": {
      "text/html": [
       "<div>\n",
       "<style scoped>\n",
       "    .dataframe tbody tr th:only-of-type {\n",
       "        vertical-align: middle;\n",
       "    }\n",
       "\n",
       "    .dataframe tbody tr th {\n",
       "        vertical-align: top;\n",
       "    }\n",
       "\n",
       "    .dataframe thead th {\n",
       "        text-align: right;\n",
       "    }\n",
       "</style>\n",
       "<table border=\"1\" class=\"dataframe\">\n",
       "  <thead>\n",
       "    <tr style=\"text-align: right;\">\n",
       "      <th></th>\n",
       "      <th>stay</th>\n",
       "      <th>y_true</th>\n",
       "      <th>ICUSTAY_ID</th>\n",
       "      <th>MORTALITY_INHOSPITAL</th>\n",
       "      <th>OASIS_NONAN</th>\n",
       "    </tr>\n",
       "  </thead>\n",
       "  <tbody>\n",
       "    <tr>\n",
       "      <td>0</td>\n",
       "      <td>10011_episode1_timeseries.csv</td>\n",
       "      <td>1</td>\n",
       "      <td>232110</td>\n",
       "      <td>1</td>\n",
       "      <td>27.0</td>\n",
       "    </tr>\n",
       "    <tr>\n",
       "      <td>1</td>\n",
       "      <td>10026_episode1_timeseries.csv</td>\n",
       "      <td>0</td>\n",
       "      <td>277021</td>\n",
       "      <td>0</td>\n",
       "      <td>34.0</td>\n",
       "    </tr>\n",
       "    <tr>\n",
       "      <td>2</td>\n",
       "      <td>10030_episode1_timeseries.csv</td>\n",
       "      <td>0</td>\n",
       "      <td>262782</td>\n",
       "      <td>0</td>\n",
       "      <td>31.0</td>\n",
       "    </tr>\n",
       "    <tr>\n",
       "      <td>3</td>\n",
       "      <td>10042_episode1_timeseries.csv</td>\n",
       "      <td>0</td>\n",
       "      <td>258147</td>\n",
       "      <td>0</td>\n",
       "      <td>33.0</td>\n",
       "    </tr>\n",
       "    <tr>\n",
       "      <td>4</td>\n",
       "      <td>10094_episode1_timeseries.csv</td>\n",
       "      <td>0</td>\n",
       "      <td>243600</td>\n",
       "      <td>0</td>\n",
       "      <td>41.0</td>\n",
       "    </tr>\n",
       "  </tbody>\n",
       "</table>\n",
       "</div>"
      ],
      "text/plain": [
       "                            stay  y_true  ICUSTAY_ID  MORTALITY_INHOSPITAL  \\\n",
       "0  10011_episode1_timeseries.csv       1      232110                     1   \n",
       "1  10026_episode1_timeseries.csv       0      277021                     0   \n",
       "2  10030_episode1_timeseries.csv       0      262782                     0   \n",
       "3  10042_episode1_timeseries.csv       0      258147                     0   \n",
       "4  10094_episode1_timeseries.csv       0      243600                     0   \n",
       "\n",
       "   OASIS_NONAN  \n",
       "0         27.0  \n",
       "1         34.0  \n",
       "2         31.0  \n",
       "3         33.0  \n",
       "4         41.0  "
      ]
     },
     "execution_count": 33,
     "metadata": {},
     "output_type": "execute_result"
    }
   ],
   "source": [
    "test_set=pd.merge(cohorte_test_benchmark, result_24_horas_nonnan, how='left', on=['ICUSTAY_ID'])\n",
    "print(test_set.shape)\n",
    "test_set.head()"
   ]
  },
  {
   "cell_type": "code",
   "execution_count": 34,
   "metadata": {},
   "outputs": [
    {
     "data": {
      "text/plain": [
       "stay                    0\n",
       "y_true                  0\n",
       "ICUSTAY_ID              0\n",
       "MORTALITY_INHOSPITAL    0\n",
       "OASIS_NONAN             0\n",
       "dtype: int64"
      ]
     },
     "execution_count": 34,
     "metadata": {},
     "output_type": "execute_result"
    }
   ],
   "source": [
    "test_set.isnull().sum()"
   ]
  },
  {
   "cell_type": "code",
   "execution_count": 35,
   "metadata": {},
   "outputs": [
    {
     "data": {
      "text/plain": [
       "(3236, 5)"
      ]
     },
     "execution_count": 35,
     "metadata": {},
     "output_type": "execute_result"
    }
   ],
   "source": [
    "test_set[test_set['y_true'] == test_set['MORTALITY_INHOSPITAL']].shape"
   ]
  },
  {
   "cell_type": "code",
   "execution_count": 36,
   "metadata": {},
   "outputs": [],
   "source": [
    "#Solo hace falta ejecutar esta linea una vez, que genera listfile para modelos con times_series\n",
    "test_set['ICUSTAY_ID'].to_csv('/home/usuario/TFG/code/final_versiones_OASIS_mismoCohorteBenchmark/mortality/test/listfile.csv', index=False,header='ICUSTAY_ID')"
   ]
  },
  {
   "cell_type": "code",
   "execution_count": 37,
   "metadata": {},
   "outputs": [],
   "source": [
    "X_test=pd.DataFrame(test_set['OASIS_NONAN'])\n",
    "y_test=pd.DataFrame(test_set['MORTALITY_INHOSPITAL'])"
   ]
  },
  {
   "cell_type": "code",
   "execution_count": 38,
   "metadata": {},
   "outputs": [
    {
     "name": "stdout",
     "output_type": "stream",
     "text": [
      "(17903, 3)\n"
     ]
    },
    {
     "data": {
      "text/html": [
       "<div>\n",
       "<style scoped>\n",
       "    .dataframe tbody tr th:only-of-type {\n",
       "        vertical-align: middle;\n",
       "    }\n",
       "\n",
       "    .dataframe tbody tr th {\n",
       "        vertical-align: top;\n",
       "    }\n",
       "\n",
       "    .dataframe thead th {\n",
       "        text-align: right;\n",
       "    }\n",
       "</style>\n",
       "<table border=\"1\" class=\"dataframe\">\n",
       "  <thead>\n",
       "    <tr style=\"text-align: right;\">\n",
       "      <th></th>\n",
       "      <th>stay</th>\n",
       "      <th>y_true</th>\n",
       "      <th>ICUSTAY_ID</th>\n",
       "    </tr>\n",
       "  </thead>\n",
       "  <tbody>\n",
       "    <tr>\n",
       "      <td>0</td>\n",
       "      <td>84984_episode1_timeseries.csv</td>\n",
       "      <td>1</td>\n",
       "      <td>219326</td>\n",
       "    </tr>\n",
       "    <tr>\n",
       "      <td>1</td>\n",
       "      <td>57299_episode1_timeseries.csv</td>\n",
       "      <td>0</td>\n",
       "      <td>273321</td>\n",
       "    </tr>\n",
       "    <tr>\n",
       "      <td>2</td>\n",
       "      <td>72032_episode1_timeseries.csv</td>\n",
       "      <td>0</td>\n",
       "      <td>221917</td>\n",
       "    </tr>\n",
       "    <tr>\n",
       "      <td>3</td>\n",
       "      <td>22175_episode1_timeseries.csv</td>\n",
       "      <td>0</td>\n",
       "      <td>269490</td>\n",
       "    </tr>\n",
       "    <tr>\n",
       "      <td>4</td>\n",
       "      <td>13033_episode14_timeseries.csv</td>\n",
       "      <td>0</td>\n",
       "      <td>225465</td>\n",
       "    </tr>\n",
       "  </tbody>\n",
       "</table>\n",
       "</div>"
      ],
      "text/plain": [
       "                             stay  y_true  ICUSTAY_ID\n",
       "0   84984_episode1_timeseries.csv       1      219326\n",
       "1   57299_episode1_timeseries.csv       0      273321\n",
       "2   72032_episode1_timeseries.csv       0      221917\n",
       "3   22175_episode1_timeseries.csv       0      269490\n",
       "4  13033_episode14_timeseries.csv       0      225465"
      ]
     },
     "execution_count": 38,
     "metadata": {},
     "output_type": "execute_result"
    }
   ],
   "source": [
    "cohorte_train_benchmark = pd.read_csv('/home/usuario/TFG/code/final_versiones_OASIS_mismoCohorteBenchmark/mortality/train/listfileMortality.csv')\n",
    "cohorte_train_benchmark.rename(columns={'icustayid': 'ICUSTAY_ID'}, inplace=True)\n",
    "print(cohorte_train_benchmark.shape)\n",
    "cohorte_train_benchmark.head()"
   ]
  },
  {
   "cell_type": "code",
   "execution_count": 39,
   "metadata": {},
   "outputs": [
    {
     "name": "stdout",
     "output_type": "stream",
     "text": [
      "(17903, 5)\n"
     ]
    },
    {
     "data": {
      "text/html": [
       "<div>\n",
       "<style scoped>\n",
       "    .dataframe tbody tr th:only-of-type {\n",
       "        vertical-align: middle;\n",
       "    }\n",
       "\n",
       "    .dataframe tbody tr th {\n",
       "        vertical-align: top;\n",
       "    }\n",
       "\n",
       "    .dataframe thead th {\n",
       "        text-align: right;\n",
       "    }\n",
       "</style>\n",
       "<table border=\"1\" class=\"dataframe\">\n",
       "  <thead>\n",
       "    <tr style=\"text-align: right;\">\n",
       "      <th></th>\n",
       "      <th>stay</th>\n",
       "      <th>y_true</th>\n",
       "      <th>ICUSTAY_ID</th>\n",
       "      <th>MORTALITY_INHOSPITAL</th>\n",
       "      <th>OASIS_NONAN</th>\n",
       "    </tr>\n",
       "  </thead>\n",
       "  <tbody>\n",
       "    <tr>\n",
       "      <td>0</td>\n",
       "      <td>84984_episode1_timeseries.csv</td>\n",
       "      <td>1</td>\n",
       "      <td>219326</td>\n",
       "      <td>1</td>\n",
       "      <td>40.0</td>\n",
       "    </tr>\n",
       "    <tr>\n",
       "      <td>1</td>\n",
       "      <td>57299_episode1_timeseries.csv</td>\n",
       "      <td>0</td>\n",
       "      <td>273321</td>\n",
       "      <td>0</td>\n",
       "      <td>26.0</td>\n",
       "    </tr>\n",
       "    <tr>\n",
       "      <td>2</td>\n",
       "      <td>72032_episode1_timeseries.csv</td>\n",
       "      <td>0</td>\n",
       "      <td>221917</td>\n",
       "      <td>0</td>\n",
       "      <td>31.0</td>\n",
       "    </tr>\n",
       "    <tr>\n",
       "      <td>3</td>\n",
       "      <td>22175_episode1_timeseries.csv</td>\n",
       "      <td>0</td>\n",
       "      <td>269490</td>\n",
       "      <td>0</td>\n",
       "      <td>33.0</td>\n",
       "    </tr>\n",
       "    <tr>\n",
       "      <td>4</td>\n",
       "      <td>13033_episode14_timeseries.csv</td>\n",
       "      <td>0</td>\n",
       "      <td>225465</td>\n",
       "      <td>0</td>\n",
       "      <td>27.0</td>\n",
       "    </tr>\n",
       "  </tbody>\n",
       "</table>\n",
       "</div>"
      ],
      "text/plain": [
       "                             stay  y_true  ICUSTAY_ID  MORTALITY_INHOSPITAL  \\\n",
       "0   84984_episode1_timeseries.csv       1      219326                     1   \n",
       "1   57299_episode1_timeseries.csv       0      273321                     0   \n",
       "2   72032_episode1_timeseries.csv       0      221917                     0   \n",
       "3   22175_episode1_timeseries.csv       0      269490                     0   \n",
       "4  13033_episode14_timeseries.csv       0      225465                     0   \n",
       "\n",
       "   OASIS_NONAN  \n",
       "0         40.0  \n",
       "1         26.0  \n",
       "2         31.0  \n",
       "3         33.0  \n",
       "4         27.0  "
      ]
     },
     "execution_count": 39,
     "metadata": {},
     "output_type": "execute_result"
    }
   ],
   "source": [
    "train_set=pd.merge(cohorte_train_benchmark, result_24_horas_nonnan, how='left', on=['ICUSTAY_ID'])\n",
    "print(train_set.shape)\n",
    "train_set.head()"
   ]
  },
  {
   "cell_type": "code",
   "execution_count": 40,
   "metadata": {},
   "outputs": [
    {
     "data": {
      "text/plain": [
       "stay                    0\n",
       "y_true                  0\n",
       "ICUSTAY_ID              0\n",
       "MORTALITY_INHOSPITAL    0\n",
       "OASIS_NONAN             0\n",
       "dtype: int64"
      ]
     },
     "execution_count": 40,
     "metadata": {},
     "output_type": "execute_result"
    }
   ],
   "source": [
    "train_set.isnull().sum()"
   ]
  },
  {
   "cell_type": "code",
   "execution_count": 41,
   "metadata": {},
   "outputs": [
    {
     "data": {
      "text/plain": [
       "(17903, 5)"
      ]
     },
     "execution_count": 41,
     "metadata": {},
     "output_type": "execute_result"
    }
   ],
   "source": [
    "train_set[train_set['y_true'] == train_set['MORTALITY_INHOSPITAL']].shape"
   ]
  },
  {
   "cell_type": "code",
   "execution_count": 42,
   "metadata": {},
   "outputs": [],
   "source": [
    "#Solo hace falta ejecutar esta linea una vez, que genera listfile para modelos con times_series\n",
    "train_set['ICUSTAY_ID'].to_csv('/home/usuario/TFG/code/final_versiones_OASIS_mismoCohorteBenchmark/mortality/train/listfile.csv', index=False,header='ICUSTAY_ID')"
   ]
  },
  {
   "cell_type": "code",
   "execution_count": null,
   "metadata": {},
   "outputs": [],
   "source": []
  },
  {
   "cell_type": "code",
   "execution_count": 43,
   "metadata": {},
   "outputs": [],
   "source": [
    "X_train=pd.DataFrame(train_set['OASIS_NONAN'])\n",
    "y_train=pd.DataFrame(train_set['MORTALITY_INHOSPITAL'])"
   ]
  },
  {
   "cell_type": "code",
   "execution_count": 44,
   "metadata": {},
   "outputs": [],
   "source": [
    "X = (pd.concat([X_train, X_test])).to_numpy() #para Cross Validation, usar el dataset completo\n",
    "y = (pd.concat([y_train, y_test])).to_numpy()"
   ]
  },
  {
   "cell_type": "code",
   "execution_count": null,
   "metadata": {},
   "outputs": [],
   "source": []
  },
  {
   "cell_type": "code",
   "execution_count": 46,
   "metadata": {},
   "outputs": [],
   "source": [
    "from sklearn.preprocessing import StandardScaler\n",
    "scaler = StandardScaler()\n",
    "X_train = scaler.fit_transform(X_train)\n",
    "X_test = scaler.transform(X_test)"
   ]
  },
  {
   "cell_type": "code",
   "execution_count": 47,
   "metadata": {},
   "outputs": [
    {
     "data": {
      "text/plain": [
       "array([[ 0.59792936],\n",
       "       [-0.79294034],\n",
       "       [-0.29620116],\n",
       "       ...,\n",
       "       [ 0.29988585],\n",
       "       [-1.28967952],\n",
       "       [-0.395549  ]])"
      ]
     },
     "execution_count": 47,
     "metadata": {},
     "output_type": "execute_result"
    }
   ],
   "source": [
    "X_train"
   ]
  },
  {
   "cell_type": "code",
   "execution_count": 48,
   "metadata": {},
   "outputs": [
    {
     "data": {
      "text/plain": [
       "array([[-0.6935925 ],\n",
       "       [ 0.00184234],\n",
       "       [-0.29620116],\n",
       "       ...,\n",
       "       [ 0.20053801],\n",
       "       [ 0.69727719],\n",
       "       [ 1.59140771]])"
      ]
     },
     "execution_count": 48,
     "metadata": {},
     "output_type": "execute_result"
    }
   ],
   "source": [
    "X_test"
   ]
  },
  {
   "cell_type": "code",
   "execution_count": null,
   "metadata": {},
   "outputs": [],
   "source": []
  },
  {
   "cell_type": "markdown",
   "metadata": {},
   "source": [
    "Random Forest same class weight"
   ]
  },
  {
   "cell_type": "code",
   "execution_count": 49,
   "metadata": {},
   "outputs": [
    {
     "name": "stdout",
     "output_type": "stream",
     "text": [
      "Accuracy test: 88.5661\n",
      "Accuracy train: 86.5721\n"
     ]
    }
   ],
   "source": [
    "clf=RandomForestClassifier(n_estimators=10, random_state = 42)\n",
    "clf.fit(X_train,np.ravel(y_train))\n",
    "y_pred=clf.predict(X_test)\n",
    "test_ac=np.round(metrics.accuracy_score(y_test, y_pred)*100,4)\n",
    "train_ac=np.round(clf.score(X_train, y_train)*100,4)\n",
    "print(\"Accuracy test:\",test_ac)\n",
    "print(\"Accuracy train:\",train_ac)"
   ]
  },
  {
   "cell_type": "code",
   "execution_count": 50,
   "metadata": {},
   "outputs": [
    {
     "data": {
      "text/plain": [
       "array([[0.92266708, 0.07733292],\n",
       "       [0.88182301, 0.11817699],\n",
       "       [0.90561406, 0.09438594],\n",
       "       ...,\n",
       "       [0.82981561, 0.17018439],\n",
       "       [0.80049311, 0.19950689],\n",
       "       [0.65488749, 0.34511251]])"
      ]
     },
     "execution_count": 50,
     "metadata": {},
     "output_type": "execute_result"
    }
   ],
   "source": [
    "y_pred_probas=clf.predict_proba(X_test)\n",
    "y_pred_probas #probability of being [class 0, class 1]"
   ]
  },
  {
   "cell_type": "code",
   "execution_count": 51,
   "metadata": {},
   "outputs": [
    {
     "data": {
      "text/plain": [
       "array([0.07733292, 0.11817699, 0.09438594, ..., 0.17018439, 0.19950689,\n",
       "       0.34511251])"
      ]
     },
     "execution_count": 51,
     "metadata": {},
     "output_type": "execute_result"
    }
   ],
   "source": [
    "y_pred_probas[:, 1] #probability of being class 1(dead)\n",
    "#Nota: usamos probabilities para calculo de auc_roc. Porque en el benchmark usa probabilities y además\n",
    "#el resultado de auc_roc varia si usa probilidad o valores enteros de 0/1."
   ]
  },
  {
   "cell_type": "code",
   "execution_count": 52,
   "metadata": {},
   "outputs": [
    {
     "name": "stdout",
     "output_type": "stream",
     "text": [
      "AUC-ROC:  0.7021589367593807\n",
      "AUC-PR:  0.24248094887290467\n"
     ]
    }
   ],
   "source": [
    "auroc = metrics.roc_auc_score(y_test, y_pred_probas[:, 1])\n",
    "print(\"AUC-ROC: \", auroc)\n",
    "(precisions, recalls, thresholds) = metrics.precision_recall_curve(y_test, y_pred_probas[:, 1])\n",
    "auprc = metrics.auc(recalls, precisions)\n",
    "print(\"AUC-PR: \", auprc)\n"
   ]
  },
  {
   "cell_type": "code",
   "execution_count": 53,
   "metadata": {},
   "outputs": [
    {
     "name": "stdout",
     "output_type": "stream",
     "text": [
      "[[2859    3]\n",
      " [ 367    7]]\n"
     ]
    }
   ],
   "source": [
    "confusionMatrix = confusion_matrix(y_test, y_pred)\n",
    "print(confusionMatrix)\n"
   ]
  },
  {
   "cell_type": "code",
   "execution_count": 54,
   "metadata": {},
   "outputs": [],
   "source": [
    "cm = metrics.confusion_matrix(y_test, y_pred)\n",
    "score = np.round(clf.score(X_test, y_test)*100,4)"
   ]
  },
  {
   "cell_type": "code",
   "execution_count": 55,
   "metadata": {},
   "outputs": [
    {
     "data": {
      "image/png": "[encoded data removed]",
      "text/plain": [
       "<Figure size 432x432 with 2 Axes>"
      ]
     },
     "metadata": {
      "needs_background": "light"
     },
     "output_type": "display_data"
    }
   ],
   "source": [
    "plt.figure(figsize=(6,6))\n",
    "sns.heatmap(cm, annot=True, fmt=\".3f\", linewidths=.5, square = True, cmap = 'Blues_r');\n",
    "plt.ylabel('Actual label');\n",
    "plt.xlabel('Predicted label');\n",
    "all_sample_title = 'Accuracy Score: {0}'.format(score)\n",
    "plt.title(all_sample_title, size = 15)\n",
    "plt.show()"
   ]
  },
  {
   "cell_type": "code",
   "execution_count": 56,
   "metadata": {
    "scrolled": true
   },
   "outputs": [
    {
     "data": {
      "image/png": "[encoded data removed]",
      "text/plain": [
       "<Figure size 432x432 with 2 Axes>"
      ]
     },
     "metadata": {
      "needs_background": "light"
     },
     "output_type": "display_data"
    }
   ],
   "source": [
    "cm = cm.astype('float') / cm.sum(axis=1)[:, np.newaxis]\n",
    "plt.figure(figsize=(6,6))\n",
    "sns.heatmap(cm, annot=True, fmt=\".3f\", linewidths=.5, square = True, cmap = 'Blues_r');\n",
    "plt.ylabel('Actual label');\n",
    "plt.xlabel('Predicted label');\n",
    "all_sample_title = 'Accuracy Score: {0}'.format(score)\n",
    "plt.title(all_sample_title, size = 15)\n",
    "plt.show()"
   ]
  },
  {
   "cell_type": "code",
   "execution_count": 57,
   "metadata": {},
   "outputs": [],
   "source": [
    "#Manera 1: To plot curves: #TODO: revisar\n",
    "scaler = StandardScaler()\n",
    "RF_clf=RandomForestClassifier(n_estimators=10, random_state = 42)\n",
    "cv_RF = make_pipeline(scaler, RF_clf)\n",
    "# Create k-Fold cross-validation\n",
    "kf = KFold(n_splits=5, shuffle=True, random_state=42)\n",
    "cv_RF_predicted = cross_val_predict(cv_RF, X,np.ravel(y),cv=kf, method='predict_proba')\n",
    "cv_RF_predicted1 = cross_val_predict(cv_RF, X,np.ravel(y), cv=kf)\n",
    "acc_RF=np.round(metrics.accuracy_score(np.ravel(y), cv_RF_predicted1)*100,4) #para accuracy_score debe ser ambos binary o ambos continues values"
   ]
  },
  {
   "cell_type": "code",
   "execution_count": 58,
   "metadata": {},
   "outputs": [],
   "source": [
    "#manera 2\n",
    "#https://amirhessam88.github.io/roc-vs-pr/\n",
    "\n",
    "def customCrossValidationMetrics(classifier, X, y):\n",
    "    scaler = StandardScaler()\n",
    "    cv = KFold(n_splits=5, shuffle=True, random_state=42)\n",
    "    #ejemplo classifier=RandomForestClassifier(n_estimators=10, random_state = 42)\n",
    "    aucprs = []\n",
    "    aucrocs = []\n",
    "    accuracies = []\n",
    "\n",
    "    for train, test in cv.split(X, y): #train and test are indexes\n",
    "        X_train_tranformed = scaler.fit_transform(X[train])\n",
    "        X_test_tranformed = scaler.transform(X[test])\n",
    "        probas_ = classifier.fit(X_train_tranformed, np.ravel(y[train])).predict_proba(X_test_tranformed)\n",
    "        # Compute PR curve and area the curve\n",
    "        precision, recall, thresholds = metrics.precision_recall_curve(y[test], probas_[:, 1])\n",
    "        pr_auc =  np.round(metrics.auc(recall, precision), 6)\n",
    "        aucprs.append(pr_auc)\n",
    "        auroc =  np.round(metrics.roc_auc_score(y[test],probas_[:, 1]),6)\n",
    "        aucrocs.append(auroc)\n",
    "\n",
    "        y_pred_binary=classifier.predict(X_test_tranformed)\n",
    "        acc = np.round(metrics.accuracy_score(y[test],y_pred_binary)*100,4)\n",
    "        accuracies.append(acc)\n",
    "\n",
    "    print ('aucpr scores:', aucprs)\n",
    "    print(\"%0.4f mean aucpr with a standard deviation of %0.4f\" % (np.mean(aucprs), np.std(aucprs)))\n",
    "\n",
    "    print ('aucroc scores:', aucrocs)\n",
    "    print(\"%0.4f mean aucroc with a standard deviation of %0.4f\" % (np.mean(aucrocs), np.std(aucrocs)))\n",
    "\n",
    "    print ('accuracy scores:', accuracies)\n",
    "    print(\"%0.4f mean accuracy with a standard deviation of %0.4f\" % (np.mean(accuracies), np.std(accuracies)))\n",
    "    \n",
    "    return aucprs, aucrocs, accuracies\n"
   ]
  },
  {
   "cell_type": "code",
   "execution_count": 59,
   "metadata": {},
   "outputs": [
    {
     "name": "stdout",
     "output_type": "stream",
     "text": [
      "aucpr scores: [0.269771, 0.300152, 0.267277, 0.242272, 0.260992]\n",
      "0.2681 mean aucpr with a standard deviation of 0.0187\n",
      "aucroc scores: [0.711592, 0.721191, 0.72598, 0.708077, 0.70798]\n",
      "0.7150 mean aucroc with a standard deviation of 0.0073\n",
      "accuracy scores: [86.1164, 86.6367, 86.9442, 87.4645, 86.7991]\n",
      "86.7922 mean accuracy with a standard deviation of 0.4373\n"
     ]
    }
   ],
   "source": [
    "classifier=RandomForestClassifier(n_estimators=10, random_state = 42)\n",
    "aucprs_RF, aucrocs_RF, accuracies_RF = customCrossValidationMetrics(classifier, X, y)"
   ]
  },
  {
   "cell_type": "markdown",
   "metadata": {},
   "source": [
    "Random Forest different class weight"
   ]
  },
  {
   "cell_type": "code",
   "execution_count": 60,
   "metadata": {},
   "outputs": [
    {
     "name": "stdout",
     "output_type": "stream",
     "text": [
      "Accuracy test: 60.754\n",
      "Accuracy train: 60.2972\n"
     ]
    }
   ],
   "source": [
    "clf=RandomForestClassifier(n_estimators=10, random_state = 42,class_weight='balanced')\n",
    "clf.fit(X_train,np.ravel(y_train))\n",
    "y_pred=clf.predict(X_test)\n",
    "test_ac=np.round(metrics.accuracy_score(y_test, y_pred)*100,4)\n",
    "train_ac=np.round(clf.score(X_train, y_train)*100,4)\n",
    "print(\"Accuracy test:\",test_ac)\n",
    "print(\"Accuracy train:\",train_ac)"
   ]
  },
  {
   "cell_type": "code",
   "execution_count": 61,
   "metadata": {},
   "outputs": [
    {
     "name": "stdout",
     "output_type": "stream",
     "text": [
      "AUC-ROC:  0.7020430909165649\n",
      "AUC-PR:  0.23959322393036656\n"
     ]
    }
   ],
   "source": [
    "y_pred_probas=clf.predict_proba(X_test)\n",
    "auroc = metrics.roc_auc_score(y_test, y_pred_probas[:, 1])\n",
    "print(\"AUC-ROC: \", auroc)\n",
    "(precisions, recalls, thresholds) = metrics.precision_recall_curve(y_test, y_pred_probas[:, 1])\n",
    "auprc = metrics.auc(recalls, precisions)\n",
    "print(\"AUC-PR: \", auprc)\n"
   ]
  },
  {
   "cell_type": "code",
   "execution_count": 62,
   "metadata": {
    "colab": {
     "base_uri": "https://localhost:8080/"
    },
    "id": "7YikaWN3LOfo",
    "outputId": "5f219eb4-eccc-4944-c363-144e74faa8d1"
   },
   "outputs": [
    {
     "name": "stdout",
     "output_type": "stream",
     "text": [
      "[[1690 1172]\n",
      " [  98  276]]\n"
     ]
    }
   ],
   "source": [
    "confusionMatrix = confusion_matrix(y_test, y_pred)\n",
    "print(confusionMatrix)\n"
   ]
  },
  {
   "cell_type": "code",
   "execution_count": 63,
   "metadata": {
    "id": "mPrqHnpaLOfs"
   },
   "outputs": [],
   "source": [
    "cm = metrics.confusion_matrix(y_test, y_pred)\n",
    "score = np.round(clf.score(X_test, y_test)*100,4)"
   ]
  },
  {
   "cell_type": "code",
   "execution_count": 64,
   "metadata": {
    "colab": {
     "base_uri": "https://localhost:8080/",
     "height": 362
    },
    "id": "GngccYH5LOfs",
    "outputId": "315fd52d-7806-4a03-fd8b-2c962042db07"
   },
   "outputs": [
    {
     "data": {
      "image/png": "[encoded data removed]",
      "text/plain": [
       "<Figure size 432x432 with 2 Axes>"
      ]
     },
     "metadata": {
      "needs_background": "light"
     },
     "output_type": "display_data"
    }
   ],
   "source": [
    "plt.figure(figsize=(6,6))\n",
    "sns.heatmap(cm, annot=True, fmt=\".3f\", linewidths=.5, square = True, cmap = 'Blues_r');\n",
    "plt.ylabel('Actual label');\n",
    "plt.xlabel('Predicted label');\n",
    "all_sample_title = 'Accuracy Score: {0}'.format(score)\n",
    "plt.title(all_sample_title, size = 15)\n",
    "plt.show()"
   ]
  },
  {
   "cell_type": "code",
   "execution_count": 65,
   "metadata": {
    "colab": {
     "base_uri": "https://localhost:8080/",
     "height": 362
    },
    "id": "UAmU2DrCLOft",
    "outputId": "4239e8ee-82b4-460c-c219-065fda24272e"
   },
   "outputs": [
    {
     "data": {
      "image/png": "[encoded data removed]",
      "text/plain": [
       "<Figure size 432x432 with 2 Axes>"
      ]
     },
     "metadata": {
      "needs_background": "light"
     },
     "output_type": "display_data"
    }
   ],
   "source": [
    "cm = cm.astype('float') / cm.sum(axis=1)[:, np.newaxis]\n",
    "plt.figure(figsize=(6,6))\n",
    "sns.heatmap(cm, annot=True, fmt=\".3f\", linewidths=.5, square = True, cmap = 'Blues_r');\n",
    "plt.ylabel('Actual label');\n",
    "plt.xlabel('Predicted label');\n",
    "all_sample_title = 'Accuracy Score: {0}'.format(score)\n",
    "plt.title(all_sample_title, size = 15)\n",
    "plt.show()"
   ]
  },
  {
   "cell_type": "code",
   "execution_count": 66,
   "metadata": {},
   "outputs": [],
   "source": [
    "#Manera 2: To plot curves:\n",
    "scaler = StandardScaler()\n",
    "RF_clf_weighted=RandomForestClassifier(n_estimators=10, random_state = 42, class_weight='balanced')\n",
    "cv_RF_weighted = make_pipeline(scaler, RF_clf_weighted)\n",
    "# Create k-Fold cross-validation\n",
    "kf = KFold(n_splits=5, shuffle=True, random_state=42)\n",
    "cv_RF_weighted_predicted = cross_val_predict(cv_RF_weighted, X,np.ravel(y),cv=kf, method='predict_proba')\n",
    "cv_RF_weighted_predicted1 = cross_val_predict(cv_RF_weighted, X,np.ravel(y), cv=kf)\n",
    "acc_RF_weighted=np.round(metrics.accuracy_score(np.ravel(y), cv_RF_weighted_predicted1)*100,4)"
   ]
  },
  {
   "cell_type": "code",
   "execution_count": 67,
   "metadata": {},
   "outputs": [
    {
     "name": "stdout",
     "output_type": "stream",
     "text": [
      "aucpr scores: [0.265597, 0.295643, 0.265212, 0.236281, 0.264632]\n",
      "0.2655 mean aucpr with a standard deviation of 0.0188\n",
      "aucroc scores: [0.710915, 0.719994, 0.724584, 0.706614, 0.707969]\n",
      "0.7140 mean aucroc with a standard deviation of 0.0070\n",
      "accuracy scores: [60.0757, 60.9508, 60.2176, 59.8628, 60.6577]\n",
      "60.3529 mean accuracy with a standard deviation of 0.3964\n"
     ]
    }
   ],
   "source": [
    "classifier=RandomForestClassifier(n_estimators=10, random_state = 42, class_weight='balanced')\n",
    "aucprs_RF_weighted, aucrocs_RF_weighted, accuracies_RF_weighted = customCrossValidationMetrics(classifier, X, y)"
   ]
  },
  {
   "cell_type": "code",
   "execution_count": null,
   "metadata": {},
   "outputs": [],
   "source": []
  },
  {
   "cell_type": "markdown",
   "metadata": {},
   "source": [
    "Logistic Regression same class weight"
   ]
  },
  {
   "cell_type": "code",
   "execution_count": 68,
   "metadata": {},
   "outputs": [
    {
     "name": "stdout",
     "output_type": "stream",
     "text": [
      "Accuracy of logistic regression classifier on train set: 86.4436\n",
      "Accuracy of logistic regression classifier on test set: 88.5043\n"
     ]
    }
   ],
   "source": [
    "logreg = LogisticRegression()\n",
    "logreg.fit(X_train, np.ravel(y_train))\n",
    "y_pred = logreg.predict(X_test)\n",
    "actr=np.round(100*logreg.score(X_train, y_train),4)\n",
    "acte=np.round(100*logreg.score(X_test, y_test),4)\n",
    "print('Accuracy of logistic regression classifier on train set:', actr)\n",
    "print('Accuracy of logistic regression classifier on test set:', acte)\n"
   ]
  },
  {
   "cell_type": "code",
   "execution_count": 69,
   "metadata": {},
   "outputs": [
    {
     "name": "stdout",
     "output_type": "stream",
     "text": [
      "AUC-ROC:  0.7058066794470791\n",
      "AUC-PR:  0.25577825644642876\n"
     ]
    }
   ],
   "source": [
    "y_pred_probas=logreg.predict_proba(X_test)\n",
    "auroc = metrics.roc_auc_score(y_test, y_pred_probas[:, 1])\n",
    "print(\"AUC-ROC: \", auroc)\n",
    "(precisions, recalls, thresholds) = metrics.precision_recall_curve(y_test, y_pred_probas[:, 1])\n",
    "auprc = metrics.auc(recalls, precisions)\n",
    "print(\"AUC-PR: \", auprc)\n"
   ]
  },
  {
   "cell_type": "code",
   "execution_count": 70,
   "metadata": {},
   "outputs": [
    {
     "name": "stdout",
     "output_type": "stream",
     "text": [
      "[[2855    7]\n",
      " [ 365    9]]\n"
     ]
    }
   ],
   "source": [
    "confusionMatrix = confusion_matrix(y_test, y_pred)\n",
    "print(confusionMatrix)"
   ]
  },
  {
   "cell_type": "code",
   "execution_count": 71,
   "metadata": {},
   "outputs": [
    {
     "name": "stdout",
     "output_type": "stream",
     "text": [
      "              precision    recall  f1-score   support\n",
      "\n",
      "           0       0.89      1.00      0.94      2862\n",
      "           1       0.56      0.02      0.05       374\n",
      "\n",
      "    accuracy                           0.89      3236\n",
      "   macro avg       0.72      0.51      0.49      3236\n",
      "weighted avg       0.85      0.89      0.84      3236\n",
      "\n"
     ]
    }
   ],
   "source": [
    "print(classification_report(y_test, y_pred))"
   ]
  },
  {
   "cell_type": "code",
   "execution_count": 72,
   "metadata": {},
   "outputs": [],
   "source": [
    "#Manera 2: To plot curves:\n",
    "scaler = StandardScaler()\n",
    "LR_clf=LogisticRegression()\n",
    "cv_LR = make_pipeline(scaler, LR_clf)\n",
    "# Create k-Fold cross-validation\n",
    "kf = KFold(n_splits=5, shuffle=True, random_state=42)\n",
    "cv_LR_predicted = cross_val_predict(cv_LR, X,np.ravel(y),cv=kf, method='predict_proba')\n",
    "cv_LR_predicted1 = cross_val_predict(cv_LR, X,np.ravel(y), cv=kf)\n",
    "acc_LR=np.round(metrics.accuracy_score(np.ravel(y), cv_LR_predicted1)*100,4)"
   ]
  },
  {
   "cell_type": "code",
   "execution_count": 73,
   "metadata": {},
   "outputs": [
    {
     "name": "stdout",
     "output_type": "stream",
     "text": [
      "aucpr scores: [0.273167, 0.306137, 0.273412, 0.258166, 0.258734]\n",
      "0.2739 mean aucpr with a standard deviation of 0.0174\n",
      "aucroc scores: [0.712599, 0.721519, 0.727405, 0.705763, 0.708709]\n",
      "0.7152 mean aucroc with a standard deviation of 0.0081\n",
      "accuracy scores: [86.211, 86.5421, 86.8969, 87.6064, 86.5626]\n",
      "86.7638 mean accuracy with a standard deviation of 0.4739\n"
     ]
    }
   ],
   "source": [
    "classifier=LogisticRegression()\n",
    "aucprs_LR, aucrocs_LR, accuracies_LR = customCrossValidationMetrics(classifier, X,y)"
   ]
  },
  {
   "cell_type": "markdown",
   "metadata": {},
   "source": [
    "Logistic Regression different class weight"
   ]
  },
  {
   "cell_type": "code",
   "execution_count": 74,
   "metadata": {},
   "outputs": [
    {
     "name": "stdout",
     "output_type": "stream",
     "text": [
      "Accuracy of logistic regression classifier on train set: 65.6873\n",
      "Accuracy of logistic regression classifier on test set: 66.5637\n"
     ]
    }
   ],
   "source": [
    "logreg = LogisticRegression(class_weight='balanced')\n",
    "logreg.fit(X_train, np.ravel(y_train))\n",
    "y_pred = logreg.predict(X_test)\n",
    "actr=np.round(100*logreg.score(X_train, y_train),4)\n",
    "acte=np.round(100*logreg.score(X_test, y_test),4)\n",
    "print('Accuracy of logistic regression classifier on train set:', actr)\n",
    "print('Accuracy of logistic regression classifier on test set:', acte)"
   ]
  },
  {
   "cell_type": "code",
   "execution_count": 75,
   "metadata": {},
   "outputs": [
    {
     "name": "stdout",
     "output_type": "stream",
     "text": [
      "AUC-ROC:  0.7058066794470791\n",
      "AUC-PR:  0.25577825644642876\n"
     ]
    }
   ],
   "source": [
    "y_pred_probas=logreg.predict_proba(X_test)\n",
    "auroc = metrics.roc_auc_score(y_test, y_pred_probas[:, 1])\n",
    "print(\"AUC-ROC: \", auroc)\n",
    "(precisions, recalls, thresholds) = metrics.precision_recall_curve(y_test, y_pred_probas[:, 1])\n",
    "auprc = metrics.auc(recalls, precisions)\n",
    "print(\"AUC-PR: \", auprc)\n"
   ]
  },
  {
   "cell_type": "code",
   "execution_count": 83,
   "metadata": {},
   "outputs": [
    {
     "name": "stdout",
     "output_type": "stream",
     "text": [
      "[[1905  957]\n",
      " [ 125  249]]\n"
     ]
    }
   ],
   "source": [
    "confusionMatrix = confusion_matrix(y_test, y_pred)\n",
    "print(confusionMatrix)"
   ]
  },
  {
   "cell_type": "code",
   "execution_count": 84,
   "metadata": {},
   "outputs": [
    {
     "name": "stdout",
     "output_type": "stream",
     "text": [
      "              precision    recall  f1-score   support\n",
      "\n",
      "           0       0.94      0.67      0.78      2862\n",
      "           1       0.21      0.67      0.32       374\n",
      "\n",
      "    accuracy                           0.67      3236\n",
      "   macro avg       0.57      0.67      0.55      3236\n",
      "weighted avg       0.85      0.67      0.73      3236\n",
      "\n"
     ]
    }
   ],
   "source": [
    "print(classification_report(y_test, y_pred))"
   ]
  },
  {
   "cell_type": "code",
   "execution_count": 85,
   "metadata": {},
   "outputs": [],
   "source": [
    "#Manera 2: To plot curves:\n",
    "scaler = StandardScaler()\n",
    "LR_clf_weighted=LogisticRegression(class_weight='balanced')\n",
    "cv_LR_weighted = make_pipeline(scaler, LR_clf_weighted)\n",
    "# Create k-Fold cross-validation\n",
    "kf = KFold(n_splits=5, shuffle=True, random_state=42)\n",
    "cv_LR_weighted_predicted = cross_val_predict(cv_LR_weighted, X,np.ravel(y),cv=kf, method='predict_proba')\n",
    "cv_LR_weighted_predicted1 = cross_val_predict(cv_LR_weighted, X,np.ravel(y), cv=kf)\n",
    "acc_LR_weighted=np.round(metrics.accuracy_score(np.ravel(y), cv_LR_weighted_predicted1)*100,4)"
   ]
  },
  {
   "cell_type": "code",
   "execution_count": 86,
   "metadata": {},
   "outputs": [
    {
     "name": "stdout",
     "output_type": "stream",
     "text": [
      "aucpr scores: [0.273167, 0.306137, 0.273412, 0.258166, 0.258734]\n",
      "0.2739 mean aucpr with a standard deviation of 0.0174\n",
      "aucroc scores: [0.712599, 0.721519, 0.727405, 0.705763, 0.708709]\n",
      "0.7152 mean aucroc with a standard deviation of 0.0081\n",
      "accuracy scores: [65.3974, 66.6509, 65.7285, 65.4447, 65.886]\n",
      "65.8215 mean accuracy with a standard deviation of 0.4522\n"
     ]
    }
   ],
   "source": [
    "classifier=LogisticRegression(class_weight='balanced')\n",
    "aucprs_LR_weighted, aucrocs_LR_weighted, accuracies_LR_weighted = customCrossValidationMetrics(classifier, X,y)"
   ]
  },
  {
   "cell_type": "code",
   "execution_count": null,
   "metadata": {},
   "outputs": [],
   "source": []
  },
  {
   "cell_type": "markdown",
   "metadata": {},
   "source": [
    "Plot ROC and PR curves"
   ]
  },
  {
   "cell_type": "code",
   "execution_count": 87,
   "metadata": {},
   "outputs": [
    {
     "name": "stderr",
     "output_type": "stream",
     "text": [
      "The PostScript backend does not support transparency; partially transparent artists will be rendered opaque.\n",
      "The PostScript backend does not support transparency; partially transparent artists will be rendered opaque.\n",
      "The PostScript backend does not support transparency; partially transparent artists will be rendered opaque.\n",
      "The PostScript backend does not support transparency; partially transparent artists will be rendered opaque.\n"
     ]
    },
    {
     "data": {
      "image/png": "[encoded data removed]",
      "text/plain": [
       "<Figure size 1080x576 with 2 Axes>"
      ]
     },
     "metadata": {
      "needs_background": "light"
     },
     "output_type": "display_data"
    }
   ],
   "source": [
    "from sklearn.metrics import classification_report,confusion_matrix,auc,precision_recall_curve\n",
    "from sklearn.metrics import roc_auc_score\n",
    "from sklearn.metrics import roc_curve\n",
    "fig = plt.figure(figsize=(15,8))\n",
    "ax1 = fig.add_subplot(1,2,1)\n",
    "ax1.set_xlim([-0.025,1])\n",
    "ax1.set_ylim([0,1.025])\n",
    "ax1.set_xlabel('Recall')\n",
    "ax1.set_ylabel('Precision')\n",
    "ax1.set_title('PR Curve')\n",
    "\n",
    "ax2 = fig.add_subplot(1,2,2)\n",
    "ax2.plot([0, 1], [0, 1], color='navy', linestyle='--')\n",
    "ax2.set_xlim([-0.025,1])\n",
    "ax2.set_ylim([0,1.025])\n",
    "ax2.set_xlabel('False Positive Rate')\n",
    "ax2.set_ylabel('True Positive Rate')\n",
    "ax2.set_title('ROC Curve')\n",
    "\n",
    "    \n",
    "y_pred_proba=cv_RF_predicted[::,1]\n",
    "fpr, tpr, _ = metrics.roc_curve(y,  y_pred_proba)\n",
    "p,r,_ = precision_recall_curve(y,y_pred_proba)\n",
    "auc = np.round(metrics.roc_auc_score(y, y_pred_proba),6)\n",
    "ax2.plot(fpr,tpr,label=\"RF, AUC=\"+str(auc)+\", AC=\"+str(acc_RF),color='black')\n",
    "ax1.plot(r,p,label='RF',color='black')\n",
    "\n",
    "\n",
    "y_pred_proba=cv_RF_weighted_predicted[::,1]\n",
    "fpr, tpr, _ = metrics.roc_curve(y,  y_pred_proba)\n",
    "p,r,_ = precision_recall_curve(y,y_pred_proba)\n",
    "auc = np.round(metrics.roc_auc_score(y, y_pred_proba),6)\n",
    "ax2.plot(fpr,tpr,label=\"RF_weighted, AUC=\"+str(auc)+\", AC=\"+str(acc_RF_weighted),color='darkorange')\n",
    "ax1.plot(r,p,label='RF_weighted',color='darkorange')\n",
    "    \n",
    "y_pred_proba=cv_LR_predicted[::,1]\n",
    "fpr, tpr, _ = metrics.roc_curve(y,  y_pred_proba)\n",
    "p,r,_ = precision_recall_curve(y,y_pred_proba)\n",
    "auc = np.round(metrics.roc_auc_score(y, y_pred_proba),6)\n",
    "ax2.plot(fpr,tpr,label=\"LR, AUC=\"+str(auc)+\", AC=\"+str(acc_LR),color='yellow')\n",
    "ax1.plot(r,p,label='LR',color='yellow')\n",
    "\n",
    "\n",
    "y_pred_proba=cv_LR_weighted_predicted[::,1]\n",
    "fpr, tpr, _ = metrics.roc_curve(y, y_pred_proba)\n",
    "p,r,_ = precision_recall_curve(y,y_pred_proba)\n",
    "auc = np.round(metrics.roc_auc_score(y, y_pred_proba),6)\n",
    "ax2.plot(fpr,tpr,label=\"LR_weighted, AUC=\"+str(auc)+\", AC=\"+str(acc_LR_weighted),color='red')\n",
    "ax1.plot(r,p,label='LR_weighted',color='red')\n",
    "\n",
    "ax1.legend(loc='lower right')    \n",
    "ax2.legend(loc='lower right')\n",
    "plt.savefig('OASIS_mortality.eps', format='eps', dpi=1200)\n",
    "plt.show()\n"
   ]
  },
  {
   "cell_type": "code",
   "execution_count": null,
   "metadata": {},
   "outputs": [],
   "source": []
  },
  {
   "cell_type": "code",
   "execution_count": 81,
   "metadata": {},
   "outputs": [
    {
     "name": "stdout",
     "output_type": "stream",
     "text": [
      "RF vs RF_weighted:  Ttest_relResult(statistic=3.488639898710684, pvalue=0.025153867231297502)\n",
      "RF_weighted vs LR:  Ttest_relResult(statistic=-1.9482083889066364, pvalue=0.12321032005797179)\n",
      "LR vs LR_weighted:  Ttest_relResult(statistic=nan, pvalue=nan)\n",
      "LR_weighted vs RF:  Ttest_relResult(statistic=0.3550397856104632, pvalue=0.740489133755428)\n",
      "LR_weighted vs RF_weighted:  Ttest_relResult(statistic=1.9482083889066364, pvalue=0.12321032005797179)\n",
      "LR vs RF:  Ttest_relResult(statistic=0.3550397856104632, pvalue=0.740489133755428)\n"
     ]
    }
   ],
   "source": [
    "print('RF vs RF_weighted: ', stats.ttest_rel(aucrocs_RF,aucrocs_RF_weighted))\n",
    "print('RF_weighted vs LR: ', stats.ttest_rel(aucrocs_RF_weighted,aucrocs_LR))\n",
    "print('LR vs LR_weighted: ', stats.ttest_rel(aucrocs_LR,aucrocs_LR_weighted))\n",
    "print('LR_weighted vs RF: ', stats.ttest_rel(aucrocs_LR_weighted,aucrocs_RF))\n",
    "print('LR_weighted vs RF_weighted: ', stats.ttest_rel(aucrocs_LR_weighted,aucrocs_RF_weighted))\n",
    "print('LR vs RF: ', stats.ttest_rel(aucrocs_LR,aucrocs_RF))\n",
    "#si p_value < 0.05, modelos tienen diferencias estadisticamente significativas   "
   ]
  },
  {
   "cell_type": "markdown",
   "metadata": {},
   "source": [
    "Observamos que RF vs RF_weighted tienen pvalue = 0.02 < 0.05, por lo tanto, la hipotesi nula \"las diferencias entre metricas de performance observadas en es probable que se deba al azar estadístico.\" es falsa. \n",
    "Las diferencias de las metricas (performance) entre estos dos modelos son estadisticamente significativas. RF es mejor que RF_weighted.\n",
    "\n",
    "aucrocs_RF: [0.711592, 0.721191, 0.72598, 0.708077, 0.70798];  \n",
    "0.7150 mean aucroc with a standard deviation of 0.0073\n",
    "\n",
    "aucrocs_RF_weighted: [0.710915, 0.719994, 0.724584, 0.706614, 0.707969];  \n",
    "0.7140 mean aucroc with a standard deviation of 0.0070"
   ]
  },
  {
   "cell_type": "code",
   "execution_count": null,
   "metadata": {},
   "outputs": [],
   "source": []
  },
  {
   "cell_type": "code",
   "execution_count": 82,
   "metadata": {},
   "outputs": [
    {
     "name": "stdout",
     "output_type": "stream",
     "text": [
      "RF vs RF_weighted:  Ttest_relResult(statistic=1.5539839884394706, pvalue=0.1951548168464269)\n",
      "RF_weighted vs LR:  Ttest_relResult(statistic=-1.9102188869348562, pvalue=0.12871344578861535)\n",
      "LR vs LR_weighted:  Ttest_relResult(statistic=nan, pvalue=nan)\n",
      "LR_weighted vs RF:  Ttest_relResult(statistic=1.983879664891226, pvalue=0.11827547693131153)\n",
      "LR_weighted vs RF_weighted:  Ttest_relResult(statistic=1.9102188869348562, pvalue=0.12871344578861535)\n",
      "LR vs RF:  Ttest_relResult(statistic=1.983879664891226, pvalue=0.11827547693131153)\n"
     ]
    }
   ],
   "source": [
    "print('RF vs RF_weighted: ', stats.ttest_rel(aucprs_RF,aucprs_RF_weighted))\n",
    "print('RF_weighted vs LR: ', stats.ttest_rel(aucprs_RF_weighted,aucprs_LR))\n",
    "print('LR vs LR_weighted: ', stats.ttest_rel(aucprs_LR,aucprs_LR_weighted))\n",
    "print('LR_weighted vs RF: ', stats.ttest_rel(aucprs_LR_weighted,aucprs_RF))\n",
    "print('LR_weighted vs RF_weighted: ', stats.ttest_rel(aucprs_LR_weighted,aucprs_RF_weighted))\n",
    "print('LR vs RF: ', stats.ttest_rel(aucprs_LR,aucprs_RF))\n"
   ]
  },
  {
   "cell_type": "markdown",
   "metadata": {},
   "source": [
    "las diferencias en aucpr de los modelos no son esdísticamente significativas."
   ]
  }
 ],
 "metadata": {
  "colab": {
   "collapsed_sections": [],
   "name": "enviadoaprofe.ipynb",
   "provenance": []
  },
  "kernelspec": {
   "display_name": "Python 3",
   "language": "python",
   "name": "python3"
  },
  "language_info": {
   "codemirror_mode": {
    "name": "ipython",
    "version": 3
   },
   "file_extension": ".py",
   "mimetype": "text/x-python",
   "name": "python",
   "nbconvert_exporter": "python",
   "pygments_lexer": "ipython3",
   "version": "3.6.9"
  }
 },
 "nbformat": 4,
 "nbformat_minor": 1
}
