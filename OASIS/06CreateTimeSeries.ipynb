{
 "cells": [
  {
   "cell_type": "markdown",
   "metadata": {},
   "source": [
    "### Crear Datasets (en forma de series temporales) de las variables que componen OASIS.\n",
    "\n",
    "Este notebook prepara los Datasets en forma de series temporales, listos para entrenarlo con modelos predictivos: extraer y validar datos de las variables que componen OASIS, ordenarlos en series temporales, imputar los missing values y separar los datos en train/test sets."
   ]
  },
  {
   "cell_type": "code",
   "execution_count": 1,
   "metadata": {},
   "outputs": [],
   "source": [
    "import pandas as pd\n",
    "import numpy as np\n",
    "from tqdm import tqdm\n",
    "import csv\n",
    "import os\n",
    "import sys"
   ]
  },
  {
   "cell_type": "code",
   "execution_count": 2,
   "metadata": {},
   "outputs": [],
   "source": [
    "import shutil\n",
    "import random\n",
    "random.seed(42)"
   ]
  },
  {
   "cell_type": "code",
   "execution_count": 3,
   "metadata": {},
   "outputs": [
    {
     "name": "stdout",
     "output_type": "stream",
     "text": [
      "(46520, 8)\n",
      "unique SUBJECT_ID: 46520\n"
     ]
    },
    {
     "data": {
      "text/html": [
       "<div>\n",
       "<style scoped>\n",
       "    .dataframe tbody tr th:only-of-type {\n",
       "        vertical-align: middle;\n",
       "    }\n",
       "\n",
       "    .dataframe tbody tr th {\n",
       "        vertical-align: top;\n",
       "    }\n",
       "\n",
       "    .dataframe thead th {\n",
       "        text-align: right;\n",
       "    }\n",
       "</style>\n",
       "<table border=\"1\" class=\"dataframe\">\n",
       "  <thead>\n",
       "    <tr style=\"text-align: right;\">\n",
       "      <th></th>\n",
       "      <th>ROW_ID</th>\n",
       "      <th>SUBJECT_ID</th>\n",
       "      <th>GENDER</th>\n",
       "      <th>DOB</th>\n",
       "      <th>DOD</th>\n",
       "      <th>DOD_HOSP</th>\n",
       "      <th>DOD_SSN</th>\n",
       "      <th>EXPIRE_FLAG</th>\n",
       "    </tr>\n",
       "  </thead>\n",
       "  <tbody>\n",
       "    <tr>\n",
       "      <th>0</th>\n",
       "      <td>234</td>\n",
       "      <td>249</td>\n",
       "      <td>F</td>\n",
       "      <td>2075-03-13 00:00:00</td>\n",
       "      <td>NaN</td>\n",
       "      <td>NaN</td>\n",
       "      <td>NaN</td>\n",
       "      <td>0</td>\n",
       "    </tr>\n",
       "    <tr>\n",
       "      <th>1</th>\n",
       "      <td>235</td>\n",
       "      <td>250</td>\n",
       "      <td>F</td>\n",
       "      <td>2164-12-27 00:00:00</td>\n",
       "      <td>2188-11-22 00:00:00</td>\n",
       "      <td>2188-11-22 00:00:00</td>\n",
       "      <td>NaN</td>\n",
       "      <td>1</td>\n",
       "    </tr>\n",
       "    <tr>\n",
       "      <th>2</th>\n",
       "      <td>236</td>\n",
       "      <td>251</td>\n",
       "      <td>M</td>\n",
       "      <td>2090-03-15 00:00:00</td>\n",
       "      <td>NaN</td>\n",
       "      <td>NaN</td>\n",
       "      <td>NaN</td>\n",
       "      <td>0</td>\n",
       "    </tr>\n",
       "    <tr>\n",
       "      <th>3</th>\n",
       "      <td>237</td>\n",
       "      <td>252</td>\n",
       "      <td>M</td>\n",
       "      <td>2078-03-06 00:00:00</td>\n",
       "      <td>NaN</td>\n",
       "      <td>NaN</td>\n",
       "      <td>NaN</td>\n",
       "      <td>0</td>\n",
       "    </tr>\n",
       "    <tr>\n",
       "      <th>4</th>\n",
       "      <td>238</td>\n",
       "      <td>253</td>\n",
       "      <td>F</td>\n",
       "      <td>2089-11-26 00:00:00</td>\n",
       "      <td>NaN</td>\n",
       "      <td>NaN</td>\n",
       "      <td>NaN</td>\n",
       "      <td>0</td>\n",
       "    </tr>\n",
       "  </tbody>\n",
       "</table>\n",
       "</div>"
      ],
      "text/plain": [
       "   ROW_ID  SUBJECT_ID GENDER                  DOB                  DOD  \\\n",
       "0     234         249      F  2075-03-13 00:00:00                  NaN   \n",
       "1     235         250      F  2164-12-27 00:00:00  2188-11-22 00:00:00   \n",
       "2     236         251      M  2090-03-15 00:00:00                  NaN   \n",
       "3     237         252      M  2078-03-06 00:00:00                  NaN   \n",
       "4     238         253      F  2089-11-26 00:00:00                  NaN   \n",
       "\n",
       "              DOD_HOSP DOD_SSN  EXPIRE_FLAG  \n",
       "0                  NaN     NaN            0  \n",
       "1  2188-11-22 00:00:00     NaN            1  \n",
       "2                  NaN     NaN            0  \n",
       "3                  NaN     NaN            0  \n",
       "4                  NaN     NaN            0  "
      ]
     },
     "execution_count": 3,
     "metadata": {},
     "output_type": "execute_result"
    }
   ],
   "source": [
    "patients=pd.read_csv('/data/mimic/PATIENTS.csv')\n",
    "print(patients.shape)\n",
    "print('unique SUBJECT_ID:', patients.SUBJECT_ID.nunique())\n",
    "patients.head()"
   ]
  },
  {
   "cell_type": "code",
   "execution_count": 4,
   "metadata": {},
   "outputs": [
    {
     "name": "stdout",
     "output_type": "stream",
     "text": [
      "(58976, 19)\n",
      "unique SUBJECT_ID: 46520\n",
      "unique HADM_ID   : 58976\n"
     ]
    },
    {
     "data": {
      "text/html": [
       "<div>\n",
       "<style scoped>\n",
       "    .dataframe tbody tr th:only-of-type {\n",
       "        vertical-align: middle;\n",
       "    }\n",
       "\n",
       "    .dataframe tbody tr th {\n",
       "        vertical-align: top;\n",
       "    }\n",
       "\n",
       "    .dataframe thead th {\n",
       "        text-align: right;\n",
       "    }\n",
       "</style>\n",
       "<table border=\"1\" class=\"dataframe\">\n",
       "  <thead>\n",
       "    <tr style=\"text-align: right;\">\n",
       "      <th></th>\n",
       "      <th>ROW_ID</th>\n",
       "      <th>SUBJECT_ID</th>\n",
       "      <th>HADM_ID</th>\n",
       "      <th>ADMITTIME</th>\n",
       "      <th>DISCHTIME</th>\n",
       "      <th>DEATHTIME</th>\n",
       "      <th>ADMISSION_TYPE</th>\n",
       "      <th>ADMISSION_LOCATION</th>\n",
       "      <th>DISCHARGE_LOCATION</th>\n",
       "      <th>INSURANCE</th>\n",
       "      <th>LANGUAGE</th>\n",
       "      <th>RELIGION</th>\n",
       "      <th>MARITAL_STATUS</th>\n",
       "      <th>ETHNICITY</th>\n",
       "      <th>EDREGTIME</th>\n",
       "      <th>EDOUTTIME</th>\n",
       "      <th>DIAGNOSIS</th>\n",
       "      <th>HOSPITAL_EXPIRE_FLAG</th>\n",
       "      <th>HAS_CHARTEVENTS_DATA</th>\n",
       "    </tr>\n",
       "  </thead>\n",
       "  <tbody>\n",
       "    <tr>\n",
       "      <th>0</th>\n",
       "      <td>21</td>\n",
       "      <td>22</td>\n",
       "      <td>165315</td>\n",
       "      <td>2196-04-09 12:26:00</td>\n",
       "      <td>2196-04-10 15:54:00</td>\n",
       "      <td>NaN</td>\n",
       "      <td>EMERGENCY</td>\n",
       "      <td>EMERGENCY ROOM ADMIT</td>\n",
       "      <td>DISC-TRAN CANCER/CHLDRN H</td>\n",
       "      <td>Private</td>\n",
       "      <td>NaN</td>\n",
       "      <td>UNOBTAINABLE</td>\n",
       "      <td>MARRIED</td>\n",
       "      <td>WHITE</td>\n",
       "      <td>2196-04-09 10:06:00</td>\n",
       "      <td>2196-04-09 13:24:00</td>\n",
       "      <td>BENZODIAZEPINE OVERDOSE</td>\n",
       "      <td>0</td>\n",
       "      <td>1</td>\n",
       "    </tr>\n",
       "    <tr>\n",
       "      <th>1</th>\n",
       "      <td>22</td>\n",
       "      <td>23</td>\n",
       "      <td>152223</td>\n",
       "      <td>2153-09-03 07:15:00</td>\n",
       "      <td>2153-09-08 19:10:00</td>\n",
       "      <td>NaN</td>\n",
       "      <td>ELECTIVE</td>\n",
       "      <td>PHYS REFERRAL/NORMAL DELI</td>\n",
       "      <td>HOME HEALTH CARE</td>\n",
       "      <td>Medicare</td>\n",
       "      <td>NaN</td>\n",
       "      <td>CATHOLIC</td>\n",
       "      <td>MARRIED</td>\n",
       "      <td>WHITE</td>\n",
       "      <td>NaN</td>\n",
       "      <td>NaN</td>\n",
       "      <td>CORONARY ARTERY DISEASE\\CORONARY ARTERY BYPASS...</td>\n",
       "      <td>0</td>\n",
       "      <td>1</td>\n",
       "    </tr>\n",
       "    <tr>\n",
       "      <th>2</th>\n",
       "      <td>23</td>\n",
       "      <td>23</td>\n",
       "      <td>124321</td>\n",
       "      <td>2157-10-18 19:34:00</td>\n",
       "      <td>2157-10-25 14:00:00</td>\n",
       "      <td>NaN</td>\n",
       "      <td>EMERGENCY</td>\n",
       "      <td>TRANSFER FROM HOSP/EXTRAM</td>\n",
       "      <td>HOME HEALTH CARE</td>\n",
       "      <td>Medicare</td>\n",
       "      <td>ENGL</td>\n",
       "      <td>CATHOLIC</td>\n",
       "      <td>MARRIED</td>\n",
       "      <td>WHITE</td>\n",
       "      <td>NaN</td>\n",
       "      <td>NaN</td>\n",
       "      <td>BRAIN MASS</td>\n",
       "      <td>0</td>\n",
       "      <td>1</td>\n",
       "    </tr>\n",
       "    <tr>\n",
       "      <th>3</th>\n",
       "      <td>24</td>\n",
       "      <td>24</td>\n",
       "      <td>161859</td>\n",
       "      <td>2139-06-06 16:14:00</td>\n",
       "      <td>2139-06-09 12:48:00</td>\n",
       "      <td>NaN</td>\n",
       "      <td>EMERGENCY</td>\n",
       "      <td>TRANSFER FROM HOSP/EXTRAM</td>\n",
       "      <td>HOME</td>\n",
       "      <td>Private</td>\n",
       "      <td>NaN</td>\n",
       "      <td>PROTESTANT QUAKER</td>\n",
       "      <td>SINGLE</td>\n",
       "      <td>WHITE</td>\n",
       "      <td>NaN</td>\n",
       "      <td>NaN</td>\n",
       "      <td>INTERIOR MYOCARDIAL INFARCTION</td>\n",
       "      <td>0</td>\n",
       "      <td>1</td>\n",
       "    </tr>\n",
       "    <tr>\n",
       "      <th>4</th>\n",
       "      <td>25</td>\n",
       "      <td>25</td>\n",
       "      <td>129635</td>\n",
       "      <td>2160-11-02 02:06:00</td>\n",
       "      <td>2160-11-05 14:55:00</td>\n",
       "      <td>NaN</td>\n",
       "      <td>EMERGENCY</td>\n",
       "      <td>EMERGENCY ROOM ADMIT</td>\n",
       "      <td>HOME</td>\n",
       "      <td>Private</td>\n",
       "      <td>NaN</td>\n",
       "      <td>UNOBTAINABLE</td>\n",
       "      <td>MARRIED</td>\n",
       "      <td>WHITE</td>\n",
       "      <td>2160-11-02 01:01:00</td>\n",
       "      <td>2160-11-02 04:27:00</td>\n",
       "      <td>ACUTE CORONARY SYNDROME</td>\n",
       "      <td>0</td>\n",
       "      <td>1</td>\n",
       "    </tr>\n",
       "  </tbody>\n",
       "</table>\n",
       "</div>"
      ],
      "text/plain": [
       "   ROW_ID  SUBJECT_ID  HADM_ID            ADMITTIME            DISCHTIME  \\\n",
       "0      21          22   165315  2196-04-09 12:26:00  2196-04-10 15:54:00   \n",
       "1      22          23   152223  2153-09-03 07:15:00  2153-09-08 19:10:00   \n",
       "2      23          23   124321  2157-10-18 19:34:00  2157-10-25 14:00:00   \n",
       "3      24          24   161859  2139-06-06 16:14:00  2139-06-09 12:48:00   \n",
       "4      25          25   129635  2160-11-02 02:06:00  2160-11-05 14:55:00   \n",
       "\n",
       "  DEATHTIME ADMISSION_TYPE         ADMISSION_LOCATION  \\\n",
       "0       NaN      EMERGENCY       EMERGENCY ROOM ADMIT   \n",
       "1       NaN       ELECTIVE  PHYS REFERRAL/NORMAL DELI   \n",
       "2       NaN      EMERGENCY  TRANSFER FROM HOSP/EXTRAM   \n",
       "3       NaN      EMERGENCY  TRANSFER FROM HOSP/EXTRAM   \n",
       "4       NaN      EMERGENCY       EMERGENCY ROOM ADMIT   \n",
       "\n",
       "          DISCHARGE_LOCATION INSURANCE LANGUAGE           RELIGION  \\\n",
       "0  DISC-TRAN CANCER/CHLDRN H   Private      NaN       UNOBTAINABLE   \n",
       "1           HOME HEALTH CARE  Medicare      NaN           CATHOLIC   \n",
       "2           HOME HEALTH CARE  Medicare     ENGL           CATHOLIC   \n",
       "3                       HOME   Private      NaN  PROTESTANT QUAKER   \n",
       "4                       HOME   Private      NaN       UNOBTAINABLE   \n",
       "\n",
       "  MARITAL_STATUS ETHNICITY            EDREGTIME            EDOUTTIME  \\\n",
       "0        MARRIED     WHITE  2196-04-09 10:06:00  2196-04-09 13:24:00   \n",
       "1        MARRIED     WHITE                  NaN                  NaN   \n",
       "2        MARRIED     WHITE                  NaN                  NaN   \n",
       "3         SINGLE     WHITE                  NaN                  NaN   \n",
       "4        MARRIED     WHITE  2160-11-02 01:01:00  2160-11-02 04:27:00   \n",
       "\n",
       "                                           DIAGNOSIS  HOSPITAL_EXPIRE_FLAG  \\\n",
       "0                            BENZODIAZEPINE OVERDOSE                     0   \n",
       "1  CORONARY ARTERY DISEASE\\CORONARY ARTERY BYPASS...                     0   \n",
       "2                                         BRAIN MASS                     0   \n",
       "3                     INTERIOR MYOCARDIAL INFARCTION                     0   \n",
       "4                            ACUTE CORONARY SYNDROME                     0   \n",
       "\n",
       "   HAS_CHARTEVENTS_DATA  \n",
       "0                     1  \n",
       "1                     1  \n",
       "2                     1  \n",
       "3                     1  \n",
       "4                     1  "
      ]
     },
     "execution_count": 4,
     "metadata": {},
     "output_type": "execute_result"
    }
   ],
   "source": [
    "admissions=pd.read_csv('/data/mimic/ADMISSIONS.csv')\n",
    "print(admissions.shape)\n",
    "print('unique SUBJECT_ID:', admissions.SUBJECT_ID.nunique())\n",
    "print('unique HADM_ID   :', admissions.HADM_ID.nunique())\n",
    "admissions.head()"
   ]
  },
  {
   "cell_type": "code",
   "execution_count": 5,
   "metadata": {},
   "outputs": [
    {
     "name": "stdout",
     "output_type": "stream",
     "text": [
      "(58976, 18)\n",
      "unique SUBJECT_ID: 46520\n",
      "unique HADM_ID   : 58976\n"
     ]
    },
    {
     "data": {
      "text/html": [
       "<div>\n",
       "<style scoped>\n",
       "    .dataframe tbody tr th:only-of-type {\n",
       "        vertical-align: middle;\n",
       "    }\n",
       "\n",
       "    .dataframe tbody tr th {\n",
       "        vertical-align: top;\n",
       "    }\n",
       "\n",
       "    .dataframe thead th {\n",
       "        text-align: right;\n",
       "    }\n",
       "</style>\n",
       "<table border=\"1\" class=\"dataframe\">\n",
       "  <thead>\n",
       "    <tr style=\"text-align: right;\">\n",
       "      <th></th>\n",
       "      <th>ROW_ID</th>\n",
       "      <th>SUBJECT_ID</th>\n",
       "      <th>GENDER</th>\n",
       "      <th>DOB</th>\n",
       "      <th>DOD</th>\n",
       "      <th>DOD_HOSP</th>\n",
       "      <th>DOD_SSN</th>\n",
       "      <th>EXPIRE_FLAG</th>\n",
       "      <th>HADM_ID</th>\n",
       "      <th>ADMITTIME</th>\n",
       "      <th>DISCHTIME</th>\n",
       "      <th>DEATHTIME</th>\n",
       "      <th>ADMISSION_TYPE</th>\n",
       "      <th>INSURANCE</th>\n",
       "      <th>ETHNICITY</th>\n",
       "      <th>DIAGNOSIS</th>\n",
       "      <th>HOSPITAL_EXPIRE_FLAG</th>\n",
       "      <th>HAS_CHARTEVENTS_DATA</th>\n",
       "    </tr>\n",
       "  </thead>\n",
       "  <tbody>\n",
       "    <tr>\n",
       "      <th>0</th>\n",
       "      <td>234</td>\n",
       "      <td>249</td>\n",
       "      <td>F</td>\n",
       "      <td>2075-03-13 00:00:00</td>\n",
       "      <td>NaN</td>\n",
       "      <td>NaN</td>\n",
       "      <td>NaN</td>\n",
       "      <td>0</td>\n",
       "      <td>116935</td>\n",
       "      <td>2149-12-17 20:41:00</td>\n",
       "      <td>2149-12-31 14:55:00</td>\n",
       "      <td>NaN</td>\n",
       "      <td>EMERGENCY</td>\n",
       "      <td>Medicare</td>\n",
       "      <td>WHITE</td>\n",
       "      <td>UNSTABLE ANGINA;ASTHMA;BRONCHITIS</td>\n",
       "      <td>0</td>\n",
       "      <td>1</td>\n",
       "    </tr>\n",
       "    <tr>\n",
       "      <th>1</th>\n",
       "      <td>234</td>\n",
       "      <td>249</td>\n",
       "      <td>F</td>\n",
       "      <td>2075-03-13 00:00:00</td>\n",
       "      <td>NaN</td>\n",
       "      <td>NaN</td>\n",
       "      <td>NaN</td>\n",
       "      <td>0</td>\n",
       "      <td>149546</td>\n",
       "      <td>2155-02-03 20:16:00</td>\n",
       "      <td>2155-02-14 11:15:00</td>\n",
       "      <td>NaN</td>\n",
       "      <td>EMERGENCY</td>\n",
       "      <td>Medicare</td>\n",
       "      <td>WHITE</td>\n",
       "      <td>GI BLEED/ CHEST PAIN</td>\n",
       "      <td>0</td>\n",
       "      <td>1</td>\n",
       "    </tr>\n",
       "    <tr>\n",
       "      <th>2</th>\n",
       "      <td>234</td>\n",
       "      <td>249</td>\n",
       "      <td>F</td>\n",
       "      <td>2075-03-13 00:00:00</td>\n",
       "      <td>NaN</td>\n",
       "      <td>NaN</td>\n",
       "      <td>NaN</td>\n",
       "      <td>0</td>\n",
       "      <td>158975</td>\n",
       "      <td>2156-04-27 15:33:00</td>\n",
       "      <td>2156-05-14 15:30:00</td>\n",
       "      <td>NaN</td>\n",
       "      <td>EMERGENCY</td>\n",
       "      <td>Medicare</td>\n",
       "      <td>WHITE</td>\n",
       "      <td>GI BLEEDING\\COLONOSCOPY</td>\n",
       "      <td>0</td>\n",
       "      <td>1</td>\n",
       "    </tr>\n",
       "    <tr>\n",
       "      <th>3</th>\n",
       "      <td>235</td>\n",
       "      <td>250</td>\n",
       "      <td>F</td>\n",
       "      <td>2164-12-27 00:00:00</td>\n",
       "      <td>2188-11-22 00:00:00</td>\n",
       "      <td>2188-11-22 00:00:00</td>\n",
       "      <td>NaN</td>\n",
       "      <td>1</td>\n",
       "      <td>124271</td>\n",
       "      <td>2188-11-12 09:22:00</td>\n",
       "      <td>2188-11-22 12:00:00</td>\n",
       "      <td>2188-11-22 12:00:00</td>\n",
       "      <td>EMERGENCY</td>\n",
       "      <td>Self Pay</td>\n",
       "      <td>BLACK/AFRICAN AMERICAN</td>\n",
       "      <td>PNEUMONIA;R/O TB</td>\n",
       "      <td>1</td>\n",
       "      <td>1</td>\n",
       "    </tr>\n",
       "    <tr>\n",
       "      <th>4</th>\n",
       "      <td>236</td>\n",
       "      <td>251</td>\n",
       "      <td>M</td>\n",
       "      <td>2090-03-15 00:00:00</td>\n",
       "      <td>NaN</td>\n",
       "      <td>NaN</td>\n",
       "      <td>NaN</td>\n",
       "      <td>0</td>\n",
       "      <td>117937</td>\n",
       "      <td>2110-07-27 06:46:00</td>\n",
       "      <td>2110-07-29 15:23:00</td>\n",
       "      <td>NaN</td>\n",
       "      <td>EMERGENCY</td>\n",
       "      <td>Private</td>\n",
       "      <td>UNKNOWN/NOT SPECIFIED</td>\n",
       "      <td>INTRACRANIAL HEAD BLEED</td>\n",
       "      <td>0</td>\n",
       "      <td>1</td>\n",
       "    </tr>\n",
       "  </tbody>\n",
       "</table>\n",
       "</div>"
      ],
      "text/plain": [
       "   ROW_ID  SUBJECT_ID GENDER                  DOB                  DOD  \\\n",
       "0     234         249      F  2075-03-13 00:00:00                  NaN   \n",
       "1     234         249      F  2075-03-13 00:00:00                  NaN   \n",
       "2     234         249      F  2075-03-13 00:00:00                  NaN   \n",
       "3     235         250      F  2164-12-27 00:00:00  2188-11-22 00:00:00   \n",
       "4     236         251      M  2090-03-15 00:00:00                  NaN   \n",
       "\n",
       "              DOD_HOSP DOD_SSN  EXPIRE_FLAG  HADM_ID            ADMITTIME  \\\n",
       "0                  NaN     NaN            0   116935  2149-12-17 20:41:00   \n",
       "1                  NaN     NaN            0   149546  2155-02-03 20:16:00   \n",
       "2                  NaN     NaN            0   158975  2156-04-27 15:33:00   \n",
       "3  2188-11-22 00:00:00     NaN            1   124271  2188-11-12 09:22:00   \n",
       "4                  NaN     NaN            0   117937  2110-07-27 06:46:00   \n",
       "\n",
       "             DISCHTIME            DEATHTIME ADMISSION_TYPE INSURANCE  \\\n",
       "0  2149-12-31 14:55:00                  NaN      EMERGENCY  Medicare   \n",
       "1  2155-02-14 11:15:00                  NaN      EMERGENCY  Medicare   \n",
       "2  2156-05-14 15:30:00                  NaN      EMERGENCY  Medicare   \n",
       "3  2188-11-22 12:00:00  2188-11-22 12:00:00      EMERGENCY  Self Pay   \n",
       "4  2110-07-29 15:23:00                  NaN      EMERGENCY   Private   \n",
       "\n",
       "                ETHNICITY                          DIAGNOSIS  \\\n",
       "0                   WHITE  UNSTABLE ANGINA;ASTHMA;BRONCHITIS   \n",
       "1                   WHITE               GI BLEED/ CHEST PAIN   \n",
       "2                   WHITE            GI BLEEDING\\COLONOSCOPY   \n",
       "3  BLACK/AFRICAN AMERICAN                   PNEUMONIA;R/O TB   \n",
       "4   UNKNOWN/NOT SPECIFIED            INTRACRANIAL HEAD BLEED   \n",
       "\n",
       "   HOSPITAL_EXPIRE_FLAG  HAS_CHARTEVENTS_DATA  \n",
       "0                     0                     1  \n",
       "1                     0                     1  \n",
       "2                     0                     1  \n",
       "3                     1                     1  \n",
       "4                     0                     1  "
      ]
     },
     "execution_count": 5,
     "metadata": {},
     "output_type": "execute_result"
    }
   ],
   "source": [
    "admissions=admissions.drop(['ROW_ID', 'ADMISSION_LOCATION', 'DISCHARGE_LOCATION', 'LANGUAGE', \n",
    "                        'RELIGION', 'MARITAL_STATUS', 'EDREGTIME', 'EDOUTTIME'], axis=1)\n",
    "admissions=pd.merge(patients, admissions, on=['SUBJECT_ID'])\n",
    "print(admissions.shape)\n",
    "print('unique SUBJECT_ID:', admissions.SUBJECT_ID.nunique())\n",
    "print('unique HADM_ID   :', admissions.HADM_ID.nunique())\n",
    "admissions.head()"
   ]
  },
  {
   "cell_type": "code",
   "execution_count": 6,
   "metadata": {},
   "outputs": [
    {
     "name": "stdout",
     "output_type": "stream",
     "text": [
      "(61532, 12)\n",
      "unique SUBJECT_ID: 46476\n",
      "unique HADM_ID   : 57786\n",
      "unique ICUSTAY_ID: 61532\n"
     ]
    },
    {
     "data": {
      "text/html": [
       "<div>\n",
       "<style scoped>\n",
       "    .dataframe tbody tr th:only-of-type {\n",
       "        vertical-align: middle;\n",
       "    }\n",
       "\n",
       "    .dataframe tbody tr th {\n",
       "        vertical-align: top;\n",
       "    }\n",
       "\n",
       "    .dataframe thead th {\n",
       "        text-align: right;\n",
       "    }\n",
       "</style>\n",
       "<table border=\"1\" class=\"dataframe\">\n",
       "  <thead>\n",
       "    <tr style=\"text-align: right;\">\n",
       "      <th></th>\n",
       "      <th>ROW_ID</th>\n",
       "      <th>SUBJECT_ID</th>\n",
       "      <th>HADM_ID</th>\n",
       "      <th>ICUSTAY_ID</th>\n",
       "      <th>DBSOURCE</th>\n",
       "      <th>FIRST_CAREUNIT</th>\n",
       "      <th>LAST_CAREUNIT</th>\n",
       "      <th>FIRST_WARDID</th>\n",
       "      <th>LAST_WARDID</th>\n",
       "      <th>INTIME</th>\n",
       "      <th>OUTTIME</th>\n",
       "      <th>LOS</th>\n",
       "    </tr>\n",
       "  </thead>\n",
       "  <tbody>\n",
       "    <tr>\n",
       "      <th>0</th>\n",
       "      <td>365</td>\n",
       "      <td>268</td>\n",
       "      <td>110404</td>\n",
       "      <td>280836</td>\n",
       "      <td>carevue</td>\n",
       "      <td>MICU</td>\n",
       "      <td>MICU</td>\n",
       "      <td>52</td>\n",
       "      <td>52</td>\n",
       "      <td>2198-02-14 23:27:38</td>\n",
       "      <td>2198-02-18 05:26:11</td>\n",
       "      <td>3.2490</td>\n",
       "    </tr>\n",
       "    <tr>\n",
       "      <th>1</th>\n",
       "      <td>366</td>\n",
       "      <td>269</td>\n",
       "      <td>106296</td>\n",
       "      <td>206613</td>\n",
       "      <td>carevue</td>\n",
       "      <td>MICU</td>\n",
       "      <td>MICU</td>\n",
       "      <td>52</td>\n",
       "      <td>52</td>\n",
       "      <td>2170-11-05 11:05:29</td>\n",
       "      <td>2170-11-08 17:46:57</td>\n",
       "      <td>3.2788</td>\n",
       "    </tr>\n",
       "    <tr>\n",
       "      <th>2</th>\n",
       "      <td>367</td>\n",
       "      <td>270</td>\n",
       "      <td>188028</td>\n",
       "      <td>220345</td>\n",
       "      <td>carevue</td>\n",
       "      <td>CCU</td>\n",
       "      <td>CCU</td>\n",
       "      <td>57</td>\n",
       "      <td>57</td>\n",
       "      <td>2128-06-24 15:05:20</td>\n",
       "      <td>2128-06-27 12:32:29</td>\n",
       "      <td>2.8939</td>\n",
       "    </tr>\n",
       "    <tr>\n",
       "      <th>3</th>\n",
       "      <td>368</td>\n",
       "      <td>271</td>\n",
       "      <td>173727</td>\n",
       "      <td>249196</td>\n",
       "      <td>carevue</td>\n",
       "      <td>MICU</td>\n",
       "      <td>SICU</td>\n",
       "      <td>52</td>\n",
       "      <td>23</td>\n",
       "      <td>2120-08-07 23:12:42</td>\n",
       "      <td>2120-08-10 00:39:04</td>\n",
       "      <td>2.0600</td>\n",
       "    </tr>\n",
       "    <tr>\n",
       "      <th>4</th>\n",
       "      <td>369</td>\n",
       "      <td>272</td>\n",
       "      <td>164716</td>\n",
       "      <td>210407</td>\n",
       "      <td>carevue</td>\n",
       "      <td>CCU</td>\n",
       "      <td>CCU</td>\n",
       "      <td>57</td>\n",
       "      <td>57</td>\n",
       "      <td>2186-12-25 21:08:04</td>\n",
       "      <td>2186-12-27 12:01:13</td>\n",
       "      <td>1.6202</td>\n",
       "    </tr>\n",
       "  </tbody>\n",
       "</table>\n",
       "</div>"
      ],
      "text/plain": [
       "   ROW_ID  SUBJECT_ID  HADM_ID  ICUSTAY_ID DBSOURCE FIRST_CAREUNIT  \\\n",
       "0     365         268   110404      280836  carevue           MICU   \n",
       "1     366         269   106296      206613  carevue           MICU   \n",
       "2     367         270   188028      220345  carevue            CCU   \n",
       "3     368         271   173727      249196  carevue           MICU   \n",
       "4     369         272   164716      210407  carevue            CCU   \n",
       "\n",
       "  LAST_CAREUNIT  FIRST_WARDID  LAST_WARDID               INTIME  \\\n",
       "0          MICU            52           52  2198-02-14 23:27:38   \n",
       "1          MICU            52           52  2170-11-05 11:05:29   \n",
       "2           CCU            57           57  2128-06-24 15:05:20   \n",
       "3          SICU            52           23  2120-08-07 23:12:42   \n",
       "4           CCU            57           57  2186-12-25 21:08:04   \n",
       "\n",
       "               OUTTIME     LOS  \n",
       "0  2198-02-18 05:26:11  3.2490  \n",
       "1  2170-11-08 17:46:57  3.2788  \n",
       "2  2128-06-27 12:32:29  2.8939  \n",
       "3  2120-08-10 00:39:04  2.0600  \n",
       "4  2186-12-27 12:01:13  1.6202  "
      ]
     },
     "execution_count": 6,
     "metadata": {},
     "output_type": "execute_result"
    }
   ],
   "source": [
    "icustays=pd.read_csv('/data/mimic/ICUSTAYS.csv')\n",
    "print(icustays.shape)\n",
    "print('unique SUBJECT_ID:', icustays.SUBJECT_ID.nunique())\n",
    "print('unique HADM_ID   :', icustays.HADM_ID.nunique())\n",
    "print('unique ICUSTAY_ID:', icustays.ICUSTAY_ID.nunique())\n",
    "icustays.head()"
   ]
  },
  {
   "cell_type": "code",
   "execution_count": 7,
   "metadata": {},
   "outputs": [
    {
     "name": "stdout",
     "output_type": "stream",
     "text": [
      "(61532, 25)\n",
      "unique SUBJECT_ID: 46476\n",
      "unique HADM_ID   : 57786\n",
      "unique ICUSTAY_ID: 61532\n"
     ]
    },
    {
     "data": {
      "text/html": [
       "<div>\n",
       "<style scoped>\n",
       "    .dataframe tbody tr th:only-of-type {\n",
       "        vertical-align: middle;\n",
       "    }\n",
       "\n",
       "    .dataframe tbody tr th {\n",
       "        vertical-align: top;\n",
       "    }\n",
       "\n",
       "    .dataframe thead th {\n",
       "        text-align: right;\n",
       "    }\n",
       "</style>\n",
       "<table border=\"1\" class=\"dataframe\">\n",
       "  <thead>\n",
       "    <tr style=\"text-align: right;\">\n",
       "      <th></th>\n",
       "      <th>ROW_ID</th>\n",
       "      <th>SUBJECT_ID</th>\n",
       "      <th>GENDER</th>\n",
       "      <th>DOB</th>\n",
       "      <th>DOD</th>\n",
       "      <th>DOD_HOSP</th>\n",
       "      <th>DOD_SSN</th>\n",
       "      <th>EXPIRE_FLAG</th>\n",
       "      <th>HADM_ID</th>\n",
       "      <th>ADMITTIME</th>\n",
       "      <th>...</th>\n",
       "      <th>DIAGNOSIS</th>\n",
       "      <th>HOSPITAL_EXPIRE_FLAG</th>\n",
       "      <th>HAS_CHARTEVENTS_DATA</th>\n",
       "      <th>ICUSTAY_ID</th>\n",
       "      <th>DBSOURCE</th>\n",
       "      <th>FIRST_CAREUNIT</th>\n",
       "      <th>FIRST_WARDID</th>\n",
       "      <th>INTIME</th>\n",
       "      <th>OUTTIME</th>\n",
       "      <th>LOS</th>\n",
       "    </tr>\n",
       "  </thead>\n",
       "  <tbody>\n",
       "    <tr>\n",
       "      <th>0</th>\n",
       "      <td>234</td>\n",
       "      <td>249</td>\n",
       "      <td>F</td>\n",
       "      <td>2075-03-13 00:00:00</td>\n",
       "      <td>NaN</td>\n",
       "      <td>NaN</td>\n",
       "      <td>NaN</td>\n",
       "      <td>0</td>\n",
       "      <td>116935</td>\n",
       "      <td>2149-12-17 20:41:00</td>\n",
       "      <td>...</td>\n",
       "      <td>UNSTABLE ANGINA;ASTHMA;BRONCHITIS</td>\n",
       "      <td>0</td>\n",
       "      <td>1</td>\n",
       "      <td>215044</td>\n",
       "      <td>carevue</td>\n",
       "      <td>TSICU</td>\n",
       "      <td>23</td>\n",
       "      <td>2149-12-18 20:06:02</td>\n",
       "      <td>2149-12-24 13:31:45</td>\n",
       "      <td>5.7262</td>\n",
       "    </tr>\n",
       "    <tr>\n",
       "      <th>1</th>\n",
       "      <td>234</td>\n",
       "      <td>249</td>\n",
       "      <td>F</td>\n",
       "      <td>2075-03-13 00:00:00</td>\n",
       "      <td>NaN</td>\n",
       "      <td>NaN</td>\n",
       "      <td>NaN</td>\n",
       "      <td>0</td>\n",
       "      <td>149546</td>\n",
       "      <td>2155-02-03 20:16:00</td>\n",
       "      <td>...</td>\n",
       "      <td>GI BLEED/ CHEST PAIN</td>\n",
       "      <td>0</td>\n",
       "      <td>1</td>\n",
       "      <td>269035</td>\n",
       "      <td>metavision</td>\n",
       "      <td>MICU</td>\n",
       "      <td>50</td>\n",
       "      <td>2155-02-03 20:17:29</td>\n",
       "      <td>2155-02-05 18:34:02</td>\n",
       "      <td>1.9282</td>\n",
       "    </tr>\n",
       "    <tr>\n",
       "      <th>2</th>\n",
       "      <td>234</td>\n",
       "      <td>249</td>\n",
       "      <td>F</td>\n",
       "      <td>2075-03-13 00:00:00</td>\n",
       "      <td>NaN</td>\n",
       "      <td>NaN</td>\n",
       "      <td>NaN</td>\n",
       "      <td>0</td>\n",
       "      <td>149546</td>\n",
       "      <td>2155-02-03 20:16:00</td>\n",
       "      <td>...</td>\n",
       "      <td>GI BLEED/ CHEST PAIN</td>\n",
       "      <td>0</td>\n",
       "      <td>1</td>\n",
       "      <td>263055</td>\n",
       "      <td>metavision</td>\n",
       "      <td>TSICU</td>\n",
       "      <td>14</td>\n",
       "      <td>2155-02-07 18:51:16</td>\n",
       "      <td>2155-02-11 16:00:39</td>\n",
       "      <td>3.8815</td>\n",
       "    </tr>\n",
       "    <tr>\n",
       "      <th>3</th>\n",
       "      <td>234</td>\n",
       "      <td>249</td>\n",
       "      <td>F</td>\n",
       "      <td>2075-03-13 00:00:00</td>\n",
       "      <td>NaN</td>\n",
       "      <td>NaN</td>\n",
       "      <td>NaN</td>\n",
       "      <td>0</td>\n",
       "      <td>158975</td>\n",
       "      <td>2156-04-27 15:33:00</td>\n",
       "      <td>...</td>\n",
       "      <td>GI BLEEDING\\COLONOSCOPY</td>\n",
       "      <td>0</td>\n",
       "      <td>1</td>\n",
       "      <td>282599</td>\n",
       "      <td>metavision</td>\n",
       "      <td>MICU</td>\n",
       "      <td>52</td>\n",
       "      <td>2156-05-01 18:10:12</td>\n",
       "      <td>2156-05-03 18:43:45</td>\n",
       "      <td>2.0233</td>\n",
       "    </tr>\n",
       "    <tr>\n",
       "      <th>4</th>\n",
       "      <td>234</td>\n",
       "      <td>249</td>\n",
       "      <td>F</td>\n",
       "      <td>2075-03-13 00:00:00</td>\n",
       "      <td>NaN</td>\n",
       "      <td>NaN</td>\n",
       "      <td>NaN</td>\n",
       "      <td>0</td>\n",
       "      <td>158975</td>\n",
       "      <td>2156-04-27 15:33:00</td>\n",
       "      <td>...</td>\n",
       "      <td>GI BLEEDING\\COLONOSCOPY</td>\n",
       "      <td>0</td>\n",
       "      <td>1</td>\n",
       "      <td>263882</td>\n",
       "      <td>metavision</td>\n",
       "      <td>MICU</td>\n",
       "      <td>52</td>\n",
       "      <td>2156-05-10 17:47:35</td>\n",
       "      <td>2156-05-11 19:16:03</td>\n",
       "      <td>1.0614</td>\n",
       "    </tr>\n",
       "  </tbody>\n",
       "</table>\n",
       "<p>5 rows × 25 columns</p>\n",
       "</div>"
      ],
      "text/plain": [
       "   ROW_ID  SUBJECT_ID GENDER                  DOB  DOD DOD_HOSP DOD_SSN  \\\n",
       "0     234         249      F  2075-03-13 00:00:00  NaN      NaN     NaN   \n",
       "1     234         249      F  2075-03-13 00:00:00  NaN      NaN     NaN   \n",
       "2     234         249      F  2075-03-13 00:00:00  NaN      NaN     NaN   \n",
       "3     234         249      F  2075-03-13 00:00:00  NaN      NaN     NaN   \n",
       "4     234         249      F  2075-03-13 00:00:00  NaN      NaN     NaN   \n",
       "\n",
       "   EXPIRE_FLAG  HADM_ID            ADMITTIME  ...  \\\n",
       "0            0   116935  2149-12-17 20:41:00  ...   \n",
       "1            0   149546  2155-02-03 20:16:00  ...   \n",
       "2            0   149546  2155-02-03 20:16:00  ...   \n",
       "3            0   158975  2156-04-27 15:33:00  ...   \n",
       "4            0   158975  2156-04-27 15:33:00  ...   \n",
       "\n",
       "                           DIAGNOSIS HOSPITAL_EXPIRE_FLAG  \\\n",
       "0  UNSTABLE ANGINA;ASTHMA;BRONCHITIS                    0   \n",
       "1               GI BLEED/ CHEST PAIN                    0   \n",
       "2               GI BLEED/ CHEST PAIN                    0   \n",
       "3            GI BLEEDING\\COLONOSCOPY                    0   \n",
       "4            GI BLEEDING\\COLONOSCOPY                    0   \n",
       "\n",
       "  HAS_CHARTEVENTS_DATA ICUSTAY_ID    DBSOURCE FIRST_CAREUNIT  FIRST_WARDID  \\\n",
       "0                    1     215044     carevue          TSICU            23   \n",
       "1                    1     269035  metavision           MICU            50   \n",
       "2                    1     263055  metavision          TSICU            14   \n",
       "3                    1     282599  metavision           MICU            52   \n",
       "4                    1     263882  metavision           MICU            52   \n",
       "\n",
       "                INTIME              OUTTIME     LOS  \n",
       "0  2149-12-18 20:06:02  2149-12-24 13:31:45  5.7262  \n",
       "1  2155-02-03 20:17:29  2155-02-05 18:34:02  1.9282  \n",
       "2  2155-02-07 18:51:16  2155-02-11 16:00:39  3.8815  \n",
       "3  2156-05-01 18:10:12  2156-05-03 18:43:45  2.0233  \n",
       "4  2156-05-10 17:47:35  2156-05-11 19:16:03  1.0614  \n",
       "\n",
       "[5 rows x 25 columns]"
      ]
     },
     "execution_count": 7,
     "metadata": {},
     "output_type": "execute_result"
    }
   ],
   "source": [
    "icustays=icustays.drop(['ROW_ID', 'LAST_CAREUNIT', 'LAST_WARDID'], axis=1)\n",
    "admissions=pd.merge(admissions, icustays, on=['SUBJECT_ID', 'HADM_ID'])\n",
    "print(admissions.shape)\n",
    "print('unique SUBJECT_ID:', admissions.SUBJECT_ID.nunique())\n",
    "print('unique HADM_ID   :', admissions.HADM_ID.nunique())\n",
    "print('unique ICUSTAY_ID:', admissions.ICUSTAY_ID.nunique())\n",
    "admissions.head()"
   ]
  },
  {
   "cell_type": "code",
   "execution_count": 8,
   "metadata": {},
   "outputs": [],
   "source": [
    "#Drop unnecessary columns\n",
    "admissions=admissions.drop(['INSURANCE','ETHNICITY'], axis=1)\n",
    "admissions=admissions.drop(['DOD_HOSP', 'DOD_SSN', 'EXPIRE_FLAG','DIAGNOSIS','HOSPITAL_EXPIRE_FLAG','HAS_CHARTEVENTS_DATA','FIRST_CAREUNIT','FIRST_WARDID'], axis=1)\n",
    "admissions=admissions.drop(['ROW_ID','GENDER','DBSOURCE'], axis=1)"
   ]
  },
  {
   "cell_type": "code",
   "execution_count": 9,
   "metadata": {},
   "outputs": [],
   "source": [
    "#we compute the age at the time the patient is admitted to the ICU from date of birth dob, then we drop dob.\n",
    "admissions['DOB'] = pd.to_datetime(admissions['DOB']).dt.date\n",
    "admissions['INTIME_TMP'] = pd.to_datetime(admissions['INTIME']).dt.date\n",
    "admissions['AGE'] = admissions.apply(lambda e: (e['INTIME_TMP'] - e['DOB']).days/365, axis=1)\n",
    "admissions=admissions.drop(['DOB'], axis=1)\n",
    "admissions=admissions.drop(['INTIME_TMP'], axis=1)"
   ]
  },
  {
   "cell_type": "code",
   "execution_count": 10,
   "metadata": {},
   "outputs": [
    {
     "name": "stdout",
     "output_type": "stream",
     "text": [
      "(53332, 12)\n",
      "unique SUBJECT_ID: 38512\n",
      "unique HADM_ID   : 49695\n",
      "unique ICUSTAY_ID: 53332\n"
     ]
    }
   ],
   "source": [
    "#Excluir admissions < 18 years old, ya que tendran medidas fisiológicas distintas de las de los adultos \n",
    "admissions = admissions[~(admissions['AGE'] < 18)]\n",
    "print(admissions.shape)\n",
    "print('unique SUBJECT_ID:', admissions.SUBJECT_ID.nunique())\n",
    "print('unique HADM_ID   :', admissions.HADM_ID.nunique())\n",
    "print('unique ICUSTAY_ID:', admissions.ICUSTAY_ID.nunique())"
   ]
  },
  {
   "cell_type": "code",
   "execution_count": 11,
   "metadata": {},
   "outputs": [],
   "source": [
    "#we compute the  Pre-ICU length of stay in hours. \n",
    "prelos_tmp= pd.to_datetime(admissions['INTIME'])-pd.to_datetime(admissions['ADMITTIME'])\n",
    "admissions['PRELOS']=np.round(prelos_tmp.dt.total_seconds()/3600, 1)\n",
    "admissions['PRELOS']=np.where(admissions['PRELOS']<0,0,admissions['PRELOS'])\n",
    "#OBS:hours, (hay filas que salen negativos, error de introducir admittime y intime)"
   ]
  },
  {
   "cell_type": "code",
   "execution_count": 12,
   "metadata": {},
   "outputs": [
    {
     "data": {
      "text/plain": [
       "2721"
      ]
     },
     "execution_count": 12,
     "metadata": {},
     "output_type": "execute_result"
    }
   ],
   "source": [
    "older89=len(admissions[(admissions['AGE']>=300)])\n",
    "older89"
   ]
  },
  {
   "cell_type": "code",
   "execution_count": 13,
   "metadata": {},
   "outputs": [
    {
     "data": {
      "text/plain": [
       "(53332, 13)"
      ]
     },
     "execution_count": 13,
     "metadata": {},
     "output_type": "execute_result"
    }
   ],
   "source": [
    "admissions['AGE']=admissions['AGE'].apply(lambda x: np.random.triangular(89.01, 89.01, 100) if x >= 300 else x)\n",
    "admissions.shape"
   ]
  },
  {
   "cell_type": "code",
   "execution_count": 14,
   "metadata": {},
   "outputs": [],
   "source": [
    "admissions['DOD'] = pd.to_datetime(admissions['DOD'])\n",
    "admissions['ADMITTIME'] = pd.to_datetime(admissions['ADMITTIME'])\n",
    "admissions['DISCHTIME'] = pd.to_datetime(admissions['DISCHTIME'])\n",
    "admissions['DEATHTIME'] = pd.to_datetime(admissions['DEATHTIME'])\n",
    "admissions['MORTALITY_INHOSPITAL'] = admissions['DOD'].notnull() & ((admissions['ADMITTIME'] <= admissions['DOD']) & (admissions['DISCHTIME'] >= admissions['DOD']))\n",
    "admissions['MORTALITY_INHOSPITAL'] = admissions['MORTALITY_INHOSPITAL'] | (admissions['DEATHTIME'].notnull() & ((admissions['ADMITTIME'] <= admissions['DEATHTIME']) & (admissions['DISCHTIME'] >= admissions['DEATHTIME'])))\n",
    "admissions['MORTALITY_INHOSPITAL'] = admissions['MORTALITY_INHOSPITAL'].astype(int)"
   ]
  },
  {
   "cell_type": "code",
   "execution_count": 15,
   "metadata": {},
   "outputs": [
    {
     "data": {
      "text/plain": [
       "0    46816\n",
       "1     6516\n",
       "Name: MORTALITY_INHOSPITAL, dtype: int64"
      ]
     },
     "execution_count": 15,
     "metadata": {},
     "output_type": "execute_result"
    }
   ],
   "source": [
    "admissions['MORTALITY_INHOSPITAL'].value_counts()"
   ]
  },
  {
   "cell_type": "code",
   "execution_count": 16,
   "metadata": {},
   "outputs": [],
   "source": [
    "#admissions['INTIME'] = pd.to_datetime(admissions['INTIME'])\n",
    "#admissions['OUTTIME'] = pd.to_datetime(admissions['OUTTIME'])\n",
    "#admissions['MORTALITY_INUNIT'] = admissions['DOD'].notnull() & ((admissions['INTIME'] <= admissions['DOD']) & (admissions['OUTTIME'] >= admissions['DOD']))\n",
    "#admissions['MORTALITY_INUNIT'] = admissions['MORTALITY_INUNIT'] | (admissions['DEATHTIME'].notnull() & ((admissions['INTIME'] <= admissions['DEATHTIME']) & (admissions['OUTTIME'] >= admissions['DEATHTIME'])))\n",
    "#admissions['MORTALITY_INUNIT'] = admissions['MORTALITY_INUNIT'].astype(int)\n",
    "#admissions['MORTALITY_INUNIT'].value_counts()\n"
   ]
  },
  {
   "cell_type": "code",
   "execution_count": 17,
   "metadata": {},
   "outputs": [
    {
     "data": {
      "text/html": [
       "<div>\n",
       "<style scoped>\n",
       "    .dataframe tbody tr th:only-of-type {\n",
       "        vertical-align: middle;\n",
       "    }\n",
       "\n",
       "    .dataframe tbody tr th {\n",
       "        vertical-align: top;\n",
       "    }\n",
       "\n",
       "    .dataframe thead th {\n",
       "        text-align: right;\n",
       "    }\n",
       "</style>\n",
       "<table border=\"1\" class=\"dataframe\">\n",
       "  <thead>\n",
       "    <tr style=\"text-align: right;\">\n",
       "      <th></th>\n",
       "      <th>SUBJECT_ID</th>\n",
       "      <th>DOD</th>\n",
       "      <th>HADM_ID</th>\n",
       "      <th>ADMITTIME</th>\n",
       "      <th>DISCHTIME</th>\n",
       "      <th>DEATHTIME</th>\n",
       "      <th>ADMISSION_TYPE</th>\n",
       "      <th>ICUSTAY_ID</th>\n",
       "      <th>INTIME</th>\n",
       "      <th>OUTTIME</th>\n",
       "      <th>LOS</th>\n",
       "      <th>AGE</th>\n",
       "      <th>PRELOS</th>\n",
       "      <th>MORTALITY_INHOSPITAL</th>\n",
       "    </tr>\n",
       "  </thead>\n",
       "  <tbody>\n",
       "    <tr>\n",
       "      <th>0</th>\n",
       "      <td>249</td>\n",
       "      <td>NaT</td>\n",
       "      <td>116935</td>\n",
       "      <td>2149-12-17 20:41:00</td>\n",
       "      <td>2149-12-31 14:55:00</td>\n",
       "      <td>NaT</td>\n",
       "      <td>EMERGENCY</td>\n",
       "      <td>215044</td>\n",
       "      <td>2149-12-18 20:06:02</td>\n",
       "      <td>2149-12-24 13:31:45</td>\n",
       "      <td>5.7262</td>\n",
       "      <td>74.816438</td>\n",
       "      <td>23.4</td>\n",
       "      <td>0</td>\n",
       "    </tr>\n",
       "    <tr>\n",
       "      <th>1</th>\n",
       "      <td>249</td>\n",
       "      <td>NaT</td>\n",
       "      <td>149546</td>\n",
       "      <td>2155-02-03 20:16:00</td>\n",
       "      <td>2155-02-14 11:15:00</td>\n",
       "      <td>NaT</td>\n",
       "      <td>EMERGENCY</td>\n",
       "      <td>269035</td>\n",
       "      <td>2155-02-03 20:17:29</td>\n",
       "      <td>2155-02-05 18:34:02</td>\n",
       "      <td>1.9282</td>\n",
       "      <td>79.947945</td>\n",
       "      <td>0.0</td>\n",
       "      <td>0</td>\n",
       "    </tr>\n",
       "    <tr>\n",
       "      <th>2</th>\n",
       "      <td>249</td>\n",
       "      <td>NaT</td>\n",
       "      <td>149546</td>\n",
       "      <td>2155-02-03 20:16:00</td>\n",
       "      <td>2155-02-14 11:15:00</td>\n",
       "      <td>NaT</td>\n",
       "      <td>EMERGENCY</td>\n",
       "      <td>263055</td>\n",
       "      <td>2155-02-07 18:51:16</td>\n",
       "      <td>2155-02-11 16:00:39</td>\n",
       "      <td>3.8815</td>\n",
       "      <td>79.958904</td>\n",
       "      <td>94.6</td>\n",
       "      <td>0</td>\n",
       "    </tr>\n",
       "    <tr>\n",
       "      <th>3</th>\n",
       "      <td>249</td>\n",
       "      <td>NaT</td>\n",
       "      <td>158975</td>\n",
       "      <td>2156-04-27 15:33:00</td>\n",
       "      <td>2156-05-14 15:30:00</td>\n",
       "      <td>NaT</td>\n",
       "      <td>EMERGENCY</td>\n",
       "      <td>282599</td>\n",
       "      <td>2156-05-01 18:10:12</td>\n",
       "      <td>2156-05-03 18:43:45</td>\n",
       "      <td>2.0233</td>\n",
       "      <td>81.189041</td>\n",
       "      <td>98.6</td>\n",
       "      <td>0</td>\n",
       "    </tr>\n",
       "    <tr>\n",
       "      <th>4</th>\n",
       "      <td>249</td>\n",
       "      <td>NaT</td>\n",
       "      <td>158975</td>\n",
       "      <td>2156-04-27 15:33:00</td>\n",
       "      <td>2156-05-14 15:30:00</td>\n",
       "      <td>NaT</td>\n",
       "      <td>EMERGENCY</td>\n",
       "      <td>263882</td>\n",
       "      <td>2156-05-10 17:47:35</td>\n",
       "      <td>2156-05-11 19:16:03</td>\n",
       "      <td>1.0614</td>\n",
       "      <td>81.213699</td>\n",
       "      <td>314.2</td>\n",
       "      <td>0</td>\n",
       "    </tr>\n",
       "  </tbody>\n",
       "</table>\n",
       "</div>"
      ],
      "text/plain": [
       "   SUBJECT_ID DOD  HADM_ID           ADMITTIME           DISCHTIME DEATHTIME  \\\n",
       "0         249 NaT   116935 2149-12-17 20:41:00 2149-12-31 14:55:00       NaT   \n",
       "1         249 NaT   149546 2155-02-03 20:16:00 2155-02-14 11:15:00       NaT   \n",
       "2         249 NaT   149546 2155-02-03 20:16:00 2155-02-14 11:15:00       NaT   \n",
       "3         249 NaT   158975 2156-04-27 15:33:00 2156-05-14 15:30:00       NaT   \n",
       "4         249 NaT   158975 2156-04-27 15:33:00 2156-05-14 15:30:00       NaT   \n",
       "\n",
       "  ADMISSION_TYPE  ICUSTAY_ID               INTIME              OUTTIME  \\\n",
       "0      EMERGENCY      215044  2149-12-18 20:06:02  2149-12-24 13:31:45   \n",
       "1      EMERGENCY      269035  2155-02-03 20:17:29  2155-02-05 18:34:02   \n",
       "2      EMERGENCY      263055  2155-02-07 18:51:16  2155-02-11 16:00:39   \n",
       "3      EMERGENCY      282599  2156-05-01 18:10:12  2156-05-03 18:43:45   \n",
       "4      EMERGENCY      263882  2156-05-10 17:47:35  2156-05-11 19:16:03   \n",
       "\n",
       "      LOS        AGE  PRELOS  MORTALITY_INHOSPITAL  \n",
       "0  5.7262  74.816438    23.4                     0  \n",
       "1  1.9282  79.947945     0.0                     0  \n",
       "2  3.8815  79.958904    94.6                     0  \n",
       "3  2.0233  81.189041    98.6                     0  \n",
       "4  1.0614  81.213699   314.2                     0  "
      ]
     },
     "execution_count": 17,
     "metadata": {},
     "output_type": "execute_result"
    }
   ],
   "source": [
    "admissions.head(5)"
   ]
  },
  {
   "cell_type": "code",
   "execution_count": 18,
   "metadata": {},
   "outputs": [
    {
     "data": {
      "text/plain": [
       "SUBJECT_ID                  0\n",
       "DOD                     29223\n",
       "HADM_ID                     0\n",
       "ADMITTIME                   0\n",
       "DISCHTIME                   0\n",
       "DEATHTIME               46797\n",
       "ADMISSION_TYPE              0\n",
       "ICUSTAY_ID                  0\n",
       "INTIME                      0\n",
       "OUTTIME                     3\n",
       "LOS                         3\n",
       "AGE                         0\n",
       "PRELOS                      0\n",
       "MORTALITY_INHOSPITAL        0\n",
       "dtype: int64"
      ]
     },
     "execution_count": 18,
     "metadata": {},
     "output_type": "execute_result"
    }
   ],
   "source": [
    "admissions.isnull().sum()"
   ]
  },
  {
   "cell_type": "code",
   "execution_count": 19,
   "metadata": {},
   "outputs": [],
   "source": [
    "output_path = 'timesSeriesv2_cohorte/data/root/'\n",
    "try:\n",
    "    os.makedirs(output_path)\n",
    "except:\n",
    "    pass"
   ]
  },
  {
   "cell_type": "code",
   "execution_count": 20,
   "metadata": {},
   "outputs": [],
   "source": [
    "#Store all valid icustays admissions in all_stays.csv file.\n",
    "admissions.to_csv(os.path.join(output_path, 'all_stays.csv'), index=False)"
   ]
  },
  {
   "cell_type": "markdown",
   "metadata": {},
   "source": [
    "###  Separar cada icustay en carpetas distintas (split and conquer)"
   ]
  },
  {
   "cell_type": "code",
   "execution_count": 21,
   "metadata": {},
   "outputs": [],
   "source": [
    "def break_up_stays(stays, output_path):\n",
    "    nb_stays = stays.shape[0]\n",
    "    stays_ids = stays.ICUSTAY_ID.unique()\n",
    "    for icustay_id in tqdm(stays_ids, total=nb_stays, desc='Breaking up stays'):\n",
    "        dn = os.path.join(output_path, str(icustay_id))\n",
    "        try:\n",
    "            os.makedirs(dn)\n",
    "        except:\n",
    "            pass\n",
    "\n",
    "        stays[stays.ICUSTAY_ID == icustay_id].to_csv(os.path.join(dn, 'stays.csv'),index=False)\n"
   ]
  },
  {
   "cell_type": "code",
   "execution_count": 22,
   "metadata": {},
   "outputs": [
    {
     "name": "stderr",
     "output_type": "stream",
     "text": [
      "Breaking up stays: 100%|█████████████| 53332/53332 [02:41<00:00, 330.19it/s]\n"
     ]
    }
   ],
   "source": [
    "break_up_stays(admissions, output_path)"
   ]
  },
  {
   "cell_type": "markdown",
   "metadata": {},
   "source": [
    "### Extraer las mediciones que nos interesan (temperatura, frecuencia respiratoria, frecuencia cardíaca ...) y distribuirlas por las carpetas(icustay) correspondientes."
   ]
  },
  {
   "cell_type": "code",
   "execution_count": 23,
   "metadata": {},
   "outputs": [
    {
     "data": {
      "text/plain": [
       "'\\nhttps://github.com/MIT-LCP/mimic-code/blob/master/concepts/firstday/gcs_first_day.sql\\n\\n723  Verbal Response\\n454  Motor Response\\n184  Eye Opening\\n198  GCS Total\\n\\n223900 GCS - Verbal Response\\n223901 GCS - Motor Response\\n220739 GCS - Eye Opening\\n\\nhttps://github.com/MIT-LCP/mimic-code/blob/master/concepts/cookbook/temp.sql\\n676 -- Temperature C\\n677 -- Temperature C (calc)\\n678 -- Temperature F\\n679 -- Temperature F (calc)\\n223761 -- Temperature Fahrenheit\\n223762 -- Temperature Celsius\\n\\n\\n#TODO: review ventilation itemIDs\\nhttps://github.com/MIT-LCP/mimic-code/blob/master/concepts/durations/ventilation_classification.sql\\n¿¿226260 Mechanically Ventilated?? \\nSi en chartevents.csv hay 720, 223849 -- Ventilator Mode, 223848 -- Ventilator Type\\nindica que ese ICUSTAY_ID fue ventilated?\\nActual:\\n225792\\tInvasive Ventilation\\n225794\\tNon-invasive Ventilation\\n\\n\\n\\n\\nhttps://github.com/MIT-LCP/mimic-code/blob/master/concepts/firstday/vitals_first_day.sql\\n\\n220045,211  HeartRate\\n\\nMAP:\\n456\\tNBP Mean\\n52 Arterial BP Mean\\n6702 Arterial BP Mean #2\\n443 Manual BP Mean(calc)\\n220052 Arterial Blood Pressure mean\\n220181 Non Invasive Blood Pressure mean\\n225312 ART BP mean\\n\\nRespRate:\\n615 Resp Rate (Total)\\n618 Respiratory Rate\\n220210 Respiratory Rate\\n224690 Respiratory Rate (Total)\\n\\n\\n\\nhttps://github.com/MIT-LCP/mimic-code/blob/master/concepts/firstday/urine_output_first_day.sql\\n#TODO: revisar? ponerlos todos?\\nurine(todo en mL):\\n-- these are the most frequently occurring urine output observations in CareVue\\n40055, -- \"Urine Out Foley\"\\n43175, -- \"Urine .\"  <--- no uso\\n40069, -- \"Urine Out Void\"\\n40094, -- \"Urine Out Condom Cath\"\\n40715, -- \"Urine Out Suprapubic\"\\n40473, -- \"Urine Out IleoConduit\"\\n40085, -- \"Urine Out Incontinent\"\\n40057, -- \"Urine Out Rt Nephrostomy\"\\n40056, -- \"Urine Out Lt Nephrostomy\"\\n40405, -- \"Urine Out Other\"\\n40428, -- \"Urine Out Straight Cath\"\\n40086,--   Urine Out Incontinent\\n40096, -- \"Urine Out Ureteral Stent #1\"\\n40651, -- \"Urine Out Ureteral Stent #2\"\\n\\n-- these are the most frequently occurring urine output observations in MetaVision\\n226559, -- \"Foley\"\\n226560, -- \"Void\"\\n226561, -- \"Condom Cath\"\\n226584, -- \"Ileoconduit\"\\n226563, -- \"Suprapubic\"\\n226564, -- \"R Nephrostomy\"\\n226565, -- \"L Nephrostomy\"\\n226567, --  Straight Cath\\n226557, -- R Ureteral Stent\\n226558, -- L Ureteral Stent\\n\\n'"
      ]
     },
     "execution_count": 23,
     "metadata": {},
     "output_type": "execute_result"
    }
   ],
   "source": [
    "\"\"\"\n",
    "https://github.com/MIT-LCP/mimic-code/blob/master/concepts/firstday/gcs_first_day.sql\n",
    "\n",
    "723  Verbal Response\n",
    "454  Motor Response\n",
    "184  Eye Opening\n",
    "198  GCS Total\n",
    "\n",
    "223900 GCS - Verbal Response\n",
    "223901 GCS - Motor Response\n",
    "220739 GCS - Eye Opening\n",
    "\n",
    "https://github.com/MIT-LCP/mimic-code/blob/master/concepts/cookbook/temp.sql\n",
    "676 -- Temperature C\n",
    "677 -- Temperature C (calc)\n",
    "678 -- Temperature F\n",
    "679 -- Temperature F (calc)\n",
    "223761 -- Temperature Fahrenheit\n",
    "223762 -- Temperature Celsius\n",
    "\n",
    "\n",
    "#TODO: review ventilation itemIDs\n",
    "https://github.com/MIT-LCP/mimic-code/blob/master/concepts/durations/ventilation_classification.sql\n",
    "¿¿226260 Mechanically Ventilated?? \n",
    "Si en chartevents.csv hay 720, 223849 -- Ventilator Mode, 223848 -- Ventilator Type\n",
    "indica que ese ICUSTAY_ID fue ventilated?\n",
    "Actual:\n",
    "225792\tInvasive Ventilation\n",
    "225794\tNon-invasive Ventilation\n",
    "\n",
    "\n",
    "\n",
    "\n",
    "https://github.com/MIT-LCP/mimic-code/blob/master/concepts/firstday/vitals_first_day.sql\n",
    "\n",
    "220045,211  HeartRate\n",
    "\n",
    "MAP:\n",
    "456\tNBP Mean\n",
    "52 Arterial BP Mean\n",
    "6702 Arterial BP Mean #2\n",
    "443 Manual BP Mean(calc)\n",
    "220052 Arterial Blood Pressure mean\n",
    "220181 Non Invasive Blood Pressure mean\n",
    "225312 ART BP mean\n",
    "\n",
    "RespRate:\n",
    "615 Resp Rate (Total)\n",
    "618 Respiratory Rate\n",
    "220210 Respiratory Rate\n",
    "224690 Respiratory Rate (Total)\n",
    "\n",
    "\n",
    "\n",
    "https://github.com/MIT-LCP/mimic-code/blob/master/concepts/firstday/urine_output_first_day.sql\n",
    "#TODO: revisar? ponerlos todos?\n",
    "urine(todo en mL):\n",
    "-- these are the most frequently occurring urine output observations in CareVue\n",
    "40055, -- \"Urine Out Foley\"\n",
    "43175, -- \"Urine .\"  <--- no uso\n",
    "40069, -- \"Urine Out Void\"\n",
    "40094, -- \"Urine Out Condom Cath\"\n",
    "40715, -- \"Urine Out Suprapubic\"\n",
    "40473, -- \"Urine Out IleoConduit\"\n",
    "40085, -- \"Urine Out Incontinent\"\n",
    "40057, -- \"Urine Out Rt Nephrostomy\"\n",
    "40056, -- \"Urine Out Lt Nephrostomy\"\n",
    "40405, -- \"Urine Out Other\"\n",
    "40428, -- \"Urine Out Straight Cath\"\n",
    "40086,--   Urine Out Incontinent\n",
    "40096, -- \"Urine Out Ureteral Stent #1\"\n",
    "40651, -- \"Urine Out Ureteral Stent #2\"\n",
    "\n",
    "-- these are the most frequently occurring urine output observations in MetaVision\n",
    "226559, -- \"Foley\"\n",
    "226560, -- \"Void\"\n",
    "226561, -- \"Condom Cath\"\n",
    "226584, -- \"Ileoconduit\"\n",
    "226563, -- \"Suprapubic\"\n",
    "226564, -- \"R Nephrostomy\"\n",
    "226565, -- \"L Nephrostomy\"\n",
    "226567, --  Straight Cath\n",
    "226557, -- R Ureteral Stent\n",
    "226558, -- L Ureteral Stent\n",
    "\n",
    "\"\"\""
   ]
  },
  {
   "cell_type": "code",
   "execution_count": 24,
   "metadata": {},
   "outputs": [],
   "source": [
    "itemids = [223762,223761,676,677,678,679,220045,211,220210,615,618,220052,220181,225312,456,52,6702,443,220739,184,223901,454,223900,723,198,225792,225794,40055,226559,40069,226560,40094,40715,40473,40085,40057,40056,40405,40428,40086,40096,40651,226561,226584,226563,226564,226565,226567,226557,226558]"
   ]
  },
  {
   "cell_type": "code",
   "execution_count": 25,
   "metadata": {},
   "outputs": [],
   "source": [
    "def read_events_table_by_row(mimic3_path, table):\n",
    "    nb_rows = {'chartevents': 330712484,  'outputevents': 4349219, 'procedureevents_mv': 258067,}\n",
    "    reader = csv.DictReader(open(os.path.join(mimic3_path, table.upper() + '.csv'), 'r'))\n",
    "    for i, row in enumerate(reader):\n",
    "        if 'ICUSTAY_ID' not in row:\n",
    "            row['ICUSTAY_ID'] = ''\n",
    "        yield row, i, nb_rows[table.lower()]\n"
   ]
  },
  {
   "cell_type": "code",
   "execution_count": 26,
   "metadata": {},
   "outputs": [],
   "source": [
    "def read_events_table_and_break_up_by_stays(mimic3_path, table, output_path,\n",
    "                                              items_to_keep=None, stays_to_keep=None):\n",
    "    \n",
    "    if(table == 'PROCEDUREEVENTS_MV'):\n",
    "        obs_header = ['SUBJECT_ID', 'HADM_ID', 'ICUSTAY_ID', 'STARTTIME', 'ITEMID']\n",
    "    \n",
    "    elif(table == 'OUTPUTEVENTS'):\n",
    "        obs_header = ['SUBJECT_ID', 'HADM_ID', 'ICUSTAY_ID', 'CHARTTIME', 'ITEMID', 'VALUE','VALUEUOM','ISERROR']\n",
    "    \n",
    "    else:\n",
    "        obs_header = ['SUBJECT_ID', 'HADM_ID', 'ICUSTAY_ID', 'CHARTTIME', 'ITEMID', 'VALUE', 'VALUENUM','VALUEUOM','ERROR']\n",
    "\n",
    "    \n",
    "    if items_to_keep is not None:\n",
    "        items_to_keep = set([str(s) for s in items_to_keep])\n",
    "\n",
    "    if stays_to_keep is not None:\n",
    "        stays_to_keep = set([str(s) for s in stays_to_keep])\n",
    "        \n",
    "    class DataStats(object):\n",
    "        def __init__(self):\n",
    "            self.curr_icustay_id = ''\n",
    "            self.curr_obs = []\n",
    "\n",
    "    data_stats = DataStats()\n",
    "\n",
    "    def write_current_observations():\n",
    "        dn = os.path.join(output_path, str(data_stats.curr_icustay_id))\n",
    "        try:\n",
    "            os.makedirs(dn)\n",
    "        except:\n",
    "            pass\n",
    "        \n",
    "        if(table == 'PROCEDUREEVENTS_MV'):\n",
    "            fn = os.path.join(dn, 'ventilation.csv')\n",
    "        elif(table == 'OUTPUTEVENTS'):\n",
    "            fn = os.path.join(dn, 'urine.csv')\n",
    "        else:\n",
    "            fn = os.path.join(dn, 'events.csv')\n",
    "        \n",
    "        \n",
    "        if not os.path.exists(fn) or not os.path.isfile(fn):\n",
    "            f = open(fn, 'w')\n",
    "            f.write(','.join(obs_header) + '\\n')\n",
    "            f.close()\n",
    "        w = csv.DictWriter(open(fn, 'a'), fieldnames=obs_header, quoting=csv.QUOTE_MINIMAL)\n",
    "        w.writerows(data_stats.curr_obs)\n",
    "        data_stats.curr_obs = []\n",
    "\n",
    "    nb_rows_dict = {'chartevents': 330712484, 'outputevents': 4349219, 'procedureevents_mv': 258067}\n",
    "    nb_rows = nb_rows_dict[table.lower()]\n",
    "\n",
    "    for row, row_no, _ in tqdm(read_events_table_by_row(mimic3_path, table), total=nb_rows,\n",
    "                                                        desc='Processing {} table'.format(table)):\n",
    "\n",
    "        if (stays_to_keep is not None) and (row['ICUSTAY_ID'] not in stays_to_keep):\n",
    "            continue\n",
    "        if (items_to_keep is not None) and (row['ITEMID'] not in items_to_keep):\n",
    "            continue        \n",
    "        \n",
    "        if(table == 'PROCEDUREEVENTS_MV'):\n",
    "            row_out = {'SUBJECT_ID': row['SUBJECT_ID'],\n",
    "                       'HADM_ID': row['HADM_ID'],\n",
    "                       'ICUSTAY_ID': '' if 'ICUSTAY_ID' not in row else row['ICUSTAY_ID'],\n",
    "                       'STARTTIME': row['STARTTIME'],\n",
    "                       'ITEMID': row['ITEMID']}\n",
    "        \n",
    "        elif(table == 'OUTPUTEVENTS'):\n",
    "            row_out = {'SUBJECT_ID': row['SUBJECT_ID'],\n",
    "                       'HADM_ID': row['HADM_ID'],\n",
    "                       'ICUSTAY_ID': '' if 'ICUSTAY_ID' not in row else row['ICUSTAY_ID'],\n",
    "                       'CHARTTIME': row['CHARTTIME'],\n",
    "                       'ITEMID': row['ITEMID'],\n",
    "                       'VALUE': row['VALUE'],\n",
    "                       'VALUEUOM': row['VALUEUOM'],\n",
    "                        'ISERROR': row['ISERROR']}\n",
    "        \n",
    "        else:      \n",
    "            row_out = {'SUBJECT_ID': row['SUBJECT_ID'],\n",
    "                       'HADM_ID': row['HADM_ID'],\n",
    "                       'ICUSTAY_ID': '' if 'ICUSTAY_ID' not in row else row['ICUSTAY_ID'],\n",
    "                       'CHARTTIME': row['CHARTTIME'],\n",
    "                       'ITEMID': row['ITEMID'],\n",
    "                       'VALUE': row['VALUE'],\n",
    "                       'VALUENUM': row['VALUENUM'],\n",
    "                       'VALUEUOM': row['VALUEUOM'],\n",
    "                       'ERROR': row['ERROR']}\n",
    "            \n",
    "        if data_stats.curr_icustay_id != '' and data_stats.curr_icustay_id != row['ICUSTAY_ID']:\n",
    "            write_current_observations()\n",
    "        data_stats.curr_obs.append(row_out)\n",
    "        data_stats.curr_icustay_id = row['ICUSTAY_ID']\n",
    "\n",
    "    if data_stats.curr_icustay_id != '':\n",
    "        write_current_observations()"
   ]
  },
  {
   "cell_type": "code",
   "execution_count": 29,
   "metadata": {},
   "outputs": [],
   "source": [
    "event_tables = ['PROCEDUREEVENTS_MV','OUTPUTEVENTS','CHARTEVENTS']\n",
    "mimic3_path = '/data/mimic/'"
   ]
  },
  {
   "cell_type": "code",
   "execution_count": 30,
   "metadata": {},
   "outputs": [
    {
     "name": "stderr",
     "output_type": "stream",
     "text": [
      "Processing PROCEDUREEVENTS_MV table: 100%|▉| 258066/258067 [00:06<00:00, 395\n",
      "Processing OUTPUTEVENTS table: 100%|▉| 4349218/4349219 [04:26<00:00, 16302.4\n",
      "Processing CHARTEVENTS table: 100%|▉| 330712483/330712484 [1:08:20<00:00, 80\n"
     ]
    }
   ],
   "source": [
    "#Esta celda tarda mucho, 1h aprox \n",
    "#Ejecutar solo una vez\n",
    "items_to_keep = set([int(itemid) for itemid in itemids]) \n",
    "for table in event_tables:\n",
    "    read_events_table_and_break_up_by_stays(mimic3_path, table, output_path, items_to_keep=items_to_keep,stays_to_keep=admissions.ICUSTAY_ID.unique())"
   ]
  },
  {
   "cell_type": "markdown",
   "metadata": {},
   "source": [
    "### Crear timeSeries.csv (sin incluir mediciones: ventilation,urine) para cada icustay"
   ]
  },
  {
   "cell_type": "code",
   "execution_count": 31,
   "metadata": {},
   "outputs": [],
   "source": [
    "stays_root_path = 'timesSeriesv2_cohorte/data/root/'"
   ]
  },
  {
   "cell_type": "code",
   "execution_count": 32,
   "metadata": {},
   "outputs": [],
   "source": [
    "def read_stays(subject_path):\n",
    "    stays = pd.read_csv(os.path.join(subject_path, 'stays.csv'))\n",
    "    return stays\n",
    "\n",
    "def read_ventilation(subject_path):\n",
    "    fn = os.path.join(subject_path, 'ventilation.csv')\n",
    "    if not os.path.exists(fn) or not os.path.isfile(fn):\n",
    "        ventilations = pd.DataFrame(columns=['SUBJECT_ID','HADM_ID','ICUSTAY_ID','STARTTIME'])         \n",
    "    else:\n",
    "        ventilations = pd.read_csv(fn)\n",
    "    return ventilations\n",
    "\n",
    "def read_urine(subject_path):\n",
    "    fn = os.path.join(subject_path, 'urine.csv')\n",
    "    if not os.path.exists(fn) or not os.path.isfile(fn):\n",
    "        urine = pd.DataFrame(columns=['SUBJECT_ID','HADM_ID','ICUSTAY_ID','URINE_TIME','URINE']) #create empty dataframe with columns name URINE    \n",
    "    else:\n",
    "        urine = pd.read_csv(fn)\n",
    "        urine=urine[urine['ISERROR'].isnull()]\n",
    "        urine=urine.rename({'CHARTTIME':'URINE_TIME', 'VALUE':'URINE'}, axis='columns')\n",
    "        urine = urine.drop(['ITEMID','VALUEUOM'],axis=1)\n",
    "\n",
    "    return urine"
   ]
  },
  {
   "cell_type": "code",
   "execution_count": 33,
   "metadata": {},
   "outputs": [],
   "source": [
    "def read_events(subject_path):\n",
    "    fn = os.path.join(subject_path, 'events.csv')    \n",
    "    if not os.path.exists(fn) or not os.path.isfile(fn):\n",
    "        events = pd.DataFrame(columns=['SUBJECT_ID', 'HADM_ID', 'ICUSTAY_ID', 'CHARTTIME', 'ITEMID','VARIABLE','VALUE'])\n",
    "    else:\n",
    "        events = pd.read_csv(fn)\n",
    "        events.CHARTTIME = pd.to_datetime(events.CHARTTIME)\n",
    "        events = events[events.VALUE.notnull()]\n",
    "    \n",
    "        #hay events que tiene todo VALUE null, por ejemplo: 222558 \n",
    "        if(events.shape[0] == 0):\n",
    "            events =  pd.DataFrame(columns=['SUBJECT_ID', 'HADM_ID', 'ICUSTAY_ID', 'CHARTTIME', 'ITEMID','VARIABLE','VALUE'])\n",
    "        else:\n",
    "        \n",
    "            #filtrar filas con error\n",
    "            events = events.loc[(events['ERROR'] == 0.0) | (events['ERROR'].isna()) ]\n",
    "            events = events.drop(['ERROR'],axis=1)\n",
    "\n",
    "            #hay events que todos con error\n",
    "            if(events.shape[0] == 0):\n",
    "                events =  pd.DataFrame(columns=['SUBJECT_ID', 'HADM_ID', 'ICUSTAY_ID', 'CHARTTIME', 'ITEMID','VARIABLE','VALUE'])\n",
    "            else:\n",
    "                \n",
    "                #convert fahrenheit to celsius\n",
    "                events.loc[events['ITEMID'].isin([223761,678,679]),'VALUE'] = (pd.to_numeric(events.loc[events['ITEMID'].isin([223761,678,679])]['VALUE'])- 32) * 5 / 9\n",
    "\n",
    "                #assign variable name to itemid \n",
    "                events.loc[events['ITEMID'].isin([223762,676,677,223761,678,679]), 'VARIABLE'] = 'TEMP_C'\n",
    "                events.loc[events['ITEMID'].isin([220045,211]), 'VARIABLE'] = 'HRATE'\n",
    "                events.loc[events['ITEMID'].isin([220210,224690,615,618]), 'VARIABLE'] = 'RESP_RATE'\n",
    "                events.loc[events['ITEMID'].isin([220052,220181,225312,456,52,6702,443]), 'VARIABLE'] = 'MAP'\n",
    "\n",
    "\n",
    "\n",
    "                events.loc[events['ITEMID'].isin([220739,184]), 'VARIABLE'] = 'gcs_e'\n",
    "                events.loc[events['ITEMID'].isin([223901,454]), 'VARIABLE'] = 'gcs_m'\n",
    "                events.loc[events['ITEMID'].isin([223900,723]), 'VARIABLE'] = 'gcs_v'\n",
    "                events.loc[events['ITEMID'] == 198, 'VARIABLE'] = 'gcs_total_carevue'\n",
    "\n",
    "                #para gcs score coger la columna VALUENUM, que contiene valores enteros\n",
    "                events.loc[events['ITEMID'].isin([220739,184,223901,454,223900,723,198]),'VALUE'] = events.loc[events['ITEMID'].isin([220739,184,223901,454,223900,723,198])]['VALUENUM']\n",
    "\n",
    "\n",
    "                events = events.drop(['VALUENUM','VALUEUOM'],axis=1)\n",
    "\n",
    "        \n",
    "    return events\n"
   ]
  },
  {
   "cell_type": "code",
   "execution_count": 34,
   "metadata": {},
   "outputs": [],
   "source": [
    "#recoger datos estaticos de cada icustay: como LOS, PRELOS, AGE, ADMISSION TYPE, MORTALITY_INHOSPITAL \n",
    "def assemble_episodic_data(stays):\n",
    "    data = {'Icustay': stays.ICUSTAY_ID,'Age': stays.AGE,'Length of Stay': stays.LOS,\n",
    "            'PreICU LOS': stays.PRELOS,'Admission Type': stays.ADMISSION_TYPE,\n",
    "           'Inhospital Mortality': stays.MORTALITY_INHOSPITAL}\n",
    "    data = pd.DataFrame(data).set_index('Icustay')\n",
    "    data = data[['Age', 'Length of Stay','PreICU LOS','Admission Type','Inhospital Mortality' ]]\n",
    "    return data\n"
   ]
  },
  {
   "cell_type": "code",
   "execution_count": 35,
   "metadata": {},
   "outputs": [],
   "source": [
    "def get_events_for_stay(events, icustayid):\n",
    "    idx = (events.ICUSTAY_ID == icustayid)\n",
    "    events = events[idx]\n",
    "    del events['ICUSTAY_ID']\n",
    "    return events"
   ]
  },
  {
   "cell_type": "code",
   "execution_count": 36,
   "metadata": {},
   "outputs": [],
   "source": [
    "def add_hours_elpased_to_events(events, intime, remove_charttime=True):\n",
    "    events = events.copy()\n",
    "    if events.shape[0] != 0:   \n",
    "        hours_tmp = events.CHARTTIME - intime\n",
    "        events['HOURS'] = np.round(hours_tmp.dt.total_seconds()/3600, 0)    \n",
    "    else:\n",
    "        events['HOURS'] = 0 #esta hora para AGE, PRELOS (que siempre estan)\n",
    "    if remove_charttime:\n",
    "        del events['CHARTTIME']\n",
    "    return events"
   ]
  },
  {
   "cell_type": "code",
   "execution_count": 37,
   "metadata": {},
   "outputs": [],
   "source": [
    "def convert_events_to_timeseries(events, variable_column='VARIABLE', variables=[]):\n",
    "    metadata = events[['CHARTTIME', 'ICUSTAY_ID']].sort_values(by=['CHARTTIME', 'ICUSTAY_ID'])\\\n",
    "                    .drop_duplicates(keep='first').set_index('CHARTTIME')\n",
    "\n",
    "    timeseries = events[['CHARTTIME', variable_column, 'VALUE']]\\\n",
    "                    .sort_values(by=['CHARTTIME', variable_column, 'VALUE'], axis=0).drop_duplicates(subset=['CHARTTIME', variable_column], keep='last')\n",
    "        \n",
    "    timeseries = timeseries.pivot(index='CHARTTIME', columns=variable_column, values='VALUE')\\\n",
    "                    .merge(metadata, left_index=True, right_index=True)\\\n",
    "                    .sort_index(axis=0).reset_index()\n",
    "    for v in variables:\n",
    "        if v not in timeseries:\n",
    "            timeseries[v] = np.nan\n",
    "    return timeseries"
   ]
  },
  {
   "cell_type": "code",
   "execution_count": 38,
   "metadata": {},
   "outputs": [],
   "source": [
    "variables = ['HRATE','MAP','RESP_RATE','TEMP_C','gcs_e','gcs_m','gcs_v','gcs_total_carevue'] "
   ]
  },
  {
   "cell_type": "code",
   "execution_count": 39,
   "metadata": {
    "scrolled": true
   },
   "outputs": [
    {
     "name": "stderr",
     "output_type": "stream",
     "text": [
      "Iterating over stays:   0%|            | 73/53333 [00:10<1:55:27,  7.69it/s]"
     ]
    },
    {
     "name": "stdout",
     "output_type": "stream",
     "text": [
      "(no valid events for icustay_id: 253219\n",
      "\n",
      "(no data for this episode 1 of icustay_id: 253219\n",
      "\n"
     ]
    },
    {
     "name": "stderr",
     "output_type": "stream",
     "text": [
      "Iterating over stays:   0%|           | 122/53333 [00:16<1:53:55,  7.78it/s]"
     ]
    },
    {
     "name": "stdout",
     "output_type": "stream",
     "text": [
      "(no valid events for icustay_id: 226586\n",
      "\n",
      "(no data for this episode 1 of icustay_id: 226586\n",
      "\n"
     ]
    },
    {
     "name": "stderr",
     "output_type": "stream",
     "text": [
      "Iterating over stays:   0%|           | 185/53333 [00:29<1:33:26,  9.48it/s]"
     ]
    },
    {
     "name": "stdout",
     "output_type": "stream",
     "text": [
      "(no valid events for icustay_id: 243308\n",
      "\n",
      "(no data for this episode 1 of icustay_id: 243308\n",
      "\n"
     ]
    },
    {
     "name": "stderr",
     "output_type": "stream",
     "text": [
      "Iterating over stays:   0%|           | 234/53333 [00:34<1:37:22,  9.09it/s]"
     ]
    },
    {
     "name": "stdout",
     "output_type": "stream",
     "text": [
      "(no valid events for icustay_id: 295505\n",
      "\n",
      "(no data for this episode 1 of icustay_id: 295505\n",
      "\n"
     ]
    },
    {
     "name": "stderr",
     "output_type": "stream",
     "text": [
      "Iterating over stays:   0%|           | 256/53333 [00:40<9:49:22,  1.50it/s]"
     ]
    },
    {
     "name": "stdout",
     "output_type": "stream",
     "text": [
      "(no valid events for icustay_id: 221276\n",
      "\n",
      "(no data for this episode 1 of icustay_id: 221276\n",
      "\n"
     ]
    },
    {
     "name": "stderr",
     "output_type": "stream",
     "text": [
      "Iterating over stays:   1%|           | 285/53333 [00:45<1:36:39,  9.15it/s]"
     ]
    },
    {
     "name": "stdout",
     "output_type": "stream",
     "text": [
      "(no valid events for icustay_id: 286645\n",
      "\n",
      "(no data for this episode 1 of icustay_id: 286645\n",
      "\n"
     ]
    },
    {
     "name": "stderr",
     "output_type": "stream",
     "text": [
      "Iterating over stays:   1%|           | 326/53333 [00:51<1:20:58, 10.91it/s]"
     ]
    },
    {
     "name": "stdout",
     "output_type": "stream",
     "text": [
      "(no valid events for icustay_id: 225159\n",
      "\n",
      "(no data for this episode 1 of icustay_id: 225159\n",
      "\n"
     ]
    },
    {
     "name": "stderr",
     "output_type": "stream",
     "text": [
      "Iterating over stays:   1%|           | 332/53333 [00:52<1:32:58,  9.50it/s]"
     ]
    },
    {
     "name": "stdout",
     "output_type": "stream",
     "text": [
      "(no valid events for icustay_id: 273207\n",
      "\n",
      "(no data for this episode 1 of icustay_id: 273207\n",
      "\n"
     ]
    },
    {
     "name": "stderr",
     "output_type": "stream",
     "text": [
      "Iterating over stays:   1%|           | 374/53333 [00:57<1:52:37,  7.84it/s]"
     ]
    },
    {
     "name": "stdout",
     "output_type": "stream",
     "text": [
      "(no valid events for icustay_id: 208746\n",
      "\n",
      "(no data for this episode 1 of icustay_id: 208746\n",
      "\n"
     ]
    },
    {
     "name": "stderr",
     "output_type": "stream",
     "text": [
      "Iterating over stays:   1%|           | 391/53333 [00:59<1:41:38,  8.68it/s]"
     ]
    },
    {
     "name": "stdout",
     "output_type": "stream",
     "text": [
      "(no valid events for icustay_id: 210470\n",
      "\n",
      "(no data for this episode 1 of icustay_id: 210470\n",
      "\n"
     ]
    },
    {
     "name": "stderr",
     "output_type": "stream",
     "text": [
      "Iterating over stays:   1%|▏          | 666/53333 [01:40<1:51:12,  7.89it/s]"
     ]
    },
    {
     "name": "stdout",
     "output_type": "stream",
     "text": [
      "(no valid events for icustay_id: 264541\n",
      "\n",
      "(no data for this episode 1 of icustay_id: 264541\n",
      "\n",
      "(no valid events for icustay_id: 243778\n",
      "\n",
      "(no data for this episode 1 of icustay_id: 243778\n",
      "\n"
     ]
    },
    {
     "name": "stderr",
     "output_type": "stream",
     "text": [
      "Iterating over stays:   1%|▏          | 678/53333 [01:41<1:43:36,  8.47it/s]"
     ]
    },
    {
     "name": "stdout",
     "output_type": "stream",
     "text": [
      "(no valid events for icustay_id: 280505\n",
      "\n",
      "(no data for this episode 1 of icustay_id: 280505\n",
      "\n"
     ]
    },
    {
     "name": "stderr",
     "output_type": "stream",
     "text": [
      "Iterating over stays:   2%|▏          | 931/53333 [02:21<1:42:24,  8.53it/s]"
     ]
    },
    {
     "name": "stdout",
     "output_type": "stream",
     "text": [
      "(no valid events for icustay_id: 260989\n",
      "\n",
      "(no data for this episode 1 of icustay_id: 260989\n",
      "\n"
     ]
    },
    {
     "name": "stderr",
     "output_type": "stream",
     "text": [
      "Iterating over stays:   2%|▏          | 955/53333 [02:24<1:32:21,  9.45it/s]"
     ]
    },
    {
     "name": "stdout",
     "output_type": "stream",
     "text": [
      "(no valid events for icustay_id: 200941\n",
      "\n",
      "(no data for this episode 1 of icustay_id: 200941\n",
      "\n",
      "(no valid events for icustay_id: 273032\n",
      "\n",
      "(no data for this episode 1 of icustay_id: 273032\n",
      "\n"
     ]
    },
    {
     "name": "stderr",
     "output_type": "stream",
     "text": [
      "Iterating over stays:   2%|▏          | 961/53333 [02:25<2:25:35,  6.00it/s]"
     ]
    },
    {
     "name": "stdout",
     "output_type": "stream",
     "text": [
      "(no valid events for icustay_id: 281661\n",
      "\n",
      "(no data for this episode 1 of icustay_id: 281661\n",
      "\n"
     ]
    },
    {
     "name": "stderr",
     "output_type": "stream",
     "text": [
      "Iterating over stays:   2%|▏         | 1026/53333 [02:32<1:25:44, 10.17it/s]"
     ]
    },
    {
     "name": "stdout",
     "output_type": "stream",
     "text": [
      "(no valid events for icustay_id: 268945\n",
      "\n",
      "(no data for this episode 1 of icustay_id: 268945\n",
      "\n"
     ]
    },
    {
     "name": "stderr",
     "output_type": "stream",
     "text": [
      "Iterating over stays:   2%|▏         | 1136/53333 [02:53<2:28:56,  5.84it/s]"
     ]
    },
    {
     "name": "stdout",
     "output_type": "stream",
     "text": [
      "(no valid events for icustay_id: 239268\n",
      "\n",
      "(no data for this episode 1 of icustay_id: 239268\n",
      "\n"
     ]
    },
    {
     "name": "stderr",
     "output_type": "stream",
     "text": [
      "Iterating over stays:   2%|▏         | 1184/53333 [02:59<2:02:14,  7.11it/s]"
     ]
    },
    {
     "name": "stdout",
     "output_type": "stream",
     "text": [
      "(no valid events for icustay_id: 249247\n",
      "\n",
      "(no data for this episode 1 of icustay_id: 249247\n",
      "\n"
     ]
    },
    {
     "name": "stderr",
     "output_type": "stream",
     "text": [
      "Iterating over stays:   2%|▏         | 1212/53333 [03:03<1:43:27,  8.40it/s]"
     ]
    },
    {
     "name": "stdout",
     "output_type": "stream",
     "text": [
      "(no valid events for icustay_id: 271857\n",
      "\n",
      "(no data for this episode 1 of icustay_id: 271857\n",
      "\n"
     ]
    },
    {
     "name": "stderr",
     "output_type": "stream",
     "text": [
      "Iterating over stays:   2%|▏         | 1250/53333 [03:08<1:42:52,  8.44it/s]"
     ]
    },
    {
     "name": "stdout",
     "output_type": "stream",
     "text": [
      "(no valid events for icustay_id: 278507\n",
      "\n",
      "(no data for this episode 1 of icustay_id: 278507\n",
      "\n"
     ]
    },
    {
     "name": "stderr",
     "output_type": "stream",
     "text": [
      "Iterating over stays:   2%|▏         | 1304/53333 [03:20<6:50:48,  2.11it/s]"
     ]
    },
    {
     "name": "stdout",
     "output_type": "stream",
     "text": [
      "(no valid events for icustay_id: 211556\n",
      "\n",
      "(no data for this episode 1 of icustay_id: 211556\n",
      "\n"
     ]
    },
    {
     "name": "stderr",
     "output_type": "stream",
     "text": [
      "Iterating over stays:   3%|▎         | 1344/53333 [03:28<1:29:11,  9.71it/s]"
     ]
    },
    {
     "name": "stdout",
     "output_type": "stream",
     "text": [
      "(no valid events for icustay_id: 245954\n",
      "\n",
      "(no data for this episode 1 of icustay_id: 245954\n",
      "\n"
     ]
    },
    {
     "name": "stderr",
     "output_type": "stream",
     "text": [
      "Iterating over stays:   3%|▎         | 1358/53333 [03:30<1:56:49,  7.42it/s]"
     ]
    },
    {
     "name": "stdout",
     "output_type": "stream",
     "text": [
      "(no valid events for icustay_id: 254609\n",
      "\n",
      "(no data for this episode 1 of icustay_id: 254609\n",
      "\n"
     ]
    },
    {
     "name": "stderr",
     "output_type": "stream",
     "text": [
      "Iterating over stays:   3%|▎         | 1388/53333 [03:33<1:31:59,  9.41it/s]"
     ]
    },
    {
     "name": "stdout",
     "output_type": "stream",
     "text": [
      "(no valid events for icustay_id: 260209\n",
      "\n",
      "(no data for this episode 1 of icustay_id: 260209\n",
      "\n"
     ]
    },
    {
     "name": "stderr",
     "output_type": "stream",
     "text": [
      "Iterating over stays:   3%|▎         | 1428/53333 [03:37<1:24:37, 10.22it/s]"
     ]
    },
    {
     "name": "stdout",
     "output_type": "stream",
     "text": [
      "(no valid events for icustay_id: 286116\n",
      "\n",
      "(no data for this episode 1 of icustay_id: 286116\n",
      "\n"
     ]
    },
    {
     "name": "stderr",
     "output_type": "stream",
     "text": [
      "Iterating over stays:   3%|▎         | 1452/53333 [03:40<1:21:07, 10.66it/s]"
     ]
    },
    {
     "name": "stdout",
     "output_type": "stream",
     "text": [
      "(no valid events for icustay_id: 227567\n",
      "\n",
      "(no data for this episode 1 of icustay_id: 227567\n",
      "\n"
     ]
    },
    {
     "name": "stderr",
     "output_type": "stream",
     "text": [
      "Iterating over stays:   3%|▎         | 1537/53333 [03:57<3:49:51,  3.76it/s]"
     ]
    },
    {
     "name": "stdout",
     "output_type": "stream",
     "text": [
      "(no valid events for icustay_id: 249800\n",
      "\n",
      "(no data for this episode 1 of icustay_id: 249800\n",
      "\n"
     ]
    },
    {
     "name": "stderr",
     "output_type": "stream",
     "text": [
      "Iterating over stays:   3%|▎         | 1590/53333 [04:06<2:28:23,  5.81it/s]"
     ]
    },
    {
     "name": "stdout",
     "output_type": "stream",
     "text": [
      "(no valid events for icustay_id: 217916\n",
      "\n",
      "(no data for this episode 1 of icustay_id: 217916\n",
      "\n"
     ]
    },
    {
     "name": "stderr",
     "output_type": "stream",
     "text": [
      "Iterating over stays:   3%|▎         | 1686/53333 [04:16<1:41:07,  8.51it/s]"
     ]
    },
    {
     "name": "stdout",
     "output_type": "stream",
     "text": [
      "(no valid events for icustay_id: 244886\n",
      "\n",
      "(no data for this episode 1 of icustay_id: 244886\n",
      "\n"
     ]
    },
    {
     "name": "stderr",
     "output_type": "stream",
     "text": [
      "Iterating over stays:   3%|▎         | 1712/53333 [04:19<1:26:32,  9.94it/s]"
     ]
    },
    {
     "name": "stdout",
     "output_type": "stream",
     "text": [
      "(no valid events for icustay_id: 259755\n",
      "\n",
      "(no data for this episode 1 of icustay_id: 259755\n",
      "\n"
     ]
    },
    {
     "name": "stderr",
     "output_type": "stream",
     "text": [
      "Iterating over stays:   3%|▎         | 1725/53333 [04:24<8:09:48,  1.76it/s]"
     ]
    },
    {
     "name": "stdout",
     "output_type": "stream",
     "text": [
      "(no valid events for icustay_id: 226872\n",
      "\n",
      "(no data for this episode 1 of icustay_id: 226872\n",
      "\n"
     ]
    },
    {
     "name": "stderr",
     "output_type": "stream",
     "text": [
      "Iterating over stays:   3%|▎         | 1823/53333 [04:39<1:51:23,  7.71it/s]"
     ]
    },
    {
     "name": "stdout",
     "output_type": "stream",
     "text": [
      "(no valid events for icustay_id: 281485\n",
      "\n",
      "(no data for this episode 1 of icustay_id: 281485\n",
      "\n"
     ]
    },
    {
     "name": "stderr",
     "output_type": "stream",
     "text": [
      "Iterating over stays:   4%|▎         | 1870/53333 [04:44<1:42:39,  8.36it/s]"
     ]
    },
    {
     "name": "stdout",
     "output_type": "stream",
     "text": [
      "(no valid events for icustay_id: 295260\n",
      "\n",
      "(no data for this episode 1 of icustay_id: 295260\n",
      "\n"
     ]
    },
    {
     "name": "stderr",
     "output_type": "stream",
     "text": [
      "Iterating over stays:   4%|▎         | 1965/53333 [05:03<2:11:47,  6.50it/s]"
     ]
    },
    {
     "name": "stdout",
     "output_type": "stream",
     "text": [
      "(no valid events for icustay_id: 214964\n",
      "\n",
      "(no data for this episode 1 of icustay_id: 214964\n",
      "\n"
     ]
    },
    {
     "name": "stderr",
     "output_type": "stream",
     "text": [
      "Iterating over stays:   4%|▎         | 1982/53333 [05:05<1:21:02, 10.56it/s]"
     ]
    },
    {
     "name": "stdout",
     "output_type": "stream",
     "text": [
      "(no valid events for icustay_id: 220975\n",
      "\n",
      "(no data for this episode 1 of icustay_id: 220975\n",
      "\n"
     ]
    },
    {
     "name": "stderr",
     "output_type": "stream",
     "text": [
      "Iterating over stays:   4%|▍         | 2032/53333 [05:10<1:13:42, 11.60it/s]"
     ]
    },
    {
     "name": "stdout",
     "output_type": "stream",
     "text": [
      "(no valid events for icustay_id: 215095\n",
      "\n",
      "(no data for this episode 1 of icustay_id: 215095\n",
      "\n"
     ]
    },
    {
     "name": "stderr",
     "output_type": "stream",
     "text": [
      "Iterating over stays:   4%|▍         | 2134/53333 [05:27<1:23:10, 10.26it/s]"
     ]
    },
    {
     "name": "stdout",
     "output_type": "stream",
     "text": [
      "(no valid events for icustay_id: 291907\n",
      "\n",
      "(no data for this episode 1 of icustay_id: 291907\n",
      "\n"
     ]
    },
    {
     "name": "stderr",
     "output_type": "stream",
     "text": [
      "Iterating over stays:   4%|▍         | 2137/53333 [05:28<3:04:41,  4.62it/s]"
     ]
    },
    {
     "name": "stdout",
     "output_type": "stream",
     "text": [
      "(no valid events for icustay_id: 232174\n",
      "\n",
      "(no data for this episode 1 of icustay_id: 232174\n",
      "\n"
     ]
    },
    {
     "name": "stderr",
     "output_type": "stream",
     "text": [
      "Iterating over stays:   4%|▍         | 2227/53333 [05:39<1:20:12, 10.62it/s]"
     ]
    },
    {
     "name": "stdout",
     "output_type": "stream",
     "text": [
      "(no valid events for icustay_id: 245471\n",
      "\n",
      "(no data for this episode 1 of icustay_id: 245471\n",
      "\n"
     ]
    },
    {
     "name": "stderr",
     "output_type": "stream",
     "text": [
      "Iterating over stays:   4%|▍         | 2267/53333 [05:44<1:33:22,  9.11it/s]"
     ]
    },
    {
     "name": "stdout",
     "output_type": "stream",
     "text": [
      "(no valid events for icustay_id: 203462\n",
      "\n",
      "(no data for this episode 1 of icustay_id: 203462\n",
      "\n"
     ]
    },
    {
     "name": "stderr",
     "output_type": "stream",
     "text": [
      "Iterating over stays:   4%|▍         | 2327/53333 [05:57<2:12:05,  6.44it/s]"
     ]
    },
    {
     "name": "stdout",
     "output_type": "stream",
     "text": [
      "(no valid events for icustay_id: 278316\n",
      "\n",
      "(no data for this episode 1 of icustay_id: 278316\n",
      "\n"
     ]
    },
    {
     "name": "stderr",
     "output_type": "stream",
     "text": [
      "Iterating over stays:   4%|▍         | 2362/53333 [06:03<1:42:42,  8.27it/s]"
     ]
    },
    {
     "name": "stdout",
     "output_type": "stream",
     "text": [
      "(no valid events for icustay_id: 273028\n",
      "\n",
      "(no data for this episode 1 of icustay_id: 273028\n",
      "\n"
     ]
    },
    {
     "name": "stderr",
     "output_type": "stream",
     "text": [
      "Iterating over stays:   4%|▍         | 2386/53333 [06:05<1:27:54,  9.66it/s]"
     ]
    },
    {
     "name": "stdout",
     "output_type": "stream",
     "text": [
      "(no valid events for icustay_id: 244814\n",
      "\n",
      "(no data for this episode 1 of icustay_id: 244814\n",
      "\n"
     ]
    },
    {
     "name": "stderr",
     "output_type": "stream",
     "text": [
      "Iterating over stays:   5%|▍         | 2419/53333 [06:09<1:29:19,  9.50it/s]"
     ]
    },
    {
     "name": "stdout",
     "output_type": "stream",
     "text": [
      "(no valid events for icustay_id: 292128\n",
      "\n",
      "(no data for this episode 1 of icustay_id: 292128\n",
      "\n"
     ]
    },
    {
     "name": "stderr",
     "output_type": "stream",
     "text": [
      "Iterating over stays:   5%|▍         | 2498/53333 [06:24<1:39:34,  8.51it/s]"
     ]
    },
    {
     "name": "stdout",
     "output_type": "stream",
     "text": [
      "(no valid events for icustay_id: 207504\n",
      "\n",
      "(no data for this episode 1 of icustay_id: 207504\n",
      "\n"
     ]
    },
    {
     "name": "stderr",
     "output_type": "stream",
     "text": [
      "Iterating over stays:   5%|▍         | 2547/53333 [06:31<1:24:21, 10.03it/s]"
     ]
    },
    {
     "name": "stdout",
     "output_type": "stream",
     "text": [
      "(no valid events for icustay_id: 266741\n",
      "\n",
      "(no data for this episode 1 of icustay_id: 266741\n",
      "\n"
     ]
    },
    {
     "name": "stderr",
     "output_type": "stream",
     "text": [
      "Iterating over stays:   5%|▌         | 2679/53333 [06:46<1:35:29,  8.84it/s]"
     ]
    },
    {
     "name": "stdout",
     "output_type": "stream",
     "text": [
      "(no valid events for icustay_id: 234533\n",
      "\n",
      "(no data for this episode 1 of icustay_id: 234533\n",
      "\n"
     ]
    },
    {
     "name": "stderr",
     "output_type": "stream",
     "text": [
      "Iterating over stays:   5%|▌         | 2701/53333 [06:48<1:27:36,  9.63it/s]"
     ]
    },
    {
     "name": "stdout",
     "output_type": "stream",
     "text": [
      "(no valid events for icustay_id: 208957\n",
      "\n",
      "(no data for this episode 1 of icustay_id: 208957\n",
      "\n"
     ]
    },
    {
     "name": "stderr",
     "output_type": "stream",
     "text": [
      "Iterating over stays:   5%|▌         | 2875/53333 [07:17<1:47:33,  7.82it/s]"
     ]
    },
    {
     "name": "stdout",
     "output_type": "stream",
     "text": [
      "(no valid events for icustay_id: 249311\n",
      "\n",
      "(no data for this episode 1 of icustay_id: 249311\n",
      "\n"
     ]
    },
    {
     "name": "stderr",
     "output_type": "stream",
     "text": [
      "Iterating over stays:   6%|▌         | 3017/53333 [07:43<1:41:07,  8.29it/s]"
     ]
    },
    {
     "name": "stdout",
     "output_type": "stream",
     "text": [
      "(no valid events for icustay_id: 206718\n",
      "\n",
      "(no data for this episode 1 of icustay_id: 206718\n",
      "\n"
     ]
    },
    {
     "name": "stderr",
     "output_type": "stream",
     "text": [
      "Iterating over stays:   6%|▌         | 3035/53333 [07:45<1:43:08,  8.13it/s]"
     ]
    },
    {
     "name": "stdout",
     "output_type": "stream",
     "text": [
      "(no valid events for icustay_id: 289989\n",
      "\n",
      "(no data for this episode 1 of icustay_id: 289989\n",
      "\n"
     ]
    },
    {
     "name": "stderr",
     "output_type": "stream",
     "text": [
      "Iterating over stays:   6%|▌         | 3067/53333 [07:49<1:26:45,  9.66it/s]"
     ]
    },
    {
     "name": "stdout",
     "output_type": "stream",
     "text": [
      "(no valid events for icustay_id: 274881\n",
      "\n",
      "(no data for this episode 1 of icustay_id: 274881\n",
      "\n"
     ]
    },
    {
     "name": "stderr",
     "output_type": "stream",
     "text": [
      "Iterating over stays:   6%|▌         | 3090/53333 [07:52<2:10:42,  6.41it/s]"
     ]
    },
    {
     "name": "stdout",
     "output_type": "stream",
     "text": [
      "(no valid events for icustay_id: 292193\n",
      "\n",
      "(no data for this episode 1 of icustay_id: 292193\n",
      "\n"
     ]
    },
    {
     "name": "stderr",
     "output_type": "stream",
     "text": [
      "Iterating over stays:   6%|▌         | 3157/53333 [08:00<1:20:49, 10.35it/s]"
     ]
    },
    {
     "name": "stdout",
     "output_type": "stream",
     "text": [
      "(no valid events for icustay_id: 265512\n",
      "\n",
      "(no data for this episode 1 of icustay_id: 265512\n",
      "\n"
     ]
    },
    {
     "name": "stderr",
     "output_type": "stream",
     "text": [
      "Iterating over stays:   6%|▌         | 3178/53333 [08:03<1:34:18,  8.86it/s]"
     ]
    },
    {
     "name": "stdout",
     "output_type": "stream",
     "text": [
      "(no valid events for icustay_id: 280196\n",
      "\n",
      "(no data for this episode 1 of icustay_id: 280196\n",
      "\n",
      "(no valid events for icustay_id: 286422\n",
      "\n"
     ]
    },
    {
     "name": "stderr",
     "output_type": "stream",
     "text": [
      "\r",
      "Iterating over stays:   6%|▌         | 3180/53333 [08:03<1:38:08,  8.52it/s]"
     ]
    },
    {
     "name": "stdout",
     "output_type": "stream",
     "text": [
      "(no data for this episode 1 of icustay_id: 286422\n",
      "\n"
     ]
    },
    {
     "name": "stderr",
     "output_type": "stream",
     "text": [
      "Iterating over stays:   6%|▌        | 3209/53333 [08:10<11:04:27,  1.26it/s]"
     ]
    },
    {
     "name": "stdout",
     "output_type": "stream",
     "text": [
      "(no valid events for icustay_id: 278897\n",
      "\n",
      "(no data for this episode 1 of icustay_id: 278897\n",
      "\n"
     ]
    },
    {
     "name": "stderr",
     "output_type": "stream",
     "text": [
      "Iterating over stays:   6%|▌         | 3246/53333 [08:17<1:20:47, 10.33it/s]"
     ]
    },
    {
     "name": "stdout",
     "output_type": "stream",
     "text": [
      "(no valid events for icustay_id: 294693\n",
      "\n",
      "(no data for this episode 1 of icustay_id: 294693\n",
      "\n"
     ]
    },
    {
     "name": "stderr",
     "output_type": "stream",
     "text": [
      "Iterating over stays:   6%|▌         | 3281/53333 [08:23<1:27:49,  9.50it/s]"
     ]
    },
    {
     "name": "stdout",
     "output_type": "stream",
     "text": [
      "(no valid events for icustay_id: 290940\n",
      "\n",
      "(no data for this episode 1 of icustay_id: 290940\n",
      "\n"
     ]
    },
    {
     "name": "stderr",
     "output_type": "stream",
     "text": [
      "Iterating over stays:   6%|▌         | 3297/53333 [08:25<1:12:47, 11.46it/s]"
     ]
    },
    {
     "name": "stdout",
     "output_type": "stream",
     "text": [
      "(no valid events for icustay_id: 218848\n",
      "\n",
      "(no data for this episode 1 of icustay_id: 218848\n",
      "\n"
     ]
    },
    {
     "name": "stderr",
     "output_type": "stream",
     "text": [
      "Iterating over stays:   6%|▋         | 3337/53333 [08:29<1:29:18,  9.33it/s]"
     ]
    },
    {
     "name": "stdout",
     "output_type": "stream",
     "text": [
      "(no valid events for icustay_id: 283297\n",
      "\n",
      "(no data for this episode 1 of icustay_id: 283297\n",
      "\n"
     ]
    },
    {
     "name": "stderr",
     "output_type": "stream",
     "text": [
      "Iterating over stays:   6%|▋         | 3367/53333 [08:32<1:27:45,  9.49it/s]"
     ]
    },
    {
     "name": "stdout",
     "output_type": "stream",
     "text": [
      "(no valid events for icustay_id: 295254\n",
      "\n",
      "(no data for this episode 1 of icustay_id: 295254\n",
      "\n"
     ]
    },
    {
     "name": "stderr",
     "output_type": "stream",
     "text": [
      "Iterating over stays:   6%|▋         | 3399/53333 [08:35<1:16:28, 10.88it/s]"
     ]
    },
    {
     "name": "stdout",
     "output_type": "stream",
     "text": [
      "(no valid events for icustay_id: 220955\n",
      "\n",
      "(no data for this episode 1 of icustay_id: 220955\n",
      "\n"
     ]
    },
    {
     "name": "stderr",
     "output_type": "stream",
     "text": [
      "Iterating over stays:   6%|▋         | 3405/53333 [08:36<1:12:07, 11.54it/s]"
     ]
    },
    {
     "name": "stdout",
     "output_type": "stream",
     "text": [
      "(no valid events for icustay_id: 272748\n",
      "\n",
      "(no data for this episode 1 of icustay_id: 272748\n",
      "\n"
     ]
    },
    {
     "name": "stderr",
     "output_type": "stream",
     "text": [
      "Iterating over stays:   7%|▋         | 3631/53333 [09:12<1:13:55, 11.21it/s]"
     ]
    },
    {
     "name": "stdout",
     "output_type": "stream",
     "text": [
      "(no valid events for icustay_id: 237645\n",
      "\n",
      "(no data for this episode 1 of icustay_id: 237645\n",
      "\n"
     ]
    },
    {
     "name": "stderr",
     "output_type": "stream",
     "text": [
      "Iterating over stays:   7%|▋         | 3652/53333 [09:15<1:58:06,  7.01it/s]"
     ]
    },
    {
     "name": "stdout",
     "output_type": "stream",
     "text": [
      "(no valid events for icustay_id: 282109\n",
      "\n",
      "(no data for this episode 1 of icustay_id: 282109\n",
      "\n"
     ]
    },
    {
     "name": "stderr",
     "output_type": "stream",
     "text": [
      "Iterating over stays:   7%|▋         | 3655/53333 [09:15<1:44:27,  7.93it/s]"
     ]
    },
    {
     "name": "stdout",
     "output_type": "stream",
     "text": [
      "(no valid events for icustay_id: 266691\n",
      "\n",
      "(no data for this episode 1 of icustay_id: 266691\n",
      "\n"
     ]
    },
    {
     "name": "stderr",
     "output_type": "stream",
     "text": [
      "Iterating over stays:   7%|▋         | 3689/53333 [09:19<1:41:36,  8.14it/s]"
     ]
    },
    {
     "name": "stdout",
     "output_type": "stream",
     "text": [
      "(no valid events for icustay_id: 246959\n",
      "\n",
      "(no data for this episode 1 of icustay_id: 246959\n",
      "\n"
     ]
    },
    {
     "name": "stderr",
     "output_type": "stream",
     "text": [
      "Iterating over stays:   7%|▋         | 3719/53333 [09:23<1:47:27,  7.70it/s]"
     ]
    },
    {
     "name": "stdout",
     "output_type": "stream",
     "text": [
      "(no valid events for icustay_id: 268973\n",
      "\n",
      "(no data for this episode 1 of icustay_id: 268973\n",
      "\n"
     ]
    },
    {
     "name": "stderr",
     "output_type": "stream",
     "text": [
      "Iterating over stays:   7%|▋         | 3751/53333 [09:26<1:11:18, 11.59it/s]"
     ]
    },
    {
     "name": "stdout",
     "output_type": "stream",
     "text": [
      "(no valid events for icustay_id: 299172\n",
      "\n",
      "(no data for this episode 1 of icustay_id: 299172\n",
      "\n"
     ]
    },
    {
     "name": "stderr",
     "output_type": "stream",
     "text": [
      "Iterating over stays:   7%|▋         | 3769/53333 [09:28<1:24:04,  9.83it/s]"
     ]
    },
    {
     "name": "stdout",
     "output_type": "stream",
     "text": [
      "(no valid events for icustay_id: 226330\n",
      "\n",
      "(no data for this episode 1 of icustay_id: 226330\n",
      "\n"
     ]
    },
    {
     "name": "stderr",
     "output_type": "stream",
     "text": [
      "Iterating over stays:   7%|▋         | 3801/53333 [09:32<1:28:21,  9.34it/s]"
     ]
    },
    {
     "name": "stdout",
     "output_type": "stream",
     "text": [
      "(no valid events for icustay_id: 268499\n",
      "\n",
      "(no data for this episode 1 of icustay_id: 268499\n",
      "\n"
     ]
    },
    {
     "name": "stderr",
     "output_type": "stream",
     "text": [
      "Iterating over stays:   7%|▋         | 3808/53333 [09:33<1:35:07,  8.68it/s]"
     ]
    },
    {
     "name": "stdout",
     "output_type": "stream",
     "text": [
      "(no valid events for icustay_id: 205809\n",
      "\n",
      "(no data for this episode 1 of icustay_id: 205809\n",
      "\n"
     ]
    },
    {
     "name": "stderr",
     "output_type": "stream",
     "text": [
      "Iterating over stays:   7%|▋         | 3869/53333 [09:48<1:41:14,  8.14it/s]"
     ]
    },
    {
     "name": "stdout",
     "output_type": "stream",
     "text": [
      "(no valid events for icustay_id: 211862\n",
      "\n",
      "(no data for this episode 1 of icustay_id: 211862\n",
      "\n"
     ]
    },
    {
     "name": "stderr",
     "output_type": "stream",
     "text": [
      "Iterating over stays:   7%|▋         | 3882/53333 [09:50<1:26:40,  9.51it/s]"
     ]
    },
    {
     "name": "stdout",
     "output_type": "stream",
     "text": [
      "(no valid events for icustay_id: 233093\n",
      "\n",
      "(no data for this episode 1 of icustay_id: 233093\n",
      "\n"
     ]
    },
    {
     "name": "stderr",
     "output_type": "stream",
     "text": [
      "Iterating over stays:   7%|▋         | 3929/53333 [09:55<1:11:40, 11.49it/s]"
     ]
    },
    {
     "name": "stdout",
     "output_type": "stream",
     "text": [
      "(no valid events for icustay_id: 295890\n",
      "\n",
      "(no data for this episode 1 of icustay_id: 295890\n",
      "\n",
      "(no valid events for icustay_id: 270450\n",
      "\n",
      "(no data for this episode 1 of icustay_id: 270450\n",
      "\n"
     ]
    },
    {
     "name": "stderr",
     "output_type": "stream",
     "text": [
      "Iterating over stays:   7%|▋         | 3949/53333 [09:58<1:34:19,  8.73it/s]"
     ]
    },
    {
     "name": "stdout",
     "output_type": "stream",
     "text": [
      "(no valid events for icustay_id: 205277\n",
      "\n",
      "(no data for this episode 1 of icustay_id: 205277\n",
      "\n"
     ]
    },
    {
     "name": "stderr",
     "output_type": "stream",
     "text": [
      "Iterating over stays:   8%|▊         | 4015/53333 [10:06<1:42:28,  8.02it/s]"
     ]
    },
    {
     "name": "stdout",
     "output_type": "stream",
     "text": [
      "(no valid events for icustay_id: 261911\n",
      "\n",
      "(no data for this episode 1 of icustay_id: 261911\n",
      "\n"
     ]
    },
    {
     "name": "stderr",
     "output_type": "stream",
     "text": [
      "Iterating over stays:   8%|▊         | 4114/53333 [10:27<1:22:23,  9.96it/s]"
     ]
    },
    {
     "name": "stdout",
     "output_type": "stream",
     "text": [
      "(no valid events for icustay_id: 252180\n",
      "\n",
      "(no data for this episode 1 of icustay_id: 252180\n",
      "\n"
     ]
    },
    {
     "name": "stderr",
     "output_type": "stream",
     "text": [
      "Iterating over stays:   8%|▊         | 4223/53333 [10:40<1:08:03, 12.03it/s]"
     ]
    },
    {
     "name": "stdout",
     "output_type": "stream",
     "text": [
      "(no valid events for icustay_id: 221914\n",
      "\n",
      "(no data for this episode 1 of icustay_id: 221914\n",
      "\n"
     ]
    },
    {
     "name": "stderr",
     "output_type": "stream",
     "text": [
      "Iterating over stays:   8%|▊         | 4264/53333 [10:45<1:12:52, 11.22it/s]"
     ]
    },
    {
     "name": "stdout",
     "output_type": "stream",
     "text": [
      "(no valid events for icustay_id: 208112\n",
      "\n",
      "(no data for this episode 1 of icustay_id: 208112\n",
      "\n"
     ]
    },
    {
     "name": "stderr",
     "output_type": "stream",
     "text": [
      "Iterating over stays:   8%|▊         | 4336/53333 [11:03<6:35:27,  2.07it/s]"
     ]
    },
    {
     "name": "stdout",
     "output_type": "stream",
     "text": [
      "(no valid events for icustay_id: 231451\n",
      "\n",
      "(no data for this episode 1 of icustay_id: 231451\n",
      "\n"
     ]
    },
    {
     "name": "stderr",
     "output_type": "stream",
     "text": [
      "Iterating over stays:   8%|▊         | 4435/53333 [11:15<1:15:05, 10.85it/s]"
     ]
    },
    {
     "name": "stdout",
     "output_type": "stream",
     "text": [
      "(no valid events for icustay_id: 214735\n",
      "\n",
      "(no data for this episode 1 of icustay_id: 214735\n",
      "\n"
     ]
    },
    {
     "name": "stderr",
     "output_type": "stream",
     "text": [
      "Iterating over stays:   8%|▊         | 4529/53333 [11:26<1:27:16,  9.32it/s]"
     ]
    },
    {
     "name": "stdout",
     "output_type": "stream",
     "text": [
      "(no valid events for icustay_id: 211143\n",
      "\n",
      "(no data for this episode 1 of icustay_id: 211143\n",
      "\n"
     ]
    },
    {
     "name": "stderr",
     "output_type": "stream",
     "text": [
      "Iterating over stays:   9%|▊         | 4553/53333 [11:29<1:34:58,  8.56it/s]"
     ]
    },
    {
     "name": "stdout",
     "output_type": "stream",
     "text": [
      "(no valid events for icustay_id: 260376\n",
      "\n",
      "(no data for this episode 1 of icustay_id: 260376\n",
      "\n"
     ]
    },
    {
     "name": "stderr",
     "output_type": "stream",
     "text": [
      "Iterating over stays:   9%|▊         | 4623/53333 [11:44<1:22:39,  9.82it/s]"
     ]
    },
    {
     "name": "stdout",
     "output_type": "stream",
     "text": [
      "(no valid events for icustay_id: 291134\n",
      "\n",
      "(no data for this episode 1 of icustay_id: 291134\n",
      "\n"
     ]
    },
    {
     "name": "stderr",
     "output_type": "stream",
     "text": [
      "Iterating over stays:   9%|▊         | 4664/53333 [11:50<1:50:55,  7.31it/s]"
     ]
    },
    {
     "name": "stdout",
     "output_type": "stream",
     "text": [
      "(no valid events for icustay_id: 276155\n",
      "\n",
      "(no data for this episode 1 of icustay_id: 276155\n",
      "\n"
     ]
    },
    {
     "name": "stderr",
     "output_type": "stream",
     "text": [
      "Iterating over stays:   9%|▉         | 4696/53333 [11:54<1:20:14, 10.10it/s]"
     ]
    },
    {
     "name": "stdout",
     "output_type": "stream",
     "text": [
      "(no valid events for icustay_id: 267316\n",
      "\n",
      "(no data for this episode 1 of icustay_id: 267316\n",
      "\n"
     ]
    },
    {
     "name": "stderr",
     "output_type": "stream",
     "text": [
      "Iterating over stays:   9%|▉         | 4710/53333 [11:55<1:16:57, 10.53it/s]/tmp/ipykernel_16992/266164007.py:6: DtypeWarning: Columns (5) have mixed types. Specify dtype option on import or set low_memory=False.\n",
      "  events = pd.read_csv(fn)\n",
      "Iterating over stays:   9%|▉         | 4724/53333 [11:58<1:35:32,  8.48it/s]"
     ]
    },
    {
     "name": "stdout",
     "output_type": "stream",
     "text": [
      "(no valid events for icustay_id: 275734\n",
      "\n",
      "(no data for this episode 1 of icustay_id: 275734\n",
      "\n"
     ]
    },
    {
     "name": "stderr",
     "output_type": "stream",
     "text": [
      "Iterating over stays:   9%|▉         | 4742/53333 [12:00<1:16:33, 10.58it/s]"
     ]
    },
    {
     "name": "stdout",
     "output_type": "stream",
     "text": [
      "(no valid events for icustay_id: 206852\n",
      "\n",
      "(no data for this episode 1 of icustay_id: 206852\n",
      "\n"
     ]
    },
    {
     "name": "stderr",
     "output_type": "stream",
     "text": [
      "Iterating over stays:   9%|▉         | 4753/53333 [12:01<1:40:02,  8.09it/s]"
     ]
    },
    {
     "name": "stdout",
     "output_type": "stream",
     "text": [
      "(no valid events for icustay_id: 260315\n",
      "\n",
      "(no data for this episode 1 of icustay_id: 260315\n",
      "\n"
     ]
    },
    {
     "name": "stderr",
     "output_type": "stream",
     "text": [
      "Iterating over stays:   9%|▉         | 4770/53333 [12:03<1:16:04, 10.64it/s]"
     ]
    },
    {
     "name": "stdout",
     "output_type": "stream",
     "text": [
      "(no valid events for icustay_id: 235642\n",
      "\n",
      "(no data for this episode 1 of icustay_id: 235642\n",
      "\n"
     ]
    },
    {
     "name": "stderr",
     "output_type": "stream",
     "text": [
      "Iterating over stays:   9%|▉         | 4833/53333 [12:11<1:18:01, 10.36it/s]"
     ]
    },
    {
     "name": "stdout",
     "output_type": "stream",
     "text": [
      "(no valid events for icustay_id: 228557\n",
      "\n",
      "(no data for this episode 1 of icustay_id: 228557\n",
      "\n"
     ]
    },
    {
     "name": "stderr",
     "output_type": "stream",
     "text": [
      "Iterating over stays:   9%|▉         | 4971/53333 [12:35<1:29:59,  8.96it/s]"
     ]
    },
    {
     "name": "stdout",
     "output_type": "stream",
     "text": [
      "(no valid events for icustay_id: 274007\n",
      "\n",
      "(no data for this episode 1 of icustay_id: 274007\n",
      "\n"
     ]
    },
    {
     "name": "stderr",
     "output_type": "stream",
     "text": [
      "Iterating over stays:   9%|▉         | 4983/53333 [12:36<1:36:09,  8.38it/s]"
     ]
    },
    {
     "name": "stdout",
     "output_type": "stream",
     "text": [
      "(no valid events for icustay_id: 268007\n",
      "\n",
      "(no data for this episode 1 of icustay_id: 268007\n",
      "\n"
     ]
    },
    {
     "name": "stderr",
     "output_type": "stream",
     "text": [
      "Iterating over stays:  10%|▉         | 5084/53333 [12:48<1:19:35, 10.10it/s]"
     ]
    },
    {
     "name": "stdout",
     "output_type": "stream",
     "text": [
      "(no valid events for icustay_id: 217425\n",
      "\n",
      "(no data for this episode 1 of icustay_id: 217425\n",
      "\n"
     ]
    },
    {
     "name": "stderr",
     "output_type": "stream",
     "text": [
      "Iterating over stays:  10%|▉         | 5142/53333 [13:03<1:56:15,  6.91it/s]"
     ]
    },
    {
     "name": "stdout",
     "output_type": "stream",
     "text": [
      "(no valid events for icustay_id: 249884\n",
      "\n",
      "(no data for this episode 1 of icustay_id: 249884\n",
      "\n"
     ]
    },
    {
     "name": "stderr",
     "output_type": "stream",
     "text": [
      "Iterating over stays:  10%|▉         | 5227/53333 [13:14<1:48:46,  7.37it/s]"
     ]
    },
    {
     "name": "stdout",
     "output_type": "stream",
     "text": [
      "(no valid events for icustay_id: 233905\n",
      "\n",
      "(no data for this episode 1 of icustay_id: 233905\n",
      "\n"
     ]
    },
    {
     "name": "stderr",
     "output_type": "stream",
     "text": [
      "Iterating over stays:  10%|▉         | 5235/53333 [13:15<1:35:21,  8.41it/s]"
     ]
    },
    {
     "name": "stdout",
     "output_type": "stream",
     "text": [
      "(no valid events for icustay_id: 234156\n",
      "\n",
      "(no data for this episode 1 of icustay_id: 234156\n",
      "\n"
     ]
    },
    {
     "name": "stderr",
     "output_type": "stream",
     "text": [
      "Iterating over stays:  10%|▉         | 5265/53333 [13:18<1:33:53,  8.53it/s]"
     ]
    },
    {
     "name": "stdout",
     "output_type": "stream",
     "text": [
      "(no valid events for icustay_id: 204254\n",
      "\n",
      "(no data for this episode 1 of icustay_id: 204254\n",
      "\n"
     ]
    },
    {
     "name": "stderr",
     "output_type": "stream",
     "text": [
      "Iterating over stays:  10%|█         | 5353/53333 [13:29<1:33:28,  8.56it/s]"
     ]
    },
    {
     "name": "stdout",
     "output_type": "stream",
     "text": [
      "(no valid events for icustay_id: 268835\n",
      "\n",
      "(no data for this episode 1 of icustay_id: 268835\n",
      "\n"
     ]
    },
    {
     "name": "stderr",
     "output_type": "stream",
     "text": [
      "Iterating over stays:  10%|█         | 5391/53333 [13:41<3:59:13,  3.34it/s]"
     ]
    },
    {
     "name": "stdout",
     "output_type": "stream",
     "text": [
      "(no valid events for icustay_id: 201934\n",
      "\n",
      "(no data for this episode 1 of icustay_id: 201934\n",
      "\n"
     ]
    },
    {
     "name": "stderr",
     "output_type": "stream",
     "text": [
      "Iterating over stays:  10%|█         | 5450/53333 [13:48<1:33:24,  8.54it/s]"
     ]
    },
    {
     "name": "stdout",
     "output_type": "stream",
     "text": [
      "(no valid events for icustay_id: 284566\n",
      "\n",
      "(no data for this episode 1 of icustay_id: 284566\n",
      "\n"
     ]
    },
    {
     "name": "stderr",
     "output_type": "stream",
     "text": [
      "Iterating over stays:  10%|█         | 5453/53333 [13:49<1:40:12,  7.96it/s]"
     ]
    },
    {
     "name": "stdout",
     "output_type": "stream",
     "text": [
      "(no valid events for icustay_id: 211517\n",
      "\n",
      "(no data for this episode 1 of icustay_id: 211517\n",
      "\n"
     ]
    },
    {
     "name": "stderr",
     "output_type": "stream",
     "text": [
      "Iterating over stays:  10%|█         | 5480/53333 [13:52<1:20:20,  9.93it/s]"
     ]
    },
    {
     "name": "stdout",
     "output_type": "stream",
     "text": [
      "(no valid events for icustay_id: 299958\n",
      "\n",
      "(no data for this episode 1 of icustay_id: 299958\n",
      "\n"
     ]
    },
    {
     "name": "stderr",
     "output_type": "stream",
     "text": [
      "Iterating over stays:  10%|█         | 5509/53333 [13:56<1:29:24,  8.92it/s]"
     ]
    },
    {
     "name": "stdout",
     "output_type": "stream",
     "text": [
      "(no valid events for icustay_id: 271151\n",
      "\n",
      "(no data for this episode 1 of icustay_id: 271151\n",
      "\n"
     ]
    },
    {
     "name": "stderr",
     "output_type": "stream",
     "text": [
      "Iterating over stays:  10%|█         | 5561/53333 [14:02<1:44:35,  7.61it/s]"
     ]
    },
    {
     "name": "stdout",
     "output_type": "stream",
     "text": [
      "(no valid events for icustay_id: 243669\n",
      "\n",
      "(no data for this episode 1 of icustay_id: 243669\n",
      "\n"
     ]
    },
    {
     "name": "stderr",
     "output_type": "stream",
     "text": [
      "Iterating over stays:  11%|█         | 5710/53333 [14:28<1:24:56,  9.34it/s]"
     ]
    },
    {
     "name": "stdout",
     "output_type": "stream",
     "text": [
      "(no valid events for icustay_id: 280761\n",
      "\n",
      "(no data for this episode 1 of icustay_id: 280761\n",
      "\n"
     ]
    },
    {
     "name": "stderr",
     "output_type": "stream",
     "text": [
      "Iterating over stays:  11%|█         | 5777/53333 [14:37<1:36:45,  8.19it/s]"
     ]
    },
    {
     "name": "stdout",
     "output_type": "stream",
     "text": [
      "(no valid events for icustay_id: 211374\n",
      "\n",
      "(no data for this episode 1 of icustay_id: 211374\n",
      "\n"
     ]
    },
    {
     "name": "stderr",
     "output_type": "stream",
     "text": [
      "Iterating over stays:  11%|█         | 5808/53333 [14:41<1:53:20,  6.99it/s]"
     ]
    },
    {
     "name": "stdout",
     "output_type": "stream",
     "text": [
      "(no valid events for icustay_id: 225466\n",
      "\n",
      "(no data for this episode 1 of icustay_id: 225466\n",
      "\n"
     ]
    },
    {
     "name": "stderr",
     "output_type": "stream",
     "text": [
      "Iterating over stays:  11%|█         | 5862/53333 [14:47<1:48:57,  7.26it/s]"
     ]
    },
    {
     "name": "stdout",
     "output_type": "stream",
     "text": [
      "(no valid events for icustay_id: 210930\n",
      "\n",
      "(no data for this episode 1 of icustay_id: 210930\n",
      "\n"
     ]
    },
    {
     "name": "stderr",
     "output_type": "stream",
     "text": [
      "Iterating over stays:  11%|█         | 5877/53333 [14:49<1:17:03, 10.26it/s]"
     ]
    },
    {
     "name": "stdout",
     "output_type": "stream",
     "text": [
      "(no valid events for icustay_id: 259267\n",
      "\n",
      "(no data for this episode 1 of icustay_id: 259267\n",
      "\n"
     ]
    },
    {
     "name": "stderr",
     "output_type": "stream",
     "text": [
      "Iterating over stays:  11%|█▏        | 6073/53333 [15:21<1:23:56,  9.38it/s]"
     ]
    },
    {
     "name": "stdout",
     "output_type": "stream",
     "text": [
      "(no valid events for icustay_id: 200120\n",
      "\n",
      "(no data for this episode 1 of icustay_id: 200120\n",
      "\n"
     ]
    },
    {
     "name": "stderr",
     "output_type": "stream",
     "text": [
      "Iterating over stays:  12%|█▏        | 6139/53333 [15:35<2:23:23,  5.49it/s]"
     ]
    },
    {
     "name": "stdout",
     "output_type": "stream",
     "text": [
      "(no valid events for icustay_id: 284434\n",
      "\n",
      "(no data for this episode 1 of icustay_id: 284434\n",
      "\n"
     ]
    },
    {
     "name": "stderr",
     "output_type": "stream",
     "text": [
      "Iterating over stays:  12%|█▏        | 6278/53333 [15:53<1:29:35,  8.75it/s]"
     ]
    },
    {
     "name": "stdout",
     "output_type": "stream",
     "text": [
      "(no valid events for icustay_id: 254288\n",
      "\n",
      "(no data for this episode 1 of icustay_id: 254288\n",
      "\n"
     ]
    },
    {
     "name": "stderr",
     "output_type": "stream",
     "text": [
      "Iterating over stays:  12%|█▏        | 6319/53333 [15:58<1:43:04,  7.60it/s]"
     ]
    },
    {
     "name": "stdout",
     "output_type": "stream",
     "text": [
      "(no valid events for icustay_id: 221770\n",
      "\n",
      "(no data for this episode 1 of icustay_id: 221770\n",
      "\n"
     ]
    },
    {
     "name": "stderr",
     "output_type": "stream",
     "text": [
      "Iterating over stays:  12%|█▏        | 6401/53333 [16:17<2:52:54,  4.52it/s]"
     ]
    },
    {
     "name": "stdout",
     "output_type": "stream",
     "text": [
      "(no valid events for icustay_id: 219617\n",
      "\n",
      "(no data for this episode 1 of icustay_id: 219617\n",
      "\n"
     ]
    },
    {
     "name": "stderr",
     "output_type": "stream",
     "text": [
      "Iterating over stays:  12%|█▏        | 6510/53333 [16:29<1:20:07,  9.74it/s]"
     ]
    },
    {
     "name": "stdout",
     "output_type": "stream",
     "text": [
      "(no valid events for icustay_id: 242237\n",
      "\n",
      "(no data for this episode 1 of icustay_id: 242237\n",
      "\n"
     ]
    },
    {
     "name": "stderr",
     "output_type": "stream",
     "text": [
      "Iterating over stays:  12%|█▏        | 6551/53333 [16:40<1:49:07,  7.15it/s]/tmp/ipykernel_16992/266164007.py:6: DtypeWarning: Columns (5) have mixed types. Specify dtype option on import or set low_memory=False.\n",
      "  events = pd.read_csv(fn)\n",
      "Iterating over stays:  12%|█▏        | 6580/53333 [16:45<2:12:42,  5.87it/s]"
     ]
    },
    {
     "name": "stdout",
     "output_type": "stream",
     "text": [
      "(no valid events for icustay_id: 272773\n",
      "\n",
      "(no data for this episode 1 of icustay_id: 272773\n",
      "\n"
     ]
    },
    {
     "name": "stderr",
     "output_type": "stream",
     "text": [
      "Iterating over stays:  13%|█▎        | 6697/53333 [16:58<1:23:10,  9.34it/s]"
     ]
    },
    {
     "name": "stdout",
     "output_type": "stream",
     "text": [
      "(no valid events for icustay_id: 279245\n",
      "\n",
      "(no data for this episode 1 of icustay_id: 279245\n",
      "\n"
     ]
    },
    {
     "name": "stderr",
     "output_type": "stream",
     "text": [
      "Iterating over stays:  13%|█▎        | 6710/53333 [17:00<1:37:13,  7.99it/s]"
     ]
    },
    {
     "name": "stdout",
     "output_type": "stream",
     "text": [
      "(no valid events for icustay_id: 295355\n",
      "\n",
      "(no data for this episode 1 of icustay_id: 295355\n",
      "\n"
     ]
    },
    {
     "name": "stderr",
     "output_type": "stream",
     "text": [
      "Iterating over stays:  13%|█▎        | 6817/53333 [17:19<3:47:03,  3.41it/s]"
     ]
    },
    {
     "name": "stdout",
     "output_type": "stream",
     "text": [
      "(no valid events for icustay_id: 282555\n",
      "\n",
      "(no data for this episode 1 of icustay_id: 282555\n",
      "\n"
     ]
    },
    {
     "name": "stderr",
     "output_type": "stream",
     "text": [
      "Iterating over stays:  13%|█▎        | 6849/53333 [17:23<1:15:12, 10.30it/s]"
     ]
    },
    {
     "name": "stdout",
     "output_type": "stream",
     "text": [
      "(no valid events for icustay_id: 228993\n",
      "\n",
      "(no data for this episode 1 of icustay_id: 228993\n",
      "\n"
     ]
    },
    {
     "name": "stderr",
     "output_type": "stream",
     "text": [
      "Iterating over stays:  13%|█▎        | 6863/53333 [17:24<1:41:42,  7.61it/s]"
     ]
    },
    {
     "name": "stdout",
     "output_type": "stream",
     "text": [
      "(no valid events for icustay_id: 256089\n",
      "\n",
      "(no data for this episode 1 of icustay_id: 256089\n",
      "\n"
     ]
    },
    {
     "name": "stderr",
     "output_type": "stream",
     "text": [
      "Iterating over stays:  13%|█▎        | 6968/53333 [17:38<1:43:55,  7.44it/s]"
     ]
    },
    {
     "name": "stdout",
     "output_type": "stream",
     "text": [
      "(no valid events for icustay_id: 223855\n",
      "\n",
      "(no data for this episode 1 of icustay_id: 223855\n",
      "\n"
     ]
    },
    {
     "name": "stderr",
     "output_type": "stream",
     "text": [
      "Iterating over stays:  13%|█▎        | 7004/53333 [17:42<1:07:33, 11.43it/s]"
     ]
    },
    {
     "name": "stdout",
     "output_type": "stream",
     "text": [
      "(no valid events for icustay_id: 248254\n",
      "\n",
      "(no data for this episode 1 of icustay_id: 248254\n",
      "\n"
     ]
    },
    {
     "name": "stderr",
     "output_type": "stream",
     "text": [
      "Iterating over stays:  13%|█▎        | 7010/53333 [17:42<1:13:15, 10.54it/s]"
     ]
    },
    {
     "name": "stdout",
     "output_type": "stream",
     "text": [
      "(no valid events for icustay_id: 224237\n",
      "\n",
      "(no data for this episode 1 of icustay_id: 224237\n",
      "\n"
     ]
    },
    {
     "name": "stderr",
     "output_type": "stream",
     "text": [
      "Iterating over stays:  13%|█▎        | 7026/53333 [17:44<1:30:15,  8.55it/s]"
     ]
    },
    {
     "name": "stdout",
     "output_type": "stream",
     "text": [
      "(no valid events for icustay_id: 204705\n",
      "\n",
      "(no data for this episode 1 of icustay_id: 204705\n",
      "\n"
     ]
    },
    {
     "name": "stderr",
     "output_type": "stream",
     "text": [
      "Iterating over stays:  13%|█▎        | 7171/53333 [18:12<1:16:31, 10.05it/s]"
     ]
    },
    {
     "name": "stdout",
     "output_type": "stream",
     "text": [
      "(no valid events for icustay_id: 241165\n",
      "\n",
      "(no data for this episode 1 of icustay_id: 241165\n",
      "\n"
     ]
    },
    {
     "name": "stderr",
     "output_type": "stream",
     "text": [
      "Iterating over stays:  13%|█▎        | 7190/53333 [18:14<1:09:01, 11.14it/s]"
     ]
    },
    {
     "name": "stdout",
     "output_type": "stream",
     "text": [
      "(no valid events for icustay_id: 284946\n",
      "\n",
      "(no data for this episode 1 of icustay_id: 284946\n",
      "\n"
     ]
    },
    {
     "name": "stderr",
     "output_type": "stream",
     "text": [
      "Iterating over stays:  14%|█▎        | 7209/53333 [18:17<1:33:08,  8.25it/s]"
     ]
    },
    {
     "name": "stdout",
     "output_type": "stream",
     "text": [
      "(no valid events for icustay_id: 249330\n",
      "\n",
      "(no data for this episode 1 of icustay_id: 249330\n",
      "\n"
     ]
    },
    {
     "name": "stderr",
     "output_type": "stream",
     "text": [
      "Iterating over stays:  14%|█▎        | 7218/53333 [18:18<1:20:16,  9.57it/s]"
     ]
    },
    {
     "name": "stdout",
     "output_type": "stream",
     "text": [
      "(no valid events for icustay_id: 275366\n",
      "\n",
      "(no data for this episode 1 of icustay_id: 275366\n",
      "\n"
     ]
    },
    {
     "name": "stderr",
     "output_type": "stream",
     "text": [
      "Iterating over stays:  14%|█▎        | 7245/53333 [18:21<1:23:41,  9.18it/s]"
     ]
    },
    {
     "name": "stdout",
     "output_type": "stream",
     "text": [
      "(no valid events for icustay_id: 286386\n",
      "\n",
      "(no data for this episode 1 of icustay_id: 286386\n",
      "\n"
     ]
    },
    {
     "name": "stderr",
     "output_type": "stream",
     "text": [
      "Iterating over stays:  14%|█▍        | 7370/53333 [18:43<1:32:22,  8.29it/s]"
     ]
    },
    {
     "name": "stdout",
     "output_type": "stream",
     "text": [
      "(no valid events for icustay_id: 206182\n",
      "\n",
      "(no data for this episode 1 of icustay_id: 206182\n",
      "\n"
     ]
    },
    {
     "name": "stderr",
     "output_type": "stream",
     "text": [
      "Iterating over stays:  14%|█▍        | 7381/53333 [18:45<1:32:23,  8.29it/s]"
     ]
    },
    {
     "name": "stdout",
     "output_type": "stream",
     "text": [
      "(no valid events for icustay_id: 213914\n",
      "\n",
      "(no data for this episode 1 of icustay_id: 213914\n",
      "\n"
     ]
    },
    {
     "name": "stderr",
     "output_type": "stream",
     "text": [
      "Iterating over stays:  14%|█▍        | 7426/53333 [18:50<1:15:42, 10.11it/s]"
     ]
    },
    {
     "name": "stdout",
     "output_type": "stream",
     "text": [
      "(no valid events for icustay_id: 221701\n",
      "\n",
      "(no data for this episode 1 of icustay_id: 221701\n",
      "\n"
     ]
    },
    {
     "name": "stderr",
     "output_type": "stream",
     "text": [
      "Iterating over stays:  14%|█▍        | 7543/53333 [19:12<3:31:07,  3.61it/s]"
     ]
    },
    {
     "name": "stdout",
     "output_type": "stream",
     "text": [
      "(no valid events for icustay_id: 234681\n",
      "\n",
      "(no data for this episode 1 of icustay_id: 234681\n",
      "\n"
     ]
    },
    {
     "name": "stderr",
     "output_type": "stream",
     "text": [
      "Iterating over stays:  14%|█▍        | 7623/53333 [19:23<1:33:25,  8.15it/s]"
     ]
    },
    {
     "name": "stdout",
     "output_type": "stream",
     "text": [
      "(no valid events for icustay_id: 281011\n",
      "\n",
      "(no data for this episode 1 of icustay_id: 281011\n",
      "\n"
     ]
    },
    {
     "name": "stderr",
     "output_type": "stream",
     "text": [
      "Iterating over stays:  15%|█▍        | 7757/53333 [19:39<1:41:09,  7.51it/s]"
     ]
    },
    {
     "name": "stdout",
     "output_type": "stream",
     "text": [
      "(no valid events for icustay_id: 242759\n",
      "\n",
      "(no data for this episode 1 of icustay_id: 242759\n",
      "\n"
     ]
    },
    {
     "name": "stderr",
     "output_type": "stream",
     "text": [
      "Iterating over stays:  15%|█▍        | 7806/53333 [19:44<1:22:01,  9.25it/s]"
     ]
    },
    {
     "name": "stdout",
     "output_type": "stream",
     "text": [
      "(no valid events for icustay_id: 268268\n",
      "\n",
      "(no data for this episode 1 of icustay_id: 268268\n",
      "\n"
     ]
    },
    {
     "name": "stderr",
     "output_type": "stream",
     "text": [
      "Iterating over stays:  15%|█▍        | 7821/53333 [19:46<1:12:09, 10.51it/s]"
     ]
    },
    {
     "name": "stdout",
     "output_type": "stream",
     "text": [
      "(no valid events for icustay_id: 282773\n",
      "\n",
      "(no data for this episode 1 of icustay_id: 282773\n",
      "\n"
     ]
    },
    {
     "name": "stderr",
     "output_type": "stream",
     "text": [
      "Iterating over stays:  15%|█▍        | 7869/53333 [20:01<1:43:08,  7.35it/s]"
     ]
    },
    {
     "name": "stdout",
     "output_type": "stream",
     "text": [
      "(no valid events for icustay_id: 223439\n",
      "\n",
      "(no data for this episode 1 of icustay_id: 223439\n",
      "\n"
     ]
    },
    {
     "name": "stderr",
     "output_type": "stream",
     "text": [
      "Iterating over stays:  15%|█▍        | 7925/53333 [20:08<1:14:03, 10.22it/s]"
     ]
    },
    {
     "name": "stdout",
     "output_type": "stream",
     "text": [
      "(no valid events for icustay_id: 207497\n",
      "\n",
      "(no data for this episode 1 of icustay_id: 207497\n",
      "\n"
     ]
    },
    {
     "name": "stderr",
     "output_type": "stream",
     "text": [
      "Iterating over stays:  15%|█▍        | 7933/53333 [20:09<1:25:22,  8.86it/s]"
     ]
    },
    {
     "name": "stdout",
     "output_type": "stream",
     "text": [
      "(no valid events for icustay_id: 269888\n",
      "\n",
      "(no data for this episode 1 of icustay_id: 269888\n",
      "\n"
     ]
    },
    {
     "name": "stderr",
     "output_type": "stream",
     "text": [
      "Iterating over stays:  15%|█▍        | 7954/53333 [20:11<1:23:45,  9.03it/s]"
     ]
    },
    {
     "name": "stdout",
     "output_type": "stream",
     "text": [
      "(no valid events for icustay_id: 291975\n",
      "\n",
      "(no data for this episode 1 of icustay_id: 291975\n",
      "\n"
     ]
    },
    {
     "name": "stderr",
     "output_type": "stream",
     "text": [
      "Iterating over stays:  15%|█▌        | 8003/53333 [20:17<1:21:34,  9.26it/s]"
     ]
    },
    {
     "name": "stdout",
     "output_type": "stream",
     "text": [
      "(no valid events for icustay_id: 244162\n",
      "\n",
      "(no data for this episode 1 of icustay_id: 244162\n",
      "\n"
     ]
    },
    {
     "name": "stderr",
     "output_type": "stream",
     "text": [
      "Iterating over stays:  15%|█▌        | 8089/53333 [20:26<1:14:39, 10.10it/s]"
     ]
    },
    {
     "name": "stdout",
     "output_type": "stream",
     "text": [
      "(no valid events for icustay_id: 215084\n",
      "\n",
      "(no data for this episode 1 of icustay_id: 215084\n",
      "\n"
     ]
    },
    {
     "name": "stderr",
     "output_type": "stream",
     "text": [
      "Iterating over stays:  15%|█▌        | 8108/53333 [20:28<1:04:37, 11.66it/s]"
     ]
    },
    {
     "name": "stdout",
     "output_type": "stream",
     "text": [
      "(no valid events for icustay_id: 274449\n",
      "\n",
      "(no data for this episode 1 of icustay_id: 274449\n",
      "\n"
     ]
    },
    {
     "name": "stderr",
     "output_type": "stream",
     "text": [
      "Iterating over stays:  15%|█▌        | 8122/53333 [20:30<1:10:55, 10.62it/s]"
     ]
    },
    {
     "name": "stdout",
     "output_type": "stream",
     "text": [
      "(no valid events for icustay_id: 208867\n",
      "\n",
      "(no data for this episode 1 of icustay_id: 208867\n",
      "\n"
     ]
    },
    {
     "name": "stderr",
     "output_type": "stream",
     "text": [
      "\r",
      "Iterating over stays:  15%|█▌        | 8124/53333 [20:30<1:25:41,  8.79it/s]"
     ]
    },
    {
     "name": "stdout",
     "output_type": "stream",
     "text": [
      "(no valid events for icustay_id: 267803\n",
      "\n",
      "(no data for this episode 1 of icustay_id: 267803\n",
      "\n"
     ]
    },
    {
     "name": "stderr",
     "output_type": "stream",
     "text": [
      "Iterating over stays:  15%|█▌        | 8153/53333 [20:41<1:50:05,  6.84it/s]"
     ]
    },
    {
     "name": "stdout",
     "output_type": "stream",
     "text": [
      "(no valid events for icustay_id: 265322\n",
      "\n",
      "(no data for this episode 1 of icustay_id: 265322\n",
      "\n"
     ]
    },
    {
     "name": "stderr",
     "output_type": "stream",
     "text": [
      "Iterating over stays:  15%|█▌        | 8185/53333 [20:46<1:19:55,  9.41it/s]"
     ]
    },
    {
     "name": "stdout",
     "output_type": "stream",
     "text": [
      "(no valid events for icustay_id: 223324\n",
      "\n",
      "(no data for this episode 1 of icustay_id: 223324\n",
      "\n"
     ]
    },
    {
     "name": "stderr",
     "output_type": "stream",
     "text": [
      "Iterating over stays:  16%|█▌        | 8281/53333 [20:57<1:10:50, 10.60it/s]"
     ]
    },
    {
     "name": "stdout",
     "output_type": "stream",
     "text": [
      "(no valid events for icustay_id: 280114\n",
      "\n",
      "(no data for this episode 1 of icustay_id: 280114\n",
      "\n"
     ]
    },
    {
     "name": "stderr",
     "output_type": "stream",
     "text": [
      "Iterating over stays:  16%|█▌        | 8306/53333 [21:00<1:57:53,  6.37it/s]"
     ]
    },
    {
     "name": "stdout",
     "output_type": "stream",
     "text": [
      "(no valid events for icustay_id: 297197\n",
      "\n",
      "(no data for this episode 1 of icustay_id: 297197\n",
      "\n"
     ]
    },
    {
     "name": "stderr",
     "output_type": "stream",
     "text": [
      "Iterating over stays:  16%|█▌        | 8415/53333 [21:22<1:28:17,  8.48it/s]"
     ]
    },
    {
     "name": "stdout",
     "output_type": "stream",
     "text": [
      "(no valid events for icustay_id: 218087\n",
      "\n",
      "(no data for this episode 1 of icustay_id: 218087\n",
      "\n"
     ]
    },
    {
     "name": "stderr",
     "output_type": "stream",
     "text": [
      "Iterating over stays:  16%|█▌        | 8420/53333 [21:22<1:13:55, 10.13it/s]"
     ]
    },
    {
     "name": "stdout",
     "output_type": "stream",
     "text": [
      "(no valid events for icustay_id: 293554\n",
      "\n",
      "(no data for this episode 1 of icustay_id: 293554\n",
      "\n"
     ]
    },
    {
     "name": "stderr",
     "output_type": "stream",
     "text": [
      "Iterating over stays:  16%|█▌        | 8517/53333 [21:34<1:06:16, 11.27it/s]"
     ]
    },
    {
     "name": "stdout",
     "output_type": "stream",
     "text": [
      "(no valid events for icustay_id: 241207\n",
      "\n",
      "(no data for this episode 1 of icustay_id: 241207\n",
      "\n"
     ]
    },
    {
     "name": "stderr",
     "output_type": "stream",
     "text": [
      "Iterating over stays:  16%|█▌        | 8537/53333 [21:37<1:28:17,  8.46it/s]"
     ]
    },
    {
     "name": "stdout",
     "output_type": "stream",
     "text": [
      "(no valid events for icustay_id: 211761\n",
      "\n",
      "(no data for this episode 1 of icustay_id: 211761\n",
      "\n"
     ]
    },
    {
     "name": "stderr",
     "output_type": "stream",
     "text": [
      "Iterating over stays:  16%|█▌        | 8540/53333 [21:37<1:24:51,  8.80it/s]"
     ]
    },
    {
     "name": "stdout",
     "output_type": "stream",
     "text": [
      "(no valid events for icustay_id: 207703\n",
      "\n",
      "(no data for this episode 1 of icustay_id: 207703\n",
      "\n"
     ]
    },
    {
     "name": "stderr",
     "output_type": "stream",
     "text": [
      "Iterating over stays:  16%|█▌        | 8570/53333 [21:41<1:34:43,  7.88it/s]"
     ]
    },
    {
     "name": "stdout",
     "output_type": "stream",
     "text": [
      "(no valid events for icustay_id: 267842\n",
      "\n",
      "(no data for this episode 1 of icustay_id: 267842\n",
      "\n"
     ]
    },
    {
     "name": "stderr",
     "output_type": "stream",
     "text": [
      "Iterating over stays:  16%|█▌        | 8579/53333 [21:42<1:33:04,  8.01it/s]"
     ]
    },
    {
     "name": "stdout",
     "output_type": "stream",
     "text": [
      "(no valid events for icustay_id: 233246\n",
      "\n",
      "(no data for this episode 1 of icustay_id: 233246\n",
      "\n"
     ]
    },
    {
     "name": "stderr",
     "output_type": "stream",
     "text": [
      "Iterating over stays:  16%|█▌        | 8598/53333 [21:45<1:38:49,  7.54it/s]"
     ]
    },
    {
     "name": "stdout",
     "output_type": "stream",
     "text": [
      "(no valid events for icustay_id: 230878\n",
      "\n",
      "(no data for this episode 1 of icustay_id: 230878\n",
      "\n"
     ]
    },
    {
     "name": "stderr",
     "output_type": "stream",
     "text": [
      "Iterating over stays:  16%|█▌        | 8663/53333 [22:01<1:38:29,  7.56it/s]"
     ]
    },
    {
     "name": "stdout",
     "output_type": "stream",
     "text": [
      "(no valid events for icustay_id: 204380\n",
      "\n",
      "(no data for this episode 1 of icustay_id: 204380\n",
      "\n"
     ]
    },
    {
     "name": "stderr",
     "output_type": "stream",
     "text": [
      "Iterating over stays:  16%|█▋        | 8724/53333 [22:08<1:08:36, 10.84it/s]"
     ]
    },
    {
     "name": "stdout",
     "output_type": "stream",
     "text": [
      "(no valid events for icustay_id: 274524\n",
      "\n",
      "(no data for this episode 1 of icustay_id: 274524\n",
      "\n"
     ]
    },
    {
     "name": "stderr",
     "output_type": "stream",
     "text": [
      "Iterating over stays:  17%|█▋        | 8839/53333 [22:21<1:21:32,  9.09it/s]"
     ]
    },
    {
     "name": "stdout",
     "output_type": "stream",
     "text": [
      "(no valid events for icustay_id: 288812\n",
      "\n",
      "(no data for this episode 1 of icustay_id: 288812\n",
      "\n"
     ]
    },
    {
     "name": "stderr",
     "output_type": "stream",
     "text": [
      "Iterating over stays:  17%|█▋        | 8908/53333 [22:37<1:20:32,  9.19it/s]"
     ]
    },
    {
     "name": "stdout",
     "output_type": "stream",
     "text": [
      "(no valid events for icustay_id: 254270\n",
      "\n",
      "(no data for this episode 1 of icustay_id: 254270\n",
      "\n"
     ]
    },
    {
     "name": "stderr",
     "output_type": "stream",
     "text": [
      "Iterating over stays:  17%|█▋        | 8966/53333 [22:44<1:52:11,  6.59it/s]"
     ]
    },
    {
     "name": "stdout",
     "output_type": "stream",
     "text": [
      "(no valid events for icustay_id: 228671\n",
      "\n",
      "(no data for this episode 1 of icustay_id: 228671\n",
      "\n"
     ]
    },
    {
     "name": "stderr",
     "output_type": "stream",
     "text": [
      "Iterating over stays:  17%|█▋        | 8968/53333 [22:44<1:41:17,  7.30it/s]"
     ]
    },
    {
     "name": "stdout",
     "output_type": "stream",
     "text": [
      "(no valid events for icustay_id: 296288\n",
      "\n",
      "(no data for this episode 1 of icustay_id: 296288\n",
      "\n"
     ]
    },
    {
     "name": "stderr",
     "output_type": "stream",
     "text": [
      "Iterating over stays:  17%|█▋        | 8985/53333 [22:46<1:17:09,  9.58it/s]"
     ]
    },
    {
     "name": "stdout",
     "output_type": "stream",
     "text": [
      "(no valid events for icustay_id: 220783\n",
      "\n",
      "(no data for this episode 1 of icustay_id: 220783\n",
      "\n"
     ]
    },
    {
     "name": "stderr",
     "output_type": "stream",
     "text": [
      "Iterating over stays:  17%|█▋        | 9041/53333 [22:53<1:09:06, 10.68it/s]"
     ]
    },
    {
     "name": "stdout",
     "output_type": "stream",
     "text": [
      "(no valid events for icustay_id: 203328\n",
      "\n",
      "(no data for this episode 1 of icustay_id: 203328\n",
      "\n"
     ]
    },
    {
     "name": "stderr",
     "output_type": "stream",
     "text": [
      "Iterating over stays:  17%|█▋        | 9092/53333 [22:59<1:23:36,  8.82it/s]"
     ]
    },
    {
     "name": "stdout",
     "output_type": "stream",
     "text": [
      "(no valid events for icustay_id: 251976\n",
      "\n",
      "(no data for this episode 1 of icustay_id: 251976\n",
      "\n"
     ]
    },
    {
     "name": "stderr",
     "output_type": "stream",
     "text": [
      "Iterating over stays:  17%|█▋        | 9103/53333 [23:00<1:13:00, 10.10it/s]"
     ]
    },
    {
     "name": "stdout",
     "output_type": "stream",
     "text": [
      "(no valid events for icustay_id: 261982\n",
      "\n",
      "(no data for this episode 1 of icustay_id: 261982\n",
      "\n"
     ]
    },
    {
     "name": "stderr",
     "output_type": "stream",
     "text": [
      "Iterating over stays:  17%|█▋        | 9139/53333 [23:09<6:58:39,  1.76it/s]"
     ]
    },
    {
     "name": "stdout",
     "output_type": "stream",
     "text": [
      "(no valid events for icustay_id: 227546\n",
      "\n",
      "(no data for this episode 1 of icustay_id: 227546\n",
      "\n"
     ]
    },
    {
     "name": "stderr",
     "output_type": "stream",
     "text": [
      "Iterating over stays:  17%|█▋        | 9161/53333 [23:15<1:16:43,  9.59it/s]"
     ]
    },
    {
     "name": "stdout",
     "output_type": "stream",
     "text": [
      "(no valid events for icustay_id: 258281\n",
      "\n",
      "(no data for this episode 1 of icustay_id: 258281\n",
      "\n"
     ]
    },
    {
     "name": "stderr",
     "output_type": "stream",
     "text": [
      "Iterating over stays:  17%|█▋        | 9216/53333 [23:22<1:15:28,  9.74it/s]"
     ]
    },
    {
     "name": "stdout",
     "output_type": "stream",
     "text": [
      "(no valid events for icustay_id: 214012\n",
      "\n",
      "(no data for this episode 1 of icustay_id: 214012\n",
      "\n"
     ]
    },
    {
     "name": "stderr",
     "output_type": "stream",
     "text": [
      "Iterating over stays:  17%|█▋        | 9314/53333 [23:34<1:37:41,  7.51it/s]"
     ]
    },
    {
     "name": "stdout",
     "output_type": "stream",
     "text": [
      "(no valid events for icustay_id: 244411\n",
      "\n",
      "(no data for this episode 1 of icustay_id: 244411\n",
      "\n"
     ]
    },
    {
     "name": "stderr",
     "output_type": "stream",
     "text": [
      "Iterating over stays:  18%|█▊        | 9339/53333 [23:37<1:19:30,  9.22it/s]"
     ]
    },
    {
     "name": "stdout",
     "output_type": "stream",
     "text": [
      "(no valid events for icustay_id: 206931\n",
      "\n",
      "(no data for this episode 1 of icustay_id: 206931\n",
      "\n"
     ]
    },
    {
     "name": "stderr",
     "output_type": "stream",
     "text": [
      "Iterating over stays:  18%|█▊        | 9382/53333 [23:42<1:26:40,  8.45it/s]"
     ]
    },
    {
     "name": "stdout",
     "output_type": "stream",
     "text": [
      "(no valid events for icustay_id: 266284\n",
      "\n",
      "(no data for this episode 1 of icustay_id: 266284\n",
      "\n"
     ]
    },
    {
     "name": "stderr",
     "output_type": "stream",
     "text": [
      "Iterating over stays:  18%|█▊        | 9458/53333 [23:59<1:27:21,  8.37it/s]"
     ]
    },
    {
     "name": "stdout",
     "output_type": "stream",
     "text": [
      "(no valid events for icustay_id: 240408\n",
      "\n",
      "(no data for this episode 1 of icustay_id: 240408\n",
      "\n"
     ]
    },
    {
     "name": "stderr",
     "output_type": "stream",
     "text": [
      "Iterating over stays:  18%|█▊        | 9470/53333 [24:01<1:29:35,  8.16it/s]"
     ]
    },
    {
     "name": "stdout",
     "output_type": "stream",
     "text": [
      "(no valid events for icustay_id: 283656\n",
      "\n",
      "(no data for this episode 1 of icustay_id: 283656\n",
      "\n"
     ]
    },
    {
     "name": "stderr",
     "output_type": "stream",
     "text": [
      "Iterating over stays:  18%|█▊        | 9530/53333 [24:08<1:11:29, 10.21it/s]"
     ]
    },
    {
     "name": "stdout",
     "output_type": "stream",
     "text": [
      "(no valid events for icustay_id: 283274\n",
      "\n",
      "(no data for this episode 1 of icustay_id: 283274\n",
      "\n"
     ]
    },
    {
     "name": "stderr",
     "output_type": "stream",
     "text": [
      "Iterating over stays:  18%|█▊        | 9552/53333 [24:11<1:29:58,  8.11it/s]"
     ]
    },
    {
     "name": "stdout",
     "output_type": "stream",
     "text": [
      "(no valid events for icustay_id: 273436\n",
      "\n",
      "(no data for this episode 1 of icustay_id: 273436\n",
      "\n"
     ]
    },
    {
     "name": "stderr",
     "output_type": "stream",
     "text": [
      "Iterating over stays:  18%|█▊        | 9583/53333 [24:15<1:50:35,  6.59it/s]"
     ]
    },
    {
     "name": "stdout",
     "output_type": "stream",
     "text": [
      "(no valid events for icustay_id: 255728\n",
      "\n",
      "(no data for this episode 1 of icustay_id: 255728\n",
      "\n"
     ]
    },
    {
     "name": "stderr",
     "output_type": "stream",
     "text": [
      "Iterating over stays:  18%|█▊        | 9602/53333 [24:18<1:20:42,  9.03it/s]"
     ]
    },
    {
     "name": "stdout",
     "output_type": "stream",
     "text": [
      "(no valid events for icustay_id: 217378\n",
      "\n",
      "(no data for this episode 1 of icustay_id: 217378\n",
      "\n"
     ]
    },
    {
     "name": "stderr",
     "output_type": "stream",
     "text": [
      "Iterating over stays:  18%|█▊        | 9613/53333 [24:19<1:19:21,  9.18it/s]"
     ]
    },
    {
     "name": "stdout",
     "output_type": "stream",
     "text": [
      "(no valid events for icustay_id: 212556\n",
      "\n",
      "(no data for this episode 1 of icustay_id: 212556\n",
      "\n"
     ]
    },
    {
     "name": "stderr",
     "output_type": "stream",
     "text": [
      "Iterating over stays:  18%|█▊        | 9615/53333 [24:19<1:31:37,  7.95it/s]"
     ]
    },
    {
     "name": "stdout",
     "output_type": "stream",
     "text": [
      "(no valid events for icustay_id: 209672\n",
      "\n",
      "(no data for this episode 1 of icustay_id: 209672\n",
      "\n"
     ]
    },
    {
     "name": "stderr",
     "output_type": "stream",
     "text": [
      "Iterating over stays:  18%|█▊        | 9649/53333 [24:23<1:10:18, 10.36it/s]"
     ]
    },
    {
     "name": "stdout",
     "output_type": "stream",
     "text": [
      "(no valid events for icustay_id: 288349\n",
      "\n",
      "(no data for this episode 1 of icustay_id: 288349\n",
      "\n"
     ]
    },
    {
     "name": "stderr",
     "output_type": "stream",
     "text": [
      "Iterating over stays:  18%|█▊        | 9696/53333 [24:37<1:17:20,  9.40it/s]"
     ]
    },
    {
     "name": "stdout",
     "output_type": "stream",
     "text": [
      "(no valid events for icustay_id: 204091\n",
      "\n",
      "(no data for this episode 1 of icustay_id: 204091\n",
      "\n"
     ]
    },
    {
     "name": "stderr",
     "output_type": "stream",
     "text": [
      "Iterating over stays:  18%|█▊        | 9731/53333 [24:41<1:31:19,  7.96it/s]"
     ]
    },
    {
     "name": "stdout",
     "output_type": "stream",
     "text": [
      "(no valid events for icustay_id: 235022\n",
      "\n",
      "(no data for this episode 1 of icustay_id: 235022\n",
      "\n"
     ]
    },
    {
     "name": "stderr",
     "output_type": "stream",
     "text": [
      "Iterating over stays:  18%|█▊        | 9784/53333 [24:47<1:20:45,  8.99it/s]"
     ]
    },
    {
     "name": "stdout",
     "output_type": "stream",
     "text": [
      "(no valid events for icustay_id: 282468\n",
      "\n",
      "(no data for this episode 1 of icustay_id: 282468\n",
      "\n"
     ]
    },
    {
     "name": "stderr",
     "output_type": "stream",
     "text": [
      "Iterating over stays:  18%|█▊        | 9817/53333 [24:51<1:20:02,  9.06it/s]"
     ]
    },
    {
     "name": "stdout",
     "output_type": "stream",
     "text": [
      "(no valid events for icustay_id: 268342\n",
      "\n",
      "(no data for this episode 1 of icustay_id: 268342\n",
      "\n"
     ]
    },
    {
     "name": "stderr",
     "output_type": "stream",
     "text": [
      "Iterating over stays:  19%|█▊        | 9869/53333 [24:58<1:21:45,  8.86it/s]"
     ]
    },
    {
     "name": "stdout",
     "output_type": "stream",
     "text": [
      "(no valid events for icustay_id: 215501\n",
      "\n",
      "(no data for this episode 1 of icustay_id: 215501\n",
      "\n"
     ]
    },
    {
     "name": "stderr",
     "output_type": "stream",
     "text": [
      "Iterating over stays:  19%|█▊        | 9907/53333 [25:09<2:02:36,  5.90it/s]"
     ]
    },
    {
     "name": "stdout",
     "output_type": "stream",
     "text": [
      "(no valid events for icustay_id: 202795\n",
      "\n",
      "(no data for this episode 1 of icustay_id: 202795\n",
      "\n"
     ]
    },
    {
     "name": "stderr",
     "output_type": "stream",
     "text": [
      "Iterating over stays:  19%|█▊        | 9918/53333 [25:10<1:07:50, 10.67it/s]"
     ]
    },
    {
     "name": "stdout",
     "output_type": "stream",
     "text": [
      "(no valid events for icustay_id: 232278\n",
      "\n",
      "(no data for this episode 1 of icustay_id: 232278\n",
      "\n"
     ]
    },
    {
     "name": "stderr",
     "output_type": "stream",
     "text": [
      "Iterating over stays:  19%|█▊        | 9944/53333 [25:16<2:15:41,  5.33it/s]"
     ]
    },
    {
     "name": "stdout",
     "output_type": "stream",
     "text": [
      "(no valid events for icustay_id: 202497\n",
      "\n",
      "(no data for this episode 1 of icustay_id: 202497\n",
      "\n"
     ]
    },
    {
     "name": "stderr",
     "output_type": "stream",
     "text": [
      "Iterating over stays:  19%|█▋       | 10039/53333 [25:26<1:03:28, 11.37it/s]"
     ]
    },
    {
     "name": "stdout",
     "output_type": "stream",
     "text": [
      "(no valid events for icustay_id: 207476\n",
      "\n",
      "(no data for this episode 1 of icustay_id: 207476\n",
      "\n",
      "(no valid events for icustay_id: 209905\n",
      "\n",
      "(no data for this episode 1 of icustay_id: 209905\n",
      "\n"
     ]
    },
    {
     "name": "stderr",
     "output_type": "stream",
     "text": [
      "Iterating over stays:  19%|█▋       | 10080/53333 [25:31<1:13:38,  9.79it/s]"
     ]
    },
    {
     "name": "stdout",
     "output_type": "stream",
     "text": [
      "(no valid events for icustay_id: 248934\n",
      "\n",
      "(no data for this episode 1 of icustay_id: 248934\n",
      "\n"
     ]
    },
    {
     "name": "stderr",
     "output_type": "stream",
     "text": [
      "Iterating over stays:  19%|█▋       | 10090/53333 [25:32<1:22:05,  8.78it/s]"
     ]
    },
    {
     "name": "stdout",
     "output_type": "stream",
     "text": [
      "(no valid events for icustay_id: 254890\n",
      "\n",
      "(no data for this episode 1 of icustay_id: 254890\n",
      "\n"
     ]
    },
    {
     "name": "stderr",
     "output_type": "stream",
     "text": [
      "Iterating over stays:  19%|█▋       | 10105/53333 [25:34<1:26:52,  8.29it/s]"
     ]
    },
    {
     "name": "stdout",
     "output_type": "stream",
     "text": [
      "(no valid events for icustay_id: 281090\n",
      "\n",
      "(no data for this episode 1 of icustay_id: 281090\n",
      "\n"
     ]
    },
    {
     "name": "stderr",
     "output_type": "stream",
     "text": [
      "Iterating over stays:  19%|█▋       | 10115/53333 [25:35<1:12:32,  9.93it/s]"
     ]
    },
    {
     "name": "stdout",
     "output_type": "stream",
     "text": [
      "(no valid events for icustay_id: 215692\n",
      "\n",
      "(no data for this episode 1 of icustay_id: 215692\n",
      "\n"
     ]
    },
    {
     "name": "stderr",
     "output_type": "stream",
     "text": [
      "Iterating over stays:  19%|█▋       | 10201/53333 [25:53<1:10:32, 10.19it/s]"
     ]
    },
    {
     "name": "stdout",
     "output_type": "stream",
     "text": [
      "(no valid events for icustay_id: 246112\n",
      "\n",
      "(no data for this episode 1 of icustay_id: 246112\n",
      "\n"
     ]
    },
    {
     "name": "stderr",
     "output_type": "stream",
     "text": [
      "Iterating over stays:  19%|█▋       | 10214/53333 [25:54<1:13:08,  9.82it/s]"
     ]
    },
    {
     "name": "stdout",
     "output_type": "stream",
     "text": [
      "(no valid events for icustay_id: 254446\n",
      "\n",
      "(no data for this episode 1 of icustay_id: 254446\n",
      "\n"
     ]
    },
    {
     "name": "stderr",
     "output_type": "stream",
     "text": [
      "Iterating over stays:  19%|█▋       | 10290/53333 [26:03<1:16:07,  9.42it/s]"
     ]
    },
    {
     "name": "stdout",
     "output_type": "stream",
     "text": [
      "(no valid events for icustay_id: 230938\n",
      "\n",
      "(no data for this episode 1 of icustay_id: 230938\n",
      "\n"
     ]
    },
    {
     "name": "stderr",
     "output_type": "stream",
     "text": [
      "Iterating over stays:  19%|█▋       | 10349/53333 [26:11<1:27:18,  8.21it/s]"
     ]
    },
    {
     "name": "stdout",
     "output_type": "stream",
     "text": [
      "(no valid events for icustay_id: 235067\n",
      "\n",
      "(no data for this episode 1 of icustay_id: 235067\n",
      "\n"
     ]
    },
    {
     "name": "stderr",
     "output_type": "stream",
     "text": [
      "Iterating over stays:  19%|█▊       | 10394/53333 [26:16<1:30:17,  7.93it/s]"
     ]
    },
    {
     "name": "stdout",
     "output_type": "stream",
     "text": [
      "(no valid events for icustay_id: 234208\n",
      "\n",
      "(no data for this episode 1 of icustay_id: 234208\n",
      "\n"
     ]
    },
    {
     "name": "stderr",
     "output_type": "stream",
     "text": [
      "Iterating over stays:  20%|█▊       | 10471/53333 [26:34<1:15:32,  9.46it/s]"
     ]
    },
    {
     "name": "stdout",
     "output_type": "stream",
     "text": [
      "(no valid events for icustay_id: 286635\n",
      "\n",
      "(no data for this episode 1 of icustay_id: 286635\n",
      "\n"
     ]
    },
    {
     "name": "stderr",
     "output_type": "stream",
     "text": [
      "Iterating over stays:  20%|█▊       | 10528/53333 [26:41<1:28:32,  8.06it/s]"
     ]
    },
    {
     "name": "stdout",
     "output_type": "stream",
     "text": [
      "(no valid events for icustay_id: 292281\n",
      "\n",
      "(no data for this episode 1 of icustay_id: 292281\n",
      "\n"
     ]
    },
    {
     "name": "stderr",
     "output_type": "stream",
     "text": [
      "Iterating over stays:  20%|█▊       | 10538/53333 [26:43<1:35:23,  7.48it/s]"
     ]
    },
    {
     "name": "stdout",
     "output_type": "stream",
     "text": [
      "(no valid events for icustay_id: 250914\n",
      "\n",
      "(no data for this episode 1 of icustay_id: 250914\n",
      "\n"
     ]
    },
    {
     "name": "stderr",
     "output_type": "stream",
     "text": [
      "Iterating over stays:  20%|█▊       | 10552/53333 [26:44<1:08:09, 10.46it/s]"
     ]
    },
    {
     "name": "stdout",
     "output_type": "stream",
     "text": [
      "(no valid events for icustay_id: 257952\n",
      "\n",
      "(no data for this episode 1 of icustay_id: 257952\n",
      "\n"
     ]
    },
    {
     "name": "stderr",
     "output_type": "stream",
     "text": [
      "Iterating over stays:  20%|█▊       | 10575/53333 [26:47<1:32:35,  7.70it/s]"
     ]
    },
    {
     "name": "stdout",
     "output_type": "stream",
     "text": [
      "(no valid events for icustay_id: 235572\n",
      "\n",
      "(no data for this episode 1 of icustay_id: 235572\n",
      "\n"
     ]
    },
    {
     "name": "stderr",
     "output_type": "stream",
     "text": [
      "Iterating over stays:  20%|█▊       | 10616/53333 [26:52<1:42:32,  6.94it/s]"
     ]
    },
    {
     "name": "stdout",
     "output_type": "stream",
     "text": [
      "(no valid events for icustay_id: 243754\n",
      "\n",
      "(no data for this episode 1 of icustay_id: 243754\n",
      "\n"
     ]
    },
    {
     "name": "stderr",
     "output_type": "stream",
     "text": [
      "Iterating over stays:  20%|█▊       | 10620/53333 [26:53<1:29:50,  7.92it/s]"
     ]
    },
    {
     "name": "stdout",
     "output_type": "stream",
     "text": [
      "(no valid events for icustay_id: 223739\n",
      "\n",
      "(no data for this episode 1 of icustay_id: 223739\n",
      "\n"
     ]
    },
    {
     "name": "stderr",
     "output_type": "stream",
     "text": [
      "Iterating over stays:  20%|█▊       | 10644/53333 [26:55<1:16:59,  9.24it/s]"
     ]
    },
    {
     "name": "stdout",
     "output_type": "stream",
     "text": [
      "(no valid events for icustay_id: 283501\n",
      "\n",
      "(no data for this episode 1 of icustay_id: 283501\n",
      "\n"
     ]
    },
    {
     "name": "stderr",
     "output_type": "stream",
     "text": [
      "Iterating over stays:  20%|█▊       | 10727/53333 [27:13<1:18:04,  9.10it/s]"
     ]
    },
    {
     "name": "stdout",
     "output_type": "stream",
     "text": [
      "(no valid events for icustay_id: 247052\n",
      "\n",
      "(no data for this episode 1 of icustay_id: 247052\n",
      "\n"
     ]
    },
    {
     "name": "stderr",
     "output_type": "stream",
     "text": [
      "Iterating over stays:  20%|█▊       | 10794/53333 [27:21<1:43:08,  6.87it/s]"
     ]
    },
    {
     "name": "stdout",
     "output_type": "stream",
     "text": [
      "(no valid events for icustay_id: 206706\n",
      "\n",
      "(no data for this episode 1 of icustay_id: 206706\n",
      "\n"
     ]
    },
    {
     "name": "stderr",
     "output_type": "stream",
     "text": [
      "Iterating over stays:  20%|█▊       | 10900/53333 [27:35<1:24:55,  8.33it/s]"
     ]
    },
    {
     "name": "stdout",
     "output_type": "stream",
     "text": [
      "(no valid events for icustay_id: 259479\n",
      "\n",
      "(no data for this episode 1 of icustay_id: 259479\n",
      "\n"
     ]
    },
    {
     "name": "stderr",
     "output_type": "stream",
     "text": [
      "Iterating over stays:  21%|█▊       | 10952/53333 [27:46<1:17:04,  9.16it/s]"
     ]
    },
    {
     "name": "stdout",
     "output_type": "stream",
     "text": [
      "(no valid events for icustay_id: 279770\n",
      "\n",
      "(no data for this episode 1 of icustay_id: 279770\n",
      "\n"
     ]
    },
    {
     "name": "stderr",
     "output_type": "stream",
     "text": [
      "Iterating over stays:  21%|█▊       | 11007/53333 [27:55<1:14:21,  9.49it/s]"
     ]
    },
    {
     "name": "stdout",
     "output_type": "stream",
     "text": [
      "(no valid events for icustay_id: 234265\n",
      "\n",
      "(no data for this episode 1 of icustay_id: 234265\n",
      "\n"
     ]
    },
    {
     "name": "stderr",
     "output_type": "stream",
     "text": [
      "Iterating over stays:  21%|█▉       | 11151/53333 [28:20<2:58:40,  3.93it/s]"
     ]
    },
    {
     "name": "stdout",
     "output_type": "stream",
     "text": [
      "(no valid events for icustay_id: 238024\n",
      "\n",
      "(no data for this episode 1 of icustay_id: 238024\n",
      "\n"
     ]
    },
    {
     "name": "stderr",
     "output_type": "stream",
     "text": [
      "Iterating over stays:  21%|█▉       | 11158/53333 [28:21<1:47:19,  6.55it/s]"
     ]
    },
    {
     "name": "stdout",
     "output_type": "stream",
     "text": [
      "(no valid events for icustay_id: 233938\n",
      "\n",
      "(no data for this episode 1 of icustay_id: 233938\n",
      "\n"
     ]
    },
    {
     "name": "stderr",
     "output_type": "stream",
     "text": [
      "Iterating over stays:  21%|██▎        | 11193/53333 [28:24<51:13, 13.71it/s]"
     ]
    },
    {
     "name": "stdout",
     "output_type": "stream",
     "text": [
      "(no valid events for icustay_id: 268441\n",
      "\n",
      "(no data for this episode 1 of icustay_id: 268441\n",
      "\n"
     ]
    },
    {
     "name": "stderr",
     "output_type": "stream",
     "text": [
      "Iterating over stays:  21%|█▉       | 11205/53333 [28:26<1:04:16, 10.92it/s]"
     ]
    },
    {
     "name": "stdout",
     "output_type": "stream",
     "text": [
      "(no valid events for icustay_id: 289927\n",
      "\n",
      "(no data for this episode 1 of icustay_id: 289927\n",
      "\n"
     ]
    },
    {
     "name": "stderr",
     "output_type": "stream",
     "text": [
      "\r",
      "Iterating over stays:  21%|█▉       | 11207/53333 [28:26<1:08:32, 10.24it/s]"
     ]
    },
    {
     "name": "stdout",
     "output_type": "stream",
     "text": [
      "(no valid events for icustay_id: 280424\n",
      "\n",
      "(no data for this episode 1 of icustay_id: 280424\n",
      "\n"
     ]
    },
    {
     "name": "stderr",
     "output_type": "stream",
     "text": [
      "Iterating over stays:  21%|█▉       | 11221/53333 [28:27<1:01:06, 11.49it/s]"
     ]
    },
    {
     "name": "stdout",
     "output_type": "stream",
     "text": [
      "(no valid events for icustay_id: 206267\n",
      "\n",
      "(no data for this episode 1 of icustay_id: 206267\n",
      "\n"
     ]
    },
    {
     "name": "stderr",
     "output_type": "stream",
     "text": [
      "Iterating over stays:  21%|██▎        | 11279/53333 [28:33<57:12, 12.25it/s]"
     ]
    },
    {
     "name": "stdout",
     "output_type": "stream",
     "text": [
      "(no valid events for icustay_id: 232204\n",
      "\n",
      "(no data for this episode 1 of icustay_id: 232204\n",
      "\n"
     ]
    },
    {
     "name": "stderr",
     "output_type": "stream",
     "text": [
      "Iterating over stays:  22%|█▉       | 11494/53333 [29:13<1:07:10, 10.38it/s]"
     ]
    },
    {
     "name": "stdout",
     "output_type": "stream",
     "text": [
      "(no valid events for icustay_id: 264143\n",
      "\n",
      "(no data for this episode 1 of icustay_id: 264143\n",
      "\n"
     ]
    },
    {
     "name": "stderr",
     "output_type": "stream",
     "text": [
      "Iterating over stays:  22%|█▉       | 11520/53333 [29:17<2:01:10,  5.75it/s]"
     ]
    },
    {
     "name": "stdout",
     "output_type": "stream",
     "text": [
      "(no valid events for icustay_id: 267234\n",
      "\n",
      "(no data for this episode 1 of icustay_id: 267234\n",
      "\n"
     ]
    },
    {
     "name": "stderr",
     "output_type": "stream",
     "text": [
      "Iterating over stays:  22%|█▉       | 11522/53333 [29:17<1:51:02,  6.28it/s]"
     ]
    },
    {
     "name": "stdout",
     "output_type": "stream",
     "text": [
      "(no valid events for icustay_id: 299409\n",
      "\n",
      "(no data for this episode 1 of icustay_id: 299409\n",
      "\n"
     ]
    },
    {
     "name": "stderr",
     "output_type": "stream",
     "text": [
      "Iterating over stays:  22%|█▉       | 11529/53333 [29:18<1:31:37,  7.60it/s]"
     ]
    },
    {
     "name": "stdout",
     "output_type": "stream",
     "text": [
      "(no valid events for icustay_id: 267126\n",
      "\n",
      "(no data for this episode 1 of icustay_id: 267126\n",
      "\n"
     ]
    },
    {
     "name": "stderr",
     "output_type": "stream",
     "text": [
      "Iterating over stays:  22%|█▉       | 11562/53333 [29:22<1:14:20,  9.36it/s]"
     ]
    },
    {
     "name": "stdout",
     "output_type": "stream",
     "text": [
      "(no valid events for icustay_id: 215094\n",
      "\n",
      "(no data for this episode 1 of icustay_id: 215094\n",
      "\n"
     ]
    },
    {
     "name": "stderr",
     "output_type": "stream",
     "text": [
      "Iterating over stays:  22%|█▉       | 11669/53333 [29:40<1:25:41,  8.10it/s]"
     ]
    },
    {
     "name": "stdout",
     "output_type": "stream",
     "text": [
      "(no valid events for icustay_id: 243369\n",
      "\n",
      "(no data for this episode 1 of icustay_id: 243369\n",
      "\n"
     ]
    },
    {
     "name": "stderr",
     "output_type": "stream",
     "text": [
      "Iterating over stays:  22%|█▉       | 11674/53333 [29:40<1:11:21,  9.73it/s]"
     ]
    },
    {
     "name": "stdout",
     "output_type": "stream",
     "text": [
      "(no valid events for icustay_id: 273453\n",
      "\n",
      "(no data for this episode 1 of icustay_id: 273453\n",
      "\n"
     ]
    },
    {
     "name": "stderr",
     "output_type": "stream",
     "text": [
      "Iterating over stays:  22%|█▉       | 11723/53333 [29:48<1:05:06, 10.65it/s]"
     ]
    },
    {
     "name": "stdout",
     "output_type": "stream",
     "text": [
      "(no valid events for icustay_id: 254861\n",
      "\n",
      "(no data for this episode 1 of icustay_id: 254861\n",
      "\n"
     ]
    },
    {
     "name": "stderr",
     "output_type": "stream",
     "text": [
      "Iterating over stays:  22%|██       | 11858/53333 [30:09<1:14:11,  9.32it/s]"
     ]
    },
    {
     "name": "stdout",
     "output_type": "stream",
     "text": [
      "(no valid events for icustay_id: 240204\n",
      "\n",
      "(no data for this episode 1 of icustay_id: 240204\n",
      "\n"
     ]
    },
    {
     "name": "stderr",
     "output_type": "stream",
     "text": [
      "Iterating over stays:  22%|██       | 11896/53333 [30:15<1:07:31, 10.23it/s]"
     ]
    },
    {
     "name": "stdout",
     "output_type": "stream",
     "text": [
      "(no valid events for icustay_id: 230896\n",
      "\n",
      "(no data for this episode 1 of icustay_id: 230896\n",
      "\n"
     ]
    },
    {
     "name": "stderr",
     "output_type": "stream",
     "text": [
      "Iterating over stays:  22%|██       | 11925/53333 [30:18<1:23:27,  8.27it/s]"
     ]
    },
    {
     "name": "stdout",
     "output_type": "stream",
     "text": [
      "(no valid events for icustay_id: 271595\n",
      "\n",
      "(no data for this episode 1 of icustay_id: 271595\n",
      "\n"
     ]
    },
    {
     "name": "stderr",
     "output_type": "stream",
     "text": [
      "Iterating over stays:  22%|██       | 11927/53333 [30:19<1:21:42,  8.45it/s]"
     ]
    },
    {
     "name": "stdout",
     "output_type": "stream",
     "text": [
      "(no valid events for icustay_id: 230136\n",
      "\n",
      "(no data for this episode 1 of icustay_id: 230136\n",
      "\n"
     ]
    },
    {
     "name": "stderr",
     "output_type": "stream",
     "text": [
      "Iterating over stays:  22%|██       | 11945/53333 [30:21<1:18:49,  8.75it/s]"
     ]
    },
    {
     "name": "stdout",
     "output_type": "stream",
     "text": [
      "(no valid events for icustay_id: 222229\n",
      "\n",
      "(no data for this episode 1 of icustay_id: 222229\n",
      "\n"
     ]
    },
    {
     "name": "stderr",
     "output_type": "stream",
     "text": [
      "Iterating over stays:  23%|██       | 12013/53333 [30:28<1:09:58,  9.84it/s]"
     ]
    },
    {
     "name": "stdout",
     "output_type": "stream",
     "text": [
      "(no valid events for icustay_id: 263881\n",
      "\n",
      "(no data for this episode 1 of icustay_id: 263881\n",
      "\n"
     ]
    },
    {
     "name": "stderr",
     "output_type": "stream",
     "text": [
      "Iterating over stays:  23%|██       | 12030/53333 [30:30<1:06:55, 10.29it/s]"
     ]
    },
    {
     "name": "stdout",
     "output_type": "stream",
     "text": [
      "(no valid events for icustay_id: 287677\n",
      "\n",
      "(no data for this episode 1 of icustay_id: 287677\n",
      "\n"
     ]
    },
    {
     "name": "stderr",
     "output_type": "stream",
     "text": [
      "Iterating over stays:  23%|██       | 12084/53333 [30:36<1:19:48,  8.61it/s]"
     ]
    },
    {
     "name": "stdout",
     "output_type": "stream",
     "text": [
      "(no valid events for icustay_id: 260522\n",
      "\n",
      "(no data for this episode 1 of icustay_id: 260522\n",
      "\n"
     ]
    },
    {
     "name": "stderr",
     "output_type": "stream",
     "text": [
      "Iterating over stays:  23%|██       | 12087/53333 [30:36<1:10:20,  9.77it/s]"
     ]
    },
    {
     "name": "stdout",
     "output_type": "stream",
     "text": [
      "(no valid events for icustay_id: 274316\n",
      "\n",
      "(no data for this episode 1 of icustay_id: 274316\n",
      "\n"
     ]
    },
    {
     "name": "stderr",
     "output_type": "stream",
     "text": [
      "Iterating over stays:  23%|██       | 12153/53333 [30:52<1:21:12,  8.45it/s]"
     ]
    },
    {
     "name": "stdout",
     "output_type": "stream",
     "text": [
      "(no valid events for icustay_id: 258950\n",
      "\n",
      "(no data for this episode 1 of icustay_id: 258950\n",
      "\n"
     ]
    },
    {
     "name": "stderr",
     "output_type": "stream",
     "text": [
      "Iterating over stays:  23%|██       | 12368/53333 [31:25<1:04:47, 10.54it/s]"
     ]
    },
    {
     "name": "stdout",
     "output_type": "stream",
     "text": [
      "(no valid events for icustay_id: 235032\n",
      "\n",
      "(no data for this episode 1 of icustay_id: 235032\n",
      "\n"
     ]
    },
    {
     "name": "stderr",
     "output_type": "stream",
     "text": [
      "Iterating over stays:  23%|██       | 12376/53333 [31:26<1:15:18,  9.06it/s]"
     ]
    },
    {
     "name": "stdout",
     "output_type": "stream",
     "text": [
      "(no valid events for icustay_id: 245547\n",
      "\n",
      "(no data for this episode 1 of icustay_id: 245547\n",
      "\n"
     ]
    },
    {
     "name": "stderr",
     "output_type": "stream",
     "text": [
      "Iterating over stays:  24%|██       | 12581/53333 [31:52<1:14:26,  9.12it/s]"
     ]
    },
    {
     "name": "stdout",
     "output_type": "stream",
     "text": [
      "(no valid events for icustay_id: 213831\n",
      "\n",
      "(no data for this episode 1 of icustay_id: 213831\n",
      "\n"
     ]
    },
    {
     "name": "stderr",
     "output_type": "stream",
     "text": [
      "Iterating over stays:  24%|██▏      | 12602/53333 [31:57<6:38:49,  1.70it/s]"
     ]
    },
    {
     "name": "stdout",
     "output_type": "stream",
     "text": [
      "(no valid events for icustay_id: 290813\n",
      "\n",
      "(no data for this episode 1 of icustay_id: 290813\n",
      "\n"
     ]
    },
    {
     "name": "stderr",
     "output_type": "stream",
     "text": [
      "Iterating over stays:  24%|██▏      | 12619/53333 [32:05<2:15:15,  5.02it/s]"
     ]
    },
    {
     "name": "stdout",
     "output_type": "stream",
     "text": [
      "(no valid events for icustay_id: 220905\n",
      "\n",
      "(no data for this episode 1 of icustay_id: 220905\n",
      "\n"
     ]
    },
    {
     "name": "stderr",
     "output_type": "stream",
     "text": [
      "Iterating over stays:  24%|██▏      | 12785/53333 [32:29<1:04:28, 10.48it/s]"
     ]
    },
    {
     "name": "stdout",
     "output_type": "stream",
     "text": [
      "(no valid events for icustay_id: 267989\n",
      "\n",
      "(no data for this episode 1 of icustay_id: 267989\n",
      "\n"
     ]
    },
    {
     "name": "stderr",
     "output_type": "stream",
     "text": [
      "Iterating over stays:  24%|██▏      | 12822/53333 [32:40<1:36:22,  7.01it/s]"
     ]
    },
    {
     "name": "stdout",
     "output_type": "stream",
     "text": [
      "(no valid events for icustay_id: 227502\n",
      "\n",
      "(no data for this episode 1 of icustay_id: 227502\n",
      "\n"
     ]
    },
    {
     "name": "stderr",
     "output_type": "stream",
     "text": [
      "Iterating over stays:  24%|██▏      | 12844/53333 [32:45<3:31:05,  3.20it/s]"
     ]
    },
    {
     "name": "stdout",
     "output_type": "stream",
     "text": [
      "(no valid events for icustay_id: 215627\n",
      "\n",
      "(no data for this episode 1 of icustay_id: 215627\n",
      "\n"
     ]
    },
    {
     "name": "stderr",
     "output_type": "stream",
     "text": [
      "Iterating over stays:  24%|██▏      | 12849/53333 [32:45<1:44:47,  6.44it/s]"
     ]
    },
    {
     "name": "stdout",
     "output_type": "stream",
     "text": [
      "(no valid events for icustay_id: 211009\n",
      "\n",
      "(no data for this episode 1 of icustay_id: 211009\n",
      "\n"
     ]
    },
    {
     "name": "stderr",
     "output_type": "stream",
     "text": [
      "Iterating over stays:  24%|██▏      | 12852/53333 [32:46<1:32:10,  7.32it/s]"
     ]
    },
    {
     "name": "stdout",
     "output_type": "stream",
     "text": [
      "(no valid events for icustay_id: 230623\n",
      "\n",
      "(no data for this episode 1 of icustay_id: 230623\n",
      "\n"
     ]
    },
    {
     "name": "stderr",
     "output_type": "stream",
     "text": [
      "Iterating over stays:  24%|██▏      | 12857/53333 [32:46<1:24:19,  8.00it/s]"
     ]
    },
    {
     "name": "stdout",
     "output_type": "stream",
     "text": [
      "(no valid events for icustay_id: 299254\n",
      "\n",
      "(no data for this episode 1 of icustay_id: 299254\n",
      "\n"
     ]
    },
    {
     "name": "stderr",
     "output_type": "stream",
     "text": [
      "Iterating over stays:  24%|██▏      | 12868/53333 [32:47<1:12:47,  9.27it/s]"
     ]
    },
    {
     "name": "stdout",
     "output_type": "stream",
     "text": [
      "(no valid events for icustay_id: 223700\n",
      "\n",
      "(no data for this episode 1 of icustay_id: 223700\n",
      "\n"
     ]
    },
    {
     "name": "stderr",
     "output_type": "stream",
     "text": [
      "Iterating over stays:  24%|██▏      | 12968/53333 [32:58<1:19:33,  8.46it/s]"
     ]
    },
    {
     "name": "stdout",
     "output_type": "stream",
     "text": [
      "(no valid events for icustay_id: 286824\n",
      "\n",
      "(no data for this episode 1 of icustay_id: 286824\n",
      "\n"
     ]
    },
    {
     "name": "stderr",
     "output_type": "stream",
     "text": [
      "Iterating over stays:  24%|██▏      | 13064/53333 [33:09<1:24:04,  7.98it/s]"
     ]
    },
    {
     "name": "stdout",
     "output_type": "stream",
     "text": [
      "(no valid events for icustay_id: 250070\n",
      "\n",
      "(no data for this episode 1 of icustay_id: 250070\n",
      "\n"
     ]
    },
    {
     "name": "stderr",
     "output_type": "stream",
     "text": [
      "Iterating over stays:  25%|██▎      | 13372/53333 [34:06<1:28:37,  7.51it/s]"
     ]
    },
    {
     "name": "stdout",
     "output_type": "stream",
     "text": [
      "(no valid events for icustay_id: 267290\n",
      "\n",
      "(no data for this episode 1 of icustay_id: 267290\n",
      "\n"
     ]
    },
    {
     "name": "stderr",
     "output_type": "stream",
     "text": [
      "Iterating over stays:  25%|██▎      | 13404/53333 [34:10<1:02:30, 10.65it/s]"
     ]
    },
    {
     "name": "stdout",
     "output_type": "stream",
     "text": [
      "(no valid events for icustay_id: 277036\n",
      "\n",
      "(no data for this episode 1 of icustay_id: 277036\n",
      "\n"
     ]
    },
    {
     "name": "stderr",
     "output_type": "stream",
     "text": [
      "Iterating over stays:  25%|██▎      | 13464/53333 [34:18<1:10:18,  9.45it/s]"
     ]
    },
    {
     "name": "stdout",
     "output_type": "stream",
     "text": [
      "(no valid events for icustay_id: 291330\n",
      "\n",
      "(no data for this episode 1 of icustay_id: 291330\n",
      "\n"
     ]
    },
    {
     "name": "stderr",
     "output_type": "stream",
     "text": [
      "Iterating over stays:  26%|██▎      | 13631/53333 [34:45<1:08:42,  9.63it/s]"
     ]
    },
    {
     "name": "stdout",
     "output_type": "stream",
     "text": [
      "(no valid events for icustay_id: 200956\n",
      "\n",
      "(no data for this episode 1 of icustay_id: 200956\n",
      "\n"
     ]
    },
    {
     "name": "stderr",
     "output_type": "stream",
     "text": [
      "Iterating over stays:  26%|██▎      | 13655/53333 [34:48<1:23:45,  7.89it/s]"
     ]
    },
    {
     "name": "stdout",
     "output_type": "stream",
     "text": [
      "(no valid events for icustay_id: 200047\n",
      "\n",
      "(no data for this episode 1 of icustay_id: 200047\n",
      "\n"
     ]
    },
    {
     "name": "stderr",
     "output_type": "stream",
     "text": [
      "Iterating over stays:  26%|██▎      | 13662/53333 [34:49<1:07:40,  9.77it/s]"
     ]
    },
    {
     "name": "stdout",
     "output_type": "stream",
     "text": [
      "(no valid events for icustay_id: 264648\n",
      "\n",
      "(no data for this episode 1 of icustay_id: 264648\n",
      "\n"
     ]
    },
    {
     "name": "stderr",
     "output_type": "stream",
     "text": [
      "Iterating over stays:  26%|██▎      | 13842/53333 [35:18<1:37:44,  6.73it/s]"
     ]
    },
    {
     "name": "stdout",
     "output_type": "stream",
     "text": [
      "(no valid events for icustay_id: 237730\n",
      "\n",
      "(no data for this episode 1 of icustay_id: 237730\n",
      "\n"
     ]
    },
    {
     "name": "stderr",
     "output_type": "stream",
     "text": [
      "Iterating over stays:  26%|██▎      | 13866/53333 [35:22<1:45:29,  6.24it/s]"
     ]
    },
    {
     "name": "stdout",
     "output_type": "stream",
     "text": [
      "(no valid events for icustay_id: 234828\n",
      "\n",
      "(no data for this episode 1 of icustay_id: 234828\n",
      "\n"
     ]
    },
    {
     "name": "stderr",
     "output_type": "stream",
     "text": [
      "Iterating over stays:  26%|██▎      | 13996/53333 [35:39<1:16:46,  8.54it/s]"
     ]
    },
    {
     "name": "stdout",
     "output_type": "stream",
     "text": [
      "(no valid events for icustay_id: 273221\n",
      "\n",
      "(no data for this episode 1 of icustay_id: 273221\n",
      "\n"
     ]
    },
    {
     "name": "stderr",
     "output_type": "stream",
     "text": [
      "Iterating over stays:  26%|██▉        | 14010/53333 [35:40<59:21, 11.04it/s]"
     ]
    },
    {
     "name": "stdout",
     "output_type": "stream",
     "text": [
      "(no valid events for icustay_id: 209942\n",
      "\n",
      "(no data for this episode 1 of icustay_id: 209942\n",
      "\n"
     ]
    },
    {
     "name": "stderr",
     "output_type": "stream",
     "text": [
      "Iterating over stays:  26%|██▎      | 14062/53333 [35:47<1:28:26,  7.40it/s]"
     ]
    },
    {
     "name": "stdout",
     "output_type": "stream",
     "text": [
      "(no valid events for icustay_id: 258592\n",
      "\n",
      "(no data for this episode 1 of icustay_id: 258592\n",
      "\n"
     ]
    },
    {
     "name": "stderr",
     "output_type": "stream",
     "text": [
      "Iterating over stays:  26%|██▍      | 14120/53333 [36:02<1:01:21, 10.65it/s]"
     ]
    },
    {
     "name": "stdout",
     "output_type": "stream",
     "text": [
      "(no valid events for icustay_id: 294564\n",
      "\n",
      "(no data for this episode 1 of icustay_id: 294564\n",
      "\n"
     ]
    },
    {
     "name": "stderr",
     "output_type": "stream",
     "text": [
      "Iterating over stays:  26%|██▍      | 14124/53333 [36:02<1:17:08,  8.47it/s]"
     ]
    },
    {
     "name": "stdout",
     "output_type": "stream",
     "text": [
      "(no valid events for icustay_id: 207111\n",
      "\n",
      "(no data for this episode 1 of icustay_id: 207111\n",
      "\n"
     ]
    },
    {
     "name": "stderr",
     "output_type": "stream",
     "text": [
      "Iterating over stays:  27%|██▍      | 14171/53333 [36:09<1:23:04,  7.86it/s]"
     ]
    },
    {
     "name": "stdout",
     "output_type": "stream",
     "text": [
      "(no valid events for icustay_id: 266881\n",
      "\n",
      "(no data for this episode 1 of icustay_id: 266881\n",
      "\n"
     ]
    },
    {
     "name": "stderr",
     "output_type": "stream",
     "text": [
      "Iterating over stays:  27%|██▍      | 14222/53333 [36:16<1:14:59,  8.69it/s]"
     ]
    },
    {
     "name": "stdout",
     "output_type": "stream",
     "text": [
      "(no valid events for icustay_id: 271806\n",
      "\n",
      "(no data for this episode 1 of icustay_id: 271806\n",
      "\n"
     ]
    },
    {
     "name": "stderr",
     "output_type": "stream",
     "text": [
      "Iterating over stays:  27%|██▍      | 14261/53333 [36:21<1:22:36,  7.88it/s]"
     ]
    },
    {
     "name": "stdout",
     "output_type": "stream",
     "text": [
      "(no valid events for icustay_id: 293559\n",
      "\n",
      "(no data for this episode 1 of icustay_id: 293559\n",
      "\n"
     ]
    },
    {
     "name": "stderr",
     "output_type": "stream",
     "text": [
      "Iterating over stays:  27%|██▍      | 14270/53333 [36:22<1:03:55, 10.19it/s]"
     ]
    },
    {
     "name": "stdout",
     "output_type": "stream",
     "text": [
      "(no valid events for icustay_id: 214379\n",
      "\n",
      "(no data for this episode 1 of icustay_id: 214379\n",
      "\n"
     ]
    },
    {
     "name": "stderr",
     "output_type": "stream",
     "text": [
      "Iterating over stays:  27%|██▍      | 14274/53333 [36:22<1:10:56,  9.18it/s]"
     ]
    },
    {
     "name": "stdout",
     "output_type": "stream",
     "text": [
      "(no valid events for icustay_id: 227381\n",
      "\n",
      "(no data for this episode 1 of icustay_id: 227381\n",
      "\n"
     ]
    },
    {
     "name": "stderr",
     "output_type": "stream",
     "text": [
      "Iterating over stays:  27%|██▍      | 14289/53333 [36:24<1:06:33,  9.78it/s]"
     ]
    },
    {
     "name": "stdout",
     "output_type": "stream",
     "text": [
      "(no valid events for icustay_id: 285641\n",
      "\n",
      "(no data for this episode 1 of icustay_id: 285641\n",
      "\n"
     ]
    },
    {
     "name": "stderr",
     "output_type": "stream",
     "text": [
      "Iterating over stays:  27%|██▍      | 14343/53333 [36:38<1:13:15,  8.87it/s]"
     ]
    },
    {
     "name": "stdout",
     "output_type": "stream",
     "text": [
      "(no valid events for icustay_id: 271958\n",
      "\n",
      "(no data for this episode 1 of icustay_id: 271958\n",
      "\n"
     ]
    },
    {
     "name": "stderr",
     "output_type": "stream",
     "text": [
      "Iterating over stays:  27%|██▍      | 14392/53333 [36:44<1:28:13,  7.36it/s]"
     ]
    },
    {
     "name": "stdout",
     "output_type": "stream",
     "text": [
      "(no valid events for icustay_id: 285624\n",
      "\n",
      "(no data for this episode 1 of icustay_id: 285624\n",
      "\n"
     ]
    },
    {
     "name": "stderr",
     "output_type": "stream",
     "text": [
      "Iterating over stays:  27%|██▍      | 14396/53333 [36:45<1:33:23,  6.95it/s]"
     ]
    },
    {
     "name": "stdout",
     "output_type": "stream",
     "text": [
      "(no valid events for icustay_id: 265508\n",
      "\n",
      "(no data for this episode 1 of icustay_id: 265508\n",
      "\n"
     ]
    },
    {
     "name": "stderr",
     "output_type": "stream",
     "text": [
      "Iterating over stays:  27%|██▍      | 14477/53333 [36:54<1:09:54,  9.26it/s]"
     ]
    },
    {
     "name": "stdout",
     "output_type": "stream",
     "text": [
      "(no valid events for icustay_id: 285243\n",
      "\n",
      "(no data for this episode 1 of icustay_id: 285243\n",
      "\n"
     ]
    },
    {
     "name": "stderr",
     "output_type": "stream",
     "text": [
      "Iterating over stays:  27%|██▍      | 14489/53333 [36:56<1:17:36,  8.34it/s]"
     ]
    },
    {
     "name": "stdout",
     "output_type": "stream",
     "text": [
      "(no valid events for icustay_id: 285462\n",
      "\n",
      "(no data for this episode 1 of icustay_id: 285462\n",
      "\n"
     ]
    },
    {
     "name": "stderr",
     "output_type": "stream",
     "text": [
      "Iterating over stays:  27%|██▍      | 14499/53333 [36:57<1:31:34,  7.07it/s]"
     ]
    },
    {
     "name": "stdout",
     "output_type": "stream",
     "text": [
      "(no valid events for icustay_id: 263600\n",
      "\n",
      "(no data for this episode 1 of icustay_id: 263600\n",
      "\n",
      "(no valid events for icustay_id: 268357\n",
      "\n",
      "(no data for this episode 1 of icustay_id: 268357\n",
      "\n"
     ]
    },
    {
     "name": "stderr",
     "output_type": "stream",
     "text": [
      "Iterating over stays:  27%|██▍      | 14573/53333 [37:09<6:14:31,  1.72it/s]"
     ]
    },
    {
     "name": "stdout",
     "output_type": "stream",
     "text": [
      "(no valid events for icustay_id: 280944\n",
      "\n",
      "(no data for this episode 1 of icustay_id: 280944\n",
      "\n"
     ]
    },
    {
     "name": "stderr",
     "output_type": "stream",
     "text": [
      "Iterating over stays:  27%|██▍      | 14578/53333 [37:14<8:01:27,  1.34it/s]"
     ]
    },
    {
     "name": "stdout",
     "output_type": "stream",
     "text": [
      "(no valid events for icustay_id: 245833\n",
      "\n",
      "(no data for this episode 1 of icustay_id: 245833\n",
      "\n"
     ]
    },
    {
     "name": "stderr",
     "output_type": "stream",
     "text": [
      "Iterating over stays:  27%|██▍      | 14656/53333 [37:24<1:36:00,  6.71it/s]"
     ]
    },
    {
     "name": "stdout",
     "output_type": "stream",
     "text": [
      "(no valid events for icustay_id: 243336\n",
      "\n",
      "(no data for this episode 1 of icustay_id: 243336\n",
      "\n"
     ]
    },
    {
     "name": "stderr",
     "output_type": "stream",
     "text": [
      "Iterating over stays:  28%|██▍      | 14796/53333 [37:48<2:49:18,  3.79it/s]"
     ]
    },
    {
     "name": "stdout",
     "output_type": "stream",
     "text": [
      "(no valid events for icustay_id: 227294\n",
      "\n",
      "(no data for this episode 1 of icustay_id: 227294\n",
      "\n"
     ]
    },
    {
     "name": "stderr",
     "output_type": "stream",
     "text": [
      "Iterating over stays:  28%|██▌      | 14924/53333 [38:03<1:18:27,  8.16it/s]"
     ]
    },
    {
     "name": "stdout",
     "output_type": "stream",
     "text": [
      "(no valid events for icustay_id: 272992\n",
      "\n",
      "(no data for this episode 1 of icustay_id: 272992\n",
      "\n"
     ]
    },
    {
     "name": "stderr",
     "output_type": "stream",
     "text": [
      "Iterating over stays:  28%|██▌      | 14926/53333 [38:03<1:16:50,  8.33it/s]"
     ]
    },
    {
     "name": "stdout",
     "output_type": "stream",
     "text": [
      "(no valid events for icustay_id: 286856\n",
      "\n",
      "(no data for this episode 1 of icustay_id: 286856\n",
      "\n"
     ]
    },
    {
     "name": "stderr",
     "output_type": "stream",
     "text": [
      "Iterating over stays:  28%|██▌      | 14969/53333 [38:08<1:13:45,  8.67it/s]"
     ]
    },
    {
     "name": "stdout",
     "output_type": "stream",
     "text": [
      "(no valid events for icustay_id: 220026\n",
      "\n",
      "(no data for this episode 1 of icustay_id: 220026\n",
      "\n"
     ]
    },
    {
     "name": "stderr",
     "output_type": "stream",
     "text": [
      "Iterating over stays:  28%|██▌      | 15121/53333 [38:35<1:24:35,  7.53it/s]"
     ]
    },
    {
     "name": "stdout",
     "output_type": "stream",
     "text": [
      "(no valid events for icustay_id: 218805\n",
      "\n",
      "(no data for this episode 1 of icustay_id: 218805\n",
      "\n"
     ]
    },
    {
     "name": "stderr",
     "output_type": "stream",
     "text": [
      "Iterating over stays:  28%|██▌      | 15138/53333 [38:37<1:10:09,  9.07it/s]"
     ]
    },
    {
     "name": "stdout",
     "output_type": "stream",
     "text": [
      "(no valid events for icustay_id: 252002\n",
      "\n",
      "(no data for this episode 1 of icustay_id: 252002\n",
      "\n"
     ]
    },
    {
     "name": "stderr",
     "output_type": "stream",
     "text": [
      "Iterating over stays:  28%|██▌      | 15188/53333 [38:43<1:23:58,  7.57it/s]"
     ]
    },
    {
     "name": "stdout",
     "output_type": "stream",
     "text": [
      "(no valid events for icustay_id: 250243\n",
      "\n",
      "(no data for this episode 1 of icustay_id: 250243\n",
      "\n"
     ]
    },
    {
     "name": "stderr",
     "output_type": "stream",
     "text": [
      "Iterating over stays:  29%|██▌      | 15232/53333 [38:54<4:28:32,  2.36it/s]"
     ]
    },
    {
     "name": "stdout",
     "output_type": "stream",
     "text": [
      "(no valid events for icustay_id: 289976\n",
      "\n",
      "(no data for this episode 1 of icustay_id: 289976\n",
      "\n"
     ]
    },
    {
     "name": "stderr",
     "output_type": "stream",
     "text": [
      "Iterating over stays:  29%|██▌      | 15269/53333 [38:59<1:15:02,  8.45it/s]"
     ]
    },
    {
     "name": "stdout",
     "output_type": "stream",
     "text": [
      "(no valid events for icustay_id: 225689\n",
      "\n",
      "(no data for this episode 1 of icustay_id: 225689\n",
      "\n"
     ]
    },
    {
     "name": "stderr",
     "output_type": "stream",
     "text": [
      "Iterating over stays:  29%|██▌      | 15285/53333 [39:03<2:14:45,  4.71it/s]"
     ]
    },
    {
     "name": "stdout",
     "output_type": "stream",
     "text": [
      "(no valid events for icustay_id: 237784\n",
      "\n",
      "(no data for this episode 1 of icustay_id: 237784\n",
      "\n",
      "(no valid events for icustay_id: 292837\n",
      "\n",
      "(no data for this episode 1 of icustay_id: 292837\n",
      "\n"
     ]
    },
    {
     "name": "stderr",
     "output_type": "stream",
     "text": [
      "Iterating over stays:  29%|██▌      | 15372/53333 [39:14<1:01:21, 10.31it/s]"
     ]
    },
    {
     "name": "stdout",
     "output_type": "stream",
     "text": [
      "(no valid events for icustay_id: 201601\n",
      "\n",
      "(no data for this episode 1 of icustay_id: 201601\n",
      "\n"
     ]
    },
    {
     "name": "stderr",
     "output_type": "stream",
     "text": [
      "Iterating over stays:  29%|██▌      | 15380/53333 [39:14<1:11:16,  8.88it/s]"
     ]
    },
    {
     "name": "stdout",
     "output_type": "stream",
     "text": [
      "(no valid events for icustay_id: 254619\n",
      "\n",
      "(no data for this episode 1 of icustay_id: 254619\n",
      "\n"
     ]
    },
    {
     "name": "stderr",
     "output_type": "stream",
     "text": [
      "Iterating over stays:  29%|██▌      | 15518/53333 [39:40<1:24:13,  7.48it/s]"
     ]
    },
    {
     "name": "stdout",
     "output_type": "stream",
     "text": [
      "(no valid events for icustay_id: 284516\n",
      "\n",
      "(no data for this episode 1 of icustay_id: 284516\n",
      "\n"
     ]
    },
    {
     "name": "stderr",
     "output_type": "stream",
     "text": [
      "Iterating over stays:  29%|██▋      | 15563/53333 [39:45<1:02:23, 10.09it/s]"
     ]
    },
    {
     "name": "stdout",
     "output_type": "stream",
     "text": [
      "(no valid events for icustay_id: 217693\n",
      "\n",
      "(no data for this episode 1 of icustay_id: 217693\n",
      "\n"
     ]
    },
    {
     "name": "stderr",
     "output_type": "stream",
     "text": [
      "Iterating over stays:  29%|██▋      | 15676/53333 [39:59<1:12:14,  8.69it/s]"
     ]
    },
    {
     "name": "stdout",
     "output_type": "stream",
     "text": [
      "(no valid events for icustay_id: 284162\n",
      "\n",
      "(no data for this episode 1 of icustay_id: 284162\n",
      "\n"
     ]
    },
    {
     "name": "stderr",
     "output_type": "stream",
     "text": [
      "Iterating over stays:  30%|██▎     | 15744/53333 [40:15<10:06:16,  1.03it/s]"
     ]
    },
    {
     "name": "stdout",
     "output_type": "stream",
     "text": [
      "(no valid events for icustay_id: 246057\n",
      "\n",
      "(no data for this episode 1 of icustay_id: 246057\n",
      "\n"
     ]
    },
    {
     "name": "stderr",
     "output_type": "stream",
     "text": [
      "Iterating over stays:  30%|██▋      | 15764/53333 [40:19<1:09:56,  8.95it/s]"
     ]
    },
    {
     "name": "stdout",
     "output_type": "stream",
     "text": [
      "(no valid events for icustay_id: 205061\n",
      "\n",
      "(no data for this episode 1 of icustay_id: 205061\n",
      "\n"
     ]
    },
    {
     "name": "stderr",
     "output_type": "stream",
     "text": [
      "Iterating over stays:  30%|██▋      | 15836/53333 [40:28<1:07:34,  9.25it/s]"
     ]
    },
    {
     "name": "stdout",
     "output_type": "stream",
     "text": [
      "(no valid events for icustay_id: 297646\n",
      "\n",
      "(no data for this episode 1 of icustay_id: 297646\n",
      "\n"
     ]
    },
    {
     "name": "stderr",
     "output_type": "stream",
     "text": [
      "Iterating over stays:  30%|██▋      | 15872/53333 [40:32<1:26:18,  7.23it/s]"
     ]
    },
    {
     "name": "stdout",
     "output_type": "stream",
     "text": [
      "(no valid events for icustay_id: 266078\n",
      "\n",
      "(no data for this episode 1 of icustay_id: 266078\n",
      "\n"
     ]
    },
    {
     "name": "stderr",
     "output_type": "stream",
     "text": [
      "Iterating over stays:  30%|██▋      | 16058/53333 [41:03<1:20:19,  7.73it/s]"
     ]
    },
    {
     "name": "stdout",
     "output_type": "stream",
     "text": [
      "(no valid events for icustay_id: 206947\n",
      "\n",
      "(no data for this episode 1 of icustay_id: 206947\n",
      "\n"
     ]
    },
    {
     "name": "stderr",
     "output_type": "stream",
     "text": [
      "Iterating over stays:  30%|██▋      | 16089/53333 [41:07<1:28:12,  7.04it/s]"
     ]
    },
    {
     "name": "stdout",
     "output_type": "stream",
     "text": [
      "(no valid events for icustay_id: 273747\n",
      "\n",
      "(no data for this episode 1 of icustay_id: 273747\n",
      "\n"
     ]
    },
    {
     "name": "stderr",
     "output_type": "stream",
     "text": [
      "Iterating over stays:  30%|██▋      | 16111/53333 [41:10<1:04:23,  9.64it/s]"
     ]
    },
    {
     "name": "stdout",
     "output_type": "stream",
     "text": [
      "(no valid events for icustay_id: 268383\n",
      "\n",
      "(no data for this episode 1 of icustay_id: 268383\n",
      "\n"
     ]
    },
    {
     "name": "stderr",
     "output_type": "stream",
     "text": [
      "Iterating over stays:  30%|███▎       | 16152/53333 [41:15<56:24, 10.99it/s]"
     ]
    },
    {
     "name": "stdout",
     "output_type": "stream",
     "text": [
      "(no valid events for icustay_id: 244284\n",
      "\n",
      "(no data for this episode 1 of icustay_id: 244284\n",
      "\n"
     ]
    },
    {
     "name": "stderr",
     "output_type": "stream",
     "text": [
      "Iterating over stays:  30%|██▋      | 16255/53333 [41:33<1:02:18,  9.92it/s]"
     ]
    },
    {
     "name": "stdout",
     "output_type": "stream",
     "text": [
      "(no valid events for icustay_id: 241984\n",
      "\n",
      "(no data for this episode 1 of icustay_id: 241984\n",
      "\n"
     ]
    },
    {
     "name": "stderr",
     "output_type": "stream",
     "text": [
      "Iterating over stays:  31%|██▋      | 16268/53333 [41:36<3:53:04,  2.65it/s]"
     ]
    },
    {
     "name": "stdout",
     "output_type": "stream",
     "text": [
      "(no valid events for icustay_id: 210085\n",
      "\n",
      "(no data for this episode 1 of icustay_id: 210085\n",
      "\n"
     ]
    },
    {
     "name": "stderr",
     "output_type": "stream",
     "text": [
      "Iterating over stays:  31%|██▊      | 16329/53333 [41:45<1:25:52,  7.18it/s]"
     ]
    },
    {
     "name": "stdout",
     "output_type": "stream",
     "text": [
      "(no valid events for icustay_id: 219463\n",
      "\n",
      "(no data for this episode 1 of icustay_id: 219463\n",
      "\n"
     ]
    },
    {
     "name": "stderr",
     "output_type": "stream",
     "text": [
      "Iterating over stays:  31%|███▍       | 16423/53333 [41:56<53:00, 11.60it/s]"
     ]
    },
    {
     "name": "stdout",
     "output_type": "stream",
     "text": [
      "(no valid events for icustay_id: 265994\n",
      "\n",
      "(no data for this episode 1 of icustay_id: 265994\n",
      "\n"
     ]
    },
    {
     "name": "stderr",
     "output_type": "stream",
     "text": [
      "Iterating over stays:  31%|███▍       | 16427/53333 [41:57<57:18, 10.73it/s]"
     ]
    },
    {
     "name": "stdout",
     "output_type": "stream",
     "text": [
      "(no valid events for icustay_id: 226502\n",
      "\n",
      "(no data for this episode 1 of icustay_id: 226502\n",
      "\n"
     ]
    },
    {
     "name": "stderr",
     "output_type": "stream",
     "text": [
      "Iterating over stays:  31%|███▍       | 16590/53333 [42:26<57:54, 10.57it/s]"
     ]
    },
    {
     "name": "stdout",
     "output_type": "stream",
     "text": [
      "(no valid events for icustay_id: 265303\n",
      "\n",
      "(no data for this episode 1 of icustay_id: 265303\n",
      "\n"
     ]
    },
    {
     "name": "stderr",
     "output_type": "stream",
     "text": [
      "Iterating over stays:  31%|██▊      | 16679/53333 [42:37<1:00:21, 10.12it/s]"
     ]
    },
    {
     "name": "stdout",
     "output_type": "stream",
     "text": [
      "(no valid events for icustay_id: 293371\n",
      "\n",
      "(no data for this episode 1 of icustay_id: 293371\n",
      "\n"
     ]
    },
    {
     "name": "stderr",
     "output_type": "stream",
     "text": [
      "\r",
      "Iterating over stays:  31%|███▍       | 16681/53333 [42:37<58:22, 10.46it/s]"
     ]
    },
    {
     "name": "stdout",
     "output_type": "stream",
     "text": [
      "(no valid events for icustay_id: 260839\n",
      "\n",
      "(no data for this episode 1 of icustay_id: 260839\n",
      "\n"
     ]
    },
    {
     "name": "stderr",
     "output_type": "stream",
     "text": [
      "Iterating over stays:  31%|██▊      | 16710/53333 [42:41<1:12:18,  8.44it/s]"
     ]
    },
    {
     "name": "stdout",
     "output_type": "stream",
     "text": [
      "(no valid events for icustay_id: 268122\n",
      "\n",
      "(no data for this episode 1 of icustay_id: 268122\n",
      "\n"
     ]
    },
    {
     "name": "stderr",
     "output_type": "stream",
     "text": [
      "Iterating over stays:  31%|██▊      | 16737/53333 [42:44<1:01:21,  9.94it/s]"
     ]
    },
    {
     "name": "stdout",
     "output_type": "stream",
     "text": [
      "(no valid events for icustay_id: 296466\n",
      "\n",
      "(no data for this episode 1 of icustay_id: 296466\n",
      "\n"
     ]
    },
    {
     "name": "stderr",
     "output_type": "stream",
     "text": [
      "Iterating over stays:  31%|███▍       | 16750/53333 [42:45<55:52, 10.91it/s]"
     ]
    },
    {
     "name": "stdout",
     "output_type": "stream",
     "text": [
      "(no valid events for icustay_id: 247749\n",
      "\n",
      "(no data for this episode 1 of icustay_id: 247749\n",
      "\n"
     ]
    },
    {
     "name": "stderr",
     "output_type": "stream",
     "text": [
      "Iterating over stays:  31%|██▊      | 16792/53333 [42:57<2:25:55,  4.17it/s]"
     ]
    },
    {
     "name": "stdout",
     "output_type": "stream",
     "text": [
      "(no valid events for icustay_id: 226800\n",
      "\n",
      "(no data for this episode 1 of icustay_id: 226800\n",
      "\n"
     ]
    },
    {
     "name": "stderr",
     "output_type": "stream",
     "text": [
      "Iterating over stays:  32%|██▊      | 16823/53333 [43:01<1:12:57,  8.34it/s]"
     ]
    },
    {
     "name": "stdout",
     "output_type": "stream",
     "text": [
      "(no valid events for icustay_id: 257896\n",
      "\n",
      "(no data for this episode 1 of icustay_id: 257896\n",
      "\n"
     ]
    },
    {
     "name": "stderr",
     "output_type": "stream",
     "text": [
      "Iterating over stays:  32%|███▍       | 16906/53333 [43:11<53:51, 11.27it/s]"
     ]
    },
    {
     "name": "stdout",
     "output_type": "stream",
     "text": [
      "(no valid events for icustay_id: 217480\n",
      "\n",
      "(no data for this episode 1 of icustay_id: 217480\n",
      "\n"
     ]
    },
    {
     "name": "stderr",
     "output_type": "stream",
     "text": [
      "Iterating over stays:  32%|██▊      | 16917/53333 [43:13<1:14:21,  8.16it/s]"
     ]
    },
    {
     "name": "stdout",
     "output_type": "stream",
     "text": [
      "(no valid events for icustay_id: 233684\n",
      "\n",
      "(no data for this episode 1 of icustay_id: 233684\n",
      "\n"
     ]
    },
    {
     "name": "stderr",
     "output_type": "stream",
     "text": [
      "Iterating over stays:  32%|██▊      | 16938/53333 [43:16<1:26:19,  7.03it/s]"
     ]
    },
    {
     "name": "stdout",
     "output_type": "stream",
     "text": [
      "(no valid events for icustay_id: 249801\n",
      "\n",
      "(no data for this episode 1 of icustay_id: 249801\n",
      "\n"
     ]
    },
    {
     "name": "stderr",
     "output_type": "stream",
     "text": [
      "Iterating over stays:  32%|███▌       | 17006/53333 [43:25<54:34, 11.09it/s]"
     ]
    },
    {
     "name": "stdout",
     "output_type": "stream",
     "text": [
      "(no valid events for icustay_id: 207490\n",
      "\n",
      "(no data for this episode 1 of icustay_id: 207490\n",
      "\n"
     ]
    },
    {
     "name": "stderr",
     "output_type": "stream",
     "text": [
      "Iterating over stays:  32%|██▉      | 17239/53333 [44:02<1:05:58,  9.12it/s]"
     ]
    },
    {
     "name": "stdout",
     "output_type": "stream",
     "text": [
      "(no valid events for icustay_id: 209779\n",
      "\n",
      "(no data for this episode 1 of icustay_id: 209779\n",
      "\n"
     ]
    },
    {
     "name": "stderr",
     "output_type": "stream",
     "text": [
      "Iterating over stays:  32%|██▉      | 17293/53333 [44:17<3:30:38,  2.85it/s]"
     ]
    },
    {
     "name": "stdout",
     "output_type": "stream",
     "text": [
      "(no valid events for icustay_id: 218796\n",
      "\n",
      "(no data for this episode 1 of icustay_id: 218796\n",
      "\n"
     ]
    },
    {
     "name": "stderr",
     "output_type": "stream",
     "text": [
      "Iterating over stays:  32%|██▉      | 17319/53333 [44:20<1:00:15,  9.96it/s]"
     ]
    },
    {
     "name": "stdout",
     "output_type": "stream",
     "text": [
      "(no valid events for icustay_id: 249059\n",
      "\n",
      "(no data for this episode 1 of icustay_id: 249059\n",
      "\n"
     ]
    },
    {
     "name": "stderr",
     "output_type": "stream",
     "text": [
      "Iterating over stays:  33%|██▉      | 17364/53333 [44:26<1:32:45,  6.46it/s]"
     ]
    },
    {
     "name": "stdout",
     "output_type": "stream",
     "text": [
      "(no valid events for icustay_id: 221568\n",
      "\n",
      "(no data for this episode 1 of icustay_id: 221568\n",
      "\n"
     ]
    },
    {
     "name": "stderr",
     "output_type": "stream",
     "text": [
      "Iterating over stays:  33%|██▉      | 17411/53333 [44:32<1:39:21,  6.03it/s]"
     ]
    },
    {
     "name": "stdout",
     "output_type": "stream",
     "text": [
      "(no valid events for icustay_id: 239183\n",
      "\n",
      "(no data for this episode 1 of icustay_id: 239183\n",
      "\n"
     ]
    },
    {
     "name": "stderr",
     "output_type": "stream",
     "text": [
      "Iterating over stays:  33%|██▉      | 17486/53333 [44:41<1:00:25,  9.89it/s]"
     ]
    },
    {
     "name": "stdout",
     "output_type": "stream",
     "text": [
      "(no valid events for icustay_id: 248166\n",
      "\n",
      "(no data for this episode 1 of icustay_id: 248166\n",
      "\n"
     ]
    },
    {
     "name": "stderr",
     "output_type": "stream",
     "text": [
      "Iterating over stays:  33%|███▌       | 17522/53333 [44:45<59:14, 10.07it/s]"
     ]
    },
    {
     "name": "stdout",
     "output_type": "stream",
     "text": [
      "(no valid events for icustay_id: 213737\n",
      "\n",
      "(no data for this episode 1 of icustay_id: 213737\n",
      "\n"
     ]
    },
    {
     "name": "stderr",
     "output_type": "stream",
     "text": [
      "Iterating over stays:  33%|███▌       | 17534/53333 [44:46<57:36, 10.36it/s]"
     ]
    },
    {
     "name": "stdout",
     "output_type": "stream",
     "text": [
      "(no valid events for icustay_id: 236983\n",
      "\n",
      "(no data for this episode 1 of icustay_id: 236983\n",
      "\n"
     ]
    },
    {
     "name": "stderr",
     "output_type": "stream",
     "text": [
      "Iterating over stays:  33%|██▉      | 17592/53333 [45:01<1:10:40,  8.43it/s]"
     ]
    },
    {
     "name": "stdout",
     "output_type": "stream",
     "text": [
      "(no valid events for icustay_id: 233989\n",
      "\n",
      "(no data for this episode 1 of icustay_id: 233989\n",
      "\n"
     ]
    },
    {
     "name": "stderr",
     "output_type": "stream",
     "text": [
      "Iterating over stays:  33%|██▉      | 17721/53333 [45:18<1:00:35,  9.80it/s]"
     ]
    },
    {
     "name": "stdout",
     "output_type": "stream",
     "text": [
      "(no valid events for icustay_id: 268209\n",
      "\n",
      "(no data for this episode 1 of icustay_id: 268209\n",
      "\n"
     ]
    },
    {
     "name": "stderr",
     "output_type": "stream",
     "text": [
      "Iterating over stays:  33%|██▉      | 17740/53333 [45:20<1:02:14,  9.53it/s]"
     ]
    },
    {
     "name": "stdout",
     "output_type": "stream",
     "text": [
      "(no valid events for icustay_id: 279697\n",
      "\n",
      "(no data for this episode 1 of icustay_id: 279697\n",
      "\n"
     ]
    },
    {
     "name": "stderr",
     "output_type": "stream",
     "text": [
      "Iterating over stays:  33%|██▉      | 17755/53333 [45:26<3:17:12,  3.01it/s]"
     ]
    },
    {
     "name": "stdout",
     "output_type": "stream",
     "text": [
      "(no valid events for icustay_id: 277407\n",
      "\n",
      "(no data for this episode 1 of icustay_id: 277407\n",
      "\n"
     ]
    },
    {
     "name": "stderr",
     "output_type": "stream",
     "text": [
      "Iterating over stays:  33%|██▉      | 17759/53333 [45:28<3:07:24,  3.16it/s]"
     ]
    },
    {
     "name": "stdout",
     "output_type": "stream",
     "text": [
      "(no valid events for icustay_id: 265209\n",
      "\n",
      "(no data for this episode 1 of icustay_id: 265209\n",
      "\n"
     ]
    },
    {
     "name": "stderr",
     "output_type": "stream",
     "text": [
      "Iterating over stays:  34%|███▋       | 17939/53333 [45:52<55:30, 10.63it/s]"
     ]
    },
    {
     "name": "stdout",
     "output_type": "stream",
     "text": [
      "(no valid events for icustay_id: 230584\n",
      "\n",
      "(no data for this episode 1 of icustay_id: 230584\n",
      "\n"
     ]
    },
    {
     "name": "stderr",
     "output_type": "stream",
     "text": [
      "Iterating over stays:  34%|███      | 18162/53333 [46:26<1:24:18,  6.95it/s]"
     ]
    },
    {
     "name": "stdout",
     "output_type": "stream",
     "text": [
      "(no valid events for icustay_id: 204722\n",
      "\n",
      "(no data for this episode 1 of icustay_id: 204722\n",
      "\n"
     ]
    },
    {
     "name": "stderr",
     "output_type": "stream",
     "text": [
      "Iterating over stays:  34%|███      | 18206/53333 [46:32<1:39:58,  5.86it/s]"
     ]
    },
    {
     "name": "stdout",
     "output_type": "stream",
     "text": [
      "(no valid events for icustay_id: 275208\n",
      "\n",
      "(no data for this episode 1 of icustay_id: 275208\n",
      "\n"
     ]
    },
    {
     "name": "stderr",
     "output_type": "stream",
     "text": [
      "Iterating over stays:  34%|███      | 18246/53333 [46:36<1:12:27,  8.07it/s]"
     ]
    },
    {
     "name": "stdout",
     "output_type": "stream",
     "text": [
      "(no valid events for icustay_id: 278629\n",
      "\n",
      "(no data for this episode 1 of icustay_id: 278629\n",
      "\n"
     ]
    },
    {
     "name": "stderr",
     "output_type": "stream",
     "text": [
      "Iterating over stays:  34%|███      | 18258/53333 [46:37<1:02:26,  9.36it/s]"
     ]
    },
    {
     "name": "stdout",
     "output_type": "stream",
     "text": [
      "(no valid events for icustay_id: 267811\n",
      "\n",
      "(no data for this episode 1 of icustay_id: 267811\n",
      "\n"
     ]
    },
    {
     "name": "stderr",
     "output_type": "stream",
     "text": [
      "Iterating over stays:  34%|███▊       | 18327/53333 [46:53<57:43, 10.11it/s]"
     ]
    },
    {
     "name": "stdout",
     "output_type": "stream",
     "text": [
      "(no valid events for icustay_id: 218997\n",
      "\n",
      "(no data for this episode 1 of icustay_id: 218997\n",
      "\n"
     ]
    },
    {
     "name": "stderr",
     "output_type": "stream",
     "text": [
      "Iterating over stays:  34%|███▊       | 18376/53333 [46:59<51:07, 11.40it/s]"
     ]
    },
    {
     "name": "stdout",
     "output_type": "stream",
     "text": [
      "(no valid events for icustay_id: 297011\n",
      "\n",
      "(no data for this episode 1 of icustay_id: 297011\n",
      "\n"
     ]
    },
    {
     "name": "stderr",
     "output_type": "stream",
     "text": [
      "Iterating over stays:  35%|███      | 18447/53333 [47:07<1:15:26,  7.71it/s]"
     ]
    },
    {
     "name": "stdout",
     "output_type": "stream",
     "text": [
      "(no valid events for icustay_id: 257882\n",
      "\n",
      "(no data for this episode 1 of icustay_id: 257882\n",
      "\n"
     ]
    },
    {
     "name": "stderr",
     "output_type": "stream",
     "text": [
      "Iterating over stays:  35%|███      | 18469/53333 [47:10<1:02:15,  9.33it/s]"
     ]
    },
    {
     "name": "stdout",
     "output_type": "stream",
     "text": [
      "(no valid events for icustay_id: 213690\n",
      "\n",
      "(no data for this episode 1 of icustay_id: 213690\n",
      "\n"
     ]
    },
    {
     "name": "stderr",
     "output_type": "stream",
     "text": [
      "Iterating over stays:  35%|███▊       | 18482/53333 [47:11<53:22, 10.88it/s]"
     ]
    },
    {
     "name": "stdout",
     "output_type": "stream",
     "text": [
      "(no valid events for icustay_id: 269176\n",
      "\n",
      "(no data for this episode 1 of icustay_id: 269176\n",
      "\n"
     ]
    },
    {
     "name": "stderr",
     "output_type": "stream",
     "text": [
      "Iterating over stays:  35%|███▏     | 18565/53333 [47:29<5:32:40,  1.74it/s]"
     ]
    },
    {
     "name": "stdout",
     "output_type": "stream",
     "text": [
      "(no valid events for icustay_id: 223418\n",
      "\n",
      "(no data for this episode 1 of icustay_id: 223418\n",
      "\n"
     ]
    },
    {
     "name": "stderr",
     "output_type": "stream",
     "text": [
      "Iterating over stays:  35%|███▏     | 18603/53333 [47:34<1:02:24,  9.28it/s]"
     ]
    },
    {
     "name": "stdout",
     "output_type": "stream",
     "text": [
      "(no valid events for icustay_id: 272851\n",
      "\n",
      "(no data for this episode 1 of icustay_id: 272851\n",
      "\n",
      "(no valid events for icustay_id: 286968\n",
      "\n",
      "(no data for this episode 1 of icustay_id: 286968\n",
      "\n"
     ]
    },
    {
     "name": "stderr",
     "output_type": "stream",
     "text": [
      "Iterating over stays:  35%|███▏     | 18694/53333 [47:45<1:31:46,  6.29it/s]"
     ]
    },
    {
     "name": "stdout",
     "output_type": "stream",
     "text": [
      "(no valid events for icustay_id: 260271\n",
      "\n",
      "(no data for this episode 1 of icustay_id: 260271\n",
      "\n"
     ]
    },
    {
     "name": "stderr",
     "output_type": "stream",
     "text": [
      "Iterating over stays:  35%|███▏     | 18733/53333 [47:50<1:21:12,  7.10it/s]"
     ]
    },
    {
     "name": "stdout",
     "output_type": "stream",
     "text": [
      "(no valid events for icustay_id: 275802\n",
      "\n",
      "(no data for this episode 1 of icustay_id: 275802\n",
      "\n"
     ]
    },
    {
     "name": "stderr",
     "output_type": "stream",
     "text": [
      "Iterating over stays:  35%|███▉       | 18865/53333 [48:14<56:32, 10.16it/s]"
     ]
    },
    {
     "name": "stdout",
     "output_type": "stream",
     "text": [
      "(no valid events for icustay_id: 247422\n",
      "\n",
      "(no data for this episode 1 of icustay_id: 247422\n",
      "\n"
     ]
    },
    {
     "name": "stderr",
     "output_type": "stream",
     "text": [
      "Iterating over stays:  35%|███▉       | 18916/53333 [48:19<56:16, 10.19it/s]"
     ]
    },
    {
     "name": "stdout",
     "output_type": "stream",
     "text": [
      "(no valid events for icustay_id: 267957\n",
      "\n",
      "(no data for this episode 1 of icustay_id: 267957\n",
      "\n"
     ]
    },
    {
     "name": "stderr",
     "output_type": "stream",
     "text": [
      "Iterating over stays:  35%|███▏     | 18926/53333 [48:20<1:08:12,  8.41it/s]"
     ]
    },
    {
     "name": "stdout",
     "output_type": "stream",
     "text": [
      "(no valid events for icustay_id: 217871\n",
      "\n",
      "(no data for this episode 1 of icustay_id: 217871\n",
      "\n"
     ]
    },
    {
     "name": "stderr",
     "output_type": "stream",
     "text": [
      "Iterating over stays:  36%|███▉       | 18979/53333 [48:26<56:00, 10.22it/s]"
     ]
    },
    {
     "name": "stdout",
     "output_type": "stream",
     "text": [
      "(no valid events for icustay_id: 207846\n",
      "\n",
      "(no data for this episode 1 of icustay_id: 207846\n",
      "\n"
     ]
    },
    {
     "name": "stderr",
     "output_type": "stream",
     "text": [
      "Iterating over stays:  36%|███▏     | 19100/53333 [48:50<2:54:58,  3.26it/s]"
     ]
    },
    {
     "name": "stdout",
     "output_type": "stream",
     "text": [
      "(no valid events for icustay_id: 261030\n",
      "\n",
      "(no data for this episode 1 of icustay_id: 261030\n",
      "\n"
     ]
    },
    {
     "name": "stderr",
     "output_type": "stream",
     "text": [
      "Iterating over stays:  36%|███▏     | 19188/53333 [49:01<1:37:02,  5.86it/s]"
     ]
    },
    {
     "name": "stdout",
     "output_type": "stream",
     "text": [
      "(no valid events for icustay_id: 206423\n",
      "\n",
      "(no data for this episode 1 of icustay_id: 206423\n",
      "\n"
     ]
    },
    {
     "name": "stderr",
     "output_type": "stream",
     "text": [
      "Iterating over stays:  36%|███▉       | 19204/53333 [49:03<58:19,  9.75it/s]"
     ]
    },
    {
     "name": "stdout",
     "output_type": "stream",
     "text": [
      "(no valid events for icustay_id: 246965\n",
      "\n",
      "(no data for this episode 1 of icustay_id: 246965\n",
      "\n"
     ]
    },
    {
     "name": "stderr",
     "output_type": "stream",
     "text": [
      "Iterating over stays:  36%|███▉       | 19214/53333 [49:04<59:32,  9.55it/s]"
     ]
    },
    {
     "name": "stdout",
     "output_type": "stream",
     "text": [
      "(no valid events for icustay_id: 210345\n",
      "\n",
      "(no data for this episode 1 of icustay_id: 210345\n",
      "\n"
     ]
    },
    {
     "name": "stderr",
     "output_type": "stream",
     "text": [
      "Iterating over stays:  36%|███▉       | 19279/53333 [49:12<54:46, 10.36it/s]"
     ]
    },
    {
     "name": "stdout",
     "output_type": "stream",
     "text": [
      "(no valid events for icustay_id: 267743\n",
      "\n",
      "(no data for this episode 1 of icustay_id: 267743\n",
      "\n"
     ]
    },
    {
     "name": "stderr",
     "output_type": "stream",
     "text": [
      "Iterating over stays:  36%|███▎     | 19365/53333 [49:31<1:51:55,  5.06it/s]"
     ]
    },
    {
     "name": "stdout",
     "output_type": "stream",
     "text": [
      "(no valid events for icustay_id: 231639\n",
      "\n",
      "(no data for this episode 1 of icustay_id: 231639\n",
      "\n"
     ]
    },
    {
     "name": "stderr",
     "output_type": "stream",
     "text": [
      "Iterating over stays:  36%|███▎     | 19367/53333 [49:31<1:45:34,  5.36it/s]"
     ]
    },
    {
     "name": "stdout",
     "output_type": "stream",
     "text": [
      "(no valid events for icustay_id: 260452\n",
      "\n",
      "(no data for this episode 1 of icustay_id: 260452\n",
      "\n"
     ]
    },
    {
     "name": "stderr",
     "output_type": "stream",
     "text": [
      "Iterating over stays:  36%|███▎     | 19387/53333 [49:33<1:02:39,  9.03it/s]"
     ]
    },
    {
     "name": "stdout",
     "output_type": "stream",
     "text": [
      "(no valid events for icustay_id: 266140\n",
      "\n",
      "(no data for this episode 1 of icustay_id: 266140\n",
      "\n"
     ]
    },
    {
     "name": "stderr",
     "output_type": "stream",
     "text": [
      "Iterating over stays:  36%|███▎     | 19432/53333 [49:39<1:06:41,  8.47it/s]"
     ]
    },
    {
     "name": "stdout",
     "output_type": "stream",
     "text": [
      "(no valid events for icustay_id: 284531\n",
      "\n",
      "(no data for this episode 1 of icustay_id: 284531\n",
      "\n"
     ]
    },
    {
     "name": "stderr",
     "output_type": "stream",
     "text": [
      "Iterating over stays:  37%|███▎     | 19533/53333 [49:52<1:17:03,  7.31it/s]"
     ]
    },
    {
     "name": "stdout",
     "output_type": "stream",
     "text": [
      "(no valid events for icustay_id: 214439\n",
      "\n",
      "(no data for this episode 1 of icustay_id: 214439\n",
      "\n"
     ]
    },
    {
     "name": "stderr",
     "output_type": "stream",
     "text": [
      "Iterating over stays:  37%|███▎     | 19545/53333 [49:53<1:03:12,  8.91it/s]"
     ]
    },
    {
     "name": "stdout",
     "output_type": "stream",
     "text": [
      "(no valid events for icustay_id: 269073\n",
      "\n",
      "(no data for this episode 1 of icustay_id: 269073\n",
      "\n"
     ]
    },
    {
     "name": "stderr",
     "output_type": "stream",
     "text": [
      "Iterating over stays:  37%|████       | 19586/53333 [49:57<52:16, 10.76it/s]"
     ]
    },
    {
     "name": "stdout",
     "output_type": "stream",
     "text": [
      "(no valid events for icustay_id: 228909\n",
      "\n",
      "(no data for this episode 1 of icustay_id: 228909\n",
      "\n"
     ]
    },
    {
     "name": "stderr",
     "output_type": "stream",
     "text": [
      "Iterating over stays:  37%|████       | 19590/53333 [49:58<51:18, 10.96it/s]"
     ]
    },
    {
     "name": "stdout",
     "output_type": "stream",
     "text": [
      "(no valid events for icustay_id: 218849\n",
      "\n",
      "(no data for this episode 1 of icustay_id: 218849\n",
      "\n"
     ]
    },
    {
     "name": "stderr",
     "output_type": "stream",
     "text": [
      "Iterating over stays:  37%|████       | 19604/53333 [49:59<59:18,  9.48it/s]"
     ]
    },
    {
     "name": "stdout",
     "output_type": "stream",
     "text": [
      "(no valid events for icustay_id: 240888\n",
      "\n",
      "(no data for this episode 1 of icustay_id: 240888\n",
      "\n"
     ]
    },
    {
     "name": "stderr",
     "output_type": "stream",
     "text": [
      "Iterating over stays:  37%|███▎     | 19657/53333 [50:13<1:12:52,  7.70it/s]"
     ]
    },
    {
     "name": "stdout",
     "output_type": "stream",
     "text": [
      "(no valid events for icustay_id: 225638\n",
      "\n",
      "(no data for this episode 1 of icustay_id: 225638\n",
      "\n"
     ]
    },
    {
     "name": "stderr",
     "output_type": "stream",
     "text": [
      "Iterating over stays:  37%|███▎     | 19692/53333 [50:18<1:01:22,  9.14it/s]"
     ]
    },
    {
     "name": "stdout",
     "output_type": "stream",
     "text": [
      "(no valid events for icustay_id: 269939\n",
      "\n",
      "(no data for this episode 1 of icustay_id: 269939\n",
      "\n"
     ]
    },
    {
     "name": "stderr",
     "output_type": "stream",
     "text": [
      "Iterating over stays:  37%|████       | 19740/53333 [50:24<55:31, 10.08it/s]"
     ]
    },
    {
     "name": "stdout",
     "output_type": "stream",
     "text": [
      "(no valid events for icustay_id: 201316\n",
      "\n",
      "(no data for this episode 1 of icustay_id: 201316\n",
      "\n"
     ]
    },
    {
     "name": "stderr",
     "output_type": "stream",
     "text": [
      "Iterating over stays:  37%|███▎     | 19856/53333 [50:37<1:01:13,  9.11it/s]"
     ]
    },
    {
     "name": "stdout",
     "output_type": "stream",
     "text": [
      "(no valid events for icustay_id: 236821\n",
      "\n",
      "(no data for this episode 1 of icustay_id: 236821\n",
      "\n"
     ]
    },
    {
     "name": "stderr",
     "output_type": "stream",
     "text": [
      "Iterating over stays:  37%|████       | 19931/53333 [50:54<58:07,  9.58it/s]"
     ]
    },
    {
     "name": "stdout",
     "output_type": "stream",
     "text": [
      "(no valid events for icustay_id: 216366\n",
      "\n",
      "(no data for this episode 1 of icustay_id: 216366\n",
      "\n"
     ]
    },
    {
     "name": "stderr",
     "output_type": "stream",
     "text": [
      "Iterating over stays:  37%|███▎     | 19967/53333 [50:58<1:03:20,  8.78it/s]"
     ]
    },
    {
     "name": "stdout",
     "output_type": "stream",
     "text": [
      "(no valid events for icustay_id: 291739\n",
      "\n",
      "(no data for this episode 1 of icustay_id: 291739\n",
      "\n"
     ]
    },
    {
     "name": "stderr",
     "output_type": "stream",
     "text": [
      "Iterating over stays:  37%|███▎     | 19982/53333 [51:00<1:04:38,  8.60it/s]"
     ]
    },
    {
     "name": "stdout",
     "output_type": "stream",
     "text": [
      "(no valid events for icustay_id: 231920\n",
      "\n",
      "(no data for this episode 1 of icustay_id: 231920\n",
      "\n"
     ]
    },
    {
     "name": "stderr",
     "output_type": "stream",
     "text": [
      "Iterating over stays:  37%|███▎     | 19999/53333 [51:03<1:11:38,  7.75it/s]"
     ]
    },
    {
     "name": "stdout",
     "output_type": "stream",
     "text": [
      "(no valid events for icustay_id: 253929\n",
      "\n",
      "(no data for this episode 1 of icustay_id: 253929\n",
      "\n"
     ]
    },
    {
     "name": "stderr",
     "output_type": "stream",
     "text": [
      "Iterating over stays:  38%|███▍     | 20018/53333 [51:05<1:01:23,  9.04it/s]"
     ]
    },
    {
     "name": "stdout",
     "output_type": "stream",
     "text": [
      "(no valid events for icustay_id: 220451\n",
      "\n",
      "(no data for this episode 1 of icustay_id: 220451\n",
      "\n"
     ]
    },
    {
     "name": "stderr",
     "output_type": "stream",
     "text": [
      "Iterating over stays:  38%|████▏      | 20050/53333 [51:09<49:57, 11.10it/s]"
     ]
    },
    {
     "name": "stdout",
     "output_type": "stream",
     "text": [
      "(no valid events for icustay_id: 294552\n",
      "\n",
      "(no data for this episode 1 of icustay_id: 294552\n",
      "\n",
      "(no valid events for icustay_id: 292980\n",
      "\n",
      "(no data for this episode 1 of icustay_id: 292980\n",
      "\n"
     ]
    },
    {
     "name": "stderr",
     "output_type": "stream",
     "text": [
      "Iterating over stays:  38%|███▍     | 20077/53333 [51:12<1:15:33,  7.34it/s]"
     ]
    },
    {
     "name": "stdout",
     "output_type": "stream",
     "text": [
      "(no valid events for icustay_id: 200187\n",
      "\n",
      "(no data for this episode 1 of icustay_id: 200187\n",
      "\n"
     ]
    },
    {
     "name": "stderr",
     "output_type": "stream",
     "text": [
      "Iterating over stays:  38%|███▍     | 20208/53333 [51:36<1:15:08,  7.35it/s]"
     ]
    },
    {
     "name": "stdout",
     "output_type": "stream",
     "text": [
      "(no valid events for icustay_id: 218187\n",
      "\n",
      "(no data for this episode 1 of icustay_id: 218187\n",
      "\n"
     ]
    },
    {
     "name": "stderr",
     "output_type": "stream",
     "text": [
      "Iterating over stays:  38%|███▍     | 20218/53333 [51:38<1:06:00,  8.36it/s]"
     ]
    },
    {
     "name": "stdout",
     "output_type": "stream",
     "text": [
      "(no valid events for icustay_id: 256580\n",
      "\n",
      "(no data for this episode 1 of icustay_id: 256580\n",
      "\n"
     ]
    },
    {
     "name": "stderr",
     "output_type": "stream",
     "text": [
      "Iterating over stays:  38%|███▍     | 20220/53333 [51:38<1:04:22,  8.57it/s]"
     ]
    },
    {
     "name": "stdout",
     "output_type": "stream",
     "text": [
      "(no valid events for icustay_id: 284895\n",
      "\n",
      "(no data for this episode 1 of icustay_id: 284895\n",
      "\n"
     ]
    },
    {
     "name": "stderr",
     "output_type": "stream",
     "text": [
      "Iterating over stays:  38%|███▍     | 20317/53333 [51:55<1:08:57,  7.98it/s]"
     ]
    },
    {
     "name": "stdout",
     "output_type": "stream",
     "text": [
      "(no valid events for icustay_id: 274171\n",
      "\n",
      "(no data for this episode 1 of icustay_id: 274171\n",
      "\n"
     ]
    },
    {
     "name": "stderr",
     "output_type": "stream",
     "text": [
      "Iterating over stays:  38%|███▍     | 20422/53333 [52:08<1:09:36,  7.88it/s]"
     ]
    },
    {
     "name": "stdout",
     "output_type": "stream",
     "text": [
      "(no valid events for icustay_id: 281321\n",
      "\n",
      "(no data for this episode 1 of icustay_id: 281321\n",
      "\n"
     ]
    },
    {
     "name": "stderr",
     "output_type": "stream",
     "text": [
      "Iterating over stays:  38%|███▍     | 20450/53333 [52:11<1:00:05,  9.12it/s]"
     ]
    },
    {
     "name": "stdout",
     "output_type": "stream",
     "text": [
      "(no valid events for icustay_id: 293261\n",
      "\n",
      "(no data for this episode 1 of icustay_id: 293261\n",
      "\n"
     ]
    },
    {
     "name": "stderr",
     "output_type": "stream",
     "text": [
      "Iterating over stays:  39%|███▍     | 20568/53333 [52:30<1:01:19,  8.91it/s]"
     ]
    },
    {
     "name": "stdout",
     "output_type": "stream",
     "text": [
      "(no valid events for icustay_id: 295574\n",
      "\n",
      "(no data for this episode 1 of icustay_id: 295574\n",
      "\n"
     ]
    },
    {
     "name": "stderr",
     "output_type": "stream",
     "text": [
      "Iterating over stays:  39%|███▍     | 20694/53333 [52:48<1:14:43,  7.28it/s]"
     ]
    },
    {
     "name": "stdout",
     "output_type": "stream",
     "text": [
      "(no valid events for icustay_id: 252530\n",
      "\n",
      "(no data for this episode 1 of icustay_id: 252530\n",
      "\n"
     ]
    },
    {
     "name": "stderr",
     "output_type": "stream",
     "text": [
      "Iterating over stays:  39%|███▍     | 20699/53333 [52:49<1:09:57,  7.78it/s]"
     ]
    },
    {
     "name": "stdout",
     "output_type": "stream",
     "text": [
      "(no valid events for icustay_id: 277025\n",
      "\n",
      "(no data for this episode 1 of icustay_id: 277025\n",
      "\n"
     ]
    },
    {
     "name": "stderr",
     "output_type": "stream",
     "text": [
      "Iterating over stays:  39%|███▍     | 20704/53333 [52:50<2:43:47,  3.32it/s]"
     ]
    },
    {
     "name": "stdout",
     "output_type": "stream",
     "text": [
      "(no valid events for icustay_id: 229046\n",
      "\n",
      "(no data for this episode 1 of icustay_id: 229046\n",
      "\n"
     ]
    },
    {
     "name": "stderr",
     "output_type": "stream",
     "text": [
      "Iterating over stays:  39%|███▍     | 20709/53333 [52:55<6:18:59,  1.43it/s]"
     ]
    },
    {
     "name": "stdout",
     "output_type": "stream",
     "text": [
      "(no valid events for icustay_id: 262971\n",
      "\n",
      "(no data for this episode 1 of icustay_id: 262971\n",
      "\n"
     ]
    },
    {
     "name": "stderr",
     "output_type": "stream",
     "text": [
      "Iterating over stays:  39%|███▌     | 20777/53333 [53:06<1:01:16,  8.86it/s]"
     ]
    },
    {
     "name": "stdout",
     "output_type": "stream",
     "text": [
      "(no valid events for icustay_id: 286338\n",
      "\n",
      "(no data for this episode 1 of icustay_id: 286338\n",
      "\n"
     ]
    },
    {
     "name": "stderr",
     "output_type": "stream",
     "text": [
      "Iterating over stays:  39%|████▎      | 20844/53333 [53:14<56:09,  9.64it/s]"
     ]
    },
    {
     "name": "stdout",
     "output_type": "stream",
     "text": [
      "(no valid events for icustay_id: 200430\n",
      "\n",
      "(no data for this episode 1 of icustay_id: 200430\n",
      "\n"
     ]
    },
    {
     "name": "stderr",
     "output_type": "stream",
     "text": [
      "Iterating over stays:  39%|████▎      | 20848/53333 [53:14<55:22,  9.78it/s]"
     ]
    },
    {
     "name": "stdout",
     "output_type": "stream",
     "text": [
      "(no valid events for icustay_id: 297440\n",
      "\n",
      "(no data for this episode 1 of icustay_id: 297440\n",
      "\n"
     ]
    },
    {
     "name": "stderr",
     "output_type": "stream",
     "text": [
      "Iterating over stays:  39%|███▌     | 20880/53333 [53:18<1:01:04,  8.86it/s]"
     ]
    },
    {
     "name": "stdout",
     "output_type": "stream",
     "text": [
      "(no valid events for icustay_id: 220639\n",
      "\n",
      "(no data for this episode 1 of icustay_id: 220639\n",
      "\n"
     ]
    },
    {
     "name": "stderr",
     "output_type": "stream",
     "text": [
      "Iterating over stays:  39%|███▌     | 20961/53333 [53:34<9:19:59,  1.04s/it]"
     ]
    },
    {
     "name": "stdout",
     "output_type": "stream",
     "text": [
      "(no valid events for icustay_id: 285271\n",
      "\n",
      "(no data for this episode 1 of icustay_id: 285271\n",
      "\n"
     ]
    },
    {
     "name": "stderr",
     "output_type": "stream",
     "text": [
      "Iterating over stays:  39%|███▌     | 20978/53333 [53:38<1:20:13,  6.72it/s]"
     ]
    },
    {
     "name": "stdout",
     "output_type": "stream",
     "text": [
      "(no valid events for icustay_id: 248544\n",
      "\n",
      "(no data for this episode 1 of icustay_id: 248544\n",
      "\n"
     ]
    },
    {
     "name": "stderr",
     "output_type": "stream",
     "text": [
      "Iterating over stays:  39%|███▌     | 21032/53333 [53:45<1:05:19,  8.24it/s]"
     ]
    },
    {
     "name": "stdout",
     "output_type": "stream",
     "text": [
      "(no valid events for icustay_id: 246286\n",
      "\n",
      "(no data for this episode 1 of icustay_id: 246286\n",
      "\n"
     ]
    },
    {
     "name": "stderr",
     "output_type": "stream",
     "text": [
      "Iterating over stays:  39%|████▎      | 21062/53333 [53:49<47:16, 11.38it/s]"
     ]
    },
    {
     "name": "stdout",
     "output_type": "stream",
     "text": [
      "(no valid events for icustay_id: 204110\n",
      "\n",
      "(no data for this episode 1 of icustay_id: 204110\n",
      "\n"
     ]
    },
    {
     "name": "stderr",
     "output_type": "stream",
     "text": [
      "Iterating over stays:  40%|███▌     | 21129/53333 [53:57<1:05:58,  8.14it/s]"
     ]
    },
    {
     "name": "stdout",
     "output_type": "stream",
     "text": [
      "(no valid events for icustay_id: 200974\n",
      "\n",
      "(no data for this episode 1 of icustay_id: 200974\n",
      "\n"
     ]
    },
    {
     "name": "stderr",
     "output_type": "stream",
     "text": [
      "Iterating over stays:  40%|███▌     | 21176/53333 [54:03<1:10:58,  7.55it/s]"
     ]
    },
    {
     "name": "stdout",
     "output_type": "stream",
     "text": [
      "(no valid events for icustay_id: 295113\n",
      "\n",
      "(no data for this episode 1 of icustay_id: 295113\n",
      "\n"
     ]
    },
    {
     "name": "stderr",
     "output_type": "stream",
     "text": [
      "Iterating over stays:  40%|████▍      | 21381/53333 [54:36<47:54, 11.12it/s]"
     ]
    },
    {
     "name": "stdout",
     "output_type": "stream",
     "text": [
      "(no valid events for icustay_id: 207081\n",
      "\n",
      "(no data for this episode 1 of icustay_id: 207081\n",
      "\n"
     ]
    },
    {
     "name": "stderr",
     "output_type": "stream",
     "text": [
      "Iterating over stays:  40%|███▌     | 21400/53333 [54:39<1:02:43,  8.49it/s]"
     ]
    },
    {
     "name": "stdout",
     "output_type": "stream",
     "text": [
      "(no valid events for icustay_id: 257867\n",
      "\n",
      "(no data for this episode 1 of icustay_id: 257867\n",
      "\n"
     ]
    },
    {
     "name": "stderr",
     "output_type": "stream",
     "text": [
      "Iterating over stays:  40%|████▍      | 21416/53333 [54:40<43:58, 12.10it/s]"
     ]
    },
    {
     "name": "stdout",
     "output_type": "stream",
     "text": [
      "(no valid events for icustay_id: 275322\n",
      "\n",
      "(no data for this episode 1 of icustay_id: 275322\n",
      "\n"
     ]
    },
    {
     "name": "stderr",
     "output_type": "stream",
     "text": [
      "Iterating over stays:  40%|████▍      | 21430/53333 [54:42<48:04, 11.06it/s]"
     ]
    },
    {
     "name": "stdout",
     "output_type": "stream",
     "text": [
      "(no valid events for icustay_id: 206741\n",
      "\n",
      "(no data for this episode 1 of icustay_id: 206741\n",
      "\n"
     ]
    },
    {
     "name": "stderr",
     "output_type": "stream",
     "text": [
      "Iterating over stays:  40%|████▍      | 21436/53333 [54:42<41:48, 12.72it/s]"
     ]
    },
    {
     "name": "stdout",
     "output_type": "stream",
     "text": [
      "(no valid events for icustay_id: 216870\n",
      "\n",
      "(no data for this episode 1 of icustay_id: 216870\n",
      "\n"
     ]
    },
    {
     "name": "stderr",
     "output_type": "stream",
     "text": [
      "Iterating over stays:  40%|████▍      | 21463/53333 [54:45<53:08,  9.99it/s]"
     ]
    },
    {
     "name": "stdout",
     "output_type": "stream",
     "text": [
      "(no valid events for icustay_id: 231088\n",
      "\n",
      "(no data for this episode 1 of icustay_id: 231088\n",
      "\n"
     ]
    },
    {
     "name": "stderr",
     "output_type": "stream",
     "text": [
      "Iterating over stays:  40%|███▋     | 21508/53333 [54:58<1:12:51,  7.28it/s]"
     ]
    },
    {
     "name": "stdout",
     "output_type": "stream",
     "text": [
      "(no valid events for icustay_id: 260236\n",
      "\n",
      "(no data for this episode 1 of icustay_id: 260236\n",
      "\n"
     ]
    },
    {
     "name": "stderr",
     "output_type": "stream",
     "text": [
      "Iterating over stays:  40%|███▋     | 21538/53333 [55:03<1:07:49,  7.81it/s]"
     ]
    },
    {
     "name": "stdout",
     "output_type": "stream",
     "text": [
      "(no valid events for icustay_id: 221309\n",
      "\n",
      "(no data for this episode 1 of icustay_id: 221309\n",
      "\n"
     ]
    },
    {
     "name": "stderr",
     "output_type": "stream",
     "text": [
      "Iterating over stays:  40%|████▍      | 21582/53333 [55:08<50:40, 10.44it/s]"
     ]
    },
    {
     "name": "stdout",
     "output_type": "stream",
     "text": [
      "(no valid events for icustay_id: 237776\n",
      "\n",
      "(no data for this episode 1 of icustay_id: 237776\n",
      "\n"
     ]
    },
    {
     "name": "stderr",
     "output_type": "stream",
     "text": [
      "Iterating over stays:  41%|███▋     | 21634/53333 [55:14<1:02:42,  8.42it/s]"
     ]
    },
    {
     "name": "stdout",
     "output_type": "stream",
     "text": [
      "(no valid events for icustay_id: 270557\n",
      "\n",
      "(no data for this episode 1 of icustay_id: 270557\n",
      "\n"
     ]
    },
    {
     "name": "stderr",
     "output_type": "stream",
     "text": [
      "Iterating over stays:  41%|████▍      | 21665/53333 [55:18<51:49, 10.19it/s]"
     ]
    },
    {
     "name": "stdout",
     "output_type": "stream",
     "text": [
      "(no valid events for icustay_id: 285132\n",
      "\n",
      "(no data for this episode 1 of icustay_id: 285132\n",
      "\n"
     ]
    },
    {
     "name": "stderr",
     "output_type": "stream",
     "text": [
      "Iterating over stays:  41%|████▍      | 21796/53333 [55:42<47:59, 10.95it/s]"
     ]
    },
    {
     "name": "stdout",
     "output_type": "stream",
     "text": [
      "(no valid events for icustay_id: 218281\n",
      "\n",
      "(no data for this episode 1 of icustay_id: 218281\n",
      "\n"
     ]
    },
    {
     "name": "stderr",
     "output_type": "stream",
     "text": [
      "Iterating over stays:  41%|████▌      | 21864/53333 [55:50<46:49, 11.20it/s]"
     ]
    },
    {
     "name": "stdout",
     "output_type": "stream",
     "text": [
      "(no valid events for icustay_id: 266850\n",
      "\n",
      "(no data for this episode 1 of icustay_id: 266850\n",
      "\n"
     ]
    },
    {
     "name": "stderr",
     "output_type": "stream",
     "text": [
      "Iterating over stays:  41%|███▋     | 21872/53333 [55:51<1:15:22,  6.96it/s]"
     ]
    },
    {
     "name": "stdout",
     "output_type": "stream",
     "text": [
      "(no valid events for icustay_id: 264776\n",
      "\n",
      "(no data for this episode 1 of icustay_id: 264776\n",
      "\n"
     ]
    },
    {
     "name": "stderr",
     "output_type": "stream",
     "text": [
      "Iterating over stays:  41%|███▋     | 21950/53333 [56:00<1:16:49,  6.81it/s]"
     ]
    },
    {
     "name": "stdout",
     "output_type": "stream",
     "text": [
      "(no valid events for icustay_id: 215961\n",
      "\n",
      "(no data for this episode 1 of icustay_id: 215961\n",
      "\n"
     ]
    },
    {
     "name": "stderr",
     "output_type": "stream",
     "text": [
      "Iterating over stays:  41%|████▌      | 21990/53333 [56:05<51:10, 10.21it/s]"
     ]
    },
    {
     "name": "stdout",
     "output_type": "stream",
     "text": [
      "(no valid events for icustay_id: 291946\n",
      "\n",
      "(no data for this episode 1 of icustay_id: 291946\n",
      "\n"
     ]
    },
    {
     "name": "stderr",
     "output_type": "stream",
     "text": [
      "Iterating over stays:  41%|████▌      | 22110/53333 [56:28<56:40,  9.18it/s]"
     ]
    },
    {
     "name": "stdout",
     "output_type": "stream",
     "text": [
      "(no valid events for icustay_id: 246750\n",
      "\n",
      "(no data for this episode 1 of icustay_id: 246750\n",
      "\n"
     ]
    },
    {
     "name": "stderr",
     "output_type": "stream",
     "text": [
      "Iterating over stays:  41%|████▌      | 22118/53333 [56:29<47:57, 10.85it/s]"
     ]
    },
    {
     "name": "stdout",
     "output_type": "stream",
     "text": [
      "(no valid events for icustay_id: 220802\n",
      "\n",
      "(no data for this episode 1 of icustay_id: 220802\n",
      "\n"
     ]
    },
    {
     "name": "stderr",
     "output_type": "stream",
     "text": [
      "Iterating over stays:  42%|████▌      | 22245/53333 [56:45<51:09, 10.13it/s]"
     ]
    },
    {
     "name": "stdout",
     "output_type": "stream",
     "text": [
      "(no valid events for icustay_id: 263904\n",
      "\n",
      "(no data for this episode 1 of icustay_id: 263904\n",
      "\n"
     ]
    },
    {
     "name": "stderr",
     "output_type": "stream",
     "text": [
      "Iterating over stays:  42%|████▌      | 22286/53333 [56:58<55:36,  9.30it/s]"
     ]
    },
    {
     "name": "stdout",
     "output_type": "stream",
     "text": [
      "(no valid events for icustay_id: 244273\n",
      "\n",
      "(no data for this episode 1 of icustay_id: 244273\n",
      "\n"
     ]
    },
    {
     "name": "stderr",
     "output_type": "stream",
     "text": [
      "Iterating over stays:  42%|████▌      | 22295/53333 [56:59<56:09,  9.21it/s]"
     ]
    },
    {
     "name": "stdout",
     "output_type": "stream",
     "text": [
      "(no valid events for icustay_id: 251222\n",
      "\n",
      "(no data for this episode 1 of icustay_id: 251222\n",
      "\n"
     ]
    },
    {
     "name": "stderr",
     "output_type": "stream",
     "text": [
      "Iterating over stays:  42%|████▌      | 22351/53333 [57:06<57:20,  9.00it/s]/tmp/ipykernel_16992/266164007.py:6: DtypeWarning: Columns (5) have mixed types. Specify dtype option on import or set low_memory=False.\n",
      "  events = pd.read_csv(fn)\n",
      "Iterating over stays:  42%|████▌      | 22393/53333 [57:12<59:40,  8.64it/s]"
     ]
    },
    {
     "name": "stdout",
     "output_type": "stream",
     "text": [
      "(no valid events for icustay_id: 207776\n",
      "\n",
      "(no data for this episode 1 of icustay_id: 207776\n",
      "\n"
     ]
    },
    {
     "name": "stderr",
     "output_type": "stream",
     "text": [
      "Iterating over stays:  42%|███▊     | 22426/53333 [57:16<1:08:36,  7.51it/s]"
     ]
    },
    {
     "name": "stdout",
     "output_type": "stream",
     "text": [
      "(no valid events for icustay_id: 202053\n",
      "\n",
      "(no data for this episode 1 of icustay_id: 202053\n",
      "\n"
     ]
    },
    {
     "name": "stderr",
     "output_type": "stream",
     "text": [
      "Iterating over stays:  42%|████▋      | 22466/53333 [57:21<59:43,  8.61it/s]"
     ]
    },
    {
     "name": "stdout",
     "output_type": "stream",
     "text": [
      "(no valid events for icustay_id: 298087\n",
      "\n",
      "(no data for this episode 1 of icustay_id: 298087\n",
      "\n"
     ]
    },
    {
     "name": "stderr",
     "output_type": "stream",
     "text": [
      "Iterating over stays:  42%|███▊     | 22503/53333 [57:29<8:05:24,  1.06it/s]"
     ]
    },
    {
     "name": "stdout",
     "output_type": "stream",
     "text": [
      "(no valid events for icustay_id: 283569\n",
      "\n",
      "(no data for this episode 1 of icustay_id: 283569\n",
      "\n"
     ]
    },
    {
     "name": "stderr",
     "output_type": "stream",
     "text": [
      "Iterating over stays:  42%|████▋      | 22590/53333 [57:45<57:22,  8.93it/s]"
     ]
    },
    {
     "name": "stdout",
     "output_type": "stream",
     "text": [
      "(no valid events for icustay_id: 234733\n",
      "\n",
      "(no data for this episode 1 of icustay_id: 234733\n",
      "\n"
     ]
    },
    {
     "name": "stderr",
     "output_type": "stream",
     "text": [
      "Iterating over stays:  42%|███▊     | 22637/53333 [57:52<1:14:22,  6.88it/s]"
     ]
    },
    {
     "name": "stdout",
     "output_type": "stream",
     "text": [
      "(no valid events for icustay_id: 227950\n",
      "\n",
      "(no data for this episode 1 of icustay_id: 227950\n",
      "\n"
     ]
    },
    {
     "name": "stderr",
     "output_type": "stream",
     "text": [
      "Iterating over stays:  43%|████▋      | 22674/53333 [57:55<50:34, 10.10it/s]"
     ]
    },
    {
     "name": "stdout",
     "output_type": "stream",
     "text": [
      "(no valid events for icustay_id: 274714\n",
      "\n",
      "(no data for this episode 1 of icustay_id: 274714\n",
      "\n"
     ]
    },
    {
     "name": "stderr",
     "output_type": "stream",
     "text": [
      "Iterating over stays:  43%|████▋      | 22795/53333 [58:18<50:41, 10.04it/s]"
     ]
    },
    {
     "name": "stdout",
     "output_type": "stream",
     "text": [
      "(no valid events for icustay_id: 275145\n",
      "\n",
      "(no data for this episode 1 of icustay_id: 275145\n",
      "\n"
     ]
    },
    {
     "name": "stderr",
     "output_type": "stream",
     "text": [
      "Iterating over stays:  43%|████▋      | 22851/53333 [58:25<53:08,  9.56it/s]"
     ]
    },
    {
     "name": "stdout",
     "output_type": "stream",
     "text": [
      "(no valid events for icustay_id: 230133\n",
      "\n",
      "(no data for this episode 1 of icustay_id: 230133\n",
      "\n"
     ]
    },
    {
     "name": "stderr",
     "output_type": "stream",
     "text": [
      "Iterating over stays:  43%|████▋      | 22884/53333 [58:28<46:44, 10.86it/s]"
     ]
    },
    {
     "name": "stdout",
     "output_type": "stream",
     "text": [
      "(no valid events for icustay_id: 205501\n",
      "\n",
      "(no data for this episode 1 of icustay_id: 205501\n",
      "\n"
     ]
    },
    {
     "name": "stderr",
     "output_type": "stream",
     "text": [
      "Iterating over stays:  43%|███▊     | 22919/53333 [58:34<1:06:55,  7.57it/s]"
     ]
    },
    {
     "name": "stdout",
     "output_type": "stream",
     "text": [
      "(no valid events for icustay_id: 213947\n",
      "\n",
      "(no data for this episode 1 of icustay_id: 213947\n",
      "\n"
     ]
    },
    {
     "name": "stderr",
     "output_type": "stream",
     "text": [
      "Iterating over stays:  43%|████▋      | 22947/53333 [58:37<59:16,  8.54it/s]"
     ]
    },
    {
     "name": "stdout",
     "output_type": "stream",
     "text": [
      "(no valid events for icustay_id: 286517\n",
      "\n",
      "(no data for this episode 1 of icustay_id: 286517\n",
      "\n"
     ]
    },
    {
     "name": "stderr",
     "output_type": "stream",
     "text": [
      "Iterating over stays:  43%|███▊     | 22950/53333 [58:38<1:14:59,  6.75it/s]"
     ]
    },
    {
     "name": "stdout",
     "output_type": "stream",
     "text": [
      "(no valid events for icustay_id: 246909\n",
      "\n",
      "(no data for this episode 1 of icustay_id: 246909\n",
      "\n"
     ]
    },
    {
     "name": "stderr",
     "output_type": "stream",
     "text": [
      "Iterating over stays:  43%|███▉     | 22972/53333 [58:40<1:16:55,  6.58it/s]"
     ]
    },
    {
     "name": "stdout",
     "output_type": "stream",
     "text": [
      "(no valid events for icustay_id: 226608\n",
      "\n",
      "(no data for this episode 1 of icustay_id: 226608\n",
      "\n"
     ]
    },
    {
     "name": "stderr",
     "output_type": "stream",
     "text": [
      "Iterating over stays:  43%|███▉     | 23033/53333 [58:55<1:08:18,  7.39it/s]"
     ]
    },
    {
     "name": "stdout",
     "output_type": "stream",
     "text": [
      "(no valid events for icustay_id: 256124\n",
      "\n",
      "(no data for this episode 1 of icustay_id: 256124\n",
      "\n"
     ]
    },
    {
     "name": "stderr",
     "output_type": "stream",
     "text": [
      "Iterating over stays:  43%|████▊      | 23119/53333 [59:05<51:22,  9.80it/s]"
     ]
    },
    {
     "name": "stdout",
     "output_type": "stream",
     "text": [
      "(no valid events for icustay_id: 258232\n",
      "\n",
      "(no data for this episode 1 of icustay_id: 258232\n",
      "\n"
     ]
    },
    {
     "name": "stderr",
     "output_type": "stream",
     "text": [
      "Iterating over stays:  43%|████▊      | 23133/53333 [59:07<57:55,  8.69it/s]"
     ]
    },
    {
     "name": "stdout",
     "output_type": "stream",
     "text": [
      "(no valid events for icustay_id: 272701\n",
      "\n",
      "(no data for this episode 1 of icustay_id: 272701\n",
      "\n"
     ]
    },
    {
     "name": "stderr",
     "output_type": "stream",
     "text": [
      "Iterating over stays:  43%|████▊      | 23197/53333 [59:14<57:35,  8.72it/s]"
     ]
    },
    {
     "name": "stdout",
     "output_type": "stream",
     "text": [
      "(no valid events for icustay_id: 242547\n",
      "\n",
      "(no data for this episode 1 of icustay_id: 242547\n",
      "\n"
     ]
    },
    {
     "name": "stderr",
     "output_type": "stream",
     "text": [
      "Iterating over stays:  44%|████▊      | 23412/53333 [59:50<52:39,  9.47it/s]"
     ]
    },
    {
     "name": "stdout",
     "output_type": "stream",
     "text": [
      "(no valid events for icustay_id: 288092\n",
      "\n",
      "(no data for this episode 1 of icustay_id: 288092\n",
      "\n"
     ]
    },
    {
     "name": "stderr",
     "output_type": "stream",
     "text": [
      "Iterating over stays:  44%|███▉     | 23512/53333 [1:00:02<50:58,  9.75it/s]"
     ]
    },
    {
     "name": "stdout",
     "output_type": "stream",
     "text": [
      "(no valid events for icustay_id: 276408\n",
      "\n",
      "(no data for this episode 1 of icustay_id: 276408\n",
      "\n"
     ]
    },
    {
     "name": "stderr",
     "output_type": "stream",
     "text": [
      "Iterating over stays:  44%|███▉     | 23516/53333 [1:00:02<54:45,  9.07it/s]"
     ]
    },
    {
     "name": "stdout",
     "output_type": "stream",
     "text": [
      "(no valid events for icustay_id: 211976\n",
      "\n",
      "(no data for this episode 1 of icustay_id: 211976\n",
      "\n"
     ]
    },
    {
     "name": "stderr",
     "output_type": "stream",
     "text": [
      "Iterating over stays:  44%|███    | 23549/53333 [1:00:07<2:31:12,  3.28it/s]"
     ]
    },
    {
     "name": "stdout",
     "output_type": "stream",
     "text": [
      "(no valid events for icustay_id: 298515\n",
      "\n",
      "(no data for this episode 1 of icustay_id: 298515\n",
      "\n"
     ]
    },
    {
     "name": "stderr",
     "output_type": "stream",
     "text": [
      "Iterating over stays:  44%|███    | 23568/53333 [1:00:16<1:21:57,  6.05it/s]"
     ]
    },
    {
     "name": "stdout",
     "output_type": "stream",
     "text": [
      "(no valid events for icustay_id: 276324\n",
      "\n",
      "(no data for this episode 1 of icustay_id: 276324\n",
      "\n"
     ]
    },
    {
     "name": "stderr",
     "output_type": "stream",
     "text": [
      "Iterating over stays:  44%|███    | 23603/53333 [1:00:20<1:15:22,  6.57it/s]"
     ]
    },
    {
     "name": "stdout",
     "output_type": "stream",
     "text": [
      "(no valid events for icustay_id: 205525\n",
      "\n",
      "(no data for this episode 1 of icustay_id: 205525\n",
      "\n"
     ]
    },
    {
     "name": "stderr",
     "output_type": "stream",
     "text": [
      "Iterating over stays:  45%|███▏   | 23990/53333 [1:01:16<1:00:51,  8.04it/s]"
     ]
    },
    {
     "name": "stdout",
     "output_type": "stream",
     "text": [
      "(no valid events for icustay_id: 269440\n",
      "\n",
      "(no data for this episode 1 of icustay_id: 269440\n",
      "\n"
     ]
    },
    {
     "name": "stderr",
     "output_type": "stream",
     "text": [
      "Iterating over stays:  45%|███▏   | 24077/53333 [1:01:35<1:48:30,  4.49it/s]"
     ]
    },
    {
     "name": "stdout",
     "output_type": "stream",
     "text": [
      "(no valid events for icustay_id: 289613\n",
      "\n",
      "(no data for this episode 1 of icustay_id: 289613\n",
      "\n"
     ]
    },
    {
     "name": "stderr",
     "output_type": "stream",
     "text": [
      "Iterating over stays:  45%|████     | 24143/53333 [1:01:43<52:22,  9.29it/s]"
     ]
    },
    {
     "name": "stdout",
     "output_type": "stream",
     "text": [
      "(no valid events for icustay_id: 206951\n",
      "\n",
      "(no data for this episode 1 of icustay_id: 206951\n",
      "\n"
     ]
    },
    {
     "name": "stderr",
     "output_type": "stream",
     "text": [
      "Iterating over stays:  45%|███▏   | 24208/53333 [1:01:52<1:01:37,  7.88it/s]"
     ]
    },
    {
     "name": "stdout",
     "output_type": "stream",
     "text": [
      "(no valid events for icustay_id: 218617\n",
      "\n",
      "(no data for this episode 1 of icustay_id: 218617\n",
      "\n"
     ]
    },
    {
     "name": "stderr",
     "output_type": "stream",
     "text": [
      "Iterating over stays:  45%|████     | 24249/53333 [1:01:58<54:06,  8.96it/s]"
     ]
    },
    {
     "name": "stdout",
     "output_type": "stream",
     "text": [
      "(no valid events for icustay_id: 255470\n",
      "\n",
      "(no data for this episode 1 of icustay_id: 255470\n",
      "\n"
     ]
    },
    {
     "name": "stderr",
     "output_type": "stream",
     "text": [
      "Iterating over stays:  45%|████     | 24255/53333 [1:01:58<49:01,  9.88it/s]"
     ]
    },
    {
     "name": "stdout",
     "output_type": "stream",
     "text": [
      "(no valid events for icustay_id: 283500\n",
      "\n",
      "(no data for this episode 1 of icustay_id: 283500\n",
      "\n"
     ]
    },
    {
     "name": "stderr",
     "output_type": "stream",
     "text": [
      "Iterating over stays:  46%|████     | 24267/53333 [1:02:00<53:46,  9.01it/s]"
     ]
    },
    {
     "name": "stdout",
     "output_type": "stream",
     "text": [
      "(no valid events for icustay_id: 257774\n",
      "\n",
      "(no data for this episode 1 of icustay_id: 257774\n",
      "\n"
     ]
    },
    {
     "name": "stderr",
     "output_type": "stream",
     "text": [
      "Iterating over stays:  46%|████     | 24312/53333 [1:02:04<45:11, 10.70it/s]"
     ]
    },
    {
     "name": "stdout",
     "output_type": "stream",
     "text": [
      "(no valid events for icustay_id: 214639\n",
      "\n",
      "(no data for this episode 1 of icustay_id: 214639\n",
      "\n",
      "(no valid events for icustay_id: 225381\n",
      "\n",
      "(no data for this episode 1 of icustay_id: 225381\n",
      "\n"
     ]
    },
    {
     "name": "stderr",
     "output_type": "stream",
     "text": [
      "Iterating over stays:  46%|████     | 24427/53333 [1:02:28<55:39,  8.66it/s]"
     ]
    },
    {
     "name": "stdout",
     "output_type": "stream",
     "text": [
      "(no valid events for icustay_id: 213624\n",
      "\n",
      "(no data for this episode 1 of icustay_id: 213624\n",
      "\n"
     ]
    },
    {
     "name": "stderr",
     "output_type": "stream",
     "text": [
      "Iterating over stays:  46%|████▏    | 24470/53333 [1:02:34<54:12,  8.87it/s]"
     ]
    },
    {
     "name": "stdout",
     "output_type": "stream",
     "text": [
      "(no valid events for icustay_id: 276421\n",
      "\n",
      "(no data for this episode 1 of icustay_id: 276421\n",
      "\n"
     ]
    },
    {
     "name": "stderr",
     "output_type": "stream",
     "text": [
      "Iterating over stays:  46%|████▏    | 24500/53333 [1:02:38<56:17,  8.54it/s]"
     ]
    },
    {
     "name": "stdout",
     "output_type": "stream",
     "text": [
      "(no valid events for icustay_id: 248324\n",
      "\n",
      "(no data for this episode 1 of icustay_id: 248324\n",
      "\n"
     ]
    },
    {
     "name": "stderr",
     "output_type": "stream",
     "text": [
      "Iterating over stays:  46%|███▏   | 24602/53333 [1:02:58<1:04:25,  7.43it/s]"
     ]
    },
    {
     "name": "stdout",
     "output_type": "stream",
     "text": [
      "(no valid events for icustay_id: 266673\n",
      "\n",
      "(no data for this episode 1 of icustay_id: 266673\n",
      "\n"
     ]
    },
    {
     "name": "stderr",
     "output_type": "stream",
     "text": [
      "Iterating over stays:  46%|███▏   | 24679/53333 [1:03:09<1:11:38,  6.67it/s]"
     ]
    },
    {
     "name": "stdout",
     "output_type": "stream",
     "text": [
      "(no valid events for icustay_id: 226389\n",
      "\n",
      "(no data for this episode 1 of icustay_id: 226389\n",
      "\n"
     ]
    },
    {
     "name": "stderr",
     "output_type": "stream",
     "text": [
      "Iterating over stays:  46%|████▏    | 24709/53333 [1:03:13<54:18,  8.78it/s]"
     ]
    },
    {
     "name": "stdout",
     "output_type": "stream",
     "text": [
      "(no valid events for icustay_id: 247646\n",
      "\n",
      "(no data for this episode 1 of icustay_id: 247646\n",
      "\n"
     ]
    },
    {
     "name": "stderr",
     "output_type": "stream",
     "text": [
      "Iterating over stays:  46%|███▏   | 24737/53333 [1:03:16<1:00:47,  7.84it/s]"
     ]
    },
    {
     "name": "stdout",
     "output_type": "stream",
     "text": [
      "(no valid events for icustay_id: 256932\n",
      "\n",
      "(no data for this episode 1 of icustay_id: 256932\n",
      "\n"
     ]
    },
    {
     "name": "stderr",
     "output_type": "stream",
     "text": [
      "Iterating over stays:  46%|████▏    | 24762/53333 [1:03:19<53:42,  8.87it/s]"
     ]
    },
    {
     "name": "stdout",
     "output_type": "stream",
     "text": [
      "(no valid events for icustay_id: 224777\n",
      "\n",
      "(no data for this episode 1 of icustay_id: 224777\n",
      "\n"
     ]
    },
    {
     "name": "stderr",
     "output_type": "stream",
     "text": [
      "Iterating over stays:  46%|███▎   | 24787/53333 [1:03:22<1:03:39,  7.47it/s]"
     ]
    },
    {
     "name": "stdout",
     "output_type": "stream",
     "text": [
      "(no valid events for icustay_id: 262573\n",
      "\n",
      "(no data for this episode 1 of icustay_id: 262573\n",
      "\n"
     ]
    },
    {
     "name": "stderr",
     "output_type": "stream",
     "text": [
      "Iterating over stays:  47%|████▏    | 24818/53333 [1:03:26<50:20,  9.44it/s]"
     ]
    },
    {
     "name": "stdout",
     "output_type": "stream",
     "text": [
      "(no valid events for icustay_id: 231324\n",
      "\n",
      "(no data for this episode 1 of icustay_id: 231324\n",
      "\n"
     ]
    },
    {
     "name": "stderr",
     "output_type": "stream",
     "text": [
      "Iterating over stays:  47%|███▎   | 24836/53333 [1:03:35<1:33:10,  5.10it/s]"
     ]
    },
    {
     "name": "stdout",
     "output_type": "stream",
     "text": [
      "(no valid events for icustay_id: 222789\n",
      "\n",
      "(no data for this episode 1 of icustay_id: 222789\n",
      "\n",
      "(no valid events for icustay_id: 294773\n",
      "\n",
      "(no data for this episode 1 of icustay_id: 294773\n",
      "\n"
     ]
    },
    {
     "name": "stderr",
     "output_type": "stream",
     "text": [
      "Iterating over stays:  47%|████▏    | 24942/53333 [1:03:48<56:42,  8.34it/s]"
     ]
    },
    {
     "name": "stdout",
     "output_type": "stream",
     "text": [
      "(no valid events for icustay_id: 294109\n",
      "\n",
      "(no data for this episode 1 of icustay_id: 294109\n",
      "\n"
     ]
    },
    {
     "name": "stderr",
     "output_type": "stream",
     "text": [
      "Iterating over stays:  47%|████▏    | 24982/53333 [1:03:52<47:47,  9.89it/s]"
     ]
    },
    {
     "name": "stdout",
     "output_type": "stream",
     "text": [
      "(no valid events for icustay_id: 279520\n",
      "\n",
      "(no data for this episode 1 of icustay_id: 279520\n",
      "\n"
     ]
    },
    {
     "name": "stderr",
     "output_type": "stream",
     "text": [
      "Iterating over stays:  47%|███▎   | 25082/53333 [1:04:07<4:23:49,  1.78it/s]"
     ]
    },
    {
     "name": "stdout",
     "output_type": "stream",
     "text": [
      "(no valid events for icustay_id: 254063\n",
      "\n",
      "(no data for this episode 1 of icustay_id: 254063\n",
      "\n"
     ]
    },
    {
     "name": "stderr",
     "output_type": "stream",
     "text": [
      "Iterating over stays:  47%|████▎    | 25229/53333 [1:04:31<48:27,  9.67it/s]"
     ]
    },
    {
     "name": "stdout",
     "output_type": "stream",
     "text": [
      "(no valid events for icustay_id: 293862\n",
      "\n",
      "(no data for this episode 1 of icustay_id: 293862\n",
      "\n"
     ]
    },
    {
     "name": "stderr",
     "output_type": "stream",
     "text": [
      "Iterating over stays:  47%|███▎   | 25294/53333 [1:04:39<1:04:26,  7.25it/s]"
     ]
    },
    {
     "name": "stdout",
     "output_type": "stream",
     "text": [
      "(no valid events for icustay_id: 273982\n",
      "\n",
      "(no data for this episode 1 of icustay_id: 273982\n",
      "\n"
     ]
    },
    {
     "name": "stderr",
     "output_type": "stream",
     "text": [
      "Iterating over stays:  48%|███▎   | 25502/53333 [1:05:13<1:02:13,  7.45it/s]"
     ]
    },
    {
     "name": "stdout",
     "output_type": "stream",
     "text": [
      "(no valid events for icustay_id: 296234\n",
      "\n",
      "(no data for this episode 1 of icustay_id: 296234\n",
      "\n"
     ]
    },
    {
     "name": "stderr",
     "output_type": "stream",
     "text": [
      "Iterating over stays:  48%|███▎   | 25514/53333 [1:05:15<1:02:05,  7.47it/s]"
     ]
    },
    {
     "name": "stdout",
     "output_type": "stream",
     "text": [
      "(no valid events for icustay_id: 222856\n",
      "\n",
      "(no data for this episode 1 of icustay_id: 222856\n",
      "\n",
      "(no valid events for icustay_id: 262319\n",
      "\n",
      "(no data for this episode 1 of icustay_id: 262319\n",
      "\n"
     ]
    },
    {
     "name": "stderr",
     "output_type": "stream",
     "text": [
      "Iterating over stays:  48%|████▎    | 25546/53333 [1:05:19<44:31, 10.40it/s]"
     ]
    },
    {
     "name": "stdout",
     "output_type": "stream",
     "text": [
      "(no valid events for icustay_id: 240627\n",
      "\n",
      "(no data for this episode 1 of icustay_id: 240627\n",
      "\n"
     ]
    },
    {
     "name": "stderr",
     "output_type": "stream",
     "text": [
      "Iterating over stays:  48%|███▎   | 25567/53333 [1:05:21<1:01:49,  7.48it/s]"
     ]
    },
    {
     "name": "stdout",
     "output_type": "stream",
     "text": [
      "(no valid events for icustay_id: 287292\n",
      "\n",
      "(no data for this episode 1 of icustay_id: 287292\n",
      "\n"
     ]
    },
    {
     "name": "stderr",
     "output_type": "stream",
     "text": [
      "Iterating over stays:  48%|████▎    | 25635/53333 [1:05:37<44:06, 10.46it/s]"
     ]
    },
    {
     "name": "stdout",
     "output_type": "stream",
     "text": [
      "(no valid events for icustay_id: 223031\n",
      "\n",
      "(no data for this episode 1 of icustay_id: 223031\n",
      "\n"
     ]
    },
    {
     "name": "stderr",
     "output_type": "stream",
     "text": [
      "Iterating over stays:  48%|████▎    | 25641/53333 [1:05:38<59:47,  7.72it/s]"
     ]
    },
    {
     "name": "stdout",
     "output_type": "stream",
     "text": [
      "(no valid events for icustay_id: 285708\n",
      "\n",
      "(no data for this episode 1 of icustay_id: 285708\n",
      "\n"
     ]
    },
    {
     "name": "stderr",
     "output_type": "stream",
     "text": [
      "Iterating over stays:  48%|████▎    | 25670/53333 [1:05:42<52:22,  8.80it/s]"
     ]
    },
    {
     "name": "stdout",
     "output_type": "stream",
     "text": [
      "(no valid events for icustay_id: 244515\n",
      "\n",
      "(no data for this episode 1 of icustay_id: 244515\n",
      "\n"
     ]
    },
    {
     "name": "stderr",
     "output_type": "stream",
     "text": [
      "Iterating over stays:  48%|████▎    | 25706/53333 [1:05:47<55:37,  8.28it/s]"
     ]
    },
    {
     "name": "stdout",
     "output_type": "stream",
     "text": [
      "(no valid events for icustay_id: 280394\n",
      "\n",
      "(no data for this episode 1 of icustay_id: 280394\n",
      "\n"
     ]
    },
    {
     "name": "stderr",
     "output_type": "stream",
     "text": [
      "Iterating over stays:  48%|████▎    | 25737/53333 [1:05:51<47:51,  9.61it/s]"
     ]
    },
    {
     "name": "stdout",
     "output_type": "stream",
     "text": [
      "(no valid events for icustay_id: 209778\n",
      "\n",
      "(no data for this episode 1 of icustay_id: 209778\n",
      "\n"
     ]
    },
    {
     "name": "stderr",
     "output_type": "stream",
     "text": [
      "Iterating over stays:  48%|████▎    | 25743/53333 [1:05:52<52:16,  8.80it/s]"
     ]
    },
    {
     "name": "stdout",
     "output_type": "stream",
     "text": [
      "(no valid events for icustay_id: 252484\n",
      "\n",
      "(no data for this episode 1 of icustay_id: 252484\n",
      "\n"
     ]
    },
    {
     "name": "stderr",
     "output_type": "stream",
     "text": [
      "Iterating over stays:  48%|████▎    | 25749/53333 [1:05:52<53:20,  8.62it/s]"
     ]
    },
    {
     "name": "stdout",
     "output_type": "stream",
     "text": [
      "(no valid events for icustay_id: 244573\n",
      "\n",
      "(no data for this episode 1 of icustay_id: 244573\n",
      "\n"
     ]
    },
    {
     "name": "stderr",
     "output_type": "stream",
     "text": [
      "Iterating over stays:  48%|████▎    | 25804/53333 [1:05:59<54:34,  8.41it/s]"
     ]
    },
    {
     "name": "stdout",
     "output_type": "stream",
     "text": [
      "(no valid events for icustay_id: 204754\n",
      "\n",
      "(no data for this episode 1 of icustay_id: 204754\n",
      "\n",
      "(no valid events for icustay_id: 268282\n",
      "\n",
      "(no data for this episode 1 of icustay_id: 268282\n",
      "\n"
     ]
    },
    {
     "name": "stderr",
     "output_type": "stream",
     "text": [
      "Iterating over stays:  48%|████▎    | 25831/53333 [1:06:02<44:54, 10.21it/s]"
     ]
    },
    {
     "name": "stdout",
     "output_type": "stream",
     "text": [
      "(no valid events for icustay_id: 275262\n",
      "\n",
      "(no data for this episode 1 of icustay_id: 275262\n",
      "\n"
     ]
    },
    {
     "name": "stderr",
     "output_type": "stream",
     "text": [
      "Iterating over stays:  49%|████▎    | 25882/53333 [1:06:16<51:14,  8.93it/s]"
     ]
    },
    {
     "name": "stdout",
     "output_type": "stream",
     "text": [
      "(no valid events for icustay_id: 206870\n",
      "\n",
      "(no data for this episode 1 of icustay_id: 206870\n",
      "\n"
     ]
    },
    {
     "name": "stderr",
     "output_type": "stream",
     "text": [
      "Iterating over stays:  49%|███▍   | 25997/53333 [1:06:30<1:05:39,  6.94it/s]"
     ]
    },
    {
     "name": "stdout",
     "output_type": "stream",
     "text": [
      "(no valid events for icustay_id: 234521\n",
      "\n",
      "(no data for this episode 1 of icustay_id: 234521\n",
      "\n"
     ]
    },
    {
     "name": "stderr",
     "output_type": "stream",
     "text": [
      "Iterating over stays:  49%|████▍    | 26089/53333 [1:06:41<54:39,  8.31it/s]"
     ]
    },
    {
     "name": "stdout",
     "output_type": "stream",
     "text": [
      "(no valid events for icustay_id: 275309\n",
      "\n",
      "(no data for this episode 1 of icustay_id: 275309\n",
      "\n"
     ]
    },
    {
     "name": "stderr",
     "output_type": "stream",
     "text": [
      "Iterating over stays:  49%|████▍    | 26253/53333 [1:07:09<55:51,  8.08it/s]"
     ]
    },
    {
     "name": "stdout",
     "output_type": "stream",
     "text": [
      "(no valid events for icustay_id: 257552\n",
      "\n",
      "(no data for this episode 1 of icustay_id: 257552\n",
      "\n"
     ]
    },
    {
     "name": "stderr",
     "output_type": "stream",
     "text": [
      "Iterating over stays:  49%|████▍    | 26278/53333 [1:07:12<59:04,  7.63it/s]"
     ]
    },
    {
     "name": "stdout",
     "output_type": "stream",
     "text": [
      "(no valid events for icustay_id: 202572\n",
      "\n",
      "(no data for this episode 1 of icustay_id: 202572\n",
      "\n"
     ]
    },
    {
     "name": "stderr",
     "output_type": "stream",
     "text": [
      "Iterating over stays:  49%|████▍    | 26293/53333 [1:07:14<50:38,  8.90it/s]"
     ]
    },
    {
     "name": "stdout",
     "output_type": "stream",
     "text": [
      "(no valid events for icustay_id: 262521\n",
      "\n",
      "(no data for this episode 1 of icustay_id: 262521\n",
      "\n"
     ]
    },
    {
     "name": "stderr",
     "output_type": "stream",
     "text": [
      "Iterating over stays:  49%|████▍    | 26312/53333 [1:07:16<41:53, 10.75it/s]"
     ]
    },
    {
     "name": "stdout",
     "output_type": "stream",
     "text": [
      "(no valid events for icustay_id: 286562\n",
      "\n",
      "(no data for this episode 1 of icustay_id: 286562\n",
      "\n"
     ]
    },
    {
     "name": "stderr",
     "output_type": "stream",
     "text": [
      "Iterating over stays:  49%|████▍    | 26316/53333 [1:07:16<38:45, 11.62it/s]"
     ]
    },
    {
     "name": "stdout",
     "output_type": "stream",
     "text": [
      "(no valid events for icustay_id: 280506\n",
      "\n",
      "(no data for this episode 1 of icustay_id: 280506\n",
      "\n"
     ]
    },
    {
     "name": "stderr",
     "output_type": "stream",
     "text": [
      "Iterating over stays:  50%|████▍    | 26405/53333 [1:07:36<56:18,  7.97it/s]"
     ]
    },
    {
     "name": "stdout",
     "output_type": "stream",
     "text": [
      "(no valid events for icustay_id: 242694\n",
      "\n",
      "(no data for this episode 1 of icustay_id: 242694\n",
      "\n"
     ]
    },
    {
     "name": "stderr",
     "output_type": "stream",
     "text": [
      "Iterating over stays:  50%|████▍    | 26468/53333 [1:07:44<54:50,  8.16it/s]"
     ]
    },
    {
     "name": "stdout",
     "output_type": "stream",
     "text": [
      "(no valid events for icustay_id: 237417\n",
      "\n",
      "(no data for this episode 1 of icustay_id: 237417\n",
      "\n"
     ]
    },
    {
     "name": "stderr",
     "output_type": "stream",
     "text": [
      "Iterating over stays:  50%|███▍   | 26486/53333 [1:07:47<1:01:59,  7.22it/s]"
     ]
    },
    {
     "name": "stdout",
     "output_type": "stream",
     "text": [
      "(no valid events for icustay_id: 247074\n",
      "\n",
      "(no data for this episode 1 of icustay_id: 247074\n",
      "\n"
     ]
    },
    {
     "name": "stderr",
     "output_type": "stream",
     "text": [
      "Iterating over stays:  50%|███▍   | 26600/53333 [1:08:08<1:03:31,  7.01it/s]"
     ]
    },
    {
     "name": "stdout",
     "output_type": "stream",
     "text": [
      "(no valid events for icustay_id: 236050\n",
      "\n",
      "(no data for this episode 1 of icustay_id: 236050\n",
      "\n"
     ]
    },
    {
     "name": "stderr",
     "output_type": "stream",
     "text": [
      "Iterating over stays:  50%|███▍   | 26608/53333 [1:08:10<1:12:36,  6.13it/s]"
     ]
    },
    {
     "name": "stdout",
     "output_type": "stream",
     "text": [
      "(no valid events for icustay_id: 224811\n",
      "\n",
      "(no data for this episode 1 of icustay_id: 224811\n",
      "\n"
     ]
    },
    {
     "name": "stderr",
     "output_type": "stream",
     "text": [
      "Iterating over stays:  50%|████▍    | 26615/53333 [1:08:11<54:16,  8.21it/s]"
     ]
    },
    {
     "name": "stdout",
     "output_type": "stream",
     "text": [
      "(no valid events for icustay_id: 227976\n",
      "\n",
      "(no data for this episode 1 of icustay_id: 227976\n",
      "\n"
     ]
    },
    {
     "name": "stderr",
     "output_type": "stream",
     "text": [
      "Iterating over stays:  50%|████▌    | 26831/53333 [1:08:45<45:55,  9.62it/s]"
     ]
    },
    {
     "name": "stdout",
     "output_type": "stream",
     "text": [
      "(no valid events for icustay_id: 282684\n",
      "\n",
      "(no data for this episode 1 of icustay_id: 282684\n",
      "\n"
     ]
    },
    {
     "name": "stderr",
     "output_type": "stream",
     "text": [
      "Iterating over stays:  50%|███▌   | 26876/53333 [1:08:51<1:12:40,  6.07it/s]"
     ]
    },
    {
     "name": "stdout",
     "output_type": "stream",
     "text": [
      "(no valid events for icustay_id: 276376\n",
      "\n",
      "(no data for this episode 1 of icustay_id: 276376\n",
      "\n"
     ]
    },
    {
     "name": "stderr",
     "output_type": "stream",
     "text": [
      "Iterating over stays:  50%|████▌    | 26885/53333 [1:08:52<54:02,  8.16it/s]"
     ]
    },
    {
     "name": "stdout",
     "output_type": "stream",
     "text": [
      "(no valid events for icustay_id: 258331\n",
      "\n",
      "(no data for this episode 1 of icustay_id: 258331\n",
      "\n"
     ]
    },
    {
     "name": "stderr",
     "output_type": "stream",
     "text": [
      "Iterating over stays:  50%|████▌    | 26922/53333 [1:08:57<48:52,  9.01it/s]"
     ]
    },
    {
     "name": "stdout",
     "output_type": "stream",
     "text": [
      "(no valid events for icustay_id: 215709\n",
      "\n",
      "(no data for this episode 1 of icustay_id: 215709\n",
      "\n"
     ]
    },
    {
     "name": "stderr",
     "output_type": "stream",
     "text": [
      "Iterating over stays:  50%|████▌    | 26930/53333 [1:08:58<44:55,  9.80it/s]"
     ]
    },
    {
     "name": "stdout",
     "output_type": "stream",
     "text": [
      "(no valid events for icustay_id: 250454\n",
      "\n",
      "(no data for this episode 1 of icustay_id: 250454\n",
      "\n"
     ]
    },
    {
     "name": "stderr",
     "output_type": "stream",
     "text": [
      "Iterating over stays:  51%|████▌    | 26980/53333 [1:09:05<51:49,  8.48it/s]"
     ]
    },
    {
     "name": "stdout",
     "output_type": "stream",
     "text": [
      "(no valid events for icustay_id: 283286\n",
      "\n",
      "(no data for this episode 1 of icustay_id: 283286\n",
      "\n"
     ]
    },
    {
     "name": "stderr",
     "output_type": "stream",
     "text": [
      "Iterating over stays:  51%|███▌   | 27029/53333 [1:09:16<7:15:03,  1.01it/s]"
     ]
    },
    {
     "name": "stdout",
     "output_type": "stream",
     "text": [
      "(no valid events for icustay_id: 258734\n",
      "\n",
      "(no data for this episode 1 of icustay_id: 258734\n",
      "\n"
     ]
    },
    {
     "name": "stderr",
     "output_type": "stream",
     "text": [
      "Iterating over stays:  51%|████▌    | 27133/53333 [1:09:32<51:09,  8.53it/s]"
     ]
    },
    {
     "name": "stdout",
     "output_type": "stream",
     "text": [
      "(no valid events for icustay_id: 272780\n",
      "\n",
      "(no data for this episode 1 of icustay_id: 272780\n",
      "\n"
     ]
    },
    {
     "name": "stderr",
     "output_type": "stream",
     "text": [
      "Iterating over stays:  51%|████▌    | 27141/53333 [1:09:33<42:25, 10.29it/s]"
     ]
    },
    {
     "name": "stdout",
     "output_type": "stream",
     "text": [
      "(no valid events for icustay_id: 290661\n",
      "\n",
      "(no data for this episode 1 of icustay_id: 290661\n",
      "\n"
     ]
    },
    {
     "name": "stderr",
     "output_type": "stream",
     "text": [
      "Iterating over stays:  51%|████▌    | 27254/53333 [1:09:46<50:11,  8.66it/s]"
     ]
    },
    {
     "name": "stdout",
     "output_type": "stream",
     "text": [
      "(no valid events for icustay_id: 236962\n",
      "\n",
      "(no data for this episode 1 of icustay_id: 236962\n",
      "\n"
     ]
    },
    {
     "name": "stderr",
     "output_type": "stream",
     "text": [
      "Iterating over stays:  51%|███▌   | 27399/53333 [1:10:11<1:00:42,  7.12it/s]"
     ]
    },
    {
     "name": "stdout",
     "output_type": "stream",
     "text": [
      "(no valid events for icustay_id: 264236\n",
      "\n",
      "(no data for this episode 1 of icustay_id: 264236\n",
      "\n"
     ]
    },
    {
     "name": "stderr",
     "output_type": "stream",
     "text": [
      "Iterating over stays:  51%|████▋    | 27457/53333 [1:10:19<51:40,  8.35it/s]"
     ]
    },
    {
     "name": "stdout",
     "output_type": "stream",
     "text": [
      "(no valid events for icustay_id: 297564\n",
      "\n",
      "(no data for this episode 1 of icustay_id: 297564\n",
      "\n"
     ]
    },
    {
     "name": "stderr",
     "output_type": "stream",
     "text": [
      "Iterating over stays:  52%|████▋    | 27473/53333 [1:10:21<58:20,  7.39it/s]"
     ]
    },
    {
     "name": "stdout",
     "output_type": "stream",
     "text": [
      "(no valid events for icustay_id: 216405\n",
      "\n",
      "(no data for this episode 1 of icustay_id: 216405\n",
      "\n"
     ]
    },
    {
     "name": "stderr",
     "output_type": "stream",
     "text": [
      "Iterating over stays:  52%|████▋    | 27490/53333 [1:10:23<58:59,  7.30it/s]"
     ]
    },
    {
     "name": "stdout",
     "output_type": "stream",
     "text": [
      "(no valid events for icustay_id: 291393\n",
      "\n",
      "(no data for this episode 1 of icustay_id: 291393\n",
      "\n"
     ]
    },
    {
     "name": "stderr",
     "output_type": "stream",
     "text": [
      "Iterating over stays:  52%|████▋    | 27590/53333 [1:10:44<43:52,  9.78it/s]"
     ]
    },
    {
     "name": "stdout",
     "output_type": "stream",
     "text": [
      "(no valid events for icustay_id: 245428\n",
      "\n",
      "(no data for this episode 1 of icustay_id: 245428\n",
      "\n"
     ]
    },
    {
     "name": "stderr",
     "output_type": "stream",
     "text": [
      "Iterating over stays:  52%|████▋    | 27601/53333 [1:10:45<51:53,  8.27it/s]"
     ]
    },
    {
     "name": "stdout",
     "output_type": "stream",
     "text": [
      "(no valid events for icustay_id: 263622\n",
      "\n",
      "(no data for this episode 1 of icustay_id: 263622\n",
      "\n"
     ]
    },
    {
     "name": "stderr",
     "output_type": "stream",
     "text": [
      "Iterating over stays:  52%|███▋   | 27742/53333 [1:11:09<1:14:40,  5.71it/s]"
     ]
    },
    {
     "name": "stdout",
     "output_type": "stream",
     "text": [
      "(no valid events for icustay_id: 243433\n",
      "\n",
      "(no data for this episode 1 of icustay_id: 243433\n",
      "\n"
     ]
    },
    {
     "name": "stderr",
     "output_type": "stream",
     "text": [
      "Iterating over stays:  52%|████▋    | 27818/53333 [1:11:18<35:51, 11.86it/s]"
     ]
    },
    {
     "name": "stdout",
     "output_type": "stream",
     "text": [
      "(no valid events for icustay_id: 299295\n",
      "\n",
      "(no data for this episode 1 of icustay_id: 299295\n",
      "\n"
     ]
    },
    {
     "name": "stderr",
     "output_type": "stream",
     "text": [
      "Iterating over stays:  52%|████▋    | 27847/53333 [1:11:21<37:36, 11.30it/s]"
     ]
    },
    {
     "name": "stdout",
     "output_type": "stream",
     "text": [
      "(no valid events for icustay_id: 290946\n",
      "\n",
      "(no data for this episode 1 of icustay_id: 290946\n",
      "\n"
     ]
    },
    {
     "name": "stderr",
     "output_type": "stream",
     "text": [
      "Iterating over stays:  52%|████▋    | 27954/53333 [1:11:41<47:23,  8.93it/s]"
     ]
    },
    {
     "name": "stdout",
     "output_type": "stream",
     "text": [
      "(no valid events for icustay_id: 200742\n",
      "\n",
      "(no data for this episode 1 of icustay_id: 200742\n",
      "\n"
     ]
    },
    {
     "name": "stderr",
     "output_type": "stream",
     "text": [
      "Iterating over stays:  53%|████▋    | 28045/53333 [1:11:52<46:27,  9.07it/s]"
     ]
    },
    {
     "name": "stdout",
     "output_type": "stream",
     "text": [
      "(no valid events for icustay_id: 268341\n",
      "\n",
      "(no data for this episode 1 of icustay_id: 268341\n",
      "\n"
     ]
    },
    {
     "name": "stderr",
     "output_type": "stream",
     "text": [
      "Iterating over stays:  53%|████▋    | 28082/53333 [1:12:02<39:26, 10.67it/s]"
     ]
    },
    {
     "name": "stdout",
     "output_type": "stream",
     "text": [
      "(no valid events for icustay_id: 262807\n",
      "\n",
      "(no data for this episode 1 of icustay_id: 262807\n",
      "\n"
     ]
    },
    {
     "name": "stderr",
     "output_type": "stream",
     "text": [
      "Iterating over stays:  53%|████▊    | 28190/53333 [1:12:16<50:26,  8.31it/s]"
     ]
    },
    {
     "name": "stdout",
     "output_type": "stream",
     "text": [
      "(no valid events for icustay_id: 223936\n",
      "\n",
      "(no data for this episode 1 of icustay_id: 223936\n",
      "\n"
     ]
    },
    {
     "name": "stderr",
     "output_type": "stream",
     "text": [
      "Iterating over stays:  53%|████▊    | 28283/53333 [1:12:27<53:46,  7.76it/s]"
     ]
    },
    {
     "name": "stdout",
     "output_type": "stream",
     "text": [
      "(no valid events for icustay_id: 259934\n",
      "\n",
      "(no data for this episode 1 of icustay_id: 259934\n",
      "\n"
     ]
    },
    {
     "name": "stderr",
     "output_type": "stream",
     "text": [
      "Iterating over stays:  53%|████▊    | 28398/53333 [1:12:47<41:53,  9.92it/s]"
     ]
    },
    {
     "name": "stdout",
     "output_type": "stream",
     "text": [
      "(no valid events for icustay_id: 227153\n",
      "\n",
      "(no data for this episode 1 of icustay_id: 227153\n",
      "\n"
     ]
    },
    {
     "name": "stderr",
     "output_type": "stream",
     "text": [
      "Iterating over stays:  53%|████▊    | 28424/53333 [1:12:50<58:04,  7.15it/s]"
     ]
    },
    {
     "name": "stdout",
     "output_type": "stream",
     "text": [
      "(no valid events for icustay_id: 245071\n",
      "\n",
      "(no data for this episode 1 of icustay_id: 245071\n",
      "\n"
     ]
    },
    {
     "name": "stderr",
     "output_type": "stream",
     "text": [
      "Iterating over stays:  54%|███▋   | 28553/53333 [1:13:06<1:03:05,  6.55it/s]"
     ]
    },
    {
     "name": "stdout",
     "output_type": "stream",
     "text": [
      "(no valid events for icustay_id: 232153\n",
      "\n",
      "(no data for this episode 1 of icustay_id: 232153\n",
      "\n"
     ]
    },
    {
     "name": "stderr",
     "output_type": "stream",
     "text": [
      "Iterating over stays:  54%|████▊    | 28568/53333 [1:13:08<47:56,  8.61it/s]"
     ]
    },
    {
     "name": "stdout",
     "output_type": "stream",
     "text": [
      "(no valid events for icustay_id: 284071\n",
      "\n",
      "(no data for this episode 1 of icustay_id: 284071\n",
      "\n"
     ]
    },
    {
     "name": "stderr",
     "output_type": "stream",
     "text": [
      "Iterating over stays:  54%|████▊    | 28715/53333 [1:13:35<56:22,  7.28it/s]"
     ]
    },
    {
     "name": "stdout",
     "output_type": "stream",
     "text": [
      "(no valid events for icustay_id: 201984\n",
      "\n",
      "(no data for this episode 1 of icustay_id: 201984\n",
      "\n"
     ]
    },
    {
     "name": "stderr",
     "output_type": "stream",
     "text": [
      "Iterating over stays:  54%|████▊    | 28829/53333 [1:13:49<59:07,  6.91it/s]"
     ]
    },
    {
     "name": "stdout",
     "output_type": "stream",
     "text": [
      "(no valid events for icustay_id: 251228\n",
      "\n",
      "(no data for this episode 1 of icustay_id: 251228\n",
      "\n"
     ]
    },
    {
     "name": "stderr",
     "output_type": "stream",
     "text": [
      "Iterating over stays:  54%|███▊   | 28836/53333 [1:13:57<5:35:45,  1.22it/s]"
     ]
    },
    {
     "name": "stdout",
     "output_type": "stream",
     "text": [
      "(no valid events for icustay_id: 279424\n",
      "\n",
      "(no data for this episode 1 of icustay_id: 279424\n",
      "\n"
     ]
    },
    {
     "name": "stderr",
     "output_type": "stream",
     "text": [
      "Iterating over stays:  54%|████▉    | 28906/53333 [1:14:07<49:15,  8.27it/s]"
     ]
    },
    {
     "name": "stdout",
     "output_type": "stream",
     "text": [
      "(no valid events for icustay_id: 218086\n",
      "\n",
      "(no data for this episode 1 of icustay_id: 218086\n",
      "\n"
     ]
    },
    {
     "name": "stderr",
     "output_type": "stream",
     "text": [
      "Iterating over stays:  54%|████▉    | 28991/53333 [1:14:18<39:20, 10.31it/s]"
     ]
    },
    {
     "name": "stdout",
     "output_type": "stream",
     "text": [
      "(no valid events for icustay_id: 245588\n",
      "\n",
      "(no data for this episode 1 of icustay_id: 245588\n",
      "\n"
     ]
    },
    {
     "name": "stderr",
     "output_type": "stream",
     "text": [
      "Iterating over stays:  54%|████▉    | 29033/53333 [1:14:23<41:31,  9.75it/s]"
     ]
    },
    {
     "name": "stdout",
     "output_type": "stream",
     "text": [
      "(no valid events for icustay_id: 246075\n",
      "\n",
      "(no data for this episode 1 of icustay_id: 246075\n",
      "\n"
     ]
    },
    {
     "name": "stderr",
     "output_type": "stream",
     "text": [
      "Iterating over stays:  54%|████▉    | 29038/53333 [1:14:24<41:07,  9.85it/s]"
     ]
    },
    {
     "name": "stdout",
     "output_type": "stream",
     "text": [
      "(no valid events for icustay_id: 278267\n",
      "\n",
      "(no data for this episode 1 of icustay_id: 278267\n",
      "\n"
     ]
    },
    {
     "name": "stderr",
     "output_type": "stream",
     "text": [
      "Iterating over stays:  55%|████▉    | 29072/53333 [1:14:34<48:40,  8.31it/s]"
     ]
    },
    {
     "name": "stdout",
     "output_type": "stream",
     "text": [
      "(no valid events for icustay_id: 200958\n",
      "\n",
      "(no data for this episode 1 of icustay_id: 200958\n",
      "\n"
     ]
    },
    {
     "name": "stderr",
     "output_type": "stream",
     "text": [
      "Iterating over stays:  55%|████▉    | 29075/53333 [1:14:34<49:12,  8.22it/s]"
     ]
    },
    {
     "name": "stdout",
     "output_type": "stream",
     "text": [
      "(no valid events for icustay_id: 281434\n",
      "\n",
      "(no data for this episode 1 of icustay_id: 281434\n",
      "\n"
     ]
    },
    {
     "name": "stderr",
     "output_type": "stream",
     "text": [
      "Iterating over stays:  55%|████▉    | 29085/53333 [1:14:35<41:47,  9.67it/s]"
     ]
    },
    {
     "name": "stdout",
     "output_type": "stream",
     "text": [
      "(no valid events for icustay_id: 209820\n",
      "\n",
      "(no data for this episode 1 of icustay_id: 209820\n",
      "\n"
     ]
    },
    {
     "name": "stderr",
     "output_type": "stream",
     "text": [
      "Iterating over stays:  55%|████▉    | 29109/53333 [1:14:41<51:45,  7.80it/s]"
     ]
    },
    {
     "name": "stdout",
     "output_type": "stream",
     "text": [
      "(no valid events for icustay_id: 288809\n",
      "\n",
      "(no data for this episode 1 of icustay_id: 288809\n",
      "\n"
     ]
    },
    {
     "name": "stderr",
     "output_type": "stream",
     "text": [
      "Iterating over stays:  55%|████▉    | 29189/53333 [1:14:49<43:09,  9.32it/s]"
     ]
    },
    {
     "name": "stdout",
     "output_type": "stream",
     "text": [
      "(no valid events for icustay_id: 209267\n",
      "\n",
      "(no data for this episode 1 of icustay_id: 209267\n",
      "\n"
     ]
    },
    {
     "name": "stderr",
     "output_type": "stream",
     "text": [
      "Iterating over stays:  55%|████▉    | 29205/53333 [1:14:52<54:13,  7.41it/s]"
     ]
    },
    {
     "name": "stdout",
     "output_type": "stream",
     "text": [
      "(no valid events for icustay_id: 273624\n",
      "\n",
      "(no data for this episode 1 of icustay_id: 273624\n",
      "\n"
     ]
    },
    {
     "name": "stderr",
     "output_type": "stream",
     "text": [
      "Iterating over stays:  55%|████▉    | 29233/53333 [1:14:55<56:41,  7.08it/s]"
     ]
    },
    {
     "name": "stdout",
     "output_type": "stream",
     "text": [
      "(no valid events for icustay_id: 246764\n",
      "\n",
      "(no data for this episode 1 of icustay_id: 246764\n",
      "\n"
     ]
    },
    {
     "name": "stderr",
     "output_type": "stream",
     "text": [
      "Iterating over stays:  55%|████▉    | 29293/53333 [1:15:09<40:58,  9.78it/s]"
     ]
    },
    {
     "name": "stdout",
     "output_type": "stream",
     "text": [
      "(no valid events for icustay_id: 275843\n",
      "\n",
      "(no data for this episode 1 of icustay_id: 275843\n",
      "\n"
     ]
    },
    {
     "name": "stderr",
     "output_type": "stream",
     "text": [
      "Iterating over stays:  55%|████▉    | 29339/53333 [1:15:17<40:31,  9.87it/s]"
     ]
    },
    {
     "name": "stdout",
     "output_type": "stream",
     "text": [
      "(no valid events for icustay_id: 250902\n",
      "\n",
      "(no data for this episode 1 of icustay_id: 250902\n",
      "\n"
     ]
    },
    {
     "name": "stderr",
     "output_type": "stream",
     "text": [
      "Iterating over stays:  55%|████▉    | 29407/53333 [1:15:26<50:19,  7.92it/s]"
     ]
    },
    {
     "name": "stdout",
     "output_type": "stream",
     "text": [
      "(no valid events for icustay_id: 219752\n",
      "\n",
      "(no data for this episode 1 of icustay_id: 219752\n",
      "\n"
     ]
    },
    {
     "name": "stderr",
     "output_type": "stream",
     "text": [
      "Iterating over stays:  55%|████▉    | 29459/53333 [1:15:38<40:05,  9.92it/s]"
     ]
    },
    {
     "name": "stdout",
     "output_type": "stream",
     "text": [
      "(no valid events for icustay_id: 226380\n",
      "\n",
      "(no data for this episode 1 of icustay_id: 226380\n",
      "\n"
     ]
    },
    {
     "name": "stderr",
     "output_type": "stream",
     "text": [
      "Iterating over stays:  55%|████▉    | 29579/53333 [1:15:54<43:46,  9.04it/s]"
     ]
    },
    {
     "name": "stdout",
     "output_type": "stream",
     "text": [
      "(no valid events for icustay_id: 277653\n",
      "\n",
      "(no data for this episode 1 of icustay_id: 277653\n",
      "\n"
     ]
    },
    {
     "name": "stderr",
     "output_type": "stream",
     "text": [
      "Iterating over stays:  56%|█████    | 29647/53333 [1:16:10<33:49, 11.67it/s]"
     ]
    },
    {
     "name": "stdout",
     "output_type": "stream",
     "text": [
      "(no valid events for icustay_id: 290116\n",
      "\n",
      "(no data for this episode 1 of icustay_id: 290116\n",
      "\n"
     ]
    },
    {
     "name": "stderr",
     "output_type": "stream",
     "text": [
      "Iterating over stays:  56%|█████    | 29671/53333 [1:16:12<40:12,  9.81it/s]"
     ]
    },
    {
     "name": "stdout",
     "output_type": "stream",
     "text": [
      "(no valid events for icustay_id: 285499\n",
      "\n",
      "(no data for this episode 1 of icustay_id: 285499\n",
      "\n"
     ]
    },
    {
     "name": "stderr",
     "output_type": "stream",
     "text": [
      "Iterating over stays:  56%|█████    | 29679/53333 [1:16:13<39:07, 10.08it/s]"
     ]
    },
    {
     "name": "stdout",
     "output_type": "stream",
     "text": [
      "(no valid events for icustay_id: 279367\n",
      "\n",
      "(no data for this episode 1 of icustay_id: 279367\n",
      "\n"
     ]
    },
    {
     "name": "stderr",
     "output_type": "stream",
     "text": [
      "Iterating over stays:  56%|█████    | 29760/53333 [1:16:22<38:59, 10.07it/s]"
     ]
    },
    {
     "name": "stdout",
     "output_type": "stream",
     "text": [
      "(no valid events for icustay_id: 206113\n",
      "\n",
      "(no data for this episode 1 of icustay_id: 206113\n",
      "\n"
     ]
    },
    {
     "name": "stderr",
     "output_type": "stream",
     "text": [
      "Iterating over stays:  56%|█████    | 29831/53333 [1:16:36<48:27,  8.08it/s]"
     ]
    },
    {
     "name": "stdout",
     "output_type": "stream",
     "text": [
      "(no valid events for icustay_id: 204851\n",
      "\n",
      "(no data for this episode 1 of icustay_id: 204851\n",
      "\n"
     ]
    },
    {
     "name": "stderr",
     "output_type": "stream",
     "text": [
      "Iterating over stays:  56%|███▉   | 29840/53333 [1:16:38<1:28:28,  4.43it/s]"
     ]
    },
    {
     "name": "stdout",
     "output_type": "stream",
     "text": [
      "(no valid events for icustay_id: 287248\n",
      "\n",
      "(no data for this episode 1 of icustay_id: 287248\n",
      "\n"
     ]
    },
    {
     "name": "stderr",
     "output_type": "stream",
     "text": [
      "Iterating over stays:  56%|█████    | 29852/53333 [1:16:41<47:52,  8.17it/s]"
     ]
    },
    {
     "name": "stdout",
     "output_type": "stream",
     "text": [
      "(no valid events for icustay_id: 222607\n",
      "\n",
      "(no data for this episode 1 of icustay_id: 222607\n",
      "\n"
     ]
    },
    {
     "name": "stderr",
     "output_type": "stream",
     "text": [
      "Iterating over stays:  56%|█████    | 29953/53333 [1:16:52<43:57,  8.86it/s]"
     ]
    },
    {
     "name": "stdout",
     "output_type": "stream",
     "text": [
      "(no valid events for icustay_id: 244926\n",
      "\n",
      "(no data for this episode 1 of icustay_id: 244926\n",
      "\n"
     ]
    },
    {
     "name": "stderr",
     "output_type": "stream",
     "text": [
      "Iterating over stays:  56%|█████    | 30040/53333 [1:17:10<39:49,  9.75it/s]"
     ]
    },
    {
     "name": "stdout",
     "output_type": "stream",
     "text": [
      "(no valid events for icustay_id: 292213\n",
      "\n",
      "(no data for this episode 1 of icustay_id: 292213\n",
      "\n"
     ]
    },
    {
     "name": "stderr",
     "output_type": "stream",
     "text": [
      "Iterating over stays:  57%|███▉   | 30158/53333 [1:17:30<1:22:20,  4.69it/s]"
     ]
    },
    {
     "name": "stdout",
     "output_type": "stream",
     "text": [
      "(no valid events for icustay_id: 239056\n",
      "\n",
      "(no data for this episode 1 of icustay_id: 239056\n",
      "\n"
     ]
    },
    {
     "name": "stderr",
     "output_type": "stream",
     "text": [
      "Iterating over stays:  57%|█████    | 30185/53333 [1:17:33<39:48,  9.69it/s]"
     ]
    },
    {
     "name": "stdout",
     "output_type": "stream",
     "text": [
      "(no valid events for icustay_id: 264605\n",
      "\n",
      "(no data for this episode 1 of icustay_id: 264605\n",
      "\n",
      "(no valid events for icustay_id: 262847\n",
      "\n"
     ]
    },
    {
     "name": "stderr",
     "output_type": "stream",
     "text": [
      "\r",
      "Iterating over stays:  57%|█████    | 30187/53333 [1:17:33<40:03,  9.63it/s]"
     ]
    },
    {
     "name": "stdout",
     "output_type": "stream",
     "text": [
      "(no data for this episode 1 of icustay_id: 262847\n",
      "\n"
     ]
    },
    {
     "name": "stderr",
     "output_type": "stream",
     "text": [
      "Iterating over stays:  57%|█████    | 30222/53333 [1:17:39<42:14,  9.12it/s]"
     ]
    },
    {
     "name": "stdout",
     "output_type": "stream",
     "text": [
      "(no valid events for icustay_id: 216493\n",
      "\n",
      "(no data for this episode 1 of icustay_id: 216493\n",
      "\n"
     ]
    },
    {
     "name": "stderr",
     "output_type": "stream",
     "text": [
      "Iterating over stays:  57%|█████    | 30280/53333 [1:17:46<49:48,  7.71it/s]"
     ]
    },
    {
     "name": "stdout",
     "output_type": "stream",
     "text": [
      "(no valid events for icustay_id: 274772\n",
      "\n",
      "(no data for this episode 1 of icustay_id: 274772\n",
      "\n"
     ]
    },
    {
     "name": "stderr",
     "output_type": "stream",
     "text": [
      "Iterating over stays:  57%|█████    | 30313/53333 [1:17:49<36:10, 10.61it/s]"
     ]
    },
    {
     "name": "stdout",
     "output_type": "stream",
     "text": [
      "(no valid events for icustay_id: 254087\n",
      "\n",
      "(no data for this episode 1 of icustay_id: 254087\n",
      "\n"
     ]
    },
    {
     "name": "stderr",
     "output_type": "stream",
     "text": [
      "Iterating over stays:  57%|█████    | 30330/53333 [1:17:51<46:03,  8.32it/s]"
     ]
    },
    {
     "name": "stdout",
     "output_type": "stream",
     "text": [
      "(no valid events for icustay_id: 283861\n",
      "\n",
      "(no data for this episode 1 of icustay_id: 283861\n",
      "\n"
     ]
    },
    {
     "name": "stderr",
     "output_type": "stream",
     "text": [
      "Iterating over stays:  57%|█████    | 30335/53333 [1:17:51<38:15, 10.02it/s]"
     ]
    },
    {
     "name": "stdout",
     "output_type": "stream",
     "text": [
      "(no valid events for icustay_id: 204952\n",
      "\n",
      "(no data for this episode 1 of icustay_id: 204952\n",
      "\n"
     ]
    },
    {
     "name": "stderr",
     "output_type": "stream",
     "text": [
      "Iterating over stays:  57%|█████    | 30370/53333 [1:17:55<35:32, 10.77it/s]"
     ]
    },
    {
     "name": "stdout",
     "output_type": "stream",
     "text": [
      "(no valid events for icustay_id: 291882\n",
      "\n",
      "(no data for this episode 1 of icustay_id: 291882\n",
      "\n"
     ]
    },
    {
     "name": "stderr",
     "output_type": "stream",
     "text": [
      "Iterating over stays:  57%|█████▏   | 30380/53333 [1:17:56<35:53, 10.66it/s]"
     ]
    },
    {
     "name": "stdout",
     "output_type": "stream",
     "text": [
      "(no valid events for icustay_id: 202942\n",
      "\n",
      "(no data for this episode 1 of icustay_id: 202942\n",
      "\n"
     ]
    },
    {
     "name": "stderr",
     "output_type": "stream",
     "text": [
      "Iterating over stays:  57%|███▉   | 30419/53333 [1:18:01<1:19:57,  4.78it/s]"
     ]
    },
    {
     "name": "stdout",
     "output_type": "stream",
     "text": [
      "(no valid events for icustay_id: 228011\n",
      "\n",
      "(no data for this episode 1 of icustay_id: 228011\n",
      "\n"
     ]
    },
    {
     "name": "stderr",
     "output_type": "stream",
     "text": [
      "Iterating over stays:  57%|███▉   | 30440/53333 [1:18:10<1:06:46,  5.71it/s]"
     ]
    },
    {
     "name": "stdout",
     "output_type": "stream",
     "text": [
      "(no valid events for icustay_id: 242470\n",
      "\n",
      "(no data for this episode 1 of icustay_id: 242470\n",
      "\n"
     ]
    },
    {
     "name": "stderr",
     "output_type": "stream",
     "text": [
      "Iterating over stays:  57%|█████▏   | 30462/53333 [1:18:13<41:53,  9.10it/s]"
     ]
    },
    {
     "name": "stdout",
     "output_type": "stream",
     "text": [
      "(no valid events for icustay_id: 284806\n",
      "\n",
      "(no data for this episode 1 of icustay_id: 284806\n",
      "\n"
     ]
    },
    {
     "name": "stderr",
     "output_type": "stream",
     "text": [
      "Iterating over stays:  57%|█████▏   | 30643/53333 [1:18:34<53:57,  7.01it/s]"
     ]
    },
    {
     "name": "stdout",
     "output_type": "stream",
     "text": [
      "(no valid events for icustay_id: 200493\n",
      "\n",
      "(no data for this episode 1 of icustay_id: 200493\n",
      "\n",
      "(no valid events for icustay_id: 227758\n",
      "\n",
      "(no data for this episode 1 of icustay_id: 227758\n",
      "\n"
     ]
    },
    {
     "name": "stderr",
     "output_type": "stream",
     "text": [
      "Iterating over stays:  58%|████   | 30742/53333 [1:18:55<1:05:44,  5.73it/s]"
     ]
    },
    {
     "name": "stdout",
     "output_type": "stream",
     "text": [
      "(no valid events for icustay_id: 285852\n",
      "\n",
      "(no data for this episode 1 of icustay_id: 285852\n",
      "\n"
     ]
    },
    {
     "name": "stderr",
     "output_type": "stream",
     "text": [
      "Iterating over stays:  58%|█████▏   | 30818/53333 [1:19:05<48:07,  7.80it/s]"
     ]
    },
    {
     "name": "stdout",
     "output_type": "stream",
     "text": [
      "(no valid events for icustay_id: 266081\n",
      "\n",
      "(no data for this episode 1 of icustay_id: 266081\n",
      "\n"
     ]
    },
    {
     "name": "stderr",
     "output_type": "stream",
     "text": [
      "Iterating over stays:  58%|█████▏   | 30881/53333 [1:19:13<32:56, 11.36it/s]"
     ]
    },
    {
     "name": "stdout",
     "output_type": "stream",
     "text": [
      "(no valid events for icustay_id: 288241\n",
      "\n",
      "(no data for this episode 1 of icustay_id: 288241\n",
      "\n"
     ]
    },
    {
     "name": "stderr",
     "output_type": "stream",
     "text": [
      "Iterating over stays:  58%|█████▏   | 30933/53333 [1:19:19<42:38,  8.76it/s]"
     ]
    },
    {
     "name": "stdout",
     "output_type": "stream",
     "text": [
      "(no valid events for icustay_id: 252250\n",
      "\n",
      "(no data for this episode 1 of icustay_id: 252250\n",
      "\n"
     ]
    },
    {
     "name": "stderr",
     "output_type": "stream",
     "text": [
      "Iterating over stays:  58%|█████▏   | 30984/53333 [1:19:33<35:48, 10.40it/s]"
     ]
    },
    {
     "name": "stdout",
     "output_type": "stream",
     "text": [
      "(no valid events for icustay_id: 237315\n",
      "\n",
      "(no data for this episode 1 of icustay_id: 237315\n",
      "\n"
     ]
    },
    {
     "name": "stderr",
     "output_type": "stream",
     "text": [
      "Iterating over stays:  58%|████   | 31033/53333 [1:19:40<1:13:13,  5.08it/s]"
     ]
    },
    {
     "name": "stdout",
     "output_type": "stream",
     "text": [
      "(no valid events for icustay_id: 252923\n",
      "\n",
      "(no data for this episode 1 of icustay_id: 252923\n",
      "\n"
     ]
    },
    {
     "name": "stderr",
     "output_type": "stream",
     "text": [
      "Iterating over stays:  58%|█████▏   | 31040/53333 [1:19:41<54:35,  6.81it/s]"
     ]
    },
    {
     "name": "stdout",
     "output_type": "stream",
     "text": [
      "(no valid events for icustay_id: 271111\n",
      "\n",
      "(no data for this episode 1 of icustay_id: 271111\n",
      "\n"
     ]
    },
    {
     "name": "stderr",
     "output_type": "stream",
     "text": [
      "Iterating over stays:  58%|█████▏   | 31071/53333 [1:19:45<46:24,  7.99it/s]"
     ]
    },
    {
     "name": "stdout",
     "output_type": "stream",
     "text": [
      "(no valid events for icustay_id: 279636\n",
      "\n",
      "(no data for this episode 1 of icustay_id: 279636\n",
      "\n"
     ]
    },
    {
     "name": "stderr",
     "output_type": "stream",
     "text": [
      "Iterating over stays:  58%|█████▏   | 31086/53333 [1:19:47<35:22, 10.48it/s]"
     ]
    },
    {
     "name": "stdout",
     "output_type": "stream",
     "text": [
      "(no valid events for icustay_id: 226888\n",
      "\n",
      "(no data for this episode 1 of icustay_id: 226888\n",
      "\n"
     ]
    },
    {
     "name": "stderr",
     "output_type": "stream",
     "text": [
      "Iterating over stays:  58%|█████▏   | 31098/53333 [1:19:48<37:20,  9.93it/s]"
     ]
    },
    {
     "name": "stdout",
     "output_type": "stream",
     "text": [
      "(no valid events for icustay_id: 255376\n",
      "\n",
      "(no data for this episode 1 of icustay_id: 255376\n",
      "\n"
     ]
    },
    {
     "name": "stderr",
     "output_type": "stream",
     "text": [
      "Iterating over stays:  58%|█████▎   | 31179/53333 [1:19:58<38:03,  9.70it/s]"
     ]
    },
    {
     "name": "stdout",
     "output_type": "stream",
     "text": [
      "(no valid events for icustay_id: 208243\n",
      "\n",
      "(no data for this episode 1 of icustay_id: 208243\n",
      "\n"
     ]
    },
    {
     "name": "stderr",
     "output_type": "stream",
     "text": [
      "Iterating over stays:  59%|█████▎   | 31273/53333 [1:20:18<51:25,  7.15it/s]"
     ]
    },
    {
     "name": "stdout",
     "output_type": "stream",
     "text": [
      "(no valid events for icustay_id: 228926\n",
      "\n",
      "(no data for this episode 1 of icustay_id: 228926\n",
      "\n"
     ]
    },
    {
     "name": "stderr",
     "output_type": "stream",
     "text": [
      "Iterating over stays:  59%|█████▎   | 31283/53333 [1:20:20<49:17,  7.45it/s]"
     ]
    },
    {
     "name": "stdout",
     "output_type": "stream",
     "text": [
      "(no valid events for icustay_id: 272088\n",
      "\n",
      "(no data for this episode 1 of icustay_id: 272088\n",
      "\n"
     ]
    },
    {
     "name": "stderr",
     "output_type": "stream",
     "text": [
      "Iterating over stays:  59%|█████▎   | 31323/53333 [1:20:25<46:02,  7.97it/s]"
     ]
    },
    {
     "name": "stdout",
     "output_type": "stream",
     "text": [
      "(no valid events for icustay_id: 278453\n",
      "\n",
      "(no data for this episode 1 of icustay_id: 278453\n",
      "\n"
     ]
    },
    {
     "name": "stderr",
     "output_type": "stream",
     "text": [
      "Iterating over stays:  59%|█████▎   | 31529/53333 [1:20:58<54:52,  6.62it/s]"
     ]
    },
    {
     "name": "stdout",
     "output_type": "stream",
     "text": [
      "(no valid events for icustay_id: 237517\n",
      "\n",
      "(no data for this episode 1 of icustay_id: 237517\n",
      "\n"
     ]
    },
    {
     "name": "stderr",
     "output_type": "stream",
     "text": [
      "Iterating over stays:  59%|█████▎   | 31602/53333 [1:21:06<41:54,  8.64it/s]"
     ]
    },
    {
     "name": "stdout",
     "output_type": "stream",
     "text": [
      "(no valid events for icustay_id: 270277\n",
      "\n",
      "(no data for this episode 1 of icustay_id: 270277\n",
      "\n"
     ]
    },
    {
     "name": "stderr",
     "output_type": "stream",
     "text": [
      "Iterating over stays:  59%|█████▎   | 31633/53333 [1:21:10<39:22,  9.18it/s]"
     ]
    },
    {
     "name": "stdout",
     "output_type": "stream",
     "text": [
      "(no valid events for icustay_id: 251373\n",
      "\n",
      "(no data for this episode 1 of icustay_id: 251373\n",
      "\n"
     ]
    },
    {
     "name": "stderr",
     "output_type": "stream",
     "text": [
      "Iterating over stays:  59%|█████▎   | 31692/53333 [1:21:24<45:33,  7.92it/s]"
     ]
    },
    {
     "name": "stdout",
     "output_type": "stream",
     "text": [
      "(no valid events for icustay_id: 270610\n",
      "\n",
      "(no data for this episode 1 of icustay_id: 270610\n",
      "\n"
     ]
    },
    {
     "name": "stderr",
     "output_type": "stream",
     "text": [
      "Iterating over stays:  60%|█████▎   | 31785/53333 [1:21:36<37:14,  9.64it/s]"
     ]
    },
    {
     "name": "stdout",
     "output_type": "stream",
     "text": [
      "(no valid events for icustay_id: 280554\n",
      "\n",
      "(no data for this episode 1 of icustay_id: 280554\n",
      "\n"
     ]
    },
    {
     "name": "stderr",
     "output_type": "stream",
     "text": [
      "Iterating over stays:  60%|█████▎   | 31805/53333 [1:21:38<38:34,  9.30it/s]"
     ]
    },
    {
     "name": "stdout",
     "output_type": "stream",
     "text": [
      "(no valid events for icustay_id: 289564\n",
      "\n",
      "(no data for this episode 1 of icustay_id: 289564\n",
      "\n"
     ]
    },
    {
     "name": "stderr",
     "output_type": "stream",
     "text": [
      "Iterating over stays:  60%|█████▎   | 31829/53333 [1:21:41<37:49,  9.48it/s]"
     ]
    },
    {
     "name": "stdout",
     "output_type": "stream",
     "text": [
      "(no valid events for icustay_id: 259115\n",
      "\n",
      "(no data for this episode 1 of icustay_id: 259115\n",
      "\n"
     ]
    },
    {
     "name": "stderr",
     "output_type": "stream",
     "text": [
      "Iterating over stays:  60%|█████▍   | 31883/53333 [1:21:53<34:53, 10.24it/s]"
     ]
    },
    {
     "name": "stdout",
     "output_type": "stream",
     "text": [
      "(no valid events for icustay_id: 295936\n",
      "\n",
      "(no data for this episode 1 of icustay_id: 295936\n",
      "\n"
     ]
    },
    {
     "name": "stderr",
     "output_type": "stream",
     "text": [
      "Iterating over stays:  60%|█████▍   | 32005/53333 [1:22:08<46:18,  7.68it/s]"
     ]
    },
    {
     "name": "stdout",
     "output_type": "stream",
     "text": [
      "(no valid events for icustay_id: 210313\n",
      "\n",
      "(no data for this episode 1 of icustay_id: 210313\n",
      "\n"
     ]
    },
    {
     "name": "stderr",
     "output_type": "stream",
     "text": [
      "Iterating over stays:  60%|█████▍   | 32088/53333 [1:22:27<35:44,  9.91it/s]"
     ]
    },
    {
     "name": "stdout",
     "output_type": "stream",
     "text": [
      "(no valid events for icustay_id: 258803\n",
      "\n",
      "(no data for this episode 1 of icustay_id: 258803\n",
      "\n"
     ]
    },
    {
     "name": "stderr",
     "output_type": "stream",
     "text": [
      "Iterating over stays:  60%|█████▍   | 32094/53333 [1:22:27<36:50,  9.61it/s]"
     ]
    },
    {
     "name": "stdout",
     "output_type": "stream",
     "text": [
      "(no valid events for icustay_id: 260958\n",
      "\n",
      "(no data for this episode 1 of icustay_id: 260958\n",
      "\n"
     ]
    },
    {
     "name": "stderr",
     "output_type": "stream",
     "text": [
      "Iterating over stays:  60%|█████▍   | 32104/53333 [1:22:28<39:26,  8.97it/s]"
     ]
    },
    {
     "name": "stdout",
     "output_type": "stream",
     "text": [
      "(no valid events for icustay_id: 222854\n",
      "\n",
      "(no data for this episode 1 of icustay_id: 222854\n",
      "\n"
     ]
    },
    {
     "name": "stderr",
     "output_type": "stream",
     "text": [
      "Iterating over stays:  60%|█████▍   | 32146/53333 [1:22:33<38:54,  9.07it/s]"
     ]
    },
    {
     "name": "stdout",
     "output_type": "stream",
     "text": [
      "(no valid events for icustay_id: 217848\n",
      "\n",
      "(no data for this episode 1 of icustay_id: 217848\n",
      "\n"
     ]
    },
    {
     "name": "stderr",
     "output_type": "stream",
     "text": [
      "Iterating over stays:  60%|█████▍   | 32156/53333 [1:22:34<36:13,  9.74it/s]"
     ]
    },
    {
     "name": "stdout",
     "output_type": "stream",
     "text": [
      "(no valid events for icustay_id: 274277\n",
      "\n",
      "(no data for this episode 1 of icustay_id: 274277\n",
      "\n"
     ]
    },
    {
     "name": "stderr",
     "output_type": "stream",
     "text": [
      "Iterating over stays:  60%|█████▍   | 32198/53333 [1:22:39<39:06,  9.01it/s]"
     ]
    },
    {
     "name": "stdout",
     "output_type": "stream",
     "text": [
      "(no valid events for icustay_id: 240049\n",
      "\n",
      "(no data for this episode 1 of icustay_id: 240049\n",
      "\n"
     ]
    },
    {
     "name": "stderr",
     "output_type": "stream",
     "text": [
      "Iterating over stays:  60%|█████▍   | 32222/53333 [1:22:48<43:01,  8.18it/s]"
     ]
    },
    {
     "name": "stdout",
     "output_type": "stream",
     "text": [
      "(no valid events for icustay_id: 222070\n",
      "\n",
      "(no data for this episode 1 of icustay_id: 222070\n",
      "\n"
     ]
    },
    {
     "name": "stderr",
     "output_type": "stream",
     "text": [
      "Iterating over stays:  60%|█████▍   | 32236/53333 [1:22:49<37:51,  9.29it/s]"
     ]
    },
    {
     "name": "stdout",
     "output_type": "stream",
     "text": [
      "(no valid events for icustay_id: 222066\n",
      "\n",
      "(no data for this episode 1 of icustay_id: 222066\n",
      "\n"
     ]
    },
    {
     "name": "stderr",
     "output_type": "stream",
     "text": [
      "Iterating over stays:  60%|█████▍   | 32239/53333 [1:22:50<36:07,  9.73it/s]"
     ]
    },
    {
     "name": "stdout",
     "output_type": "stream",
     "text": [
      "(no valid events for icustay_id: 275117\n",
      "\n",
      "(no data for this episode 1 of icustay_id: 275117\n",
      "\n"
     ]
    },
    {
     "name": "stderr",
     "output_type": "stream",
     "text": [
      "Iterating over stays:  61%|█████▍   | 32286/53333 [1:22:56<30:45, 11.40it/s]"
     ]
    },
    {
     "name": "stdout",
     "output_type": "stream",
     "text": [
      "(no valid events for icustay_id: 241620\n",
      "\n",
      "(no data for this episode 1 of icustay_id: 241620\n",
      "\n"
     ]
    },
    {
     "name": "stderr",
     "output_type": "stream",
     "text": [
      "Iterating over stays:  61%|█████▍   | 32294/53333 [1:22:57<37:28,  9.36it/s]"
     ]
    },
    {
     "name": "stdout",
     "output_type": "stream",
     "text": [
      "(no valid events for icustay_id: 245811\n",
      "\n",
      "(no data for this episode 1 of icustay_id: 245811\n",
      "\n"
     ]
    },
    {
     "name": "stderr",
     "output_type": "stream",
     "text": [
      "Iterating over stays:  61%|█████▍   | 32322/53333 [1:23:01<48:03,  7.29it/s]"
     ]
    },
    {
     "name": "stdout",
     "output_type": "stream",
     "text": [
      "(no valid events for icustay_id: 247134\n",
      "\n",
      "(no data for this episode 1 of icustay_id: 247134\n",
      "\n"
     ]
    },
    {
     "name": "stderr",
     "output_type": "stream",
     "text": [
      "Iterating over stays:  61%|█████▍   | 32340/53333 [1:23:03<31:53, 10.97it/s]"
     ]
    },
    {
     "name": "stdout",
     "output_type": "stream",
     "text": [
      "(no valid events for icustay_id: 204416\n",
      "\n",
      "(no data for this episode 1 of icustay_id: 204416\n",
      "\n"
     ]
    },
    {
     "name": "stderr",
     "output_type": "stream",
     "text": [
      "Iterating over stays:  61%|█████▍   | 32347/53333 [1:23:04<39:47,  8.79it/s]/tmp/ipykernel_16992/266164007.py:6: DtypeWarning: Columns (5) have mixed types. Specify dtype option on import or set low_memory=False.\n",
      "  events = pd.read_csv(fn)\n",
      "Iterating over stays:  61%|█████▍   | 32356/53333 [1:23:05<40:18,  8.67it/s]"
     ]
    },
    {
     "name": "stdout",
     "output_type": "stream",
     "text": [
      "(no valid events for icustay_id: 296383\n",
      "\n",
      "(no data for this episode 1 of icustay_id: 296383\n",
      "\n"
     ]
    },
    {
     "name": "stderr",
     "output_type": "stream",
     "text": [
      "Iterating over stays:  61%|█████▍   | 32548/53333 [1:23:36<40:06,  8.64it/s]"
     ]
    },
    {
     "name": "stdout",
     "output_type": "stream",
     "text": [
      "(no valid events for icustay_id: 284830\n",
      "\n",
      "(no data for this episode 1 of icustay_id: 284830\n",
      "\n"
     ]
    },
    {
     "name": "stderr",
     "output_type": "stream",
     "text": [
      "Iterating over stays:  61%|█████▍   | 32553/53333 [1:23:37<44:52,  7.72it/s]"
     ]
    },
    {
     "name": "stdout",
     "output_type": "stream",
     "text": [
      "(no valid events for icustay_id: 240959\n",
      "\n",
      "(no data for this episode 1 of icustay_id: 240959\n",
      "\n"
     ]
    },
    {
     "name": "stderr",
     "output_type": "stream",
     "text": [
      "Iterating over stays:  61%|█████▍   | 32574/53333 [1:23:39<36:40,  9.43it/s]"
     ]
    },
    {
     "name": "stdout",
     "output_type": "stream",
     "text": [
      "(no valid events for icustay_id: 255037\n",
      "\n",
      "(no data for this episode 1 of icustay_id: 255037\n",
      "\n"
     ]
    },
    {
     "name": "stderr",
     "output_type": "stream",
     "text": [
      "Iterating over stays:  61%|█████▌   | 32629/53333 [1:23:46<35:49,  9.63it/s]"
     ]
    },
    {
     "name": "stdout",
     "output_type": "stream",
     "text": [
      "(no valid events for icustay_id: 223589\n",
      "\n",
      "(no data for this episode 1 of icustay_id: 223589\n",
      "\n"
     ]
    },
    {
     "name": "stderr",
     "output_type": "stream",
     "text": [
      "Iterating over stays:  61%|█████▌   | 32672/53333 [1:23:51<40:30,  8.50it/s]"
     ]
    },
    {
     "name": "stdout",
     "output_type": "stream",
     "text": [
      "(no valid events for icustay_id: 222615\n",
      "\n",
      "(no data for this episode 1 of icustay_id: 222615\n",
      "\n"
     ]
    },
    {
     "name": "stderr",
     "output_type": "stream",
     "text": [
      "Iterating over stays:  61%|█████▌   | 32695/53333 [1:23:54<37:47,  9.10it/s]"
     ]
    },
    {
     "name": "stdout",
     "output_type": "stream",
     "text": [
      "(no valid events for icustay_id: 283047\n",
      "\n",
      "(no data for this episode 1 of icustay_id: 283047\n",
      "\n"
     ]
    },
    {
     "name": "stderr",
     "output_type": "stream",
     "text": [
      "Iterating over stays:  61%|█████▌   | 32712/53333 [1:23:56<35:48,  9.60it/s]"
     ]
    },
    {
     "name": "stdout",
     "output_type": "stream",
     "text": [
      "(no valid events for icustay_id: 258282\n",
      "\n",
      "(no data for this episode 1 of icustay_id: 258282\n",
      "\n"
     ]
    },
    {
     "name": "stderr",
     "output_type": "stream",
     "text": [
      "Iterating over stays:  61%|████▎  | 32742/53333 [1:24:04<2:32:18,  2.25it/s]"
     ]
    },
    {
     "name": "stdout",
     "output_type": "stream",
     "text": [
      "(no valid events for icustay_id: 227036\n",
      "\n",
      "(no data for this episode 1 of icustay_id: 227036\n",
      "\n"
     ]
    },
    {
     "name": "stderr",
     "output_type": "stream",
     "text": [
      "Iterating over stays:  62%|█████▌   | 32804/53333 [1:24:14<36:21,  9.41it/s]"
     ]
    },
    {
     "name": "stdout",
     "output_type": "stream",
     "text": [
      "(no valid events for icustay_id: 255480\n",
      "\n",
      "(no data for this episode 1 of icustay_id: 255480\n",
      "\n"
     ]
    },
    {
     "name": "stderr",
     "output_type": "stream",
     "text": [
      "Iterating over stays:  62%|█████▌   | 32823/53333 [1:24:16<32:59, 10.36it/s]"
     ]
    },
    {
     "name": "stdout",
     "output_type": "stream",
     "text": [
      "(no valid events for icustay_id: 293437\n",
      "\n",
      "(no data for this episode 1 of icustay_id: 293437\n",
      "\n"
     ]
    },
    {
     "name": "stderr",
     "output_type": "stream",
     "text": [
      "Iterating over stays:  62%|█████▌   | 32852/53333 [1:24:20<45:38,  7.48it/s]"
     ]
    },
    {
     "name": "stdout",
     "output_type": "stream",
     "text": [
      "(no valid events for icustay_id: 231321\n",
      "\n",
      "(no data for this episode 1 of icustay_id: 231321\n",
      "\n"
     ]
    },
    {
     "name": "stderr",
     "output_type": "stream",
     "text": [
      "Iterating over stays:  62%|█████▌   | 32969/53333 [1:24:35<35:25,  9.58it/s]"
     ]
    },
    {
     "name": "stdout",
     "output_type": "stream",
     "text": [
      "(no valid events for icustay_id: 287630\n",
      "\n",
      "(no data for this episode 1 of icustay_id: 287630\n",
      "\n"
     ]
    },
    {
     "name": "stderr",
     "output_type": "stream",
     "text": [
      "Iterating over stays:  62%|█████▌   | 33131/53333 [1:25:02<46:21,  7.26it/s]"
     ]
    },
    {
     "name": "stdout",
     "output_type": "stream",
     "text": [
      "(no valid events for icustay_id: 200213\n",
      "\n",
      "(no data for this episode 1 of icustay_id: 200213\n",
      "\n"
     ]
    },
    {
     "name": "stderr",
     "output_type": "stream",
     "text": [
      "Iterating over stays:  62%|█████▌   | 33140/53333 [1:25:04<48:51,  6.89it/s]"
     ]
    },
    {
     "name": "stdout",
     "output_type": "stream",
     "text": [
      "(no valid events for icustay_id: 268644\n",
      "\n",
      "(no data for this episode 1 of icustay_id: 268644\n",
      "\n"
     ]
    },
    {
     "name": "stderr",
     "output_type": "stream",
     "text": [
      "Iterating over stays:  62%|█████▌   | 33163/53333 [1:25:06<43:53,  7.66it/s]"
     ]
    },
    {
     "name": "stdout",
     "output_type": "stream",
     "text": [
      "(no valid events for icustay_id: 292527\n",
      "\n",
      "(no data for this episode 1 of icustay_id: 292527\n",
      "\n"
     ]
    },
    {
     "name": "stderr",
     "output_type": "stream",
     "text": [
      "Iterating over stays:  62%|████▎  | 33203/53333 [1:25:14<3:47:14,  1.48it/s]"
     ]
    },
    {
     "name": "stdout",
     "output_type": "stream",
     "text": [
      "(no valid events for icustay_id: 205496\n",
      "\n",
      "(no data for this episode 1 of icustay_id: 205496\n",
      "\n"
     ]
    },
    {
     "name": "stderr",
     "output_type": "stream",
     "text": [
      "Iterating over stays:  62%|█████▌   | 33272/53333 [1:25:28<41:31,  8.05it/s]"
     ]
    },
    {
     "name": "stdout",
     "output_type": "stream",
     "text": [
      "(no valid events for icustay_id: 297254\n",
      "\n",
      "(no data for this episode 1 of icustay_id: 297254\n",
      "\n"
     ]
    },
    {
     "name": "stderr",
     "output_type": "stream",
     "text": [
      "Iterating over stays:  62%|█████▌   | 33323/53333 [1:25:34<32:47, 10.17it/s]"
     ]
    },
    {
     "name": "stdout",
     "output_type": "stream",
     "text": [
      "(no valid events for icustay_id: 231372\n",
      "\n",
      "(no data for this episode 1 of icustay_id: 231372\n",
      "\n"
     ]
    },
    {
     "name": "stderr",
     "output_type": "stream",
     "text": [
      "Iterating over stays:  63%|█████▋   | 33340/53333 [1:25:36<38:31,  8.65it/s]"
     ]
    },
    {
     "name": "stdout",
     "output_type": "stream",
     "text": [
      "(no valid events for icustay_id: 262574\n",
      "\n",
      "(no data for this episode 1 of icustay_id: 262574\n",
      "\n"
     ]
    },
    {
     "name": "stderr",
     "output_type": "stream",
     "text": [
      "Iterating over stays:  63%|█████▋   | 33417/53333 [1:25:51<40:16,  8.24it/s]"
     ]
    },
    {
     "name": "stdout",
     "output_type": "stream",
     "text": [
      "(no valid events for icustay_id: 270124\n",
      "\n",
      "(no data for this episode 1 of icustay_id: 270124\n",
      "\n"
     ]
    },
    {
     "name": "stderr",
     "output_type": "stream",
     "text": [
      "Iterating over stays:  63%|█████▋   | 33436/53333 [1:25:55<59:05,  5.61it/s]"
     ]
    },
    {
     "name": "stdout",
     "output_type": "stream",
     "text": [
      "(no valid events for icustay_id: 254825\n",
      "\n",
      "(no data for this episode 1 of icustay_id: 254825\n",
      "\n"
     ]
    },
    {
     "name": "stderr",
     "output_type": "stream",
     "text": [
      "Iterating over stays:  63%|█████▋   | 33483/53333 [1:25:59<32:51, 10.07it/s]"
     ]
    },
    {
     "name": "stdout",
     "output_type": "stream",
     "text": [
      "(no valid events for icustay_id: 247475\n",
      "\n",
      "(no data for this episode 1 of icustay_id: 247475\n",
      "\n"
     ]
    },
    {
     "name": "stderr",
     "output_type": "stream",
     "text": [
      "Iterating over stays:  63%|█████▋   | 33537/53333 [1:26:06<38:29,  8.57it/s]"
     ]
    },
    {
     "name": "stdout",
     "output_type": "stream",
     "text": [
      "(no valid events for icustay_id: 286980\n",
      "\n",
      "(no data for this episode 1 of icustay_id: 286980\n",
      "\n"
     ]
    },
    {
     "name": "stderr",
     "output_type": "stream",
     "text": [
      "Iterating over stays:  63%|█████▋   | 33567/53333 [1:26:10<43:50,  7.51it/s]"
     ]
    },
    {
     "name": "stdout",
     "output_type": "stream",
     "text": [
      "(no valid events for icustay_id: 288532\n",
      "\n",
      "(no data for this episode 1 of icustay_id: 288532\n",
      "\n"
     ]
    },
    {
     "name": "stderr",
     "output_type": "stream",
     "text": [
      "Iterating over stays:  63%|█████▋   | 33624/53333 [1:26:16<31:28, 10.44it/s]"
     ]
    },
    {
     "name": "stdout",
     "output_type": "stream",
     "text": [
      "(no valid events for icustay_id: 258058\n",
      "\n",
      "(no data for this episode 1 of icustay_id: 258058\n",
      "\n"
     ]
    },
    {
     "name": "stderr",
     "output_type": "stream",
     "text": [
      "Iterating over stays:  63%|█████▋   | 33674/53333 [1:26:30<39:10,  8.36it/s]"
     ]
    },
    {
     "name": "stdout",
     "output_type": "stream",
     "text": [
      "(no valid events for icustay_id: 227463\n",
      "\n",
      "(no data for this episode 1 of icustay_id: 227463\n",
      "\n"
     ]
    },
    {
     "name": "stderr",
     "output_type": "stream",
     "text": [
      "Iterating over stays:  63%|████▍  | 33762/53333 [1:26:46<4:08:12,  1.31it/s]"
     ]
    },
    {
     "name": "stdout",
     "output_type": "stream",
     "text": [
      "(no valid events for icustay_id: 205171\n",
      "\n",
      "(no data for this episode 1 of icustay_id: 205171\n",
      "\n"
     ]
    },
    {
     "name": "stderr",
     "output_type": "stream",
     "text": [
      "Iterating over stays:  63%|█████▋   | 33788/53333 [1:26:51<34:55,  9.33it/s]"
     ]
    },
    {
     "name": "stdout",
     "output_type": "stream",
     "text": [
      "(no valid events for icustay_id: 290247\n",
      "\n",
      "(no data for this episode 1 of icustay_id: 290247\n",
      "\n"
     ]
    },
    {
     "name": "stderr",
     "output_type": "stream",
     "text": [
      "Iterating over stays:  64%|█████▋   | 33883/53333 [1:27:02<37:22,  8.67it/s]"
     ]
    },
    {
     "name": "stdout",
     "output_type": "stream",
     "text": [
      "(no valid events for icustay_id: 219197\n",
      "\n",
      "(no data for this episode 1 of icustay_id: 219197\n",
      "\n"
     ]
    },
    {
     "name": "stderr",
     "output_type": "stream",
     "text": [
      "Iterating over stays:  64%|█████▋   | 33999/53333 [1:27:22<32:25,  9.94it/s]"
     ]
    },
    {
     "name": "stdout",
     "output_type": "stream",
     "text": [
      "(no valid events for icustay_id: 234566\n",
      "\n",
      "(no data for this episode 1 of icustay_id: 234566\n",
      "\n"
     ]
    },
    {
     "name": "stderr",
     "output_type": "stream",
     "text": [
      "Iterating over stays:  64%|█████▋   | 34003/53333 [1:27:22<33:15,  9.68it/s]"
     ]
    },
    {
     "name": "stdout",
     "output_type": "stream",
     "text": [
      "(no valid events for icustay_id: 233552\n",
      "\n",
      "(no data for this episode 1 of icustay_id: 233552\n",
      "\n"
     ]
    },
    {
     "name": "stderr",
     "output_type": "stream",
     "text": [
      "Iterating over stays:  64%|█████▋   | 34022/53333 [1:27:24<36:07,  8.91it/s]"
     ]
    },
    {
     "name": "stdout",
     "output_type": "stream",
     "text": [
      "(no valid events for icustay_id: 212952\n",
      "\n",
      "(no data for this episode 1 of icustay_id: 212952\n",
      "\n"
     ]
    },
    {
     "name": "stderr",
     "output_type": "stream",
     "text": [
      "Iterating over stays:  64%|█████▋   | 34046/53333 [1:27:27<29:33, 10.87it/s]"
     ]
    },
    {
     "name": "stdout",
     "output_type": "stream",
     "text": [
      "(no valid events for icustay_id: 235241\n",
      "\n",
      "(no data for this episode 1 of icustay_id: 235241\n",
      "\n"
     ]
    },
    {
     "name": "stderr",
     "output_type": "stream",
     "text": [
      "Iterating over stays:  64%|█████▋   | 34065/53333 [1:27:29<40:15,  7.98it/s]"
     ]
    },
    {
     "name": "stdout",
     "output_type": "stream",
     "text": [
      "(no valid events for icustay_id: 281847\n",
      "\n",
      "(no data for this episode 1 of icustay_id: 281847\n",
      "\n",
      "(no valid events for icustay_id: 240785\n",
      "\n",
      "(no data for this episode 1 of icustay_id: 240785\n",
      "\n"
     ]
    },
    {
     "name": "stderr",
     "output_type": "stream",
     "text": [
      "Iterating over stays:  64%|█████▊   | 34098/53333 [1:27:33<31:39, 10.13it/s]"
     ]
    },
    {
     "name": "stdout",
     "output_type": "stream",
     "text": [
      "(no valid events for icustay_id: 250028\n",
      "\n",
      "(no data for this episode 1 of icustay_id: 250028\n",
      "\n"
     ]
    },
    {
     "name": "stderr",
     "output_type": "stream",
     "text": [
      "Iterating over stays:  64%|█████▊   | 34137/53333 [1:27:37<42:07,  7.59it/s]"
     ]
    },
    {
     "name": "stdout",
     "output_type": "stream",
     "text": [
      "(no valid events for icustay_id: 273920\n",
      "\n",
      "(no data for this episode 1 of icustay_id: 273920\n",
      "\n"
     ]
    },
    {
     "name": "stderr",
     "output_type": "stream",
     "text": [
      "Iterating over stays:  64%|█████▊   | 34177/53333 [1:27:50<56:26,  5.66it/s]"
     ]
    },
    {
     "name": "stdout",
     "output_type": "stream",
     "text": [
      "(no valid events for icustay_id: 281079\n",
      "\n",
      "(no data for this episode 1 of icustay_id: 281079\n",
      "\n"
     ]
    },
    {
     "name": "stderr",
     "output_type": "stream",
     "text": [
      "Iterating over stays:  64%|█████▊   | 34229/53333 [1:27:56<30:13, 10.53it/s]"
     ]
    },
    {
     "name": "stdout",
     "output_type": "stream",
     "text": [
      "(no valid events for icustay_id: 288069\n",
      "\n",
      "(no data for this episode 1 of icustay_id: 288069\n",
      "\n"
     ]
    },
    {
     "name": "stderr",
     "output_type": "stream",
     "text": [
      "Iterating over stays:  64%|█████▊   | 34298/53333 [1:28:05<33:42,  9.41it/s]"
     ]
    },
    {
     "name": "stdout",
     "output_type": "stream",
     "text": [
      "(no valid events for icustay_id: 289986\n",
      "\n",
      "(no data for this episode 1 of icustay_id: 289986\n",
      "\n"
     ]
    },
    {
     "name": "stderr",
     "output_type": "stream",
     "text": [
      "Iterating over stays:  64%|█████▊   | 34331/53333 [1:28:09<53:16,  5.95it/s]"
     ]
    },
    {
     "name": "stdout",
     "output_type": "stream",
     "text": [
      "(no valid events for icustay_id: 262212\n",
      "\n",
      "(no data for this episode 1 of icustay_id: 262212\n",
      "\n"
     ]
    },
    {
     "name": "stderr",
     "output_type": "stream",
     "text": [
      "Iterating over stays:  64%|█████▊   | 34342/53333 [1:28:10<35:40,  8.87it/s]"
     ]
    },
    {
     "name": "stdout",
     "output_type": "stream",
     "text": [
      "(no valid events for icustay_id: 204729\n",
      "\n",
      "(no data for this episode 1 of icustay_id: 204729\n",
      "\n"
     ]
    },
    {
     "name": "stderr",
     "output_type": "stream",
     "text": [
      "Iterating over stays:  64%|█████▊   | 34365/53333 [1:28:13<39:41,  7.97it/s]"
     ]
    },
    {
     "name": "stdout",
     "output_type": "stream",
     "text": [
      "(no valid events for icustay_id: 248509\n",
      "\n",
      "(no data for this episode 1 of icustay_id: 248509\n",
      "\n"
     ]
    },
    {
     "name": "stderr",
     "output_type": "stream",
     "text": [
      "Iterating over stays:  64%|█████▊   | 34369/53333 [1:28:14<40:14,  7.86it/s]"
     ]
    },
    {
     "name": "stdout",
     "output_type": "stream",
     "text": [
      "(no valid events for icustay_id: 204143\n",
      "\n",
      "(no data for this episode 1 of icustay_id: 204143\n",
      "\n"
     ]
    },
    {
     "name": "stderr",
     "output_type": "stream",
     "text": [
      "Iterating over stays:  64%|█████▊   | 34384/53333 [1:28:15<33:54,  9.32it/s]"
     ]
    },
    {
     "name": "stdout",
     "output_type": "stream",
     "text": [
      "(no valid events for icustay_id: 212458\n",
      "\n",
      "(no data for this episode 1 of icustay_id: 212458\n",
      "\n"
     ]
    },
    {
     "name": "stderr",
     "output_type": "stream",
     "text": [
      "Iterating over stays:  65%|█████▊   | 34402/53333 [1:28:17<35:47,  8.82it/s]"
     ]
    },
    {
     "name": "stdout",
     "output_type": "stream",
     "text": [
      "(no valid events for icustay_id: 277561\n",
      "\n",
      "(no data for this episode 1 of icustay_id: 277561\n",
      "\n"
     ]
    },
    {
     "name": "stderr",
     "output_type": "stream",
     "text": [
      "Iterating over stays:  65%|█████▊   | 34518/53333 [1:28:40<37:53,  8.27it/s]"
     ]
    },
    {
     "name": "stdout",
     "output_type": "stream",
     "text": [
      "(no valid events for icustay_id: 236674\n",
      "\n",
      "(no data for this episode 1 of icustay_id: 236674\n",
      "\n"
     ]
    },
    {
     "name": "stderr",
     "output_type": "stream",
     "text": [
      "Iterating over stays:  65%|█████▊   | 34561/53333 [1:28:45<33:18,  9.39it/s]"
     ]
    },
    {
     "name": "stdout",
     "output_type": "stream",
     "text": [
      "(no valid events for icustay_id: 255231\n",
      "\n",
      "(no data for this episode 1 of icustay_id: 255231\n",
      "\n"
     ]
    },
    {
     "name": "stderr",
     "output_type": "stream",
     "text": [
      "Iterating over stays:  65%|█████▊   | 34622/53333 [1:28:54<39:46,  7.84it/s]"
     ]
    },
    {
     "name": "stdout",
     "output_type": "stream",
     "text": [
      "(no valid events for icustay_id: 240470\n",
      "\n",
      "(no data for this episode 1 of icustay_id: 240470\n",
      "\n"
     ]
    },
    {
     "name": "stderr",
     "output_type": "stream",
     "text": [
      "Iterating over stays:  65%|████▌  | 34663/53333 [1:29:01<4:15:35,  1.22it/s]"
     ]
    },
    {
     "name": "stdout",
     "output_type": "stream",
     "text": [
      "(no valid events for icustay_id: 291948\n",
      "\n",
      "(no data for this episode 1 of icustay_id: 291948\n",
      "\n"
     ]
    },
    {
     "name": "stderr",
     "output_type": "stream",
     "text": [
      "Iterating over stays:  66%|█████▉   | 34977/53333 [1:29:53<34:00,  8.99it/s]"
     ]
    },
    {
     "name": "stdout",
     "output_type": "stream",
     "text": [
      "(no valid events for icustay_id: 212125\n",
      "\n",
      "(no data for this episode 1 of icustay_id: 212125\n",
      "\n"
     ]
    },
    {
     "name": "stderr",
     "output_type": "stream",
     "text": [
      "Iterating over stays:  66%|█████▉   | 34983/53333 [1:29:54<35:27,  8.62it/s]"
     ]
    },
    {
     "name": "stdout",
     "output_type": "stream",
     "text": [
      "(no valid events for icustay_id: 223674\n",
      "\n",
      "(no data for this episode 1 of icustay_id: 223674\n",
      "\n"
     ]
    },
    {
     "name": "stderr",
     "output_type": "stream",
     "text": [
      "Iterating over stays:  66%|█████▉   | 34988/53333 [1:29:55<26:46, 11.42it/s]"
     ]
    },
    {
     "name": "stdout",
     "output_type": "stream",
     "text": [
      "(no valid events for icustay_id: 251097\n",
      "\n",
      "(no data for this episode 1 of icustay_id: 251097\n",
      "\n"
     ]
    },
    {
     "name": "stderr",
     "output_type": "stream",
     "text": [
      "Iterating over stays:  66%|█████▉   | 35039/53333 [1:30:01<35:24,  8.61it/s]"
     ]
    },
    {
     "name": "stdout",
     "output_type": "stream",
     "text": [
      "(no valid events for icustay_id: 254090\n",
      "\n",
      "(no data for this episode 1 of icustay_id: 254090\n",
      "\n"
     ]
    },
    {
     "name": "stderr",
     "output_type": "stream",
     "text": [
      "Iterating over stays:  66%|█████▉   | 35046/53333 [1:30:02<43:31,  7.00it/s]"
     ]
    },
    {
     "name": "stdout",
     "output_type": "stream",
     "text": [
      "(no valid events for icustay_id: 237592\n",
      "\n",
      "(no data for this episode 1 of icustay_id: 237592\n",
      "\n"
     ]
    },
    {
     "name": "stderr",
     "output_type": "stream",
     "text": [
      "Iterating over stays:  66%|█████▉   | 35117/53333 [1:30:11<33:42,  9.01it/s]"
     ]
    },
    {
     "name": "stdout",
     "output_type": "stream",
     "text": [
      "(no valid events for icustay_id: 236303\n",
      "\n",
      "(no data for this episode 1 of icustay_id: 236303\n",
      "\n"
     ]
    },
    {
     "name": "stderr",
     "output_type": "stream",
     "text": [
      "Iterating over stays:  66%|█████▉   | 35145/53333 [1:30:15<35:46,  8.47it/s]"
     ]
    },
    {
     "name": "stdout",
     "output_type": "stream",
     "text": [
      "(no valid events for icustay_id: 255855\n",
      "\n",
      "(no data for this episode 1 of icustay_id: 255855\n",
      "\n"
     ]
    },
    {
     "name": "stderr",
     "output_type": "stream",
     "text": [
      "Iterating over stays:  66%|█████▉   | 35190/53333 [1:30:28<27:41, 10.92it/s]"
     ]
    },
    {
     "name": "stdout",
     "output_type": "stream",
     "text": [
      "(no valid events for icustay_id: 271057\n",
      "\n",
      "(no data for this episode 1 of icustay_id: 271057\n",
      "\n"
     ]
    },
    {
     "name": "stderr",
     "output_type": "stream",
     "text": [
      "Iterating over stays:  66%|█████▉   | 35368/53333 [1:30:51<36:44,  8.15it/s]"
     ]
    },
    {
     "name": "stdout",
     "output_type": "stream",
     "text": [
      "(no valid events for icustay_id: 246137\n",
      "\n",
      "(no data for this episode 1 of icustay_id: 246137\n",
      "\n"
     ]
    },
    {
     "name": "stderr",
     "output_type": "stream",
     "text": [
      "Iterating over stays:  66%|█████▉   | 35393/53333 [1:30:54<29:55,  9.99it/s]"
     ]
    },
    {
     "name": "stdout",
     "output_type": "stream",
     "text": [
      "(no valid events for icustay_id: 214940\n",
      "\n",
      "(no data for this episode 1 of icustay_id: 214940\n",
      "\n",
      "(no valid events for icustay_id: 259950\n",
      "\n",
      "(no data for this episode 1 of icustay_id: 259950\n",
      "\n"
     ]
    },
    {
     "name": "stderr",
     "output_type": "stream",
     "text": [
      "Iterating over stays:  66%|█████▉   | 35450/53333 [1:31:09<24:43, 12.05it/s]"
     ]
    },
    {
     "name": "stdout",
     "output_type": "stream",
     "text": [
      "(no valid events for icustay_id: 287856\n",
      "\n",
      "(no data for this episode 1 of icustay_id: 287856\n",
      "\n"
     ]
    },
    {
     "name": "stderr",
     "output_type": "stream",
     "text": [
      "Iterating over stays:  67%|█████▉   | 35489/53333 [1:31:14<39:16,  7.57it/s]"
     ]
    },
    {
     "name": "stdout",
     "output_type": "stream",
     "text": [
      "(no valid events for icustay_id: 258568\n",
      "\n",
      "(no data for this episode 1 of icustay_id: 258568\n",
      "\n"
     ]
    },
    {
     "name": "stderr",
     "output_type": "stream",
     "text": [
      "Iterating over stays:  67%|█████▉   | 35496/53333 [1:31:15<38:26,  7.73it/s]"
     ]
    },
    {
     "name": "stdout",
     "output_type": "stream",
     "text": [
      "(no valid events for icustay_id: 228745\n",
      "\n",
      "(no data for this episode 1 of icustay_id: 228745\n",
      "\n"
     ]
    },
    {
     "name": "stderr",
     "output_type": "stream",
     "text": [
      "Iterating over stays:  67%|██████   | 35644/53333 [1:31:33<23:04, 12.77it/s]"
     ]
    },
    {
     "name": "stdout",
     "output_type": "stream",
     "text": [
      "(no valid events for icustay_id: 266905\n",
      "\n",
      "(no data for this episode 1 of icustay_id: 266905\n",
      "\n"
     ]
    },
    {
     "name": "stderr",
     "output_type": "stream",
     "text": [
      "Iterating over stays:  67%|████▋  | 35689/53333 [1:31:45<1:27:54,  3.35it/s]"
     ]
    },
    {
     "name": "stdout",
     "output_type": "stream",
     "text": [
      "(no valid events for icustay_id: 200926\n",
      "\n",
      "(no data for this episode 1 of icustay_id: 200926\n",
      "\n"
     ]
    },
    {
     "name": "stderr",
     "output_type": "stream",
     "text": [
      "Iterating over stays:  67%|██████   | 35707/53333 [1:31:48<36:21,  8.08it/s]"
     ]
    },
    {
     "name": "stdout",
     "output_type": "stream",
     "text": [
      "(no valid events for icustay_id: 245184\n",
      "\n",
      "(no data for this episode 1 of icustay_id: 245184\n",
      "\n"
     ]
    },
    {
     "name": "stderr",
     "output_type": "stream",
     "text": [
      "Iterating over stays:  67%|██████   | 35781/53333 [1:31:57<25:49, 11.33it/s]"
     ]
    },
    {
     "name": "stdout",
     "output_type": "stream",
     "text": [
      "(no valid events for icustay_id: 204430\n",
      "\n",
      "(no data for this episode 1 of icustay_id: 204430\n",
      "\n"
     ]
    },
    {
     "name": "stderr",
     "output_type": "stream",
     "text": [
      "Iterating over stays:  67%|██████   | 35813/53333 [1:32:00<28:40, 10.18it/s]"
     ]
    },
    {
     "name": "stdout",
     "output_type": "stream",
     "text": [
      "(no valid events for icustay_id: 209667\n",
      "\n",
      "(no data for this episode 1 of icustay_id: 209667\n",
      "\n"
     ]
    },
    {
     "name": "stderr",
     "output_type": "stream",
     "text": [
      "Iterating over stays:  67%|██████   | 35868/53333 [1:32:07<31:22,  9.28it/s]"
     ]
    },
    {
     "name": "stdout",
     "output_type": "stream",
     "text": [
      "(no valid events for icustay_id: 260154\n",
      "\n",
      "(no data for this episode 1 of icustay_id: 260154\n",
      "\n"
     ]
    },
    {
     "name": "stderr",
     "output_type": "stream",
     "text": [
      "Iterating over stays:  67%|██████   | 35913/53333 [1:32:20<41:08,  7.06it/s]"
     ]
    },
    {
     "name": "stdout",
     "output_type": "stream",
     "text": [
      "(no valid events for icustay_id: 215419\n",
      "\n",
      "(no data for this episode 1 of icustay_id: 215419\n",
      "\n"
     ]
    },
    {
     "name": "stderr",
     "output_type": "stream",
     "text": [
      "Iterating over stays:  67%|██████   | 35962/53333 [1:32:29<31:52,  9.08it/s]"
     ]
    },
    {
     "name": "stdout",
     "output_type": "stream",
     "text": [
      "(no valid events for icustay_id: 205442\n",
      "\n",
      "(no data for this episode 1 of icustay_id: 205442\n",
      "\n",
      "(no valid events for icustay_id: 225200\n",
      "\n",
      "(no data for this episode 1 of icustay_id: 225200\n",
      "\n"
     ]
    },
    {
     "name": "stderr",
     "output_type": "stream",
     "text": [
      "Iterating over stays:  68%|██████   | 36007/53333 [1:32:35<34:48,  8.29it/s]"
     ]
    },
    {
     "name": "stdout",
     "output_type": "stream",
     "text": [
      "(no valid events for icustay_id: 283828\n",
      "\n",
      "(no data for this episode 1 of icustay_id: 283828\n",
      "\n"
     ]
    },
    {
     "name": "stderr",
     "output_type": "stream",
     "text": [
      "Iterating over stays:  68%|██████   | 36011/53333 [1:32:35<32:12,  8.96it/s]"
     ]
    },
    {
     "name": "stdout",
     "output_type": "stream",
     "text": [
      "(no valid events for icustay_id: 243652\n",
      "\n",
      "(no data for this episode 1 of icustay_id: 243652\n",
      "\n"
     ]
    },
    {
     "name": "stderr",
     "output_type": "stream",
     "text": [
      "Iterating over stays:  68%|██████   | 36108/53333 [1:32:54<41:50,  6.86it/s]"
     ]
    },
    {
     "name": "stdout",
     "output_type": "stream",
     "text": [
      "(no valid events for icustay_id: 278458\n",
      "\n",
      "(no data for this episode 1 of icustay_id: 278458\n",
      "\n"
     ]
    },
    {
     "name": "stderr",
     "output_type": "stream",
     "text": [
      "Iterating over stays:  68%|██████   | 36124/53333 [1:32:56<29:18,  9.79it/s]"
     ]
    },
    {
     "name": "stdout",
     "output_type": "stream",
     "text": [
      "(no valid events for icustay_id: 269869\n",
      "\n",
      "(no data for this episode 1 of icustay_id: 269869\n",
      "\n"
     ]
    },
    {
     "name": "stderr",
     "output_type": "stream",
     "text": [
      "Iterating over stays:  68%|██████   | 36169/53333 [1:33:01<33:00,  8.67it/s]"
     ]
    },
    {
     "name": "stdout",
     "output_type": "stream",
     "text": [
      "(no valid events for icustay_id: 274761\n",
      "\n",
      "(no data for this episode 1 of icustay_id: 274761\n",
      "\n"
     ]
    },
    {
     "name": "stderr",
     "output_type": "stream",
     "text": [
      "Iterating over stays:  68%|██████   | 36183/53333 [1:33:03<31:40,  9.02it/s]"
     ]
    },
    {
     "name": "stdout",
     "output_type": "stream",
     "text": [
      "(no valid events for icustay_id: 293807\n",
      "\n",
      "(no data for this episode 1 of icustay_id: 293807\n",
      "\n"
     ]
    },
    {
     "name": "stderr",
     "output_type": "stream",
     "text": [
      "Iterating over stays:  68%|██████   | 36216/53333 [1:33:07<25:35, 11.15it/s]"
     ]
    },
    {
     "name": "stdout",
     "output_type": "stream",
     "text": [
      "(no valid events for icustay_id: 285258\n",
      "\n",
      "(no data for this episode 1 of icustay_id: 285258\n",
      "\n"
     ]
    },
    {
     "name": "stderr",
     "output_type": "stream",
     "text": [
      "Iterating over stays:  68%|██████▏  | 36360/53333 [1:33:32<45:28,  6.22it/s]"
     ]
    },
    {
     "name": "stdout",
     "output_type": "stream",
     "text": [
      "(no valid events for icustay_id: 239953\n",
      "\n",
      "(no data for this episode 1 of icustay_id: 239953\n",
      "\n"
     ]
    },
    {
     "name": "stderr",
     "output_type": "stream",
     "text": [
      "Iterating over stays:  68%|██████▏  | 36412/53333 [1:33:39<31:27,  8.97it/s]"
     ]
    },
    {
     "name": "stdout",
     "output_type": "stream",
     "text": [
      "(no valid events for icustay_id: 218074\n",
      "\n",
      "(no data for this episode 1 of icustay_id: 218074\n",
      "\n"
     ]
    },
    {
     "name": "stderr",
     "output_type": "stream",
     "text": [
      "Iterating over stays:  68%|██████▏  | 36494/53333 [1:33:50<30:36,  9.17it/s]"
     ]
    },
    {
     "name": "stdout",
     "output_type": "stream",
     "text": [
      "(no valid events for icustay_id: 294098\n",
      "\n",
      "(no data for this episode 1 of icustay_id: 294098\n",
      "\n",
      "(no valid events for icustay_id: 207386\n",
      "\n",
      "(no data for this episode 1 of icustay_id: 207386\n",
      "\n"
     ]
    },
    {
     "name": "stderr",
     "output_type": "stream",
     "text": [
      "Iterating over stays:  68%|██████▏  | 36511/53333 [1:33:51<27:24, 10.23it/s]"
     ]
    },
    {
     "name": "stdout",
     "output_type": "stream",
     "text": [
      "(no valid events for icustay_id: 216354\n",
      "\n",
      "(no data for this episode 1 of icustay_id: 216354\n",
      "\n"
     ]
    },
    {
     "name": "stderr",
     "output_type": "stream",
     "text": [
      "Iterating over stays:  68%|██████▏  | 36516/53333 [1:33:52<36:40,  7.64it/s]"
     ]
    },
    {
     "name": "stdout",
     "output_type": "stream",
     "text": [
      "(no valid events for icustay_id: 233698\n",
      "\n",
      "(no data for this episode 1 of icustay_id: 233698\n",
      "\n"
     ]
    },
    {
     "name": "stderr",
     "output_type": "stream",
     "text": [
      "Iterating over stays:  69%|██████▏  | 36657/53333 [1:34:19<32:52,  8.46it/s]"
     ]
    },
    {
     "name": "stdout",
     "output_type": "stream",
     "text": [
      "(no valid events for icustay_id: 295693\n",
      "\n",
      "(no data for this episode 1 of icustay_id: 295693\n",
      "\n"
     ]
    },
    {
     "name": "stderr",
     "output_type": "stream",
     "text": [
      "Iterating over stays:  69%|██████▏  | 36791/53333 [1:34:36<26:50, 10.27it/s]"
     ]
    },
    {
     "name": "stdout",
     "output_type": "stream",
     "text": [
      "(no valid events for icustay_id: 234624\n",
      "\n",
      "(no data for this episode 1 of icustay_id: 234624\n",
      "\n"
     ]
    },
    {
     "name": "stderr",
     "output_type": "stream",
     "text": [
      "Iterating over stays:  69%|██████▏  | 36825/53333 [1:34:48<30:58,  8.88it/s]"
     ]
    },
    {
     "name": "stdout",
     "output_type": "stream",
     "text": [
      "(no valid events for icustay_id: 244279\n",
      "\n",
      "(no data for this episode 1 of icustay_id: 244279\n",
      "\n"
     ]
    },
    {
     "name": "stderr",
     "output_type": "stream",
     "text": [
      "Iterating over stays:  69%|██████▏  | 36847/53333 [1:34:50<31:07,  8.83it/s]"
     ]
    },
    {
     "name": "stdout",
     "output_type": "stream",
     "text": [
      "(no valid events for icustay_id: 206697\n",
      "\n",
      "(no data for this episode 1 of icustay_id: 206697\n",
      "\n"
     ]
    },
    {
     "name": "stderr",
     "output_type": "stream",
     "text": [
      "Iterating over stays:  69%|██████▏  | 36901/53333 [1:34:57<30:17,  9.04it/s]"
     ]
    },
    {
     "name": "stdout",
     "output_type": "stream",
     "text": [
      "(no valid events for icustay_id: 293966\n",
      "\n",
      "(no data for this episode 1 of icustay_id: 293966\n",
      "\n"
     ]
    },
    {
     "name": "stderr",
     "output_type": "stream",
     "text": [
      "Iterating over stays:  69%|██████▏  | 37015/53333 [1:35:12<26:16, 10.35it/s]"
     ]
    },
    {
     "name": "stdout",
     "output_type": "stream",
     "text": [
      "(no valid events for icustay_id: 215564\n",
      "\n",
      "(no data for this episode 1 of icustay_id: 215564\n",
      "\n"
     ]
    },
    {
     "name": "stderr",
     "output_type": "stream",
     "text": [
      "Iterating over stays:  69%|████▊  | 37051/53333 [1:35:17<1:35:13,  2.85it/s]"
     ]
    },
    {
     "name": "stdout",
     "output_type": "stream",
     "text": [
      "(no valid events for icustay_id: 247076\n",
      "\n",
      "(no data for this episode 1 of icustay_id: 247076\n",
      "\n"
     ]
    },
    {
     "name": "stderr",
     "output_type": "stream",
     "text": [
      "Iterating over stays:  70%|██████▎  | 37082/53333 [1:35:27<29:32,  9.17it/s]"
     ]
    },
    {
     "name": "stdout",
     "output_type": "stream",
     "text": [
      "(no valid events for icustay_id: 213670\n",
      "\n",
      "(no data for this episode 1 of icustay_id: 213670\n",
      "\n"
     ]
    },
    {
     "name": "stderr",
     "output_type": "stream",
     "text": [
      "Iterating over stays:  70%|██████▎  | 37106/53333 [1:35:30<39:21,  6.87it/s]"
     ]
    },
    {
     "name": "stdout",
     "output_type": "stream",
     "text": [
      "(no valid events for icustay_id: 233660\n",
      "\n",
      "(no data for this episode 1 of icustay_id: 233660\n",
      "\n"
     ]
    },
    {
     "name": "stderr",
     "output_type": "stream",
     "text": [
      "Iterating over stays:  70%|██████▎  | 37128/53333 [1:35:33<27:51,  9.69it/s]"
     ]
    },
    {
     "name": "stdout",
     "output_type": "stream",
     "text": [
      "(no valid events for icustay_id: 227977\n",
      "\n",
      "(no data for this episode 1 of icustay_id: 227977\n",
      "\n"
     ]
    },
    {
     "name": "stderr",
     "output_type": "stream",
     "text": [
      "Iterating over stays:  70%|██████▎  | 37223/53333 [1:35:45<31:44,  8.46it/s]"
     ]
    },
    {
     "name": "stdout",
     "output_type": "stream",
     "text": [
      "(no valid events for icustay_id: 226329\n",
      "\n",
      "(no data for this episode 1 of icustay_id: 226329\n",
      "\n"
     ]
    },
    {
     "name": "stderr",
     "output_type": "stream",
     "text": [
      "Iterating over stays:  70%|██████▎  | 37242/53333 [1:35:47<26:21, 10.17it/s]"
     ]
    },
    {
     "name": "stdout",
     "output_type": "stream",
     "text": [
      "(no valid events for icustay_id: 272984\n",
      "\n",
      "(no data for this episode 1 of icustay_id: 272984\n",
      "\n"
     ]
    },
    {
     "name": "stderr",
     "output_type": "stream",
     "text": [
      "Iterating over stays:  70%|██████▎  | 37254/53333 [1:35:49<29:12,  9.17it/s]"
     ]
    },
    {
     "name": "stdout",
     "output_type": "stream",
     "text": [
      "(no valid events for icustay_id: 274071\n",
      "\n",
      "(no data for this episode 1 of icustay_id: 274071\n",
      "\n"
     ]
    },
    {
     "name": "stderr",
     "output_type": "stream",
     "text": [
      "Iterating over stays:  70%|██████▎  | 37296/53333 [1:35:54<35:14,  7.59it/s]"
     ]
    },
    {
     "name": "stdout",
     "output_type": "stream",
     "text": [
      "(no valid events for icustay_id: 221758\n",
      "\n",
      "(no data for this episode 1 of icustay_id: 221758\n",
      "\n"
     ]
    },
    {
     "name": "stderr",
     "output_type": "stream",
     "text": [
      "Iterating over stays:  70%|██████▎  | 37357/53333 [1:36:10<37:03,  7.18it/s]"
     ]
    },
    {
     "name": "stdout",
     "output_type": "stream",
     "text": [
      "(no valid events for icustay_id: 222838\n",
      "\n",
      "(no data for this episode 1 of icustay_id: 222838\n",
      "\n"
     ]
    },
    {
     "name": "stderr",
     "output_type": "stream",
     "text": [
      "Iterating over stays:  70%|██████▎  | 37376/53333 [1:36:12<29:25,  9.04it/s]"
     ]
    },
    {
     "name": "stdout",
     "output_type": "stream",
     "text": [
      "(no valid events for icustay_id: 234713\n",
      "\n",
      "(no data for this episode 1 of icustay_id: 234713\n",
      "\n"
     ]
    },
    {
     "name": "stderr",
     "output_type": "stream",
     "text": [
      "Iterating over stays:  70%|██████▎  | 37379/53333 [1:36:12<26:23, 10.08it/s]"
     ]
    },
    {
     "name": "stdout",
     "output_type": "stream",
     "text": [
      "(no valid events for icustay_id: 286731\n",
      "\n",
      "(no data for this episode 1 of icustay_id: 286731\n",
      "\n"
     ]
    },
    {
     "name": "stderr",
     "output_type": "stream",
     "text": [
      "Iterating over stays:  71%|██████▎  | 37605/53333 [1:36:48<30:25,  8.62it/s]"
     ]
    },
    {
     "name": "stdout",
     "output_type": "stream",
     "text": [
      "(no valid events for icustay_id: 249465\n",
      "\n",
      "(no data for this episode 1 of icustay_id: 249465\n",
      "\n"
     ]
    },
    {
     "name": "stderr",
     "output_type": "stream",
     "text": [
      "Iterating over stays:  71%|██████▎  | 37658/53333 [1:36:55<41:07,  6.35it/s]"
     ]
    },
    {
     "name": "stdout",
     "output_type": "stream",
     "text": [
      "(no valid events for icustay_id: 295852\n",
      "\n",
      "(no data for this episode 1 of icustay_id: 295852\n",
      "\n"
     ]
    },
    {
     "name": "stderr",
     "output_type": "stream",
     "text": [
      "Iterating over stays:  71%|██████▎  | 37675/53333 [1:36:56<24:21, 10.71it/s]"
     ]
    },
    {
     "name": "stdout",
     "output_type": "stream",
     "text": [
      "(no valid events for icustay_id: 273960\n",
      "\n",
      "(no data for this episode 1 of icustay_id: 273960\n",
      "\n"
     ]
    },
    {
     "name": "stderr",
     "output_type": "stream",
     "text": [
      "Iterating over stays:  71%|██████▎  | 37776/53333 [1:37:10<26:20,  9.84it/s]"
     ]
    },
    {
     "name": "stdout",
     "output_type": "stream",
     "text": [
      "(no valid events for icustay_id: 251802\n",
      "\n",
      "(no data for this episode 1 of icustay_id: 251802\n",
      "\n"
     ]
    },
    {
     "name": "stderr",
     "output_type": "stream",
     "text": [
      "Iterating over stays:  71%|██████▍  | 37791/53333 [1:37:11<25:38, 10.10it/s]"
     ]
    },
    {
     "name": "stdout",
     "output_type": "stream",
     "text": [
      "(no valid events for icustay_id: 222100\n",
      "\n",
      "(no data for this episode 1 of icustay_id: 222100\n",
      "\n"
     ]
    },
    {
     "name": "stderr",
     "output_type": "stream",
     "text": [
      "Iterating over stays:  71%|████▉  | 37810/53333 [1:37:15<1:46:43,  2.42it/s]"
     ]
    },
    {
     "name": "stdout",
     "output_type": "stream",
     "text": [
      "(no valid events for icustay_id: 201994\n",
      "\n",
      "(no data for this episode 1 of icustay_id: 201994\n",
      "\n"
     ]
    },
    {
     "name": "stderr",
     "output_type": "stream",
     "text": [
      "Iterating over stays:  71%|██████▍  | 37857/53333 [1:37:27<25:26, 10.14it/s]"
     ]
    },
    {
     "name": "stdout",
     "output_type": "stream",
     "text": [
      "(no valid events for icustay_id: 223504\n",
      "\n",
      "(no data for this episode 1 of icustay_id: 223504\n",
      "\n"
     ]
    },
    {
     "name": "stderr",
     "output_type": "stream",
     "text": [
      "Iterating over stays:  71%|██████▍  | 37879/53333 [1:37:30<26:26,  9.74it/s]"
     ]
    },
    {
     "name": "stdout",
     "output_type": "stream",
     "text": [
      "(no valid events for icustay_id: 269326\n",
      "\n",
      "(no data for this episode 1 of icustay_id: 269326\n",
      "\n"
     ]
    },
    {
     "name": "stderr",
     "output_type": "stream",
     "text": [
      "Iterating over stays:  71%|██████▍  | 37920/53333 [1:37:35<27:37,  9.30it/s]"
     ]
    },
    {
     "name": "stdout",
     "output_type": "stream",
     "text": [
      "(no valid events for icustay_id: 244749\n",
      "\n",
      "(no data for this episode 1 of icustay_id: 244749\n",
      "\n"
     ]
    },
    {
     "name": "stderr",
     "output_type": "stream",
     "text": [
      "Iterating over stays:  71%|██████▍  | 38059/53333 [1:37:58<28:41,  8.87it/s]"
     ]
    },
    {
     "name": "stdout",
     "output_type": "stream",
     "text": [
      "(no valid events for icustay_id: 228229\n",
      "\n",
      "(no data for this episode 1 of icustay_id: 228229\n",
      "\n"
     ]
    },
    {
     "name": "stderr",
     "output_type": "stream",
     "text": [
      "Iterating over stays:  71%|██████▍  | 38087/53333 [1:38:04<36:06,  7.04it/s]"
     ]
    },
    {
     "name": "stdout",
     "output_type": "stream",
     "text": [
      "(no valid events for icustay_id: 250896\n",
      "\n",
      "(no data for this episode 1 of icustay_id: 250896\n",
      "\n"
     ]
    },
    {
     "name": "stderr",
     "output_type": "stream",
     "text": [
      "Iterating over stays:  71%|██████▍  | 38098/53333 [1:38:05<28:49,  8.81it/s]"
     ]
    },
    {
     "name": "stdout",
     "output_type": "stream",
     "text": [
      "(no valid events for icustay_id: 224424\n",
      "\n",
      "(no data for this episode 1 of icustay_id: 224424\n",
      "\n"
     ]
    },
    {
     "name": "stderr",
     "output_type": "stream",
     "text": [
      "Iterating over stays:  72%|██████▍  | 38293/53333 [1:38:36<24:00, 10.44it/s]"
     ]
    },
    {
     "name": "stdout",
     "output_type": "stream",
     "text": [
      "(no valid events for icustay_id: 285027\n",
      "\n",
      "(no data for this episode 1 of icustay_id: 285027\n",
      "\n"
     ]
    },
    {
     "name": "stderr",
     "output_type": "stream",
     "text": [
      "Iterating over stays:  72%|██████▍  | 38299/53333 [1:38:37<24:18, 10.31it/s]"
     ]
    },
    {
     "name": "stdout",
     "output_type": "stream",
     "text": [
      "(no valid events for icustay_id: 271988\n",
      "\n",
      "(no data for this episode 1 of icustay_id: 271988\n",
      "\n"
     ]
    },
    {
     "name": "stderr",
     "output_type": "stream",
     "text": [
      "Iterating over stays:  72%|██████▍  | 38375/53333 [1:38:46<31:35,  7.89it/s]"
     ]
    },
    {
     "name": "stdout",
     "output_type": "stream",
     "text": [
      "(no valid events for icustay_id: 226746\n",
      "\n",
      "(no data for this episode 1 of icustay_id: 226746\n",
      "\n"
     ]
    },
    {
     "name": "stderr",
     "output_type": "stream",
     "text": [
      "Iterating over stays:  72%|█████  | 38451/53333 [1:39:03<3:36:53,  1.14it/s]"
     ]
    },
    {
     "name": "stdout",
     "output_type": "stream",
     "text": [
      "(no valid events for icustay_id: 224411\n",
      "\n",
      "(no data for this episode 1 of icustay_id: 224411\n",
      "\n"
     ]
    },
    {
     "name": "stderr",
     "output_type": "stream",
     "text": [
      "Iterating over stays:  72%|██████▌  | 38558/53333 [1:39:18<20:42, 11.90it/s]"
     ]
    },
    {
     "name": "stdout",
     "output_type": "stream",
     "text": [
      "(no valid events for icustay_id: 298227\n",
      "\n",
      "(no data for this episode 1 of icustay_id: 298227\n",
      "\n"
     ]
    },
    {
     "name": "stderr",
     "output_type": "stream",
     "text": [
      "Iterating over stays:  72%|██████▌  | 38573/53333 [1:39:20<29:01,  8.47it/s]"
     ]
    },
    {
     "name": "stdout",
     "output_type": "stream",
     "text": [
      "(no valid events for icustay_id: 229118\n",
      "\n",
      "(no data for this episode 1 of icustay_id: 229118\n",
      "\n"
     ]
    },
    {
     "name": "stderr",
     "output_type": "stream",
     "text": [
      "Iterating over stays:  72%|██████▌  | 38614/53333 [1:39:25<35:33,  6.90it/s]"
     ]
    },
    {
     "name": "stdout",
     "output_type": "stream",
     "text": [
      "(no valid events for icustay_id: 296013\n",
      "\n",
      "(no data for this episode 1 of icustay_id: 296013\n",
      "\n"
     ]
    },
    {
     "name": "stderr",
     "output_type": "stream",
     "text": [
      "Iterating over stays:  72%|██████▌  | 38634/53333 [1:39:28<28:25,  8.62it/s]"
     ]
    },
    {
     "name": "stdout",
     "output_type": "stream",
     "text": [
      "(no valid events for icustay_id: 229101\n",
      "\n",
      "(no data for this episode 1 of icustay_id: 229101\n",
      "\n"
     ]
    },
    {
     "name": "stderr",
     "output_type": "stream",
     "text": [
      "Iterating over stays:  72%|██████▌  | 38650/53333 [1:39:30<29:05,  8.41it/s]"
     ]
    },
    {
     "name": "stdout",
     "output_type": "stream",
     "text": [
      "(no valid events for icustay_id: 243992\n",
      "\n",
      "(no data for this episode 1 of icustay_id: 243992\n",
      "\n"
     ]
    },
    {
     "name": "stderr",
     "output_type": "stream",
     "text": [
      "Iterating over stays:  73%|██████▌  | 38729/53333 [1:39:49<34:18,  7.09it/s]"
     ]
    },
    {
     "name": "stdout",
     "output_type": "stream",
     "text": [
      "(no valid events for icustay_id: 211604\n",
      "\n",
      "(no data for this episode 1 of icustay_id: 211604\n",
      "\n"
     ]
    },
    {
     "name": "stderr",
     "output_type": "stream",
     "text": [
      "Iterating over stays:  73%|██████▌  | 38763/53333 [1:39:53<30:08,  8.06it/s]"
     ]
    },
    {
     "name": "stdout",
     "output_type": "stream",
     "text": [
      "(no valid events for icustay_id: 219829\n",
      "\n",
      "(no data for this episode 1 of icustay_id: 219829\n",
      "\n"
     ]
    },
    {
     "name": "stderr",
     "output_type": "stream",
     "text": [
      "Iterating over stays:  73%|██████▌  | 38769/53333 [1:39:54<32:27,  7.48it/s]"
     ]
    },
    {
     "name": "stdout",
     "output_type": "stream",
     "text": [
      "(no valid events for icustay_id: 293921\n",
      "\n",
      "(no data for this episode 1 of icustay_id: 293921\n",
      "\n"
     ]
    },
    {
     "name": "stderr",
     "output_type": "stream",
     "text": [
      "Iterating over stays:  73%|██████▌  | 38786/53333 [1:39:56<21:37, 11.21it/s]"
     ]
    },
    {
     "name": "stdout",
     "output_type": "stream",
     "text": [
      "(no valid events for icustay_id: 286715\n",
      "\n",
      "(no data for this episode 1 of icustay_id: 286715\n",
      "\n"
     ]
    },
    {
     "name": "stderr",
     "output_type": "stream",
     "text": [
      "Iterating over stays:  73%|█████  | 38947/53333 [1:40:24<1:53:58,  2.10it/s]"
     ]
    },
    {
     "name": "stdout",
     "output_type": "stream",
     "text": [
      "(no valid events for icustay_id: 296704\n",
      "\n",
      "(no data for this episode 1 of icustay_id: 296704\n",
      "\n"
     ]
    },
    {
     "name": "stderr",
     "output_type": "stream",
     "text": [
      "Iterating over stays:  73%|██████▌  | 38969/53333 [1:40:27<24:34,  9.74it/s]"
     ]
    },
    {
     "name": "stdout",
     "output_type": "stream",
     "text": [
      "(no valid events for icustay_id: 296631\n",
      "\n",
      "(no data for this episode 1 of icustay_id: 296631\n",
      "\n"
     ]
    },
    {
     "name": "stderr",
     "output_type": "stream",
     "text": [
      "Iterating over stays:  73%|██████▌  | 39015/53333 [1:40:32<25:48,  9.25it/s]"
     ]
    },
    {
     "name": "stdout",
     "output_type": "stream",
     "text": [
      "(no valid events for icustay_id: 210066\n",
      "\n",
      "(no data for this episode 1 of icustay_id: 210066\n",
      "\n"
     ]
    },
    {
     "name": "stderr",
     "output_type": "stream",
     "text": [
      "Iterating over stays:  73%|██████▌  | 39021/53333 [1:40:33<27:11,  8.77it/s]"
     ]
    },
    {
     "name": "stdout",
     "output_type": "stream",
     "text": [
      "(no valid events for icustay_id: 239405\n",
      "\n",
      "(no data for this episode 1 of icustay_id: 239405\n",
      "\n"
     ]
    },
    {
     "name": "stderr",
     "output_type": "stream",
     "text": [
      "Iterating over stays:  73%|██████▌  | 39032/53333 [1:40:34<27:18,  8.73it/s]"
     ]
    },
    {
     "name": "stdout",
     "output_type": "stream",
     "text": [
      "(no valid events for icustay_id: 259688\n",
      "\n",
      "(no data for this episode 1 of icustay_id: 259688\n",
      "\n"
     ]
    },
    {
     "name": "stderr",
     "output_type": "stream",
     "text": [
      "Iterating over stays:  73%|██████▌  | 39125/53333 [1:40:45<23:58,  9.88it/s]"
     ]
    },
    {
     "name": "stdout",
     "output_type": "stream",
     "text": [
      "(no valid events for icustay_id: 273179\n",
      "\n",
      "(no data for this episode 1 of icustay_id: 273179\n",
      "\n"
     ]
    },
    {
     "name": "stderr",
     "output_type": "stream",
     "text": [
      "Iterating over stays:  73%|██████▌  | 39158/53333 [1:40:49<25:59,  9.09it/s]"
     ]
    },
    {
     "name": "stdout",
     "output_type": "stream",
     "text": [
      "(no valid events for icustay_id: 210874\n",
      "\n",
      "(no data for this episode 1 of icustay_id: 210874\n",
      "\n"
     ]
    },
    {
     "name": "stderr",
     "output_type": "stream",
     "text": [
      "Iterating over stays:  73%|██████▌  | 39182/53333 [1:41:00<29:42,  7.94it/s]"
     ]
    },
    {
     "name": "stdout",
     "output_type": "stream",
     "text": [
      "(no valid events for icustay_id: 287038\n",
      "\n",
      "(no data for this episode 1 of icustay_id: 287038\n",
      "\n",
      "(no valid events for icustay_id: 215900\n",
      "\n",
      "(no data for this episode 1 of icustay_id: 215900\n",
      "\n"
     ]
    },
    {
     "name": "stderr",
     "output_type": "stream",
     "text": [
      "Iterating over stays:  74%|██████▌  | 39220/53333 [1:41:05<37:12,  6.32it/s]"
     ]
    },
    {
     "name": "stdout",
     "output_type": "stream",
     "text": [
      "(no valid events for icustay_id: 249152\n",
      "\n",
      "(no data for this episode 1 of icustay_id: 249152\n",
      "\n"
     ]
    },
    {
     "name": "stderr",
     "output_type": "stream",
     "text": [
      "Iterating over stays:  74%|██████▌  | 39249/53333 [1:41:09<42:03,  5.58it/s]"
     ]
    },
    {
     "name": "stdout",
     "output_type": "stream",
     "text": [
      "(no valid events for icustay_id: 215107\n",
      "\n",
      "(no data for this episode 1 of icustay_id: 215107\n",
      "\n"
     ]
    },
    {
     "name": "stderr",
     "output_type": "stream",
     "text": [
      "Iterating over stays:  74%|██████▋  | 39341/53333 [1:41:21<21:46, 10.71it/s]"
     ]
    },
    {
     "name": "stdout",
     "output_type": "stream",
     "text": [
      "(no valid events for icustay_id: 291736\n",
      "\n",
      "(no data for this episode 1 of icustay_id: 291736\n",
      "\n"
     ]
    },
    {
     "name": "stderr",
     "output_type": "stream",
     "text": [
      "Iterating over stays:  74%|██████▋  | 39449/53333 [1:41:42<21:38, 10.69it/s]"
     ]
    },
    {
     "name": "stdout",
     "output_type": "stream",
     "text": [
      "(no valid events for icustay_id: 262003\n",
      "\n",
      "(no data for this episode 1 of icustay_id: 262003\n",
      "\n"
     ]
    },
    {
     "name": "stderr",
     "output_type": "stream",
     "text": [
      "Iterating over stays:  74%|██████▋  | 39485/53333 [1:41:47<31:51,  7.25it/s]"
     ]
    },
    {
     "name": "stdout",
     "output_type": "stream",
     "text": [
      "(no valid events for icustay_id: 244500\n",
      "\n",
      "(no data for this episode 1 of icustay_id: 244500\n",
      "\n"
     ]
    },
    {
     "name": "stderr",
     "output_type": "stream",
     "text": [
      "Iterating over stays:  74%|██████▋  | 39544/53333 [1:41:56<27:54,  8.24it/s]"
     ]
    },
    {
     "name": "stdout",
     "output_type": "stream",
     "text": [
      "(no valid events for icustay_id: 290706\n",
      "\n",
      "(no data for this episode 1 of icustay_id: 290706\n",
      "\n"
     ]
    },
    {
     "name": "stderr",
     "output_type": "stream",
     "text": [
      "Iterating over stays:  74%|██████▋  | 39560/53333 [1:41:57<21:13, 10.82it/s]"
     ]
    },
    {
     "name": "stdout",
     "output_type": "stream",
     "text": [
      "(no valid events for icustay_id: 297791\n",
      "\n",
      "(no data for this episode 1 of icustay_id: 297791\n",
      "\n"
     ]
    },
    {
     "name": "stderr",
     "output_type": "stream",
     "text": [
      "Iterating over stays:  74%|██████▋  | 39664/53333 [1:42:19<33:29,  6.80it/s]"
     ]
    },
    {
     "name": "stdout",
     "output_type": "stream",
     "text": [
      "(no valid events for icustay_id: 270400\n",
      "\n",
      "(no data for this episode 1 of icustay_id: 270400\n",
      "\n"
     ]
    },
    {
     "name": "stderr",
     "output_type": "stream",
     "text": [
      "Iterating over stays:  74%|██████▋  | 39712/53333 [1:42:24<25:24,  8.94it/s]"
     ]
    },
    {
     "name": "stdout",
     "output_type": "stream",
     "text": [
      "(no valid events for icustay_id: 201199\n",
      "\n",
      "(no data for this episode 1 of icustay_id: 201199\n",
      "\n"
     ]
    },
    {
     "name": "stderr",
     "output_type": "stream",
     "text": [
      "Iterating over stays:  75%|██████▋  | 39756/53333 [1:42:30<28:37,  7.90it/s]"
     ]
    },
    {
     "name": "stdout",
     "output_type": "stream",
     "text": [
      "(no valid events for icustay_id: 275040\n",
      "\n",
      "(no data for this episode 1 of icustay_id: 275040\n",
      "\n"
     ]
    },
    {
     "name": "stderr",
     "output_type": "stream",
     "text": [
      "Iterating over stays:  75%|██████▋  | 39835/53333 [1:42:39<26:42,  8.42it/s]"
     ]
    },
    {
     "name": "stdout",
     "output_type": "stream",
     "text": [
      "(no valid events for icustay_id: 271747\n",
      "\n",
      "(no data for this episode 1 of icustay_id: 271747\n",
      "\n"
     ]
    },
    {
     "name": "stderr",
     "output_type": "stream",
     "text": [
      "Iterating over stays:  75%|██████▋  | 39907/53333 [1:42:56<33:53,  6.60it/s]"
     ]
    },
    {
     "name": "stdout",
     "output_type": "stream",
     "text": [
      "(no valid events for icustay_id: 271896\n",
      "\n",
      "(no data for this episode 1 of icustay_id: 271896\n",
      "\n"
     ]
    },
    {
     "name": "stderr",
     "output_type": "stream",
     "text": [
      "Iterating over stays:  75%|██████▋  | 39980/53333 [1:43:06<30:15,  7.36it/s]"
     ]
    },
    {
     "name": "stdout",
     "output_type": "stream",
     "text": [
      "(no valid events for icustay_id: 275330\n",
      "\n",
      "(no data for this episode 1 of icustay_id: 275330\n",
      "\n"
     ]
    },
    {
     "name": "stderr",
     "output_type": "stream",
     "text": [
      "Iterating over stays:  75%|█████▎ | 40112/53333 [1:43:29<1:43:03,  2.14it/s]"
     ]
    },
    {
     "name": "stdout",
     "output_type": "stream",
     "text": [
      "(no valid events for icustay_id: 292167\n",
      "\n",
      "(no data for this episode 1 of icustay_id: 292167\n",
      "\n"
     ]
    },
    {
     "name": "stderr",
     "output_type": "stream",
     "text": [
      "Iterating over stays:  76%|██████▊  | 40300/53333 [1:43:53<26:58,  8.05it/s]"
     ]
    },
    {
     "name": "stdout",
     "output_type": "stream",
     "text": [
      "(no valid events for icustay_id: 268106\n",
      "\n",
      "(no data for this episode 1 of icustay_id: 268106\n",
      "\n"
     ]
    },
    {
     "name": "stderr",
     "output_type": "stream",
     "text": [
      "Iterating over stays:  76%|██████▊  | 40307/53333 [1:43:54<20:17, 10.70it/s]"
     ]
    },
    {
     "name": "stdout",
     "output_type": "stream",
     "text": [
      "(no valid events for icustay_id: 288406\n",
      "\n",
      "(no data for this episode 1 of icustay_id: 288406\n",
      "\n"
     ]
    },
    {
     "name": "stderr",
     "output_type": "stream",
     "text": [
      "Iterating over stays:  76%|██████▊  | 40422/53333 [1:44:16<22:20,  9.63it/s]"
     ]
    },
    {
     "name": "stdout",
     "output_type": "stream",
     "text": [
      "(no valid events for icustay_id: 261418\n",
      "\n",
      "(no data for this episode 1 of icustay_id: 261418\n",
      "\n"
     ]
    },
    {
     "name": "stderr",
     "output_type": "stream",
     "text": [
      "Iterating over stays:  76%|██████▊  | 40490/53333 [1:44:25<26:27,  8.09it/s]"
     ]
    },
    {
     "name": "stdout",
     "output_type": "stream",
     "text": [
      "(no valid events for icustay_id: 212355\n",
      "\n",
      "(no data for this episode 1 of icustay_id: 212355\n",
      "\n"
     ]
    },
    {
     "name": "stderr",
     "output_type": "stream",
     "text": [
      "Iterating over stays:  76%|██████▊  | 40503/53333 [1:44:27<38:06,  5.61it/s]"
     ]
    },
    {
     "name": "stdout",
     "output_type": "stream",
     "text": [
      "(no valid events for icustay_id: 283942\n",
      "\n",
      "(no data for this episode 1 of icustay_id: 283942\n",
      "\n"
     ]
    },
    {
     "name": "stderr",
     "output_type": "stream",
     "text": [
      "Iterating over stays:  76%|██████▊  | 40525/53333 [1:44:30<23:11,  9.20it/s]"
     ]
    },
    {
     "name": "stdout",
     "output_type": "stream",
     "text": [
      "(no valid events for icustay_id: 228753\n",
      "\n",
      "(no data for this episode 1 of icustay_id: 228753\n",
      "\n"
     ]
    },
    {
     "name": "stderr",
     "output_type": "stream",
     "text": [
      "Iterating over stays:  76%|█████▎ | 40582/53333 [1:44:40<1:41:36,  2.09it/s]"
     ]
    },
    {
     "name": "stdout",
     "output_type": "stream",
     "text": [
      "(no valid events for icustay_id: 232898\n",
      "\n",
      "(no data for this episode 1 of icustay_id: 232898\n",
      "\n"
     ]
    },
    {
     "name": "stderr",
     "output_type": "stream",
     "text": [
      "Iterating over stays:  76%|██████▊  | 40630/53333 [1:44:52<44:23,  4.77it/s]"
     ]
    },
    {
     "name": "stdout",
     "output_type": "stream",
     "text": [
      "(no valid events for icustay_id: 296332\n",
      "\n",
      "(no data for this episode 1 of icustay_id: 296332\n",
      "\n"
     ]
    },
    {
     "name": "stderr",
     "output_type": "stream",
     "text": [
      "Iterating over stays:  76%|██████▊  | 40653/53333 [1:44:55<24:07,  8.76it/s]"
     ]
    },
    {
     "name": "stdout",
     "output_type": "stream",
     "text": [
      "(no valid events for icustay_id: 250778\n",
      "\n",
      "(no data for this episode 1 of icustay_id: 250778\n",
      "\n"
     ]
    },
    {
     "name": "stderr",
     "output_type": "stream",
     "text": [
      "Iterating over stays:  76%|██████▊  | 40720/53333 [1:45:03<26:24,  7.96it/s]"
     ]
    },
    {
     "name": "stdout",
     "output_type": "stream",
     "text": [
      "(no valid events for icustay_id: 292477\n",
      "\n",
      "(no data for this episode 1 of icustay_id: 292477\n",
      "\n"
     ]
    },
    {
     "name": "stderr",
     "output_type": "stream",
     "text": [
      "Iterating over stays:  77%|██████▉  | 40863/53333 [1:45:28<21:15,  9.78it/s]"
     ]
    },
    {
     "name": "stdout",
     "output_type": "stream",
     "text": [
      "(no valid events for icustay_id: 259151\n",
      "\n",
      "(no data for this episode 1 of icustay_id: 259151\n",
      "\n"
     ]
    },
    {
     "name": "stderr",
     "output_type": "stream",
     "text": [
      "Iterating over stays:  77%|██████▉  | 40953/53333 [1:45:46<46:06,  4.47it/s]"
     ]
    },
    {
     "name": "stdout",
     "output_type": "stream",
     "text": [
      "(no valid events for icustay_id: 240207\n",
      "\n",
      "(no data for this episode 1 of icustay_id: 240207\n",
      "\n"
     ]
    },
    {
     "name": "stderr",
     "output_type": "stream",
     "text": [
      "Iterating over stays:  77%|██████▉  | 41034/53333 [1:45:56<18:06, 11.32it/s]"
     ]
    },
    {
     "name": "stdout",
     "output_type": "stream",
     "text": [
      "(no valid events for icustay_id: 299131\n",
      "\n",
      "(no data for this episode 1 of icustay_id: 299131\n",
      "\n"
     ]
    },
    {
     "name": "stderr",
     "output_type": "stream",
     "text": [
      "Iterating over stays:  77%|██████▉  | 41090/53333 [1:46:09<32:42,  6.24it/s]"
     ]
    },
    {
     "name": "stdout",
     "output_type": "stream",
     "text": [
      "(no valid events for icustay_id: 254986\n",
      "\n",
      "(no data for this episode 1 of icustay_id: 254986\n",
      "\n"
     ]
    },
    {
     "name": "stderr",
     "output_type": "stream",
     "text": [
      "Iterating over stays:  77%|██████▉  | 41188/53333 [1:46:21<18:54, 10.71it/s]"
     ]
    },
    {
     "name": "stdout",
     "output_type": "stream",
     "text": [
      "(no valid events for icustay_id: 290231\n",
      "\n",
      "(no data for this episode 1 of icustay_id: 290231\n",
      "\n"
     ]
    },
    {
     "name": "stderr",
     "output_type": "stream",
     "text": [
      "Iterating over stays:  77%|██████▉  | 41280/53333 [1:46:34<21:45,  9.24it/s]"
     ]
    },
    {
     "name": "stdout",
     "output_type": "stream",
     "text": [
      "(no valid events for icustay_id: 229417\n",
      "\n",
      "(no data for this episode 1 of icustay_id: 229417\n",
      "\n"
     ]
    },
    {
     "name": "stderr",
     "output_type": "stream",
     "text": [
      "Iterating over stays:  78%|██████▉  | 41412/53333 [1:46:58<17:28, 11.37it/s]"
     ]
    },
    {
     "name": "stdout",
     "output_type": "stream",
     "text": [
      "(no valid events for icustay_id: 246801\n",
      "\n",
      "(no data for this episode 1 of icustay_id: 246801\n",
      "\n"
     ]
    },
    {
     "name": "stderr",
     "output_type": "stream",
     "text": [
      "Iterating over stays:  78%|██████▉  | 41450/53333 [1:47:03<25:36,  7.74it/s]"
     ]
    },
    {
     "name": "stdout",
     "output_type": "stream",
     "text": [
      "(no valid events for icustay_id: 256817\n",
      "\n",
      "(no data for this episode 1 of icustay_id: 256817\n",
      "\n"
     ]
    },
    {
     "name": "stderr",
     "output_type": "stream",
     "text": [
      "Iterating over stays:  78%|██████▉  | 41459/53333 [1:47:04<27:01,  7.32it/s]"
     ]
    },
    {
     "name": "stdout",
     "output_type": "stream",
     "text": [
      "(no valid events for icustay_id: 275056\n",
      "\n",
      "(no data for this episode 1 of icustay_id: 275056\n",
      "\n"
     ]
    },
    {
     "name": "stderr",
     "output_type": "stream",
     "text": [
      "Iterating over stays:  78%|███████  | 41641/53333 [1:47:36<25:41,  7.59it/s]"
     ]
    },
    {
     "name": "stdout",
     "output_type": "stream",
     "text": [
      "(no valid events for icustay_id: 290141\n",
      "\n",
      "(no data for this episode 1 of icustay_id: 290141\n",
      "\n"
     ]
    },
    {
     "name": "stderr",
     "output_type": "stream",
     "text": [
      "Iterating over stays:  78%|███████  | 41851/53333 [1:48:09<22:44,  8.41it/s]"
     ]
    },
    {
     "name": "stdout",
     "output_type": "stream",
     "text": [
      "(no valid events for icustay_id: 221351\n",
      "\n",
      "(no data for this episode 1 of icustay_id: 221351\n",
      "\n"
     ]
    },
    {
     "name": "stderr",
     "output_type": "stream",
     "text": [
      "Iterating over stays:  79%|███████  | 41945/53333 [1:48:21<18:34, 10.22it/s]"
     ]
    },
    {
     "name": "stdout",
     "output_type": "stream",
     "text": [
      "(no valid events for icustay_id: 298642\n",
      "\n",
      "(no data for this episode 1 of icustay_id: 298642\n",
      "\n"
     ]
    },
    {
     "name": "stderr",
     "output_type": "stream",
     "text": [
      "Iterating over stays:  79%|███████  | 41994/53333 [1:48:27<22:20,  8.46it/s]"
     ]
    },
    {
     "name": "stdout",
     "output_type": "stream",
     "text": [
      "(no valid events for icustay_id: 245438\n",
      "\n",
      "(no data for this episode 1 of icustay_id: 245438\n",
      "\n",
      "(no valid events for icustay_id: 291278\n",
      "\n"
     ]
    },
    {
     "name": "stderr",
     "output_type": "stream",
     "text": [
      "\r",
      "Iterating over stays:  79%|███████  | 41995/53333 [1:48:27<26:00,  7.27it/s]"
     ]
    },
    {
     "name": "stdout",
     "output_type": "stream",
     "text": [
      "(no data for this episode 1 of icustay_id: 291278\n",
      "\n"
     ]
    },
    {
     "name": "stderr",
     "output_type": "stream",
     "text": [
      "Iterating over stays:  79%|███████  | 42065/53333 [1:48:36<18:20, 10.24it/s]"
     ]
    },
    {
     "name": "stdout",
     "output_type": "stream",
     "text": [
      "(no valid events for icustay_id: 277086\n",
      "\n",
      "(no data for this episode 1 of icustay_id: 277086\n",
      "\n"
     ]
    },
    {
     "name": "stderr",
     "output_type": "stream",
     "text": [
      "Iterating over stays:  79%|███████  | 42210/53333 [1:49:02<21:03,  8.80it/s]"
     ]
    },
    {
     "name": "stdout",
     "output_type": "stream",
     "text": [
      "(no valid events for icustay_id: 250323\n",
      "\n",
      "(no data for this episode 1 of icustay_id: 250323\n",
      "\n"
     ]
    },
    {
     "name": "stderr",
     "output_type": "stream",
     "text": [
      "Iterating over stays:  79%|███████▏ | 42283/53333 [1:49:11<27:53,  6.60it/s]"
     ]
    },
    {
     "name": "stdout",
     "output_type": "stream",
     "text": [
      "(no valid events for icustay_id: 260998\n",
      "\n",
      "(no data for this episode 1 of icustay_id: 260998\n",
      "\n"
     ]
    },
    {
     "name": "stderr",
     "output_type": "stream",
     "text": [
      "Iterating over stays:  79%|███████▏ | 42352/53333 [1:49:28<22:10,  8.26it/s]"
     ]
    },
    {
     "name": "stdout",
     "output_type": "stream",
     "text": [
      "(no valid events for icustay_id: 210759\n",
      "\n",
      "(no data for this episode 1 of icustay_id: 210759\n",
      "\n"
     ]
    },
    {
     "name": "stderr",
     "output_type": "stream",
     "text": [
      "Iterating over stays:  80%|███████▏ | 42480/53333 [1:49:44<21:05,  8.58it/s]"
     ]
    },
    {
     "name": "stdout",
     "output_type": "stream",
     "text": [
      "(no valid events for icustay_id: 223712\n",
      "\n",
      "(no data for this episode 1 of icustay_id: 223712\n",
      "\n"
     ]
    },
    {
     "name": "stderr",
     "output_type": "stream",
     "text": [
      "Iterating over stays:  80%|███████▏ | 42540/53333 [1:49:52<21:59,  8.18it/s]"
     ]
    },
    {
     "name": "stdout",
     "output_type": "stream",
     "text": [
      "(no valid events for icustay_id: 268983\n",
      "\n",
      "(no data for this episode 1 of icustay_id: 268983\n",
      "\n"
     ]
    },
    {
     "name": "stderr",
     "output_type": "stream",
     "text": [
      "Iterating over stays:  80%|█████▌ | 42589/53333 [1:50:09<2:50:53,  1.05it/s]"
     ]
    },
    {
     "name": "stdout",
     "output_type": "stream",
     "text": [
      "(no valid events for icustay_id: 289567\n",
      "\n",
      "(no data for this episode 1 of icustay_id: 289567\n",
      "\n"
     ]
    },
    {
     "name": "stderr",
     "output_type": "stream",
     "text": [
      "Iterating over stays:  80%|███████▏ | 42607/53333 [1:50:13<21:28,  8.32it/s]"
     ]
    },
    {
     "name": "stdout",
     "output_type": "stream",
     "text": [
      "(no valid events for icustay_id: 200972\n",
      "\n",
      "(no data for this episode 1 of icustay_id: 200972\n",
      "\n"
     ]
    },
    {
     "name": "stderr",
     "output_type": "stream",
     "text": [
      "Iterating over stays:  80%|███████▏ | 42669/53333 [1:50:20<17:37, 10.08it/s]"
     ]
    },
    {
     "name": "stdout",
     "output_type": "stream",
     "text": [
      "(no valid events for icustay_id: 215542\n",
      "\n",
      "(no data for this episode 1 of icustay_id: 215542\n",
      "\n"
     ]
    },
    {
     "name": "stderr",
     "output_type": "stream",
     "text": [
      "Iterating over stays:  80%|███████▏ | 42795/53333 [1:50:34<18:07,  9.69it/s]"
     ]
    },
    {
     "name": "stdout",
     "output_type": "stream",
     "text": [
      "(no valid events for icustay_id: 257858\n",
      "\n",
      "(no data for this episode 1 of icustay_id: 257858\n",
      "\n"
     ]
    },
    {
     "name": "stderr",
     "output_type": "stream",
     "text": [
      "Iterating over stays:  80%|███████▏ | 42913/53333 [1:50:56<23:38,  7.35it/s]"
     ]
    },
    {
     "name": "stdout",
     "output_type": "stream",
     "text": [
      "(no valid events for icustay_id: 253754\n",
      "\n",
      "(no data for this episode 1 of icustay_id: 253754\n",
      "\n"
     ]
    },
    {
     "name": "stderr",
     "output_type": "stream",
     "text": [
      "Iterating over stays:  80%|███████▏ | 42923/53333 [1:50:57<18:41,  9.28it/s]"
     ]
    },
    {
     "name": "stdout",
     "output_type": "stream",
     "text": [
      "(no valid events for icustay_id: 236531\n",
      "\n",
      "(no data for this episode 1 of icustay_id: 236531\n",
      "\n"
     ]
    },
    {
     "name": "stderr",
     "output_type": "stream",
     "text": [
      "Iterating over stays:  81%|███████▏ | 42946/53333 [1:51:00<17:13, 10.05it/s]"
     ]
    },
    {
     "name": "stdout",
     "output_type": "stream",
     "text": [
      "(no valid events for icustay_id: 259366\n",
      "\n",
      "(no data for this episode 1 of icustay_id: 259366\n",
      "\n"
     ]
    },
    {
     "name": "stderr",
     "output_type": "stream",
     "text": [
      "Iterating over stays:  81%|███████▎ | 43021/53333 [1:51:09<18:02,  9.52it/s]"
     ]
    },
    {
     "name": "stdout",
     "output_type": "stream",
     "text": [
      "(no valid events for icustay_id: 228599\n",
      "\n",
      "(no data for this episode 1 of icustay_id: 228599\n",
      "\n"
     ]
    },
    {
     "name": "stderr",
     "output_type": "stream",
     "text": [
      "Iterating over stays:  81%|███████▎ | 43181/53333 [1:51:37<19:39,  8.61it/s]"
     ]
    },
    {
     "name": "stdout",
     "output_type": "stream",
     "text": [
      "(no valid events for icustay_id: 277149\n",
      "\n",
      "(no data for this episode 1 of icustay_id: 277149\n",
      "\n"
     ]
    },
    {
     "name": "stderr",
     "output_type": "stream",
     "text": [
      "Iterating over stays:  81%|███████▎ | 43231/53333 [1:51:43<18:23,  9.16it/s]"
     ]
    },
    {
     "name": "stdout",
     "output_type": "stream",
     "text": [
      "(no valid events for icustay_id: 294311\n",
      "\n",
      "(no data for this episode 1 of icustay_id: 294311\n",
      "\n"
     ]
    },
    {
     "name": "stderr",
     "output_type": "stream",
     "text": [
      "Iterating over stays:  81%|███████▎ | 43259/53333 [1:51:52<21:18,  7.88it/s]"
     ]
    },
    {
     "name": "stdout",
     "output_type": "stream",
     "text": [
      "(no valid events for icustay_id: 203619\n",
      "\n",
      "(no data for this episode 1 of icustay_id: 203619\n",
      "\n"
     ]
    },
    {
     "name": "stderr",
     "output_type": "stream",
     "text": [
      "Iterating over stays:  81%|███████▎ | 43276/53333 [1:51:54<16:14, 10.32it/s]"
     ]
    },
    {
     "name": "stdout",
     "output_type": "stream",
     "text": [
      "(no valid events for icustay_id: 207646\n",
      "\n",
      "(no data for this episode 1 of icustay_id: 207646\n",
      "\n"
     ]
    },
    {
     "name": "stderr",
     "output_type": "stream",
     "text": [
      "Iterating over stays:  81%|███████▎ | 43307/53333 [1:51:59<16:50,  9.92it/s]"
     ]
    },
    {
     "name": "stdout",
     "output_type": "stream",
     "text": [
      "(no valid events for icustay_id: 220232\n",
      "\n",
      "(no data for this episode 1 of icustay_id: 220232\n",
      "\n"
     ]
    },
    {
     "name": "stderr",
     "output_type": "stream",
     "text": [
      "Iterating over stays:  81%|███████▎ | 43311/53333 [1:51:59<18:23,  9.08it/s]"
     ]
    },
    {
     "name": "stdout",
     "output_type": "stream",
     "text": [
      "(no valid events for icustay_id: 261145\n",
      "\n",
      "(no data for this episode 1 of icustay_id: 261145\n",
      "\n"
     ]
    },
    {
     "name": "stderr",
     "output_type": "stream",
     "text": [
      "Iterating over stays:  81%|███████▎ | 43398/53333 [1:52:09<15:04, 10.99it/s]"
     ]
    },
    {
     "name": "stdout",
     "output_type": "stream",
     "text": [
      "(no valid events for icustay_id: 233263\n",
      "\n",
      "(no data for this episode 1 of icustay_id: 233263\n",
      "\n"
     ]
    },
    {
     "name": "stderr",
     "output_type": "stream",
     "text": [
      "Iterating over stays:  81%|███████▎ | 43445/53333 [1:52:22<15:53, 10.37it/s]"
     ]
    },
    {
     "name": "stdout",
     "output_type": "stream",
     "text": [
      "(no valid events for icustay_id: 277111\n",
      "\n",
      "(no data for this episode 1 of icustay_id: 277111\n",
      "\n"
     ]
    },
    {
     "name": "stderr",
     "output_type": "stream",
     "text": [
      "Iterating over stays:  81%|███████▎ | 43459/53333 [1:52:23<16:22, 10.05it/s]"
     ]
    },
    {
     "name": "stdout",
     "output_type": "stream",
     "text": [
      "(no valid events for icustay_id: 276775\n",
      "\n",
      "(no data for this episode 1 of icustay_id: 276775\n",
      "\n"
     ]
    },
    {
     "name": "stderr",
     "output_type": "stream",
     "text": [
      "Iterating over stays:  82%|███████▎ | 43469/53333 [1:52:26<48:45,  3.37it/s]"
     ]
    },
    {
     "name": "stdout",
     "output_type": "stream",
     "text": [
      "(no valid events for icustay_id: 227942\n",
      "\n",
      "(no data for this episode 1 of icustay_id: 227942\n",
      "\n"
     ]
    },
    {
     "name": "stderr",
     "output_type": "stream",
     "text": [
      "Iterating over stays:  82%|███████▎ | 43594/53333 [1:52:42<16:35,  9.78it/s]"
     ]
    },
    {
     "name": "stdout",
     "output_type": "stream",
     "text": [
      "(no valid events for icustay_id: 217177\n",
      "\n",
      "(no data for this episode 1 of icustay_id: 217177\n",
      "\n"
     ]
    },
    {
     "name": "stderr",
     "output_type": "stream",
     "text": [
      "Iterating over stays:  82%|███████▎ | 43616/53333 [1:52:44<17:38,  9.18it/s]"
     ]
    },
    {
     "name": "stdout",
     "output_type": "stream",
     "text": [
      "(no valid events for icustay_id: 228969\n",
      "\n",
      "(no data for this episode 1 of icustay_id: 228969\n",
      "\n"
     ]
    },
    {
     "name": "stderr",
     "output_type": "stream",
     "text": [
      "Iterating over stays:  82%|███████▎ | 43627/53333 [1:52:46<19:04,  8.48it/s]"
     ]
    },
    {
     "name": "stdout",
     "output_type": "stream",
     "text": [
      "(no valid events for icustay_id: 256171\n",
      "\n",
      "(no data for this episode 1 of icustay_id: 256171\n",
      "\n"
     ]
    },
    {
     "name": "stderr",
     "output_type": "stream",
     "text": [
      "Iterating over stays:  82%|███████▍ | 43737/53333 [1:53:07<22:10,  7.21it/s]"
     ]
    },
    {
     "name": "stdout",
     "output_type": "stream",
     "text": [
      "(no valid events for icustay_id: 212239\n",
      "\n",
      "(no data for this episode 1 of icustay_id: 212239\n",
      "\n"
     ]
    },
    {
     "name": "stderr",
     "output_type": "stream",
     "text": [
      "Iterating over stays:  82%|███████▍ | 43906/53333 [1:53:28<14:10, 11.09it/s]"
     ]
    },
    {
     "name": "stdout",
     "output_type": "stream",
     "text": [
      "(no valid events for icustay_id: 249523\n",
      "\n",
      "(no data for this episode 1 of icustay_id: 249523\n",
      "\n"
     ]
    },
    {
     "name": "stderr",
     "output_type": "stream",
     "text": [
      "Iterating over stays:  82%|███████▍ | 43918/53333 [1:53:30<15:41, 10.00it/s]"
     ]
    },
    {
     "name": "stdout",
     "output_type": "stream",
     "text": [
      "(no valid events for icustay_id: 206079\n",
      "\n",
      "(no data for this episode 1 of icustay_id: 206079\n",
      "\n"
     ]
    },
    {
     "name": "stderr",
     "output_type": "stream",
     "text": [
      "Iterating over stays:  83%|███████▍ | 44047/53333 [1:53:54<17:21,  8.92it/s]"
     ]
    },
    {
     "name": "stdout",
     "output_type": "stream",
     "text": [
      "(no valid events for icustay_id: 229474\n",
      "\n",
      "(no data for this episode 1 of icustay_id: 229474\n",
      "\n"
     ]
    },
    {
     "name": "stderr",
     "output_type": "stream",
     "text": [
      "Iterating over stays:  83%|███████▍ | 44054/53333 [1:53:55<23:04,  6.70it/s]"
     ]
    },
    {
     "name": "stdout",
     "output_type": "stream",
     "text": [
      "(no valid events for icustay_id: 229850\n",
      "\n",
      "(no data for this episode 1 of icustay_id: 229850\n",
      "\n"
     ]
    },
    {
     "name": "stderr",
     "output_type": "stream",
     "text": [
      "Iterating over stays:  83%|███████▍ | 44155/53333 [1:54:09<14:00, 10.92it/s]"
     ]
    },
    {
     "name": "stdout",
     "output_type": "stream",
     "text": [
      "(no valid events for icustay_id: 297296\n",
      "\n",
      "(no data for this episode 1 of icustay_id: 297296\n",
      "\n"
     ]
    },
    {
     "name": "stderr",
     "output_type": "stream",
     "text": [
      "Iterating over stays:  83%|███████▍ | 44167/53333 [1:54:11<48:01,  3.18it/s]"
     ]
    },
    {
     "name": "stdout",
     "output_type": "stream",
     "text": [
      "(no valid events for icustay_id: 263060\n",
      "\n",
      "(no data for this episode 1 of icustay_id: 263060\n",
      "\n"
     ]
    },
    {
     "name": "stderr",
     "output_type": "stream",
     "text": [
      "Iterating over stays:  83%|███████▍ | 44208/53333 [1:54:23<18:11,  8.36it/s]"
     ]
    },
    {
     "name": "stdout",
     "output_type": "stream",
     "text": [
      "(no valid events for icustay_id: 202972\n",
      "\n",
      "(no data for this episode 1 of icustay_id: 202972\n",
      "\n"
     ]
    },
    {
     "name": "stderr",
     "output_type": "stream",
     "text": [
      "Iterating over stays:  83%|███████▍ | 44218/53333 [1:54:24<23:41,  6.41it/s]"
     ]
    },
    {
     "name": "stdout",
     "output_type": "stream",
     "text": [
      "(no valid events for icustay_id: 263965\n",
      "\n",
      "(no data for this episode 1 of icustay_id: 263965\n",
      "\n"
     ]
    },
    {
     "name": "stderr",
     "output_type": "stream",
     "text": [
      "Iterating over stays:  83%|███████▍ | 44258/53333 [1:54:30<22:40,  6.67it/s]"
     ]
    },
    {
     "name": "stdout",
     "output_type": "stream",
     "text": [
      "(no valid events for icustay_id: 269355\n",
      "\n",
      "(no data for this episode 1 of icustay_id: 269355\n",
      "\n"
     ]
    },
    {
     "name": "stderr",
     "output_type": "stream",
     "text": [
      "Iterating over stays:  83%|███████▍ | 44263/53333 [1:54:30<19:52,  7.60it/s]"
     ]
    },
    {
     "name": "stdout",
     "output_type": "stream",
     "text": [
      "(no valid events for icustay_id: 216516\n",
      "\n",
      "(no data for this episode 1 of icustay_id: 216516\n",
      "\n"
     ]
    },
    {
     "name": "stderr",
     "output_type": "stream",
     "text": [
      "Iterating over stays:  83%|███████▍ | 44333/53333 [1:54:40<27:15,  5.50it/s]"
     ]
    },
    {
     "name": "stdout",
     "output_type": "stream",
     "text": [
      "(no valid events for icustay_id: 232642\n",
      "\n",
      "(no data for this episode 1 of icustay_id: 232642\n",
      "\n"
     ]
    },
    {
     "name": "stderr",
     "output_type": "stream",
     "text": [
      "Iterating over stays:  83%|███████▍ | 44383/53333 [1:54:46<18:16,  8.16it/s]"
     ]
    },
    {
     "name": "stdout",
     "output_type": "stream",
     "text": [
      "(no valid events for icustay_id: 288109\n",
      "\n",
      "(no data for this episode 1 of icustay_id: 288109\n",
      "\n"
     ]
    },
    {
     "name": "stderr",
     "output_type": "stream",
     "text": [
      "Iterating over stays:  84%|███████▌ | 44554/53333 [1:55:15<20:55,  6.99it/s]"
     ]
    },
    {
     "name": "stdout",
     "output_type": "stream",
     "text": [
      "(no valid events for icustay_id: 242558\n",
      "\n",
      "(no data for this episode 1 of icustay_id: 242558\n",
      "\n"
     ]
    },
    {
     "name": "stderr",
     "output_type": "stream",
     "text": [
      "Iterating over stays:  84%|███████▌ | 44562/53333 [1:55:16<17:36,  8.30it/s]"
     ]
    },
    {
     "name": "stdout",
     "output_type": "stream",
     "text": [
      "(no valid events for icustay_id: 239182\n",
      "\n",
      "(no data for this episode 1 of icustay_id: 239182\n",
      "\n"
     ]
    },
    {
     "name": "stderr",
     "output_type": "stream",
     "text": [
      "Iterating over stays:  84%|███████▌ | 44625/53333 [1:55:24<19:49,  7.32it/s]"
     ]
    },
    {
     "name": "stdout",
     "output_type": "stream",
     "text": [
      "(no valid events for icustay_id: 213312\n",
      "\n",
      "(no data for this episode 1 of icustay_id: 213312\n",
      "\n"
     ]
    },
    {
     "name": "stderr",
     "output_type": "stream",
     "text": [
      "Iterating over stays:  84%|███████▌ | 44672/53333 [1:55:29<39:19,  3.67it/s]"
     ]
    },
    {
     "name": "stdout",
     "output_type": "stream",
     "text": [
      "(no valid events for icustay_id: 282730\n",
      "\n",
      "(no data for this episode 1 of icustay_id: 282730\n",
      "\n"
     ]
    },
    {
     "name": "stderr",
     "output_type": "stream",
     "text": [
      "Iterating over stays:  84%|███████▌ | 44685/53333 [1:55:38<50:13,  2.87it/s]"
     ]
    },
    {
     "name": "stdout",
     "output_type": "stream",
     "text": [
      "(no valid events for icustay_id: 245018\n",
      "\n",
      "(no data for this episode 1 of icustay_id: 245018\n",
      "\n"
     ]
    },
    {
     "name": "stderr",
     "output_type": "stream",
     "text": [
      "Iterating over stays:  84%|███████▌ | 44812/53333 [1:55:55<19:32,  7.27it/s]"
     ]
    },
    {
     "name": "stdout",
     "output_type": "stream",
     "text": [
      "(no valid events for icustay_id: 228545\n",
      "\n",
      "(no data for this episode 1 of icustay_id: 228545\n",
      "\n"
     ]
    },
    {
     "name": "stderr",
     "output_type": "stream",
     "text": [
      "Iterating over stays:  84%|███████▌ | 44829/53333 [1:55:56<11:33, 12.25it/s]"
     ]
    },
    {
     "name": "stdout",
     "output_type": "stream",
     "text": [
      "(no valid events for icustay_id: 243219\n",
      "\n",
      "(no data for this episode 1 of icustay_id: 243219\n",
      "\n"
     ]
    },
    {
     "name": "stderr",
     "output_type": "stream",
     "text": [
      "Iterating over stays:  84%|███████▌ | 44852/53333 [1:55:59<22:07,  6.39it/s]"
     ]
    },
    {
     "name": "stdout",
     "output_type": "stream",
     "text": [
      "(no valid events for icustay_id: 211426\n",
      "\n",
      "(no data for this episode 1 of icustay_id: 211426\n",
      "\n"
     ]
    },
    {
     "name": "stderr",
     "output_type": "stream",
     "text": [
      "Iterating over stays:  84%|███████▌ | 44940/53333 [1:56:19<46:42,  2.99it/s]"
     ]
    },
    {
     "name": "stdout",
     "output_type": "stream",
     "text": [
      "(no valid events for icustay_id: 230402\n",
      "\n",
      "(no data for this episode 1 of icustay_id: 230402\n",
      "\n"
     ]
    },
    {
     "name": "stderr",
     "output_type": "stream",
     "text": [
      "Iterating over stays:  84%|███████▌ | 44949/53333 [1:56:20<21:39,  6.45it/s]"
     ]
    },
    {
     "name": "stdout",
     "output_type": "stream",
     "text": [
      "(no valid events for icustay_id: 202475\n",
      "\n",
      "(no data for this episode 1 of icustay_id: 202475\n",
      "\n"
     ]
    },
    {
     "name": "stderr",
     "output_type": "stream",
     "text": [
      "Iterating over stays:  85%|███████▌ | 45074/53333 [1:56:36<12:54, 10.66it/s]"
     ]
    },
    {
     "name": "stdout",
     "output_type": "stream",
     "text": [
      "(no valid events for icustay_id: 290717\n",
      "\n",
      "(no data for this episode 1 of icustay_id: 290717\n",
      "\n"
     ]
    },
    {
     "name": "stderr",
     "output_type": "stream",
     "text": [
      "Iterating over stays:  85%|███████▌ | 45120/53333 [1:56:42<17:55,  7.63it/s]"
     ]
    },
    {
     "name": "stdout",
     "output_type": "stream",
     "text": [
      "(no valid events for icustay_id: 256535\n",
      "\n",
      "(no data for this episode 1 of icustay_id: 256535\n",
      "\n"
     ]
    },
    {
     "name": "stderr",
     "output_type": "stream",
     "text": [
      "Iterating over stays:  85%|███████▋ | 45196/53333 [1:57:01<13:46,  9.85it/s]"
     ]
    },
    {
     "name": "stdout",
     "output_type": "stream",
     "text": [
      "(no valid events for icustay_id: 224357\n",
      "\n",
      "(no data for this episode 1 of icustay_id: 224357\n",
      "\n"
     ]
    },
    {
     "name": "stderr",
     "output_type": "stream",
     "text": [
      "Iterating over stays:  85%|███████▋ | 45206/53333 [1:57:02<16:10,  8.37it/s]"
     ]
    },
    {
     "name": "stdout",
     "output_type": "stream",
     "text": [
      "(no valid events for icustay_id: 249099\n",
      "\n",
      "(no data for this episode 1 of icustay_id: 249099\n",
      "\n"
     ]
    },
    {
     "name": "stderr",
     "output_type": "stream",
     "text": [
      "Iterating over stays:  85%|███████▋ | 45236/53333 [1:57:05<15:20,  8.79it/s]"
     ]
    },
    {
     "name": "stdout",
     "output_type": "stream",
     "text": [
      "(no valid events for icustay_id: 220842\n",
      "\n",
      "(no data for this episode 1 of icustay_id: 220842\n",
      "\n"
     ]
    },
    {
     "name": "stderr",
     "output_type": "stream",
     "text": [
      "Iterating over stays:  85%|███████▋ | 45286/53333 [1:57:12<18:34,  7.22it/s]"
     ]
    },
    {
     "name": "stdout",
     "output_type": "stream",
     "text": [
      "(no valid events for icustay_id: 288082\n",
      "\n",
      "(no data for this episode 1 of icustay_id: 288082\n",
      "\n"
     ]
    },
    {
     "name": "stderr",
     "output_type": "stream",
     "text": [
      "Iterating over stays:  85%|███████▋ | 45306/53333 [1:57:15<12:42, 10.53it/s]"
     ]
    },
    {
     "name": "stdout",
     "output_type": "stream",
     "text": [
      "(no valid events for icustay_id: 295472\n",
      "\n",
      "(no data for this episode 1 of icustay_id: 295472\n",
      "\n"
     ]
    },
    {
     "name": "stderr",
     "output_type": "stream",
     "text": [
      "Iterating over stays:  85%|███████▋ | 45366/53333 [1:57:22<19:33,  6.79it/s]"
     ]
    },
    {
     "name": "stdout",
     "output_type": "stream",
     "text": [
      "(no valid events for icustay_id: 207172\n",
      "\n",
      "(no data for this episode 1 of icustay_id: 207172\n",
      "\n"
     ]
    },
    {
     "name": "stderr",
     "output_type": "stream",
     "text": [
      "Iterating over stays:  85%|███████▋ | 45481/53333 [1:57:45<13:35,  9.63it/s]"
     ]
    },
    {
     "name": "stdout",
     "output_type": "stream",
     "text": [
      "(no valid events for icustay_id: 276257\n",
      "\n",
      "(no data for this episode 1 of icustay_id: 276257\n",
      "\n"
     ]
    },
    {
     "name": "stderr",
     "output_type": "stream",
     "text": [
      "Iterating over stays:  85%|███████▋ | 45524/53333 [1:57:50<13:35,  9.58it/s]"
     ]
    },
    {
     "name": "stdout",
     "output_type": "stream",
     "text": [
      "(no valid events for icustay_id: 261979\n",
      "\n",
      "(no data for this episode 1 of icustay_id: 261979\n",
      "\n"
     ]
    },
    {
     "name": "stderr",
     "output_type": "stream",
     "text": [
      "Iterating over stays:  85%|███████▋ | 45533/53333 [1:57:51<16:28,  7.89it/s]"
     ]
    },
    {
     "name": "stdout",
     "output_type": "stream",
     "text": [
      "(no valid events for icustay_id: 259838\n",
      "\n",
      "(no data for this episode 1 of icustay_id: 259838\n",
      "\n"
     ]
    },
    {
     "name": "stderr",
     "output_type": "stream",
     "text": [
      "Iterating over stays:  86%|███████▋ | 45614/53333 [1:58:02<13:20,  9.64it/s]"
     ]
    },
    {
     "name": "stdout",
     "output_type": "stream",
     "text": [
      "(no valid events for icustay_id: 289994\n",
      "\n",
      "(no data for this episode 1 of icustay_id: 289994\n",
      "\n"
     ]
    },
    {
     "name": "stderr",
     "output_type": "stream",
     "text": [
      "Iterating over stays:  86%|█████▉ | 45666/53333 [1:58:13<1:36:32,  1.32it/s]"
     ]
    },
    {
     "name": "stdout",
     "output_type": "stream",
     "text": [
      "(no valid events for icustay_id: 230789\n",
      "\n",
      "(no data for this episode 1 of icustay_id: 230789\n",
      "\n"
     ]
    },
    {
     "name": "stderr",
     "output_type": "stream",
     "text": [
      "Iterating over stays:  86%|███████▋ | 45682/53333 [1:58:18<19:34,  6.51it/s]"
     ]
    },
    {
     "name": "stdout",
     "output_type": "stream",
     "text": [
      "(no valid events for icustay_id: 286816\n",
      "\n",
      "(no data for this episode 1 of icustay_id: 286816\n",
      "\n"
     ]
    },
    {
     "name": "stderr",
     "output_type": "stream",
     "text": [
      "Iterating over stays:  86%|███████▋ | 45739/53333 [1:58:25<10:54, 11.59it/s]"
     ]
    },
    {
     "name": "stdout",
     "output_type": "stream",
     "text": [
      "(no valid events for icustay_id: 248753\n",
      "\n",
      "(no data for this episode 1 of icustay_id: 248753\n",
      "\n"
     ]
    },
    {
     "name": "stderr",
     "output_type": "stream",
     "text": [
      "Iterating over stays:  86%|███████▋ | 45775/53333 [1:58:30<14:34,  8.65it/s]"
     ]
    },
    {
     "name": "stdout",
     "output_type": "stream",
     "text": [
      "(no valid events for icustay_id: 254943\n",
      "\n",
      "(no data for this episode 1 of icustay_id: 254943\n",
      "\n"
     ]
    },
    {
     "name": "stderr",
     "output_type": "stream",
     "text": [
      "Iterating over stays:  86%|███████▋ | 45792/53333 [1:58:32<15:28,  8.12it/s]"
     ]
    },
    {
     "name": "stdout",
     "output_type": "stream",
     "text": [
      "(no valid events for icustay_id: 297908\n",
      "\n",
      "(no data for this episode 1 of icustay_id: 297908\n",
      "\n",
      "(no valid events for icustay_id: 248424\n",
      "\n"
     ]
    },
    {
     "name": "stderr",
     "output_type": "stream",
     "text": [
      "Iterating over stays:  86%|███████▋ | 45794/53333 [1:58:32<19:14,  6.53it/s]"
     ]
    },
    {
     "name": "stdout",
     "output_type": "stream",
     "text": [
      "(no data for this episode 1 of icustay_id: 248424\n",
      "\n"
     ]
    },
    {
     "name": "stderr",
     "output_type": "stream",
     "text": [
      "Iterating over stays:  86%|███████▋ | 45807/53333 [1:58:34<15:04,  8.32it/s]"
     ]
    },
    {
     "name": "stdout",
     "output_type": "stream",
     "text": [
      "(no valid events for icustay_id: 238103\n",
      "\n",
      "(no data for this episode 1 of icustay_id: 238103\n",
      "\n"
     ]
    },
    {
     "name": "stderr",
     "output_type": "stream",
     "text": [
      "Iterating over stays:  86%|███████▋ | 45822/53333 [1:58:36<11:31, 10.87it/s]"
     ]
    },
    {
     "name": "stdout",
     "output_type": "stream",
     "text": [
      "(no valid events for icustay_id: 244940\n",
      "\n",
      "(no data for this episode 1 of icustay_id: 244940\n",
      "\n"
     ]
    },
    {
     "name": "stderr",
     "output_type": "stream",
     "text": [
      "Iterating over stays:  86%|███████▋ | 45910/53333 [1:58:49<53:49,  2.30it/s]"
     ]
    },
    {
     "name": "stdout",
     "output_type": "stream",
     "text": [
      "(no valid events for icustay_id: 273229\n",
      "\n",
      "(no data for this episode 1 of icustay_id: 273229\n",
      "\n"
     ]
    },
    {
     "name": "stderr",
     "output_type": "stream",
     "text": [
      "Iterating over stays:  86%|███████▊ | 46007/53333 [1:59:07<18:25,  6.62it/s]"
     ]
    },
    {
     "name": "stdout",
     "output_type": "stream",
     "text": [
      "(no valid events for icustay_id: 285176\n",
      "\n",
      "(no data for this episode 1 of icustay_id: 285176\n",
      "\n"
     ]
    },
    {
     "name": "stderr",
     "output_type": "stream",
     "text": [
      "Iterating over stays:  86%|███████▊ | 46012/53333 [1:59:08<13:25,  9.09it/s]"
     ]
    },
    {
     "name": "stdout",
     "output_type": "stream",
     "text": [
      "(no valid events for icustay_id: 211241\n",
      "\n",
      "(no data for this episode 1 of icustay_id: 211241\n",
      "\n"
     ]
    },
    {
     "name": "stderr",
     "output_type": "stream",
     "text": [
      "Iterating over stays:  86%|███████▊ | 46026/53333 [1:59:09<10:49, 11.25it/s]"
     ]
    },
    {
     "name": "stdout",
     "output_type": "stream",
     "text": [
      "(no valid events for icustay_id: 218784\n",
      "\n",
      "(no data for this episode 1 of icustay_id: 218784\n",
      "\n"
     ]
    },
    {
     "name": "stderr",
     "output_type": "stream",
     "text": [
      "Iterating over stays:  86%|███████▊ | 46053/53333 [1:59:13<13:46,  8.81it/s]"
     ]
    },
    {
     "name": "stdout",
     "output_type": "stream",
     "text": [
      "(no valid events for icustay_id: 272578\n",
      "\n",
      "(no data for this episode 1 of icustay_id: 272578\n",
      "\n"
     ]
    },
    {
     "name": "stderr",
     "output_type": "stream",
     "text": [
      "Iterating over stays:  87%|██████ | 46155/53333 [1:59:30<1:35:37,  1.25it/s]"
     ]
    },
    {
     "name": "stdout",
     "output_type": "stream",
     "text": [
      "(no valid events for icustay_id: 282036\n",
      "\n",
      "(no data for this episode 1 of icustay_id: 282036\n",
      "\n"
     ]
    },
    {
     "name": "stderr",
     "output_type": "stream",
     "text": [
      "Iterating over stays:  87%|███████▊ | 46234/53333 [1:59:44<16:21,  7.23it/s]"
     ]
    },
    {
     "name": "stdout",
     "output_type": "stream",
     "text": [
      "(no valid events for icustay_id: 251892\n",
      "\n",
      "(no data for this episode 1 of icustay_id: 251892\n",
      "\n",
      "(no valid events for icustay_id: 282383\n",
      "\n",
      "(no data for this episode 1 of icustay_id: 282383\n",
      "\n"
     ]
    },
    {
     "name": "stderr",
     "output_type": "stream",
     "text": [
      "Iterating over stays:  87%|███████▊ | 46343/53333 [1:59:58<14:37,  7.96it/s]"
     ]
    },
    {
     "name": "stdout",
     "output_type": "stream",
     "text": [
      "(no valid events for icustay_id: 275116\n",
      "\n",
      "(no data for this episode 1 of icustay_id: 275116\n",
      "\n"
     ]
    },
    {
     "name": "stderr",
     "output_type": "stream",
     "text": [
      "Iterating over stays:  87%|███████▊ | 46350/53333 [1:59:59<12:34,  9.25it/s]"
     ]
    },
    {
     "name": "stdout",
     "output_type": "stream",
     "text": [
      "(no valid events for icustay_id: 265366\n",
      "\n",
      "(no data for this episode 1 of icustay_id: 265366\n",
      "\n"
     ]
    },
    {
     "name": "stderr",
     "output_type": "stream",
     "text": [
      "Iterating over stays:  87%|███████▊ | 46483/53333 [2:00:24<15:31,  7.36it/s]"
     ]
    },
    {
     "name": "stdout",
     "output_type": "stream",
     "text": [
      "(no valid events for icustay_id: 293714\n",
      "\n",
      "(no data for this episode 1 of icustay_id: 293714\n",
      "\n"
     ]
    },
    {
     "name": "stderr",
     "output_type": "stream",
     "text": [
      "Iterating over stays:  87%|███████▊ | 46595/53333 [2:00:38<13:34,  8.27it/s]"
     ]
    },
    {
     "name": "stdout",
     "output_type": "stream",
     "text": [
      "(no valid events for icustay_id: 265225\n",
      "\n",
      "(no data for this episode 1 of icustay_id: 265225\n",
      "\n"
     ]
    },
    {
     "name": "stderr",
     "output_type": "stream",
     "text": [
      "Iterating over stays:  88%|███████▉ | 46685/53333 [2:00:59<16:37,  6.66it/s]"
     ]
    },
    {
     "name": "stdout",
     "output_type": "stream",
     "text": [
      "(no valid events for icustay_id: 297722\n",
      "\n",
      "(no data for this episode 1 of icustay_id: 297722\n",
      "\n"
     ]
    },
    {
     "name": "stderr",
     "output_type": "stream",
     "text": [
      "Iterating over stays:  88%|███████▉ | 46719/53333 [2:01:03<11:21,  9.70it/s]"
     ]
    },
    {
     "name": "stdout",
     "output_type": "stream",
     "text": [
      "(no valid events for icustay_id: 255093\n",
      "\n",
      "(no data for this episode 1 of icustay_id: 255093\n",
      "\n"
     ]
    },
    {
     "name": "stderr",
     "output_type": "stream",
     "text": [
      "Iterating over stays:  88%|███████▉ | 46737/53333 [2:01:05<12:39,  8.69it/s]"
     ]
    },
    {
     "name": "stdout",
     "output_type": "stream",
     "text": [
      "(no valid events for icustay_id: 233712\n",
      "\n",
      "(no data for this episode 1 of icustay_id: 233712\n",
      "\n"
     ]
    },
    {
     "name": "stderr",
     "output_type": "stream",
     "text": [
      "Iterating over stays:  88%|███████▉ | 46757/53333 [2:01:07<10:08, 10.81it/s]"
     ]
    },
    {
     "name": "stdout",
     "output_type": "stream",
     "text": [
      "(no valid events for icustay_id: 215403\n",
      "\n",
      "(no data for this episode 1 of icustay_id: 215403\n",
      "\n"
     ]
    },
    {
     "name": "stderr",
     "output_type": "stream",
     "text": [
      "Iterating over stays:  88%|███████▉ | 46829/53333 [2:01:22<23:39,  4.58it/s]"
     ]
    },
    {
     "name": "stdout",
     "output_type": "stream",
     "text": [
      "(no valid events for icustay_id: 251291\n",
      "\n",
      "(no data for this episode 1 of icustay_id: 251291\n",
      "\n"
     ]
    },
    {
     "name": "stderr",
     "output_type": "stream",
     "text": [
      "Iterating over stays:  88%|███████▉ | 47006/53333 [2:01:51<10:41,  9.87it/s]"
     ]
    },
    {
     "name": "stdout",
     "output_type": "stream",
     "text": [
      "(no valid events for icustay_id: 249440\n",
      "\n",
      "(no data for this episode 1 of icustay_id: 249440\n",
      "\n"
     ]
    },
    {
     "name": "stderr",
     "output_type": "stream",
     "text": [
      "Iterating over stays:  88%|███████▉ | 47116/53333 [2:02:03<11:45,  8.81it/s]"
     ]
    },
    {
     "name": "stdout",
     "output_type": "stream",
     "text": [
      "(no valid events for icustay_id: 206062\n",
      "\n",
      "(no data for this episode 1 of icustay_id: 206062\n",
      "\n"
     ]
    },
    {
     "name": "stderr",
     "output_type": "stream",
     "text": [
      "Iterating over stays:  88%|███████▉ | 47131/53333 [2:02:05<13:15,  7.80it/s]"
     ]
    },
    {
     "name": "stdout",
     "output_type": "stream",
     "text": [
      "(no valid events for icustay_id: 239005\n",
      "\n",
      "(no data for this episode 1 of icustay_id: 239005\n",
      "\n"
     ]
    },
    {
     "name": "stderr",
     "output_type": "stream",
     "text": [
      "Iterating over stays:  88%|███████▉ | 47160/53333 [2:02:09<11:14,  9.15it/s]"
     ]
    },
    {
     "name": "stdout",
     "output_type": "stream",
     "text": [
      "(no valid events for icustay_id: 224588\n",
      "\n",
      "(no data for this episode 1 of icustay_id: 224588\n",
      "\n"
     ]
    },
    {
     "name": "stderr",
     "output_type": "stream",
     "text": [
      "Iterating over stays:  88%|███████▉ | 47163/53333 [2:02:09<10:30,  9.78it/s]"
     ]
    },
    {
     "name": "stdout",
     "output_type": "stream",
     "text": [
      "(no valid events for icustay_id: 298077\n",
      "\n",
      "(no data for this episode 1 of icustay_id: 298077\n",
      "\n"
     ]
    },
    {
     "name": "stderr",
     "output_type": "stream",
     "text": [
      "Iterating over stays:  88%|███████▉ | 47169/53333 [2:02:10<14:30,  7.08it/s]"
     ]
    },
    {
     "name": "stdout",
     "output_type": "stream",
     "text": [
      "(no valid events for icustay_id: 222558\n",
      "\n",
      "(no data for this episode 1 of icustay_id: 222558\n",
      "\n"
     ]
    },
    {
     "name": "stderr",
     "output_type": "stream",
     "text": [
      "Iterating over stays:  89%|███████▉ | 47217/53333 [2:02:25<15:52,  6.42it/s]"
     ]
    },
    {
     "name": "stdout",
     "output_type": "stream",
     "text": [
      "(no valid events for icustay_id: 239983\n",
      "\n",
      "(no data for this episode 1 of icustay_id: 239983\n",
      "\n"
     ]
    },
    {
     "name": "stderr",
     "output_type": "stream",
     "text": [
      "Iterating over stays:  89%|███████▉ | 47328/53333 [2:02:40<13:48,  7.25it/s]"
     ]
    },
    {
     "name": "stdout",
     "output_type": "stream",
     "text": [
      "(no valid events for icustay_id: 244229\n",
      "\n",
      "(no data for this episode 1 of icustay_id: 244229\n",
      "\n"
     ]
    },
    {
     "name": "stderr",
     "output_type": "stream",
     "text": [
      "Iterating over stays:  89%|███████▉ | 47374/53333 [2:02:45<09:09, 10.84it/s]"
     ]
    },
    {
     "name": "stdout",
     "output_type": "stream",
     "text": [
      "(no valid events for icustay_id: 294405\n",
      "\n",
      "(no data for this episode 1 of icustay_id: 294405\n",
      "\n",
      "(no valid events for icustay_id: 241966\n",
      "\n",
      "(no data for this episode 1 of icustay_id: 241966\n",
      "\n"
     ]
    },
    {
     "name": "stderr",
     "output_type": "stream",
     "text": [
      "Iterating over stays:  89%|███████▉ | 47403/53333 [2:02:48<10:32,  9.38it/s]"
     ]
    },
    {
     "name": "stdout",
     "output_type": "stream",
     "text": [
      "(no valid events for icustay_id: 296026\n",
      "\n",
      "(no data for this episode 1 of icustay_id: 296026\n",
      "\n"
     ]
    },
    {
     "name": "stderr",
     "output_type": "stream",
     "text": [
      "Iterating over stays:  89%|████████ | 47446/53333 [2:02:54<13:10,  7.45it/s]"
     ]
    },
    {
     "name": "stdout",
     "output_type": "stream",
     "text": [
      "(no valid events for icustay_id: 246238\n",
      "\n",
      "(no data for this episode 1 of icustay_id: 246238\n",
      "\n"
     ]
    },
    {
     "name": "stderr",
     "output_type": "stream",
     "text": [
      "Iterating over stays:  89%|████████ | 47526/53333 [2:03:11<10:34,  9.15it/s]"
     ]
    },
    {
     "name": "stdout",
     "output_type": "stream",
     "text": [
      "(no valid events for icustay_id: 291202\n",
      "\n",
      "(no data for this episode 1 of icustay_id: 291202\n",
      "\n"
     ]
    },
    {
     "name": "stderr",
     "output_type": "stream",
     "text": [
      "Iterating over stays:  89%|████████ | 47643/53333 [2:03:27<11:52,  7.99it/s]"
     ]
    },
    {
     "name": "stdout",
     "output_type": "stream",
     "text": [
      "(no valid events for icustay_id: 230216\n",
      "\n",
      "(no data for this episode 1 of icustay_id: 230216\n",
      "\n"
     ]
    },
    {
     "name": "stderr",
     "output_type": "stream",
     "text": [
      "Iterating over stays:  89%|████████ | 47707/53333 [2:03:44<11:44,  7.99it/s]"
     ]
    },
    {
     "name": "stdout",
     "output_type": "stream",
     "text": [
      "(no valid events for icustay_id: 242977\n",
      "\n",
      "(no data for this episode 1 of icustay_id: 242977\n",
      "\n"
     ]
    },
    {
     "name": "stderr",
     "output_type": "stream",
     "text": [
      "Iterating over stays:  89%|████████ | 47711/53333 [2:03:44<09:28,  9.89it/s]"
     ]
    },
    {
     "name": "stdout",
     "output_type": "stream",
     "text": [
      "(no valid events for icustay_id: 255490\n",
      "\n",
      "(no data for this episode 1 of icustay_id: 255490\n",
      "\n"
     ]
    },
    {
     "name": "stderr",
     "output_type": "stream",
     "text": [
      "Iterating over stays:  90%|████████ | 47807/53333 [2:03:56<10:19,  8.92it/s]"
     ]
    },
    {
     "name": "stdout",
     "output_type": "stream",
     "text": [
      "(no valid events for icustay_id: 206827\n",
      "\n",
      "(no data for this episode 1 of icustay_id: 206827\n",
      "\n"
     ]
    },
    {
     "name": "stderr",
     "output_type": "stream",
     "text": [
      "Iterating over stays:  90%|████████ | 47854/53333 [2:04:01<10:37,  8.59it/s]"
     ]
    },
    {
     "name": "stdout",
     "output_type": "stream",
     "text": [
      "(no valid events for icustay_id: 267267\n",
      "\n",
      "(no data for this episode 1 of icustay_id: 267267\n",
      "\n"
     ]
    },
    {
     "name": "stderr",
     "output_type": "stream",
     "text": [
      "Iterating over stays:  90%|████████ | 47918/53333 [2:04:19<14:19,  6.30it/s]"
     ]
    },
    {
     "name": "stdout",
     "output_type": "stream",
     "text": [
      "(no valid events for icustay_id: 270395\n",
      "\n",
      "(no data for this episode 1 of icustay_id: 270395\n",
      "\n"
     ]
    },
    {
     "name": "stderr",
     "output_type": "stream",
     "text": [
      "Iterating over stays:  90%|████████ | 47938/53333 [2:04:21<08:35, 10.46it/s]"
     ]
    },
    {
     "name": "stdout",
     "output_type": "stream",
     "text": [
      "(no valid events for icustay_id: 259797\n",
      "\n",
      "(no data for this episode 1 of icustay_id: 259797\n",
      "\n"
     ]
    },
    {
     "name": "stderr",
     "output_type": "stream",
     "text": [
      "Iterating over stays:  90%|████████ | 47946/53333 [2:04:22<08:40, 10.35it/s]"
     ]
    },
    {
     "name": "stdout",
     "output_type": "stream",
     "text": [
      "(no valid events for icustay_id: 238871\n",
      "\n",
      "(no data for this episode 1 of icustay_id: 238871\n",
      "\n"
     ]
    },
    {
     "name": "stderr",
     "output_type": "stream",
     "text": [
      "Iterating over stays:  90%|████████ | 48082/53333 [2:04:39<08:26, 10.36it/s]"
     ]
    },
    {
     "name": "stdout",
     "output_type": "stream",
     "text": [
      "(no valid events for icustay_id: 213725\n",
      "\n",
      "(no data for this episode 1 of icustay_id: 213725\n",
      "\n"
     ]
    },
    {
     "name": "stderr",
     "output_type": "stream",
     "text": [
      "Iterating over stays:  90%|████████ | 48119/53333 [2:04:51<25:09,  3.45it/s]"
     ]
    },
    {
     "name": "stdout",
     "output_type": "stream",
     "text": [
      "(no valid events for icustay_id: 288379\n",
      "\n",
      "(no data for this episode 1 of icustay_id: 288379\n",
      "\n"
     ]
    },
    {
     "name": "stderr",
     "output_type": "stream",
     "text": [
      "Iterating over stays:  90%|████████▏| 48159/53333 [2:04:57<15:13,  5.66it/s]"
     ]
    },
    {
     "name": "stdout",
     "output_type": "stream",
     "text": [
      "(no valid events for icustay_id: 224753\n",
      "\n",
      "(no data for this episode 1 of icustay_id: 224753\n",
      "\n"
     ]
    },
    {
     "name": "stderr",
     "output_type": "stream",
     "text": [
      "Iterating over stays:  90%|████████▏| 48208/53333 [2:05:03<10:07,  8.43it/s]"
     ]
    },
    {
     "name": "stdout",
     "output_type": "stream",
     "text": [
      "(no valid events for icustay_id: 297080\n",
      "\n",
      "(no data for this episode 1 of icustay_id: 297080\n",
      "\n"
     ]
    },
    {
     "name": "stderr",
     "output_type": "stream",
     "text": [
      "Iterating over stays:  91%|████████▏| 48275/53333 [2:05:12<11:34,  7.29it/s]"
     ]
    },
    {
     "name": "stdout",
     "output_type": "stream",
     "text": [
      "(no valid events for icustay_id: 293535\n",
      "\n",
      "(no data for this episode 1 of icustay_id: 293535\n",
      "\n"
     ]
    },
    {
     "name": "stderr",
     "output_type": "stream",
     "text": [
      "Iterating over stays:  91%|████████▏| 48308/53333 [2:05:17<09:38,  8.69it/s]"
     ]
    },
    {
     "name": "stdout",
     "output_type": "stream",
     "text": [
      "(no valid events for icustay_id: 287989\n",
      "\n",
      "(no data for this episode 1 of icustay_id: 287989\n",
      "\n"
     ]
    },
    {
     "name": "stderr",
     "output_type": "stream",
     "text": [
      "Iterating over stays:  91%|████████▏| 48363/53333 [2:05:30<16:13,  5.11it/s]"
     ]
    },
    {
     "name": "stdout",
     "output_type": "stream",
     "text": [
      "(no valid events for icustay_id: 273899\n",
      "\n",
      "(no data for this episode 1 of icustay_id: 273899\n",
      "\n"
     ]
    },
    {
     "name": "stderr",
     "output_type": "stream",
     "text": [
      "Iterating over stays:  91%|████████▏| 48448/53333 [2:05:40<09:32,  8.54it/s]"
     ]
    },
    {
     "name": "stdout",
     "output_type": "stream",
     "text": [
      "(no valid events for icustay_id: 243811\n",
      "\n",
      "(no data for this episode 1 of icustay_id: 243811\n",
      "\n"
     ]
    },
    {
     "name": "stderr",
     "output_type": "stream",
     "text": [
      "Iterating over stays:  91%|████████▏| 48500/53333 [2:05:47<09:53,  8.15it/s]"
     ]
    },
    {
     "name": "stdout",
     "output_type": "stream",
     "text": [
      "(no valid events for icustay_id: 271088\n",
      "\n",
      "(no data for this episode 1 of icustay_id: 271088\n",
      "\n"
     ]
    },
    {
     "name": "stderr",
     "output_type": "stream",
     "text": [
      "Iterating over stays:  91%|████████▏| 48519/53333 [2:05:50<14:39,  5.47it/s]"
     ]
    },
    {
     "name": "stdout",
     "output_type": "stream",
     "text": [
      "(no valid events for icustay_id: 200549\n",
      "\n",
      "(no data for this episode 1 of icustay_id: 200549\n",
      "\n"
     ]
    },
    {
     "name": "stderr",
     "output_type": "stream",
     "text": [
      "Iterating over stays:  91%|████████▏| 48523/53333 [2:05:51<12:59,  6.17it/s]"
     ]
    },
    {
     "name": "stdout",
     "output_type": "stream",
     "text": [
      "(no valid events for icustay_id: 229429\n",
      "\n",
      "(no data for this episode 1 of icustay_id: 229429\n",
      "\n"
     ]
    },
    {
     "name": "stderr",
     "output_type": "stream",
     "text": [
      "Iterating over stays:  91%|████████▏| 48637/53333 [2:06:12<08:18,  9.42it/s]"
     ]
    },
    {
     "name": "stdout",
     "output_type": "stream",
     "text": [
      "(no valid events for icustay_id: 229370\n",
      "\n",
      "(no data for this episode 1 of icustay_id: 229370\n",
      "\n"
     ]
    },
    {
     "name": "stderr",
     "output_type": "stream",
     "text": [
      "Iterating over stays:  91%|████████▏| 48648/53333 [2:06:14<09:07,  8.56it/s]"
     ]
    },
    {
     "name": "stdout",
     "output_type": "stream",
     "text": [
      "(no valid events for icustay_id: 277460\n",
      "\n",
      "(no data for this episode 1 of icustay_id: 277460\n",
      "\n"
     ]
    },
    {
     "name": "stderr",
     "output_type": "stream",
     "text": [
      "Iterating over stays:  91%|████████▏| 48651/53333 [2:06:14<09:05,  8.58it/s]"
     ]
    },
    {
     "name": "stdout",
     "output_type": "stream",
     "text": [
      "(no valid events for icustay_id: 226237\n",
      "\n",
      "(no data for this episode 1 of icustay_id: 226237\n",
      "\n"
     ]
    },
    {
     "name": "stderr",
     "output_type": "stream",
     "text": [
      "\r",
      "Iterating over stays:  91%|████████▏| 48653/53333 [2:06:15<07:49,  9.97it/s]"
     ]
    },
    {
     "name": "stdout",
     "output_type": "stream",
     "text": [
      "(no valid events for icustay_id: 297342\n",
      "\n",
      "(no data for this episode 1 of icustay_id: 297342\n",
      "\n"
     ]
    },
    {
     "name": "stderr",
     "output_type": "stream",
     "text": [
      "Iterating over stays:  91%|████████▏| 48666/53333 [2:06:16<06:50, 11.37it/s]"
     ]
    },
    {
     "name": "stdout",
     "output_type": "stream",
     "text": [
      "(no valid events for icustay_id: 286938\n",
      "\n",
      "(no data for this episode 1 of icustay_id: 286938\n",
      "\n"
     ]
    },
    {
     "name": "stderr",
     "output_type": "stream",
     "text": [
      "Iterating over stays:  91%|████████▏| 48736/53333 [2:06:25<07:34, 10.11it/s]"
     ]
    },
    {
     "name": "stdout",
     "output_type": "stream",
     "text": [
      "(no valid events for icustay_id: 255693\n",
      "\n",
      "(no data for this episode 1 of icustay_id: 255693\n",
      "\n"
     ]
    },
    {
     "name": "stderr",
     "output_type": "stream",
     "text": [
      "Iterating over stays:  91%|████████▏| 48767/53333 [2:06:28<08:42,  8.74it/s]"
     ]
    },
    {
     "name": "stdout",
     "output_type": "stream",
     "text": [
      "(no valid events for icustay_id: 244063\n",
      "\n",
      "(no data for this episode 1 of icustay_id: 244063\n",
      "\n"
     ]
    },
    {
     "name": "stderr",
     "output_type": "stream",
     "text": [
      "Iterating over stays:  91%|████████▏| 48778/53333 [2:06:29<09:22,  8.10it/s]"
     ]
    },
    {
     "name": "stdout",
     "output_type": "stream",
     "text": [
      "(no valid events for icustay_id: 251266\n",
      "\n",
      "(no data for this episode 1 of icustay_id: 251266\n",
      "\n"
     ]
    },
    {
     "name": "stderr",
     "output_type": "stream",
     "text": [
      "Iterating over stays:  92%|████████▏| 48805/53333 [2:06:32<08:43,  8.65it/s]"
     ]
    },
    {
     "name": "stdout",
     "output_type": "stream",
     "text": [
      "(no valid events for icustay_id: 281329\n",
      "\n",
      "(no data for this episode 1 of icustay_id: 281329\n",
      "\n"
     ]
    },
    {
     "name": "stderr",
     "output_type": "stream",
     "text": [
      "Iterating over stays:  92%|████████▏| 48845/53333 [2:06:37<07:49,  9.56it/s]"
     ]
    },
    {
     "name": "stdout",
     "output_type": "stream",
     "text": [
      "(no valid events for icustay_id: 213490\n",
      "\n",
      "(no data for this episode 1 of icustay_id: 213490\n",
      "\n"
     ]
    },
    {
     "name": "stderr",
     "output_type": "stream",
     "text": [
      "Iterating over stays:  92%|████████▎| 48942/53333 [2:06:58<12:06,  6.05it/s]"
     ]
    },
    {
     "name": "stdout",
     "output_type": "stream",
     "text": [
      "(no valid events for icustay_id: 212831\n",
      "\n",
      "(no data for this episode 1 of icustay_id: 212831\n",
      "\n"
     ]
    },
    {
     "name": "stderr",
     "output_type": "stream",
     "text": [
      "Iterating over stays:  92%|████████▎| 49011/53333 [2:07:07<07:42,  9.34it/s]"
     ]
    },
    {
     "name": "stdout",
     "output_type": "stream",
     "text": [
      "(no valid events for icustay_id: 263799\n",
      "\n",
      "(no data for this episode 1 of icustay_id: 263799\n",
      "\n"
     ]
    },
    {
     "name": "stderr",
     "output_type": "stream",
     "text": [
      "Iterating over stays:  92%|████████▎| 49107/53333 [2:07:27<13:13,  5.33it/s]"
     ]
    },
    {
     "name": "stdout",
     "output_type": "stream",
     "text": [
      "(no valid events for icustay_id: 225435\n",
      "\n",
      "(no data for this episode 1 of icustay_id: 225435\n",
      "\n"
     ]
    },
    {
     "name": "stderr",
     "output_type": "stream",
     "text": [
      "Iterating over stays:  93%|████████▎| 49416/53333 [2:08:12<07:44,  8.44it/s]"
     ]
    },
    {
     "name": "stdout",
     "output_type": "stream",
     "text": [
      "(no valid events for icustay_id: 282135\n",
      "\n",
      "(no data for this episode 1 of icustay_id: 282135\n",
      "\n"
     ]
    },
    {
     "name": "stderr",
     "output_type": "stream",
     "text": [
      "Iterating over stays:  93%|████████▎| 49457/53333 [2:08:17<08:47,  7.35it/s]"
     ]
    },
    {
     "name": "stdout",
     "output_type": "stream",
     "text": [
      "(no valid events for icustay_id: 237232\n",
      "\n",
      "(no data for this episode 1 of icustay_id: 237232\n",
      "\n"
     ]
    },
    {
     "name": "stderr",
     "output_type": "stream",
     "text": [
      "Iterating over stays:  93%|████████▎| 49507/53333 [2:08:23<07:42,  8.27it/s]"
     ]
    },
    {
     "name": "stdout",
     "output_type": "stream",
     "text": [
      "(no valid events for icustay_id: 211488\n",
      "\n",
      "(no data for this episode 1 of icustay_id: 211488\n",
      "\n"
     ]
    },
    {
     "name": "stderr",
     "output_type": "stream",
     "text": [
      "Iterating over stays:  93%|████████▎| 49562/53333 [2:08:38<08:26,  7.44it/s]"
     ]
    },
    {
     "name": "stdout",
     "output_type": "stream",
     "text": [
      "(no valid events for icustay_id: 222333\n",
      "\n",
      "(no data for this episode 1 of icustay_id: 222333\n",
      "\n"
     ]
    },
    {
     "name": "stderr",
     "output_type": "stream",
     "text": [
      "Iterating over stays:  93%|████████▎| 49588/53333 [2:08:42<08:39,  7.21it/s]"
     ]
    },
    {
     "name": "stdout",
     "output_type": "stream",
     "text": [
      "(no valid events for icustay_id: 201328\n",
      "\n",
      "(no data for this episode 1 of icustay_id: 201328\n",
      "\n"
     ]
    },
    {
     "name": "stderr",
     "output_type": "stream",
     "text": [
      "Iterating over stays:  93%|████████▎| 49602/53333 [2:08:43<08:23,  7.42it/s]"
     ]
    },
    {
     "name": "stdout",
     "output_type": "stream",
     "text": [
      "(no valid events for icustay_id: 281251\n",
      "\n",
      "(no data for this episode 1 of icustay_id: 281251\n",
      "\n"
     ]
    },
    {
     "name": "stderr",
     "output_type": "stream",
     "text": [
      "Iterating over stays:  93%|████████▎| 49611/53333 [2:08:44<06:34,  9.43it/s]"
     ]
    },
    {
     "name": "stdout",
     "output_type": "stream",
     "text": [
      "(no valid events for icustay_id: 224816\n",
      "\n",
      "(no data for this episode 1 of icustay_id: 224816\n",
      "\n"
     ]
    },
    {
     "name": "stderr",
     "output_type": "stream",
     "text": [
      "Iterating over stays:  93%|████████▎| 49620/53333 [2:08:45<06:53,  8.98it/s]"
     ]
    },
    {
     "name": "stdout",
     "output_type": "stream",
     "text": [
      "(no valid events for icustay_id: 264448\n",
      "\n",
      "(no data for this episode 1 of icustay_id: 264448\n",
      "\n"
     ]
    },
    {
     "name": "stderr",
     "output_type": "stream",
     "text": [
      "Iterating over stays:  94%|████████▍| 49885/53333 [2:09:26<06:02,  9.51it/s]"
     ]
    },
    {
     "name": "stdout",
     "output_type": "stream",
     "text": [
      "(no valid events for icustay_id: 246694\n",
      "\n",
      "(no data for this episode 1 of icustay_id: 246694\n",
      "\n"
     ]
    },
    {
     "name": "stderr",
     "output_type": "stream",
     "text": [
      "Iterating over stays:  94%|████████▍| 49902/53333 [2:09:29<07:50,  7.29it/s]"
     ]
    },
    {
     "name": "stdout",
     "output_type": "stream",
     "text": [
      "(no valid events for icustay_id: 266149\n",
      "\n",
      "(no data for this episode 1 of icustay_id: 266149\n",
      "\n"
     ]
    },
    {
     "name": "stderr",
     "output_type": "stream",
     "text": [
      "Iterating over stays:  94%|████████▍| 49925/53333 [2:09:32<05:32, 10.26it/s]"
     ]
    },
    {
     "name": "stdout",
     "output_type": "stream",
     "text": [
      "(no valid events for icustay_id: 249654\n",
      "\n",
      "(no data for this episode 1 of icustay_id: 249654\n",
      "\n"
     ]
    },
    {
     "name": "stderr",
     "output_type": "stream",
     "text": [
      "Iterating over stays:  94%|████████▍| 49942/53333 [2:09:33<05:11, 10.87it/s]"
     ]
    },
    {
     "name": "stdout",
     "output_type": "stream",
     "text": [
      "(no valid events for icustay_id: 245800\n",
      "\n",
      "(no data for this episode 1 of icustay_id: 245800\n",
      "\n"
     ]
    },
    {
     "name": "stderr",
     "output_type": "stream",
     "text": [
      "\r",
      "Iterating over stays:  94%|████████▍| 49944/53333 [2:09:34<05:42,  9.91it/s]"
     ]
    },
    {
     "name": "stdout",
     "output_type": "stream",
     "text": [
      "(no valid events for icustay_id: 239212\n",
      "\n",
      "(no data for this episode 1 of icustay_id: 239212\n",
      "\n"
     ]
    },
    {
     "name": "stderr",
     "output_type": "stream",
     "text": [
      "Iterating over stays:  94%|████████▍| 50080/53333 [2:09:59<07:19,  7.40it/s]"
     ]
    },
    {
     "name": "stdout",
     "output_type": "stream",
     "text": [
      "(no valid events for icustay_id: 294604\n",
      "\n",
      "(no data for this episode 1 of icustay_id: 294604\n",
      "\n"
     ]
    },
    {
     "name": "stderr",
     "output_type": "stream",
     "text": [
      "Iterating over stays:  94%|████████▍| 50116/53333 [2:10:04<06:35,  8.14it/s]"
     ]
    },
    {
     "name": "stdout",
     "output_type": "stream",
     "text": [
      "(no valid events for icustay_id: 235103\n",
      "\n",
      "(no data for this episode 1 of icustay_id: 235103\n",
      "\n"
     ]
    },
    {
     "name": "stderr",
     "output_type": "stream",
     "text": [
      "Iterating over stays:  94%|████████▍| 50183/53333 [2:10:13<06:15,  8.40it/s]"
     ]
    },
    {
     "name": "stdout",
     "output_type": "stream",
     "text": [
      "(no valid events for icustay_id: 246239\n",
      "\n",
      "(no data for this episode 1 of icustay_id: 246239\n",
      "\n"
     ]
    },
    {
     "name": "stderr",
     "output_type": "stream",
     "text": [
      "Iterating over stays:  95%|████████▌| 50431/53333 [2:10:56<36:27,  1.33it/s]"
     ]
    },
    {
     "name": "stdout",
     "output_type": "stream",
     "text": [
      "(no valid events for icustay_id: 252917\n",
      "\n",
      "(no data for this episode 1 of icustay_id: 252917\n",
      "\n"
     ]
    },
    {
     "name": "stderr",
     "output_type": "stream",
     "text": [
      "Iterating over stays:  95%|████████▌| 50467/53333 [2:10:59<04:46, 10.01it/s]"
     ]
    },
    {
     "name": "stdout",
     "output_type": "stream",
     "text": [
      "(no valid events for icustay_id: 294927\n",
      "\n",
      "(no data for this episode 1 of icustay_id: 294927\n",
      "\n"
     ]
    },
    {
     "name": "stderr",
     "output_type": "stream",
     "text": [
      "Iterating over stays:  95%|████████▌| 50497/53333 [2:11:05<05:16,  8.95it/s]"
     ]
    },
    {
     "name": "stdout",
     "output_type": "stream",
     "text": [
      "(no valid events for icustay_id: 258676\n",
      "\n",
      "(no data for this episode 1 of icustay_id: 258676\n",
      "\n"
     ]
    },
    {
     "name": "stderr",
     "output_type": "stream",
     "text": [
      "Iterating over stays:  95%|████████▌| 50539/53333 [2:11:09<05:08,  9.07it/s]"
     ]
    },
    {
     "name": "stdout",
     "output_type": "stream",
     "text": [
      "(no valid events for icustay_id: 282654\n",
      "\n",
      "(no data for this episode 1 of icustay_id: 282654\n",
      "\n",
      "(no valid events for icustay_id: 233292\n",
      "\n",
      "(no data for this episode 1 of icustay_id: 233292\n",
      "\n"
     ]
    },
    {
     "name": "stderr",
     "output_type": "stream",
     "text": [
      "Iterating over stays:  95%|████████▌| 50597/53333 [2:11:17<06:23,  7.13it/s]"
     ]
    },
    {
     "name": "stdout",
     "output_type": "stream",
     "text": [
      "(no valid events for icustay_id: 281422\n",
      "\n",
      "(no data for this episode 1 of icustay_id: 281422\n",
      "\n"
     ]
    },
    {
     "name": "stderr",
     "output_type": "stream",
     "text": [
      "Iterating over stays:  95%|████████▌| 50642/53333 [2:11:22<04:06, 10.92it/s]"
     ]
    },
    {
     "name": "stdout",
     "output_type": "stream",
     "text": [
      "(no valid events for icustay_id: 237896\n",
      "\n",
      "(no data for this episode 1 of icustay_id: 237896\n",
      "\n"
     ]
    },
    {
     "name": "stderr",
     "output_type": "stream",
     "text": [
      "Iterating over stays:  95%|████████▌| 50854/53333 [2:11:57<03:45, 11.00it/s]"
     ]
    },
    {
     "name": "stdout",
     "output_type": "stream",
     "text": [
      "(no valid events for icustay_id: 262657\n",
      "\n",
      "(no data for this episode 1 of icustay_id: 262657\n",
      "\n"
     ]
    },
    {
     "name": "stderr",
     "output_type": "stream",
     "text": [
      "Iterating over stays:  96%|████████▌| 51072/53333 [2:12:32<05:28,  6.88it/s]"
     ]
    },
    {
     "name": "stdout",
     "output_type": "stream",
     "text": [
      "(no valid events for icustay_id: 248312\n",
      "\n",
      "(no data for this episode 1 of icustay_id: 248312\n",
      "\n"
     ]
    },
    {
     "name": "stderr",
     "output_type": "stream",
     "text": [
      "Iterating over stays:  96%|████████▌| 51096/53333 [2:12:35<04:29,  8.30it/s]"
     ]
    },
    {
     "name": "stdout",
     "output_type": "stream",
     "text": [
      "(no valid events for icustay_id: 238551\n",
      "\n",
      "(no data for this episode 1 of icustay_id: 238551\n",
      "\n"
     ]
    },
    {
     "name": "stderr",
     "output_type": "stream",
     "text": [
      "Iterating over stays:  96%|████████▋| 51116/53333 [2:12:37<05:27,  6.77it/s]"
     ]
    },
    {
     "name": "stdout",
     "output_type": "stream",
     "text": [
      "(no valid events for icustay_id: 253659\n",
      "\n",
      "(no data for this episode 1 of icustay_id: 253659\n",
      "\n"
     ]
    },
    {
     "name": "stderr",
     "output_type": "stream",
     "text": [
      "Iterating over stays:  96%|████████▋| 51127/53333 [2:12:39<05:37,  6.54it/s]"
     ]
    },
    {
     "name": "stdout",
     "output_type": "stream",
     "text": [
      "(no valid events for icustay_id: 224290\n",
      "\n",
      "(no data for this episode 1 of icustay_id: 224290\n",
      "\n"
     ]
    },
    {
     "name": "stderr",
     "output_type": "stream",
     "text": [
      "Iterating over stays:  96%|████████▋| 51145/53333 [2:12:41<03:15, 11.18it/s]"
     ]
    },
    {
     "name": "stdout",
     "output_type": "stream",
     "text": [
      "(no valid events for icustay_id: 234067\n",
      "\n",
      "(no data for this episode 1 of icustay_id: 234067\n",
      "\n"
     ]
    },
    {
     "name": "stderr",
     "output_type": "stream",
     "text": [
      "Iterating over stays:  96%|████████▋| 51166/53333 [2:12:44<03:56,  9.18it/s]"
     ]
    },
    {
     "name": "stdout",
     "output_type": "stream",
     "text": [
      "(no valid events for icustay_id: 202014\n",
      "\n",
      "(no data for this episode 1 of icustay_id: 202014\n",
      "\n"
     ]
    },
    {
     "name": "stderr",
     "output_type": "stream",
     "text": [
      "Iterating over stays:  96%|████████▋| 51271/53333 [2:13:05<04:11,  8.19it/s]"
     ]
    },
    {
     "name": "stdout",
     "output_type": "stream",
     "text": [
      "(no valid events for icustay_id: 251614\n",
      "\n",
      "(no data for this episode 1 of icustay_id: 251614\n",
      "\n"
     ]
    },
    {
     "name": "stderr",
     "output_type": "stream",
     "text": [
      "Iterating over stays:  96%|████████▋| 51298/53333 [2:13:09<03:48,  8.90it/s]"
     ]
    },
    {
     "name": "stdout",
     "output_type": "stream",
     "text": [
      "(no valid events for icustay_id: 231141\n",
      "\n",
      "(no data for this episode 1 of icustay_id: 231141\n",
      "\n"
     ]
    },
    {
     "name": "stderr",
     "output_type": "stream",
     "text": [
      "Iterating over stays:  96%|████████▋| 51347/53333 [2:13:15<03:15, 10.16it/s]"
     ]
    },
    {
     "name": "stdout",
     "output_type": "stream",
     "text": [
      "(no valid events for icustay_id: 276175\n",
      "\n",
      "(no data for this episode 1 of icustay_id: 276175\n",
      "\n"
     ]
    },
    {
     "name": "stderr",
     "output_type": "stream",
     "text": [
      "Iterating over stays:  96%|████████▋| 51373/53333 [2:13:18<04:00,  8.14it/s]"
     ]
    },
    {
     "name": "stdout",
     "output_type": "stream",
     "text": [
      "(no valid events for icustay_id: 254884\n",
      "\n",
      "(no data for this episode 1 of icustay_id: 254884\n",
      "\n"
     ]
    },
    {
     "name": "stderr",
     "output_type": "stream",
     "text": [
      "Iterating over stays:  96%|████████▋| 51398/53333 [2:13:25<35:25,  1.10s/it]"
     ]
    },
    {
     "name": "stdout",
     "output_type": "stream",
     "text": [
      "(no valid events for icustay_id: 201949\n",
      "\n",
      "(no data for this episode 1 of icustay_id: 201949\n",
      "\n"
     ]
    },
    {
     "name": "stderr",
     "output_type": "stream",
     "text": [
      "Iterating over stays:  96%|████████▋| 51451/53333 [2:13:37<05:40,  5.52it/s]"
     ]
    },
    {
     "name": "stdout",
     "output_type": "stream",
     "text": [
      "(no valid events for icustay_id: 213508\n",
      "\n",
      "(no data for this episode 1 of icustay_id: 213508\n",
      "\n"
     ]
    },
    {
     "name": "stderr",
     "output_type": "stream",
     "text": [
      "Iterating over stays:  97%|████████▋| 51533/53333 [2:13:47<03:19,  9.03it/s]"
     ]
    },
    {
     "name": "stdout",
     "output_type": "stream",
     "text": [
      "(no valid events for icustay_id: 232941\n",
      "\n",
      "(no data for this episode 1 of icustay_id: 232941\n",
      "\n"
     ]
    },
    {
     "name": "stderr",
     "output_type": "stream",
     "text": [
      "Iterating over stays:  97%|████████▋| 51684/53333 [2:14:12<09:39,  2.85it/s]"
     ]
    },
    {
     "name": "stdout",
     "output_type": "stream",
     "text": [
      "(no valid events for icustay_id: 265694\n",
      "\n",
      "(no data for this episode 1 of icustay_id: 265694\n",
      "\n"
     ]
    },
    {
     "name": "stderr",
     "output_type": "stream",
     "text": [
      "Iterating over stays:  97%|████████▋| 51743/53333 [2:14:20<03:17,  8.03it/s]"
     ]
    },
    {
     "name": "stdout",
     "output_type": "stream",
     "text": [
      "(no valid events for icustay_id: 299622\n",
      "\n",
      "(no data for this episode 1 of icustay_id: 299622\n",
      "\n"
     ]
    },
    {
     "name": "stderr",
     "output_type": "stream",
     "text": [
      "Iterating over stays:  97%|████████▋| 51765/53333 [2:14:23<05:16,  4.96it/s]"
     ]
    },
    {
     "name": "stdout",
     "output_type": "stream",
     "text": [
      "(no valid events for icustay_id: 230457\n",
      "\n",
      "(no data for this episode 1 of icustay_id: 230457\n",
      "\n"
     ]
    },
    {
     "name": "stderr",
     "output_type": "stream",
     "text": [
      "Iterating over stays:  97%|████████▋| 51796/53333 [2:14:27<04:11,  6.10it/s]"
     ]
    },
    {
     "name": "stdout",
     "output_type": "stream",
     "text": [
      "(no valid events for icustay_id: 275252\n",
      "\n",
      "(no data for this episode 1 of icustay_id: 275252\n",
      "\n"
     ]
    },
    {
     "name": "stderr",
     "output_type": "stream",
     "text": [
      "Iterating over stays:  97%|████████▊| 51860/53333 [2:14:36<02:37,  9.36it/s]"
     ]
    },
    {
     "name": "stdout",
     "output_type": "stream",
     "text": [
      "(no valid events for icustay_id: 293886\n",
      "\n",
      "(no data for this episode 1 of icustay_id: 293886\n",
      "\n"
     ]
    },
    {
     "name": "stderr",
     "output_type": "stream",
     "text": [
      "Iterating over stays:  97%|████████▊| 51910/53333 [2:14:51<05:16,  4.50it/s]"
     ]
    },
    {
     "name": "stdout",
     "output_type": "stream",
     "text": [
      "(no valid events for icustay_id: 275699\n",
      "\n",
      "(no data for this episode 1 of icustay_id: 275699\n",
      "\n"
     ]
    },
    {
     "name": "stderr",
     "output_type": "stream",
     "text": [
      "Iterating over stays:  97%|████████▊| 51952/53333 [2:14:56<02:41,  8.57it/s]"
     ]
    },
    {
     "name": "stdout",
     "output_type": "stream",
     "text": [
      "(no valid events for icustay_id: 287140\n",
      "\n",
      "(no data for this episode 1 of icustay_id: 287140\n",
      "\n"
     ]
    },
    {
     "name": "stderr",
     "output_type": "stream",
     "text": [
      "Iterating over stays:  97%|████████▊| 51955/53333 [2:14:57<02:29,  9.24it/s]"
     ]
    },
    {
     "name": "stdout",
     "output_type": "stream",
     "text": [
      "(no valid events for icustay_id: 295014\n",
      "\n",
      "(no data for this episode 1 of icustay_id: 295014\n",
      "\n"
     ]
    },
    {
     "name": "stderr",
     "output_type": "stream",
     "text": [
      "Iterating over stays:  98%|████████▊| 52055/53333 [2:15:16<03:39,  5.82it/s]"
     ]
    },
    {
     "name": "stdout",
     "output_type": "stream",
     "text": [
      "(no valid events for icustay_id: 284430\n",
      "\n",
      "(no data for this episode 1 of icustay_id: 284430\n",
      "\n"
     ]
    },
    {
     "name": "stderr",
     "output_type": "stream",
     "text": [
      "Iterating over stays:  98%|████████▊| 52092/53333 [2:15:22<02:31,  8.22it/s]"
     ]
    },
    {
     "name": "stdout",
     "output_type": "stream",
     "text": [
      "(no valid events for icustay_id: 253670\n",
      "\n",
      "(no data for this episode 1 of icustay_id: 253670\n",
      "\n"
     ]
    },
    {
     "name": "stderr",
     "output_type": "stream",
     "text": [
      "Iterating over stays:  98%|████████▊| 52203/53333 [2:15:36<02:26,  7.69it/s]/tmp/ipykernel_16992/266164007.py:6: DtypeWarning: Columns (5) have mixed types. Specify dtype option on import or set low_memory=False.\n",
      "  events = pd.read_csv(fn)\n",
      "Iterating over stays:  98%|████████▊| 52245/53333 [2:15:42<01:55,  9.40it/s]"
     ]
    },
    {
     "name": "stdout",
     "output_type": "stream",
     "text": [
      "(no valid events for icustay_id: 263134\n",
      "\n",
      "(no data for this episode 1 of icustay_id: 263134\n",
      "\n"
     ]
    },
    {
     "name": "stderr",
     "output_type": "stream",
     "text": [
      "Iterating over stays:  98%|████████▊| 52262/53333 [2:15:47<10:46,  1.66it/s]"
     ]
    },
    {
     "name": "stdout",
     "output_type": "stream",
     "text": [
      "(no valid events for icustay_id: 257263\n",
      "\n",
      "(no data for this episode 1 of icustay_id: 257263\n",
      "\n"
     ]
    },
    {
     "name": "stderr",
     "output_type": "stream",
     "text": [
      "Iterating over stays:  98%|████████▊| 52301/53333 [2:15:55<01:32, 11.10it/s]"
     ]
    },
    {
     "name": "stdout",
     "output_type": "stream",
     "text": [
      "(no valid events for icustay_id: 210769\n",
      "\n",
      "(no data for this episode 1 of icustay_id: 210769\n",
      "\n"
     ]
    },
    {
     "name": "stderr",
     "output_type": "stream",
     "text": [
      "Iterating over stays:  99%|████████▊| 52534/53333 [2:16:33<02:02,  6.53it/s]"
     ]
    },
    {
     "name": "stdout",
     "output_type": "stream",
     "text": [
      "(no valid events for icustay_id: 273684\n",
      "\n",
      "(no data for this episode 1 of icustay_id: 273684\n",
      "\n"
     ]
    },
    {
     "name": "stderr",
     "output_type": "stream",
     "text": [
      "Iterating over stays:  99%|████████▉| 52618/53333 [2:16:44<01:11,  9.98it/s]"
     ]
    },
    {
     "name": "stdout",
     "output_type": "stream",
     "text": [
      "(no valid events for icustay_id: 208258\n",
      "\n",
      "(no data for this episode 1 of icustay_id: 208258\n",
      "\n"
     ]
    },
    {
     "name": "stderr",
     "output_type": "stream",
     "text": [
      "Iterating over stays:  99%|████████▉| 52647/53333 [2:16:48<01:26,  7.93it/s]"
     ]
    },
    {
     "name": "stdout",
     "output_type": "stream",
     "text": [
      "(no valid events for icustay_id: 270057\n",
      "\n",
      "(no data for this episode 1 of icustay_id: 270057\n",
      "\n"
     ]
    },
    {
     "name": "stderr",
     "output_type": "stream",
     "text": [
      "Iterating over stays:  99%|████████▉| 52652/53333 [2:16:48<01:07, 10.02it/s]"
     ]
    },
    {
     "name": "stdout",
     "output_type": "stream",
     "text": [
      "(no valid events for icustay_id: 272475\n",
      "\n",
      "(no data for this episode 1 of icustay_id: 272475\n",
      "\n"
     ]
    },
    {
     "name": "stderr",
     "output_type": "stream",
     "text": [
      "Iterating over stays:  99%|████████▉| 52677/53333 [2:16:51<01:08,  9.59it/s]"
     ]
    },
    {
     "name": "stdout",
     "output_type": "stream",
     "text": [
      "(no valid events for icustay_id: 296174\n",
      "\n",
      "(no data for this episode 1 of icustay_id: 296174\n",
      "\n"
     ]
    },
    {
     "name": "stderr",
     "output_type": "stream",
     "text": [
      "\r",
      "Iterating over stays:  99%|████████▉| 52679/53333 [2:16:51<01:05, 10.05it/s]"
     ]
    },
    {
     "name": "stdout",
     "output_type": "stream",
     "text": [
      "(no valid events for icustay_id: 264454\n",
      "\n",
      "(no data for this episode 1 of icustay_id: 264454\n",
      "\n"
     ]
    },
    {
     "name": "stderr",
     "output_type": "stream",
     "text": [
      "Iterating over stays:  99%|████████▉| 52782/53333 [2:17:12<01:16,  7.23it/s]"
     ]
    },
    {
     "name": "stdout",
     "output_type": "stream",
     "text": [
      "(no valid events for icustay_id: 289747\n",
      "\n",
      "(no data for this episode 1 of icustay_id: 289747\n",
      "\n"
     ]
    },
    {
     "name": "stderr",
     "output_type": "stream",
     "text": [
      "Iterating over stays:  99%|████████▉| 52827/53333 [2:17:18<01:12,  6.96it/s]"
     ]
    },
    {
     "name": "stdout",
     "output_type": "stream",
     "text": [
      "(no valid events for icustay_id: 286498\n",
      "\n",
      "(no data for this episode 1 of icustay_id: 286498\n",
      "\n"
     ]
    },
    {
     "name": "stderr",
     "output_type": "stream",
     "text": [
      "Iterating over stays:  99%|████████▉| 52893/53333 [2:17:27<01:03,  6.89it/s]"
     ]
    },
    {
     "name": "stdout",
     "output_type": "stream",
     "text": [
      "(no valid events for icustay_id: 254672\n",
      "\n",
      "(no data for this episode 1 of icustay_id: 254672\n",
      "\n"
     ]
    },
    {
     "name": "stderr",
     "output_type": "stream",
     "text": [
      "Iterating over stays: 100%|████████▉| 53143/53333 [2:18:05<00:25,  7.38it/s]"
     ]
    },
    {
     "name": "stdout",
     "output_type": "stream",
     "text": [
      "(no valid events for icustay_id: 238309\n",
      "\n",
      "(no data for this episode 1 of icustay_id: 238309\n",
      "\n"
     ]
    },
    {
     "name": "stderr",
     "output_type": "stream",
     "text": [
      "Iterating over stays: 100%|████████▉| 53252/53333 [2:18:19<00:10,  7.90it/s]"
     ]
    },
    {
     "name": "stdout",
     "output_type": "stream",
     "text": [
      "(no valid events for icustay_id: 276637\n",
      "\n",
      "(no data for this episode 1 of icustay_id: 276637\n",
      "\n"
     ]
    },
    {
     "name": "stderr",
     "output_type": "stream",
     "text": [
      "Iterating over stays: 100%|████████▉| 53267/53333 [2:18:27<00:59,  1.10it/s]"
     ]
    },
    {
     "name": "stdout",
     "output_type": "stream",
     "text": [
      "(no valid events for icustay_id: 233440\n",
      "\n",
      "(no data for this episode 1 of icustay_id: 233440\n",
      "\n"
     ]
    },
    {
     "name": "stderr",
     "output_type": "stream",
     "text": [
      "Iterating over stays: 100%|████████▉| 53304/53333 [2:18:33<00:03,  9.60it/s]"
     ]
    },
    {
     "name": "stdout",
     "output_type": "stream",
     "text": [
      "(no valid events for icustay_id: 241818\n",
      "\n",
      "(no data for this episode 1 of icustay_id: 241818\n",
      "\n"
     ]
    },
    {
     "name": "stderr",
     "output_type": "stream",
     "text": [
      "Iterating over stays: 100%|█████████| 53333/53333 [2:18:37<00:00,  6.41it/s]\n"
     ]
    }
   ],
   "source": [
    "#Execution time: 1 h 30 min\n",
    "\n",
    "#for stay_dir in tqdm(['239511','212355'], desc='Iterating over stays'): #prueba\n",
    "for stay_dir in tqdm(os.listdir(stays_root_path), desc='Iterating over stays'):\n",
    "    dn = os.path.join(stays_root_path, stay_dir)\n",
    "    try:\n",
    "        icustay_id = int(stay_dir)\n",
    "        if not os.path.isdir(dn):\n",
    "            raise Exception\n",
    "    except:\n",
    "        continue\n",
    "        \n",
    "\n",
    "    try:\n",
    "        # reading tables of this icustay_id\n",
    "        stays = read_stays(os.path.join(stays_root_path, stay_dir))\n",
    "        events = read_events(os.path.join(stays_root_path, stay_dir))\n",
    "        #df_ventilated = read_ventilation(os.path.join(stays_root_path, stay_dir))\n",
    "        #df_urine = read_urine(os.path.join(stays_root_path, stay_dir))\n",
    "    \n",
    "    except:\n",
    "        sys.stderr.write('Error reading from disk for icustay_id: {}\\n'.format(icustay_id))\n",
    "        continue\n",
    "    \n",
    "    episodic_data = assemble_episodic_data(stays)\n",
    "    \n",
    "    # converting to time series\n",
    "    if events.shape[0] == 0:\n",
    "        print(\"(no valid events for icustay_id: {}\\n\".format(icustay_id))\n",
    "    timeseries = convert_events_to_timeseries(events, variables=variables)\n",
    "\n",
    "# extracting separate episodes (icustays) \n",
    "    for i in range(stays.shape[0]):\n",
    "        #imprimir = False\n",
    "        stay_id = stays.ICUSTAY_ID.iloc[i]\n",
    "        intime = pd.to_datetime(stays.INTIME.iloc[i])\n",
    "        episode = get_events_for_stay(timeseries, stay_id)\n",
    "        # converting to time series\n",
    "        \n",
    "        if episode.shape[0] == 0:\n",
    "            print(\"(no data for this episode {} of icustay_id: {}\\n\".format(i+1, icustay_id))\n",
    "\n",
    "        episode = add_hours_elpased_to_events(episode, intime).set_index('HOURS').sort_index(axis=0)\n",
    "        episodic_data.loc[episodic_data.index == stay_id].to_csv(os.path.join(stays_root_path,stay_dir,'episode{}.csv'.format(i+1)),index_label='Icustay')\n",
    "        \n",
    "        columns = list(episode.columns)\n",
    "        columns_sorted = sorted(columns, key=(lambda x: \"\" if x == \"HOURS\" else x))\n",
    "        episode = episode[columns_sorted]\n",
    "        if episode.shape[0] == 0:\n",
    "            episode['AGE'] = stays.AGE\n",
    "            episode['PRELOS'] = stays.PRELOS\n",
    "        else:\n",
    "            episode['AGE'] = stays.AGE[0]\n",
    "            episode['PRELOS'] = stays.PRELOS[0]\n",
    "\n",
    "        episode.to_csv(os.path.join(stays_root_path, stay_dir, 'episode{}_timeseries.csv'.format(i+1)),\n",
    "                   index_label='Hours')\n",
    "    "
   ]
  },
  {
   "cell_type": "code",
   "execution_count": 40,
   "metadata": {},
   "outputs": [],
   "source": [
    "#pd.read_csv('timesSeriesv2_cohorte/data/root/239511/stays.csv')"
   ]
  },
  {
   "cell_type": "code",
   "execution_count": 41,
   "metadata": {
    "scrolled": true
   },
   "outputs": [
    {
     "data": {
      "text/html": [
       "<div>\n",
       "<style scoped>\n",
       "    .dataframe tbody tr th:only-of-type {\n",
       "        vertical-align: middle;\n",
       "    }\n",
       "\n",
       "    .dataframe tbody tr th {\n",
       "        vertical-align: top;\n",
       "    }\n",
       "\n",
       "    .dataframe thead th {\n",
       "        text-align: right;\n",
       "    }\n",
       "</style>\n",
       "<table border=\"1\" class=\"dataframe\">\n",
       "  <thead>\n",
       "    <tr style=\"text-align: right;\">\n",
       "      <th></th>\n",
       "      <th>Hours</th>\n",
       "      <th>HRATE</th>\n",
       "      <th>MAP</th>\n",
       "      <th>RESP_RATE</th>\n",
       "      <th>TEMP_C</th>\n",
       "      <th>gcs_e</th>\n",
       "      <th>gcs_m</th>\n",
       "      <th>gcs_total_carevue</th>\n",
       "      <th>gcs_v</th>\n",
       "      <th>AGE</th>\n",
       "      <th>PRELOS</th>\n",
       "    </tr>\n",
       "  </thead>\n",
       "  <tbody>\n",
       "    <tr>\n",
       "      <th>0</th>\n",
       "      <td>40.0</td>\n",
       "      <td>60</td>\n",
       "      <td>108.000000</td>\n",
       "      <td>16</td>\n",
       "      <td>NaN</td>\n",
       "      <td>NaN</td>\n",
       "      <td>NaN</td>\n",
       "      <td>NaN</td>\n",
       "      <td>NaN</td>\n",
       "      <td>63.139726</td>\n",
       "      <td>0.0</td>\n",
       "    </tr>\n",
       "    <tr>\n",
       "      <th>1</th>\n",
       "      <td>41.0</td>\n",
       "      <td>66</td>\n",
       "      <td>109.000000</td>\n",
       "      <td>22</td>\n",
       "      <td>NaN</td>\n",
       "      <td>NaN</td>\n",
       "      <td>NaN</td>\n",
       "      <td>NaN</td>\n",
       "      <td>NaN</td>\n",
       "      <td>63.139726</td>\n",
       "      <td>0.0</td>\n",
       "    </tr>\n",
       "    <tr>\n",
       "      <th>2</th>\n",
       "      <td>42.0</td>\n",
       "      <td>73</td>\n",
       "      <td>115.000000</td>\n",
       "      <td>20</td>\n",
       "      <td>NaN</td>\n",
       "      <td>NaN</td>\n",
       "      <td>NaN</td>\n",
       "      <td>NaN</td>\n",
       "      <td>NaN</td>\n",
       "      <td>63.139726</td>\n",
       "      <td>0.0</td>\n",
       "    </tr>\n",
       "    <tr>\n",
       "      <th>3</th>\n",
       "      <td>43.0</td>\n",
       "      <td>67</td>\n",
       "      <td>103.667000</td>\n",
       "      <td>24</td>\n",
       "      <td>NaN</td>\n",
       "      <td>NaN</td>\n",
       "      <td>NaN</td>\n",
       "      <td>NaN</td>\n",
       "      <td>NaN</td>\n",
       "      <td>63.139726</td>\n",
       "      <td>0.0</td>\n",
       "    </tr>\n",
       "    <tr>\n",
       "      <th>4</th>\n",
       "      <td>44.0</td>\n",
       "      <td>63</td>\n",
       "      <td>91.000000</td>\n",
       "      <td>22</td>\n",
       "      <td>36.611099</td>\n",
       "      <td>4.0</td>\n",
       "      <td>6.0</td>\n",
       "      <td>15.0</td>\n",
       "      <td>5.0</td>\n",
       "      <td>63.139726</td>\n",
       "      <td>0.0</td>\n",
       "    </tr>\n",
       "    <tr>\n",
       "      <th>5</th>\n",
       "      <td>45.0</td>\n",
       "      <td>66</td>\n",
       "      <td>96.000000</td>\n",
       "      <td>20</td>\n",
       "      <td>NaN</td>\n",
       "      <td>NaN</td>\n",
       "      <td>NaN</td>\n",
       "      <td>NaN</td>\n",
       "      <td>NaN</td>\n",
       "      <td>63.139726</td>\n",
       "      <td>0.0</td>\n",
       "    </tr>\n",
       "    <tr>\n",
       "      <th>6</th>\n",
       "      <td>46.0</td>\n",
       "      <td>57</td>\n",
       "      <td>95.666702</td>\n",
       "      <td>16</td>\n",
       "      <td>NaN</td>\n",
       "      <td>NaN</td>\n",
       "      <td>NaN</td>\n",
       "      <td>NaN</td>\n",
       "      <td>NaN</td>\n",
       "      <td>63.139726</td>\n",
       "      <td>0.0</td>\n",
       "    </tr>\n",
       "    <tr>\n",
       "      <th>7</th>\n",
       "      <td>47.0</td>\n",
       "      <td>53</td>\n",
       "      <td>86.666702</td>\n",
       "      <td>19</td>\n",
       "      <td>NaN</td>\n",
       "      <td>NaN</td>\n",
       "      <td>NaN</td>\n",
       "      <td>NaN</td>\n",
       "      <td>NaN</td>\n",
       "      <td>63.139726</td>\n",
       "      <td>0.0</td>\n",
       "    </tr>\n",
       "    <tr>\n",
       "      <th>8</th>\n",
       "      <td>48.0</td>\n",
       "      <td>60</td>\n",
       "      <td>102.000000</td>\n",
       "      <td>12</td>\n",
       "      <td>37.055599</td>\n",
       "      <td>4.0</td>\n",
       "      <td>6.0</td>\n",
       "      <td>15.0</td>\n",
       "      <td>5.0</td>\n",
       "      <td>63.139726</td>\n",
       "      <td>0.0</td>\n",
       "    </tr>\n",
       "    <tr>\n",
       "      <th>9</th>\n",
       "      <td>49.0</td>\n",
       "      <td>64</td>\n",
       "      <td>100.667000</td>\n",
       "      <td>20</td>\n",
       "      <td>NaN</td>\n",
       "      <td>NaN</td>\n",
       "      <td>NaN</td>\n",
       "      <td>NaN</td>\n",
       "      <td>NaN</td>\n",
       "      <td>63.139726</td>\n",
       "      <td>0.0</td>\n",
       "    </tr>\n",
       "    <tr>\n",
       "      <th>10</th>\n",
       "      <td>50.0</td>\n",
       "      <td>66</td>\n",
       "      <td>110.667000</td>\n",
       "      <td>16</td>\n",
       "      <td>NaN</td>\n",
       "      <td>NaN</td>\n",
       "      <td>NaN</td>\n",
       "      <td>NaN</td>\n",
       "      <td>NaN</td>\n",
       "      <td>63.139726</td>\n",
       "      <td>0.0</td>\n",
       "    </tr>\n",
       "    <tr>\n",
       "      <th>11</th>\n",
       "      <td>51.0</td>\n",
       "      <td>61</td>\n",
       "      <td>111.000000</td>\n",
       "      <td>13</td>\n",
       "      <td>NaN</td>\n",
       "      <td>NaN</td>\n",
       "      <td>NaN</td>\n",
       "      <td>NaN</td>\n",
       "      <td>NaN</td>\n",
       "      <td>63.139726</td>\n",
       "      <td>0.0</td>\n",
       "    </tr>\n",
       "    <tr>\n",
       "      <th>12</th>\n",
       "      <td>52.0</td>\n",
       "      <td>55</td>\n",
       "      <td>98.666702</td>\n",
       "      <td>12</td>\n",
       "      <td>36.722198</td>\n",
       "      <td>4.0</td>\n",
       "      <td>6.0</td>\n",
       "      <td>15.0</td>\n",
       "      <td>5.0</td>\n",
       "      <td>63.139726</td>\n",
       "      <td>0.0</td>\n",
       "    </tr>\n",
       "    <tr>\n",
       "      <th>13</th>\n",
       "      <td>53.0</td>\n",
       "      <td>59</td>\n",
       "      <td>108.667000</td>\n",
       "      <td>13</td>\n",
       "      <td>NaN</td>\n",
       "      <td>NaN</td>\n",
       "      <td>NaN</td>\n",
       "      <td>NaN</td>\n",
       "      <td>NaN</td>\n",
       "      <td>63.139726</td>\n",
       "      <td>0.0</td>\n",
       "    </tr>\n",
       "    <tr>\n",
       "      <th>14</th>\n",
       "      <td>54.0</td>\n",
       "      <td>56</td>\n",
       "      <td>106.000000</td>\n",
       "      <td>13</td>\n",
       "      <td>NaN</td>\n",
       "      <td>NaN</td>\n",
       "      <td>NaN</td>\n",
       "      <td>NaN</td>\n",
       "      <td>NaN</td>\n",
       "      <td>63.139726</td>\n",
       "      <td>0.0</td>\n",
       "    </tr>\n",
       "    <tr>\n",
       "      <th>15</th>\n",
       "      <td>55.0</td>\n",
       "      <td>59</td>\n",
       "      <td>107.667000</td>\n",
       "      <td>14</td>\n",
       "      <td>NaN</td>\n",
       "      <td>NaN</td>\n",
       "      <td>NaN</td>\n",
       "      <td>NaN</td>\n",
       "      <td>NaN</td>\n",
       "      <td>63.139726</td>\n",
       "      <td>0.0</td>\n",
       "    </tr>\n",
       "  </tbody>\n",
       "</table>\n",
       "</div>"
      ],
      "text/plain": [
       "    Hours  HRATE         MAP  RESP_RATE     TEMP_C  gcs_e  gcs_m  \\\n",
       "0    40.0     60  108.000000         16        NaN    NaN    NaN   \n",
       "1    41.0     66  109.000000         22        NaN    NaN    NaN   \n",
       "2    42.0     73  115.000000         20        NaN    NaN    NaN   \n",
       "3    43.0     67  103.667000         24        NaN    NaN    NaN   \n",
       "4    44.0     63   91.000000         22  36.611099    4.0    6.0   \n",
       "5    45.0     66   96.000000         20        NaN    NaN    NaN   \n",
       "6    46.0     57   95.666702         16        NaN    NaN    NaN   \n",
       "7    47.0     53   86.666702         19        NaN    NaN    NaN   \n",
       "8    48.0     60  102.000000         12  37.055599    4.0    6.0   \n",
       "9    49.0     64  100.667000         20        NaN    NaN    NaN   \n",
       "10   50.0     66  110.667000         16        NaN    NaN    NaN   \n",
       "11   51.0     61  111.000000         13        NaN    NaN    NaN   \n",
       "12   52.0     55   98.666702         12  36.722198    4.0    6.0   \n",
       "13   53.0     59  108.667000         13        NaN    NaN    NaN   \n",
       "14   54.0     56  106.000000         13        NaN    NaN    NaN   \n",
       "15   55.0     59  107.667000         14        NaN    NaN    NaN   \n",
       "\n",
       "    gcs_total_carevue  gcs_v        AGE  PRELOS  \n",
       "0                 NaN    NaN  63.139726     0.0  \n",
       "1                 NaN    NaN  63.139726     0.0  \n",
       "2                 NaN    NaN  63.139726     0.0  \n",
       "3                 NaN    NaN  63.139726     0.0  \n",
       "4                15.0    5.0  63.139726     0.0  \n",
       "5                 NaN    NaN  63.139726     0.0  \n",
       "6                 NaN    NaN  63.139726     0.0  \n",
       "7                 NaN    NaN  63.139726     0.0  \n",
       "8                15.0    5.0  63.139726     0.0  \n",
       "9                 NaN    NaN  63.139726     0.0  \n",
       "10                NaN    NaN  63.139726     0.0  \n",
       "11                NaN    NaN  63.139726     0.0  \n",
       "12               15.0    5.0  63.139726     0.0  \n",
       "13                NaN    NaN  63.139726     0.0  \n",
       "14                NaN    NaN  63.139726     0.0  \n",
       "15                NaN    NaN  63.139726     0.0  "
      ]
     },
     "execution_count": 41,
     "metadata": {},
     "output_type": "execute_result"
    }
   ],
   "source": [
    "prueba_v3 = pd.read_csv('timesSeriesv2_cohorte/data/root/239511/episode1_timeseries.csv')\n",
    "prueba_v3"
   ]
  },
  {
   "cell_type": "code",
   "execution_count": 42,
   "metadata": {},
   "outputs": [
    {
     "data": {
      "text/html": [
       "<div>\n",
       "<style scoped>\n",
       "    .dataframe tbody tr th:only-of-type {\n",
       "        vertical-align: middle;\n",
       "    }\n",
       "\n",
       "    .dataframe tbody tr th {\n",
       "        vertical-align: top;\n",
       "    }\n",
       "\n",
       "    .dataframe thead th {\n",
       "        text-align: right;\n",
       "    }\n",
       "</style>\n",
       "<table border=\"1\" class=\"dataframe\">\n",
       "  <thead>\n",
       "    <tr style=\"text-align: right;\">\n",
       "      <th></th>\n",
       "      <th>Hours</th>\n",
       "      <th>HRATE</th>\n",
       "      <th>MAP</th>\n",
       "      <th>RESP_RATE</th>\n",
       "      <th>TEMP_C</th>\n",
       "      <th>gcs_e</th>\n",
       "      <th>gcs_m</th>\n",
       "      <th>gcs_total_carevue</th>\n",
       "      <th>gcs_v</th>\n",
       "      <th>AGE</th>\n",
       "      <th>PRELOS</th>\n",
       "    </tr>\n",
       "  </thead>\n",
       "  <tbody>\n",
       "    <tr>\n",
       "      <th>0</th>\n",
       "      <td>0</td>\n",
       "      <td>NaN</td>\n",
       "      <td>NaN</td>\n",
       "      <td>NaN</td>\n",
       "      <td>NaN</td>\n",
       "      <td>NaN</td>\n",
       "      <td>NaN</td>\n",
       "      <td>NaN</td>\n",
       "      <td>NaN</td>\n",
       "      <td>46.487671</td>\n",
       "      <td>0.0</td>\n",
       "    </tr>\n",
       "  </tbody>\n",
       "</table>\n",
       "</div>"
      ],
      "text/plain": [
       "   Hours  HRATE  MAP  RESP_RATE  TEMP_C  gcs_e  gcs_m  gcs_total_carevue  \\\n",
       "0      0    NaN  NaN        NaN     NaN    NaN    NaN                NaN   \n",
       "\n",
       "   gcs_v        AGE  PRELOS  \n",
       "0    NaN  46.487671     0.0  "
      ]
     },
     "execution_count": 42,
     "metadata": {},
     "output_type": "execute_result"
    }
   ],
   "source": [
    "prueba_v4 = pd.read_csv('timesSeriesv2_cohorte/data/root/212355/episode1_timeseries.csv')\n",
    "prueba_v4"
   ]
  },
  {
   "cell_type": "markdown",
   "metadata": {},
   "source": [
    "## Split train and test dataset según la tarea. "
   ]
  },
  {
   "cell_type": "markdown",
   "metadata": {},
   "source": [
    "Normalmente basta con train_test_split para tener conjunto de entrenamiento (Train set) y conjunto de prueba (Test set). Pero como queremos comparar con otros modelos (por ejemplo, con los de benchmark. Además, en el benchmark cada tarea tiene su cohorte específica), recomienda mantener un mismo Test set. Por lo tanto, usamos ficheros llamados 'listfile' para poder rastrear el Test/Train set. (obs. estas listfiles se obtienen ejecutando create_losxdays_icustayidListfiles.py y create_in_hospital_mortality_icustayidListFile.py)"
   ]
  },
  {
   "cell_type": "markdown",
   "metadata": {},
   "source": [
    "### TimeSeries For LOS > 3 task:"
   ]
  },
  {
   "cell_type": "code",
   "execution_count": 43,
   "metadata": {},
   "outputs": [],
   "source": [
    "stays_root_path = \"/data/codi/OASIS/timesSeriesv2_cohorte/data/root\""
   ]
  },
  {
   "cell_type": "code",
   "execution_count": 44,
   "metadata": {},
   "outputs": [
    {
     "data": {
      "text/html": [
       "<div>\n",
       "<style scoped>\n",
       "    .dataframe tbody tr th:only-of-type {\n",
       "        vertical-align: middle;\n",
       "    }\n",
       "\n",
       "    .dataframe tbody tr th {\n",
       "        vertical-align: top;\n",
       "    }\n",
       "\n",
       "    .dataframe thead th {\n",
       "        text-align: right;\n",
       "    }\n",
       "</style>\n",
       "<table border=\"1\" class=\"dataframe\">\n",
       "  <thead>\n",
       "    <tr style=\"text-align: right;\">\n",
       "      <th></th>\n",
       "      <th>SUBJECT_ID</th>\n",
       "      <th>DOD</th>\n",
       "      <th>HADM_ID</th>\n",
       "      <th>ADMITTIME</th>\n",
       "      <th>DISCHTIME</th>\n",
       "      <th>DEATHTIME</th>\n",
       "      <th>ADMISSION_TYPE</th>\n",
       "      <th>ICUSTAY_ID</th>\n",
       "      <th>INTIME</th>\n",
       "      <th>OUTTIME</th>\n",
       "      <th>LOS</th>\n",
       "      <th>AGE</th>\n",
       "      <th>PRELOS</th>\n",
       "      <th>MORTALITY_INHOSPITAL</th>\n",
       "    </tr>\n",
       "  </thead>\n",
       "  <tbody>\n",
       "    <tr>\n",
       "      <th>0</th>\n",
       "      <td>249</td>\n",
       "      <td>NaN</td>\n",
       "      <td>116935</td>\n",
       "      <td>2149-12-17 20:41:00</td>\n",
       "      <td>2149-12-31 14:55:00</td>\n",
       "      <td>NaN</td>\n",
       "      <td>EMERGENCY</td>\n",
       "      <td>215044</td>\n",
       "      <td>2149-12-18 20:06:02</td>\n",
       "      <td>2149-12-24 13:31:45</td>\n",
       "      <td>5.7262</td>\n",
       "      <td>74.816438</td>\n",
       "      <td>23.4</td>\n",
       "      <td>0</td>\n",
       "    </tr>\n",
       "    <tr>\n",
       "      <th>1</th>\n",
       "      <td>249</td>\n",
       "      <td>NaN</td>\n",
       "      <td>149546</td>\n",
       "      <td>2155-02-03 20:16:00</td>\n",
       "      <td>2155-02-14 11:15:00</td>\n",
       "      <td>NaN</td>\n",
       "      <td>EMERGENCY</td>\n",
       "      <td>269035</td>\n",
       "      <td>2155-02-03 20:17:29</td>\n",
       "      <td>2155-02-05 18:34:02</td>\n",
       "      <td>1.9282</td>\n",
       "      <td>79.947945</td>\n",
       "      <td>0.0</td>\n",
       "      <td>0</td>\n",
       "    </tr>\n",
       "    <tr>\n",
       "      <th>2</th>\n",
       "      <td>249</td>\n",
       "      <td>NaN</td>\n",
       "      <td>149546</td>\n",
       "      <td>2155-02-03 20:16:00</td>\n",
       "      <td>2155-02-14 11:15:00</td>\n",
       "      <td>NaN</td>\n",
       "      <td>EMERGENCY</td>\n",
       "      <td>263055</td>\n",
       "      <td>2155-02-07 18:51:16</td>\n",
       "      <td>2155-02-11 16:00:39</td>\n",
       "      <td>3.8815</td>\n",
       "      <td>79.958904</td>\n",
       "      <td>94.6</td>\n",
       "      <td>0</td>\n",
       "    </tr>\n",
       "    <tr>\n",
       "      <th>3</th>\n",
       "      <td>249</td>\n",
       "      <td>NaN</td>\n",
       "      <td>158975</td>\n",
       "      <td>2156-04-27 15:33:00</td>\n",
       "      <td>2156-05-14 15:30:00</td>\n",
       "      <td>NaN</td>\n",
       "      <td>EMERGENCY</td>\n",
       "      <td>282599</td>\n",
       "      <td>2156-05-01 18:10:12</td>\n",
       "      <td>2156-05-03 18:43:45</td>\n",
       "      <td>2.0233</td>\n",
       "      <td>81.189041</td>\n",
       "      <td>98.6</td>\n",
       "      <td>0</td>\n",
       "    </tr>\n",
       "    <tr>\n",
       "      <th>4</th>\n",
       "      <td>249</td>\n",
       "      <td>NaN</td>\n",
       "      <td>158975</td>\n",
       "      <td>2156-04-27 15:33:00</td>\n",
       "      <td>2156-05-14 15:30:00</td>\n",
       "      <td>NaN</td>\n",
       "      <td>EMERGENCY</td>\n",
       "      <td>263882</td>\n",
       "      <td>2156-05-10 17:47:35</td>\n",
       "      <td>2156-05-11 19:16:03</td>\n",
       "      <td>1.0614</td>\n",
       "      <td>81.213699</td>\n",
       "      <td>314.2</td>\n",
       "      <td>0</td>\n",
       "    </tr>\n",
       "  </tbody>\n",
       "</table>\n",
       "</div>"
      ],
      "text/plain": [
       "   SUBJECT_ID  DOD  HADM_ID            ADMITTIME            DISCHTIME  \\\n",
       "0         249  NaN   116935  2149-12-17 20:41:00  2149-12-31 14:55:00   \n",
       "1         249  NaN   149546  2155-02-03 20:16:00  2155-02-14 11:15:00   \n",
       "2         249  NaN   149546  2155-02-03 20:16:00  2155-02-14 11:15:00   \n",
       "3         249  NaN   158975  2156-04-27 15:33:00  2156-05-14 15:30:00   \n",
       "4         249  NaN   158975  2156-04-27 15:33:00  2156-05-14 15:30:00   \n",
       "\n",
       "  DEATHTIME ADMISSION_TYPE  ICUSTAY_ID               INTIME  \\\n",
       "0       NaN      EMERGENCY      215044  2149-12-18 20:06:02   \n",
       "1       NaN      EMERGENCY      269035  2155-02-03 20:17:29   \n",
       "2       NaN      EMERGENCY      263055  2155-02-07 18:51:16   \n",
       "3       NaN      EMERGENCY      282599  2156-05-01 18:10:12   \n",
       "4       NaN      EMERGENCY      263882  2156-05-10 17:47:35   \n",
       "\n",
       "               OUTTIME     LOS        AGE  PRELOS  MORTALITY_INHOSPITAL  \n",
       "0  2149-12-24 13:31:45  5.7262  74.816438    23.4                     0  \n",
       "1  2155-02-05 18:34:02  1.9282  79.947945     0.0                     0  \n",
       "2  2155-02-11 16:00:39  3.8815  79.958904    94.6                     0  \n",
       "3  2156-05-03 18:43:45  2.0233  81.189041    98.6                     0  \n",
       "4  2156-05-11 19:16:03  1.0614  81.213699   314.2                     0  "
      ]
     },
     "execution_count": 44,
     "metadata": {},
     "output_type": "execute_result"
    }
   ],
   "source": [
    "cohorte_general = pd.read_csv(os.path.join(stays_root_path, \"all_stays.csv\"))\n",
    "cohorte_general.head()"
   ]
  },
  {
   "cell_type": "code",
   "execution_count": 45,
   "metadata": {},
   "outputs": [
    {
     "name": "stdout",
     "output_type": "stream",
     "text": [
      "(5282, 1)\n"
     ]
    },
    {
     "data": {
      "text/html": [
       "<div>\n",
       "<style scoped>\n",
       "    .dataframe tbody tr th:only-of-type {\n",
       "        vertical-align: middle;\n",
       "    }\n",
       "\n",
       "    .dataframe tbody tr th {\n",
       "        vertical-align: top;\n",
       "    }\n",
       "\n",
       "    .dataframe thead th {\n",
       "        text-align: right;\n",
       "    }\n",
       "</style>\n",
       "<table border=\"1\" class=\"dataframe\">\n",
       "  <thead>\n",
       "    <tr style=\"text-align: right;\">\n",
       "      <th></th>\n",
       "      <th>ICUSTAY_ID</th>\n",
       "    </tr>\n",
       "  </thead>\n",
       "  <tbody>\n",
       "    <tr>\n",
       "      <th>0</th>\n",
       "      <td>247610</td>\n",
       "    </tr>\n",
       "    <tr>\n",
       "      <th>1</th>\n",
       "      <td>232110</td>\n",
       "    </tr>\n",
       "    <tr>\n",
       "      <th>2</th>\n",
       "      <td>277998</td>\n",
       "    </tr>\n",
       "    <tr>\n",
       "      <th>3</th>\n",
       "      <td>228977</td>\n",
       "    </tr>\n",
       "    <tr>\n",
       "      <th>4</th>\n",
       "      <td>277021</td>\n",
       "    </tr>\n",
       "  </tbody>\n",
       "</table>\n",
       "</div>"
      ],
      "text/plain": [
       "   ICUSTAY_ID\n",
       "0      247610\n",
       "1      232110\n",
       "2      277998\n",
       "3      228977\n",
       "4      277021"
      ]
     },
     "execution_count": 45,
     "metadata": {},
     "output_type": "execute_result"
    }
   ],
   "source": [
    "cohorte_test_benchmark = pd.read_csv('/data/codi/OASIS/lengthOfStay/test/listfile.csv')\n",
    "print(cohorte_test_benchmark.shape)\n",
    "cohorte_test_benchmark.head()"
   ]
  },
  {
   "cell_type": "code",
   "execution_count": 46,
   "metadata": {},
   "outputs": [
    {
     "name": "stdout",
     "output_type": "stream",
     "text": [
      "(5282, 14)\n"
     ]
    },
    {
     "data": {
      "text/html": [
       "<div>\n",
       "<style scoped>\n",
       "    .dataframe tbody tr th:only-of-type {\n",
       "        vertical-align: middle;\n",
       "    }\n",
       "\n",
       "    .dataframe tbody tr th {\n",
       "        vertical-align: top;\n",
       "    }\n",
       "\n",
       "    .dataframe thead th {\n",
       "        text-align: right;\n",
       "    }\n",
       "</style>\n",
       "<table border=\"1\" class=\"dataframe\">\n",
       "  <thead>\n",
       "    <tr style=\"text-align: right;\">\n",
       "      <th></th>\n",
       "      <th>ICUSTAY_ID</th>\n",
       "      <th>SUBJECT_ID</th>\n",
       "      <th>DOD</th>\n",
       "      <th>HADM_ID</th>\n",
       "      <th>ADMITTIME</th>\n",
       "      <th>DISCHTIME</th>\n",
       "      <th>DEATHTIME</th>\n",
       "      <th>ADMISSION_TYPE</th>\n",
       "      <th>INTIME</th>\n",
       "      <th>OUTTIME</th>\n",
       "      <th>LOS</th>\n",
       "      <th>AGE</th>\n",
       "      <th>PRELOS</th>\n",
       "      <th>MORTALITY_INHOSPITAL</th>\n",
       "    </tr>\n",
       "  </thead>\n",
       "  <tbody>\n",
       "    <tr>\n",
       "      <th>0</th>\n",
       "      <td>247610</td>\n",
       "      <td>10000</td>\n",
       "      <td>NaN</td>\n",
       "      <td>187813</td>\n",
       "      <td>2186-08-10 21:57:00</td>\n",
       "      <td>2186-08-31 17:00:00</td>\n",
       "      <td>NaN</td>\n",
       "      <td>EMERGENCY</td>\n",
       "      <td>2186-08-14 10:50:09</td>\n",
       "      <td>2186-08-15 18:40:05</td>\n",
       "      <td>1.3263</td>\n",
       "      <td>49.704110</td>\n",
       "      <td>84.9</td>\n",
       "      <td>0</td>\n",
       "    </tr>\n",
       "    <tr>\n",
       "      <th>1</th>\n",
       "      <td>232110</td>\n",
       "      <td>10011</td>\n",
       "      <td>2126-08-28</td>\n",
       "      <td>105331</td>\n",
       "      <td>2126-08-14 22:32:00</td>\n",
       "      <td>2126-08-28 18:59:00</td>\n",
       "      <td>2126-08-28 18:59:00</td>\n",
       "      <td>EMERGENCY</td>\n",
       "      <td>2126-08-14 22:34:00</td>\n",
       "      <td>2126-08-28 18:59:00</td>\n",
       "      <td>13.8507</td>\n",
       "      <td>36.213699</td>\n",
       "      <td>0.0</td>\n",
       "      <td>1</td>\n",
       "    </tr>\n",
       "    <tr>\n",
       "      <th>2</th>\n",
       "      <td>277998</td>\n",
       "      <td>10012</td>\n",
       "      <td>NaN</td>\n",
       "      <td>122132</td>\n",
       "      <td>2112-09-19 07:15:00</td>\n",
       "      <td>2112-09-23 14:25:00</td>\n",
       "      <td>NaN</td>\n",
       "      <td>ELECTIVE</td>\n",
       "      <td>2112-09-19 10:22:56</td>\n",
       "      <td>2112-09-20 20:16:39</td>\n",
       "      <td>1.4123</td>\n",
       "      <td>69.610959</td>\n",
       "      <td>3.1</td>\n",
       "      <td>0</td>\n",
       "    </tr>\n",
       "    <tr>\n",
       "      <th>3</th>\n",
       "      <td>228977</td>\n",
       "      <td>10019</td>\n",
       "      <td>2163-05-15</td>\n",
       "      <td>177759</td>\n",
       "      <td>2163-05-14 20:43:00</td>\n",
       "      <td>2163-05-15 12:00:00</td>\n",
       "      <td>2163-05-15 12:00:00</td>\n",
       "      <td>EMERGENCY</td>\n",
       "      <td>2163-05-14 20:43:56</td>\n",
       "      <td>2163-05-16 03:47:04</td>\n",
       "      <td>1.2938</td>\n",
       "      <td>48.931507</td>\n",
       "      <td>0.0</td>\n",
       "      <td>1</td>\n",
       "    </tr>\n",
       "    <tr>\n",
       "      <th>4</th>\n",
       "      <td>277021</td>\n",
       "      <td>10026</td>\n",
       "      <td>2195-11-24</td>\n",
       "      <td>103770</td>\n",
       "      <td>2195-05-17 07:39:00</td>\n",
       "      <td>2195-05-24 11:45:00</td>\n",
       "      <td>NaN</td>\n",
       "      <td>EMERGENCY</td>\n",
       "      <td>2195-05-17 07:40:18</td>\n",
       "      <td>2195-05-19 17:24:25</td>\n",
       "      <td>2.4056</td>\n",
       "      <td>96.967177</td>\n",
       "      <td>0.0</td>\n",
       "      <td>0</td>\n",
       "    </tr>\n",
       "  </tbody>\n",
       "</table>\n",
       "</div>"
      ],
      "text/plain": [
       "   ICUSTAY_ID  SUBJECT_ID         DOD  HADM_ID            ADMITTIME  \\\n",
       "0      247610       10000         NaN   187813  2186-08-10 21:57:00   \n",
       "1      232110       10011  2126-08-28   105331  2126-08-14 22:32:00   \n",
       "2      277998       10012         NaN   122132  2112-09-19 07:15:00   \n",
       "3      228977       10019  2163-05-15   177759  2163-05-14 20:43:00   \n",
       "4      277021       10026  2195-11-24   103770  2195-05-17 07:39:00   \n",
       "\n",
       "             DISCHTIME            DEATHTIME ADMISSION_TYPE  \\\n",
       "0  2186-08-31 17:00:00                  NaN      EMERGENCY   \n",
       "1  2126-08-28 18:59:00  2126-08-28 18:59:00      EMERGENCY   \n",
       "2  2112-09-23 14:25:00                  NaN       ELECTIVE   \n",
       "3  2163-05-15 12:00:00  2163-05-15 12:00:00      EMERGENCY   \n",
       "4  2195-05-24 11:45:00                  NaN      EMERGENCY   \n",
       "\n",
       "                INTIME              OUTTIME      LOS        AGE  PRELOS  \\\n",
       "0  2186-08-14 10:50:09  2186-08-15 18:40:05   1.3263  49.704110    84.9   \n",
       "1  2126-08-14 22:34:00  2126-08-28 18:59:00  13.8507  36.213699     0.0   \n",
       "2  2112-09-19 10:22:56  2112-09-20 20:16:39   1.4123  69.610959     3.1   \n",
       "3  2163-05-14 20:43:56  2163-05-16 03:47:04   1.2938  48.931507     0.0   \n",
       "4  2195-05-17 07:40:18  2195-05-19 17:24:25   2.4056  96.967177     0.0   \n",
       "\n",
       "   MORTALITY_INHOSPITAL  \n",
       "0                     0  \n",
       "1                     1  \n",
       "2                     0  \n",
       "3                     1  \n",
       "4                     0  "
      ]
     },
     "execution_count": 46,
     "metadata": {},
     "output_type": "execute_result"
    }
   ],
   "source": [
    "test=pd.merge(cohorte_test_benchmark, cohorte_general, how='left', on=['ICUSTAY_ID'])\n",
    "print(test.shape) #asegurar que estan todos los icustays de cohorte_test_benchmark en cohorte general\n",
    "test.head()"
   ]
  },
  {
   "cell_type": "code",
   "execution_count": 47,
   "metadata": {},
   "outputs": [
    {
     "data": {
      "text/plain": [
       "ICUSTAY_ID                 0\n",
       "SUBJECT_ID                 0\n",
       "DOD                     3075\n",
       "HADM_ID                    0\n",
       "ADMITTIME                  0\n",
       "DISCHTIME                  0\n",
       "DEATHTIME               4792\n",
       "ADMISSION_TYPE             0\n",
       "INTIME                     0\n",
       "OUTTIME                    0\n",
       "LOS                        0\n",
       "AGE                        0\n",
       "PRELOS                     0\n",
       "MORTALITY_INHOSPITAL       0\n",
       "dtype: int64"
      ]
     },
     "execution_count": 47,
     "metadata": {},
     "output_type": "execute_result"
    }
   ],
   "source": [
    "test.isnull().sum() \n",
    "#asegurar que estan todos los icustays de cohorte_test_benchmark en cohorte general"
   ]
  },
  {
   "cell_type": "code",
   "execution_count": 48,
   "metadata": {},
   "outputs": [
    {
     "data": {
      "text/html": [
       "<div>\n",
       "<style scoped>\n",
       "    .dataframe tbody tr th:only-of-type {\n",
       "        vertical-align: middle;\n",
       "    }\n",
       "\n",
       "    .dataframe tbody tr th {\n",
       "        vertical-align: top;\n",
       "    }\n",
       "\n",
       "    .dataframe thead th {\n",
       "        text-align: right;\n",
       "    }\n",
       "</style>\n",
       "<table border=\"1\" class=\"dataframe\">\n",
       "  <thead>\n",
       "    <tr style=\"text-align: right;\">\n",
       "      <th></th>\n",
       "      <th>ICUSTAY_ID</th>\n",
       "    </tr>\n",
       "  </thead>\n",
       "  <tbody>\n",
       "    <tr>\n",
       "      <th>0</th>\n",
       "      <td>247610</td>\n",
       "    </tr>\n",
       "    <tr>\n",
       "      <th>1</th>\n",
       "      <td>232110</td>\n",
       "    </tr>\n",
       "    <tr>\n",
       "      <th>2</th>\n",
       "      <td>277998</td>\n",
       "    </tr>\n",
       "    <tr>\n",
       "      <th>3</th>\n",
       "      <td>228977</td>\n",
       "    </tr>\n",
       "    <tr>\n",
       "      <th>4</th>\n",
       "      <td>277021</td>\n",
       "    </tr>\n",
       "  </tbody>\n",
       "</table>\n",
       "</div>"
      ],
      "text/plain": [
       "   ICUSTAY_ID\n",
       "0      247610\n",
       "1      232110\n",
       "2      277998\n",
       "3      228977\n",
       "4      277021"
      ]
     },
     "execution_count": 48,
     "metadata": {},
     "output_type": "execute_result"
    }
   ],
   "source": [
    "#Solo necesito iscustay_id (ya que en este version nombré las carpetas con icustay_id)\n",
    "test = pd.DataFrame(test['ICUSTAY_ID'])\n",
    "test.head()"
   ]
  },
  {
   "cell_type": "code",
   "execution_count": 49,
   "metadata": {},
   "outputs": [],
   "source": [
    "output_resources_path = '/data/codi/OASIS/timesSeriesv2_cohorte/data/lengthOfStay'\n",
    "try:\n",
    "    os.makedirs(output_resources_path)\n",
    "except:\n",
    "    pass\n"
   ]
  },
  {
   "cell_type": "code",
   "execution_count": 50,
   "metadata": {},
   "outputs": [],
   "source": [
    "test.to_csv(os.path.join(output_resources_path, 'testset.csv'),index=False,header=False)"
   ]
  },
  {
   "cell_type": "code",
   "execution_count": 51,
   "metadata": {},
   "outputs": [
    {
     "name": "stdout",
     "output_type": "stream",
     "text": [
      "(29846, 1)\n"
     ]
    },
    {
     "data": {
      "text/html": [
       "<div>\n",
       "<style scoped>\n",
       "    .dataframe tbody tr th:only-of-type {\n",
       "        vertical-align: middle;\n",
       "    }\n",
       "\n",
       "    .dataframe tbody tr th {\n",
       "        vertical-align: top;\n",
       "    }\n",
       "\n",
       "    .dataframe thead th {\n",
       "        text-align: right;\n",
       "    }\n",
       "</style>\n",
       "<table border=\"1\" class=\"dataframe\">\n",
       "  <thead>\n",
       "    <tr style=\"text-align: right;\">\n",
       "      <th></th>\n",
       "      <th>ICUSTAY_ID</th>\n",
       "    </tr>\n",
       "  </thead>\n",
       "  <tbody>\n",
       "    <tr>\n",
       "      <th>0</th>\n",
       "      <td>209804</td>\n",
       "    </tr>\n",
       "    <tr>\n",
       "      <th>1</th>\n",
       "      <td>208696</td>\n",
       "    </tr>\n",
       "    <tr>\n",
       "      <th>2</th>\n",
       "      <td>229628</td>\n",
       "    </tr>\n",
       "    <tr>\n",
       "      <th>3</th>\n",
       "      <td>263325</td>\n",
       "    </tr>\n",
       "    <tr>\n",
       "      <th>4</th>\n",
       "      <td>269666</td>\n",
       "    </tr>\n",
       "  </tbody>\n",
       "</table>\n",
       "</div>"
      ],
      "text/plain": [
       "   ICUSTAY_ID\n",
       "0      209804\n",
       "1      208696\n",
       "2      229628\n",
       "3      263325\n",
       "4      269666"
      ]
     },
     "execution_count": 51,
     "metadata": {},
     "output_type": "execute_result"
    }
   ],
   "source": [
    "cohorte_train_benchmark = pd.read_csv('/data/codi/OASIS/lengthOfStay/train/listfile.csv')\n",
    "print(cohorte_train_benchmark.shape)\n",
    "cohorte_train_benchmark.head()"
   ]
  },
  {
   "cell_type": "code",
   "execution_count": 52,
   "metadata": {},
   "outputs": [
    {
     "name": "stdout",
     "output_type": "stream",
     "text": [
      "(29846, 14)\n"
     ]
    },
    {
     "data": {
      "text/html": [
       "<div>\n",
       "<style scoped>\n",
       "    .dataframe tbody tr th:only-of-type {\n",
       "        vertical-align: middle;\n",
       "    }\n",
       "\n",
       "    .dataframe tbody tr th {\n",
       "        vertical-align: top;\n",
       "    }\n",
       "\n",
       "    .dataframe thead th {\n",
       "        text-align: right;\n",
       "    }\n",
       "</style>\n",
       "<table border=\"1\" class=\"dataframe\">\n",
       "  <thead>\n",
       "    <tr style=\"text-align: right;\">\n",
       "      <th></th>\n",
       "      <th>ICUSTAY_ID</th>\n",
       "      <th>SUBJECT_ID</th>\n",
       "      <th>DOD</th>\n",
       "      <th>HADM_ID</th>\n",
       "      <th>ADMITTIME</th>\n",
       "      <th>DISCHTIME</th>\n",
       "      <th>DEATHTIME</th>\n",
       "      <th>ADMISSION_TYPE</th>\n",
       "      <th>INTIME</th>\n",
       "      <th>OUTTIME</th>\n",
       "      <th>LOS</th>\n",
       "      <th>AGE</th>\n",
       "      <th>PRELOS</th>\n",
       "      <th>MORTALITY_INHOSPITAL</th>\n",
       "    </tr>\n",
       "  </thead>\n",
       "  <tbody>\n",
       "    <tr>\n",
       "      <th>0</th>\n",
       "      <td>209804</td>\n",
       "      <td>91051</td>\n",
       "      <td>NaN</td>\n",
       "      <td>195649</td>\n",
       "      <td>2162-11-24 19:45:00</td>\n",
       "      <td>2162-11-29 17:22:00</td>\n",
       "      <td>NaN</td>\n",
       "      <td>EMERGENCY</td>\n",
       "      <td>2162-11-24 22:32:55</td>\n",
       "      <td>2162-11-26 19:03:24</td>\n",
       "      <td>1.8545</td>\n",
       "      <td>43.531507</td>\n",
       "      <td>2.8</td>\n",
       "      <td>0</td>\n",
       "    </tr>\n",
       "    <tr>\n",
       "      <th>1</th>\n",
       "      <td>208696</td>\n",
       "      <td>19208</td>\n",
       "      <td>2140-01-15</td>\n",
       "      <td>138876</td>\n",
       "      <td>2139-10-15 23:18:00</td>\n",
       "      <td>2139-10-22 17:00:00</td>\n",
       "      <td>NaN</td>\n",
       "      <td>EMERGENCY</td>\n",
       "      <td>2139-10-17 08:45:08</td>\n",
       "      <td>2139-10-18 15:51:31</td>\n",
       "      <td>1.2961</td>\n",
       "      <td>80.747945</td>\n",
       "      <td>33.5</td>\n",
       "      <td>0</td>\n",
       "    </tr>\n",
       "    <tr>\n",
       "      <th>2</th>\n",
       "      <td>229628</td>\n",
       "      <td>41432</td>\n",
       "      <td>2149-01-20</td>\n",
       "      <td>166813</td>\n",
       "      <td>2148-01-23 21:14:00</td>\n",
       "      <td>2148-01-26 21:00:00</td>\n",
       "      <td>NaN</td>\n",
       "      <td>EMERGENCY</td>\n",
       "      <td>2148-01-23 21:15:35</td>\n",
       "      <td>2148-01-25 18:49:58</td>\n",
       "      <td>1.8989</td>\n",
       "      <td>86.813699</td>\n",
       "      <td>0.0</td>\n",
       "      <td>0</td>\n",
       "    </tr>\n",
       "    <tr>\n",
       "      <th>3</th>\n",
       "      <td>263325</td>\n",
       "      <td>65089</td>\n",
       "      <td>NaN</td>\n",
       "      <td>183040</td>\n",
       "      <td>2130-12-11 20:09:00</td>\n",
       "      <td>2130-12-17 11:00:00</td>\n",
       "      <td>NaN</td>\n",
       "      <td>EMERGENCY</td>\n",
       "      <td>2130-12-11 20:10:55</td>\n",
       "      <td>2130-12-13 17:25:26</td>\n",
       "      <td>1.8851</td>\n",
       "      <td>69.873973</td>\n",
       "      <td>0.0</td>\n",
       "      <td>0</td>\n",
       "    </tr>\n",
       "    <tr>\n",
       "      <th>4</th>\n",
       "      <td>269666</td>\n",
       "      <td>17882</td>\n",
       "      <td>NaN</td>\n",
       "      <td>151927</td>\n",
       "      <td>2148-01-15 11:52:00</td>\n",
       "      <td>2148-01-22 18:11:00</td>\n",
       "      <td>NaN</td>\n",
       "      <td>EMERGENCY</td>\n",
       "      <td>2148-01-15 11:53:14</td>\n",
       "      <td>2148-01-17 18:19:57</td>\n",
       "      <td>2.2686</td>\n",
       "      <td>64.986301</td>\n",
       "      <td>0.0</td>\n",
       "      <td>0</td>\n",
       "    </tr>\n",
       "  </tbody>\n",
       "</table>\n",
       "</div>"
      ],
      "text/plain": [
       "   ICUSTAY_ID  SUBJECT_ID         DOD  HADM_ID            ADMITTIME  \\\n",
       "0      209804       91051         NaN   195649  2162-11-24 19:45:00   \n",
       "1      208696       19208  2140-01-15   138876  2139-10-15 23:18:00   \n",
       "2      229628       41432  2149-01-20   166813  2148-01-23 21:14:00   \n",
       "3      263325       65089         NaN   183040  2130-12-11 20:09:00   \n",
       "4      269666       17882         NaN   151927  2148-01-15 11:52:00   \n",
       "\n",
       "             DISCHTIME DEATHTIME ADMISSION_TYPE               INTIME  \\\n",
       "0  2162-11-29 17:22:00       NaN      EMERGENCY  2162-11-24 22:32:55   \n",
       "1  2139-10-22 17:00:00       NaN      EMERGENCY  2139-10-17 08:45:08   \n",
       "2  2148-01-26 21:00:00       NaN      EMERGENCY  2148-01-23 21:15:35   \n",
       "3  2130-12-17 11:00:00       NaN      EMERGENCY  2130-12-11 20:10:55   \n",
       "4  2148-01-22 18:11:00       NaN      EMERGENCY  2148-01-15 11:53:14   \n",
       "\n",
       "               OUTTIME     LOS        AGE  PRELOS  MORTALITY_INHOSPITAL  \n",
       "0  2162-11-26 19:03:24  1.8545  43.531507     2.8                     0  \n",
       "1  2139-10-18 15:51:31  1.2961  80.747945    33.5                     0  \n",
       "2  2148-01-25 18:49:58  1.8989  86.813699     0.0                     0  \n",
       "3  2130-12-13 17:25:26  1.8851  69.873973     0.0                     0  \n",
       "4  2148-01-17 18:19:57  2.2686  64.986301     0.0                     0  "
      ]
     },
     "execution_count": 52,
     "metadata": {},
     "output_type": "execute_result"
    }
   ],
   "source": [
    "trainset=pd.merge(cohorte_train_benchmark, cohorte_general, how='left', on=['ICUSTAY_ID'])\n",
    "print(trainset.shape)\n",
    "trainset.head()"
   ]
  },
  {
   "cell_type": "code",
   "execution_count": 53,
   "metadata": {},
   "outputs": [
    {
     "data": {
      "text/plain": [
       "ICUSTAY_ID                  0\n",
       "SUBJECT_ID                  0\n",
       "DOD                     16809\n",
       "HADM_ID                     0\n",
       "ADMITTIME                   0\n",
       "DISCHTIME                   0\n",
       "DEATHTIME               26724\n",
       "ADMISSION_TYPE              0\n",
       "INTIME                      0\n",
       "OUTTIME                     0\n",
       "LOS                         0\n",
       "AGE                         0\n",
       "PRELOS                      0\n",
       "MORTALITY_INHOSPITAL        0\n",
       "dtype: int64"
      ]
     },
     "execution_count": 53,
     "metadata": {},
     "output_type": "execute_result"
    }
   ],
   "source": [
    "trainset.isnull().sum() "
   ]
  },
  {
   "cell_type": "code",
   "execution_count": 54,
   "metadata": {},
   "outputs": [
    {
     "data": {
      "text/html": [
       "<div>\n",
       "<style scoped>\n",
       "    .dataframe tbody tr th:only-of-type {\n",
       "        vertical-align: middle;\n",
       "    }\n",
       "\n",
       "    .dataframe tbody tr th {\n",
       "        vertical-align: top;\n",
       "    }\n",
       "\n",
       "    .dataframe thead th {\n",
       "        text-align: right;\n",
       "    }\n",
       "</style>\n",
       "<table border=\"1\" class=\"dataframe\">\n",
       "  <thead>\n",
       "    <tr style=\"text-align: right;\">\n",
       "      <th></th>\n",
       "      <th>ICUSTAY_ID</th>\n",
       "    </tr>\n",
       "  </thead>\n",
       "  <tbody>\n",
       "    <tr>\n",
       "      <th>0</th>\n",
       "      <td>209804</td>\n",
       "    </tr>\n",
       "    <tr>\n",
       "      <th>1</th>\n",
       "      <td>208696</td>\n",
       "    </tr>\n",
       "    <tr>\n",
       "      <th>2</th>\n",
       "      <td>229628</td>\n",
       "    </tr>\n",
       "    <tr>\n",
       "      <th>3</th>\n",
       "      <td>263325</td>\n",
       "    </tr>\n",
       "    <tr>\n",
       "      <th>4</th>\n",
       "      <td>269666</td>\n",
       "    </tr>\n",
       "  </tbody>\n",
       "</table>\n",
       "</div>"
      ],
      "text/plain": [
       "   ICUSTAY_ID\n",
       "0      209804\n",
       "1      208696\n",
       "2      229628\n",
       "3      263325\n",
       "4      269666"
      ]
     },
     "execution_count": 54,
     "metadata": {},
     "output_type": "execute_result"
    }
   ],
   "source": [
    "trainset = pd.DataFrame(trainset['ICUSTAY_ID'])\n",
    "trainset.head()"
   ]
  },
  {
   "cell_type": "code",
   "execution_count": 55,
   "metadata": {},
   "outputs": [],
   "source": [
    "trainset.to_csv(os.path.join(output_resources_path, 'trainset.csv'),index=False,header=False)"
   ]
  },
  {
   "cell_type": "code",
   "execution_count": 56,
   "metadata": {},
   "outputs": [],
   "source": [
    "def process_partition(root_path, output_path, partition, listfile_path, eps=1e-6, n_hours=24):\n",
    "    output_dir = os.path.join(output_path, partition)\n",
    "    if not os.path.exists(output_dir):\n",
    "        os.mkdir(output_dir)\n",
    "\n",
    "    xy_pairs = []\n",
    "\n",
    "    #Iterar los icustays con mismo orden que listfile de otros modelos. (para luego el cross validation sea sobre mismos splits)\n",
    "    partition_set = []\n",
    "    with open(listfile_path, \"r\") as partition_set_file:\n",
    "        for line in partition_set_file:\n",
    "            x = line.replace(\"\\n\", \"\")\n",
    "            partition_set.append(x)\n",
    "    \n",
    "\n",
    "    #for icustay in tqdm(['201645','239511','212355'], desc='Iterating over stays in {}'.format(partition)): #prueba\n",
    "\n",
    "    for icustay in tqdm(partition_set, desc='Iterating over stays in {}'.format(partition)):\n",
    "        icustay_folder = os.path.join(root_path, icustay)\n",
    "        icustay_ts_files = list(filter(lambda x: x.find(\"timeseries\") != -1, os.listdir(icustay_folder)))\n",
    "\n",
    "        for ts_filename in icustay_ts_files:\n",
    "            with open(os.path.join(icustay_folder, ts_filename)) as tsfile:\n",
    "                lb_filename = ts_filename.replace(\"_timeseries\", \"\")\n",
    "                label_df = pd.read_csv(os.path.join(icustay_folder, lb_filename))\n",
    "\n",
    "                # empty label file\n",
    "                if label_df.shape[0] == 0:\n",
    "                    continue\n",
    "\n",
    "                    \n",
    "                if (label_df.iloc[0]['Length of Stay'] > 3):\n",
    "                    los_label = 1\n",
    "                else:\n",
    "                    los_label = 0\n",
    "                \n",
    "                los = 24.0 * label_df.iloc[0]['Length of Stay']  # in hours\n",
    "                if pd.isnull(los):\n",
    "                    print(\"\\n\\t(length of stay is missing)\", icustay, ts_filename)\n",
    "                    continue\n",
    "\n",
    "                #Esto ya esta controlado si usa listfile\n",
    "                #if los < n_hours - eps:\n",
    "                    #print(\"\\n\\t(length of stay < 24h)\", icustay, ts_filename)\n",
    "                    #continue\n",
    "\n",
    "                ts_lines_conheader = tsfile.readlines()\n",
    "                header = ts_lines_conheader[0]\n",
    "                ts_lines = ts_lines_conheader[1:]\n",
    "                event_times = [float(line.split(',')[0]) for line in ts_lines]\n",
    "\n",
    "                ts_lines = [line for (line, t) in zip(ts_lines, event_times)\n",
    "                            if -eps < t < (n_hours - 1.0 + eps)] #las horas cuentan de 0 a 23.\n",
    " \n",
    "                # no measurements in ICU\n",
    "                #En aqui no los excluyo porque quiero tener mismo cohorte que benchmark\n",
    "                if len(ts_lines) == 0:\n",
    "                    \n",
    "                    splits = ts_lines_conheader[1].split(',')\n",
    "                    splits[0] = '0.0'\n",
    "                    for i in range(1, 9):\n",
    "                        splits[i]=''\n",
    "                    \n",
    "                    line_age_Prelos_hour0 = ','\n",
    "                    line_age_Prelos_hour0 = line_age_Prelos_hour0.join(splits)\n",
    "                    #line_age_Prelos_hour0 se queda como '0.0,'+''+','+''+','+''+','+''+','+''+','+''+','+''+','+''+','+age+','+prelos+'\\n'\n",
    "                    #print(line_age_Prelos_hour0)\n",
    "                    ts_lines = [line_age_Prelos_hour0]                    \n",
    "                    print(\"\\n\\t(no events except age and prelos in first hours in ICU) \", icustay, ts_filename)\n",
    "                    #continue\n",
    "                    \n",
    "                output_ts_filename = icustay + \"_\" + ts_filename\n",
    "                with open(os.path.join(output_dir, output_ts_filename), \"w\") as outfile:\n",
    "                    outfile.write(header)\n",
    "                    for line in ts_lines:\n",
    "                        outfile.write(line)\n",
    "\n",
    "                xy_pairs.append((output_ts_filename, los_label))\n",
    "\n",
    "    print(\"Number of created samples:\", len(xy_pairs))\n",
    "\n",
    "    with open(os.path.join(output_dir, \"listfile.csv\"), \"w\") as listfile:\n",
    "        listfile.write('stay,y_true\\n')\n",
    "        for (x, y) in xy_pairs:\n",
    "            listfile.write('{},{:d}\\n'.format(x, y))\n",
    "\n",
    "\n"
   ]
  },
  {
   "cell_type": "code",
   "execution_count": 57,
   "metadata": {},
   "outputs": [],
   "source": [
    "root_path = '/data/codi/OASIS/timesSeriesv2_cohorte/data/root/'\n",
    "output_path = '/data/codi/OASIS/timesSeriesv2_cohorte/data/lengthOfStay'\n",
    "testset_listfile_path = '/data/codi/OASIS/timesSeriesv2_cohorte/data/lengthOfStay/testset.csv'\n",
    "trainset_listfile_path = '/data/codi/OASIS/timesSeriesv2_cohorte/data/lengthOfStay/trainset.csv'"
   ]
  },
  {
   "cell_type": "code",
   "execution_count": 58,
   "metadata": {},
   "outputs": [
    {
     "name": "stderr",
     "output_type": "stream",
     "text": [
      "Iterating over stays in test:   3%|▏     | 175/5282 [00:02<01:08, 74.38it/s]"
     ]
    },
    {
     "name": "stdout",
     "output_type": "stream",
     "text": [
      "\n",
      "\t(no events except age and prelos in first hours in ICU)  239511 episode1_timeseries.csv\n"
     ]
    },
    {
     "name": "stderr",
     "output_type": "stream",
     "text": [
      "Iterating over stays in test:   5%|▎     | 270/5282 [00:04<00:58, 85.36it/s]"
     ]
    },
    {
     "name": "stdout",
     "output_type": "stream",
     "text": [
      "\n",
      "\t(no events except age and prelos in first hours in ICU)  203388 episode1_timeseries.csv\n"
     ]
    },
    {
     "name": "stderr",
     "output_type": "stream",
     "text": [
      "Iterating over stays in test:   9%|▌     | 487/5282 [00:07<01:54, 41.87it/s]"
     ]
    },
    {
     "name": "stdout",
     "output_type": "stream",
     "text": [
      "\n",
      "\t(no events except age and prelos in first hours in ICU)  264692 episode1_timeseries.csv\n"
     ]
    },
    {
     "name": "stderr",
     "output_type": "stream",
     "text": [
      "Iterating over stays in test:  18%|█     | 944/5282 [00:15<00:59, 72.77it/s]"
     ]
    },
    {
     "name": "stdout",
     "output_type": "stream",
     "text": [
      "\n",
      "\t(no events except age and prelos in first hours in ICU)  216678 episode1_timeseries.csv\n"
     ]
    },
    {
     "name": "stderr",
     "output_type": "stream",
     "text": [
      "Iterating over stays in test:  21%|█    | 1130/5282 [00:18<00:48, 85.73it/s]"
     ]
    },
    {
     "name": "stdout",
     "output_type": "stream",
     "text": [
      "\n",
      "\t(no events except age and prelos in first hours in ICU)  272784 episode1_timeseries.csv\n"
     ]
    },
    {
     "name": "stderr",
     "output_type": "stream",
     "text": [
      "Iterating over stays in test:  25%|█▎   | 1336/5282 [00:20<00:47, 82.99it/s]"
     ]
    },
    {
     "name": "stdout",
     "output_type": "stream",
     "text": [
      "\n",
      "\t(no events except age and prelos in first hours in ICU)  246438 episode1_timeseries.csv\n"
     ]
    },
    {
     "name": "stderr",
     "output_type": "stream",
     "text": [
      "Iterating over stays in test:  29%|█▍   | 1529/5282 [00:34<01:03, 59.33it/s]"
     ]
    },
    {
     "name": "stdout",
     "output_type": "stream",
     "text": [
      "\n",
      "\t(no events except age and prelos in first hours in ICU)  247924 episode1_timeseries.csv\n"
     ]
    },
    {
     "name": "stderr",
     "output_type": "stream",
     "text": [
      "Iterating over stays in test:  32%|█▌   | 1703/5282 [00:37<01:04, 55.58it/s]"
     ]
    },
    {
     "name": "stdout",
     "output_type": "stream",
     "text": [
      "\n",
      "\t(no events except age and prelos in first hours in ICU)  245500 episode1_timeseries.csv\n"
     ]
    },
    {
     "name": "stderr",
     "output_type": "stream",
     "text": [
      "Iterating over stays in test:  40%|█▉   | 2097/5282 [00:42<00:38, 82.56it/s]"
     ]
    },
    {
     "name": "stdout",
     "output_type": "stream",
     "text": [
      "\n",
      "\t(no events except age and prelos in first hours in ICU)  242499 episode1_timeseries.csv\n"
     ]
    },
    {
     "name": "stderr",
     "output_type": "stream",
     "text": [
      "Iterating over stays in test:  47%|██▎  | 2467/5282 [00:46<00:38, 73.46it/s]"
     ]
    },
    {
     "name": "stdout",
     "output_type": "stream",
     "text": [
      "\n",
      "\t(no events except age and prelos in first hours in ICU)  281209 episode1_timeseries.csv\n"
     ]
    },
    {
     "name": "stderr",
     "output_type": "stream",
     "text": [
      "Iterating over stays in test:  51%|██▌  | 2686/5282 [00:49<00:33, 76.58it/s]"
     ]
    },
    {
     "name": "stdout",
     "output_type": "stream",
     "text": [
      "\n",
      "\t(no events except age and prelos in first hours in ICU)  263926 episode1_timeseries.csv\n"
     ]
    },
    {
     "name": "stderr",
     "output_type": "stream",
     "text": [
      "Iterating over stays in test:  52%|██▌  | 2765/5282 [00:50<00:32, 76.47it/s]"
     ]
    },
    {
     "name": "stdout",
     "output_type": "stream",
     "text": [
      "\n",
      "\t(no events except age and prelos in first hours in ICU)  258588 episode1_timeseries.csv\n"
     ]
    },
    {
     "name": "stderr",
     "output_type": "stream",
     "text": [
      "Iterating over stays in test:  59%|██▉  | 3093/5282 [00:55<00:34, 63.95it/s]"
     ]
    },
    {
     "name": "stdout",
     "output_type": "stream",
     "text": [
      "\n",
      "\t(no events except age and prelos in first hours in ICU)  242950 episode1_timeseries.csv\n"
     ]
    },
    {
     "name": "stderr",
     "output_type": "stream",
     "text": [
      "Iterating over stays in test:  90%|████▍| 4748/5282 [01:27<00:06, 82.21it/s]"
     ]
    },
    {
     "name": "stdout",
     "output_type": "stream",
     "text": [
      "\n",
      "\t(no events except age and prelos in first hours in ICU)  218451 episode1_timeseries.csv\n"
     ]
    },
    {
     "name": "stderr",
     "output_type": "stream",
     "text": [
      "Iterating over stays in test:  95%|████▊| 5042/5282 [01:31<00:03, 68.92it/s]"
     ]
    },
    {
     "name": "stdout",
     "output_type": "stream",
     "text": [
      "\n",
      "\t(no events except age and prelos in first hours in ICU)  284450 episode1_timeseries.csv\n"
     ]
    },
    {
     "name": "stderr",
     "output_type": "stream",
     "text": [
      "Iterating over stays in test:  97%|████▊| 5149/5282 [01:33<00:01, 80.33it/s]"
     ]
    },
    {
     "name": "stdout",
     "output_type": "stream",
     "text": [
      "\n",
      "\t(no events except age and prelos in first hours in ICU)  209237 episode1_timeseries.csv\n"
     ]
    },
    {
     "name": "stderr",
     "output_type": "stream",
     "text": [
      "Iterating over stays in test: 100%|█████| 5282/5282 [01:35<00:00, 55.59it/s]\n"
     ]
    },
    {
     "name": "stdout",
     "output_type": "stream",
     "text": [
      "Number of created samples: 5282\n"
     ]
    },
    {
     "name": "stderr",
     "output_type": "stream",
     "text": [
      "Iterating over stays in train:   0%|     | 56/29846 [00:01<11:15, 44.12it/s]"
     ]
    },
    {
     "name": "stdout",
     "output_type": "stream",
     "text": [
      "\n",
      "\t(no events except age and prelos in first hours in ICU)  274130 episode1_timeseries.csv\n"
     ]
    },
    {
     "name": "stderr",
     "output_type": "stream",
     "text": [
      "Iterating over stays in train:   4%|   | 1154/29846 [00:35<08:29, 56.26it/s]"
     ]
    },
    {
     "name": "stdout",
     "output_type": "stream",
     "text": [
      "\n",
      "\t(no events except age and prelos in first hours in ICU)  227848 episode1_timeseries.csv\n"
     ]
    },
    {
     "name": "stderr",
     "output_type": "stream",
     "text": [
      "Iterating over stays in train:   6%|▏  | 1655/29846 [00:45<08:58, 52.38it/s]"
     ]
    },
    {
     "name": "stdout",
     "output_type": "stream",
     "text": [
      "\n",
      "\t(no events except age and prelos in first hours in ICU)  256732 episode1_timeseries.csv\n"
     ]
    },
    {
     "name": "stderr",
     "output_type": "stream",
     "text": [
      "Iterating over stays in train:   7%|▏  | 2129/29846 [01:08<10:09, 45.46it/s]"
     ]
    },
    {
     "name": "stdout",
     "output_type": "stream",
     "text": [
      "\n",
      "\t(no events except age and prelos in first hours in ICU)  226163 episode1_timeseries.csv\n"
     ]
    },
    {
     "name": "stderr",
     "output_type": "stream",
     "text": [
      "Iterating over stays in train:   8%|▏  | 2344/29846 [01:13<09:11, 49.89it/s]"
     ]
    },
    {
     "name": "stdout",
     "output_type": "stream",
     "text": [
      "\n",
      "\t(no events except age and prelos in first hours in ICU)  239601 episode1_timeseries.csv\n"
     ]
    },
    {
     "name": "stderr",
     "output_type": "stream",
     "text": [
      "Iterating over stays in train:  10%|▎  | 2857/29846 [01:25<08:41, 51.78it/s]"
     ]
    },
    {
     "name": "stdout",
     "output_type": "stream",
     "text": [
      "\n",
      "\t(no events except age and prelos in first hours in ICU)  256782 episode1_timeseries.csv\n"
     ]
    },
    {
     "name": "stderr",
     "output_type": "stream",
     "text": [
      "Iterating over stays in train:  11%| | 3240/29846 [01:45<1:00:36,  7.32it/s]"
     ]
    },
    {
     "name": "stdout",
     "output_type": "stream",
     "text": [
      "\n",
      "\t(no events except age and prelos in first hours in ICU)  277418 episode1_timeseries.csv\n"
     ]
    },
    {
     "name": "stderr",
     "output_type": "stream",
     "text": [
      "Iterating over stays in train:  12%|▎  | 3568/29846 [01:53<09:12, 47.57it/s]"
     ]
    },
    {
     "name": "stdout",
     "output_type": "stream",
     "text": [
      "\n",
      "\t(no events except age and prelos in first hours in ICU)  257118 episode1_timeseries.csv\n"
     ]
    },
    {
     "name": "stderr",
     "output_type": "stream",
     "text": [
      "Iterating over stays in train:  13%|▍  | 3861/29846 [02:00<12:09, 35.63it/s]"
     ]
    },
    {
     "name": "stdout",
     "output_type": "stream",
     "text": [
      "\n",
      "\t(no events except age and prelos in first hours in ICU)  242715 episode1_timeseries.csv\n"
     ]
    },
    {
     "name": "stderr",
     "output_type": "stream",
     "text": [
      "Iterating over stays in train:  15%|▍  | 4392/29846 [02:11<09:27, 44.87it/s]"
     ]
    },
    {
     "name": "stdout",
     "output_type": "stream",
     "text": [
      "\n",
      "\t(no events except age and prelos in first hours in ICU)  201645 episode1_timeseries.csv\n"
     ]
    },
    {
     "name": "stderr",
     "output_type": "stream",
     "text": [
      "Iterating over stays in train:  18%|▌  | 5282/29846 [02:43<09:45, 41.94it/s]"
     ]
    },
    {
     "name": "stdout",
     "output_type": "stream",
     "text": [
      "\n",
      "\t(no events except age and prelos in first hours in ICU)  201249 episode1_timeseries.csv\n"
     ]
    },
    {
     "name": "stderr",
     "output_type": "stream",
     "text": [
      "Iterating over stays in train:  22%|▋  | 6423/29846 [03:21<09:28, 41.23it/s]"
     ]
    },
    {
     "name": "stdout",
     "output_type": "stream",
     "text": [
      "\n",
      "\t(no events except age and prelos in first hours in ICU)  267457 episode1_timeseries.csv\n"
     ]
    },
    {
     "name": "stderr",
     "output_type": "stream",
     "text": [
      "Iterating over stays in train:  23%|▋  | 6882/29846 [03:31<08:23, 45.57it/s]"
     ]
    },
    {
     "name": "stdout",
     "output_type": "stream",
     "text": [
      "\n",
      "\t(no events except age and prelos in first hours in ICU)  268883 episode1_timeseries.csv\n"
     ]
    },
    {
     "name": "stderr",
     "output_type": "stream",
     "text": [
      "Iterating over stays in train:  23%|▋  | 6892/29846 [03:32<09:19, 41.02it/s]"
     ]
    },
    {
     "name": "stdout",
     "output_type": "stream",
     "text": [
      "\n",
      "\t(no events except age and prelos in first hours in ICU)  297462 episode1_timeseries.csv\n"
     ]
    },
    {
     "name": "stderr",
     "output_type": "stream",
     "text": [
      "Iterating over stays in train:  23%|▋  | 6937/29846 [03:32<08:35, 44.40it/s]"
     ]
    },
    {
     "name": "stdout",
     "output_type": "stream",
     "text": [
      "\n",
      "\t(no events except age and prelos in first hours in ICU)  290213 episode1_timeseries.csv\n"
     ]
    },
    {
     "name": "stderr",
     "output_type": "stream",
     "text": [
      "Iterating over stays in train:  24%|▋  | 7148/29846 [03:37<10:16, 36.82it/s]"
     ]
    },
    {
     "name": "stdout",
     "output_type": "stream",
     "text": [
      "\n",
      "\t(no events except age and prelos in first hours in ICU)  202097 episode1_timeseries.csv\n"
     ]
    },
    {
     "name": "stderr",
     "output_type": "stream",
     "text": [
      "Iterating over stays in train:  26%|▊  | 7674/29846 [04:00<08:20, 44.27it/s]"
     ]
    },
    {
     "name": "stdout",
     "output_type": "stream",
     "text": [
      "\n",
      "\t(no events except age and prelos in first hours in ICU)  201480 episode1_timeseries.csv\n"
     ]
    },
    {
     "name": "stderr",
     "output_type": "stream",
     "text": [
      "Iterating over stays in train:  26%|▊  | 7718/29846 [04:01<08:23, 43.95it/s]"
     ]
    },
    {
     "name": "stdout",
     "output_type": "stream",
     "text": [
      "\n",
      "\t(no events except age and prelos in first hours in ICU)  234585 episode1_timeseries.csv\n"
     ]
    },
    {
     "name": "stderr",
     "output_type": "stream",
     "text": [
      "Iterating over stays in train:  29%|▊  | 8541/29846 [04:28<31:12, 11.38it/s]"
     ]
    },
    {
     "name": "stdout",
     "output_type": "stream",
     "text": [
      "\n",
      "\t(no events except age and prelos in first hours in ICU)  276557 episode1_timeseries.csv\n"
     ]
    },
    {
     "name": "stderr",
     "output_type": "stream",
     "text": [
      "Iterating over stays in train:  30%|▉  | 8848/29846 [04:38<07:37, 45.94it/s]"
     ]
    },
    {
     "name": "stdout",
     "output_type": "stream",
     "text": [
      "\n",
      "\t(no events except age and prelos in first hours in ICU)  265722 episode1_timeseries.csv\n"
     ]
    },
    {
     "name": "stderr",
     "output_type": "stream",
     "text": [
      "Iterating over stays in train:  31%|▉  | 9376/29846 [04:50<08:19, 40.99it/s]"
     ]
    },
    {
     "name": "stdout",
     "output_type": "stream",
     "text": [
      "\n",
      "\t(no events except age and prelos in first hours in ICU)  207378 episode1_timeseries.csv\n"
     ]
    },
    {
     "name": "stderr",
     "output_type": "stream",
     "text": [
      "Iterating over stays in train:  32%|▉  | 9563/29846 [04:54<04:55, 68.56it/s]"
     ]
    },
    {
     "name": "stdout",
     "output_type": "stream",
     "text": [
      "\n",
      "\t(no events except age and prelos in first hours in ICU)  239993 episode1_timeseries.csv\n"
     ]
    },
    {
     "name": "stderr",
     "output_type": "stream",
     "text": [
      "Iterating over stays in train:  33%|▉  | 9781/29846 [04:59<09:45, 34.29it/s]"
     ]
    },
    {
     "name": "stdout",
     "output_type": "stream",
     "text": [
      "\n",
      "\t(no events except age and prelos in first hours in ICU)  205366 episode1_timeseries.csv\n"
     ]
    },
    {
     "name": "stderr",
     "output_type": "stream",
     "text": [
      "Iterating over stays in train:  33%|█  | 9975/29846 [05:16<10:40, 31.04it/s]"
     ]
    },
    {
     "name": "stdout",
     "output_type": "stream",
     "text": [
      "\n",
      "\t(no events except age and prelos in first hours in ICU)  286008 episode1_timeseries.csv\n"
     ]
    },
    {
     "name": "stderr",
     "output_type": "stream",
     "text": [
      "Iterating over stays in train:  34%|▋ | 10060/29846 [05:18<08:16, 39.85it/s]"
     ]
    },
    {
     "name": "stdout",
     "output_type": "stream",
     "text": [
      "\n",
      "\t(no events except age and prelos in first hours in ICU)  219601 episode1_timeseries.csv\n"
     ]
    },
    {
     "name": "stderr",
     "output_type": "stream",
     "text": [
      "Iterating over stays in train:  34%|▋ | 10158/29846 [05:20<06:51, 47.85it/s]"
     ]
    },
    {
     "name": "stdout",
     "output_type": "stream",
     "text": [
      "\n",
      "\t(no events except age and prelos in first hours in ICU)  291618 episode1_timeseries.csv\n"
     ]
    },
    {
     "name": "stderr",
     "output_type": "stream",
     "text": [
      "Iterating over stays in train:  34%|▋ | 10183/29846 [05:20<06:35, 49.74it/s]"
     ]
    },
    {
     "name": "stdout",
     "output_type": "stream",
     "text": [
      "\n",
      "\t(no events except age and prelos in first hours in ICU)  217347 episode1_timeseries.csv\n"
     ]
    },
    {
     "name": "stderr",
     "output_type": "stream",
     "text": [
      "Iterating over stays in train:  35%|▋ | 10471/29846 [05:27<07:08, 45.23it/s]"
     ]
    },
    {
     "name": "stdout",
     "output_type": "stream",
     "text": [
      "\n",
      "\t(no events except age and prelos in first hours in ICU)  245630 episode1_timeseries.csv\n"
     ]
    },
    {
     "name": "stderr",
     "output_type": "stream",
     "text": [
      "Iterating over stays in train:  36%|▋ | 10679/29846 [05:32<06:53, 46.40it/s]"
     ]
    },
    {
     "name": "stdout",
     "output_type": "stream",
     "text": [
      "\n",
      "\t(no events except age and prelos in first hours in ICU)  244978 episode1_timeseries.csv\n"
     ]
    },
    {
     "name": "stderr",
     "output_type": "stream",
     "text": [
      "Iterating over stays in train:  38%|▊ | 11350/29846 [05:59<13:26, 22.94it/s]"
     ]
    },
    {
     "name": "stdout",
     "output_type": "stream",
     "text": [
      "\n",
      "\t(no events except age and prelos in first hours in ICU)  247559 episode1_timeseries.csv\n"
     ]
    },
    {
     "name": "stderr",
     "output_type": "stream",
     "text": [
      "Iterating over stays in train:  41%|▊ | 12181/29846 [06:18<05:52, 50.15it/s]"
     ]
    },
    {
     "name": "stdout",
     "output_type": "stream",
     "text": [
      "\n",
      "\t(no events except age and prelos in first hours in ICU)  217945 episode1_timeseries.csv\n"
     ]
    },
    {
     "name": "stderr",
     "output_type": "stream",
     "text": [
      "Iterating over stays in train:  43%|▊ | 12711/29846 [06:41<14:24, 19.82it/s]"
     ]
    },
    {
     "name": "stdout",
     "output_type": "stream",
     "text": [
      "\n",
      "\t(no events except age and prelos in first hours in ICU)  286937 episode1_timeseries.csv\n"
     ]
    },
    {
     "name": "stderr",
     "output_type": "stream",
     "text": [
      "Iterating over stays in train:  44%|▉ | 13157/29846 [06:51<07:09, 38.88it/s]"
     ]
    },
    {
     "name": "stdout",
     "output_type": "stream",
     "text": [
      "\n",
      "\t(no events except age and prelos in first hours in ICU)  204551 episode1_timeseries.csv\n"
     ]
    },
    {
     "name": "stderr",
     "output_type": "stream",
     "text": [
      "Iterating over stays in train:  48%|▉ | 14230/29846 [07:29<08:05, 32.16it/s]"
     ]
    },
    {
     "name": "stdout",
     "output_type": "stream",
     "text": [
      "\n",
      "\t(no events except age and prelos in first hours in ICU)  231624 episode1_timeseries.csv\n"
     ]
    },
    {
     "name": "stderr",
     "output_type": "stream",
     "text": [
      "Iterating over stays in train:  50%|▉ | 14895/29846 [07:44<05:36, 44.49it/s]"
     ]
    },
    {
     "name": "stdout",
     "output_type": "stream",
     "text": [
      "\n",
      "\t(no events except age and prelos in first hours in ICU)  256933 episode1_timeseries.csv\n"
     ]
    },
    {
     "name": "stderr",
     "output_type": "stream",
     "text": [
      "Iterating over stays in train:  52%|█ | 15646/29846 [08:13<05:41, 41.55it/s]"
     ]
    },
    {
     "name": "stdout",
     "output_type": "stream",
     "text": [
      "\n",
      "\t(no events except age and prelos in first hours in ICU)  262641 episode1_timeseries.csv\n"
     ]
    },
    {
     "name": "stderr",
     "output_type": "stream",
     "text": [
      "Iterating over stays in train:  54%|█ | 16220/29846 [08:28<05:27, 41.63it/s]"
     ]
    },
    {
     "name": "stdout",
     "output_type": "stream",
     "text": [
      "\n",
      "\t(no events except age and prelos in first hours in ICU)  266631 episode1_timeseries.csv\n"
     ]
    },
    {
     "name": "stderr",
     "output_type": "stream",
     "text": [
      "Iterating over stays in train:  55%|█ | 16431/29846 [08:33<05:37, 39.69it/s]"
     ]
    },
    {
     "name": "stdout",
     "output_type": "stream",
     "text": [
      "\n",
      "\t(no events except age and prelos in first hours in ICU)  225095 episode1_timeseries.csv\n"
     ]
    },
    {
     "name": "stderr",
     "output_type": "stream",
     "text": [
      "Iterating over stays in train:  56%|█ | 16742/29846 [08:53<04:39, 46.93it/s]"
     ]
    },
    {
     "name": "stdout",
     "output_type": "stream",
     "text": [
      "\n",
      "\t(no events except age and prelos in first hours in ICU)  262101 episode1_timeseries.csv\n"
     ]
    },
    {
     "name": "stderr",
     "output_type": "stream",
     "text": [
      "Iterating over stays in train:  60%|█▏| 17798/29846 [09:19<05:20, 37.62it/s]"
     ]
    },
    {
     "name": "stdout",
     "output_type": "stream",
     "text": [
      "\n",
      "\t(no events except age and prelos in first hours in ICU)  256792 episode1_timeseries.csv\n"
     ]
    },
    {
     "name": "stderr",
     "output_type": "stream",
     "text": [
      "Iterating over stays in train:  61%|█▏| 18074/29846 [09:36<05:31, 35.52it/s]"
     ]
    },
    {
     "name": "stdout",
     "output_type": "stream",
     "text": [
      "\n",
      "\t(no events except age and prelos in first hours in ICU)  268500 episode1_timeseries.csv\n"
     ]
    },
    {
     "name": "stderr",
     "output_type": "stream",
     "text": [
      "Iterating over stays in train:  61%|█▏| 18331/29846 [09:42<03:41, 51.89it/s]"
     ]
    },
    {
     "name": "stdout",
     "output_type": "stream",
     "text": [
      "\n",
      "\t(no events except age and prelos in first hours in ICU)  248696 episode1_timeseries.csv\n"
     ]
    },
    {
     "name": "stderr",
     "output_type": "stream",
     "text": [
      "Iterating over stays in train:  62%|█▏| 18477/29846 [09:45<04:44, 40.00it/s]"
     ]
    },
    {
     "name": "stdout",
     "output_type": "stream",
     "text": [
      "\n",
      "\t(no events except age and prelos in first hours in ICU)  269334 episode1_timeseries.csv\n"
     ]
    },
    {
     "name": "stderr",
     "output_type": "stream",
     "text": [
      "Iterating over stays in train:  65%|█▎| 19418/29846 [10:19<03:46, 45.96it/s]"
     ]
    },
    {
     "name": "stdout",
     "output_type": "stream",
     "text": [
      "\n",
      "\t(no events except age and prelos in first hours in ICU)  256511 episode1_timeseries.csv\n"
     ]
    },
    {
     "name": "stderr",
     "output_type": "stream",
     "text": [
      "Iterating over stays in train:  66%|█▎| 19622/29846 [10:25<04:19, 39.47it/s]"
     ]
    },
    {
     "name": "stdout",
     "output_type": "stream",
     "text": [
      "\n",
      "\t(no events except age and prelos in first hours in ICU)  276773 episode1_timeseries.csv\n"
     ]
    },
    {
     "name": "stderr",
     "output_type": "stream",
     "text": [
      "Iterating over stays in train:  66%|█▎| 19693/29846 [10:27<04:34, 37.01it/s]"
     ]
    },
    {
     "name": "stdout",
     "output_type": "stream",
     "text": [
      "\n",
      "\t(no events except age and prelos in first hours in ICU)  224395 episode1_timeseries.csv\n"
     ]
    },
    {
     "name": "stderr",
     "output_type": "stream",
     "text": [
      "Iterating over stays in train:  67%|█▎| 20100/29846 [10:37<03:46, 42.99it/s]"
     ]
    },
    {
     "name": "stdout",
     "output_type": "stream",
     "text": [
      "\n",
      "\t(no events except age and prelos in first hours in ICU)  259335 episode1_timeseries.csv\n"
     ]
    },
    {
     "name": "stderr",
     "output_type": "stream",
     "text": [
      "Iterating over stays in train:  69%|█▍| 20577/29846 [10:58<05:07, 30.14it/s]"
     ]
    },
    {
     "name": "stdout",
     "output_type": "stream",
     "text": [
      "\n",
      "\t(no events except age and prelos in first hours in ICU)  276690 episode1_timeseries.csv\n"
     ]
    },
    {
     "name": "stderr",
     "output_type": "stream",
     "text": [
      "Iterating over stays in train:  70%|█▍| 20969/29846 [11:08<03:13, 45.79it/s]"
     ]
    },
    {
     "name": "stdout",
     "output_type": "stream",
     "text": [
      "\n",
      "\t(no events except age and prelos in first hours in ICU)  245492 episode1_timeseries.csv\n"
     ]
    },
    {
     "name": "stderr",
     "output_type": "stream",
     "text": [
      "Iterating over stays in train:  72%|█▍| 21508/29846 [11:21<03:03, 45.53it/s]"
     ]
    },
    {
     "name": "stdout",
     "output_type": "stream",
     "text": [
      "\n",
      "\t(no events except age and prelos in first hours in ICU)  294276 episode1_timeseries.csv\n"
     ]
    },
    {
     "name": "stderr",
     "output_type": "stream",
     "text": [
      "Iterating over stays in train:  74%|█▍| 22124/29846 [11:48<04:00, 32.08it/s]"
     ]
    },
    {
     "name": "stdout",
     "output_type": "stream",
     "text": [
      "\n",
      "\t(no events except age and prelos in first hours in ICU)  259658 episode1_timeseries.csv\n"
     ]
    },
    {
     "name": "stderr",
     "output_type": "stream",
     "text": [
      "Iterating over stays in train:  76%|█▌| 22585/29846 [12:00<02:44, 44.01it/s]"
     ]
    },
    {
     "name": "stdout",
     "output_type": "stream",
     "text": [
      "\n",
      "\t(no events except age and prelos in first hours in ICU)  245887 episode1_timeseries.csv\n"
     ]
    },
    {
     "name": "stderr",
     "output_type": "stream",
     "text": [
      "Iterating over stays in train:  76%|█▌| 22650/29846 [12:01<02:57, 40.53it/s]"
     ]
    },
    {
     "name": "stdout",
     "output_type": "stream",
     "text": [
      "\n",
      "\t(no events except age and prelos in first hours in ICU)  236642 episode1_timeseries.csv\n"
     ]
    },
    {
     "name": "stderr",
     "output_type": "stream",
     "text": [
      "Iterating over stays in train:  77%|█▌| 23049/29846 [12:21<15:51,  7.15it/s]"
     ]
    },
    {
     "name": "stdout",
     "output_type": "stream",
     "text": [
      "\n",
      "\t(no events except age and prelos in first hours in ICU)  226935 episode1_timeseries.csv\n"
     ]
    },
    {
     "name": "stderr",
     "output_type": "stream",
     "text": [
      "Iterating over stays in train:  78%|█▌| 23401/29846 [12:32<02:52, 37.36it/s]"
     ]
    },
    {
     "name": "stdout",
     "output_type": "stream",
     "text": [
      "\n",
      "\t(no events except age and prelos in first hours in ICU)  242700 episode1_timeseries.csv\n"
     ]
    },
    {
     "name": "stderr",
     "output_type": "stream",
     "text": [
      "Iterating over stays in train:  80%|█▌| 23860/29846 [12:44<02:18, 43.25it/s]"
     ]
    },
    {
     "name": "stdout",
     "output_type": "stream",
     "text": [
      "\n",
      "\t(no events except age and prelos in first hours in ICU)  231712 episode1_timeseries.csv\n"
     ]
    },
    {
     "name": "stderr",
     "output_type": "stream",
     "text": [
      "Iterating over stays in train:  80%|█▌| 23888/29846 [12:45<02:32, 39.09it/s]"
     ]
    },
    {
     "name": "stdout",
     "output_type": "stream",
     "text": [
      "\n",
      "\t(no events except age and prelos in first hours in ICU)  237522 episode1_timeseries.csv\n"
     ]
    },
    {
     "name": "stderr",
     "output_type": "stream",
     "text": [
      "Iterating over stays in train:  82%|█▋| 24534/29846 [13:12<02:18, 38.47it/s]"
     ]
    },
    {
     "name": "stdout",
     "output_type": "stream",
     "text": [
      "\n",
      "\t(no events except age and prelos in first hours in ICU)  225500 episode1_timeseries.csv\n"
     ]
    },
    {
     "name": "stderr",
     "output_type": "stream",
     "text": [
      "Iterating over stays in train:  83%|█▋| 24821/29846 [13:19<02:03, 40.67it/s]"
     ]
    },
    {
     "name": "stdout",
     "output_type": "stream",
     "text": [
      "\n",
      "\t(no events except age and prelos in first hours in ICU)  239751 episode1_timeseries.csv\n"
     ]
    },
    {
     "name": "stderr",
     "output_type": "stream",
     "text": [
      "Iterating over stays in train:  86%|█▋| 25798/29846 [13:55<01:53, 35.59it/s]"
     ]
    },
    {
     "name": "stdout",
     "output_type": "stream",
     "text": [
      "\n",
      "\t(no events except age and prelos in first hours in ICU)  297436 episode1_timeseries.csv\n"
     ]
    },
    {
     "name": "stderr",
     "output_type": "stream",
     "text": [
      "Iterating over stays in train:  88%|█▊| 26139/29846 [14:04<01:18, 47.03it/s]"
     ]
    },
    {
     "name": "stdout",
     "output_type": "stream",
     "text": [
      "\n",
      "\t(no events except age and prelos in first hours in ICU)  224922 episode1_timeseries.csv\n"
     ]
    },
    {
     "name": "stderr",
     "output_type": "stream",
     "text": [
      "Iterating over stays in train:  89%|█▊| 26615/29846 [14:16<01:06, 48.25it/s]"
     ]
    },
    {
     "name": "stdout",
     "output_type": "stream",
     "text": [
      "\n",
      "\t(no events except age and prelos in first hours in ICU)  275180 episode1_timeseries.csv\n"
     ]
    },
    {
     "name": "stderr",
     "output_type": "stream",
     "text": [
      "Iterating over stays in train:  92%|█▊| 27315/29846 [14:46<01:03, 39.77it/s]"
     ]
    },
    {
     "name": "stdout",
     "output_type": "stream",
     "text": [
      "\n",
      "\t(no events except age and prelos in first hours in ICU)  213927 episode1_timeseries.csv\n"
     ]
    },
    {
     "name": "stderr",
     "output_type": "stream",
     "text": [
      "Iterating over stays in train:  93%|█▊| 27678/29846 [14:56<00:59, 36.73it/s]"
     ]
    },
    {
     "name": "stdout",
     "output_type": "stream",
     "text": [
      "\n",
      "\t(no events except age and prelos in first hours in ICU)  208605 episode1_timeseries.csv\n"
     ]
    },
    {
     "name": "stderr",
     "output_type": "stream",
     "text": [
      "Iterating over stays in train:  94%|█▉| 28089/29846 [15:16<00:50, 34.50it/s]"
     ]
    },
    {
     "name": "stdout",
     "output_type": "stream",
     "text": [
      "\n",
      "\t(no events except age and prelos in first hours in ICU)  296168 episode1_timeseries.csv\n"
     ]
    },
    {
     "name": "stderr",
     "output_type": "stream",
     "text": [
      "Iterating over stays in train:  96%|█▉| 28792/29846 [15:34<00:21, 49.85it/s]"
     ]
    },
    {
     "name": "stdout",
     "output_type": "stream",
     "text": [
      "\n",
      "\t(no events except age and prelos in first hours in ICU)  251459 episode1_timeseries.csv\n"
     ]
    },
    {
     "name": "stderr",
     "output_type": "stream",
     "text": [
      "Iterating over stays in train:  99%|█▉| 29608/29846 [16:07<00:06, 34.48it/s]"
     ]
    },
    {
     "name": "stdout",
     "output_type": "stream",
     "text": [
      "\n",
      "\t(no events except age and prelos in first hours in ICU)  224542 episode1_timeseries.csv\n"
     ]
    },
    {
     "name": "stderr",
     "output_type": "stream",
     "text": [
      "Iterating over stays in train: 100%|██| 29846/29846 [16:13<00:00, 30.67it/s]\n"
     ]
    },
    {
     "name": "stdout",
     "output_type": "stream",
     "text": [
      "Number of created samples: 29846\n"
     ]
    }
   ],
   "source": [
    "if not os.path.exists(output_path):\n",
    "    os.makedirs(output_path)\n",
    "\n",
    "process_partition(root_path,output_path, \"test\", testset_listfile_path)\n",
    "process_partition(root_path,output_path, \"train\", trainset_listfile_path)"
   ]
  },
  {
   "cell_type": "code",
   "execution_count": 59,
   "metadata": {},
   "outputs": [],
   "source": [
    "#pd.read_csv('/home/usuario/TFG/code/timesSeriesv2_cohorte/data/lengthOfStay/test/295741_episode1_timeseries.csv')"
   ]
  },
  {
   "cell_type": "code",
   "execution_count": 60,
   "metadata": {},
   "outputs": [
    {
     "data": {
      "text/html": [
       "<div>\n",
       "<style scoped>\n",
       "    .dataframe tbody tr th:only-of-type {\n",
       "        vertical-align: middle;\n",
       "    }\n",
       "\n",
       "    .dataframe tbody tr th {\n",
       "        vertical-align: top;\n",
       "    }\n",
       "\n",
       "    .dataframe thead th {\n",
       "        text-align: right;\n",
       "    }\n",
       "</style>\n",
       "<table border=\"1\" class=\"dataframe\">\n",
       "  <thead>\n",
       "    <tr style=\"text-align: right;\">\n",
       "      <th></th>\n",
       "      <th>Hours</th>\n",
       "      <th>HRATE</th>\n",
       "      <th>MAP</th>\n",
       "      <th>RESP_RATE</th>\n",
       "      <th>TEMP_C</th>\n",
       "      <th>gcs_e</th>\n",
       "      <th>gcs_m</th>\n",
       "      <th>gcs_total_carevue</th>\n",
       "      <th>gcs_v</th>\n",
       "      <th>AGE</th>\n",
       "      <th>PRELOS</th>\n",
       "    </tr>\n",
       "  </thead>\n",
       "  <tbody>\n",
       "    <tr>\n",
       "      <th>0</th>\n",
       "      <td>0.0</td>\n",
       "      <td>NaN</td>\n",
       "      <td>NaN</td>\n",
       "      <td>NaN</td>\n",
       "      <td>NaN</td>\n",
       "      <td>NaN</td>\n",
       "      <td>NaN</td>\n",
       "      <td>NaN</td>\n",
       "      <td>NaN</td>\n",
       "      <td>63.139726</td>\n",
       "      <td>0.0</td>\n",
       "    </tr>\n",
       "  </tbody>\n",
       "</table>\n",
       "</div>"
      ],
      "text/plain": [
       "   Hours  HRATE  MAP  RESP_RATE  TEMP_C  gcs_e  gcs_m  gcs_total_carevue  \\\n",
       "0    0.0    NaN  NaN        NaN     NaN    NaN    NaN                NaN   \n",
       "\n",
       "   gcs_v        AGE  PRELOS  \n",
       "0    NaN  63.139726     0.0  "
      ]
     },
     "execution_count": 60,
     "metadata": {},
     "output_type": "execute_result"
    }
   ],
   "source": [
    "pd.read_csv('/data/codi/OASIS/timesSeriesv2_cohorte/data/lengthOfStay/test/239511_episode1_timeseries.csv')"
   ]
  },
  {
   "cell_type": "code",
   "execution_count": 61,
   "metadata": {},
   "outputs": [
    {
     "data": {
      "text/html": [
       "<div>\n",
       "<style scoped>\n",
       "    .dataframe tbody tr th:only-of-type {\n",
       "        vertical-align: middle;\n",
       "    }\n",
       "\n",
       "    .dataframe tbody tr th {\n",
       "        vertical-align: top;\n",
       "    }\n",
       "\n",
       "    .dataframe thead th {\n",
       "        text-align: right;\n",
       "    }\n",
       "</style>\n",
       "<table border=\"1\" class=\"dataframe\">\n",
       "  <thead>\n",
       "    <tr style=\"text-align: right;\">\n",
       "      <th></th>\n",
       "      <th>Hours</th>\n",
       "      <th>HRATE</th>\n",
       "      <th>MAP</th>\n",
       "      <th>RESP_RATE</th>\n",
       "      <th>TEMP_C</th>\n",
       "      <th>gcs_e</th>\n",
       "      <th>gcs_m</th>\n",
       "      <th>gcs_total_carevue</th>\n",
       "      <th>gcs_v</th>\n",
       "      <th>AGE</th>\n",
       "      <th>PRELOS</th>\n",
       "    </tr>\n",
       "  </thead>\n",
       "  <tbody>\n",
       "    <tr>\n",
       "      <th>0</th>\n",
       "      <td>0.0</td>\n",
       "      <td>NaN</td>\n",
       "      <td>NaN</td>\n",
       "      <td>NaN</td>\n",
       "      <td>NaN</td>\n",
       "      <td>NaN</td>\n",
       "      <td>NaN</td>\n",
       "      <td>NaN</td>\n",
       "      <td>NaN</td>\n",
       "      <td>67.241096</td>\n",
       "      <td>114.6</td>\n",
       "    </tr>\n",
       "  </tbody>\n",
       "</table>\n",
       "</div>"
      ],
      "text/plain": [
       "   Hours  HRATE  MAP  RESP_RATE  TEMP_C  gcs_e  gcs_m  gcs_total_carevue  \\\n",
       "0    0.0    NaN  NaN        NaN     NaN    NaN    NaN                NaN   \n",
       "\n",
       "   gcs_v        AGE  PRELOS  \n",
       "0    NaN  67.241096   114.6  "
      ]
     },
     "execution_count": 61,
     "metadata": {},
     "output_type": "execute_result"
    }
   ],
   "source": [
    "pd.read_csv('/data/codi/OASIS/timesSeriesv2_cohorte/data/lengthOfStay/train/201645_episode1_timeseries.csv')"
   ]
  },
  {
   "cell_type": "markdown",
   "metadata": {},
   "source": [
    "#### Create a unique timeSeries dataset in csv format for prediction task."
   ]
  },
  {
   "cell_type": "code",
   "execution_count": 62,
   "metadata": {},
   "outputs": [],
   "source": [
    "stays_root_path = '/data/codi/OASIS/timesSeriesv2_cohorte/data/lengthOfStay/train'"
   ]
  },
  {
   "cell_type": "code",
   "execution_count": 63,
   "metadata": {},
   "outputs": [
    {
     "name": "stderr",
     "output_type": "stream",
     "text": [
      "Iterating over stays: 100%|███████████| 29846/29846 [13:02<00:00, 38.13it/s]\n"
     ]
    }
   ],
   "source": [
    "result_OneBigDataset = pd.DataFrame()\n",
    "y_true =  pd.DataFrame()\n",
    "listfile = pd.read_csv(os.path.join(stays_root_path,'listfile.csv'))\n",
    "\n",
    "#normal range of measuraments\n",
    "values = {'gcs_e': 4, 'gcs_m': 6, 'gcs_v': 5, 'gcs_total_carevue': 15,\n",
    "                      'HRATE': 86,'MAP':77,'RESP_RATE':19,'TEMP_C':36.6}\n",
    "            \n",
    "\n",
    "#Iterar los icustays con mismo orden que listfile de otros modelos. (para luego el cross validation sea sobre mismos splits)\n",
    "lista_stays_en_orden = listfile['stay'].tolist()\n",
    "\n",
    "#for stay_dir in tqdm(['201645_episode1_timeseries.csv'], desc='Iterating over stays'): #prueba\n",
    "    \n",
    "for stay_dir in tqdm(lista_stays_en_orden, desc='Iterating over stays'):\n",
    "    dn = os.path.join(stays_root_path, stay_dir)\n",
    "        \n",
    "    try:\n",
    "        # reading timeseries and concate\n",
    "        stayTimeSeries = pd.read_csv(dn)\n",
    "        stayTimeSeries['Hours'] = np.round(stayTimeSeries['Hours'],0) \n",
    "        stayTimeSeries = stayTimeSeries.drop_duplicates(subset=['Hours'], keep='last')\n",
    "        new_index = pd.Index(np.arange(0,24,1), name=\"Hours\")\n",
    "        stayTimeSeries = stayTimeSeries.set_index(\"Hours\").reindex(new_index).reset_index()\n",
    "        \n",
    "        stayTimeSeries.fillna(method='ffill', inplace=True)\n",
    "        #Dummy solution if whole column is nan or no have previous non nan value, fill nan with normal range\n",
    "        #Para Age y Prelos seguro tiene algun valor\n",
    "        stayTimeSeries['AGE'].fillna(method='bfill', inplace=True)\n",
    "        stayTimeSeries['PRELOS'].fillna(method='bfill', inplace=True)\n",
    "\n",
    "        if(stayTimeSeries['AGE'].isnull().all() or stayTimeSeries['PRELOS'].isnull().all()):\n",
    "            print('Error reading age and prelos for icustay_id: {}\\n'.format(stay_dir))\n",
    "            #continue\n",
    "\n",
    "        stayTimeSeries.fillna(value=values,inplace=True)\n",
    "        result_OneBigDataset = pd.concat([result_OneBigDataset,stayTimeSeries])\n",
    "\n",
    "        stay_y_true =  listfile.loc[listfile['stay'] == stay_dir]['y_true']\n",
    "        y_true = pd.concat([y_true,stay_y_true], ignore_index=True)\n",
    "\n",
    "    except:\n",
    "        sys.stderr.write('Error reading from disk for icustay_id: {}\\n'.format(stay_dir))\n",
    "        continue\n",
    "\n"
   ]
  },
  {
   "cell_type": "code",
   "execution_count": 64,
   "metadata": {},
   "outputs": [],
   "source": [
    "#prueba_train = np.array(result_OneBigDataset.drop(['Hours'],axis=1)).reshape(y_true.shape[0], 24, 10)\n",
    "#prueba_train.shape"
   ]
  },
  {
   "cell_type": "code",
   "execution_count": 65,
   "metadata": {
    "scrolled": true
   },
   "outputs": [
    {
     "data": {
      "text/html": [
       "<div>\n",
       "<style scoped>\n",
       "    .dataframe tbody tr th:only-of-type {\n",
       "        vertical-align: middle;\n",
       "    }\n",
       "\n",
       "    .dataframe tbody tr th {\n",
       "        vertical-align: top;\n",
       "    }\n",
       "\n",
       "    .dataframe thead th {\n",
       "        text-align: right;\n",
       "    }\n",
       "</style>\n",
       "<table border=\"1\" class=\"dataframe\">\n",
       "  <thead>\n",
       "    <tr style=\"text-align: right;\">\n",
       "      <th></th>\n",
       "      <th>Hours</th>\n",
       "      <th>HRATE</th>\n",
       "      <th>MAP</th>\n",
       "      <th>RESP_RATE</th>\n",
       "      <th>TEMP_C</th>\n",
       "      <th>gcs_e</th>\n",
       "      <th>gcs_m</th>\n",
       "      <th>gcs_total_carevue</th>\n",
       "      <th>gcs_v</th>\n",
       "      <th>AGE</th>\n",
       "      <th>PRELOS</th>\n",
       "    </tr>\n",
       "  </thead>\n",
       "  <tbody>\n",
       "    <tr>\n",
       "      <th>0</th>\n",
       "      <td>0</td>\n",
       "      <td>97.0</td>\n",
       "      <td>74.000000</td>\n",
       "      <td>23.0</td>\n",
       "      <td>36.600000</td>\n",
       "      <td>4.0</td>\n",
       "      <td>6.0</td>\n",
       "      <td>15.0</td>\n",
       "      <td>5.0</td>\n",
       "      <td>43.531507</td>\n",
       "      <td>2.8</td>\n",
       "    </tr>\n",
       "    <tr>\n",
       "      <th>1</th>\n",
       "      <td>1</td>\n",
       "      <td>96.0</td>\n",
       "      <td>74.000000</td>\n",
       "      <td>22.0</td>\n",
       "      <td>36.600000</td>\n",
       "      <td>3.0</td>\n",
       "      <td>6.0</td>\n",
       "      <td>15.0</td>\n",
       "      <td>1.0</td>\n",
       "      <td>43.531507</td>\n",
       "      <td>2.8</td>\n",
       "    </tr>\n",
       "    <tr>\n",
       "      <th>2</th>\n",
       "      <td>2</td>\n",
       "      <td>90.0</td>\n",
       "      <td>74.000000</td>\n",
       "      <td>20.0</td>\n",
       "      <td>36.600000</td>\n",
       "      <td>3.0</td>\n",
       "      <td>6.0</td>\n",
       "      <td>15.0</td>\n",
       "      <td>1.0</td>\n",
       "      <td>43.531507</td>\n",
       "      <td>2.8</td>\n",
       "    </tr>\n",
       "    <tr>\n",
       "      <th>3</th>\n",
       "      <td>3</td>\n",
       "      <td>90.0</td>\n",
       "      <td>76.000000</td>\n",
       "      <td>16.0</td>\n",
       "      <td>36.600000</td>\n",
       "      <td>3.0</td>\n",
       "      <td>6.0</td>\n",
       "      <td>15.0</td>\n",
       "      <td>1.0</td>\n",
       "      <td>43.531507</td>\n",
       "      <td>2.8</td>\n",
       "    </tr>\n",
       "    <tr>\n",
       "      <th>4</th>\n",
       "      <td>4</td>\n",
       "      <td>81.0</td>\n",
       "      <td>76.000000</td>\n",
       "      <td>16.0</td>\n",
       "      <td>36.600000</td>\n",
       "      <td>3.0</td>\n",
       "      <td>6.0</td>\n",
       "      <td>15.0</td>\n",
       "      <td>1.0</td>\n",
       "      <td>43.531507</td>\n",
       "      <td>2.8</td>\n",
       "    </tr>\n",
       "    <tr>\n",
       "      <th>5</th>\n",
       "      <td>5</td>\n",
       "      <td>80.0</td>\n",
       "      <td>76.000000</td>\n",
       "      <td>15.0</td>\n",
       "      <td>36.944444</td>\n",
       "      <td>3.0</td>\n",
       "      <td>6.0</td>\n",
       "      <td>15.0</td>\n",
       "      <td>1.0</td>\n",
       "      <td>43.531507</td>\n",
       "      <td>2.8</td>\n",
       "    </tr>\n",
       "    <tr>\n",
       "      <th>6</th>\n",
       "      <td>6</td>\n",
       "      <td>83.0</td>\n",
       "      <td>81.000000</td>\n",
       "      <td>18.0</td>\n",
       "      <td>36.944444</td>\n",
       "      <td>3.0</td>\n",
       "      <td>6.0</td>\n",
       "      <td>15.0</td>\n",
       "      <td>1.0</td>\n",
       "      <td>43.531507</td>\n",
       "      <td>2.8</td>\n",
       "    </tr>\n",
       "    <tr>\n",
       "      <th>7</th>\n",
       "      <td>7</td>\n",
       "      <td>88.0</td>\n",
       "      <td>81.000000</td>\n",
       "      <td>18.0</td>\n",
       "      <td>36.944444</td>\n",
       "      <td>3.0</td>\n",
       "      <td>6.0</td>\n",
       "      <td>15.0</td>\n",
       "      <td>1.0</td>\n",
       "      <td>43.531507</td>\n",
       "      <td>2.8</td>\n",
       "    </tr>\n",
       "    <tr>\n",
       "      <th>8</th>\n",
       "      <td>8</td>\n",
       "      <td>86.0</td>\n",
       "      <td>81.000000</td>\n",
       "      <td>16.0</td>\n",
       "      <td>36.944444</td>\n",
       "      <td>3.0</td>\n",
       "      <td>6.0</td>\n",
       "      <td>15.0</td>\n",
       "      <td>1.0</td>\n",
       "      <td>43.531507</td>\n",
       "      <td>2.8</td>\n",
       "    </tr>\n",
       "    <tr>\n",
       "      <th>9</th>\n",
       "      <td>9</td>\n",
       "      <td>89.0</td>\n",
       "      <td>78.000000</td>\n",
       "      <td>18.0</td>\n",
       "      <td>37.055556</td>\n",
       "      <td>3.0</td>\n",
       "      <td>6.0</td>\n",
       "      <td>15.0</td>\n",
       "      <td>5.0</td>\n",
       "      <td>43.531507</td>\n",
       "      <td>2.8</td>\n",
       "    </tr>\n",
       "    <tr>\n",
       "      <th>10</th>\n",
       "      <td>10</td>\n",
       "      <td>100.0</td>\n",
       "      <td>78.000000</td>\n",
       "      <td>24.0</td>\n",
       "      <td>37.055556</td>\n",
       "      <td>3.0</td>\n",
       "      <td>6.0</td>\n",
       "      <td>15.0</td>\n",
       "      <td>5.0</td>\n",
       "      <td>43.531507</td>\n",
       "      <td>2.8</td>\n",
       "    </tr>\n",
       "    <tr>\n",
       "      <th>11</th>\n",
       "      <td>11</td>\n",
       "      <td>89.0</td>\n",
       "      <td>78.000000</td>\n",
       "      <td>20.0</td>\n",
       "      <td>37.055556</td>\n",
       "      <td>3.0</td>\n",
       "      <td>6.0</td>\n",
       "      <td>15.0</td>\n",
       "      <td>5.0</td>\n",
       "      <td>43.531507</td>\n",
       "      <td>2.8</td>\n",
       "    </tr>\n",
       "    <tr>\n",
       "      <th>12</th>\n",
       "      <td>12</td>\n",
       "      <td>100.0</td>\n",
       "      <td>74.000000</td>\n",
       "      <td>20.0</td>\n",
       "      <td>37.055556</td>\n",
       "      <td>3.0</td>\n",
       "      <td>6.0</td>\n",
       "      <td>15.0</td>\n",
       "      <td>5.0</td>\n",
       "      <td>43.531507</td>\n",
       "      <td>2.8</td>\n",
       "    </tr>\n",
       "    <tr>\n",
       "      <th>13</th>\n",
       "      <td>13</td>\n",
       "      <td>93.0</td>\n",
       "      <td>74.000000</td>\n",
       "      <td>23.0</td>\n",
       "      <td>37.055556</td>\n",
       "      <td>4.0</td>\n",
       "      <td>6.0</td>\n",
       "      <td>15.0</td>\n",
       "      <td>5.0</td>\n",
       "      <td>43.531507</td>\n",
       "      <td>2.8</td>\n",
       "    </tr>\n",
       "    <tr>\n",
       "      <th>14</th>\n",
       "      <td>14</td>\n",
       "      <td>94.0</td>\n",
       "      <td>74.000000</td>\n",
       "      <td>14.0</td>\n",
       "      <td>37.055556</td>\n",
       "      <td>4.0</td>\n",
       "      <td>6.0</td>\n",
       "      <td>15.0</td>\n",
       "      <td>5.0</td>\n",
       "      <td>43.531507</td>\n",
       "      <td>2.8</td>\n",
       "    </tr>\n",
       "    <tr>\n",
       "      <th>15</th>\n",
       "      <td>15</td>\n",
       "      <td>97.0</td>\n",
       "      <td>90.000000</td>\n",
       "      <td>17.0</td>\n",
       "      <td>37.055556</td>\n",
       "      <td>4.0</td>\n",
       "      <td>6.0</td>\n",
       "      <td>15.0</td>\n",
       "      <td>5.0</td>\n",
       "      <td>43.531507</td>\n",
       "      <td>2.8</td>\n",
       "    </tr>\n",
       "    <tr>\n",
       "      <th>16</th>\n",
       "      <td>16</td>\n",
       "      <td>89.0</td>\n",
       "      <td>90.000000</td>\n",
       "      <td>21.0</td>\n",
       "      <td>37.055556</td>\n",
       "      <td>4.0</td>\n",
       "      <td>6.0</td>\n",
       "      <td>15.0</td>\n",
       "      <td>5.0</td>\n",
       "      <td>43.531507</td>\n",
       "      <td>2.8</td>\n",
       "    </tr>\n",
       "    <tr>\n",
       "      <th>17</th>\n",
       "      <td>17</td>\n",
       "      <td>84.0</td>\n",
       "      <td>90.000000</td>\n",
       "      <td>20.0</td>\n",
       "      <td>37.055556</td>\n",
       "      <td>4.0</td>\n",
       "      <td>6.0</td>\n",
       "      <td>15.0</td>\n",
       "      <td>5.0</td>\n",
       "      <td>43.531507</td>\n",
       "      <td>2.8</td>\n",
       "    </tr>\n",
       "    <tr>\n",
       "      <th>18</th>\n",
       "      <td>18</td>\n",
       "      <td>85.0</td>\n",
       "      <td>85.000000</td>\n",
       "      <td>17.0</td>\n",
       "      <td>37.055556</td>\n",
       "      <td>4.0</td>\n",
       "      <td>6.0</td>\n",
       "      <td>15.0</td>\n",
       "      <td>5.0</td>\n",
       "      <td>43.531507</td>\n",
       "      <td>2.8</td>\n",
       "    </tr>\n",
       "    <tr>\n",
       "      <th>19</th>\n",
       "      <td>19</td>\n",
       "      <td>100.0</td>\n",
       "      <td>73.000000</td>\n",
       "      <td>18.0</td>\n",
       "      <td>37.055556</td>\n",
       "      <td>4.0</td>\n",
       "      <td>6.0</td>\n",
       "      <td>15.0</td>\n",
       "      <td>5.0</td>\n",
       "      <td>43.531507</td>\n",
       "      <td>2.8</td>\n",
       "    </tr>\n",
       "    <tr>\n",
       "      <th>20</th>\n",
       "      <td>20</td>\n",
       "      <td>84.0</td>\n",
       "      <td>73.000000</td>\n",
       "      <td>23.0</td>\n",
       "      <td>37.055556</td>\n",
       "      <td>4.0</td>\n",
       "      <td>6.0</td>\n",
       "      <td>15.0</td>\n",
       "      <td>5.0</td>\n",
       "      <td>43.531507</td>\n",
       "      <td>2.8</td>\n",
       "    </tr>\n",
       "    <tr>\n",
       "      <th>21</th>\n",
       "      <td>21</td>\n",
       "      <td>88.0</td>\n",
       "      <td>81.000000</td>\n",
       "      <td>15.0</td>\n",
       "      <td>37.055556</td>\n",
       "      <td>4.0</td>\n",
       "      <td>6.0</td>\n",
       "      <td>15.0</td>\n",
       "      <td>5.0</td>\n",
       "      <td>43.531507</td>\n",
       "      <td>2.8</td>\n",
       "    </tr>\n",
       "    <tr>\n",
       "      <th>22</th>\n",
       "      <td>22</td>\n",
       "      <td>85.0</td>\n",
       "      <td>82.000000</td>\n",
       "      <td>17.0</td>\n",
       "      <td>37.055556</td>\n",
       "      <td>4.0</td>\n",
       "      <td>6.0</td>\n",
       "      <td>15.0</td>\n",
       "      <td>5.0</td>\n",
       "      <td>43.531507</td>\n",
       "      <td>2.8</td>\n",
       "    </tr>\n",
       "    <tr>\n",
       "      <th>23</th>\n",
       "      <td>23</td>\n",
       "      <td>82.0</td>\n",
       "      <td>80.000000</td>\n",
       "      <td>18.0</td>\n",
       "      <td>37.055556</td>\n",
       "      <td>4.0</td>\n",
       "      <td>6.0</td>\n",
       "      <td>15.0</td>\n",
       "      <td>5.0</td>\n",
       "      <td>43.531507</td>\n",
       "      <td>2.8</td>\n",
       "    </tr>\n",
       "    <tr>\n",
       "      <th>0</th>\n",
       "      <td>0</td>\n",
       "      <td>66.0</td>\n",
       "      <td>84.333298</td>\n",
       "      <td>25.0</td>\n",
       "      <td>36.600000</td>\n",
       "      <td>4.0</td>\n",
       "      <td>6.0</td>\n",
       "      <td>15.0</td>\n",
       "      <td>5.0</td>\n",
       "      <td>80.747945</td>\n",
       "      <td>33.5</td>\n",
       "    </tr>\n",
       "    <tr>\n",
       "      <th>1</th>\n",
       "      <td>1</td>\n",
       "      <td>59.0</td>\n",
       "      <td>68.000000</td>\n",
       "      <td>17.0</td>\n",
       "      <td>36.600000</td>\n",
       "      <td>4.0</td>\n",
       "      <td>6.0</td>\n",
       "      <td>15.0</td>\n",
       "      <td>5.0</td>\n",
       "      <td>80.747945</td>\n",
       "      <td>33.5</td>\n",
       "    </tr>\n",
       "    <tr>\n",
       "      <th>2</th>\n",
       "      <td>2</td>\n",
       "      <td>58.0</td>\n",
       "      <td>72.666702</td>\n",
       "      <td>16.0</td>\n",
       "      <td>36.388901</td>\n",
       "      <td>4.0</td>\n",
       "      <td>6.0</td>\n",
       "      <td>15.0</td>\n",
       "      <td>5.0</td>\n",
       "      <td>80.747945</td>\n",
       "      <td>33.5</td>\n",
       "    </tr>\n",
       "    <tr>\n",
       "      <th>3</th>\n",
       "      <td>3</td>\n",
       "      <td>62.0</td>\n",
       "      <td>75.666702</td>\n",
       "      <td>18.0</td>\n",
       "      <td>36.388901</td>\n",
       "      <td>4.0</td>\n",
       "      <td>6.0</td>\n",
       "      <td>15.0</td>\n",
       "      <td>5.0</td>\n",
       "      <td>80.747945</td>\n",
       "      <td>33.5</td>\n",
       "    </tr>\n",
       "    <tr>\n",
       "      <th>4</th>\n",
       "      <td>4</td>\n",
       "      <td>62.0</td>\n",
       "      <td>52.666698</td>\n",
       "      <td>19.0</td>\n",
       "      <td>36.388901</td>\n",
       "      <td>4.0</td>\n",
       "      <td>6.0</td>\n",
       "      <td>15.0</td>\n",
       "      <td>5.0</td>\n",
       "      <td>80.747945</td>\n",
       "      <td>33.5</td>\n",
       "    </tr>\n",
       "    <tr>\n",
       "      <th>5</th>\n",
       "      <td>5</td>\n",
       "      <td>54.0</td>\n",
       "      <td>58.000000</td>\n",
       "      <td>17.0</td>\n",
       "      <td>36.388901</td>\n",
       "      <td>4.0</td>\n",
       "      <td>6.0</td>\n",
       "      <td>15.0</td>\n",
       "      <td>5.0</td>\n",
       "      <td>80.747945</td>\n",
       "      <td>33.5</td>\n",
       "    </tr>\n",
       "    <tr>\n",
       "      <th>6</th>\n",
       "      <td>6</td>\n",
       "      <td>54.0</td>\n",
       "      <td>69.333298</td>\n",
       "      <td>18.0</td>\n",
       "      <td>36.666698</td>\n",
       "      <td>4.0</td>\n",
       "      <td>6.0</td>\n",
       "      <td>15.0</td>\n",
       "      <td>5.0</td>\n",
       "      <td>80.747945</td>\n",
       "      <td>33.5</td>\n",
       "    </tr>\n",
       "    <tr>\n",
       "      <th>7</th>\n",
       "      <td>7</td>\n",
       "      <td>53.0</td>\n",
       "      <td>88.666702</td>\n",
       "      <td>16.0</td>\n",
       "      <td>36.666698</td>\n",
       "      <td>4.0</td>\n",
       "      <td>6.0</td>\n",
       "      <td>15.0</td>\n",
       "      <td>5.0</td>\n",
       "      <td>80.747945</td>\n",
       "      <td>33.5</td>\n",
       "    </tr>\n",
       "    <tr>\n",
       "      <th>8</th>\n",
       "      <td>8</td>\n",
       "      <td>61.0</td>\n",
       "      <td>80.000000</td>\n",
       "      <td>20.0</td>\n",
       "      <td>36.666698</td>\n",
       "      <td>4.0</td>\n",
       "      <td>6.0</td>\n",
       "      <td>15.0</td>\n",
       "      <td>5.0</td>\n",
       "      <td>80.747945</td>\n",
       "      <td>33.5</td>\n",
       "    </tr>\n",
       "    <tr>\n",
       "      <th>9</th>\n",
       "      <td>9</td>\n",
       "      <td>61.0</td>\n",
       "      <td>80.000000</td>\n",
       "      <td>20.0</td>\n",
       "      <td>36.666698</td>\n",
       "      <td>4.0</td>\n",
       "      <td>6.0</td>\n",
       "      <td>15.0</td>\n",
       "      <td>5.0</td>\n",
       "      <td>80.747945</td>\n",
       "      <td>33.5</td>\n",
       "    </tr>\n",
       "    <tr>\n",
       "      <th>10</th>\n",
       "      <td>10</td>\n",
       "      <td>57.0</td>\n",
       "      <td>69.000000</td>\n",
       "      <td>22.0</td>\n",
       "      <td>36.555599</td>\n",
       "      <td>4.0</td>\n",
       "      <td>6.0</td>\n",
       "      <td>15.0</td>\n",
       "      <td>5.0</td>\n",
       "      <td>80.747945</td>\n",
       "      <td>33.5</td>\n",
       "    </tr>\n",
       "    <tr>\n",
       "      <th>11</th>\n",
       "      <td>11</td>\n",
       "      <td>61.0</td>\n",
       "      <td>86.333298</td>\n",
       "      <td>19.0</td>\n",
       "      <td>36.555599</td>\n",
       "      <td>4.0</td>\n",
       "      <td>6.0</td>\n",
       "      <td>15.0</td>\n",
       "      <td>5.0</td>\n",
       "      <td>80.747945</td>\n",
       "      <td>33.5</td>\n",
       "    </tr>\n",
       "    <tr>\n",
       "      <th>12</th>\n",
       "      <td>12</td>\n",
       "      <td>59.0</td>\n",
       "      <td>92.666702</td>\n",
       "      <td>17.0</td>\n",
       "      <td>36.555599</td>\n",
       "      <td>4.0</td>\n",
       "      <td>6.0</td>\n",
       "      <td>15.0</td>\n",
       "      <td>5.0</td>\n",
       "      <td>80.747945</td>\n",
       "      <td>33.5</td>\n",
       "    </tr>\n",
       "    <tr>\n",
       "      <th>13</th>\n",
       "      <td>13</td>\n",
       "      <td>68.0</td>\n",
       "      <td>88.333298</td>\n",
       "      <td>18.0</td>\n",
       "      <td>36.555599</td>\n",
       "      <td>4.0</td>\n",
       "      <td>6.0</td>\n",
       "      <td>15.0</td>\n",
       "      <td>5.0</td>\n",
       "      <td>80.747945</td>\n",
       "      <td>33.5</td>\n",
       "    </tr>\n",
       "    <tr>\n",
       "      <th>14</th>\n",
       "      <td>14</td>\n",
       "      <td>79.0</td>\n",
       "      <td>83.666702</td>\n",
       "      <td>24.0</td>\n",
       "      <td>36.666698</td>\n",
       "      <td>4.0</td>\n",
       "      <td>6.0</td>\n",
       "      <td>14.0</td>\n",
       "      <td>4.0</td>\n",
       "      <td>80.747945</td>\n",
       "      <td>33.5</td>\n",
       "    </tr>\n",
       "    <tr>\n",
       "      <th>15</th>\n",
       "      <td>15</td>\n",
       "      <td>62.0</td>\n",
       "      <td>76.333298</td>\n",
       "      <td>18.0</td>\n",
       "      <td>36.666698</td>\n",
       "      <td>4.0</td>\n",
       "      <td>6.0</td>\n",
       "      <td>14.0</td>\n",
       "      <td>4.0</td>\n",
       "      <td>80.747945</td>\n",
       "      <td>33.5</td>\n",
       "    </tr>\n",
       "    <tr>\n",
       "      <th>16</th>\n",
       "      <td>16</td>\n",
       "      <td>63.0</td>\n",
       "      <td>67.333298</td>\n",
       "      <td>19.0</td>\n",
       "      <td>36.666698</td>\n",
       "      <td>4.0</td>\n",
       "      <td>6.0</td>\n",
       "      <td>14.0</td>\n",
       "      <td>4.0</td>\n",
       "      <td>80.747945</td>\n",
       "      <td>33.5</td>\n",
       "    </tr>\n",
       "    <tr>\n",
       "      <th>17</th>\n",
       "      <td>17</td>\n",
       "      <td>65.0</td>\n",
       "      <td>82.333298</td>\n",
       "      <td>18.0</td>\n",
       "      <td>36.666698</td>\n",
       "      <td>4.0</td>\n",
       "      <td>6.0</td>\n",
       "      <td>14.0</td>\n",
       "      <td>4.0</td>\n",
       "      <td>80.747945</td>\n",
       "      <td>33.5</td>\n",
       "    </tr>\n",
       "    <tr>\n",
       "      <th>18</th>\n",
       "      <td>18</td>\n",
       "      <td>72.0</td>\n",
       "      <td>82.000000</td>\n",
       "      <td>18.0</td>\n",
       "      <td>36.444401</td>\n",
       "      <td>4.0</td>\n",
       "      <td>6.0</td>\n",
       "      <td>14.0</td>\n",
       "      <td>4.0</td>\n",
       "      <td>80.747945</td>\n",
       "      <td>33.5</td>\n",
       "    </tr>\n",
       "    <tr>\n",
       "      <th>19</th>\n",
       "      <td>19</td>\n",
       "      <td>78.0</td>\n",
       "      <td>82.000000</td>\n",
       "      <td>20.0</td>\n",
       "      <td>36.444401</td>\n",
       "      <td>4.0</td>\n",
       "      <td>6.0</td>\n",
       "      <td>14.0</td>\n",
       "      <td>4.0</td>\n",
       "      <td>80.747945</td>\n",
       "      <td>33.5</td>\n",
       "    </tr>\n",
       "    <tr>\n",
       "      <th>20</th>\n",
       "      <td>20</td>\n",
       "      <td>77.0</td>\n",
       "      <td>82.000000</td>\n",
       "      <td>20.0</td>\n",
       "      <td>36.444401</td>\n",
       "      <td>4.0</td>\n",
       "      <td>6.0</td>\n",
       "      <td>14.0</td>\n",
       "      <td>4.0</td>\n",
       "      <td>80.747945</td>\n",
       "      <td>33.5</td>\n",
       "    </tr>\n",
       "    <tr>\n",
       "      <th>21</th>\n",
       "      <td>21</td>\n",
       "      <td>74.0</td>\n",
       "      <td>82.000000</td>\n",
       "      <td>23.0</td>\n",
       "      <td>36.444401</td>\n",
       "      <td>4.0</td>\n",
       "      <td>6.0</td>\n",
       "      <td>14.0</td>\n",
       "      <td>4.0</td>\n",
       "      <td>80.747945</td>\n",
       "      <td>33.5</td>\n",
       "    </tr>\n",
       "    <tr>\n",
       "      <th>22</th>\n",
       "      <td>22</td>\n",
       "      <td>72.0</td>\n",
       "      <td>104.667000</td>\n",
       "      <td>23.0</td>\n",
       "      <td>36.777802</td>\n",
       "      <td>4.0</td>\n",
       "      <td>6.0</td>\n",
       "      <td>15.0</td>\n",
       "      <td>5.0</td>\n",
       "      <td>80.747945</td>\n",
       "      <td>33.5</td>\n",
       "    </tr>\n",
       "    <tr>\n",
       "      <th>23</th>\n",
       "      <td>23</td>\n",
       "      <td>66.0</td>\n",
       "      <td>95.666702</td>\n",
       "      <td>21.0</td>\n",
       "      <td>36.777802</td>\n",
       "      <td>4.0</td>\n",
       "      <td>6.0</td>\n",
       "      <td>15.0</td>\n",
       "      <td>5.0</td>\n",
       "      <td>80.747945</td>\n",
       "      <td>33.5</td>\n",
       "    </tr>\n",
       "    <tr>\n",
       "      <th>0</th>\n",
       "      <td>0</td>\n",
       "      <td>86.0</td>\n",
       "      <td>77.000000</td>\n",
       "      <td>19.0</td>\n",
       "      <td>36.600000</td>\n",
       "      <td>4.0</td>\n",
       "      <td>6.0</td>\n",
       "      <td>15.0</td>\n",
       "      <td>5.0</td>\n",
       "      <td>86.813699</td>\n",
       "      <td>0.0</td>\n",
       "    </tr>\n",
       "    <tr>\n",
       "      <th>1</th>\n",
       "      <td>1</td>\n",
       "      <td>86.0</td>\n",
       "      <td>77.000000</td>\n",
       "      <td>19.0</td>\n",
       "      <td>36.600000</td>\n",
       "      <td>4.0</td>\n",
       "      <td>6.0</td>\n",
       "      <td>15.0</td>\n",
       "      <td>5.0</td>\n",
       "      <td>86.813699</td>\n",
       "      <td>0.0</td>\n",
       "    </tr>\n",
       "  </tbody>\n",
       "</table>\n",
       "</div>"
      ],
      "text/plain": [
       "    Hours  HRATE         MAP  RESP_RATE     TEMP_C  gcs_e  gcs_m  \\\n",
       "0       0   97.0   74.000000       23.0  36.600000    4.0    6.0   \n",
       "1       1   96.0   74.000000       22.0  36.600000    3.0    6.0   \n",
       "2       2   90.0   74.000000       20.0  36.600000    3.0    6.0   \n",
       "3       3   90.0   76.000000       16.0  36.600000    3.0    6.0   \n",
       "4       4   81.0   76.000000       16.0  36.600000    3.0    6.0   \n",
       "5       5   80.0   76.000000       15.0  36.944444    3.0    6.0   \n",
       "6       6   83.0   81.000000       18.0  36.944444    3.0    6.0   \n",
       "7       7   88.0   81.000000       18.0  36.944444    3.0    6.0   \n",
       "8       8   86.0   81.000000       16.0  36.944444    3.0    6.0   \n",
       "9       9   89.0   78.000000       18.0  37.055556    3.0    6.0   \n",
       "10     10  100.0   78.000000       24.0  37.055556    3.0    6.0   \n",
       "11     11   89.0   78.000000       20.0  37.055556    3.0    6.0   \n",
       "12     12  100.0   74.000000       20.0  37.055556    3.0    6.0   \n",
       "13     13   93.0   74.000000       23.0  37.055556    4.0    6.0   \n",
       "14     14   94.0   74.000000       14.0  37.055556    4.0    6.0   \n",
       "15     15   97.0   90.000000       17.0  37.055556    4.0    6.0   \n",
       "16     16   89.0   90.000000       21.0  37.055556    4.0    6.0   \n",
       "17     17   84.0   90.000000       20.0  37.055556    4.0    6.0   \n",
       "18     18   85.0   85.000000       17.0  37.055556    4.0    6.0   \n",
       "19     19  100.0   73.000000       18.0  37.055556    4.0    6.0   \n",
       "20     20   84.0   73.000000       23.0  37.055556    4.0    6.0   \n",
       "21     21   88.0   81.000000       15.0  37.055556    4.0    6.0   \n",
       "22     22   85.0   82.000000       17.0  37.055556    4.0    6.0   \n",
       "23     23   82.0   80.000000       18.0  37.055556    4.0    6.0   \n",
       "0       0   66.0   84.333298       25.0  36.600000    4.0    6.0   \n",
       "1       1   59.0   68.000000       17.0  36.600000    4.0    6.0   \n",
       "2       2   58.0   72.666702       16.0  36.388901    4.0    6.0   \n",
       "3       3   62.0   75.666702       18.0  36.388901    4.0    6.0   \n",
       "4       4   62.0   52.666698       19.0  36.388901    4.0    6.0   \n",
       "5       5   54.0   58.000000       17.0  36.388901    4.0    6.0   \n",
       "6       6   54.0   69.333298       18.0  36.666698    4.0    6.0   \n",
       "7       7   53.0   88.666702       16.0  36.666698    4.0    6.0   \n",
       "8       8   61.0   80.000000       20.0  36.666698    4.0    6.0   \n",
       "9       9   61.0   80.000000       20.0  36.666698    4.0    6.0   \n",
       "10     10   57.0   69.000000       22.0  36.555599    4.0    6.0   \n",
       "11     11   61.0   86.333298       19.0  36.555599    4.0    6.0   \n",
       "12     12   59.0   92.666702       17.0  36.555599    4.0    6.0   \n",
       "13     13   68.0   88.333298       18.0  36.555599    4.0    6.0   \n",
       "14     14   79.0   83.666702       24.0  36.666698    4.0    6.0   \n",
       "15     15   62.0   76.333298       18.0  36.666698    4.0    6.0   \n",
       "16     16   63.0   67.333298       19.0  36.666698    4.0    6.0   \n",
       "17     17   65.0   82.333298       18.0  36.666698    4.0    6.0   \n",
       "18     18   72.0   82.000000       18.0  36.444401    4.0    6.0   \n",
       "19     19   78.0   82.000000       20.0  36.444401    4.0    6.0   \n",
       "20     20   77.0   82.000000       20.0  36.444401    4.0    6.0   \n",
       "21     21   74.0   82.000000       23.0  36.444401    4.0    6.0   \n",
       "22     22   72.0  104.667000       23.0  36.777802    4.0    6.0   \n",
       "23     23   66.0   95.666702       21.0  36.777802    4.0    6.0   \n",
       "0       0   86.0   77.000000       19.0  36.600000    4.0    6.0   \n",
       "1       1   86.0   77.000000       19.0  36.600000    4.0    6.0   \n",
       "\n",
       "    gcs_total_carevue  gcs_v        AGE  PRELOS  \n",
       "0                15.0    5.0  43.531507     2.8  \n",
       "1                15.0    1.0  43.531507     2.8  \n",
       "2                15.0    1.0  43.531507     2.8  \n",
       "3                15.0    1.0  43.531507     2.8  \n",
       "4                15.0    1.0  43.531507     2.8  \n",
       "5                15.0    1.0  43.531507     2.8  \n",
       "6                15.0    1.0  43.531507     2.8  \n",
       "7                15.0    1.0  43.531507     2.8  \n",
       "8                15.0    1.0  43.531507     2.8  \n",
       "9                15.0    5.0  43.531507     2.8  \n",
       "10               15.0    5.0  43.531507     2.8  \n",
       "11               15.0    5.0  43.531507     2.8  \n",
       "12               15.0    5.0  43.531507     2.8  \n",
       "13               15.0    5.0  43.531507     2.8  \n",
       "14               15.0    5.0  43.531507     2.8  \n",
       "15               15.0    5.0  43.531507     2.8  \n",
       "16               15.0    5.0  43.531507     2.8  \n",
       "17               15.0    5.0  43.531507     2.8  \n",
       "18               15.0    5.0  43.531507     2.8  \n",
       "19               15.0    5.0  43.531507     2.8  \n",
       "20               15.0    5.0  43.531507     2.8  \n",
       "21               15.0    5.0  43.531507     2.8  \n",
       "22               15.0    5.0  43.531507     2.8  \n",
       "23               15.0    5.0  43.531507     2.8  \n",
       "0                15.0    5.0  80.747945    33.5  \n",
       "1                15.0    5.0  80.747945    33.5  \n",
       "2                15.0    5.0  80.747945    33.5  \n",
       "3                15.0    5.0  80.747945    33.5  \n",
       "4                15.0    5.0  80.747945    33.5  \n",
       "5                15.0    5.0  80.747945    33.5  \n",
       "6                15.0    5.0  80.747945    33.5  \n",
       "7                15.0    5.0  80.747945    33.5  \n",
       "8                15.0    5.0  80.747945    33.5  \n",
       "9                15.0    5.0  80.747945    33.5  \n",
       "10               15.0    5.0  80.747945    33.5  \n",
       "11               15.0    5.0  80.747945    33.5  \n",
       "12               15.0    5.0  80.747945    33.5  \n",
       "13               15.0    5.0  80.747945    33.5  \n",
       "14               14.0    4.0  80.747945    33.5  \n",
       "15               14.0    4.0  80.747945    33.5  \n",
       "16               14.0    4.0  80.747945    33.5  \n",
       "17               14.0    4.0  80.747945    33.5  \n",
       "18               14.0    4.0  80.747945    33.5  \n",
       "19               14.0    4.0  80.747945    33.5  \n",
       "20               14.0    4.0  80.747945    33.5  \n",
       "21               14.0    4.0  80.747945    33.5  \n",
       "22               15.0    5.0  80.747945    33.5  \n",
       "23               15.0    5.0  80.747945    33.5  \n",
       "0                15.0    5.0  86.813699     0.0  \n",
       "1                15.0    5.0  86.813699     0.0  "
      ]
     },
     "execution_count": 65,
     "metadata": {},
     "output_type": "execute_result"
    }
   ],
   "source": [
    "result_OneBigDataset.head(50)"
   ]
  },
  {
   "cell_type": "code",
   "execution_count": 66,
   "metadata": {},
   "outputs": [],
   "source": [
    "result_OneBigDataset.to_csv('/data/codi/OASIS/timesSeriesv2_cohorte/data/lengthOfStay/result_OneBigDataset.csv',index=False)\n",
    "y_true.to_csv('/data/codi/OASIS/timesSeriesv2_cohorte/data/lengthOfStay/result_OneBigDataset_y_true.csv',index=False, header=['y_true'])"
   ]
  },
  {
   "cell_type": "code",
   "execution_count": 67,
   "metadata": {},
   "outputs": [],
   "source": [
    "result_OneBigDataset = pd.read_csv('/data/codi/OASIS/timesSeriesv2_cohorte/data/lengthOfStay/result_OneBigDataset.csv')\n",
    "y_true = pd.read_csv('/data/codi/OASIS/timesSeriesv2_cohorte/data/lengthOfStay/result_OneBigDataset_y_true.csv')"
   ]
  },
  {
   "cell_type": "code",
   "execution_count": 68,
   "metadata": {},
   "outputs": [
    {
     "data": {
      "text/plain": [
       "Hours                0\n",
       "HRATE                0\n",
       "MAP                  0\n",
       "RESP_RATE            0\n",
       "TEMP_C               0\n",
       "gcs_e                0\n",
       "gcs_m                0\n",
       "gcs_total_carevue    0\n",
       "gcs_v                0\n",
       "AGE                  0\n",
       "PRELOS               0\n",
       "dtype: int64"
      ]
     },
     "execution_count": 68,
     "metadata": {},
     "output_type": "execute_result"
    }
   ],
   "source": [
    "result_OneBigDataset.isnull().sum()"
   ]
  },
  {
   "cell_type": "code",
   "execution_count": 69,
   "metadata": {},
   "outputs": [],
   "source": [
    "stays_root_path = '/data/codi/OASIS/timesSeriesv2_cohorte/data/lengthOfStay/test'"
   ]
  },
  {
   "cell_type": "code",
   "execution_count": 70,
   "metadata": {
    "scrolled": true
   },
   "outputs": [
    {
     "name": "stderr",
     "output_type": "stream",
     "text": [
      "Iterating over stays: 100%|█████████████| 5282/5282 [01:17<00:00, 67.98it/s]\n"
     ]
    }
   ],
   "source": [
    "result_OneBigDataset_test = pd.DataFrame()\n",
    "y_true =  pd.DataFrame()\n",
    "listfile = pd.read_csv(os.path.join(stays_root_path,'listfile.csv'))\n",
    "\n",
    "\n",
    "#normal range of measuraments\n",
    "values = {'gcs_e': 4, 'gcs_m': 6, 'gcs_v': 5, 'gcs_total_carevue': 15,\n",
    "                      'HRATE': 86,'MAP':77,'RESP_RATE':19,'TEMP_C':36.6}\n",
    "\n",
    "#Iterar los icustays con mismo orden que listfile de otros modelos. (para luego el cross validation sea sobre mismos splits)\n",
    "lista_stays_en_orden = listfile['stay'].tolist()\n",
    "\n",
    "for stay_dir in tqdm(lista_stays_en_orden, desc='Iterating over stays'):\n",
    "    dn = os.path.join(stays_root_path, stay_dir)\n",
    "        \n",
    "    try:\n",
    "        # reading timeseries and concate\n",
    "        stayTimeSeries = pd.read_csv(dn)\n",
    "        #manera 2: age y prelos para cada icustay id es estático:\n",
    "        #age = stayTimeSeries['AGE'][0]\n",
    "        #prelos = stayTimeSeries['PRELOS'][0]\n",
    "        stayTimeSeries['Hours'] = np.round(stayTimeSeries['Hours'],0)\n",
    "        stayTimeSeries = stayTimeSeries.drop_duplicates(subset=['Hours'], keep='last')\n",
    "        new_index = pd.Index(np.arange(0,24,1), name=\"Hours\")\n",
    "        stayTimeSeries = stayTimeSeries.set_index(\"Hours\").reindex(new_index).reset_index()\n",
    "\n",
    "\n",
    "        stayTimeSeries.fillna(method='ffill', inplace=True)\n",
    "        #Dummy solution if whole column is nan or no have previous non nan value, fill nan with normal range\n",
    "\n",
    "        #Para Age y Prelos seguro tiene algun valor\n",
    "        stayTimeSeries['AGE'].fillna(method='bfill', inplace=True)\n",
    "        stayTimeSeries['PRELOS'].fillna(method='bfill', inplace=True)\n",
    "\n",
    "        #manera 2:Para Age y Prelos seguro tiene algun valor\n",
    "        #stayTimeSeries['AGE'].fillna(value=age, inplace=True)\n",
    "        #stayTimeSeries['PRELOS'].fillna(value=prelos, inplace=True)\n",
    "\n",
    "        \n",
    "        if(stayTimeSeries['AGE'].isnull().all() or stayTimeSeries['PRELOS'].isnull().all()):\n",
    "            print('Error reading age and prelos for icustay_id: {}\\n'.format(stay_dir))\n",
    "            #continue\n",
    "\n",
    "        stayTimeSeries.fillna(value=values,inplace=True)\n",
    "        result_OneBigDataset_test = pd.concat([result_OneBigDataset_test,stayTimeSeries])\n",
    "\n",
    "        stay_y_true =  listfile.loc[listfile['stay'] == stay_dir]['y_true']\n",
    "        y_true = pd.concat([y_true,stay_y_true], ignore_index=True)\n",
    "\n",
    "    except:\n",
    "        sys.stderr.write('Error reading from disk for icustay_id: {}\\n'.format(stay_dir))\n",
    "        continue\n",
    "\n"
   ]
  },
  {
   "cell_type": "code",
   "execution_count": 71,
   "metadata": {},
   "outputs": [
    {
     "data": {
      "text/plain": [
       "(5282, 24, 10)"
      ]
     },
     "execution_count": 71,
     "metadata": {},
     "output_type": "execute_result"
    }
   ],
   "source": [
    "#Comprobar que son de mismo tamaño que benchmark 5282\n",
    "prueba_test = np.array(result_OneBigDataset_test.drop(['Hours'],axis=1)).reshape(y_true.shape[0], 24, 10)\n",
    "prueba_test.shape"
   ]
  },
  {
   "cell_type": "code",
   "execution_count": 72,
   "metadata": {
    "scrolled": true
   },
   "outputs": [
    {
     "data": {
      "text/html": [
       "<div>\n",
       "<style scoped>\n",
       "    .dataframe tbody tr th:only-of-type {\n",
       "        vertical-align: middle;\n",
       "    }\n",
       "\n",
       "    .dataframe tbody tr th {\n",
       "        vertical-align: top;\n",
       "    }\n",
       "\n",
       "    .dataframe thead th {\n",
       "        text-align: right;\n",
       "    }\n",
       "</style>\n",
       "<table border=\"1\" class=\"dataframe\">\n",
       "  <thead>\n",
       "    <tr style=\"text-align: right;\">\n",
       "      <th></th>\n",
       "      <th>Hours</th>\n",
       "      <th>HRATE</th>\n",
       "      <th>MAP</th>\n",
       "      <th>RESP_RATE</th>\n",
       "      <th>TEMP_C</th>\n",
       "      <th>gcs_e</th>\n",
       "      <th>gcs_m</th>\n",
       "      <th>gcs_total_carevue</th>\n",
       "      <th>gcs_v</th>\n",
       "      <th>AGE</th>\n",
       "      <th>PRELOS</th>\n",
       "    </tr>\n",
       "  </thead>\n",
       "  <tbody>\n",
       "    <tr>\n",
       "      <th>0</th>\n",
       "      <td>0</td>\n",
       "      <td>54.0</td>\n",
       "      <td>89.000000</td>\n",
       "      <td>14.0</td>\n",
       "      <td>36.600000</td>\n",
       "      <td>4.0</td>\n",
       "      <td>6.0</td>\n",
       "      <td>15.0</td>\n",
       "      <td>5.0</td>\n",
       "      <td>49.704110</td>\n",
       "      <td>84.9</td>\n",
       "    </tr>\n",
       "    <tr>\n",
       "      <th>1</th>\n",
       "      <td>1</td>\n",
       "      <td>54.0</td>\n",
       "      <td>77.000000</td>\n",
       "      <td>15.0</td>\n",
       "      <td>36.600000</td>\n",
       "      <td>4.0</td>\n",
       "      <td>6.0</td>\n",
       "      <td>15.0</td>\n",
       "      <td>5.0</td>\n",
       "      <td>49.704110</td>\n",
       "      <td>84.9</td>\n",
       "    </tr>\n",
       "    <tr>\n",
       "      <th>2</th>\n",
       "      <td>2</td>\n",
       "      <td>55.0</td>\n",
       "      <td>80.333298</td>\n",
       "      <td>10.0</td>\n",
       "      <td>36.111099</td>\n",
       "      <td>4.0</td>\n",
       "      <td>6.0</td>\n",
       "      <td>15.0</td>\n",
       "      <td>5.0</td>\n",
       "      <td>49.704110</td>\n",
       "      <td>84.9</td>\n",
       "    </tr>\n",
       "    <tr>\n",
       "      <th>3</th>\n",
       "      <td>3</td>\n",
       "      <td>57.0</td>\n",
       "      <td>69.333298</td>\n",
       "      <td>8.0</td>\n",
       "      <td>36.111099</td>\n",
       "      <td>4.0</td>\n",
       "      <td>6.0</td>\n",
       "      <td>15.0</td>\n",
       "      <td>5.0</td>\n",
       "      <td>49.704110</td>\n",
       "      <td>84.9</td>\n",
       "    </tr>\n",
       "    <tr>\n",
       "      <th>4</th>\n",
       "      <td>4</td>\n",
       "      <td>63.0</td>\n",
       "      <td>71.333298</td>\n",
       "      <td>14.0</td>\n",
       "      <td>35.777802</td>\n",
       "      <td>4.0</td>\n",
       "      <td>6.0</td>\n",
       "      <td>15.0</td>\n",
       "      <td>5.0</td>\n",
       "      <td>49.704110</td>\n",
       "      <td>84.9</td>\n",
       "    </tr>\n",
       "    <tr>\n",
       "      <th>5</th>\n",
       "      <td>5</td>\n",
       "      <td>63.0</td>\n",
       "      <td>70.666702</td>\n",
       "      <td>13.0</td>\n",
       "      <td>35.777802</td>\n",
       "      <td>4.0</td>\n",
       "      <td>6.0</td>\n",
       "      <td>15.0</td>\n",
       "      <td>5.0</td>\n",
       "      <td>49.704110</td>\n",
       "      <td>84.9</td>\n",
       "    </tr>\n",
       "    <tr>\n",
       "      <th>6</th>\n",
       "      <td>6</td>\n",
       "      <td>61.0</td>\n",
       "      <td>75.666702</td>\n",
       "      <td>9.0</td>\n",
       "      <td>35.777802</td>\n",
       "      <td>4.0</td>\n",
       "      <td>6.0</td>\n",
       "      <td>15.0</td>\n",
       "      <td>5.0</td>\n",
       "      <td>49.704110</td>\n",
       "      <td>84.9</td>\n",
       "    </tr>\n",
       "    <tr>\n",
       "      <th>7</th>\n",
       "      <td>7</td>\n",
       "      <td>58.0</td>\n",
       "      <td>66.000000</td>\n",
       "      <td>8.0</td>\n",
       "      <td>35.777802</td>\n",
       "      <td>4.0</td>\n",
       "      <td>6.0</td>\n",
       "      <td>15.0</td>\n",
       "      <td>5.0</td>\n",
       "      <td>49.704110</td>\n",
       "      <td>84.9</td>\n",
       "    </tr>\n",
       "    <tr>\n",
       "      <th>8</th>\n",
       "      <td>8</td>\n",
       "      <td>56.0</td>\n",
       "      <td>82.000000</td>\n",
       "      <td>8.0</td>\n",
       "      <td>35.944401</td>\n",
       "      <td>4.0</td>\n",
       "      <td>6.0</td>\n",
       "      <td>15.0</td>\n",
       "      <td>5.0</td>\n",
       "      <td>49.704110</td>\n",
       "      <td>84.9</td>\n",
       "    </tr>\n",
       "    <tr>\n",
       "      <th>9</th>\n",
       "      <td>9</td>\n",
       "      <td>61.0</td>\n",
       "      <td>70.666702</td>\n",
       "      <td>22.0</td>\n",
       "      <td>35.944401</td>\n",
       "      <td>4.0</td>\n",
       "      <td>6.0</td>\n",
       "      <td>15.0</td>\n",
       "      <td>5.0</td>\n",
       "      <td>49.704110</td>\n",
       "      <td>84.9</td>\n",
       "    </tr>\n",
       "    <tr>\n",
       "      <th>10</th>\n",
       "      <td>10</td>\n",
       "      <td>58.0</td>\n",
       "      <td>75.666702</td>\n",
       "      <td>15.0</td>\n",
       "      <td>35.944401</td>\n",
       "      <td>4.0</td>\n",
       "      <td>6.0</td>\n",
       "      <td>15.0</td>\n",
       "      <td>5.0</td>\n",
       "      <td>49.704110</td>\n",
       "      <td>84.9</td>\n",
       "    </tr>\n",
       "    <tr>\n",
       "      <th>11</th>\n",
       "      <td>11</td>\n",
       "      <td>60.0</td>\n",
       "      <td>78.000000</td>\n",
       "      <td>13.0</td>\n",
       "      <td>35.944401</td>\n",
       "      <td>4.0</td>\n",
       "      <td>6.0</td>\n",
       "      <td>15.0</td>\n",
       "      <td>5.0</td>\n",
       "      <td>49.704110</td>\n",
       "      <td>84.9</td>\n",
       "    </tr>\n",
       "    <tr>\n",
       "      <th>12</th>\n",
       "      <td>12</td>\n",
       "      <td>56.0</td>\n",
       "      <td>63.000000</td>\n",
       "      <td>12.0</td>\n",
       "      <td>36.444401</td>\n",
       "      <td>4.0</td>\n",
       "      <td>6.0</td>\n",
       "      <td>15.0</td>\n",
       "      <td>5.0</td>\n",
       "      <td>49.704110</td>\n",
       "      <td>84.9</td>\n",
       "    </tr>\n",
       "    <tr>\n",
       "      <th>13</th>\n",
       "      <td>13</td>\n",
       "      <td>57.0</td>\n",
       "      <td>68.666702</td>\n",
       "      <td>9.0</td>\n",
       "      <td>36.444401</td>\n",
       "      <td>4.0</td>\n",
       "      <td>6.0</td>\n",
       "      <td>15.0</td>\n",
       "      <td>5.0</td>\n",
       "      <td>49.704110</td>\n",
       "      <td>84.9</td>\n",
       "    </tr>\n",
       "    <tr>\n",
       "      <th>14</th>\n",
       "      <td>14</td>\n",
       "      <td>57.0</td>\n",
       "      <td>65.333298</td>\n",
       "      <td>18.0</td>\n",
       "      <td>36.444401</td>\n",
       "      <td>4.0</td>\n",
       "      <td>6.0</td>\n",
       "      <td>15.0</td>\n",
       "      <td>5.0</td>\n",
       "      <td>49.704110</td>\n",
       "      <td>84.9</td>\n",
       "    </tr>\n",
       "    <tr>\n",
       "      <th>15</th>\n",
       "      <td>15</td>\n",
       "      <td>57.0</td>\n",
       "      <td>71.333298</td>\n",
       "      <td>18.0</td>\n",
       "      <td>36.444401</td>\n",
       "      <td>4.0</td>\n",
       "      <td>6.0</td>\n",
       "      <td>15.0</td>\n",
       "      <td>5.0</td>\n",
       "      <td>49.704110</td>\n",
       "      <td>84.9</td>\n",
       "    </tr>\n",
       "    <tr>\n",
       "      <th>16</th>\n",
       "      <td>16</td>\n",
       "      <td>57.0</td>\n",
       "      <td>72.666702</td>\n",
       "      <td>18.0</td>\n",
       "      <td>36.500000</td>\n",
       "      <td>4.0</td>\n",
       "      <td>6.0</td>\n",
       "      <td>15.0</td>\n",
       "      <td>5.0</td>\n",
       "      <td>49.704110</td>\n",
       "      <td>84.9</td>\n",
       "    </tr>\n",
       "    <tr>\n",
       "      <th>17</th>\n",
       "      <td>17</td>\n",
       "      <td>60.0</td>\n",
       "      <td>72.666702</td>\n",
       "      <td>13.0</td>\n",
       "      <td>36.500000</td>\n",
       "      <td>4.0</td>\n",
       "      <td>6.0</td>\n",
       "      <td>15.0</td>\n",
       "      <td>5.0</td>\n",
       "      <td>49.704110</td>\n",
       "      <td>84.9</td>\n",
       "    </tr>\n",
       "    <tr>\n",
       "      <th>18</th>\n",
       "      <td>18</td>\n",
       "      <td>56.0</td>\n",
       "      <td>74.000000</td>\n",
       "      <td>9.0</td>\n",
       "      <td>36.500000</td>\n",
       "      <td>4.0</td>\n",
       "      <td>6.0</td>\n",
       "      <td>15.0</td>\n",
       "      <td>5.0</td>\n",
       "      <td>49.704110</td>\n",
       "      <td>84.9</td>\n",
       "    </tr>\n",
       "    <tr>\n",
       "      <th>19</th>\n",
       "      <td>19</td>\n",
       "      <td>55.0</td>\n",
       "      <td>74.000000</td>\n",
       "      <td>23.0</td>\n",
       "      <td>36.500000</td>\n",
       "      <td>4.0</td>\n",
       "      <td>6.0</td>\n",
       "      <td>15.0</td>\n",
       "      <td>5.0</td>\n",
       "      <td>49.704110</td>\n",
       "      <td>84.9</td>\n",
       "    </tr>\n",
       "    <tr>\n",
       "      <th>20</th>\n",
       "      <td>20</td>\n",
       "      <td>60.0</td>\n",
       "      <td>77.000000</td>\n",
       "      <td>16.0</td>\n",
       "      <td>36.166698</td>\n",
       "      <td>4.0</td>\n",
       "      <td>6.0</td>\n",
       "      <td>15.0</td>\n",
       "      <td>5.0</td>\n",
       "      <td>49.704110</td>\n",
       "      <td>84.9</td>\n",
       "    </tr>\n",
       "    <tr>\n",
       "      <th>21</th>\n",
       "      <td>21</td>\n",
       "      <td>58.0</td>\n",
       "      <td>74.333298</td>\n",
       "      <td>15.0</td>\n",
       "      <td>36.166698</td>\n",
       "      <td>4.0</td>\n",
       "      <td>6.0</td>\n",
       "      <td>15.0</td>\n",
       "      <td>5.0</td>\n",
       "      <td>49.704110</td>\n",
       "      <td>84.9</td>\n",
       "    </tr>\n",
       "    <tr>\n",
       "      <th>22</th>\n",
       "      <td>22</td>\n",
       "      <td>60.0</td>\n",
       "      <td>65.333298</td>\n",
       "      <td>14.0</td>\n",
       "      <td>36.166698</td>\n",
       "      <td>4.0</td>\n",
       "      <td>6.0</td>\n",
       "      <td>15.0</td>\n",
       "      <td>5.0</td>\n",
       "      <td>49.704110</td>\n",
       "      <td>84.9</td>\n",
       "    </tr>\n",
       "    <tr>\n",
       "      <th>23</th>\n",
       "      <td>23</td>\n",
       "      <td>60.0</td>\n",
       "      <td>65.333298</td>\n",
       "      <td>14.0</td>\n",
       "      <td>36.166698</td>\n",
       "      <td>4.0</td>\n",
       "      <td>6.0</td>\n",
       "      <td>15.0</td>\n",
       "      <td>5.0</td>\n",
       "      <td>49.704110</td>\n",
       "      <td>84.9</td>\n",
       "    </tr>\n",
       "    <tr>\n",
       "      <th>0</th>\n",
       "      <td>0</td>\n",
       "      <td>81.0</td>\n",
       "      <td>67.000000</td>\n",
       "      <td>23.0</td>\n",
       "      <td>36.600000</td>\n",
       "      <td>4.0</td>\n",
       "      <td>6.0</td>\n",
       "      <td>15.0</td>\n",
       "      <td>5.0</td>\n",
       "      <td>36.213699</td>\n",
       "      <td>0.0</td>\n",
       "    </tr>\n",
       "    <tr>\n",
       "      <th>1</th>\n",
       "      <td>1</td>\n",
       "      <td>76.0</td>\n",
       "      <td>62.666698</td>\n",
       "      <td>21.0</td>\n",
       "      <td>36.333302</td>\n",
       "      <td>4.0</td>\n",
       "      <td>6.0</td>\n",
       "      <td>15.0</td>\n",
       "      <td>5.0</td>\n",
       "      <td>36.213699</td>\n",
       "      <td>0.0</td>\n",
       "    </tr>\n",
       "    <tr>\n",
       "      <th>2</th>\n",
       "      <td>2</td>\n",
       "      <td>79.0</td>\n",
       "      <td>65.666702</td>\n",
       "      <td>20.0</td>\n",
       "      <td>36.333302</td>\n",
       "      <td>4.0</td>\n",
       "      <td>6.0</td>\n",
       "      <td>15.0</td>\n",
       "      <td>5.0</td>\n",
       "      <td>36.213699</td>\n",
       "      <td>0.0</td>\n",
       "    </tr>\n",
       "    <tr>\n",
       "      <th>3</th>\n",
       "      <td>3</td>\n",
       "      <td>72.0</td>\n",
       "      <td>65.000000</td>\n",
       "      <td>20.0</td>\n",
       "      <td>36.222198</td>\n",
       "      <td>4.0</td>\n",
       "      <td>6.0</td>\n",
       "      <td>15.0</td>\n",
       "      <td>5.0</td>\n",
       "      <td>36.213699</td>\n",
       "      <td>0.0</td>\n",
       "    </tr>\n",
       "    <tr>\n",
       "      <th>4</th>\n",
       "      <td>4</td>\n",
       "      <td>74.0</td>\n",
       "      <td>71.000000</td>\n",
       "      <td>21.0</td>\n",
       "      <td>36.222198</td>\n",
       "      <td>4.0</td>\n",
       "      <td>6.0</td>\n",
       "      <td>15.0</td>\n",
       "      <td>5.0</td>\n",
       "      <td>36.213699</td>\n",
       "      <td>0.0</td>\n",
       "    </tr>\n",
       "    <tr>\n",
       "      <th>5</th>\n",
       "      <td>5</td>\n",
       "      <td>78.0</td>\n",
       "      <td>67.333298</td>\n",
       "      <td>20.0</td>\n",
       "      <td>36.388901</td>\n",
       "      <td>4.0</td>\n",
       "      <td>6.0</td>\n",
       "      <td>15.0</td>\n",
       "      <td>5.0</td>\n",
       "      <td>36.213699</td>\n",
       "      <td>0.0</td>\n",
       "    </tr>\n",
       "    <tr>\n",
       "      <th>6</th>\n",
       "      <td>6</td>\n",
       "      <td>84.0</td>\n",
       "      <td>64.000000</td>\n",
       "      <td>21.0</td>\n",
       "      <td>36.388901</td>\n",
       "      <td>4.0</td>\n",
       "      <td>6.0</td>\n",
       "      <td>15.0</td>\n",
       "      <td>5.0</td>\n",
       "      <td>36.213699</td>\n",
       "      <td>0.0</td>\n",
       "    </tr>\n",
       "    <tr>\n",
       "      <th>7</th>\n",
       "      <td>7</td>\n",
       "      <td>95.0</td>\n",
       "      <td>65.666702</td>\n",
       "      <td>20.0</td>\n",
       "      <td>36.388901</td>\n",
       "      <td>4.0</td>\n",
       "      <td>6.0</td>\n",
       "      <td>15.0</td>\n",
       "      <td>5.0</td>\n",
       "      <td>36.213699</td>\n",
       "      <td>0.0</td>\n",
       "    </tr>\n",
       "    <tr>\n",
       "      <th>8</th>\n",
       "      <td>8</td>\n",
       "      <td>94.0</td>\n",
       "      <td>62.000000</td>\n",
       "      <td>19.0</td>\n",
       "      <td>37.055599</td>\n",
       "      <td>4.0</td>\n",
       "      <td>6.0</td>\n",
       "      <td>14.0</td>\n",
       "      <td>4.0</td>\n",
       "      <td>36.213699</td>\n",
       "      <td>0.0</td>\n",
       "    </tr>\n",
       "    <tr>\n",
       "      <th>9</th>\n",
       "      <td>9</td>\n",
       "      <td>108.0</td>\n",
       "      <td>75.000000</td>\n",
       "      <td>21.0</td>\n",
       "      <td>37.055599</td>\n",
       "      <td>4.0</td>\n",
       "      <td>6.0</td>\n",
       "      <td>14.0</td>\n",
       "      <td>4.0</td>\n",
       "      <td>36.213699</td>\n",
       "      <td>0.0</td>\n",
       "    </tr>\n",
       "    <tr>\n",
       "      <th>10</th>\n",
       "      <td>10</td>\n",
       "      <td>96.0</td>\n",
       "      <td>67.333298</td>\n",
       "      <td>18.0</td>\n",
       "      <td>37.055599</td>\n",
       "      <td>4.0</td>\n",
       "      <td>6.0</td>\n",
       "      <td>14.0</td>\n",
       "      <td>4.0</td>\n",
       "      <td>36.213699</td>\n",
       "      <td>0.0</td>\n",
       "    </tr>\n",
       "    <tr>\n",
       "      <th>11</th>\n",
       "      <td>11</td>\n",
       "      <td>93.0</td>\n",
       "      <td>62.000000</td>\n",
       "      <td>19.0</td>\n",
       "      <td>37.055599</td>\n",
       "      <td>4.0</td>\n",
       "      <td>6.0</td>\n",
       "      <td>14.0</td>\n",
       "      <td>4.0</td>\n",
       "      <td>36.213699</td>\n",
       "      <td>0.0</td>\n",
       "    </tr>\n",
       "    <tr>\n",
       "      <th>12</th>\n",
       "      <td>12</td>\n",
       "      <td>90.0</td>\n",
       "      <td>57.666698</td>\n",
       "      <td>18.0</td>\n",
       "      <td>37.055599</td>\n",
       "      <td>4.0</td>\n",
       "      <td>6.0</td>\n",
       "      <td>14.0</td>\n",
       "      <td>4.0</td>\n",
       "      <td>36.213699</td>\n",
       "      <td>0.0</td>\n",
       "    </tr>\n",
       "    <tr>\n",
       "      <th>13</th>\n",
       "      <td>13</td>\n",
       "      <td>87.0</td>\n",
       "      <td>70.000000</td>\n",
       "      <td>20.0</td>\n",
       "      <td>37.055599</td>\n",
       "      <td>4.0</td>\n",
       "      <td>6.0</td>\n",
       "      <td>14.0</td>\n",
       "      <td>4.0</td>\n",
       "      <td>36.213699</td>\n",
       "      <td>0.0</td>\n",
       "    </tr>\n",
       "    <tr>\n",
       "      <th>14</th>\n",
       "      <td>14</td>\n",
       "      <td>88.0</td>\n",
       "      <td>69.666702</td>\n",
       "      <td>14.0</td>\n",
       "      <td>37.000000</td>\n",
       "      <td>4.0</td>\n",
       "      <td>6.0</td>\n",
       "      <td>14.0</td>\n",
       "      <td>4.0</td>\n",
       "      <td>36.213699</td>\n",
       "      <td>0.0</td>\n",
       "    </tr>\n",
       "    <tr>\n",
       "      <th>15</th>\n",
       "      <td>15</td>\n",
       "      <td>102.0</td>\n",
       "      <td>69.666702</td>\n",
       "      <td>22.0</td>\n",
       "      <td>37.000000</td>\n",
       "      <td>4.0</td>\n",
       "      <td>6.0</td>\n",
       "      <td>14.0</td>\n",
       "      <td>4.0</td>\n",
       "      <td>36.213699</td>\n",
       "      <td>0.0</td>\n",
       "    </tr>\n",
       "    <tr>\n",
       "      <th>16</th>\n",
       "      <td>16</td>\n",
       "      <td>99.0</td>\n",
       "      <td>70.000000</td>\n",
       "      <td>22.0</td>\n",
       "      <td>37.000000</td>\n",
       "      <td>4.0</td>\n",
       "      <td>6.0</td>\n",
       "      <td>14.0</td>\n",
       "      <td>4.0</td>\n",
       "      <td>36.213699</td>\n",
       "      <td>0.0</td>\n",
       "    </tr>\n",
       "    <tr>\n",
       "      <th>17</th>\n",
       "      <td>17</td>\n",
       "      <td>105.0</td>\n",
       "      <td>63.666698</td>\n",
       "      <td>16.0</td>\n",
       "      <td>37.000000</td>\n",
       "      <td>3.0</td>\n",
       "      <td>6.0</td>\n",
       "      <td>13.0</td>\n",
       "      <td>4.0</td>\n",
       "      <td>36.213699</td>\n",
       "      <td>0.0</td>\n",
       "    </tr>\n",
       "    <tr>\n",
       "      <th>18</th>\n",
       "      <td>18</td>\n",
       "      <td>81.0</td>\n",
       "      <td>69.333298</td>\n",
       "      <td>16.0</td>\n",
       "      <td>36.888901</td>\n",
       "      <td>3.0</td>\n",
       "      <td>5.0</td>\n",
       "      <td>12.0</td>\n",
       "      <td>4.0</td>\n",
       "      <td>36.213699</td>\n",
       "      <td>0.0</td>\n",
       "    </tr>\n",
       "    <tr>\n",
       "      <th>19</th>\n",
       "      <td>19</td>\n",
       "      <td>85.0</td>\n",
       "      <td>86.000000</td>\n",
       "      <td>15.0</td>\n",
       "      <td>36.888901</td>\n",
       "      <td>3.0</td>\n",
       "      <td>5.0</td>\n",
       "      <td>12.0</td>\n",
       "      <td>4.0</td>\n",
       "      <td>36.213699</td>\n",
       "      <td>0.0</td>\n",
       "    </tr>\n",
       "    <tr>\n",
       "      <th>20</th>\n",
       "      <td>20</td>\n",
       "      <td>89.0</td>\n",
       "      <td>70.000000</td>\n",
       "      <td>18.0</td>\n",
       "      <td>36.888901</td>\n",
       "      <td>3.0</td>\n",
       "      <td>4.0</td>\n",
       "      <td>11.0</td>\n",
       "      <td>4.0</td>\n",
       "      <td>36.213699</td>\n",
       "      <td>0.0</td>\n",
       "    </tr>\n",
       "    <tr>\n",
       "      <th>21</th>\n",
       "      <td>21</td>\n",
       "      <td>79.0</td>\n",
       "      <td>68.000000</td>\n",
       "      <td>16.0</td>\n",
       "      <td>36.888901</td>\n",
       "      <td>3.0</td>\n",
       "      <td>4.0</td>\n",
       "      <td>11.0</td>\n",
       "      <td>4.0</td>\n",
       "      <td>36.213699</td>\n",
       "      <td>0.0</td>\n",
       "    </tr>\n",
       "    <tr>\n",
       "      <th>22</th>\n",
       "      <td>22</td>\n",
       "      <td>78.0</td>\n",
       "      <td>65.666702</td>\n",
       "      <td>18.0</td>\n",
       "      <td>36.888901</td>\n",
       "      <td>3.0</td>\n",
       "      <td>5.0</td>\n",
       "      <td>12.0</td>\n",
       "      <td>4.0</td>\n",
       "      <td>36.213699</td>\n",
       "      <td>0.0</td>\n",
       "    </tr>\n",
       "    <tr>\n",
       "      <th>23</th>\n",
       "      <td>23</td>\n",
       "      <td>74.0</td>\n",
       "      <td>68.333298</td>\n",
       "      <td>14.0</td>\n",
       "      <td>36.888901</td>\n",
       "      <td>3.0</td>\n",
       "      <td>5.0</td>\n",
       "      <td>12.0</td>\n",
       "      <td>4.0</td>\n",
       "      <td>36.213699</td>\n",
       "      <td>0.0</td>\n",
       "    </tr>\n",
       "    <tr>\n",
       "      <th>0</th>\n",
       "      <td>0</td>\n",
       "      <td>64.0</td>\n",
       "      <td>70.000000</td>\n",
       "      <td>14.0</td>\n",
       "      <td>36.600000</td>\n",
       "      <td>4.0</td>\n",
       "      <td>6.0</td>\n",
       "      <td>15.0</td>\n",
       "      <td>5.0</td>\n",
       "      <td>69.610959</td>\n",
       "      <td>3.1</td>\n",
       "    </tr>\n",
       "    <tr>\n",
       "      <th>1</th>\n",
       "      <td>1</td>\n",
       "      <td>65.0</td>\n",
       "      <td>76.000000</td>\n",
       "      <td>14.0</td>\n",
       "      <td>35.099998</td>\n",
       "      <td>4.0</td>\n",
       "      <td>6.0</td>\n",
       "      <td>15.0</td>\n",
       "      <td>5.0</td>\n",
       "      <td>69.610959</td>\n",
       "      <td>3.1</td>\n",
       "    </tr>\n",
       "  </tbody>\n",
       "</table>\n",
       "</div>"
      ],
      "text/plain": [
       "    Hours  HRATE        MAP  RESP_RATE     TEMP_C  gcs_e  gcs_m  \\\n",
       "0       0   54.0  89.000000       14.0  36.600000    4.0    6.0   \n",
       "1       1   54.0  77.000000       15.0  36.600000    4.0    6.0   \n",
       "2       2   55.0  80.333298       10.0  36.111099    4.0    6.0   \n",
       "3       3   57.0  69.333298        8.0  36.111099    4.0    6.0   \n",
       "4       4   63.0  71.333298       14.0  35.777802    4.0    6.0   \n",
       "5       5   63.0  70.666702       13.0  35.777802    4.0    6.0   \n",
       "6       6   61.0  75.666702        9.0  35.777802    4.0    6.0   \n",
       "7       7   58.0  66.000000        8.0  35.777802    4.0    6.0   \n",
       "8       8   56.0  82.000000        8.0  35.944401    4.0    6.0   \n",
       "9       9   61.0  70.666702       22.0  35.944401    4.0    6.0   \n",
       "10     10   58.0  75.666702       15.0  35.944401    4.0    6.0   \n",
       "11     11   60.0  78.000000       13.0  35.944401    4.0    6.0   \n",
       "12     12   56.0  63.000000       12.0  36.444401    4.0    6.0   \n",
       "13     13   57.0  68.666702        9.0  36.444401    4.0    6.0   \n",
       "14     14   57.0  65.333298       18.0  36.444401    4.0    6.0   \n",
       "15     15   57.0  71.333298       18.0  36.444401    4.0    6.0   \n",
       "16     16   57.0  72.666702       18.0  36.500000    4.0    6.0   \n",
       "17     17   60.0  72.666702       13.0  36.500000    4.0    6.0   \n",
       "18     18   56.0  74.000000        9.0  36.500000    4.0    6.0   \n",
       "19     19   55.0  74.000000       23.0  36.500000    4.0    6.0   \n",
       "20     20   60.0  77.000000       16.0  36.166698    4.0    6.0   \n",
       "21     21   58.0  74.333298       15.0  36.166698    4.0    6.0   \n",
       "22     22   60.0  65.333298       14.0  36.166698    4.0    6.0   \n",
       "23     23   60.0  65.333298       14.0  36.166698    4.0    6.0   \n",
       "0       0   81.0  67.000000       23.0  36.600000    4.0    6.0   \n",
       "1       1   76.0  62.666698       21.0  36.333302    4.0    6.0   \n",
       "2       2   79.0  65.666702       20.0  36.333302    4.0    6.0   \n",
       "3       3   72.0  65.000000       20.0  36.222198    4.0    6.0   \n",
       "4       4   74.0  71.000000       21.0  36.222198    4.0    6.0   \n",
       "5       5   78.0  67.333298       20.0  36.388901    4.0    6.0   \n",
       "6       6   84.0  64.000000       21.0  36.388901    4.0    6.0   \n",
       "7       7   95.0  65.666702       20.0  36.388901    4.0    6.0   \n",
       "8       8   94.0  62.000000       19.0  37.055599    4.0    6.0   \n",
       "9       9  108.0  75.000000       21.0  37.055599    4.0    6.0   \n",
       "10     10   96.0  67.333298       18.0  37.055599    4.0    6.0   \n",
       "11     11   93.0  62.000000       19.0  37.055599    4.0    6.0   \n",
       "12     12   90.0  57.666698       18.0  37.055599    4.0    6.0   \n",
       "13     13   87.0  70.000000       20.0  37.055599    4.0    6.0   \n",
       "14     14   88.0  69.666702       14.0  37.000000    4.0    6.0   \n",
       "15     15  102.0  69.666702       22.0  37.000000    4.0    6.0   \n",
       "16     16   99.0  70.000000       22.0  37.000000    4.0    6.0   \n",
       "17     17  105.0  63.666698       16.0  37.000000    3.0    6.0   \n",
       "18     18   81.0  69.333298       16.0  36.888901    3.0    5.0   \n",
       "19     19   85.0  86.000000       15.0  36.888901    3.0    5.0   \n",
       "20     20   89.0  70.000000       18.0  36.888901    3.0    4.0   \n",
       "21     21   79.0  68.000000       16.0  36.888901    3.0    4.0   \n",
       "22     22   78.0  65.666702       18.0  36.888901    3.0    5.0   \n",
       "23     23   74.0  68.333298       14.0  36.888901    3.0    5.0   \n",
       "0       0   64.0  70.000000       14.0  36.600000    4.0    6.0   \n",
       "1       1   65.0  76.000000       14.0  35.099998    4.0    6.0   \n",
       "\n",
       "    gcs_total_carevue  gcs_v        AGE  PRELOS  \n",
       "0                15.0    5.0  49.704110    84.9  \n",
       "1                15.0    5.0  49.704110    84.9  \n",
       "2                15.0    5.0  49.704110    84.9  \n",
       "3                15.0    5.0  49.704110    84.9  \n",
       "4                15.0    5.0  49.704110    84.9  \n",
       "5                15.0    5.0  49.704110    84.9  \n",
       "6                15.0    5.0  49.704110    84.9  \n",
       "7                15.0    5.0  49.704110    84.9  \n",
       "8                15.0    5.0  49.704110    84.9  \n",
       "9                15.0    5.0  49.704110    84.9  \n",
       "10               15.0    5.0  49.704110    84.9  \n",
       "11               15.0    5.0  49.704110    84.9  \n",
       "12               15.0    5.0  49.704110    84.9  \n",
       "13               15.0    5.0  49.704110    84.9  \n",
       "14               15.0    5.0  49.704110    84.9  \n",
       "15               15.0    5.0  49.704110    84.9  \n",
       "16               15.0    5.0  49.704110    84.9  \n",
       "17               15.0    5.0  49.704110    84.9  \n",
       "18               15.0    5.0  49.704110    84.9  \n",
       "19               15.0    5.0  49.704110    84.9  \n",
       "20               15.0    5.0  49.704110    84.9  \n",
       "21               15.0    5.0  49.704110    84.9  \n",
       "22               15.0    5.0  49.704110    84.9  \n",
       "23               15.0    5.0  49.704110    84.9  \n",
       "0                15.0    5.0  36.213699     0.0  \n",
       "1                15.0    5.0  36.213699     0.0  \n",
       "2                15.0    5.0  36.213699     0.0  \n",
       "3                15.0    5.0  36.213699     0.0  \n",
       "4                15.0    5.0  36.213699     0.0  \n",
       "5                15.0    5.0  36.213699     0.0  \n",
       "6                15.0    5.0  36.213699     0.0  \n",
       "7                15.0    5.0  36.213699     0.0  \n",
       "8                14.0    4.0  36.213699     0.0  \n",
       "9                14.0    4.0  36.213699     0.0  \n",
       "10               14.0    4.0  36.213699     0.0  \n",
       "11               14.0    4.0  36.213699     0.0  \n",
       "12               14.0    4.0  36.213699     0.0  \n",
       "13               14.0    4.0  36.213699     0.0  \n",
       "14               14.0    4.0  36.213699     0.0  \n",
       "15               14.0    4.0  36.213699     0.0  \n",
       "16               14.0    4.0  36.213699     0.0  \n",
       "17               13.0    4.0  36.213699     0.0  \n",
       "18               12.0    4.0  36.213699     0.0  \n",
       "19               12.0    4.0  36.213699     0.0  \n",
       "20               11.0    4.0  36.213699     0.0  \n",
       "21               11.0    4.0  36.213699     0.0  \n",
       "22               12.0    4.0  36.213699     0.0  \n",
       "23               12.0    4.0  36.213699     0.0  \n",
       "0                15.0    5.0  69.610959     3.1  \n",
       "1                15.0    5.0  69.610959     3.1  "
      ]
     },
     "execution_count": 72,
     "metadata": {},
     "output_type": "execute_result"
    }
   ],
   "source": [
    "result_OneBigDataset_test.head(50)"
   ]
  },
  {
   "cell_type": "code",
   "execution_count": 73,
   "metadata": {},
   "outputs": [],
   "source": [
    "result_OneBigDataset_test.to_csv('/data/codi/OASIS/timesSeriesv2_cohorte/data/lengthOfStay/result_OneBigDataset_test.csv',index=False)\n",
    "y_true.to_csv('/data/codi/OASIS/timesSeriesv2_cohorte/data/lengthOfStay/result_OneBigDataset_y_true_test.csv',index=False, header=['y_true'])"
   ]
  },
  {
   "cell_type": "code",
   "execution_count": 74,
   "metadata": {},
   "outputs": [],
   "source": [
    "result_OneBigDataset_test = pd.read_csv('/data/codi/OASIS/timesSeriesv2_cohorte/data/lengthOfStay/result_OneBigDataset_test.csv')\n",
    "y_true_test = pd.read_csv('/data/codi/OASIS/timesSeriesv2_cohorte/data/lengthOfStay/result_OneBigDataset_y_true_test.csv')"
   ]
  },
  {
   "cell_type": "code",
   "execution_count": 75,
   "metadata": {},
   "outputs": [
    {
     "data": {
      "text/plain": [
       "Hours                0\n",
       "HRATE                0\n",
       "MAP                  0\n",
       "RESP_RATE            0\n",
       "TEMP_C               0\n",
       "gcs_e                0\n",
       "gcs_m                0\n",
       "gcs_total_carevue    0\n",
       "gcs_v                0\n",
       "AGE                  0\n",
       "PRELOS               0\n",
       "dtype: int64"
      ]
     },
     "execution_count": 75,
     "metadata": {},
     "output_type": "execute_result"
    }
   ],
   "source": [
    "result_OneBigDataset_test.isnull().sum()"
   ]
  },
  {
   "cell_type": "markdown",
   "metadata": {},
   "source": [
    "### TimeSeries For Mortality task:"
   ]
  },
  {
   "cell_type": "code",
   "execution_count": 76,
   "metadata": {},
   "outputs": [],
   "source": [
    "stays_root_path = \"/data/codi/OASIS/timesSeriesv2_cohorte/data/root\""
   ]
  },
  {
   "cell_type": "code",
   "execution_count": 77,
   "metadata": {},
   "outputs": [
    {
     "data": {
      "text/html": [
       "<div>\n",
       "<style scoped>\n",
       "    .dataframe tbody tr th:only-of-type {\n",
       "        vertical-align: middle;\n",
       "    }\n",
       "\n",
       "    .dataframe tbody tr th {\n",
       "        vertical-align: top;\n",
       "    }\n",
       "\n",
       "    .dataframe thead th {\n",
       "        text-align: right;\n",
       "    }\n",
       "</style>\n",
       "<table border=\"1\" class=\"dataframe\">\n",
       "  <thead>\n",
       "    <tr style=\"text-align: right;\">\n",
       "      <th></th>\n",
       "      <th>SUBJECT_ID</th>\n",
       "      <th>DOD</th>\n",
       "      <th>HADM_ID</th>\n",
       "      <th>ADMITTIME</th>\n",
       "      <th>DISCHTIME</th>\n",
       "      <th>DEATHTIME</th>\n",
       "      <th>ADMISSION_TYPE</th>\n",
       "      <th>ICUSTAY_ID</th>\n",
       "      <th>INTIME</th>\n",
       "      <th>OUTTIME</th>\n",
       "      <th>LOS</th>\n",
       "      <th>AGE</th>\n",
       "      <th>PRELOS</th>\n",
       "      <th>MORTALITY_INHOSPITAL</th>\n",
       "    </tr>\n",
       "  </thead>\n",
       "  <tbody>\n",
       "    <tr>\n",
       "      <th>0</th>\n",
       "      <td>249</td>\n",
       "      <td>NaN</td>\n",
       "      <td>116935</td>\n",
       "      <td>2149-12-17 20:41:00</td>\n",
       "      <td>2149-12-31 14:55:00</td>\n",
       "      <td>NaN</td>\n",
       "      <td>EMERGENCY</td>\n",
       "      <td>215044</td>\n",
       "      <td>2149-12-18 20:06:02</td>\n",
       "      <td>2149-12-24 13:31:45</td>\n",
       "      <td>5.7262</td>\n",
       "      <td>74.816438</td>\n",
       "      <td>23.4</td>\n",
       "      <td>0</td>\n",
       "    </tr>\n",
       "    <tr>\n",
       "      <th>1</th>\n",
       "      <td>249</td>\n",
       "      <td>NaN</td>\n",
       "      <td>149546</td>\n",
       "      <td>2155-02-03 20:16:00</td>\n",
       "      <td>2155-02-14 11:15:00</td>\n",
       "      <td>NaN</td>\n",
       "      <td>EMERGENCY</td>\n",
       "      <td>269035</td>\n",
       "      <td>2155-02-03 20:17:29</td>\n",
       "      <td>2155-02-05 18:34:02</td>\n",
       "      <td>1.9282</td>\n",
       "      <td>79.947945</td>\n",
       "      <td>0.0</td>\n",
       "      <td>0</td>\n",
       "    </tr>\n",
       "    <tr>\n",
       "      <th>2</th>\n",
       "      <td>249</td>\n",
       "      <td>NaN</td>\n",
       "      <td>149546</td>\n",
       "      <td>2155-02-03 20:16:00</td>\n",
       "      <td>2155-02-14 11:15:00</td>\n",
       "      <td>NaN</td>\n",
       "      <td>EMERGENCY</td>\n",
       "      <td>263055</td>\n",
       "      <td>2155-02-07 18:51:16</td>\n",
       "      <td>2155-02-11 16:00:39</td>\n",
       "      <td>3.8815</td>\n",
       "      <td>79.958904</td>\n",
       "      <td>94.6</td>\n",
       "      <td>0</td>\n",
       "    </tr>\n",
       "    <tr>\n",
       "      <th>3</th>\n",
       "      <td>249</td>\n",
       "      <td>NaN</td>\n",
       "      <td>158975</td>\n",
       "      <td>2156-04-27 15:33:00</td>\n",
       "      <td>2156-05-14 15:30:00</td>\n",
       "      <td>NaN</td>\n",
       "      <td>EMERGENCY</td>\n",
       "      <td>282599</td>\n",
       "      <td>2156-05-01 18:10:12</td>\n",
       "      <td>2156-05-03 18:43:45</td>\n",
       "      <td>2.0233</td>\n",
       "      <td>81.189041</td>\n",
       "      <td>98.6</td>\n",
       "      <td>0</td>\n",
       "    </tr>\n",
       "    <tr>\n",
       "      <th>4</th>\n",
       "      <td>249</td>\n",
       "      <td>NaN</td>\n",
       "      <td>158975</td>\n",
       "      <td>2156-04-27 15:33:00</td>\n",
       "      <td>2156-05-14 15:30:00</td>\n",
       "      <td>NaN</td>\n",
       "      <td>EMERGENCY</td>\n",
       "      <td>263882</td>\n",
       "      <td>2156-05-10 17:47:35</td>\n",
       "      <td>2156-05-11 19:16:03</td>\n",
       "      <td>1.0614</td>\n",
       "      <td>81.213699</td>\n",
       "      <td>314.2</td>\n",
       "      <td>0</td>\n",
       "    </tr>\n",
       "  </tbody>\n",
       "</table>\n",
       "</div>"
      ],
      "text/plain": [
       "   SUBJECT_ID  DOD  HADM_ID            ADMITTIME            DISCHTIME  \\\n",
       "0         249  NaN   116935  2149-12-17 20:41:00  2149-12-31 14:55:00   \n",
       "1         249  NaN   149546  2155-02-03 20:16:00  2155-02-14 11:15:00   \n",
       "2         249  NaN   149546  2155-02-03 20:16:00  2155-02-14 11:15:00   \n",
       "3         249  NaN   158975  2156-04-27 15:33:00  2156-05-14 15:30:00   \n",
       "4         249  NaN   158975  2156-04-27 15:33:00  2156-05-14 15:30:00   \n",
       "\n",
       "  DEATHTIME ADMISSION_TYPE  ICUSTAY_ID               INTIME  \\\n",
       "0       NaN      EMERGENCY      215044  2149-12-18 20:06:02   \n",
       "1       NaN      EMERGENCY      269035  2155-02-03 20:17:29   \n",
       "2       NaN      EMERGENCY      263055  2155-02-07 18:51:16   \n",
       "3       NaN      EMERGENCY      282599  2156-05-01 18:10:12   \n",
       "4       NaN      EMERGENCY      263882  2156-05-10 17:47:35   \n",
       "\n",
       "               OUTTIME     LOS        AGE  PRELOS  MORTALITY_INHOSPITAL  \n",
       "0  2149-12-24 13:31:45  5.7262  74.816438    23.4                     0  \n",
       "1  2155-02-05 18:34:02  1.9282  79.947945     0.0                     0  \n",
       "2  2155-02-11 16:00:39  3.8815  79.958904    94.6                     0  \n",
       "3  2156-05-03 18:43:45  2.0233  81.189041    98.6                     0  \n",
       "4  2156-05-11 19:16:03  1.0614  81.213699   314.2                     0  "
      ]
     },
     "execution_count": 77,
     "metadata": {},
     "output_type": "execute_result"
    }
   ],
   "source": [
    "cohorte_general = pd.read_csv(os.path.join(stays_root_path, \"all_stays.csv\"))\n",
    "cohorte_general.head()"
   ]
  },
  {
   "cell_type": "code",
   "execution_count": 78,
   "metadata": {},
   "outputs": [
    {
     "name": "stdout",
     "output_type": "stream",
     "text": [
      "(3236, 1)\n"
     ]
    },
    {
     "data": {
      "text/html": [
       "<div>\n",
       "<style scoped>\n",
       "    .dataframe tbody tr th:only-of-type {\n",
       "        vertical-align: middle;\n",
       "    }\n",
       "\n",
       "    .dataframe tbody tr th {\n",
       "        vertical-align: top;\n",
       "    }\n",
       "\n",
       "    .dataframe thead th {\n",
       "        text-align: right;\n",
       "    }\n",
       "</style>\n",
       "<table border=\"1\" class=\"dataframe\">\n",
       "  <thead>\n",
       "    <tr style=\"text-align: right;\">\n",
       "      <th></th>\n",
       "      <th>ICUSTAY_ID</th>\n",
       "    </tr>\n",
       "  </thead>\n",
       "  <tbody>\n",
       "    <tr>\n",
       "      <th>0</th>\n",
       "      <td>232110</td>\n",
       "    </tr>\n",
       "    <tr>\n",
       "      <th>1</th>\n",
       "      <td>277021</td>\n",
       "    </tr>\n",
       "    <tr>\n",
       "      <th>2</th>\n",
       "      <td>262782</td>\n",
       "    </tr>\n",
       "    <tr>\n",
       "      <th>3</th>\n",
       "      <td>258147</td>\n",
       "    </tr>\n",
       "    <tr>\n",
       "      <th>4</th>\n",
       "      <td>243600</td>\n",
       "    </tr>\n",
       "  </tbody>\n",
       "</table>\n",
       "</div>"
      ],
      "text/plain": [
       "   ICUSTAY_ID\n",
       "0      232110\n",
       "1      277021\n",
       "2      262782\n",
       "3      258147\n",
       "4      243600"
      ]
     },
     "execution_count": 78,
     "metadata": {},
     "output_type": "execute_result"
    }
   ],
   "source": [
    "cohorte_test_benchmark = pd.read_csv('/data/codi/OASIS/mortality/test/listfile.csv')\n",
    "print(cohorte_test_benchmark.shape)\n",
    "cohorte_test_benchmark.head()"
   ]
  },
  {
   "cell_type": "code",
   "execution_count": 79,
   "metadata": {},
   "outputs": [
    {
     "name": "stdout",
     "output_type": "stream",
     "text": [
      "(3236, 14)\n",
      "ICUSTAY_ID                 0\n",
      "SUBJECT_ID                 0\n",
      "DOD                     1715\n",
      "HADM_ID                    0\n",
      "ADMITTIME                  0\n",
      "DISCHTIME                  0\n",
      "DEATHTIME               2873\n",
      "ADMISSION_TYPE             0\n",
      "INTIME                     0\n",
      "OUTTIME                    0\n",
      "LOS                        0\n",
      "AGE                        0\n",
      "PRELOS                     0\n",
      "MORTALITY_INHOSPITAL       0\n",
      "dtype: int64\n"
     ]
    },
    {
     "data": {
      "text/html": [
       "<div>\n",
       "<style scoped>\n",
       "    .dataframe tbody tr th:only-of-type {\n",
       "        vertical-align: middle;\n",
       "    }\n",
       "\n",
       "    .dataframe tbody tr th {\n",
       "        vertical-align: top;\n",
       "    }\n",
       "\n",
       "    .dataframe thead th {\n",
       "        text-align: right;\n",
       "    }\n",
       "</style>\n",
       "<table border=\"1\" class=\"dataframe\">\n",
       "  <thead>\n",
       "    <tr style=\"text-align: right;\">\n",
       "      <th></th>\n",
       "      <th>ICUSTAY_ID</th>\n",
       "      <th>SUBJECT_ID</th>\n",
       "      <th>DOD</th>\n",
       "      <th>HADM_ID</th>\n",
       "      <th>ADMITTIME</th>\n",
       "      <th>DISCHTIME</th>\n",
       "      <th>DEATHTIME</th>\n",
       "      <th>ADMISSION_TYPE</th>\n",
       "      <th>INTIME</th>\n",
       "      <th>OUTTIME</th>\n",
       "      <th>LOS</th>\n",
       "      <th>AGE</th>\n",
       "      <th>PRELOS</th>\n",
       "      <th>MORTALITY_INHOSPITAL</th>\n",
       "    </tr>\n",
       "  </thead>\n",
       "  <tbody>\n",
       "    <tr>\n",
       "      <th>0</th>\n",
       "      <td>232110</td>\n",
       "      <td>10011</td>\n",
       "      <td>2126-08-28</td>\n",
       "      <td>105331</td>\n",
       "      <td>2126-08-14 22:32:00</td>\n",
       "      <td>2126-08-28 18:59:00</td>\n",
       "      <td>2126-08-28 18:59:00</td>\n",
       "      <td>EMERGENCY</td>\n",
       "      <td>2126-08-14 22:34:00</td>\n",
       "      <td>2126-08-28 18:59:00</td>\n",
       "      <td>13.8507</td>\n",
       "      <td>36.213699</td>\n",
       "      <td>0.0</td>\n",
       "      <td>1</td>\n",
       "    </tr>\n",
       "    <tr>\n",
       "      <th>1</th>\n",
       "      <td>277021</td>\n",
       "      <td>10026</td>\n",
       "      <td>2195-11-24</td>\n",
       "      <td>103770</td>\n",
       "      <td>2195-05-17 07:39:00</td>\n",
       "      <td>2195-05-24 11:45:00</td>\n",
       "      <td>NaN</td>\n",
       "      <td>EMERGENCY</td>\n",
       "      <td>2195-05-17 07:40:18</td>\n",
       "      <td>2195-05-19 17:24:25</td>\n",
       "      <td>2.4056</td>\n",
       "      <td>96.967177</td>\n",
       "      <td>0.0</td>\n",
       "      <td>0</td>\n",
       "    </tr>\n",
       "    <tr>\n",
       "      <th>2</th>\n",
       "      <td>262782</td>\n",
       "      <td>10030</td>\n",
       "      <td>NaN</td>\n",
       "      <td>124443</td>\n",
       "      <td>2137-08-21 14:17:00</td>\n",
       "      <td>2137-08-24 14:56:00</td>\n",
       "      <td>NaN</td>\n",
       "      <td>URGENT</td>\n",
       "      <td>2137-08-21 14:18:00</td>\n",
       "      <td>2137-08-23 15:17:00</td>\n",
       "      <td>2.0410</td>\n",
       "      <td>77.331507</td>\n",
       "      <td>0.0</td>\n",
       "      <td>0</td>\n",
       "    </tr>\n",
       "    <tr>\n",
       "      <th>3</th>\n",
       "      <td>258147</td>\n",
       "      <td>10042</td>\n",
       "      <td>2150-12-03</td>\n",
       "      <td>148562</td>\n",
       "      <td>2147-02-06 12:38:00</td>\n",
       "      <td>2147-02-17 19:00:00</td>\n",
       "      <td>NaN</td>\n",
       "      <td>EMERGENCY</td>\n",
       "      <td>2147-02-06 12:40:59</td>\n",
       "      <td>2147-02-14 16:04:43</td>\n",
       "      <td>8.1415</td>\n",
       "      <td>70.800000</td>\n",
       "      <td>0.0</td>\n",
       "      <td>0</td>\n",
       "    </tr>\n",
       "    <tr>\n",
       "      <th>4</th>\n",
       "      <td>243600</td>\n",
       "      <td>10094</td>\n",
       "      <td>2180-03-20</td>\n",
       "      <td>168074</td>\n",
       "      <td>2180-02-29 18:54:00</td>\n",
       "      <td>2180-03-10 17:35:00</td>\n",
       "      <td>NaN</td>\n",
       "      <td>EMERGENCY</td>\n",
       "      <td>2180-02-29 18:54:39</td>\n",
       "      <td>2180-03-04 21:20:36</td>\n",
       "      <td>4.1014</td>\n",
       "      <td>94.980058</td>\n",
       "      <td>0.0</td>\n",
       "      <td>0</td>\n",
       "    </tr>\n",
       "  </tbody>\n",
       "</table>\n",
       "</div>"
      ],
      "text/plain": [
       "   ICUSTAY_ID  SUBJECT_ID         DOD  HADM_ID            ADMITTIME  \\\n",
       "0      232110       10011  2126-08-28   105331  2126-08-14 22:32:00   \n",
       "1      277021       10026  2195-11-24   103770  2195-05-17 07:39:00   \n",
       "2      262782       10030         NaN   124443  2137-08-21 14:17:00   \n",
       "3      258147       10042  2150-12-03   148562  2147-02-06 12:38:00   \n",
       "4      243600       10094  2180-03-20   168074  2180-02-29 18:54:00   \n",
       "\n",
       "             DISCHTIME            DEATHTIME ADMISSION_TYPE  \\\n",
       "0  2126-08-28 18:59:00  2126-08-28 18:59:00      EMERGENCY   \n",
       "1  2195-05-24 11:45:00                  NaN      EMERGENCY   \n",
       "2  2137-08-24 14:56:00                  NaN         URGENT   \n",
       "3  2147-02-17 19:00:00                  NaN      EMERGENCY   \n",
       "4  2180-03-10 17:35:00                  NaN      EMERGENCY   \n",
       "\n",
       "                INTIME              OUTTIME      LOS        AGE  PRELOS  \\\n",
       "0  2126-08-14 22:34:00  2126-08-28 18:59:00  13.8507  36.213699     0.0   \n",
       "1  2195-05-17 07:40:18  2195-05-19 17:24:25   2.4056  96.967177     0.0   \n",
       "2  2137-08-21 14:18:00  2137-08-23 15:17:00   2.0410  77.331507     0.0   \n",
       "3  2147-02-06 12:40:59  2147-02-14 16:04:43   8.1415  70.800000     0.0   \n",
       "4  2180-02-29 18:54:39  2180-03-04 21:20:36   4.1014  94.980058     0.0   \n",
       "\n",
       "   MORTALITY_INHOSPITAL  \n",
       "0                     1  \n",
       "1                     0  \n",
       "2                     0  \n",
       "3                     0  \n",
       "4                     0  "
      ]
     },
     "execution_count": 79,
     "metadata": {},
     "output_type": "execute_result"
    }
   ],
   "source": [
    "test=pd.merge(cohorte_test_benchmark, cohorte_general, how='left', on=['ICUSTAY_ID'])\n",
    "print(test.shape) #asegurar que estan todos los icustays de cohorte_test_benchmark en cohorte general\n",
    "print(test.isnull().sum())\n",
    "test.head()"
   ]
  },
  {
   "cell_type": "code",
   "execution_count": 80,
   "metadata": {},
   "outputs": [
    {
     "data": {
      "text/html": [
       "<div>\n",
       "<style scoped>\n",
       "    .dataframe tbody tr th:only-of-type {\n",
       "        vertical-align: middle;\n",
       "    }\n",
       "\n",
       "    .dataframe tbody tr th {\n",
       "        vertical-align: top;\n",
       "    }\n",
       "\n",
       "    .dataframe thead th {\n",
       "        text-align: right;\n",
       "    }\n",
       "</style>\n",
       "<table border=\"1\" class=\"dataframe\">\n",
       "  <thead>\n",
       "    <tr style=\"text-align: right;\">\n",
       "      <th></th>\n",
       "      <th>ICUSTAY_ID</th>\n",
       "    </tr>\n",
       "  </thead>\n",
       "  <tbody>\n",
       "    <tr>\n",
       "      <th>0</th>\n",
       "      <td>232110</td>\n",
       "    </tr>\n",
       "    <tr>\n",
       "      <th>1</th>\n",
       "      <td>277021</td>\n",
       "    </tr>\n",
       "    <tr>\n",
       "      <th>2</th>\n",
       "      <td>262782</td>\n",
       "    </tr>\n",
       "    <tr>\n",
       "      <th>3</th>\n",
       "      <td>258147</td>\n",
       "    </tr>\n",
       "    <tr>\n",
       "      <th>4</th>\n",
       "      <td>243600</td>\n",
       "    </tr>\n",
       "  </tbody>\n",
       "</table>\n",
       "</div>"
      ],
      "text/plain": [
       "   ICUSTAY_ID\n",
       "0      232110\n",
       "1      277021\n",
       "2      262782\n",
       "3      258147\n",
       "4      243600"
      ]
     },
     "execution_count": 80,
     "metadata": {},
     "output_type": "execute_result"
    }
   ],
   "source": [
    "#Solo necesito iscustay_id (ya que en este version nombré las carpetas con icustay_id)\n",
    "test = pd.DataFrame(test['ICUSTAY_ID'])\n",
    "test.head()\n"
   ]
  },
  {
   "cell_type": "code",
   "execution_count": 81,
   "metadata": {},
   "outputs": [],
   "source": [
    "output_resources_path = '/data/codi/OASIS/timesSeriesv2_cohorte/data/mortality'\n",
    "try:\n",
    "    os.makedirs(output_resources_path)\n",
    "except:\n",
    "    pass"
   ]
  },
  {
   "cell_type": "code",
   "execution_count": 82,
   "metadata": {},
   "outputs": [],
   "source": [
    "test.to_csv(os.path.join(output_resources_path, 'testset.csv'),index=False,header=False)"
   ]
  },
  {
   "cell_type": "code",
   "execution_count": 83,
   "metadata": {},
   "outputs": [
    {
     "name": "stdout",
     "output_type": "stream",
     "text": [
      "(17903, 1)\n"
     ]
    },
    {
     "data": {
      "text/html": [
       "<div>\n",
       "<style scoped>\n",
       "    .dataframe tbody tr th:only-of-type {\n",
       "        vertical-align: middle;\n",
       "    }\n",
       "\n",
       "    .dataframe tbody tr th {\n",
       "        vertical-align: top;\n",
       "    }\n",
       "\n",
       "    .dataframe thead th {\n",
       "        text-align: right;\n",
       "    }\n",
       "</style>\n",
       "<table border=\"1\" class=\"dataframe\">\n",
       "  <thead>\n",
       "    <tr style=\"text-align: right;\">\n",
       "      <th></th>\n",
       "      <th>ICUSTAY_ID</th>\n",
       "    </tr>\n",
       "  </thead>\n",
       "  <tbody>\n",
       "    <tr>\n",
       "      <th>0</th>\n",
       "      <td>219326</td>\n",
       "    </tr>\n",
       "    <tr>\n",
       "      <th>1</th>\n",
       "      <td>273321</td>\n",
       "    </tr>\n",
       "    <tr>\n",
       "      <th>2</th>\n",
       "      <td>221917</td>\n",
       "    </tr>\n",
       "    <tr>\n",
       "      <th>3</th>\n",
       "      <td>269490</td>\n",
       "    </tr>\n",
       "    <tr>\n",
       "      <th>4</th>\n",
       "      <td>225465</td>\n",
       "    </tr>\n",
       "  </tbody>\n",
       "</table>\n",
       "</div>"
      ],
      "text/plain": [
       "   ICUSTAY_ID\n",
       "0      219326\n",
       "1      273321\n",
       "2      221917\n",
       "3      269490\n",
       "4      225465"
      ]
     },
     "execution_count": 83,
     "metadata": {},
     "output_type": "execute_result"
    }
   ],
   "source": [
    "cohorte_train_benchmark = pd.read_csv('/data/codi/OASIS/mortality/train/listfile.csv')\n",
    "print(cohorte_train_benchmark.shape)\n",
    "cohorte_train_benchmark.head()"
   ]
  },
  {
   "cell_type": "code",
   "execution_count": 84,
   "metadata": {},
   "outputs": [
    {
     "name": "stdout",
     "output_type": "stream",
     "text": [
      "(17903, 14)\n",
      "ICUSTAY_ID                  0\n",
      "SUBJECT_ID                  0\n",
      "DOD                      9080\n",
      "HADM_ID                     0\n",
      "ADMITTIME                   0\n",
      "DISCHTIME                   0\n",
      "DEATHTIME               15492\n",
      "ADMISSION_TYPE              0\n",
      "INTIME                      0\n",
      "OUTTIME                     0\n",
      "LOS                         0\n",
      "AGE                         0\n",
      "PRELOS                      0\n",
      "MORTALITY_INHOSPITAL        0\n",
      "dtype: int64\n"
     ]
    },
    {
     "data": {
      "text/html": [
       "<div>\n",
       "<style scoped>\n",
       "    .dataframe tbody tr th:only-of-type {\n",
       "        vertical-align: middle;\n",
       "    }\n",
       "\n",
       "    .dataframe tbody tr th {\n",
       "        vertical-align: top;\n",
       "    }\n",
       "\n",
       "    .dataframe thead th {\n",
       "        text-align: right;\n",
       "    }\n",
       "</style>\n",
       "<table border=\"1\" class=\"dataframe\">\n",
       "  <thead>\n",
       "    <tr style=\"text-align: right;\">\n",
       "      <th></th>\n",
       "      <th>ICUSTAY_ID</th>\n",
       "      <th>SUBJECT_ID</th>\n",
       "      <th>DOD</th>\n",
       "      <th>HADM_ID</th>\n",
       "      <th>ADMITTIME</th>\n",
       "      <th>DISCHTIME</th>\n",
       "      <th>DEATHTIME</th>\n",
       "      <th>ADMISSION_TYPE</th>\n",
       "      <th>INTIME</th>\n",
       "      <th>OUTTIME</th>\n",
       "      <th>LOS</th>\n",
       "      <th>AGE</th>\n",
       "      <th>PRELOS</th>\n",
       "      <th>MORTALITY_INHOSPITAL</th>\n",
       "    </tr>\n",
       "  </thead>\n",
       "  <tbody>\n",
       "    <tr>\n",
       "      <th>0</th>\n",
       "      <td>219326</td>\n",
       "      <td>84984</td>\n",
       "      <td>2114-09-28</td>\n",
       "      <td>101295</td>\n",
       "      <td>2114-09-15 02:04:00</td>\n",
       "      <td>2114-09-28 07:45:00</td>\n",
       "      <td>2114-09-28 07:45:00</td>\n",
       "      <td>EMERGENCY</td>\n",
       "      <td>2114-09-15 02:04:54</td>\n",
       "      <td>2114-09-28 11:14:08</td>\n",
       "      <td>13.3814</td>\n",
       "      <td>77.334247</td>\n",
       "      <td>0.0</td>\n",
       "      <td>1</td>\n",
       "    </tr>\n",
       "    <tr>\n",
       "      <th>1</th>\n",
       "      <td>273321</td>\n",
       "      <td>57299</td>\n",
       "      <td>2125-09-08</td>\n",
       "      <td>189271</td>\n",
       "      <td>2122-11-30 09:00:00</td>\n",
       "      <td>2122-12-05 12:39:00</td>\n",
       "      <td>NaN</td>\n",
       "      <td>ELECTIVE</td>\n",
       "      <td>2122-11-30 14:51:39</td>\n",
       "      <td>2122-12-03 11:28:34</td>\n",
       "      <td>2.8590</td>\n",
       "      <td>80.717808</td>\n",
       "      <td>5.9</td>\n",
       "      <td>0</td>\n",
       "    </tr>\n",
       "    <tr>\n",
       "      <th>2</th>\n",
       "      <td>221917</td>\n",
       "      <td>72032</td>\n",
       "      <td>NaN</td>\n",
       "      <td>190953</td>\n",
       "      <td>2130-12-25 16:08:00</td>\n",
       "      <td>2131-01-02 14:30:00</td>\n",
       "      <td>NaN</td>\n",
       "      <td>EMERGENCY</td>\n",
       "      <td>2130-12-25 16:09:00</td>\n",
       "      <td>2130-12-31 18:15:36</td>\n",
       "      <td>6.0879</td>\n",
       "      <td>56.183562</td>\n",
       "      <td>0.0</td>\n",
       "      <td>0</td>\n",
       "    </tr>\n",
       "    <tr>\n",
       "      <th>3</th>\n",
       "      <td>269490</td>\n",
       "      <td>22175</td>\n",
       "      <td>NaN</td>\n",
       "      <td>129470</td>\n",
       "      <td>2122-10-30 12:55:00</td>\n",
       "      <td>2122-11-17 18:00:00</td>\n",
       "      <td>NaN</td>\n",
       "      <td>EMERGENCY</td>\n",
       "      <td>2122-10-30 21:47:49</td>\n",
       "      <td>2122-11-17 19:09:25</td>\n",
       "      <td>17.8900</td>\n",
       "      <td>64.424658</td>\n",
       "      <td>8.9</td>\n",
       "      <td>0</td>\n",
       "    </tr>\n",
       "    <tr>\n",
       "      <th>4</th>\n",
       "      <td>225465</td>\n",
       "      <td>13033</td>\n",
       "      <td>2188-02-10</td>\n",
       "      <td>151787</td>\n",
       "      <td>2183-07-23 23:17:00</td>\n",
       "      <td>2183-07-26 16:50:00</td>\n",
       "      <td>NaN</td>\n",
       "      <td>EMERGENCY</td>\n",
       "      <td>2183-07-23 23:19:39</td>\n",
       "      <td>2183-07-26 16:50:08</td>\n",
       "      <td>2.7295</td>\n",
       "      <td>35.271233</td>\n",
       "      <td>0.0</td>\n",
       "      <td>0</td>\n",
       "    </tr>\n",
       "  </tbody>\n",
       "</table>\n",
       "</div>"
      ],
      "text/plain": [
       "   ICUSTAY_ID  SUBJECT_ID         DOD  HADM_ID            ADMITTIME  \\\n",
       "0      219326       84984  2114-09-28   101295  2114-09-15 02:04:00   \n",
       "1      273321       57299  2125-09-08   189271  2122-11-30 09:00:00   \n",
       "2      221917       72032         NaN   190953  2130-12-25 16:08:00   \n",
       "3      269490       22175         NaN   129470  2122-10-30 12:55:00   \n",
       "4      225465       13033  2188-02-10   151787  2183-07-23 23:17:00   \n",
       "\n",
       "             DISCHTIME            DEATHTIME ADMISSION_TYPE  \\\n",
       "0  2114-09-28 07:45:00  2114-09-28 07:45:00      EMERGENCY   \n",
       "1  2122-12-05 12:39:00                  NaN       ELECTIVE   \n",
       "2  2131-01-02 14:30:00                  NaN      EMERGENCY   \n",
       "3  2122-11-17 18:00:00                  NaN      EMERGENCY   \n",
       "4  2183-07-26 16:50:00                  NaN      EMERGENCY   \n",
       "\n",
       "                INTIME              OUTTIME      LOS        AGE  PRELOS  \\\n",
       "0  2114-09-15 02:04:54  2114-09-28 11:14:08  13.3814  77.334247     0.0   \n",
       "1  2122-11-30 14:51:39  2122-12-03 11:28:34   2.8590  80.717808     5.9   \n",
       "2  2130-12-25 16:09:00  2130-12-31 18:15:36   6.0879  56.183562     0.0   \n",
       "3  2122-10-30 21:47:49  2122-11-17 19:09:25  17.8900  64.424658     8.9   \n",
       "4  2183-07-23 23:19:39  2183-07-26 16:50:08   2.7295  35.271233     0.0   \n",
       "\n",
       "   MORTALITY_INHOSPITAL  \n",
       "0                     1  \n",
       "1                     0  \n",
       "2                     0  \n",
       "3                     0  \n",
       "4                     0  "
      ]
     },
     "execution_count": 84,
     "metadata": {},
     "output_type": "execute_result"
    }
   ],
   "source": [
    "trainset=pd.merge(cohorte_train_benchmark, cohorte_general, how='left', on=['ICUSTAY_ID'])\n",
    "print(trainset.shape)\n",
    "print(trainset.isnull().sum())\n",
    "trainset.head()"
   ]
  },
  {
   "cell_type": "code",
   "execution_count": 85,
   "metadata": {},
   "outputs": [
    {
     "data": {
      "text/html": [
       "<div>\n",
       "<style scoped>\n",
       "    .dataframe tbody tr th:only-of-type {\n",
       "        vertical-align: middle;\n",
       "    }\n",
       "\n",
       "    .dataframe tbody tr th {\n",
       "        vertical-align: top;\n",
       "    }\n",
       "\n",
       "    .dataframe thead th {\n",
       "        text-align: right;\n",
       "    }\n",
       "</style>\n",
       "<table border=\"1\" class=\"dataframe\">\n",
       "  <thead>\n",
       "    <tr style=\"text-align: right;\">\n",
       "      <th></th>\n",
       "      <th>ICUSTAY_ID</th>\n",
       "    </tr>\n",
       "  </thead>\n",
       "  <tbody>\n",
       "    <tr>\n",
       "      <th>0</th>\n",
       "      <td>219326</td>\n",
       "    </tr>\n",
       "    <tr>\n",
       "      <th>1</th>\n",
       "      <td>273321</td>\n",
       "    </tr>\n",
       "    <tr>\n",
       "      <th>2</th>\n",
       "      <td>221917</td>\n",
       "    </tr>\n",
       "    <tr>\n",
       "      <th>3</th>\n",
       "      <td>269490</td>\n",
       "    </tr>\n",
       "    <tr>\n",
       "      <th>4</th>\n",
       "      <td>225465</td>\n",
       "    </tr>\n",
       "  </tbody>\n",
       "</table>\n",
       "</div>"
      ],
      "text/plain": [
       "   ICUSTAY_ID\n",
       "0      219326\n",
       "1      273321\n",
       "2      221917\n",
       "3      269490\n",
       "4      225465"
      ]
     },
     "execution_count": 85,
     "metadata": {},
     "output_type": "execute_result"
    }
   ],
   "source": [
    "trainset = pd.DataFrame(trainset['ICUSTAY_ID'])\n",
    "trainset.head()"
   ]
  },
  {
   "cell_type": "code",
   "execution_count": 86,
   "metadata": {},
   "outputs": [],
   "source": [
    "trainset.to_csv(os.path.join(output_resources_path, 'trainset.csv'),index=False,header=False)"
   ]
  },
  {
   "cell_type": "code",
   "execution_count": 87,
   "metadata": {},
   "outputs": [],
   "source": [
    "def process_partition(root_path, output_path, partition, listfile_path, eps=1e-6, n_hours=24):\n",
    "    output_dir = os.path.join(output_path, partition)\n",
    "    if not os.path.exists(output_dir):\n",
    "        os.mkdir(output_dir)\n",
    "\n",
    "    xy_pairs = []\n",
    "\n",
    "    #Iterar los icustays con mismo orden que listfile de otros modelos. (para luego el cross validation sea sobre mismos splits)\n",
    "    partition_set = []\n",
    "    with open(listfile_path, \"r\") as partition_set_file:\n",
    "        for line in partition_set_file:\n",
    "            x = line.replace(\"\\n\", \"\")\n",
    "            partition_set.append(x)\n",
    "    \n",
    "\n",
    "    #for icustay in tqdm(['201645','239511','212355'], desc='Iterating over stays in {}'.format(partition)): #prueba\n",
    "\n",
    "    for icustay in tqdm(partition_set, desc='Iterating over stays in {}'.format(partition)):\n",
    "        icustay_folder = os.path.join(root_path, icustay)\n",
    "        icustay_ts_files = list(filter(lambda x: x.find(\"timeseries\") != -1, os.listdir(icustay_folder)))\n",
    "\n",
    "        for ts_filename in icustay_ts_files:\n",
    "            with open(os.path.join(icustay_folder, ts_filename)) as tsfile:\n",
    "                lb_filename = ts_filename.replace(\"_timeseries\", \"\")\n",
    "                label_df = pd.read_csv(os.path.join(icustay_folder, lb_filename))\n",
    "\n",
    "                # empty label file\n",
    "                if label_df.shape[0] == 0:\n",
    "                    continue\n",
    "\n",
    "                    \n",
    "                #1 positive = dead, 0 negative, survived\n",
    "                mortality_label = label_df.iloc[0]['Inhospital Mortality']\n",
    "                los = 24.0 * label_df.iloc[0]['Length of Stay']  # in hours\n",
    "                if pd.isnull(los):\n",
    "                    print(\"\\n\\t(length of stay is missing)\", icustay, ts_filename)\n",
    "                    continue\n",
    "\n",
    "                #Esto ya esta controlado con listfile\n",
    "                #if los < n_hours - eps:\n",
    "                    #print(\"\\n\\t(length of stay < 24h)\", icustay, ts_filename)\n",
    "                    #continue\n",
    "\n",
    "                ts_lines_conheader = tsfile.readlines()\n",
    "                header = ts_lines_conheader[0]\n",
    "                ts_lines = ts_lines_conheader[1:]\n",
    "                event_times = [float(line.split(',')[0]) for line in ts_lines]\n",
    "\n",
    "                ts_lines = [line for (line, t) in zip(ts_lines, event_times)\n",
    "                            if -eps < t < (n_hours - 1.0 + eps)] #las horas cuentan de 0 a 23.\n",
    " \n",
    "                # no measurements in ICU\n",
    "                #En aqui no lo tengo en cuenta porque quiero tener mismo cohorte que benchmark\n",
    "                if len(ts_lines) == 0:\n",
    "                    \n",
    "                    splits = ts_lines_conheader[1].split(',')\n",
    "                    splits[0] = '0.0'\n",
    "                    for i in range(1, 9):\n",
    "                        splits[i]=''\n",
    "                    \n",
    "                    line_age_Prelos_hour0 = ','\n",
    "                    line_age_Prelos_hour0 = line_age_Prelos_hour0.join(splits)\n",
    "                    ts_lines = [line_age_Prelos_hour0]                    \n",
    "                    print(\"\\n\\t(no events except age and prelos in first hours in ICU) \", icustay, ts_filename)\n",
    "                    #continue\n",
    "                    \n",
    "                output_ts_filename = icustay + \"_\" + ts_filename\n",
    "                with open(os.path.join(output_dir, output_ts_filename), \"w\") as outfile:\n",
    "                    outfile.write(header)\n",
    "                    for line in ts_lines:\n",
    "                        outfile.write(line)\n",
    "\n",
    "                xy_pairs.append((output_ts_filename, mortality_label))\n",
    "\n",
    "    print(\"Number of created samples:\", len(xy_pairs))\n",
    "\n",
    "    with open(os.path.join(output_dir, \"listfile.csv\"), \"w\") as listfile:\n",
    "        listfile.write('stay,y_true\\n')\n",
    "        for (x, y) in xy_pairs:\n",
    "            listfile.write('{},{:d}\\n'.format(x, y))\n"
   ]
  },
  {
   "cell_type": "code",
   "execution_count": 88,
   "metadata": {},
   "outputs": [],
   "source": [
    "root_path = '/data/codi/OASIS/timesSeriesv2_cohorte/data/root/'\n",
    "output_path = '/data/codi/OASIS/timesSeriesv2_cohorte/data/mortality'\n",
    "testset_listfile_path = '/data/codi/OASIS/timesSeriesv2_cohorte/data/mortality/testset.csv'\n",
    "trainset_listfile_path = '/data/codi/OASIS/timesSeriesv2_cohorte/data/mortality/trainset.csv'"
   ]
  },
  {
   "cell_type": "code",
   "execution_count": 89,
   "metadata": {
    "scrolled": true
   },
   "outputs": [
    {
     "name": "stderr",
     "output_type": "stream",
     "text": [
      "Iterating over stays in test:   4%|▏    | 133/3236 [00:01<00:25, 124.11it/s]"
     ]
    },
    {
     "name": "stdout",
     "output_type": "stream",
     "text": [
      "\n",
      "\t(no events except age and prelos in first hours in ICU)  239511 episode1_timeseries.csv\n"
     ]
    },
    {
     "name": "stderr",
     "output_type": "stream",
     "text": [
      "Iterating over stays in test:   6%|▎    | 185/3236 [00:01<00:25, 121.98it/s]"
     ]
    },
    {
     "name": "stdout",
     "output_type": "stream",
     "text": [
      "\n",
      "\t(no events except age and prelos in first hours in ICU)  203388 episode1_timeseries.csv\n"
     ]
    },
    {
     "name": "stderr",
     "output_type": "stream",
     "text": [
      "Iterating over stays in test:  10%|▍    | 320/3236 [00:02<00:26, 109.77it/s]"
     ]
    },
    {
     "name": "stdout",
     "output_type": "stream",
     "text": [
      "\n",
      "\t(no events except age and prelos in first hours in ICU)  264692 episode1_timeseries.csv\n"
     ]
    },
    {
     "name": "stderr",
     "output_type": "stream",
     "text": [
      "Iterating over stays in test:  19%|█▏    | 616/3236 [00:06<00:27, 95.71it/s]"
     ]
    },
    {
     "name": "stdout",
     "output_type": "stream",
     "text": [
      "\n",
      "\t(no events except age and prelos in first hours in ICU)  216678 episode1_timeseries.csv\n"
     ]
    },
    {
     "name": "stderr",
     "output_type": "stream",
     "text": [
      "Iterating over stays in test:  22%|█▎    | 728/3236 [00:07<00:29, 84.82it/s]"
     ]
    },
    {
     "name": "stdout",
     "output_type": "stream",
     "text": [
      "\n",
      "\t(no events except age and prelos in first hours in ICU)  272784 episode1_timeseries.csv\n"
     ]
    },
    {
     "name": "stderr",
     "output_type": "stream",
     "text": [
      "Iterating over stays in test:  27%|█▎   | 881/3236 [00:08<00:22, 105.22it/s]"
     ]
    },
    {
     "name": "stdout",
     "output_type": "stream",
     "text": [
      "\n",
      "\t(no events except age and prelos in first hours in ICU)  246438 episode1_timeseries.csv\n"
     ]
    },
    {
     "name": "stderr",
     "output_type": "stream",
     "text": [
      "Iterating over stays in test:  31%|█▌   | 1004/3236 [00:10<00:22, 97.18it/s]"
     ]
    },
    {
     "name": "stdout",
     "output_type": "stream",
     "text": [
      "\n",
      "\t(no events except age and prelos in first hours in ICU)  247924 episode1_timeseries.csv\n"
     ]
    },
    {
     "name": "stderr",
     "output_type": "stream",
     "text": [
      "Iterating over stays in test:  34%|█▎  | 1110/3236 [00:11<00:19, 107.96it/s]"
     ]
    },
    {
     "name": "stdout",
     "output_type": "stream",
     "text": [
      "\n",
      "\t(no events except age and prelos in first hours in ICU)  245500 episode1_timeseries.csv\n"
     ]
    },
    {
     "name": "stderr",
     "output_type": "stream",
     "text": [
      "Iterating over stays in test:  42%|██   | 1350/3236 [00:14<00:20, 92.95it/s]"
     ]
    },
    {
     "name": "stdout",
     "output_type": "stream",
     "text": [
      "\n",
      "\t(no events except age and prelos in first hours in ICU)  242499 episode1_timeseries.csv\n"
     ]
    },
    {
     "name": "stderr",
     "output_type": "stream",
     "text": [
      "Iterating over stays in test:  53%|██▋  | 1712/3236 [00:18<00:17, 89.51it/s]"
     ]
    },
    {
     "name": "stdout",
     "output_type": "stream",
     "text": [
      "\n",
      "\t(no events except age and prelos in first hours in ICU)  263926 episode1_timeseries.csv\n"
     ]
    },
    {
     "name": "stderr",
     "output_type": "stream",
     "text": [
      "Iterating over stays in test:  55%|██▏ | 1764/3236 [00:18<00:12, 118.99it/s]"
     ]
    },
    {
     "name": "stdout",
     "output_type": "stream",
     "text": [
      "\n",
      "\t(no events except age and prelos in first hours in ICU)  258588 episode1_timeseries.csv\n"
     ]
    },
    {
     "name": "stderr",
     "output_type": "stream",
     "text": [
      "Iterating over stays in test:  61%|██▍ | 1970/3236 [00:20<00:10, 121.66it/s]"
     ]
    },
    {
     "name": "stdout",
     "output_type": "stream",
     "text": [
      "\n",
      "\t(no events except age and prelos in first hours in ICU)  242950 episode1_timeseries.csv\n"
     ]
    },
    {
     "name": "stderr",
     "output_type": "stream",
     "text": [
      "Iterating over stays in test:  90%|███▌| 2910/3236 [00:30<00:01, 173.07it/s]"
     ]
    },
    {
     "name": "stdout",
     "output_type": "stream",
     "text": [
      "\n",
      "\t(no events except age and prelos in first hours in ICU)  218451 episode1_timeseries.csv\n"
     ]
    },
    {
     "name": "stderr",
     "output_type": "stream",
     "text": [
      "Iterating over stays in test:  96%|████▊| 3095/3236 [00:32<00:02, 67.94it/s]"
     ]
    },
    {
     "name": "stdout",
     "output_type": "stream",
     "text": [
      "\n",
      "\t(no events except age and prelos in first hours in ICU)  284450 episode1_timeseries.csv\n"
     ]
    },
    {
     "name": "stderr",
     "output_type": "stream",
     "text": [
      "Iterating over stays in test:  98%|████▉| 3157/3236 [00:33<00:00, 82.09it/s]"
     ]
    },
    {
     "name": "stdout",
     "output_type": "stream",
     "text": [
      "\n",
      "\t(no events except age and prelos in first hours in ICU)  209237 episode1_timeseries.csv\n"
     ]
    },
    {
     "name": "stderr",
     "output_type": "stream",
     "text": [
      "Iterating over stays in test: 100%|█████| 3236/3236 [00:33<00:00, 95.22it/s]\n"
     ]
    },
    {
     "name": "stdout",
     "output_type": "stream",
     "text": [
      "Number of created samples: 3236\n"
     ]
    },
    {
     "name": "stderr",
     "output_type": "stream",
     "text": [
      "Iterating over stays in train:   0%|    | 69/17903 [00:00<02:48, 105.73it/s]"
     ]
    },
    {
     "name": "stdout",
     "output_type": "stream",
     "text": [
      "\n",
      "\t(no events except age and prelos in first hours in ICU)  297462 episode1_timeseries.csv\n"
     ]
    },
    {
     "name": "stderr",
     "output_type": "stream",
     "text": [
      "Iterating over stays in train:   3%|▏   | 603/17903 [00:06<04:25, 65.22it/s]"
     ]
    },
    {
     "name": "stdout",
     "output_type": "stream",
     "text": [
      "\n",
      "\t(no events except age and prelos in first hours in ICU)  239993 episode1_timeseries.csv\n"
     ]
    },
    {
     "name": "stderr",
     "output_type": "stream",
     "text": [
      "Iterating over stays in train:   5%|▏   | 983/17903 [00:10<02:59, 94.14it/s]"
     ]
    },
    {
     "name": "stdout",
     "output_type": "stream",
     "text": [
      "\n",
      "\t(no events except age and prelos in first hours in ICU)  267457 episode1_timeseries.csv\n"
     ]
    },
    {
     "name": "stderr",
     "output_type": "stream",
     "text": [
      "\r",
      "Iterating over stays in train:   6%|▏   | 993/17903 [00:11<03:38, 77.50it/s]"
     ]
    },
    {
     "name": "stdout",
     "output_type": "stream",
     "text": [
      "\n",
      "\t(no events except age and prelos in first hours in ICU)  242700 episode1_timeseries.csv\n"
     ]
    },
    {
     "name": "stderr",
     "output_type": "stream",
     "text": [
      "Iterating over stays in train:   6%|▏  | 1019/17903 [00:11<04:00, 70.26it/s]"
     ]
    },
    {
     "name": "stdout",
     "output_type": "stream",
     "text": [
      "\n",
      "\t(no events except age and prelos in first hours in ICU)  286937 episode1_timeseries.csv\n"
     ]
    },
    {
     "name": "stderr",
     "output_type": "stream",
     "text": [
      "Iterating over stays in train:   7%|▏  | 1286/17903 [00:14<02:55, 94.50it/s]"
     ]
    },
    {
     "name": "stdout",
     "output_type": "stream",
     "text": [
      "\n",
      "\t(no events except age and prelos in first hours in ICU)  201645 episode1_timeseries.csv\n",
      "\n",
      "\t(no events except age and prelos in first hours in ICU)  248696 episode1_timeseries.csv\n"
     ]
    },
    {
     "name": "stderr",
     "output_type": "stream",
     "text": [
      "Iterating over stays in train:   8%|▏ | 1376/17903 [00:14<02:40, 102.87it/s]"
     ]
    },
    {
     "name": "stdout",
     "output_type": "stream",
     "text": [
      "\n",
      "\t(no events except age and prelos in first hours in ICU)  217945 episode1_timeseries.csv\n"
     ]
    },
    {
     "name": "stderr",
     "output_type": "stream",
     "text": [
      "Iterating over stays in train:  11%|▏ | 1981/17903 [00:22<02:29, 106.34it/s]"
     ]
    },
    {
     "name": "stdout",
     "output_type": "stream",
     "text": [
      "\n",
      "\t(no events except age and prelos in first hours in ICU)  226935 episode1_timeseries.csv\n"
     ]
    },
    {
     "name": "stderr",
     "output_type": "stream",
     "text": [
      "Iterating over stays in train:  12%|▎  | 2083/17903 [00:23<02:39, 99.48it/s]"
     ]
    },
    {
     "name": "stdout",
     "output_type": "stream",
     "text": [
      "\n",
      "\t(no events except age and prelos in first hours in ICU)  262101 episode1_timeseries.csv\n"
     ]
    },
    {
     "name": "stderr",
     "output_type": "stream",
     "text": [
      "Iterating over stays in train:  13%|▎ | 2300/17903 [00:25<02:14, 116.43it/s]"
     ]
    },
    {
     "name": "stdout",
     "output_type": "stream",
     "text": [
      "\n",
      "\t(no events except age and prelos in first hours in ICU)  219601 episode1_timeseries.csv\n"
     ]
    },
    {
     "name": "stderr",
     "output_type": "stream",
     "text": [
      "Iterating over stays in train:  15%|▎ | 2772/17903 [00:29<02:19, 108.24it/s]"
     ]
    },
    {
     "name": "stdout",
     "output_type": "stream",
     "text": [
      "\n",
      "\t(no events except age and prelos in first hours in ICU)  234585 episode1_timeseries.csv\n"
     ]
    },
    {
     "name": "stderr",
     "output_type": "stream",
     "text": [
      "Iterating over stays in train:  16%|▍  | 2879/17903 [00:31<02:46, 90.43it/s]"
     ]
    },
    {
     "name": "stdout",
     "output_type": "stream",
     "text": [
      "\n",
      "\t(no events except age and prelos in first hours in ICU)  237522 episode1_timeseries.csv\n"
     ]
    },
    {
     "name": "stderr",
     "output_type": "stream",
     "text": [
      "Iterating over stays in train:  17%|▌  | 3095/17903 [00:33<03:18, 74.75it/s]"
     ]
    },
    {
     "name": "stdout",
     "output_type": "stream",
     "text": [
      "\n",
      "\t(no events except age and prelos in first hours in ICU)  205366 episode1_timeseries.csv\n"
     ]
    },
    {
     "name": "stderr",
     "output_type": "stream",
     "text": [
      "Iterating over stays in train:  20%|▌  | 3525/17903 [00:39<02:40, 89.38it/s]"
     ]
    },
    {
     "name": "stdout",
     "output_type": "stream",
     "text": [
      "\n",
      "\t(no events except age and prelos in first hours in ICU)  224542 episode1_timeseries.csv\n"
     ]
    },
    {
     "name": "stderr",
     "output_type": "stream",
     "text": [
      "Iterating over stays in train:  21%|▋  | 3776/17903 [00:42<02:29, 94.79it/s]"
     ]
    },
    {
     "name": "stdout",
     "output_type": "stream",
     "text": [
      "\n",
      "\t(no events except age and prelos in first hours in ICU)  202097 episode1_timeseries.csv\n"
     ]
    },
    {
     "name": "stderr",
     "output_type": "stream",
     "text": [
      "Iterating over stays in train:  22%|▋  | 3954/17903 [00:44<02:44, 84.87it/s]"
     ]
    },
    {
     "name": "stdout",
     "output_type": "stream",
     "text": [
      "\n",
      "\t(no events except age and prelos in first hours in ICU)  256511 episode1_timeseries.csv\n"
     ]
    },
    {
     "name": "stderr",
     "output_type": "stream",
     "text": [
      "Iterating over stays in train:  28%|▌ | 5084/17903 [00:57<01:53, 113.15it/s]"
     ]
    },
    {
     "name": "stdout",
     "output_type": "stream",
     "text": [
      "\n",
      "\t(no events except age and prelos in first hours in ICU)  226163 episode1_timeseries.csv\n"
     ]
    },
    {
     "name": "stderr",
     "output_type": "stream",
     "text": [
      "Iterating over stays in train:  29%|▊  | 5141/17903 [00:58<02:27, 86.61it/s]"
     ]
    },
    {
     "name": "stdout",
     "output_type": "stream",
     "text": [
      "\n",
      "\t(no events except age and prelos in first hours in ICU)  296168 episode1_timeseries.csv\n"
     ]
    },
    {
     "name": "stderr",
     "output_type": "stream",
     "text": [
      "Iterating over stays in train:  29%|▌ | 5200/17903 [00:58<01:50, 114.62it/s]"
     ]
    },
    {
     "name": "stdout",
     "output_type": "stream",
     "text": [
      "\n",
      "\t(no events except age and prelos in first hours in ICU)  269334 episode1_timeseries.csv\n"
     ]
    },
    {
     "name": "stderr",
     "output_type": "stream",
     "text": [
      "Iterating over stays in train:  30%|▉  | 5415/17903 [01:01<02:23, 87.31it/s]"
     ]
    },
    {
     "name": "stdout",
     "output_type": "stream",
     "text": [
      "\n",
      "\t(no events except age and prelos in first hours in ICU)  208605 episode1_timeseries.csv\n"
     ]
    },
    {
     "name": "stderr",
     "output_type": "stream",
     "text": [
      "Iterating over stays in train:  32%|▋ | 5744/17903 [01:05<01:39, 122.24it/s]"
     ]
    },
    {
     "name": "stdout",
     "output_type": "stream",
     "text": [
      "\n",
      "\t(no events except age and prelos in first hours in ICU)  244978 episode1_timeseries.csv\n"
     ]
    },
    {
     "name": "stderr",
     "output_type": "stream",
     "text": [
      "Iterating over stays in train:  35%|▋ | 6217/17903 [01:09<01:44, 111.98it/s]"
     ]
    },
    {
     "name": "stdout",
     "output_type": "stream",
     "text": [
      "\n",
      "\t(no events except age and prelos in first hours in ICU)  275180 episode1_timeseries.csv\n"
     ]
    },
    {
     "name": "stderr",
     "output_type": "stream",
     "text": [
      "Iterating over stays in train:  35%|█  | 6263/17903 [01:10<02:10, 89.38it/s]"
     ]
    },
    {
     "name": "stdout",
     "output_type": "stream",
     "text": [
      "\n",
      "\t(no events except age and prelos in first hours in ICU)  268500 episode1_timeseries.csv\n"
     ]
    },
    {
     "name": "stderr",
     "output_type": "stream",
     "text": [
      "Iterating over stays in train:  37%|█  | 6685/17903 [01:15<02:04, 90.05it/s]"
     ]
    },
    {
     "name": "stdout",
     "output_type": "stream",
     "text": [
      "\n",
      "\t(no events except age and prelos in first hours in ICU)  201249 episode1_timeseries.csv\n"
     ]
    },
    {
     "name": "stderr",
     "output_type": "stream",
     "text": [
      "Iterating over stays in train:  38%|█▏ | 6829/17903 [01:16<02:20, 79.06it/s]"
     ]
    },
    {
     "name": "stdout",
     "output_type": "stream",
     "text": [
      "\n",
      "\t(no events except age and prelos in first hours in ICU)  245492 episode1_timeseries.csv\n"
     ]
    },
    {
     "name": "stderr",
     "output_type": "stream",
     "text": [
      "Iterating over stays in train:  41%|█▏ | 7403/17903 [01:23<01:55, 91.23it/s]"
     ]
    },
    {
     "name": "stdout",
     "output_type": "stream",
     "text": [
      "\n",
      "\t(no events except age and prelos in first hours in ICU)  259658 episode1_timeseries.csv\n"
     ]
    },
    {
     "name": "stderr",
     "output_type": "stream",
     "text": [
      "Iterating over stays in train:  43%|▊ | 7727/17903 [01:27<01:25, 119.42it/s]"
     ]
    },
    {
     "name": "stdout",
     "output_type": "stream",
     "text": [
      "\n",
      "\t(no events except age and prelos in first hours in ICU)  256732 episode1_timeseries.csv\n"
     ]
    },
    {
     "name": "stderr",
     "output_type": "stream",
     "text": [
      "Iterating over stays in train:  44%|█▎ | 7887/17903 [01:29<02:16, 73.48it/s]"
     ]
    },
    {
     "name": "stdout",
     "output_type": "stream",
     "text": [
      "\n",
      "\t(no events except age and prelos in first hours in ICU)  224395 episode1_timeseries.csv\n"
     ]
    },
    {
     "name": "stderr",
     "output_type": "stream",
     "text": [
      "Iterating over stays in train:  45%|█▎ | 8115/17903 [01:32<01:48, 90.61it/s]"
     ]
    },
    {
     "name": "stdout",
     "output_type": "stream",
     "text": [
      "\n",
      "\t(no events except age and prelos in first hours in ICU)  251459 episode1_timeseries.csv\n"
     ]
    },
    {
     "name": "stderr",
     "output_type": "stream",
     "text": [
      "Iterating over stays in train:  48%|█▍ | 8515/17903 [01:37<02:01, 77.51it/s]"
     ]
    },
    {
     "name": "stdout",
     "output_type": "stream",
     "text": [
      "\n",
      "\t(no events except age and prelos in first hours in ICU)  262641 episode1_timeseries.csv\n"
     ]
    },
    {
     "name": "stderr",
     "output_type": "stream",
     "text": [
      "Iterating over stays in train:  49%|█▍ | 8786/17903 [01:40<01:50, 82.15it/s]"
     ]
    },
    {
     "name": "stdout",
     "output_type": "stream",
     "text": [
      "\n",
      "\t(no events except age and prelos in first hours in ICU)  227848 episode1_timeseries.csv\n"
     ]
    },
    {
     "name": "stderr",
     "output_type": "stream",
     "text": [
      "\r",
      "Iterating over stays in train:  49%|█▍ | 8795/17903 [01:40<01:55, 78.67it/s]"
     ]
    },
    {
     "name": "stdout",
     "output_type": "stream",
     "text": [
      "\n",
      "\t(no events except age and prelos in first hours in ICU)  294276 episode1_timeseries.csv\n"
     ]
    },
    {
     "name": "stderr",
     "output_type": "stream",
     "text": [
      "Iterating over stays in train:  51%|█▌ | 9192/17903 [01:45<01:45, 82.61it/s]"
     ]
    },
    {
     "name": "stdout",
     "output_type": "stream",
     "text": [
      "\n",
      "\t(no events except age and prelos in first hours in ICU)  204551 episode1_timeseries.csv\n"
     ]
    },
    {
     "name": "stderr",
     "output_type": "stream",
     "text": [
      "Iterating over stays in train:  55%|█▋ | 9906/17903 [01:54<01:23, 96.02it/s]"
     ]
    },
    {
     "name": "stdout",
     "output_type": "stream",
     "text": [
      "\n",
      "\t(no events except age and prelos in first hours in ICU)  207378 episode1_timeseries.csv\n"
     ]
    },
    {
     "name": "stderr",
     "output_type": "stream",
     "text": [
      "Iterating over stays in train:  56%|▌| 10036/17903 [01:55<01:18, 100.13it/s]"
     ]
    },
    {
     "name": "stdout",
     "output_type": "stream",
     "text": [
      "\n",
      "\t(no events except age and prelos in first hours in ICU)  256792 episode1_timeseries.csv\n"
     ]
    },
    {
     "name": "stderr",
     "output_type": "stream",
     "text": [
      "Iterating over stays in train:  56%|█▏| 10078/17903 [01:56<01:34, 83.15it/s]"
     ]
    },
    {
     "name": "stdout",
     "output_type": "stream",
     "text": [
      "\n",
      "\t(no events except age and prelos in first hours in ICU)  242715 episode1_timeseries.csv\n"
     ]
    },
    {
     "name": "stderr",
     "output_type": "stream",
     "text": [
      "Iterating over stays in train:  57%|█▏| 10152/17903 [01:57<01:32, 83.47it/s]"
     ]
    },
    {
     "name": "stdout",
     "output_type": "stream",
     "text": [
      "\n",
      "\t(no events except age and prelos in first hours in ICU)  239601 episode1_timeseries.csv\n"
     ]
    },
    {
     "name": "stderr",
     "output_type": "stream",
     "text": [
      "Iterating over stays in train:  58%|█▏| 10394/17903 [02:00<01:42, 73.12it/s]"
     ]
    },
    {
     "name": "stdout",
     "output_type": "stream",
     "text": [
      "\n",
      "\t(no events except age and prelos in first hours in ICU)  231624 episode1_timeseries.csv\n"
     ]
    },
    {
     "name": "stderr",
     "output_type": "stream",
     "text": [
      "Iterating over stays in train:  62%|▌| 11078/17903 [02:08<01:02, 108.99it/s]"
     ]
    },
    {
     "name": "stdout",
     "output_type": "stream",
     "text": [
      "\n",
      "\t(no events except age and prelos in first hours in ICU)  225500 episode1_timeseries.csv\n"
     ]
    },
    {
     "name": "stderr",
     "output_type": "stream",
     "text": [
      "Iterating over stays in train:  64%|▋| 11510/17903 [02:13<01:02, 102.42it/s]"
     ]
    },
    {
     "name": "stdout",
     "output_type": "stream",
     "text": [
      "\n",
      "\t(no events except age and prelos in first hours in ICU)  257118 episode1_timeseries.csv\n"
     ]
    },
    {
     "name": "stderr",
     "output_type": "stream",
     "text": [
      "Iterating over stays in train:  65%|█▎| 11679/17903 [02:15<01:36, 64.68it/s]"
     ]
    },
    {
     "name": "stdout",
     "output_type": "stream",
     "text": [
      "\n",
      "\t(no events except age and prelos in first hours in ICU)  265722 episode1_timeseries.csv\n"
     ]
    },
    {
     "name": "stderr",
     "output_type": "stream",
     "text": [
      "Iterating over stays in train:  68%|█▎| 12164/17903 [02:21<01:12, 79.43it/s]"
     ]
    },
    {
     "name": "stdout",
     "output_type": "stream",
     "text": [
      "\n",
      "\t(no events except age and prelos in first hours in ICU)  256782 episode1_timeseries.csv\n"
     ]
    },
    {
     "name": "stderr",
     "output_type": "stream",
     "text": [
      "Iterating over stays in train:  73%|█▍| 13024/17903 [02:31<01:06, 73.52it/s]"
     ]
    },
    {
     "name": "stdout",
     "output_type": "stream",
     "text": [
      "\n",
      "\t(no events except age and prelos in first hours in ICU)  231712 episode1_timeseries.csv\n"
     ]
    },
    {
     "name": "stderr",
     "output_type": "stream",
     "text": [
      "Iterating over stays in train:  74%|█▍| 13270/17903 [02:35<01:03, 73.29it/s]"
     ]
    },
    {
     "name": "stdout",
     "output_type": "stream",
     "text": [
      "\n",
      "\t(no events except age and prelos in first hours in ICU)  239751 episode1_timeseries.csv\n"
     ]
    },
    {
     "name": "stderr",
     "output_type": "stream",
     "text": [
      "Iterating over stays in train:  75%|█▌| 13445/17903 [02:37<01:00, 73.54it/s]"
     ]
    },
    {
     "name": "stdout",
     "output_type": "stream",
     "text": [
      "\n",
      "\t(no events except age and prelos in first hours in ICU)  274130 episode1_timeseries.csv\n"
     ]
    },
    {
     "name": "stderr",
     "output_type": "stream",
     "text": [
      "Iterating over stays in train:  75%|█▌| 13478/17903 [02:37<00:54, 81.89it/s]"
     ]
    },
    {
     "name": "stdout",
     "output_type": "stream",
     "text": [
      "\n",
      "\t(no events except age and prelos in first hours in ICU)  236642 episode1_timeseries.csv\n"
     ]
    },
    {
     "name": "stderr",
     "output_type": "stream",
     "text": [
      "Iterating over stays in train:  77%|█▌| 13873/17903 [02:42<00:54, 74.11it/s]"
     ]
    },
    {
     "name": "stdout",
     "output_type": "stream",
     "text": [
      "\n",
      "\t(no events except age and prelos in first hours in ICU)  247559 episode1_timeseries.csv\n"
     ]
    },
    {
     "name": "stderr",
     "output_type": "stream",
     "text": [
      "Iterating over stays in train:  80%|█▌| 14339/17903 [02:49<00:41, 85.22it/s]"
     ]
    },
    {
     "name": "stdout",
     "output_type": "stream",
     "text": [
      "\n",
      "\t(no events except age and prelos in first hours in ICU)  225095 episode1_timeseries.csv\n"
     ]
    },
    {
     "name": "stderr",
     "output_type": "stream",
     "text": [
      "Iterating over stays in train:  81%|█▌| 14438/17903 [02:50<00:38, 90.97it/s]"
     ]
    },
    {
     "name": "stdout",
     "output_type": "stream",
     "text": [
      "\n",
      "\t(no events except age and prelos in first hours in ICU)  276773 episode1_timeseries.csv\n"
     ]
    },
    {
     "name": "stderr",
     "output_type": "stream",
     "text": [
      "Iterating over stays in train:  87%|█▋| 15531/17903 [03:03<00:24, 98.74it/s]"
     ]
    },
    {
     "name": "stdout",
     "output_type": "stream",
     "text": [
      "\n",
      "\t(no events except age and prelos in first hours in ICU)  259335 episode1_timeseries.csv\n"
     ]
    },
    {
     "name": "stderr",
     "output_type": "stream",
     "text": [
      "Iterating over stays in train:  88%|█▊| 15810/17903 [03:07<00:38, 53.69it/s]"
     ]
    },
    {
     "name": "stdout",
     "output_type": "stream",
     "text": [
      "\n",
      "\t(no events except age and prelos in first hours in ICU)  223098 episode1_timeseries.csv\n"
     ]
    },
    {
     "name": "stderr",
     "output_type": "stream",
     "text": [
      "Iterating over stays in train:  89%|█▊| 16022/17903 [03:10<00:22, 81.93it/s]"
     ]
    },
    {
     "name": "stdout",
     "output_type": "stream",
     "text": [
      "\n",
      "\t(no events except age and prelos in first hours in ICU)  266631 episode1_timeseries.csv\n"
     ]
    },
    {
     "name": "stderr",
     "output_type": "stream",
     "text": [
      "Iterating over stays in train:  90%|▉| 16087/17903 [03:11<00:14, 129.30it/s]"
     ]
    },
    {
     "name": "stdout",
     "output_type": "stream",
     "text": [
      "\n",
      "\t(no events except age and prelos in first hours in ICU)  245630 episode1_timeseries.csv\n"
     ]
    },
    {
     "name": "stderr",
     "output_type": "stream",
     "text": [
      "Iterating over stays in train:  94%|█▊| 16760/17903 [03:21<00:13, 82.30it/s]"
     ]
    },
    {
     "name": "stdout",
     "output_type": "stream",
     "text": [
      "\n",
      "\t(no events except age and prelos in first hours in ICU)  286008 episode1_timeseries.csv\n"
     ]
    },
    {
     "name": "stderr",
     "output_type": "stream",
     "text": [
      "Iterating over stays in train:  95%|█▉| 16954/17903 [03:23<00:10, 87.22it/s]"
     ]
    },
    {
     "name": "stdout",
     "output_type": "stream",
     "text": [
      "\n",
      "\t(no events except age and prelos in first hours in ICU)  291618 episode1_timeseries.csv\n"
     ]
    },
    {
     "name": "stderr",
     "output_type": "stream",
     "text": [
      "Iterating over stays in train:  96%|█▉| 17217/17903 [03:27<00:09, 71.56it/s]"
     ]
    },
    {
     "name": "stdout",
     "output_type": "stream",
     "text": [
      "\n",
      "\t(no events except age and prelos in first hours in ICU)  217347 episode1_timeseries.csv\n"
     ]
    },
    {
     "name": "stderr",
     "output_type": "stream",
     "text": [
      "Iterating over stays in train:  97%|█▉| 17291/17903 [03:28<00:07, 76.90it/s]"
     ]
    },
    {
     "name": "stdout",
     "output_type": "stream",
     "text": [
      "\n",
      "\t(no events except age and prelos in first hours in ICU)  256933 episode1_timeseries.csv\n"
     ]
    },
    {
     "name": "stderr",
     "output_type": "stream",
     "text": [
      "Iterating over stays in train:  98%|█▉| 17528/17903 [03:31<00:05, 69.91it/s]"
     ]
    },
    {
     "name": "stdout",
     "output_type": "stream",
     "text": [
      "\n",
      "\t(no events except age and prelos in first hours in ICU)  268883 episode1_timeseries.csv\n"
     ]
    },
    {
     "name": "stderr",
     "output_type": "stream",
     "text": [
      "Iterating over stays in train:  98%|█▉| 17600/17903 [03:32<00:03, 81.39it/s]"
     ]
    },
    {
     "name": "stdout",
     "output_type": "stream",
     "text": [
      "\n",
      "\t(no events except age and prelos in first hours in ICU)  277418 episode1_timeseries.csv\n"
     ]
    },
    {
     "name": "stderr",
     "output_type": "stream",
     "text": [
      "Iterating over stays in train:  98%|█▉| 17628/17903 [03:32<00:03, 72.28it/s]"
     ]
    },
    {
     "name": "stdout",
     "output_type": "stream",
     "text": [
      "\n",
      "\t(no events except age and prelos in first hours in ICU)  276557 episode1_timeseries.csv\n",
      "\n",
      "\t(no events except age and prelos in first hours in ICU)  224922 episode1_timeseries.csv\n"
     ]
    },
    {
     "name": "stderr",
     "output_type": "stream",
     "text": [
      "Iterating over stays in train:  99%|█▉| 17728/17903 [03:34<00:01, 99.95it/s]"
     ]
    },
    {
     "name": "stdout",
     "output_type": "stream",
     "text": [
      "\n",
      "\t(no events except age and prelos in first hours in ICU)  290213 episode1_timeseries.csv\n"
     ]
    },
    {
     "name": "stderr",
     "output_type": "stream",
     "text": [
      "Iterating over stays in train: 100%|██| 17903/17903 [03:36<00:00, 82.73it/s]\n"
     ]
    },
    {
     "name": "stdout",
     "output_type": "stream",
     "text": [
      "Number of created samples: 17903\n"
     ]
    }
   ],
   "source": [
    "if not os.path.exists(output_path):\n",
    "    os.makedirs(output_path)\n",
    "\n",
    "process_partition(root_path,output_path, \"test\", testset_listfile_path)\n",
    "process_partition(root_path,output_path, \"train\", trainset_listfile_path)"
   ]
  },
  {
   "cell_type": "markdown",
   "metadata": {},
   "source": [
    "#### Create a unique timeSeries dataset in csv format for prediction task."
   ]
  },
  {
   "cell_type": "code",
   "execution_count": 90,
   "metadata": {},
   "outputs": [],
   "source": [
    "stays_root_path = '/data/codi/OASIS/timesSeriesv2_cohorte/data/mortality/train'"
   ]
  },
  {
   "cell_type": "code",
   "execution_count": 91,
   "metadata": {},
   "outputs": [
    {
     "name": "stderr",
     "output_type": "stream",
     "text": [
      "Iterating over stays: 100%|███████████| 17903/17903 [06:16<00:00, 47.61it/s]\n"
     ]
    }
   ],
   "source": [
    "result_OneBigDataset = pd.DataFrame()\n",
    "y_true =  pd.DataFrame()\n",
    "listfile = pd.read_csv(os.path.join(stays_root_path,'listfile.csv'))\n",
    "\n",
    "#normal range of measuraments\n",
    "values = {'gcs_e': 4, 'gcs_m': 6, 'gcs_v': 5, 'gcs_total_carevue': 15,\n",
    "                      'HRATE': 86,'MAP':77,'RESP_RATE':19,'TEMP_C':36.6}\n",
    "            \n",
    "\n",
    "#Iterar los icustays con mismo orden que listfile de otros modelos. (para luego el cross validation sea sobre mismos splits)\n",
    "lista_stays_en_orden = listfile['stay'].tolist()\n",
    "\n",
    "#for stay_dir in tqdm(['201645_episode1_timeseries.csv'], desc='Iterating over stays'): #prueba\n",
    "    \n",
    "for stay_dir in tqdm(lista_stays_en_orden, desc='Iterating over stays'):\n",
    "    dn = os.path.join(stays_root_path, stay_dir)\n",
    "        \n",
    "    try:\n",
    "        # reading timeseries and concate\n",
    "        stayTimeSeries = pd.read_csv(dn)\n",
    "        stayTimeSeries['Hours'] = np.round(stayTimeSeries['Hours'],0) \n",
    "        stayTimeSeries = stayTimeSeries.drop_duplicates(subset=['Hours'], keep='last')\n",
    "        new_index = pd.Index(np.arange(0,24,1), name=\"Hours\")\n",
    "        stayTimeSeries = stayTimeSeries.set_index(\"Hours\").reindex(new_index).reset_index()\n",
    "        \n",
    "        stayTimeSeries.fillna(method='ffill', inplace=True)\n",
    "        #Dummy solution if whole column is nan or no have previous non nan value, fill nan with normal range\n",
    "        #Para Age y Prelos seguro tiene algun valor\n",
    "        stayTimeSeries['AGE'].fillna(method='bfill', inplace=True)\n",
    "        stayTimeSeries['PRELOS'].fillna(method='bfill', inplace=True)\n",
    "\n",
    "        if(stayTimeSeries['AGE'].isnull().all() or stayTimeSeries['PRELOS'].isnull().all()):\n",
    "            print('Error reading age and prelos for icustay_id: {}\\n'.format(stay_dir))\n",
    "            #continue\n",
    "\n",
    "        stayTimeSeries.fillna(value=values,inplace=True)\n",
    "        result_OneBigDataset = pd.concat([result_OneBigDataset,stayTimeSeries])\n",
    "\n",
    "        stay_y_true =  listfile.loc[listfile['stay'] == stay_dir]['y_true']\n",
    "        y_true = pd.concat([y_true,stay_y_true], ignore_index=True)\n",
    "\n",
    "    except:\n",
    "        sys.stderr.write('Error reading from disk for icustay_id: {}\\n'.format(stay_dir))\n",
    "        continue\n",
    "\n"
   ]
  },
  {
   "cell_type": "code",
   "execution_count": 92,
   "metadata": {},
   "outputs": [],
   "source": [
    "result_OneBigDataset.to_csv('/data/codi/OASIS/timesSeriesv2_cohorte/data/mortality/result_OneBigDataset.csv',index=False)\n",
    "y_true.to_csv('/data/codi/OASIS/timesSeriesv2_cohorte/data/mortality/result_OneBigDataset_y_true.csv',index=False, header=['y_true'])"
   ]
  },
  {
   "cell_type": "code",
   "execution_count": 93,
   "metadata": {},
   "outputs": [],
   "source": [
    "result_OneBigDataset = pd.read_csv('/data/codi/OASIS/timesSeriesv2_cohorte/data/mortality/result_OneBigDataset.csv')\n",
    "y_true = pd.read_csv('/data/codi/OASIS/timesSeriesv2_cohorte/data/mortality/result_OneBigDataset_y_true.csv')"
   ]
  },
  {
   "cell_type": "code",
   "execution_count": 94,
   "metadata": {},
   "outputs": [
    {
     "data": {
      "text/plain": [
       "(17903, 24, 10)"
      ]
     },
     "execution_count": 94,
     "metadata": {},
     "output_type": "execute_result"
    }
   ],
   "source": [
    "prueba_train = np.array(result_OneBigDataset.drop(['Hours'],axis=1)).reshape(y_true.shape[0], 24, 10)\n",
    "prueba_train.shape"
   ]
  },
  {
   "cell_type": "code",
   "execution_count": 95,
   "metadata": {
    "scrolled": true
   },
   "outputs": [
    {
     "data": {
      "text/html": [
       "<div>\n",
       "<style scoped>\n",
       "    .dataframe tbody tr th:only-of-type {\n",
       "        vertical-align: middle;\n",
       "    }\n",
       "\n",
       "    .dataframe tbody tr th {\n",
       "        vertical-align: top;\n",
       "    }\n",
       "\n",
       "    .dataframe thead th {\n",
       "        text-align: right;\n",
       "    }\n",
       "</style>\n",
       "<table border=\"1\" class=\"dataframe\">\n",
       "  <thead>\n",
       "    <tr style=\"text-align: right;\">\n",
       "      <th></th>\n",
       "      <th>Hours</th>\n",
       "      <th>HRATE</th>\n",
       "      <th>MAP</th>\n",
       "      <th>RESP_RATE</th>\n",
       "      <th>TEMP_C</th>\n",
       "      <th>gcs_e</th>\n",
       "      <th>gcs_m</th>\n",
       "      <th>gcs_total_carevue</th>\n",
       "      <th>gcs_v</th>\n",
       "      <th>AGE</th>\n",
       "      <th>PRELOS</th>\n",
       "    </tr>\n",
       "  </thead>\n",
       "  <tbody>\n",
       "    <tr>\n",
       "      <th>0</th>\n",
       "      <td>0</td>\n",
       "      <td>86.0</td>\n",
       "      <td>77.0</td>\n",
       "      <td>19.0</td>\n",
       "      <td>36.600000</td>\n",
       "      <td>4.0</td>\n",
       "      <td>6.0</td>\n",
       "      <td>15.0</td>\n",
       "      <td>5.0</td>\n",
       "      <td>77.334247</td>\n",
       "      <td>0.0</td>\n",
       "    </tr>\n",
       "    <tr>\n",
       "      <th>1</th>\n",
       "      <td>1</td>\n",
       "      <td>86.0</td>\n",
       "      <td>77.0</td>\n",
       "      <td>19.0</td>\n",
       "      <td>36.600000</td>\n",
       "      <td>4.0</td>\n",
       "      <td>6.0</td>\n",
       "      <td>15.0</td>\n",
       "      <td>5.0</td>\n",
       "      <td>77.334247</td>\n",
       "      <td>0.0</td>\n",
       "    </tr>\n",
       "    <tr>\n",
       "      <th>2</th>\n",
       "      <td>2</td>\n",
       "      <td>86.0</td>\n",
       "      <td>77.0</td>\n",
       "      <td>19.0</td>\n",
       "      <td>36.600000</td>\n",
       "      <td>4.0</td>\n",
       "      <td>6.0</td>\n",
       "      <td>15.0</td>\n",
       "      <td>5.0</td>\n",
       "      <td>77.334247</td>\n",
       "      <td>0.0</td>\n",
       "    </tr>\n",
       "    <tr>\n",
       "      <th>3</th>\n",
       "      <td>3</td>\n",
       "      <td>80.0</td>\n",
       "      <td>76.0</td>\n",
       "      <td>29.0</td>\n",
       "      <td>36.600000</td>\n",
       "      <td>4.0</td>\n",
       "      <td>6.0</td>\n",
       "      <td>15.0</td>\n",
       "      <td>5.0</td>\n",
       "      <td>77.334247</td>\n",
       "      <td>0.0</td>\n",
       "    </tr>\n",
       "    <tr>\n",
       "      <th>4</th>\n",
       "      <td>4</td>\n",
       "      <td>80.0</td>\n",
       "      <td>76.0</td>\n",
       "      <td>29.0</td>\n",
       "      <td>36.600000</td>\n",
       "      <td>4.0</td>\n",
       "      <td>6.0</td>\n",
       "      <td>15.0</td>\n",
       "      <td>5.0</td>\n",
       "      <td>77.334247</td>\n",
       "      <td>0.0</td>\n",
       "    </tr>\n",
       "    <tr>\n",
       "      <th>5</th>\n",
       "      <td>5</td>\n",
       "      <td>68.0</td>\n",
       "      <td>64.0</td>\n",
       "      <td>26.0</td>\n",
       "      <td>36.600000</td>\n",
       "      <td>4.0</td>\n",
       "      <td>6.0</td>\n",
       "      <td>15.0</td>\n",
       "      <td>5.0</td>\n",
       "      <td>77.334247</td>\n",
       "      <td>0.0</td>\n",
       "    </tr>\n",
       "    <tr>\n",
       "      <th>6</th>\n",
       "      <td>6</td>\n",
       "      <td>100.0</td>\n",
       "      <td>61.0</td>\n",
       "      <td>25.0</td>\n",
       "      <td>36.111111</td>\n",
       "      <td>4.0</td>\n",
       "      <td>6.0</td>\n",
       "      <td>15.0</td>\n",
       "      <td>5.0</td>\n",
       "      <td>77.334247</td>\n",
       "      <td>0.0</td>\n",
       "    </tr>\n",
       "    <tr>\n",
       "      <th>7</th>\n",
       "      <td>7</td>\n",
       "      <td>74.0</td>\n",
       "      <td>69.0</td>\n",
       "      <td>29.0</td>\n",
       "      <td>36.111111</td>\n",
       "      <td>4.0</td>\n",
       "      <td>6.0</td>\n",
       "      <td>15.0</td>\n",
       "      <td>5.0</td>\n",
       "      <td>77.334247</td>\n",
       "      <td>0.0</td>\n",
       "    </tr>\n",
       "    <tr>\n",
       "      <th>8</th>\n",
       "      <td>8</td>\n",
       "      <td>77.0</td>\n",
       "      <td>67.0</td>\n",
       "      <td>27.0</td>\n",
       "      <td>35.444444</td>\n",
       "      <td>4.0</td>\n",
       "      <td>6.0</td>\n",
       "      <td>15.0</td>\n",
       "      <td>5.0</td>\n",
       "      <td>77.334247</td>\n",
       "      <td>0.0</td>\n",
       "    </tr>\n",
       "    <tr>\n",
       "      <th>9</th>\n",
       "      <td>9</td>\n",
       "      <td>84.0</td>\n",
       "      <td>71.0</td>\n",
       "      <td>28.0</td>\n",
       "      <td>35.444444</td>\n",
       "      <td>4.0</td>\n",
       "      <td>6.0</td>\n",
       "      <td>15.0</td>\n",
       "      <td>5.0</td>\n",
       "      <td>77.334247</td>\n",
       "      <td>0.0</td>\n",
       "    </tr>\n",
       "    <tr>\n",
       "      <th>10</th>\n",
       "      <td>10</td>\n",
       "      <td>84.0</td>\n",
       "      <td>71.0</td>\n",
       "      <td>28.0</td>\n",
       "      <td>35.444444</td>\n",
       "      <td>4.0</td>\n",
       "      <td>6.0</td>\n",
       "      <td>15.0</td>\n",
       "      <td>5.0</td>\n",
       "      <td>77.334247</td>\n",
       "      <td>0.0</td>\n",
       "    </tr>\n",
       "    <tr>\n",
       "      <th>11</th>\n",
       "      <td>11</td>\n",
       "      <td>121.0</td>\n",
       "      <td>73.0</td>\n",
       "      <td>30.0</td>\n",
       "      <td>35.444444</td>\n",
       "      <td>4.0</td>\n",
       "      <td>6.0</td>\n",
       "      <td>15.0</td>\n",
       "      <td>5.0</td>\n",
       "      <td>77.334247</td>\n",
       "      <td>0.0</td>\n",
       "    </tr>\n",
       "    <tr>\n",
       "      <th>12</th>\n",
       "      <td>12</td>\n",
       "      <td>121.0</td>\n",
       "      <td>71.0</td>\n",
       "      <td>30.0</td>\n",
       "      <td>35.444444</td>\n",
       "      <td>4.0</td>\n",
       "      <td>6.0</td>\n",
       "      <td>15.0</td>\n",
       "      <td>5.0</td>\n",
       "      <td>77.334247</td>\n",
       "      <td>0.0</td>\n",
       "    </tr>\n",
       "    <tr>\n",
       "      <th>13</th>\n",
       "      <td>13</td>\n",
       "      <td>119.0</td>\n",
       "      <td>100.0</td>\n",
       "      <td>28.0</td>\n",
       "      <td>35.444444</td>\n",
       "      <td>4.0</td>\n",
       "      <td>6.0</td>\n",
       "      <td>15.0</td>\n",
       "      <td>5.0</td>\n",
       "      <td>77.334247</td>\n",
       "      <td>0.0</td>\n",
       "    </tr>\n",
       "    <tr>\n",
       "      <th>14</th>\n",
       "      <td>14</td>\n",
       "      <td>119.0</td>\n",
       "      <td>100.0</td>\n",
       "      <td>28.0</td>\n",
       "      <td>35.444444</td>\n",
       "      <td>4.0</td>\n",
       "      <td>6.0</td>\n",
       "      <td>15.0</td>\n",
       "      <td>5.0</td>\n",
       "      <td>77.334247</td>\n",
       "      <td>0.0</td>\n",
       "    </tr>\n",
       "    <tr>\n",
       "      <th>15</th>\n",
       "      <td>15</td>\n",
       "      <td>119.0</td>\n",
       "      <td>60.0</td>\n",
       "      <td>27.0</td>\n",
       "      <td>35.444444</td>\n",
       "      <td>4.0</td>\n",
       "      <td>6.0</td>\n",
       "      <td>15.0</td>\n",
       "      <td>5.0</td>\n",
       "      <td>77.334247</td>\n",
       "      <td>0.0</td>\n",
       "    </tr>\n",
       "    <tr>\n",
       "      <th>16</th>\n",
       "      <td>16</td>\n",
       "      <td>86.0</td>\n",
       "      <td>64.0</td>\n",
       "      <td>24.0</td>\n",
       "      <td>36.777778</td>\n",
       "      <td>4.0</td>\n",
       "      <td>6.0</td>\n",
       "      <td>15.0</td>\n",
       "      <td>5.0</td>\n",
       "      <td>77.334247</td>\n",
       "      <td>0.0</td>\n",
       "    </tr>\n",
       "    <tr>\n",
       "      <th>17</th>\n",
       "      <td>17</td>\n",
       "      <td>86.0</td>\n",
       "      <td>64.0</td>\n",
       "      <td>29.0</td>\n",
       "      <td>36.777778</td>\n",
       "      <td>4.0</td>\n",
       "      <td>6.0</td>\n",
       "      <td>15.0</td>\n",
       "      <td>5.0</td>\n",
       "      <td>77.334247</td>\n",
       "      <td>0.0</td>\n",
       "    </tr>\n",
       "    <tr>\n",
       "      <th>18</th>\n",
       "      <td>18</td>\n",
       "      <td>88.0</td>\n",
       "      <td>49.0</td>\n",
       "      <td>38.0</td>\n",
       "      <td>36.166667</td>\n",
       "      <td>4.0</td>\n",
       "      <td>6.0</td>\n",
       "      <td>15.0</td>\n",
       "      <td>5.0</td>\n",
       "      <td>77.334247</td>\n",
       "      <td>0.0</td>\n",
       "    </tr>\n",
       "    <tr>\n",
       "      <th>19</th>\n",
       "      <td>19</td>\n",
       "      <td>87.0</td>\n",
       "      <td>63.0</td>\n",
       "      <td>21.0</td>\n",
       "      <td>36.166667</td>\n",
       "      <td>4.0</td>\n",
       "      <td>6.0</td>\n",
       "      <td>15.0</td>\n",
       "      <td>5.0</td>\n",
       "      <td>77.334247</td>\n",
       "      <td>0.0</td>\n",
       "    </tr>\n",
       "    <tr>\n",
       "      <th>20</th>\n",
       "      <td>20</td>\n",
       "      <td>161.0</td>\n",
       "      <td>68.0</td>\n",
       "      <td>30.0</td>\n",
       "      <td>36.166667</td>\n",
       "      <td>4.0</td>\n",
       "      <td>6.0</td>\n",
       "      <td>15.0</td>\n",
       "      <td>5.0</td>\n",
       "      <td>77.334247</td>\n",
       "      <td>0.0</td>\n",
       "    </tr>\n",
       "    <tr>\n",
       "      <th>21</th>\n",
       "      <td>21</td>\n",
       "      <td>91.0</td>\n",
       "      <td>73.0</td>\n",
       "      <td>39.0</td>\n",
       "      <td>37.333333</td>\n",
       "      <td>4.0</td>\n",
       "      <td>6.0</td>\n",
       "      <td>15.0</td>\n",
       "      <td>5.0</td>\n",
       "      <td>77.334247</td>\n",
       "      <td>0.0</td>\n",
       "    </tr>\n",
       "    <tr>\n",
       "      <th>22</th>\n",
       "      <td>22</td>\n",
       "      <td>91.0</td>\n",
       "      <td>83.0</td>\n",
       "      <td>39.0</td>\n",
       "      <td>37.333333</td>\n",
       "      <td>4.0</td>\n",
       "      <td>6.0</td>\n",
       "      <td>15.0</td>\n",
       "      <td>5.0</td>\n",
       "      <td>77.334247</td>\n",
       "      <td>0.0</td>\n",
       "    </tr>\n",
       "    <tr>\n",
       "      <th>23</th>\n",
       "      <td>23</td>\n",
       "      <td>92.0</td>\n",
       "      <td>78.0</td>\n",
       "      <td>34.0</td>\n",
       "      <td>37.333333</td>\n",
       "      <td>4.0</td>\n",
       "      <td>6.0</td>\n",
       "      <td>15.0</td>\n",
       "      <td>5.0</td>\n",
       "      <td>77.334247</td>\n",
       "      <td>0.0</td>\n",
       "    </tr>\n",
       "    <tr>\n",
       "      <th>24</th>\n",
       "      <td>0</td>\n",
       "      <td>86.0</td>\n",
       "      <td>77.0</td>\n",
       "      <td>19.0</td>\n",
       "      <td>36.600000</td>\n",
       "      <td>4.0</td>\n",
       "      <td>6.0</td>\n",
       "      <td>15.0</td>\n",
       "      <td>1.0</td>\n",
       "      <td>80.717808</td>\n",
       "      <td>5.9</td>\n",
       "    </tr>\n",
       "    <tr>\n",
       "      <th>25</th>\n",
       "      <td>1</td>\n",
       "      <td>85.0</td>\n",
       "      <td>78.0</td>\n",
       "      <td>23.0</td>\n",
       "      <td>36.600000</td>\n",
       "      <td>4.0</td>\n",
       "      <td>6.0</td>\n",
       "      <td>15.0</td>\n",
       "      <td>1.0</td>\n",
       "      <td>80.717808</td>\n",
       "      <td>5.9</td>\n",
       "    </tr>\n",
       "    <tr>\n",
       "      <th>26</th>\n",
       "      <td>2</td>\n",
       "      <td>83.0</td>\n",
       "      <td>72.0</td>\n",
       "      <td>18.0</td>\n",
       "      <td>36.600000</td>\n",
       "      <td>4.0</td>\n",
       "      <td>6.0</td>\n",
       "      <td>15.0</td>\n",
       "      <td>1.0</td>\n",
       "      <td>80.717808</td>\n",
       "      <td>5.9</td>\n",
       "    </tr>\n",
       "    <tr>\n",
       "      <th>27</th>\n",
       "      <td>3</td>\n",
       "      <td>89.0</td>\n",
       "      <td>70.0</td>\n",
       "      <td>9.0</td>\n",
       "      <td>36.600000</td>\n",
       "      <td>4.0</td>\n",
       "      <td>6.0</td>\n",
       "      <td>15.0</td>\n",
       "      <td>1.0</td>\n",
       "      <td>80.717808</td>\n",
       "      <td>5.9</td>\n",
       "    </tr>\n",
       "    <tr>\n",
       "      <th>28</th>\n",
       "      <td>4</td>\n",
       "      <td>98.0</td>\n",
       "      <td>69.0</td>\n",
       "      <td>25.0</td>\n",
       "      <td>36.600000</td>\n",
       "      <td>4.0</td>\n",
       "      <td>6.0</td>\n",
       "      <td>15.0</td>\n",
       "      <td>1.0</td>\n",
       "      <td>80.717808</td>\n",
       "      <td>5.9</td>\n",
       "    </tr>\n",
       "    <tr>\n",
       "      <th>29</th>\n",
       "      <td>5</td>\n",
       "      <td>97.0</td>\n",
       "      <td>58.0</td>\n",
       "      <td>8.0</td>\n",
       "      <td>37.777778</td>\n",
       "      <td>4.0</td>\n",
       "      <td>6.0</td>\n",
       "      <td>15.0</td>\n",
       "      <td>1.0</td>\n",
       "      <td>80.717808</td>\n",
       "      <td>5.9</td>\n",
       "    </tr>\n",
       "    <tr>\n",
       "      <th>30</th>\n",
       "      <td>6</td>\n",
       "      <td>107.0</td>\n",
       "      <td>70.0</td>\n",
       "      <td>28.0</td>\n",
       "      <td>37.777778</td>\n",
       "      <td>4.0</td>\n",
       "      <td>6.0</td>\n",
       "      <td>15.0</td>\n",
       "      <td>1.0</td>\n",
       "      <td>80.717808</td>\n",
       "      <td>5.9</td>\n",
       "    </tr>\n",
       "    <tr>\n",
       "      <th>31</th>\n",
       "      <td>7</td>\n",
       "      <td>103.0</td>\n",
       "      <td>65.0</td>\n",
       "      <td>18.0</td>\n",
       "      <td>37.777778</td>\n",
       "      <td>4.0</td>\n",
       "      <td>6.0</td>\n",
       "      <td>15.0</td>\n",
       "      <td>1.0</td>\n",
       "      <td>80.717808</td>\n",
       "      <td>5.9</td>\n",
       "    </tr>\n",
       "    <tr>\n",
       "      <th>32</th>\n",
       "      <td>8</td>\n",
       "      <td>100.0</td>\n",
       "      <td>67.0</td>\n",
       "      <td>19.0</td>\n",
       "      <td>37.777778</td>\n",
       "      <td>4.0</td>\n",
       "      <td>6.0</td>\n",
       "      <td>15.0</td>\n",
       "      <td>1.0</td>\n",
       "      <td>80.717808</td>\n",
       "      <td>5.9</td>\n",
       "    </tr>\n",
       "    <tr>\n",
       "      <th>33</th>\n",
       "      <td>9</td>\n",
       "      <td>102.0</td>\n",
       "      <td>64.0</td>\n",
       "      <td>18.0</td>\n",
       "      <td>37.777778</td>\n",
       "      <td>4.0</td>\n",
       "      <td>6.0</td>\n",
       "      <td>15.0</td>\n",
       "      <td>1.0</td>\n",
       "      <td>80.717808</td>\n",
       "      <td>5.9</td>\n",
       "    </tr>\n",
       "    <tr>\n",
       "      <th>34</th>\n",
       "      <td>10</td>\n",
       "      <td>99.0</td>\n",
       "      <td>64.0</td>\n",
       "      <td>19.0</td>\n",
       "      <td>37.777778</td>\n",
       "      <td>4.0</td>\n",
       "      <td>6.0</td>\n",
       "      <td>15.0</td>\n",
       "      <td>1.0</td>\n",
       "      <td>80.717808</td>\n",
       "      <td>5.9</td>\n",
       "    </tr>\n",
       "    <tr>\n",
       "      <th>35</th>\n",
       "      <td>11</td>\n",
       "      <td>99.0</td>\n",
       "      <td>69.0</td>\n",
       "      <td>19.0</td>\n",
       "      <td>37.777778</td>\n",
       "      <td>4.0</td>\n",
       "      <td>6.0</td>\n",
       "      <td>15.0</td>\n",
       "      <td>1.0</td>\n",
       "      <td>80.717808</td>\n",
       "      <td>5.9</td>\n",
       "    </tr>\n",
       "    <tr>\n",
       "      <th>36</th>\n",
       "      <td>12</td>\n",
       "      <td>104.0</td>\n",
       "      <td>70.0</td>\n",
       "      <td>19.0</td>\n",
       "      <td>37.777778</td>\n",
       "      <td>4.0</td>\n",
       "      <td>6.0</td>\n",
       "      <td>15.0</td>\n",
       "      <td>1.0</td>\n",
       "      <td>80.717808</td>\n",
       "      <td>5.9</td>\n",
       "    </tr>\n",
       "    <tr>\n",
       "      <th>37</th>\n",
       "      <td>13</td>\n",
       "      <td>101.0</td>\n",
       "      <td>64.0</td>\n",
       "      <td>10.0</td>\n",
       "      <td>37.222222</td>\n",
       "      <td>4.0</td>\n",
       "      <td>6.0</td>\n",
       "      <td>15.0</td>\n",
       "      <td>1.0</td>\n",
       "      <td>80.717808</td>\n",
       "      <td>5.9</td>\n",
       "    </tr>\n",
       "    <tr>\n",
       "      <th>38</th>\n",
       "      <td>14</td>\n",
       "      <td>101.0</td>\n",
       "      <td>66.0</td>\n",
       "      <td>11.0</td>\n",
       "      <td>37.222222</td>\n",
       "      <td>4.0</td>\n",
       "      <td>6.0</td>\n",
       "      <td>15.0</td>\n",
       "      <td>1.0</td>\n",
       "      <td>80.717808</td>\n",
       "      <td>5.9</td>\n",
       "    </tr>\n",
       "    <tr>\n",
       "      <th>39</th>\n",
       "      <td>15</td>\n",
       "      <td>104.0</td>\n",
       "      <td>69.0</td>\n",
       "      <td>22.0</td>\n",
       "      <td>37.222222</td>\n",
       "      <td>4.0</td>\n",
       "      <td>6.0</td>\n",
       "      <td>15.0</td>\n",
       "      <td>1.0</td>\n",
       "      <td>80.717808</td>\n",
       "      <td>5.9</td>\n",
       "    </tr>\n",
       "    <tr>\n",
       "      <th>40</th>\n",
       "      <td>16</td>\n",
       "      <td>105.0</td>\n",
       "      <td>66.0</td>\n",
       "      <td>18.0</td>\n",
       "      <td>37.222222</td>\n",
       "      <td>4.0</td>\n",
       "      <td>6.0</td>\n",
       "      <td>15.0</td>\n",
       "      <td>1.0</td>\n",
       "      <td>80.717808</td>\n",
       "      <td>5.9</td>\n",
       "    </tr>\n",
       "    <tr>\n",
       "      <th>41</th>\n",
       "      <td>17</td>\n",
       "      <td>104.0</td>\n",
       "      <td>66.0</td>\n",
       "      <td>23.0</td>\n",
       "      <td>37.277778</td>\n",
       "      <td>4.0</td>\n",
       "      <td>6.0</td>\n",
       "      <td>15.0</td>\n",
       "      <td>1.0</td>\n",
       "      <td>80.717808</td>\n",
       "      <td>5.9</td>\n",
       "    </tr>\n",
       "    <tr>\n",
       "      <th>42</th>\n",
       "      <td>18</td>\n",
       "      <td>106.0</td>\n",
       "      <td>67.0</td>\n",
       "      <td>20.0</td>\n",
       "      <td>37.277778</td>\n",
       "      <td>4.0</td>\n",
       "      <td>6.0</td>\n",
       "      <td>15.0</td>\n",
       "      <td>1.0</td>\n",
       "      <td>80.717808</td>\n",
       "      <td>5.9</td>\n",
       "    </tr>\n",
       "    <tr>\n",
       "      <th>43</th>\n",
       "      <td>19</td>\n",
       "      <td>106.0</td>\n",
       "      <td>67.0</td>\n",
       "      <td>21.0</td>\n",
       "      <td>37.277778</td>\n",
       "      <td>4.0</td>\n",
       "      <td>6.0</td>\n",
       "      <td>15.0</td>\n",
       "      <td>1.0</td>\n",
       "      <td>80.717808</td>\n",
       "      <td>5.9</td>\n",
       "    </tr>\n",
       "    <tr>\n",
       "      <th>44</th>\n",
       "      <td>20</td>\n",
       "      <td>116.0</td>\n",
       "      <td>72.0</td>\n",
       "      <td>20.0</td>\n",
       "      <td>37.277778</td>\n",
       "      <td>4.0</td>\n",
       "      <td>6.0</td>\n",
       "      <td>15.0</td>\n",
       "      <td>1.0</td>\n",
       "      <td>80.717808</td>\n",
       "      <td>5.9</td>\n",
       "    </tr>\n",
       "    <tr>\n",
       "      <th>45</th>\n",
       "      <td>21</td>\n",
       "      <td>120.0</td>\n",
       "      <td>68.0</td>\n",
       "      <td>19.0</td>\n",
       "      <td>37.333333</td>\n",
       "      <td>4.0</td>\n",
       "      <td>6.0</td>\n",
       "      <td>15.0</td>\n",
       "      <td>5.0</td>\n",
       "      <td>80.717808</td>\n",
       "      <td>5.9</td>\n",
       "    </tr>\n",
       "    <tr>\n",
       "      <th>46</th>\n",
       "      <td>22</td>\n",
       "      <td>107.0</td>\n",
       "      <td>71.0</td>\n",
       "      <td>20.0</td>\n",
       "      <td>37.333333</td>\n",
       "      <td>4.0</td>\n",
       "      <td>6.0</td>\n",
       "      <td>15.0</td>\n",
       "      <td>5.0</td>\n",
       "      <td>80.717808</td>\n",
       "      <td>5.9</td>\n",
       "    </tr>\n",
       "    <tr>\n",
       "      <th>47</th>\n",
       "      <td>23</td>\n",
       "      <td>110.0</td>\n",
       "      <td>63.0</td>\n",
       "      <td>16.0</td>\n",
       "      <td>37.333333</td>\n",
       "      <td>4.0</td>\n",
       "      <td>6.0</td>\n",
       "      <td>15.0</td>\n",
       "      <td>5.0</td>\n",
       "      <td>80.717808</td>\n",
       "      <td>5.9</td>\n",
       "    </tr>\n",
       "    <tr>\n",
       "      <th>48</th>\n",
       "      <td>0</td>\n",
       "      <td>60.0</td>\n",
       "      <td>77.0</td>\n",
       "      <td>14.0</td>\n",
       "      <td>36.600000</td>\n",
       "      <td>4.0</td>\n",
       "      <td>6.0</td>\n",
       "      <td>15.0</td>\n",
       "      <td>5.0</td>\n",
       "      <td>56.183562</td>\n",
       "      <td>0.0</td>\n",
       "    </tr>\n",
       "    <tr>\n",
       "      <th>49</th>\n",
       "      <td>1</td>\n",
       "      <td>68.0</td>\n",
       "      <td>71.0</td>\n",
       "      <td>16.0</td>\n",
       "      <td>36.600000</td>\n",
       "      <td>4.0</td>\n",
       "      <td>6.0</td>\n",
       "      <td>15.0</td>\n",
       "      <td>5.0</td>\n",
       "      <td>56.183562</td>\n",
       "      <td>0.0</td>\n",
       "    </tr>\n",
       "  </tbody>\n",
       "</table>\n",
       "</div>"
      ],
      "text/plain": [
       "    Hours  HRATE    MAP  RESP_RATE     TEMP_C  gcs_e  gcs_m  \\\n",
       "0       0   86.0   77.0       19.0  36.600000    4.0    6.0   \n",
       "1       1   86.0   77.0       19.0  36.600000    4.0    6.0   \n",
       "2       2   86.0   77.0       19.0  36.600000    4.0    6.0   \n",
       "3       3   80.0   76.0       29.0  36.600000    4.0    6.0   \n",
       "4       4   80.0   76.0       29.0  36.600000    4.0    6.0   \n",
       "5       5   68.0   64.0       26.0  36.600000    4.0    6.0   \n",
       "6       6  100.0   61.0       25.0  36.111111    4.0    6.0   \n",
       "7       7   74.0   69.0       29.0  36.111111    4.0    6.0   \n",
       "8       8   77.0   67.0       27.0  35.444444    4.0    6.0   \n",
       "9       9   84.0   71.0       28.0  35.444444    4.0    6.0   \n",
       "10     10   84.0   71.0       28.0  35.444444    4.0    6.0   \n",
       "11     11  121.0   73.0       30.0  35.444444    4.0    6.0   \n",
       "12     12  121.0   71.0       30.0  35.444444    4.0    6.0   \n",
       "13     13  119.0  100.0       28.0  35.444444    4.0    6.0   \n",
       "14     14  119.0  100.0       28.0  35.444444    4.0    6.0   \n",
       "15     15  119.0   60.0       27.0  35.444444    4.0    6.0   \n",
       "16     16   86.0   64.0       24.0  36.777778    4.0    6.0   \n",
       "17     17   86.0   64.0       29.0  36.777778    4.0    6.0   \n",
       "18     18   88.0   49.0       38.0  36.166667    4.0    6.0   \n",
       "19     19   87.0   63.0       21.0  36.166667    4.0    6.0   \n",
       "20     20  161.0   68.0       30.0  36.166667    4.0    6.0   \n",
       "21     21   91.0   73.0       39.0  37.333333    4.0    6.0   \n",
       "22     22   91.0   83.0       39.0  37.333333    4.0    6.0   \n",
       "23     23   92.0   78.0       34.0  37.333333    4.0    6.0   \n",
       "24      0   86.0   77.0       19.0  36.600000    4.0    6.0   \n",
       "25      1   85.0   78.0       23.0  36.600000    4.0    6.0   \n",
       "26      2   83.0   72.0       18.0  36.600000    4.0    6.0   \n",
       "27      3   89.0   70.0        9.0  36.600000    4.0    6.0   \n",
       "28      4   98.0   69.0       25.0  36.600000    4.0    6.0   \n",
       "29      5   97.0   58.0        8.0  37.777778    4.0    6.0   \n",
       "30      6  107.0   70.0       28.0  37.777778    4.0    6.0   \n",
       "31      7  103.0   65.0       18.0  37.777778    4.0    6.0   \n",
       "32      8  100.0   67.0       19.0  37.777778    4.0    6.0   \n",
       "33      9  102.0   64.0       18.0  37.777778    4.0    6.0   \n",
       "34     10   99.0   64.0       19.0  37.777778    4.0    6.0   \n",
       "35     11   99.0   69.0       19.0  37.777778    4.0    6.0   \n",
       "36     12  104.0   70.0       19.0  37.777778    4.0    6.0   \n",
       "37     13  101.0   64.0       10.0  37.222222    4.0    6.0   \n",
       "38     14  101.0   66.0       11.0  37.222222    4.0    6.0   \n",
       "39     15  104.0   69.0       22.0  37.222222    4.0    6.0   \n",
       "40     16  105.0   66.0       18.0  37.222222    4.0    6.0   \n",
       "41     17  104.0   66.0       23.0  37.277778    4.0    6.0   \n",
       "42     18  106.0   67.0       20.0  37.277778    4.0    6.0   \n",
       "43     19  106.0   67.0       21.0  37.277778    4.0    6.0   \n",
       "44     20  116.0   72.0       20.0  37.277778    4.0    6.0   \n",
       "45     21  120.0   68.0       19.0  37.333333    4.0    6.0   \n",
       "46     22  107.0   71.0       20.0  37.333333    4.0    6.0   \n",
       "47     23  110.0   63.0       16.0  37.333333    4.0    6.0   \n",
       "48      0   60.0   77.0       14.0  36.600000    4.0    6.0   \n",
       "49      1   68.0   71.0       16.0  36.600000    4.0    6.0   \n",
       "\n",
       "    gcs_total_carevue  gcs_v        AGE  PRELOS  \n",
       "0                15.0    5.0  77.334247     0.0  \n",
       "1                15.0    5.0  77.334247     0.0  \n",
       "2                15.0    5.0  77.334247     0.0  \n",
       "3                15.0    5.0  77.334247     0.0  \n",
       "4                15.0    5.0  77.334247     0.0  \n",
       "5                15.0    5.0  77.334247     0.0  \n",
       "6                15.0    5.0  77.334247     0.0  \n",
       "7                15.0    5.0  77.334247     0.0  \n",
       "8                15.0    5.0  77.334247     0.0  \n",
       "9                15.0    5.0  77.334247     0.0  \n",
       "10               15.0    5.0  77.334247     0.0  \n",
       "11               15.0    5.0  77.334247     0.0  \n",
       "12               15.0    5.0  77.334247     0.0  \n",
       "13               15.0    5.0  77.334247     0.0  \n",
       "14               15.0    5.0  77.334247     0.0  \n",
       "15               15.0    5.0  77.334247     0.0  \n",
       "16               15.0    5.0  77.334247     0.0  \n",
       "17               15.0    5.0  77.334247     0.0  \n",
       "18               15.0    5.0  77.334247     0.0  \n",
       "19               15.0    5.0  77.334247     0.0  \n",
       "20               15.0    5.0  77.334247     0.0  \n",
       "21               15.0    5.0  77.334247     0.0  \n",
       "22               15.0    5.0  77.334247     0.0  \n",
       "23               15.0    5.0  77.334247     0.0  \n",
       "24               15.0    1.0  80.717808     5.9  \n",
       "25               15.0    1.0  80.717808     5.9  \n",
       "26               15.0    1.0  80.717808     5.9  \n",
       "27               15.0    1.0  80.717808     5.9  \n",
       "28               15.0    1.0  80.717808     5.9  \n",
       "29               15.0    1.0  80.717808     5.9  \n",
       "30               15.0    1.0  80.717808     5.9  \n",
       "31               15.0    1.0  80.717808     5.9  \n",
       "32               15.0    1.0  80.717808     5.9  \n",
       "33               15.0    1.0  80.717808     5.9  \n",
       "34               15.0    1.0  80.717808     5.9  \n",
       "35               15.0    1.0  80.717808     5.9  \n",
       "36               15.0    1.0  80.717808     5.9  \n",
       "37               15.0    1.0  80.717808     5.9  \n",
       "38               15.0    1.0  80.717808     5.9  \n",
       "39               15.0    1.0  80.717808     5.9  \n",
       "40               15.0    1.0  80.717808     5.9  \n",
       "41               15.0    1.0  80.717808     5.9  \n",
       "42               15.0    1.0  80.717808     5.9  \n",
       "43               15.0    1.0  80.717808     5.9  \n",
       "44               15.0    1.0  80.717808     5.9  \n",
       "45               15.0    5.0  80.717808     5.9  \n",
       "46               15.0    5.0  80.717808     5.9  \n",
       "47               15.0    5.0  80.717808     5.9  \n",
       "48               15.0    5.0  56.183562     0.0  \n",
       "49               15.0    5.0  56.183562     0.0  "
      ]
     },
     "execution_count": 95,
     "metadata": {},
     "output_type": "execute_result"
    }
   ],
   "source": [
    "result_OneBigDataset.head(50)"
   ]
  },
  {
   "cell_type": "code",
   "execution_count": 96,
   "metadata": {},
   "outputs": [
    {
     "data": {
      "text/plain": [
       "Hours                0\n",
       "HRATE                0\n",
       "MAP                  0\n",
       "RESP_RATE            0\n",
       "TEMP_C               0\n",
       "gcs_e                0\n",
       "gcs_m                0\n",
       "gcs_total_carevue    0\n",
       "gcs_v                0\n",
       "AGE                  0\n",
       "PRELOS               0\n",
       "dtype: int64"
      ]
     },
     "execution_count": 96,
     "metadata": {},
     "output_type": "execute_result"
    }
   ],
   "source": [
    "result_OneBigDataset.isnull().sum()"
   ]
  },
  {
   "cell_type": "code",
   "execution_count": 97,
   "metadata": {},
   "outputs": [],
   "source": [
    "stays_root_path = '/data/codi/OASIS/timesSeriesv2_cohorte/data/mortality/test'"
   ]
  },
  {
   "cell_type": "code",
   "execution_count": 98,
   "metadata": {},
   "outputs": [
    {
     "name": "stderr",
     "output_type": "stream",
     "text": [
      "Iterating over stays: 100%|█████████████| 3236/3236 [00:45<00:00, 71.24it/s]\n"
     ]
    }
   ],
   "source": [
    "result_OneBigDataset_test = pd.DataFrame()\n",
    "y_true =  pd.DataFrame()\n",
    "listfile = pd.read_csv(os.path.join(stays_root_path,'listfile.csv'))\n",
    "\n",
    "\n",
    "#normal range of measuraments\n",
    "values = {'gcs_e': 4, 'gcs_m': 6, 'gcs_v': 5, 'gcs_total_carevue': 15,\n",
    "                      'HRATE': 86,'MAP':77,'RESP_RATE':19,'TEMP_C':36.6}\n",
    "\n",
    "#Iterar los icustays con mismo orden que listfile de otros modelos. (para luego el cross validation sea sobre mismos splits)\n",
    "lista_stays_en_orden = listfile['stay'].tolist()\n",
    "\n",
    "for stay_dir in tqdm(lista_stays_en_orden, desc='Iterating over stays'):\n",
    "    dn = os.path.join(stays_root_path, stay_dir)\n",
    "        \n",
    "    try:\n",
    "        # reading timeseries and concate\n",
    "        stayTimeSeries = pd.read_csv(dn)\n",
    "        #manera 2: age y prelos para cada icustay id es estático:\n",
    "        #age = stayTimeSeries['AGE'][0]\n",
    "        #prelos = stayTimeSeries['PRELOS'][0]\n",
    "        stayTimeSeries['Hours'] = np.round(stayTimeSeries['Hours'],0)\n",
    "        stayTimeSeries = stayTimeSeries.drop_duplicates(subset=['Hours'], keep='last')\n",
    "        new_index = pd.Index(np.arange(0,24,1), name=\"Hours\")\n",
    "        stayTimeSeries = stayTimeSeries.set_index(\"Hours\").reindex(new_index).reset_index()\n",
    "\n",
    "\n",
    "        stayTimeSeries.fillna(method='ffill', inplace=True)\n",
    "        #Dummy solution if whole column is nan or no have previous non nan value, fill nan with normal range\n",
    "\n",
    "        #Para Age y Prelos seguro tiene algun valor\n",
    "        stayTimeSeries['AGE'].fillna(method='bfill', inplace=True)\n",
    "        stayTimeSeries['PRELOS'].fillna(method='bfill', inplace=True)\n",
    "\n",
    "        #manera 2:Para Age y Prelos seguro tiene algun valor\n",
    "        #stayTimeSeries['AGE'].fillna(value=age, inplace=True)\n",
    "        #stayTimeSeries['PRELOS'].fillna(value=prelos, inplace=True)\n",
    "\n",
    "        \n",
    "        if(stayTimeSeries['AGE'].isnull().all() or stayTimeSeries['PRELOS'].isnull().all()):\n",
    "            print('Error reading age and prelos for icustay_id: {}\\n'.format(stay_dir))\n",
    "            #continue\n",
    "\n",
    "        stayTimeSeries.fillna(value=values,inplace=True)\n",
    "        result_OneBigDataset_test = pd.concat([result_OneBigDataset_test,stayTimeSeries])\n",
    "\n",
    "        stay_y_true =  listfile.loc[listfile['stay'] == stay_dir]['y_true']\n",
    "        y_true = pd.concat([y_true,stay_y_true], ignore_index=True)\n",
    "\n",
    "    except:\n",
    "        sys.stderr.write('Error reading from disk for icustay_id: {}\\n'.format(stay_dir))\n",
    "        continue\n"
   ]
  },
  {
   "cell_type": "code",
   "execution_count": 99,
   "metadata": {
    "scrolled": true
   },
   "outputs": [
    {
     "data": {
      "text/html": [
       "<div>\n",
       "<style scoped>\n",
       "    .dataframe tbody tr th:only-of-type {\n",
       "        vertical-align: middle;\n",
       "    }\n",
       "\n",
       "    .dataframe tbody tr th {\n",
       "        vertical-align: top;\n",
       "    }\n",
       "\n",
       "    .dataframe thead th {\n",
       "        text-align: right;\n",
       "    }\n",
       "</style>\n",
       "<table border=\"1\" class=\"dataframe\">\n",
       "  <thead>\n",
       "    <tr style=\"text-align: right;\">\n",
       "      <th></th>\n",
       "      <th>Hours</th>\n",
       "      <th>HRATE</th>\n",
       "      <th>MAP</th>\n",
       "      <th>RESP_RATE</th>\n",
       "      <th>TEMP_C</th>\n",
       "      <th>gcs_e</th>\n",
       "      <th>gcs_m</th>\n",
       "      <th>gcs_total_carevue</th>\n",
       "      <th>gcs_v</th>\n",
       "      <th>AGE</th>\n",
       "      <th>PRELOS</th>\n",
       "    </tr>\n",
       "  </thead>\n",
       "  <tbody>\n",
       "    <tr>\n",
       "      <th>0</th>\n",
       "      <td>0</td>\n",
       "      <td>81.0</td>\n",
       "      <td>67.000000</td>\n",
       "      <td>23.0</td>\n",
       "      <td>36.600000</td>\n",
       "      <td>4.0</td>\n",
       "      <td>6.0</td>\n",
       "      <td>15.0</td>\n",
       "      <td>5.0</td>\n",
       "      <td>36.213699</td>\n",
       "      <td>0.0</td>\n",
       "    </tr>\n",
       "    <tr>\n",
       "      <th>1</th>\n",
       "      <td>1</td>\n",
       "      <td>76.0</td>\n",
       "      <td>62.666698</td>\n",
       "      <td>21.0</td>\n",
       "      <td>36.333302</td>\n",
       "      <td>4.0</td>\n",
       "      <td>6.0</td>\n",
       "      <td>15.0</td>\n",
       "      <td>5.0</td>\n",
       "      <td>36.213699</td>\n",
       "      <td>0.0</td>\n",
       "    </tr>\n",
       "    <tr>\n",
       "      <th>2</th>\n",
       "      <td>2</td>\n",
       "      <td>79.0</td>\n",
       "      <td>65.666702</td>\n",
       "      <td>20.0</td>\n",
       "      <td>36.333302</td>\n",
       "      <td>4.0</td>\n",
       "      <td>6.0</td>\n",
       "      <td>15.0</td>\n",
       "      <td>5.0</td>\n",
       "      <td>36.213699</td>\n",
       "      <td>0.0</td>\n",
       "    </tr>\n",
       "    <tr>\n",
       "      <th>3</th>\n",
       "      <td>3</td>\n",
       "      <td>72.0</td>\n",
       "      <td>65.000000</td>\n",
       "      <td>20.0</td>\n",
       "      <td>36.222198</td>\n",
       "      <td>4.0</td>\n",
       "      <td>6.0</td>\n",
       "      <td>15.0</td>\n",
       "      <td>5.0</td>\n",
       "      <td>36.213699</td>\n",
       "      <td>0.0</td>\n",
       "    </tr>\n",
       "    <tr>\n",
       "      <th>4</th>\n",
       "      <td>4</td>\n",
       "      <td>74.0</td>\n",
       "      <td>71.000000</td>\n",
       "      <td>21.0</td>\n",
       "      <td>36.222198</td>\n",
       "      <td>4.0</td>\n",
       "      <td>6.0</td>\n",
       "      <td>15.0</td>\n",
       "      <td>5.0</td>\n",
       "      <td>36.213699</td>\n",
       "      <td>0.0</td>\n",
       "    </tr>\n",
       "    <tr>\n",
       "      <th>5</th>\n",
       "      <td>5</td>\n",
       "      <td>78.0</td>\n",
       "      <td>67.333298</td>\n",
       "      <td>20.0</td>\n",
       "      <td>36.388901</td>\n",
       "      <td>4.0</td>\n",
       "      <td>6.0</td>\n",
       "      <td>15.0</td>\n",
       "      <td>5.0</td>\n",
       "      <td>36.213699</td>\n",
       "      <td>0.0</td>\n",
       "    </tr>\n",
       "    <tr>\n",
       "      <th>6</th>\n",
       "      <td>6</td>\n",
       "      <td>84.0</td>\n",
       "      <td>64.000000</td>\n",
       "      <td>21.0</td>\n",
       "      <td>36.388901</td>\n",
       "      <td>4.0</td>\n",
       "      <td>6.0</td>\n",
       "      <td>15.0</td>\n",
       "      <td>5.0</td>\n",
       "      <td>36.213699</td>\n",
       "      <td>0.0</td>\n",
       "    </tr>\n",
       "    <tr>\n",
       "      <th>7</th>\n",
       "      <td>7</td>\n",
       "      <td>95.0</td>\n",
       "      <td>65.666702</td>\n",
       "      <td>20.0</td>\n",
       "      <td>36.388901</td>\n",
       "      <td>4.0</td>\n",
       "      <td>6.0</td>\n",
       "      <td>15.0</td>\n",
       "      <td>5.0</td>\n",
       "      <td>36.213699</td>\n",
       "      <td>0.0</td>\n",
       "    </tr>\n",
       "    <tr>\n",
       "      <th>8</th>\n",
       "      <td>8</td>\n",
       "      <td>94.0</td>\n",
       "      <td>62.000000</td>\n",
       "      <td>19.0</td>\n",
       "      <td>37.055599</td>\n",
       "      <td>4.0</td>\n",
       "      <td>6.0</td>\n",
       "      <td>14.0</td>\n",
       "      <td>4.0</td>\n",
       "      <td>36.213699</td>\n",
       "      <td>0.0</td>\n",
       "    </tr>\n",
       "    <tr>\n",
       "      <th>9</th>\n",
       "      <td>9</td>\n",
       "      <td>108.0</td>\n",
       "      <td>75.000000</td>\n",
       "      <td>21.0</td>\n",
       "      <td>37.055599</td>\n",
       "      <td>4.0</td>\n",
       "      <td>6.0</td>\n",
       "      <td>14.0</td>\n",
       "      <td>4.0</td>\n",
       "      <td>36.213699</td>\n",
       "      <td>0.0</td>\n",
       "    </tr>\n",
       "    <tr>\n",
       "      <th>10</th>\n",
       "      <td>10</td>\n",
       "      <td>96.0</td>\n",
       "      <td>67.333298</td>\n",
       "      <td>18.0</td>\n",
       "      <td>37.055599</td>\n",
       "      <td>4.0</td>\n",
       "      <td>6.0</td>\n",
       "      <td>14.0</td>\n",
       "      <td>4.0</td>\n",
       "      <td>36.213699</td>\n",
       "      <td>0.0</td>\n",
       "    </tr>\n",
       "    <tr>\n",
       "      <th>11</th>\n",
       "      <td>11</td>\n",
       "      <td>93.0</td>\n",
       "      <td>62.000000</td>\n",
       "      <td>19.0</td>\n",
       "      <td>37.055599</td>\n",
       "      <td>4.0</td>\n",
       "      <td>6.0</td>\n",
       "      <td>14.0</td>\n",
       "      <td>4.0</td>\n",
       "      <td>36.213699</td>\n",
       "      <td>0.0</td>\n",
       "    </tr>\n",
       "    <tr>\n",
       "      <th>12</th>\n",
       "      <td>12</td>\n",
       "      <td>90.0</td>\n",
       "      <td>57.666698</td>\n",
       "      <td>18.0</td>\n",
       "      <td>37.055599</td>\n",
       "      <td>4.0</td>\n",
       "      <td>6.0</td>\n",
       "      <td>14.0</td>\n",
       "      <td>4.0</td>\n",
       "      <td>36.213699</td>\n",
       "      <td>0.0</td>\n",
       "    </tr>\n",
       "    <tr>\n",
       "      <th>13</th>\n",
       "      <td>13</td>\n",
       "      <td>87.0</td>\n",
       "      <td>70.000000</td>\n",
       "      <td>20.0</td>\n",
       "      <td>37.055599</td>\n",
       "      <td>4.0</td>\n",
       "      <td>6.0</td>\n",
       "      <td>14.0</td>\n",
       "      <td>4.0</td>\n",
       "      <td>36.213699</td>\n",
       "      <td>0.0</td>\n",
       "    </tr>\n",
       "    <tr>\n",
       "      <th>14</th>\n",
       "      <td>14</td>\n",
       "      <td>88.0</td>\n",
       "      <td>69.666702</td>\n",
       "      <td>14.0</td>\n",
       "      <td>37.000000</td>\n",
       "      <td>4.0</td>\n",
       "      <td>6.0</td>\n",
       "      <td>14.0</td>\n",
       "      <td>4.0</td>\n",
       "      <td>36.213699</td>\n",
       "      <td>0.0</td>\n",
       "    </tr>\n",
       "    <tr>\n",
       "      <th>15</th>\n",
       "      <td>15</td>\n",
       "      <td>102.0</td>\n",
       "      <td>69.666702</td>\n",
       "      <td>22.0</td>\n",
       "      <td>37.000000</td>\n",
       "      <td>4.0</td>\n",
       "      <td>6.0</td>\n",
       "      <td>14.0</td>\n",
       "      <td>4.0</td>\n",
       "      <td>36.213699</td>\n",
       "      <td>0.0</td>\n",
       "    </tr>\n",
       "    <tr>\n",
       "      <th>16</th>\n",
       "      <td>16</td>\n",
       "      <td>99.0</td>\n",
       "      <td>70.000000</td>\n",
       "      <td>22.0</td>\n",
       "      <td>37.000000</td>\n",
       "      <td>4.0</td>\n",
       "      <td>6.0</td>\n",
       "      <td>14.0</td>\n",
       "      <td>4.0</td>\n",
       "      <td>36.213699</td>\n",
       "      <td>0.0</td>\n",
       "    </tr>\n",
       "    <tr>\n",
       "      <th>17</th>\n",
       "      <td>17</td>\n",
       "      <td>105.0</td>\n",
       "      <td>63.666698</td>\n",
       "      <td>16.0</td>\n",
       "      <td>37.000000</td>\n",
       "      <td>3.0</td>\n",
       "      <td>6.0</td>\n",
       "      <td>13.0</td>\n",
       "      <td>4.0</td>\n",
       "      <td>36.213699</td>\n",
       "      <td>0.0</td>\n",
       "    </tr>\n",
       "    <tr>\n",
       "      <th>18</th>\n",
       "      <td>18</td>\n",
       "      <td>81.0</td>\n",
       "      <td>69.333298</td>\n",
       "      <td>16.0</td>\n",
       "      <td>36.888901</td>\n",
       "      <td>3.0</td>\n",
       "      <td>5.0</td>\n",
       "      <td>12.0</td>\n",
       "      <td>4.0</td>\n",
       "      <td>36.213699</td>\n",
       "      <td>0.0</td>\n",
       "    </tr>\n",
       "    <tr>\n",
       "      <th>19</th>\n",
       "      <td>19</td>\n",
       "      <td>85.0</td>\n",
       "      <td>86.000000</td>\n",
       "      <td>15.0</td>\n",
       "      <td>36.888901</td>\n",
       "      <td>3.0</td>\n",
       "      <td>5.0</td>\n",
       "      <td>12.0</td>\n",
       "      <td>4.0</td>\n",
       "      <td>36.213699</td>\n",
       "      <td>0.0</td>\n",
       "    </tr>\n",
       "    <tr>\n",
       "      <th>20</th>\n",
       "      <td>20</td>\n",
       "      <td>89.0</td>\n",
       "      <td>70.000000</td>\n",
       "      <td>18.0</td>\n",
       "      <td>36.888901</td>\n",
       "      <td>3.0</td>\n",
       "      <td>4.0</td>\n",
       "      <td>11.0</td>\n",
       "      <td>4.0</td>\n",
       "      <td>36.213699</td>\n",
       "      <td>0.0</td>\n",
       "    </tr>\n",
       "    <tr>\n",
       "      <th>21</th>\n",
       "      <td>21</td>\n",
       "      <td>79.0</td>\n",
       "      <td>68.000000</td>\n",
       "      <td>16.0</td>\n",
       "      <td>36.888901</td>\n",
       "      <td>3.0</td>\n",
       "      <td>4.0</td>\n",
       "      <td>11.0</td>\n",
       "      <td>4.0</td>\n",
       "      <td>36.213699</td>\n",
       "      <td>0.0</td>\n",
       "    </tr>\n",
       "    <tr>\n",
       "      <th>22</th>\n",
       "      <td>22</td>\n",
       "      <td>78.0</td>\n",
       "      <td>65.666702</td>\n",
       "      <td>18.0</td>\n",
       "      <td>36.888901</td>\n",
       "      <td>3.0</td>\n",
       "      <td>5.0</td>\n",
       "      <td>12.0</td>\n",
       "      <td>4.0</td>\n",
       "      <td>36.213699</td>\n",
       "      <td>0.0</td>\n",
       "    </tr>\n",
       "    <tr>\n",
       "      <th>23</th>\n",
       "      <td>23</td>\n",
       "      <td>74.0</td>\n",
       "      <td>68.333298</td>\n",
       "      <td>14.0</td>\n",
       "      <td>36.888901</td>\n",
       "      <td>3.0</td>\n",
       "      <td>5.0</td>\n",
       "      <td>12.0</td>\n",
       "      <td>4.0</td>\n",
       "      <td>36.213699</td>\n",
       "      <td>0.0</td>\n",
       "    </tr>\n",
       "    <tr>\n",
       "      <th>0</th>\n",
       "      <td>0</td>\n",
       "      <td>60.0</td>\n",
       "      <td>74.000000</td>\n",
       "      <td>15.0</td>\n",
       "      <td>36.600000</td>\n",
       "      <td>4.0</td>\n",
       "      <td>6.0</td>\n",
       "      <td>15.0</td>\n",
       "      <td>5.0</td>\n",
       "      <td>96.967177</td>\n",
       "      <td>0.0</td>\n",
       "    </tr>\n",
       "    <tr>\n",
       "      <th>1</th>\n",
       "      <td>1</td>\n",
       "      <td>59.0</td>\n",
       "      <td>73.000000</td>\n",
       "      <td>13.0</td>\n",
       "      <td>36.600000</td>\n",
       "      <td>3.0</td>\n",
       "      <td>6.0</td>\n",
       "      <td>14.0</td>\n",
       "      <td>5.0</td>\n",
       "      <td>96.967177</td>\n",
       "      <td>0.0</td>\n",
       "    </tr>\n",
       "    <tr>\n",
       "      <th>2</th>\n",
       "      <td>2</td>\n",
       "      <td>60.0</td>\n",
       "      <td>78.000000</td>\n",
       "      <td>10.0</td>\n",
       "      <td>36.600000</td>\n",
       "      <td>4.0</td>\n",
       "      <td>6.0</td>\n",
       "      <td>15.0</td>\n",
       "      <td>5.0</td>\n",
       "      <td>96.967177</td>\n",
       "      <td>0.0</td>\n",
       "    </tr>\n",
       "    <tr>\n",
       "      <th>3</th>\n",
       "      <td>3</td>\n",
       "      <td>60.0</td>\n",
       "      <td>77.000000</td>\n",
       "      <td>12.0</td>\n",
       "      <td>36.600000</td>\n",
       "      <td>3.0</td>\n",
       "      <td>6.0</td>\n",
       "      <td>13.0</td>\n",
       "      <td>4.0</td>\n",
       "      <td>96.967177</td>\n",
       "      <td>0.0</td>\n",
       "    </tr>\n",
       "    <tr>\n",
       "      <th>4</th>\n",
       "      <td>4</td>\n",
       "      <td>57.0</td>\n",
       "      <td>59.000000</td>\n",
       "      <td>12.0</td>\n",
       "      <td>35.555599</td>\n",
       "      <td>3.0</td>\n",
       "      <td>6.0</td>\n",
       "      <td>13.0</td>\n",
       "      <td>4.0</td>\n",
       "      <td>96.967177</td>\n",
       "      <td>0.0</td>\n",
       "    </tr>\n",
       "    <tr>\n",
       "      <th>5</th>\n",
       "      <td>5</td>\n",
       "      <td>55.0</td>\n",
       "      <td>68.000000</td>\n",
       "      <td>17.0</td>\n",
       "      <td>35.555599</td>\n",
       "      <td>3.0</td>\n",
       "      <td>6.0</td>\n",
       "      <td>13.0</td>\n",
       "      <td>4.0</td>\n",
       "      <td>96.967177</td>\n",
       "      <td>0.0</td>\n",
       "    </tr>\n",
       "    <tr>\n",
       "      <th>6</th>\n",
       "      <td>6</td>\n",
       "      <td>61.0</td>\n",
       "      <td>83.000000</td>\n",
       "      <td>16.0</td>\n",
       "      <td>35.555599</td>\n",
       "      <td>4.0</td>\n",
       "      <td>6.0</td>\n",
       "      <td>14.0</td>\n",
       "      <td>4.0</td>\n",
       "      <td>96.967177</td>\n",
       "      <td>0.0</td>\n",
       "    </tr>\n",
       "    <tr>\n",
       "      <th>7</th>\n",
       "      <td>7</td>\n",
       "      <td>64.0</td>\n",
       "      <td>73.000000</td>\n",
       "      <td>18.0</td>\n",
       "      <td>36.333302</td>\n",
       "      <td>4.0</td>\n",
       "      <td>6.0</td>\n",
       "      <td>14.0</td>\n",
       "      <td>4.0</td>\n",
       "      <td>96.967177</td>\n",
       "      <td>0.0</td>\n",
       "    </tr>\n",
       "    <tr>\n",
       "      <th>8</th>\n",
       "      <td>8</td>\n",
       "      <td>62.0</td>\n",
       "      <td>85.000000</td>\n",
       "      <td>14.0</td>\n",
       "      <td>36.333302</td>\n",
       "      <td>3.0</td>\n",
       "      <td>6.0</td>\n",
       "      <td>13.0</td>\n",
       "      <td>4.0</td>\n",
       "      <td>96.967177</td>\n",
       "      <td>0.0</td>\n",
       "    </tr>\n",
       "    <tr>\n",
       "      <th>9</th>\n",
       "      <td>9</td>\n",
       "      <td>88.0</td>\n",
       "      <td>59.000000</td>\n",
       "      <td>16.0</td>\n",
       "      <td>36.333302</td>\n",
       "      <td>4.0</td>\n",
       "      <td>6.0</td>\n",
       "      <td>14.0</td>\n",
       "      <td>4.0</td>\n",
       "      <td>96.967177</td>\n",
       "      <td>0.0</td>\n",
       "    </tr>\n",
       "    <tr>\n",
       "      <th>10</th>\n",
       "      <td>10</td>\n",
       "      <td>76.0</td>\n",
       "      <td>102.000000</td>\n",
       "      <td>16.0</td>\n",
       "      <td>35.777802</td>\n",
       "      <td>4.0</td>\n",
       "      <td>6.0</td>\n",
       "      <td>14.0</td>\n",
       "      <td>4.0</td>\n",
       "      <td>96.967177</td>\n",
       "      <td>0.0</td>\n",
       "    </tr>\n",
       "    <tr>\n",
       "      <th>11</th>\n",
       "      <td>11</td>\n",
       "      <td>82.0</td>\n",
       "      <td>71.000000</td>\n",
       "      <td>18.0</td>\n",
       "      <td>35.777802</td>\n",
       "      <td>4.0</td>\n",
       "      <td>6.0</td>\n",
       "      <td>14.0</td>\n",
       "      <td>4.0</td>\n",
       "      <td>96.967177</td>\n",
       "      <td>0.0</td>\n",
       "    </tr>\n",
       "    <tr>\n",
       "      <th>12</th>\n",
       "      <td>12</td>\n",
       "      <td>83.0</td>\n",
       "      <td>73.000000</td>\n",
       "      <td>10.0</td>\n",
       "      <td>35.777802</td>\n",
       "      <td>3.0</td>\n",
       "      <td>6.0</td>\n",
       "      <td>13.0</td>\n",
       "      <td>4.0</td>\n",
       "      <td>96.967177</td>\n",
       "      <td>0.0</td>\n",
       "    </tr>\n",
       "    <tr>\n",
       "      <th>13</th>\n",
       "      <td>13</td>\n",
       "      <td>83.0</td>\n",
       "      <td>66.000000</td>\n",
       "      <td>13.0</td>\n",
       "      <td>35.777802</td>\n",
       "      <td>3.0</td>\n",
       "      <td>6.0</td>\n",
       "      <td>13.0</td>\n",
       "      <td>4.0</td>\n",
       "      <td>96.967177</td>\n",
       "      <td>0.0</td>\n",
       "    </tr>\n",
       "    <tr>\n",
       "      <th>14</th>\n",
       "      <td>14</td>\n",
       "      <td>79.0</td>\n",
       "      <td>72.000000</td>\n",
       "      <td>17.0</td>\n",
       "      <td>35.555599</td>\n",
       "      <td>4.0</td>\n",
       "      <td>6.0</td>\n",
       "      <td>14.0</td>\n",
       "      <td>4.0</td>\n",
       "      <td>96.967177</td>\n",
       "      <td>0.0</td>\n",
       "    </tr>\n",
       "    <tr>\n",
       "      <th>15</th>\n",
       "      <td>15</td>\n",
       "      <td>70.0</td>\n",
       "      <td>60.000000</td>\n",
       "      <td>11.0</td>\n",
       "      <td>35.555599</td>\n",
       "      <td>4.0</td>\n",
       "      <td>6.0</td>\n",
       "      <td>14.0</td>\n",
       "      <td>4.0</td>\n",
       "      <td>96.967177</td>\n",
       "      <td>0.0</td>\n",
       "    </tr>\n",
       "    <tr>\n",
       "      <th>16</th>\n",
       "      <td>16</td>\n",
       "      <td>75.0</td>\n",
       "      <td>81.000000</td>\n",
       "      <td>16.0</td>\n",
       "      <td>35.555599</td>\n",
       "      <td>3.0</td>\n",
       "      <td>6.0</td>\n",
       "      <td>14.0</td>\n",
       "      <td>5.0</td>\n",
       "      <td>96.967177</td>\n",
       "      <td>0.0</td>\n",
       "    </tr>\n",
       "    <tr>\n",
       "      <th>17</th>\n",
       "      <td>17</td>\n",
       "      <td>77.0</td>\n",
       "      <td>72.000000</td>\n",
       "      <td>17.0</td>\n",
       "      <td>36.388901</td>\n",
       "      <td>3.0</td>\n",
       "      <td>6.0</td>\n",
       "      <td>14.0</td>\n",
       "      <td>5.0</td>\n",
       "      <td>96.967177</td>\n",
       "      <td>0.0</td>\n",
       "    </tr>\n",
       "    <tr>\n",
       "      <th>18</th>\n",
       "      <td>18</td>\n",
       "      <td>76.0</td>\n",
       "      <td>72.000000</td>\n",
       "      <td>11.0</td>\n",
       "      <td>36.388901</td>\n",
       "      <td>3.0</td>\n",
       "      <td>6.0</td>\n",
       "      <td>13.0</td>\n",
       "      <td>4.0</td>\n",
       "      <td>96.967177</td>\n",
       "      <td>0.0</td>\n",
       "    </tr>\n",
       "    <tr>\n",
       "      <th>19</th>\n",
       "      <td>19</td>\n",
       "      <td>76.0</td>\n",
       "      <td>72.000000</td>\n",
       "      <td>14.0</td>\n",
       "      <td>36.388901</td>\n",
       "      <td>3.0</td>\n",
       "      <td>6.0</td>\n",
       "      <td>13.0</td>\n",
       "      <td>4.0</td>\n",
       "      <td>96.967177</td>\n",
       "      <td>0.0</td>\n",
       "    </tr>\n",
       "    <tr>\n",
       "      <th>20</th>\n",
       "      <td>20</td>\n",
       "      <td>79.0</td>\n",
       "      <td>72.000000</td>\n",
       "      <td>10.0</td>\n",
       "      <td>36.388901</td>\n",
       "      <td>4.0</td>\n",
       "      <td>6.0</td>\n",
       "      <td>14.0</td>\n",
       "      <td>4.0</td>\n",
       "      <td>96.967177</td>\n",
       "      <td>0.0</td>\n",
       "    </tr>\n",
       "    <tr>\n",
       "      <th>21</th>\n",
       "      <td>21</td>\n",
       "      <td>78.0</td>\n",
       "      <td>78.000000</td>\n",
       "      <td>17.0</td>\n",
       "      <td>36.388901</td>\n",
       "      <td>3.0</td>\n",
       "      <td>6.0</td>\n",
       "      <td>10.0</td>\n",
       "      <td>1.0</td>\n",
       "      <td>96.967177</td>\n",
       "      <td>0.0</td>\n",
       "    </tr>\n",
       "    <tr>\n",
       "      <th>22</th>\n",
       "      <td>22</td>\n",
       "      <td>87.0</td>\n",
       "      <td>75.000000</td>\n",
       "      <td>14.0</td>\n",
       "      <td>36.388901</td>\n",
       "      <td>3.0</td>\n",
       "      <td>6.0</td>\n",
       "      <td>10.0</td>\n",
       "      <td>1.0</td>\n",
       "      <td>96.967177</td>\n",
       "      <td>0.0</td>\n",
       "    </tr>\n",
       "    <tr>\n",
       "      <th>23</th>\n",
       "      <td>23</td>\n",
       "      <td>81.0</td>\n",
       "      <td>85.000000</td>\n",
       "      <td>14.0</td>\n",
       "      <td>37.222198</td>\n",
       "      <td>4.0</td>\n",
       "      <td>6.0</td>\n",
       "      <td>14.0</td>\n",
       "      <td>4.0</td>\n",
       "      <td>96.967177</td>\n",
       "      <td>0.0</td>\n",
       "    </tr>\n",
       "    <tr>\n",
       "      <th>0</th>\n",
       "      <td>0</td>\n",
       "      <td>64.0</td>\n",
       "      <td>62.000000</td>\n",
       "      <td>25.0</td>\n",
       "      <td>36.600000</td>\n",
       "      <td>4.0</td>\n",
       "      <td>6.0</td>\n",
       "      <td>15.0</td>\n",
       "      <td>5.0</td>\n",
       "      <td>77.331507</td>\n",
       "      <td>0.0</td>\n",
       "    </tr>\n",
       "    <tr>\n",
       "      <th>1</th>\n",
       "      <td>1</td>\n",
       "      <td>70.0</td>\n",
       "      <td>63.000000</td>\n",
       "      <td>23.0</td>\n",
       "      <td>36.600000</td>\n",
       "      <td>4.0</td>\n",
       "      <td>6.0</td>\n",
       "      <td>15.0</td>\n",
       "      <td>5.0</td>\n",
       "      <td>77.331507</td>\n",
       "      <td>0.0</td>\n",
       "    </tr>\n",
       "  </tbody>\n",
       "</table>\n",
       "</div>"
      ],
      "text/plain": [
       "    Hours  HRATE         MAP  RESP_RATE     TEMP_C  gcs_e  gcs_m  \\\n",
       "0       0   81.0   67.000000       23.0  36.600000    4.0    6.0   \n",
       "1       1   76.0   62.666698       21.0  36.333302    4.0    6.0   \n",
       "2       2   79.0   65.666702       20.0  36.333302    4.0    6.0   \n",
       "3       3   72.0   65.000000       20.0  36.222198    4.0    6.0   \n",
       "4       4   74.0   71.000000       21.0  36.222198    4.0    6.0   \n",
       "5       5   78.0   67.333298       20.0  36.388901    4.0    6.0   \n",
       "6       6   84.0   64.000000       21.0  36.388901    4.0    6.0   \n",
       "7       7   95.0   65.666702       20.0  36.388901    4.0    6.0   \n",
       "8       8   94.0   62.000000       19.0  37.055599    4.0    6.0   \n",
       "9       9  108.0   75.000000       21.0  37.055599    4.0    6.0   \n",
       "10     10   96.0   67.333298       18.0  37.055599    4.0    6.0   \n",
       "11     11   93.0   62.000000       19.0  37.055599    4.0    6.0   \n",
       "12     12   90.0   57.666698       18.0  37.055599    4.0    6.0   \n",
       "13     13   87.0   70.000000       20.0  37.055599    4.0    6.0   \n",
       "14     14   88.0   69.666702       14.0  37.000000    4.0    6.0   \n",
       "15     15  102.0   69.666702       22.0  37.000000    4.0    6.0   \n",
       "16     16   99.0   70.000000       22.0  37.000000    4.0    6.0   \n",
       "17     17  105.0   63.666698       16.0  37.000000    3.0    6.0   \n",
       "18     18   81.0   69.333298       16.0  36.888901    3.0    5.0   \n",
       "19     19   85.0   86.000000       15.0  36.888901    3.0    5.0   \n",
       "20     20   89.0   70.000000       18.0  36.888901    3.0    4.0   \n",
       "21     21   79.0   68.000000       16.0  36.888901    3.0    4.0   \n",
       "22     22   78.0   65.666702       18.0  36.888901    3.0    5.0   \n",
       "23     23   74.0   68.333298       14.0  36.888901    3.0    5.0   \n",
       "0       0   60.0   74.000000       15.0  36.600000    4.0    6.0   \n",
       "1       1   59.0   73.000000       13.0  36.600000    3.0    6.0   \n",
       "2       2   60.0   78.000000       10.0  36.600000    4.0    6.0   \n",
       "3       3   60.0   77.000000       12.0  36.600000    3.0    6.0   \n",
       "4       4   57.0   59.000000       12.0  35.555599    3.0    6.0   \n",
       "5       5   55.0   68.000000       17.0  35.555599    3.0    6.0   \n",
       "6       6   61.0   83.000000       16.0  35.555599    4.0    6.0   \n",
       "7       7   64.0   73.000000       18.0  36.333302    4.0    6.0   \n",
       "8       8   62.0   85.000000       14.0  36.333302    3.0    6.0   \n",
       "9       9   88.0   59.000000       16.0  36.333302    4.0    6.0   \n",
       "10     10   76.0  102.000000       16.0  35.777802    4.0    6.0   \n",
       "11     11   82.0   71.000000       18.0  35.777802    4.0    6.0   \n",
       "12     12   83.0   73.000000       10.0  35.777802    3.0    6.0   \n",
       "13     13   83.0   66.000000       13.0  35.777802    3.0    6.0   \n",
       "14     14   79.0   72.000000       17.0  35.555599    4.0    6.0   \n",
       "15     15   70.0   60.000000       11.0  35.555599    4.0    6.0   \n",
       "16     16   75.0   81.000000       16.0  35.555599    3.0    6.0   \n",
       "17     17   77.0   72.000000       17.0  36.388901    3.0    6.0   \n",
       "18     18   76.0   72.000000       11.0  36.388901    3.0    6.0   \n",
       "19     19   76.0   72.000000       14.0  36.388901    3.0    6.0   \n",
       "20     20   79.0   72.000000       10.0  36.388901    4.0    6.0   \n",
       "21     21   78.0   78.000000       17.0  36.388901    3.0    6.0   \n",
       "22     22   87.0   75.000000       14.0  36.388901    3.0    6.0   \n",
       "23     23   81.0   85.000000       14.0  37.222198    4.0    6.0   \n",
       "0       0   64.0   62.000000       25.0  36.600000    4.0    6.0   \n",
       "1       1   70.0   63.000000       23.0  36.600000    4.0    6.0   \n",
       "\n",
       "    gcs_total_carevue  gcs_v        AGE  PRELOS  \n",
       "0                15.0    5.0  36.213699     0.0  \n",
       "1                15.0    5.0  36.213699     0.0  \n",
       "2                15.0    5.0  36.213699     0.0  \n",
       "3                15.0    5.0  36.213699     0.0  \n",
       "4                15.0    5.0  36.213699     0.0  \n",
       "5                15.0    5.0  36.213699     0.0  \n",
       "6                15.0    5.0  36.213699     0.0  \n",
       "7                15.0    5.0  36.213699     0.0  \n",
       "8                14.0    4.0  36.213699     0.0  \n",
       "9                14.0    4.0  36.213699     0.0  \n",
       "10               14.0    4.0  36.213699     0.0  \n",
       "11               14.0    4.0  36.213699     0.0  \n",
       "12               14.0    4.0  36.213699     0.0  \n",
       "13               14.0    4.0  36.213699     0.0  \n",
       "14               14.0    4.0  36.213699     0.0  \n",
       "15               14.0    4.0  36.213699     0.0  \n",
       "16               14.0    4.0  36.213699     0.0  \n",
       "17               13.0    4.0  36.213699     0.0  \n",
       "18               12.0    4.0  36.213699     0.0  \n",
       "19               12.0    4.0  36.213699     0.0  \n",
       "20               11.0    4.0  36.213699     0.0  \n",
       "21               11.0    4.0  36.213699     0.0  \n",
       "22               12.0    4.0  36.213699     0.0  \n",
       "23               12.0    4.0  36.213699     0.0  \n",
       "0                15.0    5.0  96.967177     0.0  \n",
       "1                14.0    5.0  96.967177     0.0  \n",
       "2                15.0    5.0  96.967177     0.0  \n",
       "3                13.0    4.0  96.967177     0.0  \n",
       "4                13.0    4.0  96.967177     0.0  \n",
       "5                13.0    4.0  96.967177     0.0  \n",
       "6                14.0    4.0  96.967177     0.0  \n",
       "7                14.0    4.0  96.967177     0.0  \n",
       "8                13.0    4.0  96.967177     0.0  \n",
       "9                14.0    4.0  96.967177     0.0  \n",
       "10               14.0    4.0  96.967177     0.0  \n",
       "11               14.0    4.0  96.967177     0.0  \n",
       "12               13.0    4.0  96.967177     0.0  \n",
       "13               13.0    4.0  96.967177     0.0  \n",
       "14               14.0    4.0  96.967177     0.0  \n",
       "15               14.0    4.0  96.967177     0.0  \n",
       "16               14.0    5.0  96.967177     0.0  \n",
       "17               14.0    5.0  96.967177     0.0  \n",
       "18               13.0    4.0  96.967177     0.0  \n",
       "19               13.0    4.0  96.967177     0.0  \n",
       "20               14.0    4.0  96.967177     0.0  \n",
       "21               10.0    1.0  96.967177     0.0  \n",
       "22               10.0    1.0  96.967177     0.0  \n",
       "23               14.0    4.0  96.967177     0.0  \n",
       "0                15.0    5.0  77.331507     0.0  \n",
       "1                15.0    5.0  77.331507     0.0  "
      ]
     },
     "execution_count": 99,
     "metadata": {},
     "output_type": "execute_result"
    }
   ],
   "source": [
    "result_OneBigDataset_test.head(50)"
   ]
  },
  {
   "cell_type": "code",
   "execution_count": 100,
   "metadata": {},
   "outputs": [
    {
     "data": {
      "text/plain": [
       "(3236, 24, 10)"
      ]
     },
     "execution_count": 100,
     "metadata": {},
     "output_type": "execute_result"
    }
   ],
   "source": [
    "prueba_test = np.array(result_OneBigDataset_test.drop(['Hours'],axis=1)).reshape(y_true.shape[0], 24, 10)\n",
    "prueba_test.shape"
   ]
  },
  {
   "cell_type": "code",
   "execution_count": 101,
   "metadata": {},
   "outputs": [],
   "source": [
    "result_OneBigDataset_test.to_csv('/data/codi/OASIS/timesSeriesv2_cohorte/data/mortality/result_OneBigDataset_test.csv',index=False)\n",
    "y_true.to_csv('/data/codi/OASIS/timesSeriesv2_cohorte/data/mortality/result_OneBigDataset_y_true_test.csv',index=False, header=['y_true'])"
   ]
  },
  {
   "cell_type": "code",
   "execution_count": 102,
   "metadata": {},
   "outputs": [],
   "source": [
    "result_OneBigDataset_test = pd.read_csv('/data/codi/OASIS/timesSeriesv2_cohorte/data/mortality/result_OneBigDataset_test.csv')\n",
    "y_true_test = pd.read_csv('/data/codi/OASIS/timesSeriesv2_cohorte/data/mortality/result_OneBigDataset_y_true_test.csv')"
   ]
  },
  {
   "cell_type": "code",
   "execution_count": 103,
   "metadata": {},
   "outputs": [
    {
     "data": {
      "text/plain": [
       "Hours                0\n",
       "HRATE                0\n",
       "MAP                  0\n",
       "RESP_RATE            0\n",
       "TEMP_C               0\n",
       "gcs_e                0\n",
       "gcs_m                0\n",
       "gcs_total_carevue    0\n",
       "gcs_v                0\n",
       "AGE                  0\n",
       "PRELOS               0\n",
       "dtype: int64"
      ]
     },
     "execution_count": 103,
     "metadata": {},
     "output_type": "execute_result"
    }
   ],
   "source": [
    "result_OneBigDataset_test.isnull().sum()"
   ]
  }
 ],
 "metadata": {
  "kernelspec": {
   "display_name": "Python 3 (ipykernel)",
   "language": "python",
   "name": "python3"
  },
  "language_info": {
   "codemirror_mode": {
    "name": "ipython",
    "version": 3
   },
   "file_extension": ".py",
   "mimetype": "text/x-python",
   "name": "python",
   "nbconvert_exporter": "python",
   "pygments_lexer": "ipython3",
   "version": "3.9.2"
  }
 },
 "nbformat": 4,
 "nbformat_minor": 2
}
