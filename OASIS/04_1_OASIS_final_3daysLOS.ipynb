{
 "cells": [
  {
   "cell_type": "markdown",
   "metadata": {},
   "source": [
    "### En este notebook se entrenan diferentes modelos predictivos usando la puntuación OASIS para predecir si una estancia en UCI va a ser > 3 días o no. Luego se evalua el rendimiento de los modelos con ACC, AUC-ROC, AUC-PR, confusion matrix....\n",
    "\n",
    "Obs. Ejecute primero '03calculateOASIS.ipynb' para obtener 'result_24_horas_final.csv'"
   ]
  },
  {
   "cell_type": "code",
   "execution_count": 1,
   "metadata": {
    "id": "Fu-sdl9qh_1c"
   },
   "outputs": [],
   "source": [
    "import pandas as pd\n",
    "import numpy as np\n",
    "import matplotlib.pyplot as plt\n",
    "import matplotlib\n",
    "import pylab\n",
    "import seaborn as sns\n",
    "import csv\n",
    "from sklearn.preprocessing import StandardScaler\n",
    "from sklearn.ensemble import RandomForestClassifier\n",
    "from sklearn.model_selection import KFold, cross_val_score\n",
    "from sklearn import metrics\n",
    "from sklearn.metrics import confusion_matrix\n",
    "from sklearn.model_selection import cross_val_predict\n",
    "from sklearn.metrics import classification_report\n",
    "from sklearn.pipeline import make_pipeline\n",
    "from sklearn.linear_model import LogisticRegression\n",
    "from sklearn.model_selection import train_test_split\n",
    "import os\n",
    "\n",
    "matplotlib.style.use('ggplot')"
   ]
  },
  {
   "cell_type": "code",
   "execution_count": 2,
   "metadata": {},
   "outputs": [],
   "source": [
    "result_24_horas_final=pd.read_csv('result_24_horas_final.csv')"
   ]
  },
  {
   "cell_type": "code",
   "execution_count": 3,
   "metadata": {},
   "outputs": [
    {
     "data": {
      "text/plain": [
       "Unnamed: 0.1          0\n",
       "Unnamed: 0            0\n",
       "SUBJECT_ID            0\n",
       "HADM_ID               0\n",
       "ADMITTIME             0\n",
       "ADMISSION_TYPE        0\n",
       "ICUSTAY_ID            0\n",
       "INTIME                0\n",
       "LOS                  10\n",
       "AGE                   0\n",
       "PRELOS                0\n",
       "OASIS             13655\n",
       "OASIS_NONAN           0\n",
       "dtype: int64"
      ]
     },
     "execution_count": 3,
     "metadata": {},
     "output_type": "execute_result"
    }
   ],
   "source": [
    "result_24_horas_final.isnull().sum()"
   ]
  },
  {
   "cell_type": "code",
   "execution_count": 4,
   "metadata": {},
   "outputs": [
    {
     "data": {
      "text/plain": [
       "Unnamed: 0.1          0\n",
       "Unnamed: 0            0\n",
       "SUBJECT_ID            0\n",
       "HADM_ID               0\n",
       "ADMITTIME             0\n",
       "ADMISSION_TYPE        0\n",
       "ICUSTAY_ID            0\n",
       "INTIME                0\n",
       "LOS                   0\n",
       "AGE                   0\n",
       "PRELOS                0\n",
       "OASIS             13645\n",
       "OASIS_NONAN           0\n",
       "dtype: int64"
      ]
     },
     "execution_count": 4,
     "metadata": {},
     "output_type": "execute_result"
    }
   ],
   "source": [
    "result_24_horas_final = result_24_horas_final[result_24_horas_final['LOS'].notnull()] \n",
    "result_24_horas_final.isnull().sum()"
   ]
  },
  {
   "cell_type": "code",
   "execution_count": 5,
   "metadata": {},
   "outputs": [],
   "source": [
    "#Excluir admissions < 18 years old, ya que tendran medidas fisiológicas distintas de las de los adultos \n",
    "result_24_horas_final = result_24_horas_final[~(result_24_horas_final['AGE'] < 18)]"
   ]
  },
  {
   "cell_type": "code",
   "execution_count": 6,
   "metadata": {
    "colab": {
     "base_uri": "https://localhost:8080/",
     "height": 363
    },
    "id": "OxPFHpuvxB_v",
    "outputId": "3cd61981-1990-49bb-9d38-d7f0141f89c8"
   },
   "outputs": [
    {
     "name": "stdout",
     "output_type": "stream",
     "text": [
      "(53329, 13)\n",
      "unique SUBJECT_ID: 38510\n",
      "unique HADM_ID   : 49692\n",
      "unique ICUSTAY_ID   : 53329\n"
     ]
    },
    {
     "data": {
      "text/html": [
       "<div>\n",
       "<style scoped>\n",
       "    .dataframe tbody tr th:only-of-type {\n",
       "        vertical-align: middle;\n",
       "    }\n",
       "\n",
       "    .dataframe tbody tr th {\n",
       "        vertical-align: top;\n",
       "    }\n",
       "\n",
       "    .dataframe thead th {\n",
       "        text-align: right;\n",
       "    }\n",
       "</style>\n",
       "<table border=\"1\" class=\"dataframe\">\n",
       "  <thead>\n",
       "    <tr style=\"text-align: right;\">\n",
       "      <th></th>\n",
       "      <th>Unnamed: 0.1</th>\n",
       "      <th>Unnamed: 0</th>\n",
       "      <th>SUBJECT_ID</th>\n",
       "      <th>HADM_ID</th>\n",
       "      <th>ADMITTIME</th>\n",
       "      <th>ADMISSION_TYPE</th>\n",
       "      <th>ICUSTAY_ID</th>\n",
       "      <th>INTIME</th>\n",
       "      <th>LOS</th>\n",
       "      <th>AGE</th>\n",
       "      <th>PRELOS</th>\n",
       "      <th>OASIS</th>\n",
       "      <th>OASIS_NONAN</th>\n",
       "    </tr>\n",
       "  </thead>\n",
       "  <tbody>\n",
       "    <tr>\n",
       "      <th>1</th>\n",
       "      <td>1</td>\n",
       "      <td>0</td>\n",
       "      <td>1472</td>\n",
       "      <td>161232</td>\n",
       "      <td>2107-09-26 15:46:00</td>\n",
       "      <td>EMERGENCY</td>\n",
       "      <td>244372</td>\n",
       "      <td>2107-10-01 21:58:11</td>\n",
       "      <td>0.8297</td>\n",
       "      <td>80.646575</td>\n",
       "      <td>126.2</td>\n",
       "      <td>35.0</td>\n",
       "      <td>35.0</td>\n",
       "    </tr>\n",
       "    <tr>\n",
       "      <th>2</th>\n",
       "      <td>2</td>\n",
       "      <td>0</td>\n",
       "      <td>81875</td>\n",
       "      <td>143469</td>\n",
       "      <td>2193-09-03 19:30:00</td>\n",
       "      <td>EMERGENCY</td>\n",
       "      <td>238281</td>\n",
       "      <td>2193-09-03 19:30:45</td>\n",
       "      <td>1.0088</td>\n",
       "      <td>77.698630</td>\n",
       "      <td>0.0</td>\n",
       "      <td>24.0</td>\n",
       "      <td>24.0</td>\n",
       "    </tr>\n",
       "    <tr>\n",
       "      <th>4</th>\n",
       "      <td>4</td>\n",
       "      <td>0</td>\n",
       "      <td>56209</td>\n",
       "      <td>117730</td>\n",
       "      <td>2179-09-04 08:18:00</td>\n",
       "      <td>EMERGENCY</td>\n",
       "      <td>228215</td>\n",
       "      <td>2179-09-04 08:19:18</td>\n",
       "      <td>3.5205</td>\n",
       "      <td>18.254795</td>\n",
       "      <td>0.0</td>\n",
       "      <td>42.0</td>\n",
       "      <td>42.0</td>\n",
       "    </tr>\n",
       "    <tr>\n",
       "      <th>5</th>\n",
       "      <td>5</td>\n",
       "      <td>0</td>\n",
       "      <td>5056</td>\n",
       "      <td>156002</td>\n",
       "      <td>2171-05-01 17:29:00</td>\n",
       "      <td>EMERGENCY</td>\n",
       "      <td>210815</td>\n",
       "      <td>2171-05-16 09:39:01</td>\n",
       "      <td>5.1987</td>\n",
       "      <td>39.641096</td>\n",
       "      <td>352.2</td>\n",
       "      <td>NaN</td>\n",
       "      <td>29.0</td>\n",
       "    </tr>\n",
       "    <tr>\n",
       "      <th>6</th>\n",
       "      <td>6</td>\n",
       "      <td>0</td>\n",
       "      <td>19228</td>\n",
       "      <td>138019</td>\n",
       "      <td>2193-07-23 18:49:00</td>\n",
       "      <td>EMERGENCY</td>\n",
       "      <td>240880</td>\n",
       "      <td>2193-07-26 17:57:04</td>\n",
       "      <td>2.8694</td>\n",
       "      <td>51.241096</td>\n",
       "      <td>71.1</td>\n",
       "      <td>19.0</td>\n",
       "      <td>19.0</td>\n",
       "    </tr>\n",
       "  </tbody>\n",
       "</table>\n",
       "</div>"
      ],
      "text/plain": [
       "   Unnamed: 0.1  Unnamed: 0  SUBJECT_ID  HADM_ID            ADMITTIME  \\\n",
       "1             1           0        1472   161232  2107-09-26 15:46:00   \n",
       "2             2           0       81875   143469  2193-09-03 19:30:00   \n",
       "4             4           0       56209   117730  2179-09-04 08:18:00   \n",
       "5             5           0        5056   156002  2171-05-01 17:29:00   \n",
       "6             6           0       19228   138019  2193-07-23 18:49:00   \n",
       "\n",
       "  ADMISSION_TYPE  ICUSTAY_ID               INTIME     LOS        AGE  PRELOS  \\\n",
       "1      EMERGENCY      244372  2107-10-01 21:58:11  0.8297  80.646575   126.2   \n",
       "2      EMERGENCY      238281  2193-09-03 19:30:45  1.0088  77.698630     0.0   \n",
       "4      EMERGENCY      228215  2179-09-04 08:19:18  3.5205  18.254795     0.0   \n",
       "5      EMERGENCY      210815  2171-05-16 09:39:01  5.1987  39.641096   352.2   \n",
       "6      EMERGENCY      240880  2193-07-26 17:57:04  2.8694  51.241096    71.1   \n",
       "\n",
       "   OASIS  OASIS_NONAN  \n",
       "1   35.0         35.0  \n",
       "2   24.0         24.0  \n",
       "4   42.0         42.0  \n",
       "5    NaN         29.0  \n",
       "6   19.0         19.0  "
      ]
     },
     "execution_count": 6,
     "metadata": {},
     "output_type": "execute_result"
    }
   ],
   "source": [
    "print(result_24_horas_final.shape)\n",
    "print('unique SUBJECT_ID:', result_24_horas_final.SUBJECT_ID.nunique())\n",
    "print('unique HADM_ID   :', result_24_horas_final.HADM_ID.nunique())\n",
    "print('unique ICUSTAY_ID   :', result_24_horas_final.ICUSTAY_ID.nunique())\n",
    "result_24_horas_final.head()"
   ]
  },
  {
   "cell_type": "markdown",
   "metadata": {
    "id": "Z8gbYijpubHL"
   },
   "source": [
    "Duration for each single icustay_id is the LOS measured in days. LOS_C are computed by binarization."
   ]
  },
  {
   "cell_type": "code",
   "execution_count": 7,
   "metadata": {
    "colab": {
     "base_uri": "https://localhost:8080/",
     "height": 310
    },
    "id": "6Ix6jPQgyA9y",
    "outputId": "0d343126-cfb6-46d4-ebee-b22e3f05af91"
   },
   "outputs": [
    {
     "name": "stdout",
     "output_type": "stream",
     "text": [
      "(53329, 13)\n"
     ]
    },
    {
     "data": {
      "text/html": [
       "<div>\n",
       "<style scoped>\n",
       "    .dataframe tbody tr th:only-of-type {\n",
       "        vertical-align: middle;\n",
       "    }\n",
       "\n",
       "    .dataframe tbody tr th {\n",
       "        vertical-align: top;\n",
       "    }\n",
       "\n",
       "    .dataframe thead th {\n",
       "        text-align: right;\n",
       "    }\n",
       "</style>\n",
       "<table border=\"1\" class=\"dataframe\">\n",
       "  <thead>\n",
       "    <tr style=\"text-align: right;\">\n",
       "      <th></th>\n",
       "      <th>Unnamed: 0.1</th>\n",
       "      <th>Unnamed: 0</th>\n",
       "      <th>SUBJECT_ID</th>\n",
       "      <th>HADM_ID</th>\n",
       "      <th>ADMITTIME</th>\n",
       "      <th>ADMISSION_TYPE</th>\n",
       "      <th>ICUSTAY_ID</th>\n",
       "      <th>INTIME</th>\n",
       "      <th>LOS</th>\n",
       "      <th>AGE</th>\n",
       "      <th>PRELOS</th>\n",
       "      <th>OASIS</th>\n",
       "      <th>OASIS_NONAN</th>\n",
       "    </tr>\n",
       "  </thead>\n",
       "  <tbody>\n",
       "    <tr>\n",
       "      <th>1</th>\n",
       "      <td>1</td>\n",
       "      <td>0</td>\n",
       "      <td>1472</td>\n",
       "      <td>161232</td>\n",
       "      <td>2107-09-26 15:46:00</td>\n",
       "      <td>EMERGENCY</td>\n",
       "      <td>244372</td>\n",
       "      <td>2107-10-01 21:58:11</td>\n",
       "      <td>0</td>\n",
       "      <td>80.646575</td>\n",
       "      <td>126.2</td>\n",
       "      <td>35.0</td>\n",
       "      <td>35.0</td>\n",
       "    </tr>\n",
       "    <tr>\n",
       "      <th>2</th>\n",
       "      <td>2</td>\n",
       "      <td>0</td>\n",
       "      <td>81875</td>\n",
       "      <td>143469</td>\n",
       "      <td>2193-09-03 19:30:00</td>\n",
       "      <td>EMERGENCY</td>\n",
       "      <td>238281</td>\n",
       "      <td>2193-09-03 19:30:45</td>\n",
       "      <td>0</td>\n",
       "      <td>77.698630</td>\n",
       "      <td>0.0</td>\n",
       "      <td>24.0</td>\n",
       "      <td>24.0</td>\n",
       "    </tr>\n",
       "    <tr>\n",
       "      <th>4</th>\n",
       "      <td>4</td>\n",
       "      <td>0</td>\n",
       "      <td>56209</td>\n",
       "      <td>117730</td>\n",
       "      <td>2179-09-04 08:18:00</td>\n",
       "      <td>EMERGENCY</td>\n",
       "      <td>228215</td>\n",
       "      <td>2179-09-04 08:19:18</td>\n",
       "      <td>1</td>\n",
       "      <td>18.254795</td>\n",
       "      <td>0.0</td>\n",
       "      <td>42.0</td>\n",
       "      <td>42.0</td>\n",
       "    </tr>\n",
       "    <tr>\n",
       "      <th>5</th>\n",
       "      <td>5</td>\n",
       "      <td>0</td>\n",
       "      <td>5056</td>\n",
       "      <td>156002</td>\n",
       "      <td>2171-05-01 17:29:00</td>\n",
       "      <td>EMERGENCY</td>\n",
       "      <td>210815</td>\n",
       "      <td>2171-05-16 09:39:01</td>\n",
       "      <td>1</td>\n",
       "      <td>39.641096</td>\n",
       "      <td>352.2</td>\n",
       "      <td>NaN</td>\n",
       "      <td>29.0</td>\n",
       "    </tr>\n",
       "    <tr>\n",
       "      <th>6</th>\n",
       "      <td>6</td>\n",
       "      <td>0</td>\n",
       "      <td>19228</td>\n",
       "      <td>138019</td>\n",
       "      <td>2193-07-23 18:49:00</td>\n",
       "      <td>EMERGENCY</td>\n",
       "      <td>240880</td>\n",
       "      <td>2193-07-26 17:57:04</td>\n",
       "      <td>0</td>\n",
       "      <td>51.241096</td>\n",
       "      <td>71.1</td>\n",
       "      <td>19.0</td>\n",
       "      <td>19.0</td>\n",
       "    </tr>\n",
       "  </tbody>\n",
       "</table>\n",
       "</div>"
      ],
      "text/plain": [
       "   Unnamed: 0.1  Unnamed: 0  SUBJECT_ID  HADM_ID            ADMITTIME  \\\n",
       "1             1           0        1472   161232  2107-09-26 15:46:00   \n",
       "2             2           0       81875   143469  2193-09-03 19:30:00   \n",
       "4             4           0       56209   117730  2179-09-04 08:18:00   \n",
       "5             5           0        5056   156002  2171-05-01 17:29:00   \n",
       "6             6           0       19228   138019  2193-07-23 18:49:00   \n",
       "\n",
       "  ADMISSION_TYPE  ICUSTAY_ID               INTIME  LOS        AGE  PRELOS  \\\n",
       "1      EMERGENCY      244372  2107-10-01 21:58:11    0  80.646575   126.2   \n",
       "2      EMERGENCY      238281  2193-09-03 19:30:45    0  77.698630     0.0   \n",
       "4      EMERGENCY      228215  2179-09-04 08:19:18    1  18.254795     0.0   \n",
       "5      EMERGENCY      210815  2171-05-16 09:39:01    1  39.641096   352.2   \n",
       "6      EMERGENCY      240880  2193-07-26 17:57:04    0  51.241096    71.1   \n",
       "\n",
       "   OASIS  OASIS_NONAN  \n",
       "1   35.0         35.0  \n",
       "2   24.0         24.0  \n",
       "4   42.0         42.0  \n",
       "5    NaN         29.0  \n",
       "6   19.0         19.0  "
      ]
     },
     "execution_count": 7,
     "metadata": {},
     "output_type": "execute_result"
    }
   ],
   "source": [
    "result_24_horas_final['LOS']=np.where(result_24_horas_final['LOS']>3, 1, 0) # 0 \"estancia corta\", 1 \"estancia larga\"\n",
    "print(result_24_horas_final.shape)\n",
    "result_24_horas_final.head()"
   ]
  },
  {
   "cell_type": "markdown",
   "metadata": {
    "id": "9KMPFRXvcfDv"
   },
   "source": [
    "### Predecir en 24  horas  (considerando los oasis_variable nan como 0.0 (usar np.nansum), i.e. en rango 'normal') + mismo cohorte que benchmark"
   ]
  },
  {
   "cell_type": "code",
   "execution_count": 8,
   "metadata": {
    "id": "M4xRwl69dzat"
   },
   "outputs": [
    {
     "data": {
      "text/html": [
       "<div>\n",
       "<style scoped>\n",
       "    .dataframe tbody tr th:only-of-type {\n",
       "        vertical-align: middle;\n",
       "    }\n",
       "\n",
       "    .dataframe tbody tr th {\n",
       "        vertical-align: top;\n",
       "    }\n",
       "\n",
       "    .dataframe thead th {\n",
       "        text-align: right;\n",
       "    }\n",
       "</style>\n",
       "<table border=\"1\" class=\"dataframe\">\n",
       "  <thead>\n",
       "    <tr style=\"text-align: right;\">\n",
       "      <th></th>\n",
       "      <th>LOS</th>\n",
       "      <th>OASIS_NONAN</th>\n",
       "      <th>ICUSTAY_ID</th>\n",
       "    </tr>\n",
       "  </thead>\n",
       "  <tbody>\n",
       "    <tr>\n",
       "      <th>1</th>\n",
       "      <td>0</td>\n",
       "      <td>35.0</td>\n",
       "      <td>244372</td>\n",
       "    </tr>\n",
       "    <tr>\n",
       "      <th>2</th>\n",
       "      <td>0</td>\n",
       "      <td>24.0</td>\n",
       "      <td>238281</td>\n",
       "    </tr>\n",
       "    <tr>\n",
       "      <th>4</th>\n",
       "      <td>1</td>\n",
       "      <td>42.0</td>\n",
       "      <td>228215</td>\n",
       "    </tr>\n",
       "    <tr>\n",
       "      <th>5</th>\n",
       "      <td>1</td>\n",
       "      <td>29.0</td>\n",
       "      <td>210815</td>\n",
       "    </tr>\n",
       "    <tr>\n",
       "      <th>6</th>\n",
       "      <td>0</td>\n",
       "      <td>19.0</td>\n",
       "      <td>240880</td>\n",
       "    </tr>\n",
       "  </tbody>\n",
       "</table>\n",
       "</div>"
      ],
      "text/plain": [
       "   LOS  OASIS_NONAN  ICUSTAY_ID\n",
       "1    0         35.0      244372\n",
       "2    0         24.0      238281\n",
       "4    1         42.0      228215\n",
       "5    1         29.0      210815\n",
       "6    0         19.0      240880"
      ]
     },
     "execution_count": 8,
     "metadata": {},
     "output_type": "execute_result"
    }
   ],
   "source": [
    "result_24_horas_nonnan=result_24_horas_final[['LOS','OASIS_NONAN','ICUSTAY_ID']]\n",
    "result_24_horas_nonnan.head()"
   ]
  },
  {
   "cell_type": "code",
   "execution_count": 9,
   "metadata": {
    "colab": {
     "base_uri": "https://localhost:8080/"
    },
    "id": "pd2bVSgoBnzg",
    "outputId": "54251475-7e6c-41b6-c1df-210ddf5e6b30"
   },
   "outputs": [
    {
     "data": {
      "text/plain": [
       "0    33797\n",
       "1    19532\n",
       "Name: LOS, dtype: int64"
      ]
     },
     "execution_count": 9,
     "metadata": {},
     "output_type": "execute_result"
    }
   ],
   "source": [
    "result_24_horas_nonnan['LOS'].value_counts()"
   ]
  },
  {
   "cell_type": "code",
   "execution_count": 10,
   "metadata": {
    "id": "MuWBVtzGeEEm"
   },
   "outputs": [],
   "source": [
    "#from sklearn.model_selection import train_test_split\n",
    "#from sklearn import preprocessing\n",
    "#X_train, X_test, y_train, y_test = train_test_split(X, y, test_size=0.15, random_state=42)http://localhost:8888/notebooks/TFG/code/final_versiones_OASIS_mismoCohorteBenchmark/OASIS_final_3daysLOS.ipynb#"
   ]
  },
  {
   "cell_type": "markdown",
   "metadata": {},
   "source": [
    "Normalmente basta con train_test_split para tener conjunto de entrenamiento (Train set) y conjunto de prueba (Test set). Pero como queremos comparar con otros modelos, recomienda mantener un mismo Test set. Por lo tanto, usamos ficheros llamados 'listfilexx' para poder rastrear el Test/Train set. (obs. estas listfiles se obtienen ejecutando create_losxdays_icustayidListfiles.py)"
   ]
  },
  {
   "cell_type": "code",
   "execution_count": 11,
   "metadata": {},
   "outputs": [
    {
     "name": "stdout",
     "output_type": "stream",
     "text": [
      "(5282, 3)\n"
     ]
    },
    {
     "data": {
      "text/html": [
       "<div>\n",
       "<style scoped>\n",
       "    .dataframe tbody tr th:only-of-type {\n",
       "        vertical-align: middle;\n",
       "    }\n",
       "\n",
       "    .dataframe tbody tr th {\n",
       "        vertical-align: top;\n",
       "    }\n",
       "\n",
       "    .dataframe thead th {\n",
       "        text-align: right;\n",
       "    }\n",
       "</style>\n",
       "<table border=\"1\" class=\"dataframe\">\n",
       "  <thead>\n",
       "    <tr style=\"text-align: right;\">\n",
       "      <th></th>\n",
       "      <th>stay</th>\n",
       "      <th>y_true</th>\n",
       "      <th>ICUSTAY_ID</th>\n",
       "    </tr>\n",
       "  </thead>\n",
       "  <tbody>\n",
       "    <tr>\n",
       "      <th>0</th>\n",
       "      <td>10000_episode1_timeseries.csv</td>\n",
       "      <td>0</td>\n",
       "      <td>247610</td>\n",
       "    </tr>\n",
       "    <tr>\n",
       "      <th>1</th>\n",
       "      <td>10011_episode1_timeseries.csv</td>\n",
       "      <td>1</td>\n",
       "      <td>232110</td>\n",
       "    </tr>\n",
       "    <tr>\n",
       "      <th>2</th>\n",
       "      <td>10012_episode1_timeseries.csv</td>\n",
       "      <td>0</td>\n",
       "      <td>277998</td>\n",
       "    </tr>\n",
       "    <tr>\n",
       "      <th>3</th>\n",
       "      <td>10019_episode1_timeseries.csv</td>\n",
       "      <td>0</td>\n",
       "      <td>228977</td>\n",
       "    </tr>\n",
       "    <tr>\n",
       "      <th>4</th>\n",
       "      <td>10026_episode1_timeseries.csv</td>\n",
       "      <td>0</td>\n",
       "      <td>277021</td>\n",
       "    </tr>\n",
       "  </tbody>\n",
       "</table>\n",
       "</div>"
      ],
      "text/plain": [
       "                            stay  y_true  ICUSTAY_ID\n",
       "0  10000_episode1_timeseries.csv       0      247610\n",
       "1  10011_episode1_timeseries.csv       1      232110\n",
       "2  10012_episode1_timeseries.csv       0      277998\n",
       "3  10019_episode1_timeseries.csv       0      228977\n",
       "4  10026_episode1_timeseries.csv       0      277021"
      ]
     },
     "execution_count": 11,
     "metadata": {},
     "output_type": "execute_result"
    }
   ],
   "source": [
    "cohorte_test_benchmark = pd.read_csv('/data/codi/OASIS/lengthOfStay/test/listfileLos3.csv')\n",
    "cohorte_test_benchmark.rename(columns={'icustayid': 'ICUSTAY_ID'}, inplace=True)\n",
    "print(cohorte_test_benchmark.shape)\n",
    "cohorte_test_benchmark.head()"
   ]
  },
  {
   "cell_type": "code",
   "execution_count": 12,
   "metadata": {},
   "outputs": [
    {
     "name": "stdout",
     "output_type": "stream",
     "text": [
      "(5282, 5)\n"
     ]
    },
    {
     "data": {
      "text/html": [
       "<div>\n",
       "<style scoped>\n",
       "    .dataframe tbody tr th:only-of-type {\n",
       "        vertical-align: middle;\n",
       "    }\n",
       "\n",
       "    .dataframe tbody tr th {\n",
       "        vertical-align: top;\n",
       "    }\n",
       "\n",
       "    .dataframe thead th {\n",
       "        text-align: right;\n",
       "    }\n",
       "</style>\n",
       "<table border=\"1\" class=\"dataframe\">\n",
       "  <thead>\n",
       "    <tr style=\"text-align: right;\">\n",
       "      <th></th>\n",
       "      <th>stay</th>\n",
       "      <th>y_true</th>\n",
       "      <th>ICUSTAY_ID</th>\n",
       "      <th>LOS</th>\n",
       "      <th>OASIS_NONAN</th>\n",
       "    </tr>\n",
       "  </thead>\n",
       "  <tbody>\n",
       "    <tr>\n",
       "      <th>0</th>\n",
       "      <td>10000_episode1_timeseries.csv</td>\n",
       "      <td>0</td>\n",
       "      <td>247610</td>\n",
       "      <td>0</td>\n",
       "      <td>26.0</td>\n",
       "    </tr>\n",
       "    <tr>\n",
       "      <th>1</th>\n",
       "      <td>10011_episode1_timeseries.csv</td>\n",
       "      <td>1</td>\n",
       "      <td>232110</td>\n",
       "      <td>1</td>\n",
       "      <td>27.0</td>\n",
       "    </tr>\n",
       "    <tr>\n",
       "      <th>2</th>\n",
       "      <td>10012_episode1_timeseries.csv</td>\n",
       "      <td>0</td>\n",
       "      <td>277998</td>\n",
       "      <td>0</td>\n",
       "      <td>27.0</td>\n",
       "    </tr>\n",
       "    <tr>\n",
       "      <th>3</th>\n",
       "      <td>10019_episode1_timeseries.csv</td>\n",
       "      <td>0</td>\n",
       "      <td>228977</td>\n",
       "      <td>0</td>\n",
       "      <td>48.0</td>\n",
       "    </tr>\n",
       "    <tr>\n",
       "      <th>4</th>\n",
       "      <td>10026_episode1_timeseries.csv</td>\n",
       "      <td>0</td>\n",
       "      <td>277021</td>\n",
       "      <td>0</td>\n",
       "      <td>34.0</td>\n",
       "    </tr>\n",
       "  </tbody>\n",
       "</table>\n",
       "</div>"
      ],
      "text/plain": [
       "                            stay  y_true  ICUSTAY_ID  LOS  OASIS_NONAN\n",
       "0  10000_episode1_timeseries.csv       0      247610    0         26.0\n",
       "1  10011_episode1_timeseries.csv       1      232110    1         27.0\n",
       "2  10012_episode1_timeseries.csv       0      277998    0         27.0\n",
       "3  10019_episode1_timeseries.csv       0      228977    0         48.0\n",
       "4  10026_episode1_timeseries.csv       0      277021    0         34.0"
      ]
     },
     "execution_count": 12,
     "metadata": {},
     "output_type": "execute_result"
    }
   ],
   "source": [
    "test_set=pd.merge(cohorte_test_benchmark, result_24_horas_nonnan, how='left', on=['ICUSTAY_ID'])\n",
    "print(test_set.shape)\n",
    "test_set.head()"
   ]
  },
  {
   "cell_type": "code",
   "execution_count": 13,
   "metadata": {},
   "outputs": [
    {
     "data": {
      "text/plain": [
       "stay           0\n",
       "y_true         0\n",
       "ICUSTAY_ID     0\n",
       "LOS            0\n",
       "OASIS_NONAN    0\n",
       "dtype: int64"
      ]
     },
     "execution_count": 13,
     "metadata": {},
     "output_type": "execute_result"
    }
   ],
   "source": [
    "test_set.isnull().sum()"
   ]
  },
  {
   "cell_type": "code",
   "execution_count": 14,
   "metadata": {},
   "outputs": [
    {
     "data": {
      "text/plain": [
       "(5282, 5)"
      ]
     },
     "execution_count": 14,
     "metadata": {},
     "output_type": "execute_result"
    }
   ],
   "source": [
    "test_set[test_set['y_true'] == test_set['LOS']].shape"
   ]
  },
  {
   "cell_type": "code",
   "execution_count": 15,
   "metadata": {},
   "outputs": [
    {
     "data": {
      "text/html": [
       "<div>\n",
       "<style scoped>\n",
       "    .dataframe tbody tr th:only-of-type {\n",
       "        vertical-align: middle;\n",
       "    }\n",
       "\n",
       "    .dataframe tbody tr th {\n",
       "        vertical-align: top;\n",
       "    }\n",
       "\n",
       "    .dataframe thead th {\n",
       "        text-align: right;\n",
       "    }\n",
       "</style>\n",
       "<table border=\"1\" class=\"dataframe\">\n",
       "  <thead>\n",
       "    <tr style=\"text-align: right;\">\n",
       "      <th></th>\n",
       "      <th>stay</th>\n",
       "      <th>y_true</th>\n",
       "      <th>ICUSTAY_ID</th>\n",
       "      <th>LOS</th>\n",
       "      <th>OASIS_NONAN</th>\n",
       "    </tr>\n",
       "  </thead>\n",
       "  <tbody>\n",
       "  </tbody>\n",
       "</table>\n",
       "</div>"
      ],
      "text/plain": [
       "Empty DataFrame\n",
       "Columns: [stay, y_true, ICUSTAY_ID, LOS, OASIS_NONAN]\n",
       "Index: []"
      ]
     },
     "execution_count": 15,
     "metadata": {},
     "output_type": "execute_result"
    }
   ],
   "source": [
    "#We can see that they have same LOS, all correct\n",
    "test_set[~(test_set['y_true'] == test_set['LOS'])]"
   ]
  },
  {
   "cell_type": "code",
   "execution_count": 16,
   "metadata": {},
   "outputs": [],
   "source": [
    "#Solo hace falta ejecutar esta linea una vez, que genera listfile para modelos con times_series\n",
    "#test_set['ICUSTAY_ID'].to_csv('/home/usuario/TFG/code/final_versiones_OASIS_mismoCohorteBenchmark/lengthOfStay/test/listfile.csv', index=False,header='ICUSTAY_ID')"
   ]
  },
  {
   "cell_type": "code",
   "execution_count": 17,
   "metadata": {},
   "outputs": [],
   "source": [
    "X_test=pd.DataFrame(test_set['OASIS_NONAN'])\n",
    "y_test=pd.DataFrame(test_set['LOS'])"
   ]
  },
  {
   "cell_type": "code",
   "execution_count": 18,
   "metadata": {},
   "outputs": [
    {
     "name": "stdout",
     "output_type": "stream",
     "text": [
      "(29846, 3)\n"
     ]
    },
    {
     "data": {
      "text/html": [
       "<div>\n",
       "<style scoped>\n",
       "    .dataframe tbody tr th:only-of-type {\n",
       "        vertical-align: middle;\n",
       "    }\n",
       "\n",
       "    .dataframe tbody tr th {\n",
       "        vertical-align: top;\n",
       "    }\n",
       "\n",
       "    .dataframe thead th {\n",
       "        text-align: right;\n",
       "    }\n",
       "</style>\n",
       "<table border=\"1\" class=\"dataframe\">\n",
       "  <thead>\n",
       "    <tr style=\"text-align: right;\">\n",
       "      <th></th>\n",
       "      <th>stay</th>\n",
       "      <th>y_true</th>\n",
       "      <th>ICUSTAY_ID</th>\n",
       "    </tr>\n",
       "  </thead>\n",
       "  <tbody>\n",
       "    <tr>\n",
       "      <th>0</th>\n",
       "      <td>91051_episode1_timeseries.csv</td>\n",
       "      <td>0</td>\n",
       "      <td>209804</td>\n",
       "    </tr>\n",
       "    <tr>\n",
       "      <th>1</th>\n",
       "      <td>19208_episode2_timeseries.csv</td>\n",
       "      <td>0</td>\n",
       "      <td>208696</td>\n",
       "    </tr>\n",
       "    <tr>\n",
       "      <th>2</th>\n",
       "      <td>41432_episode1_timeseries.csv</td>\n",
       "      <td>0</td>\n",
       "      <td>229628</td>\n",
       "    </tr>\n",
       "    <tr>\n",
       "      <th>3</th>\n",
       "      <td>65089_episode1_timeseries.csv</td>\n",
       "      <td>0</td>\n",
       "      <td>263325</td>\n",
       "    </tr>\n",
       "    <tr>\n",
       "      <th>4</th>\n",
       "      <td>17882_episode4_timeseries.csv</td>\n",
       "      <td>0</td>\n",
       "      <td>269666</td>\n",
       "    </tr>\n",
       "  </tbody>\n",
       "</table>\n",
       "</div>"
      ],
      "text/plain": [
       "                            stay  y_true  ICUSTAY_ID\n",
       "0  91051_episode1_timeseries.csv       0      209804\n",
       "1  19208_episode2_timeseries.csv       0      208696\n",
       "2  41432_episode1_timeseries.csv       0      229628\n",
       "3  65089_episode1_timeseries.csv       0      263325\n",
       "4  17882_episode4_timeseries.csv       0      269666"
      ]
     },
     "execution_count": 18,
     "metadata": {},
     "output_type": "execute_result"
    }
   ],
   "source": [
    "cohorte_train_benchmark = pd.read_csv('/data/codi/OASIS/lengthOfStay/train/listfileLos3.csv')\n",
    "cohorte_train_benchmark.rename(columns={'icustayid': 'ICUSTAY_ID'}, inplace=True)\n",
    "print(cohorte_train_benchmark.shape)\n",
    "cohorte_train_benchmark.head()"
   ]
  },
  {
   "cell_type": "code",
   "execution_count": 19,
   "metadata": {},
   "outputs": [
    {
     "name": "stdout",
     "output_type": "stream",
     "text": [
      "(29846, 5)\n"
     ]
    },
    {
     "data": {
      "text/html": [
       "<div>\n",
       "<style scoped>\n",
       "    .dataframe tbody tr th:only-of-type {\n",
       "        vertical-align: middle;\n",
       "    }\n",
       "\n",
       "    .dataframe tbody tr th {\n",
       "        vertical-align: top;\n",
       "    }\n",
       "\n",
       "    .dataframe thead th {\n",
       "        text-align: right;\n",
       "    }\n",
       "</style>\n",
       "<table border=\"1\" class=\"dataframe\">\n",
       "  <thead>\n",
       "    <tr style=\"text-align: right;\">\n",
       "      <th></th>\n",
       "      <th>stay</th>\n",
       "      <th>y_true</th>\n",
       "      <th>ICUSTAY_ID</th>\n",
       "      <th>LOS</th>\n",
       "      <th>OASIS_NONAN</th>\n",
       "    </tr>\n",
       "  </thead>\n",
       "  <tbody>\n",
       "    <tr>\n",
       "      <th>0</th>\n",
       "      <td>91051_episode1_timeseries.csv</td>\n",
       "      <td>0</td>\n",
       "      <td>209804</td>\n",
       "      <td>0</td>\n",
       "      <td>20.0</td>\n",
       "    </tr>\n",
       "    <tr>\n",
       "      <th>1</th>\n",
       "      <td>19208_episode2_timeseries.csv</td>\n",
       "      <td>0</td>\n",
       "      <td>208696</td>\n",
       "      <td>0</td>\n",
       "      <td>30.0</td>\n",
       "    </tr>\n",
       "    <tr>\n",
       "      <th>2</th>\n",
       "      <td>41432_episode1_timeseries.csv</td>\n",
       "      <td>0</td>\n",
       "      <td>229628</td>\n",
       "      <td>0</td>\n",
       "      <td>30.0</td>\n",
       "    </tr>\n",
       "    <tr>\n",
       "      <th>3</th>\n",
       "      <td>65089_episode1_timeseries.csv</td>\n",
       "      <td>0</td>\n",
       "      <td>263325</td>\n",
       "      <td>0</td>\n",
       "      <td>44.0</td>\n",
       "    </tr>\n",
       "    <tr>\n",
       "      <th>4</th>\n",
       "      <td>17882_episode4_timeseries.csv</td>\n",
       "      <td>0</td>\n",
       "      <td>269666</td>\n",
       "      <td>0</td>\n",
       "      <td>24.0</td>\n",
       "    </tr>\n",
       "  </tbody>\n",
       "</table>\n",
       "</div>"
      ],
      "text/plain": [
       "                            stay  y_true  ICUSTAY_ID  LOS  OASIS_NONAN\n",
       "0  91051_episode1_timeseries.csv       0      209804    0         20.0\n",
       "1  19208_episode2_timeseries.csv       0      208696    0         30.0\n",
       "2  41432_episode1_timeseries.csv       0      229628    0         30.0\n",
       "3  65089_episode1_timeseries.csv       0      263325    0         44.0\n",
       "4  17882_episode4_timeseries.csv       0      269666    0         24.0"
      ]
     },
     "execution_count": 19,
     "metadata": {},
     "output_type": "execute_result"
    }
   ],
   "source": [
    "train_set=pd.merge(cohorte_train_benchmark, result_24_horas_nonnan, how='left', on=['ICUSTAY_ID'])\n",
    "print(train_set.shape)\n",
    "train_set.head()"
   ]
  },
  {
   "cell_type": "code",
   "execution_count": 20,
   "metadata": {},
   "outputs": [
    {
     "data": {
      "text/plain": [
       "stay           0\n",
       "y_true         0\n",
       "ICUSTAY_ID     0\n",
       "LOS            0\n",
       "OASIS_NONAN    0\n",
       "dtype: int64"
      ]
     },
     "execution_count": 20,
     "metadata": {},
     "output_type": "execute_result"
    }
   ],
   "source": [
    "train_set.isnull().sum()"
   ]
  },
  {
   "cell_type": "code",
   "execution_count": 21,
   "metadata": {},
   "outputs": [
    {
     "data": {
      "text/plain": [
       "(29846, 5)"
      ]
     },
     "execution_count": 21,
     "metadata": {},
     "output_type": "execute_result"
    }
   ],
   "source": [
    "train_set[train_set['y_true'] == train_set['LOS']].shape"
   ]
  },
  {
   "cell_type": "code",
   "execution_count": 22,
   "metadata": {},
   "outputs": [],
   "source": [
    "#Solo hace falta ejecutar esta linea una vez, que genera listfile para modelos con times_series\n",
    "#train_set['ICUSTAY_ID'].to_csv('/home/usuario/TFG/code/final_versiones_OASIS_mismoCohorteBenchmark/lengthOfStay/train/listfile.csv', index=False,header='ICUSTAY_ID')"
   ]
  },
  {
   "cell_type": "code",
   "execution_count": 23,
   "metadata": {},
   "outputs": [],
   "source": [
    "X_train=pd.DataFrame(train_set['OASIS_NONAN'])\n",
    "y_train=pd.DataFrame(train_set['LOS'])"
   ]
  },
  {
   "cell_type": "code",
   "execution_count": 24,
   "metadata": {},
   "outputs": [],
   "source": [
    "scaler = StandardScaler()\n",
    "X_train = scaler.fit_transform(X_train)\n",
    "X_test = scaler.transform(X_test)"
   ]
  },
  {
   "cell_type": "code",
   "execution_count": 25,
   "metadata": {},
   "outputs": [
    {
     "data": {
      "text/plain": [
       "array([[-1.22720012],\n",
       "       [-0.22210936],\n",
       "       [-0.22210936],\n",
       "       ...,\n",
       "       [ 0.17992694],\n",
       "       [ 0.58196324],\n",
       "       [ 1.9890903 ]])"
      ]
     },
     "execution_count": 25,
     "metadata": {},
     "output_type": "execute_result"
    }
   ],
   "source": [
    "X_train"
   ]
  },
  {
   "cell_type": "code",
   "execution_count": 26,
   "metadata": {},
   "outputs": [
    {
     "data": {
      "text/plain": [
       "array([[-0.62414567],\n",
       "       [-0.52363659],\n",
       "       [-0.52363659],\n",
       "       ...,\n",
       "       [-1.22720012],\n",
       "       [ 0.17992694],\n",
       "       [-0.42312751]])"
      ]
     },
     "execution_count": 26,
     "metadata": {},
     "output_type": "execute_result"
    }
   ],
   "source": [
    "X_test"
   ]
  },
  {
   "cell_type": "markdown",
   "metadata": {},
   "source": [
    "## Visualization"
   ]
  },
  {
   "cell_type": "code",
   "execution_count": 55,
   "metadata": {},
   "outputs": [
    {
     "name": "stdout",
     "output_type": "stream",
     "text": [
      "(29846, 1)\n"
     ]
    },
    {
     "ename": "ValueError",
     "evalue": "n_components=4 must be between 0 and min(n_samples, n_features)=1 with svd_solver='full'",
     "output_type": "error",
     "traceback": [
      "\u001b[0;31m---------------------------------------------------------------------------\u001b[0m",
      "\u001b[0;31mValueError\u001b[0m                                Traceback (most recent call last)",
      "Input \u001b[0;32mIn [55]\u001b[0m, in \u001b[0;36m<cell line: 6>\u001b[0;34m()\u001b[0m\n\u001b[1;32m      4\u001b[0m pca \u001b[38;5;241m=\u001b[39m PCA(\u001b[38;5;241m4\u001b[39m)\n\u001b[1;32m      5\u001b[0m \u001b[38;5;28mprint\u001b[39m(X_train\u001b[38;5;241m.\u001b[39mshape)\n\u001b[0;32m----> 6\u001b[0m components \u001b[38;5;241m=\u001b[39m \u001b[43mpca\u001b[49m\u001b[38;5;241;43m.\u001b[39;49m\u001b[43mfit_transform\u001b[49m\u001b[43m(\u001b[49m\u001b[43mX_train\u001b[49m\u001b[43m)\u001b[49m\n\u001b[1;32m      7\u001b[0m \u001b[38;5;28mprint\u001b[39m(components\u001b[38;5;241m.\u001b[39mshape)\n\u001b[1;32m      8\u001b[0m \u001b[38;5;28mprint\u001b[39m(pca\u001b[38;5;241m.\u001b[39mexplained_variance_ratio_)\n",
      "File \u001b[0;32m/usr/local/lib/python3.9/dist-packages/sklearn/decomposition/_pca.py:407\u001b[0m, in \u001b[0;36mPCA.fit_transform\u001b[0;34m(self, X, y)\u001b[0m\n\u001b[1;32m    385\u001b[0m \u001b[38;5;28;01mdef\u001b[39;00m \u001b[38;5;21mfit_transform\u001b[39m(\u001b[38;5;28mself\u001b[39m, X, y\u001b[38;5;241m=\u001b[39m\u001b[38;5;28;01mNone\u001b[39;00m):\n\u001b[1;32m    386\u001b[0m     \u001b[38;5;124;03m\"\"\"Fit the model with X and apply the dimensionality reduction on X.\u001b[39;00m\n\u001b[1;32m    387\u001b[0m \n\u001b[1;32m    388\u001b[0m \u001b[38;5;124;03m    Parameters\u001b[39;00m\n\u001b[0;32m   (...)\u001b[0m\n\u001b[1;32m    405\u001b[0m \u001b[38;5;124;03m    C-ordered array, use 'np.ascontiguousarray'.\u001b[39;00m\n\u001b[1;32m    406\u001b[0m \u001b[38;5;124;03m    \"\"\"\u001b[39;00m\n\u001b[0;32m--> 407\u001b[0m     U, S, Vt \u001b[38;5;241m=\u001b[39m \u001b[38;5;28;43mself\u001b[39;49m\u001b[38;5;241;43m.\u001b[39;49m\u001b[43m_fit\u001b[49m\u001b[43m(\u001b[49m\u001b[43mX\u001b[49m\u001b[43m)\u001b[49m\n\u001b[1;32m    408\u001b[0m     U \u001b[38;5;241m=\u001b[39m U[:, : \u001b[38;5;28mself\u001b[39m\u001b[38;5;241m.\u001b[39mn_components_]\n\u001b[1;32m    410\u001b[0m     \u001b[38;5;28;01mif\u001b[39;00m \u001b[38;5;28mself\u001b[39m\u001b[38;5;241m.\u001b[39mwhiten:\n\u001b[1;32m    411\u001b[0m         \u001b[38;5;66;03m# X_new = X * V / S * sqrt(n_samples) = U * sqrt(n_samples)\u001b[39;00m\n",
      "File \u001b[0;32m/usr/local/lib/python3.9/dist-packages/sklearn/decomposition/_pca.py:457\u001b[0m, in \u001b[0;36mPCA._fit\u001b[0;34m(self, X)\u001b[0m\n\u001b[1;32m    455\u001b[0m \u001b[38;5;66;03m# Call different fits for either full or truncated SVD\u001b[39;00m\n\u001b[1;32m    456\u001b[0m \u001b[38;5;28;01mif\u001b[39;00m \u001b[38;5;28mself\u001b[39m\u001b[38;5;241m.\u001b[39m_fit_svd_solver \u001b[38;5;241m==\u001b[39m \u001b[38;5;124m\"\u001b[39m\u001b[38;5;124mfull\u001b[39m\u001b[38;5;124m\"\u001b[39m:\n\u001b[0;32m--> 457\u001b[0m     \u001b[38;5;28;01mreturn\u001b[39;00m \u001b[38;5;28;43mself\u001b[39;49m\u001b[38;5;241;43m.\u001b[39;49m\u001b[43m_fit_full\u001b[49m\u001b[43m(\u001b[49m\u001b[43mX\u001b[49m\u001b[43m,\u001b[49m\u001b[43m \u001b[49m\u001b[43mn_components\u001b[49m\u001b[43m)\u001b[49m\n\u001b[1;32m    458\u001b[0m \u001b[38;5;28;01melif\u001b[39;00m \u001b[38;5;28mself\u001b[39m\u001b[38;5;241m.\u001b[39m_fit_svd_solver \u001b[38;5;129;01min\u001b[39;00m [\u001b[38;5;124m\"\u001b[39m\u001b[38;5;124marpack\u001b[39m\u001b[38;5;124m\"\u001b[39m, \u001b[38;5;124m\"\u001b[39m\u001b[38;5;124mrandomized\u001b[39m\u001b[38;5;124m\"\u001b[39m]:\n\u001b[1;32m    459\u001b[0m     \u001b[38;5;28;01mreturn\u001b[39;00m \u001b[38;5;28mself\u001b[39m\u001b[38;5;241m.\u001b[39m_fit_truncated(X, n_components, \u001b[38;5;28mself\u001b[39m\u001b[38;5;241m.\u001b[39m_fit_svd_solver)\n",
      "File \u001b[0;32m/usr/local/lib/python3.9/dist-packages/sklearn/decomposition/_pca.py:475\u001b[0m, in \u001b[0;36mPCA._fit_full\u001b[0;34m(self, X, n_components)\u001b[0m\n\u001b[1;32m    471\u001b[0m         \u001b[38;5;28;01mraise\u001b[39;00m \u001b[38;5;167;01mValueError\u001b[39;00m(\n\u001b[1;32m    472\u001b[0m             \u001b[38;5;124m\"\u001b[39m\u001b[38;5;124mn_components=\u001b[39m\u001b[38;5;124m'\u001b[39m\u001b[38;5;124mmle\u001b[39m\u001b[38;5;124m'\u001b[39m\u001b[38;5;124m is only supported if n_samples >= n_features\u001b[39m\u001b[38;5;124m\"\u001b[39m\n\u001b[1;32m    473\u001b[0m         )\n\u001b[1;32m    474\u001b[0m \u001b[38;5;28;01melif\u001b[39;00m \u001b[38;5;129;01mnot\u001b[39;00m \u001b[38;5;241m0\u001b[39m \u001b[38;5;241m<\u001b[39m\u001b[38;5;241m=\u001b[39m n_components \u001b[38;5;241m<\u001b[39m\u001b[38;5;241m=\u001b[39m \u001b[38;5;28mmin\u001b[39m(n_samples, n_features):\n\u001b[0;32m--> 475\u001b[0m     \u001b[38;5;28;01mraise\u001b[39;00m \u001b[38;5;167;01mValueError\u001b[39;00m(\n\u001b[1;32m    476\u001b[0m         \u001b[38;5;124m\"\u001b[39m\u001b[38;5;124mn_components=\u001b[39m\u001b[38;5;132;01m%r\u001b[39;00m\u001b[38;5;124m must be between 0 and \u001b[39m\u001b[38;5;124m\"\u001b[39m\n\u001b[1;32m    477\u001b[0m         \u001b[38;5;124m\"\u001b[39m\u001b[38;5;124mmin(n_samples, n_features)=\u001b[39m\u001b[38;5;132;01m%r\u001b[39;00m\u001b[38;5;124m with \u001b[39m\u001b[38;5;124m\"\u001b[39m\n\u001b[1;32m    478\u001b[0m         \u001b[38;5;124m\"\u001b[39m\u001b[38;5;124msvd_solver=\u001b[39m\u001b[38;5;124m'\u001b[39m\u001b[38;5;124mfull\u001b[39m\u001b[38;5;124m'\u001b[39m\u001b[38;5;124m\"\u001b[39m \u001b[38;5;241m%\u001b[39m (n_components, \u001b[38;5;28mmin\u001b[39m(n_samples, n_features))\n\u001b[1;32m    479\u001b[0m     )\n\u001b[1;32m    480\u001b[0m \u001b[38;5;28;01melif\u001b[39;00m n_components \u001b[38;5;241m>\u001b[39m\u001b[38;5;241m=\u001b[39m \u001b[38;5;241m1\u001b[39m:\n\u001b[1;32m    481\u001b[0m     \u001b[38;5;28;01mif\u001b[39;00m \u001b[38;5;129;01mnot\u001b[39;00m \u001b[38;5;28misinstance\u001b[39m(n_components, numbers\u001b[38;5;241m.\u001b[39mIntegral):\n",
      "\u001b[0;31mValueError\u001b[0m: n_components=4 must be between 0 and min(n_samples, n_features)=1 with svd_solver='full'"
     ]
    }
   ],
   "source": [
    "from sklearn.decomposition import PCA\n",
    "import plotly.express as px\n",
    "# Plotting the Clusters using matplotlib\n",
    "pca = PCA(4)\n",
    "print(X_train.shape)\n",
    "components = pca.fit_transform(X_train)\n",
    "print(components.shape)\n",
    "print(pca.explained_variance_ratio_)\n",
    "\n",
    "labels = {\n",
    "    str(i): f\"PC {i+1} ({var:.1f}%)\"\n",
    "    for i, var in enumerate(pca.explained_variance_ratio_ * 100)\n",
    "}\n",
    "\n",
    "fig = px.scatter_matrix(\n",
    "    components,\n",
    "    labels=labels,\n",
    "    dimensions=range(2),\n",
    "    color=y_train\n",
    ")\n",
    "fig.update_traces(diagonal_visible=False)\n",
    "fig.show()"
   ]
  },
  {
   "cell_type": "code",
   "execution_count": null,
   "metadata": {},
   "outputs": [],
   "source": [
    "from sklearn.manifold import TSNE\n",
    "\n",
    "tsne = TSNE(n_components=2)\n",
    "components = tsne.fit_transform(X_train)\n",
    "print(components.shape)"
   ]
  },
  {
   "cell_type": "code",
   "execution_count": null,
   "metadata": {},
   "outputs": [],
   "source": [
    "df = pd.DataFrame()\n",
    "df[\"y\"] = y_train\n",
    "df['tsne-one'] = components[:,0]\n",
    "df['tsne-two'] = components[:,1] \n",
    "\n",
    "sns.scatterplot(x=\"tsne-one\", y=\"tsne-two\", hue=df.y.tolist(),\n",
    "                palette=sns.color_palette(\"hls\", 2),\n",
    "                data=df).set(title=\"OASIS data T-SNE projection\") "
   ]
  },
  {
   "cell_type": "markdown",
   "metadata": {},
   "source": [
    "## Models"
   ]
  },
  {
   "cell_type": "code",
   "execution_count": null,
   "metadata": {},
   "outputs": [],
   "source": [
    "from sklearn.cluster import KMeans\n",
    "import matplotlib.pyplot as plt\n",
    "from sklearn.metrics import silhouette_score\n",
    "\n",
    "# Silhouette\n",
    "silhouette_coefficients = []\n",
    "kmeans_kwargs= {\n",
    "    \"init\":\"random\",\n",
    "    \"n_init\":10,\n",
    "    \"max_iter\":300,\n",
    "    \"random_state\":42\n",
    "}\n",
    "for k in range(2, 10):\n",
    "    kmeans = KMeans(n_clusters=k, **kmeans_kwargs)\n",
    "    kmeans.fit(X_train)\n",
    "    score = silhouette_score(X_train, kmeans.labels_)\n",
    "    silhouette_coefficients.append(score)\n",
    "\n",
    "# Plotting graph to choose the best number of clusters\n",
    "# with the most Silhouette Coefficient score\n",
    "print(silhouette_coefficients)\n",
    "plt.style.use(\"fivethirtyeight\")\n",
    "plt.plot(range(2, 10), silhouette_coefficients)\n",
    "plt.xticks(range(2, 10))\n",
    "plt.xlabel(\"Number of Clusters\")\n",
    "plt.ylabel(\"Silhouette Coefficient\")\n",
    "plt.show()"
   ]
  },
  {
   "cell_type": "code",
   "execution_count": null,
   "metadata": {},
   "outputs": [],
   "source": [
    "# KMeans K=2\n",
    "n_clusters = 2\n",
    "kmeans = KMeans(\n",
    "    init=\"random\",\n",
    "    n_clusters=n_clusters,\n",
    "    n_init=10,\n",
    "    max_iter=300,\n",
    "    random_state=42\n",
    ")\n",
    "# Fit to the training data\n",
    "kmeans.fit(X_train)\n",
    "train_df = pd.DataFrame(X_train)\n",
    "# Generate out clusters\n",
    "train_cluster = kmeans.predict(X_train)\n",
    "n_columns = X_train.shape[1]\n",
    "\n",
    "# Add predicted cluster and y regression label to our training DataFrame\n",
    "train_df.insert(n_columns,'cluster', train_cluster)\n",
    "train_df.insert(n_columns+1,'y', y_train) \n",
    "train_clusters_df = []\n",
    "for i in range(n_clusters):\n",
    "    train_clusters_df.append(train_df[train_df['cluster']==i])\n",
    "\n",
    "# Random Forest\n",
    "logreg=RandomForestClassifier(n_estimators=10, random_state = 42)\n",
    "k_logregs = []"
   ]
  },
  {
   "cell_type": "code",
   "execution_count": null,
   "metadata": {},
   "outputs": [],
   "source": [
    "# One model for each cluster\n",
    "print(\"-------- Logistic Regression fitting for each cluster --------\")\n",
    "for cluster_df in train_clusters_df:\n",
    "    cluster_X = cluster_df.iloc[:,:n_columns] # X values\n",
    "    cluster_Y = cluster_df.iloc[:,n_columns+1] # Y value\n",
    "    logreg.fit(cluster_X, cluster_Y)\n",
    "    k_logregs.append(logreg)\n",
    "    print(\"Training cluster shape: \", cluster_df.shape)"
   ]
  },
  {
   "cell_type": "code",
   "execution_count": null,
   "metadata": {},
   "outputs": [],
   "source": [
    "# Test sample es asignado al cluster correspondiente mediante Distancia euclidiana y se aplica el modelo correspondiente\n",
    "print(\"Assigning each test sample to the closest cluster centroid...\")\n",
    "test_df = pd.DataFrame(X_test)\n",
    "test_clusters_df = test_df.copy()\n",
    "test_clusters_df[\"cluster\"] = None\n",
    "test_clusters_df.insert(n_columns+1,'y', y_test) \n",
    "i=0\n",
    "for row in test_df.itertuples(index=False):\n",
    "    min_distance = float('inf')\n",
    "    closest_cluster = None\n",
    "    for k in range(kmeans.cluster_centers_.shape[0]):\n",
    "        # Check if the assigned cluster has more than 100 samples\n",
    "        # if train_clusters_df[k].shape[0] > 100: # Probar sin limite\n",
    "        distance = np.linalg.norm(kmeans.cluster_centers_[k]-row)\n",
    "        if distance < min_distance:\n",
    "            min_distance = distance\n",
    "            closest_cluster = k\n",
    "    # Assign cluster to test sample\n",
    "    test_clusters_df.iloc[i, n_columns] = closest_cluster\n",
    "    i += 1\n",
    "\n",
    "test_clusters = []\n",
    "for i in range(n_clusters):\n",
    "    test_cluster_i = test_clusters_df[test_clusters_df['cluster']==i]\n",
    "    if np.size(test_cluster_i) != 0:\n",
    "        test_clusters.append(test_cluster_i)\n",
    "        print(\"Test cluster shape: \", test_cluster_i.shape)"
   ]
  },
  {
   "cell_type": "code",
   "execution_count": null,
   "metadata": {},
   "outputs": [],
   "source": [
    "def print_metrics_binary(y_true, predictions, verbose=1):\n",
    "    predictions = np.array(predictions)\n",
    "    if len(predictions.shape) == 1:\n",
    "        predictions = np.stack([1 - predictions, predictions]).transpose((1, 0))\n",
    "\n",
    "    cf = metrics.confusion_matrix(y_true, predictions.argmax(axis=1))\n",
    "    if verbose:\n",
    "        print(\"confusion matrix:\")\n",
    "        print(cf)\n",
    "    cf = cf.astype(np.float32)\n",
    "\n",
    "    acc = (cf[0][0] + cf[1][1]) / np.sum(cf)\n",
    "    prec0 = cf[0][0] / (cf[0][0] + cf[1][0])\n",
    "    prec1 = cf[1][1] / (cf[1][1] + cf[0][1])\n",
    "    rec0 = cf[0][0] / (cf[0][0] + cf[0][1])\n",
    "    rec1 = cf[1][1] / (cf[1][1] + cf[1][0])\n",
    "    auroc = metrics.roc_auc_score(y_true, predictions[:, 1])\n",
    "\n",
    "    (precisions, recalls, thresholds) = metrics.precision_recall_curve(y_true, predictions[:, 1])\n",
    "    auprc = metrics.auc(recalls, precisions)\n",
    "    minpse = np.max([min(x, y) for (x, y) in zip(precisions, recalls)])\n",
    "\n",
    "    if verbose:\n",
    "        print(\"accuracy = {}\".format(acc))\n",
    "        print(\"precision class 0 = {}\".format(prec0))\n",
    "        print(\"precision class 1 = {}\".format(prec1))\n",
    "        print(\"recall class 0 = {}\".format(rec0))\n",
    "        print(\"recall class 1 = {}\".format(rec1))\n",
    "        print(\"AUC of ROC = {}\".format(auroc))\n",
    "        print(\"AUC of PRC = {}\".format(auprc))\n",
    "        print(\"min(+P, Se) = {}\".format(minpse))\n",
    "\n",
    "    return {\"acc\": acc,\n",
    "            \"prec0\": prec0,\n",
    "            \"prec1\": prec1,\n",
    "            \"rec0\": rec0,\n",
    "            \"rec1\": rec1,\n",
    "            \"auroc\": auroc,\n",
    "            \"auprc\": auprc,\n",
    "            \"minpse\": minpse}"
   ]
  },
  {
   "cell_type": "code",
   "execution_count": null,
   "metadata": {},
   "outputs": [],
   "source": [
    "print(\"-------- Train metrics ---------\")\n",
    "i = 0\n",
    "# For each cluster, predict probabilities of class labels\n",
    "for cluster_df in train_clusters_df:\n",
    "    cluster_X = cluster_df.iloc[:,:n_columns] # X values\n",
    "    cluster_Y = cluster_df.iloc[:,n_columns+1] # Y value\n",
    "    classes_prob = k_logregs[i].predict_proba(cluster_X)\n",
    "    if i == 0:\n",
    "        train_X_probs = np.array(classes_prob)\n",
    "        y_train = np.array(cluster_Y)\n",
    "    else: \n",
    "        train_X_probs = np.concatenate((train_X_probs, classes_prob))\n",
    "        y_train = np.concatenate((y_train, cluster_Y))\n",
    "    i += 1\n",
    "# Print and save the results\n",
    "ret = print_metrics_binary(y_train, train_X_probs)        \n",
    "\n",
    "\n",
    "# Test metrics\n",
    "print(\"-------- Test metrics ---------\")\n",
    "i = 0\n",
    "# For each cluster, predict probabilities of class labels\n",
    "for cluster_df in test_clusters:\n",
    "    cluster_X = cluster_df.iloc[:,:n_columns] # X values\n",
    "    cluster_Y = cluster_df.iloc[:,n_columns+1] # Y value\n",
    "    classes_prob = k_logregs[i].predict_proba(cluster_X)[:,1]\n",
    "    if i == 0:\n",
    "        test_X_probs = np.array(classes_prob)\n",
    "        y_test = np.array(cluster_Y)\n",
    "    else: \n",
    "        test_X_probs = np.concatenate((test_X_probs, classes_prob))\n",
    "        y_test = np.concatenate((y_test, cluster_Y))\n",
    "    i += 1\n",
    "# Print and save the results\n",
    "ret = print_metrics_binary(y_test, test_X_probs)"
   ]
  },
  {
   "cell_type": "markdown",
   "metadata": {},
   "source": [
    "Random Forest same class weight"
   ]
  },
  {
   "cell_type": "code",
   "execution_count": 28,
   "metadata": {
    "colab": {
     "base_uri": "https://localhost:8080/"
    },
    "id": "Wha-PMPfeEEn",
    "outputId": "5ce47839-8bea-47bb-97da-f32e82c32dbe"
   },
   "outputs": [
    {
     "name": "stdout",
     "output_type": "stream",
     "text": [
      "Accuracy test: 65.0511\n",
      "Accuracy train: 64.9032\n"
     ]
    }
   ],
   "source": [
    "clf=RandomForestClassifier(n_estimators=10, random_state = 42)\n",
    "clf.fit(X_train,np.ravel(y_train))\n",
    "y_pred=clf.predict(X_test)\n",
    "test_ac=np.round(metrics.accuracy_score(y_test, y_pred)*100,4)\n",
    "train_ac=np.round(clf.score(X_train, y_train)*100,4)\n",
    "print(\"Accuracy test:\",test_ac)\n",
    "print(\"Accuracy train:\",train_ac)"
   ]
  },
  {
   "cell_type": "code",
   "execution_count": 29,
   "metadata": {},
   "outputs": [
    {
     "data": {
      "text/plain": [
       "array([[0.72525449, 0.27474551],\n",
       "       [0.70960555, 0.29039445],\n",
       "       [0.70960555, 0.29039445],\n",
       "       ...,\n",
       "       [0.79327636, 0.20672364],\n",
       "       [0.59381375, 0.40618625],\n",
       "       [0.68767047, 0.31232953]])"
      ]
     },
     "execution_count": 29,
     "metadata": {},
     "output_type": "execute_result"
    }
   ],
   "source": [
    "y_pred_probas=clf.predict_proba(X_test)\n",
    "y_pred_probas #probability of being [class 0, class 1]"
   ]
  },
  {
   "cell_type": "code",
   "execution_count": 30,
   "metadata": {},
   "outputs": [
    {
     "data": {
      "text/plain": [
       "array([0.27474551, 0.29039445, 0.29039445, ..., 0.20672364, 0.40618625,\n",
       "       0.31232953])"
      ]
     },
     "execution_count": 30,
     "metadata": {},
     "output_type": "execute_result"
    }
   ],
   "source": [
    "y_pred_probas[:, 1] #probability of being class 1(LOS>3)\n",
    "#Nota: usamos probabilities para calculo de auc_roc. Porque en el benchmark usa probabilities y además\n",
    "#el resultado de auc_roc varia si usa probilidad o valores enteros de 0/1."
   ]
  },
  {
   "cell_type": "code",
   "execution_count": 31,
   "metadata": {},
   "outputs": [
    {
     "data": {
      "text/plain": [
       "array([0, 1, 0, ..., 0, 0, 0])"
      ]
     },
     "execution_count": 31,
     "metadata": {},
     "output_type": "execute_result"
    }
   ],
   "source": [
    "np.array(np.ravel(y_test))"
   ]
  },
  {
   "cell_type": "code",
   "execution_count": 32,
   "metadata": {},
   "outputs": [
    {
     "name": "stdout",
     "output_type": "stream",
     "text": [
      "AUC-ROC:  0.6590811326344301\n",
      "AUC-PR:  0.5435824269359687\n"
     ]
    }
   ],
   "source": [
    "auroc = metrics.roc_auc_score(y_test, y_pred_probas[:, 1])\n",
    "print(\"AUC-ROC: \", auroc)\n",
    "(precisions, recalls, thresholds) = metrics.precision_recall_curve(y_test, y_pred_probas[:, 1])\n",
    "auprc = metrics.auc(recalls, precisions)\n",
    "print(\"AUC-PR: \", auprc)"
   ]
  },
  {
   "cell_type": "code",
   "execution_count": 33,
   "metadata": {
    "colab": {
     "base_uri": "https://localhost:8080/"
    },
    "id": "7YikaWN3LOfo",
    "outputId": "5f219eb4-eccc-4944-c363-144e74faa8d1"
   },
   "outputs": [
    {
     "name": "stdout",
     "output_type": "stream",
     "text": [
      "[[2824  416]\n",
      " [1430  612]]\n"
     ]
    }
   ],
   "source": [
    "confusionMatrix = confusion_matrix(y_test, y_pred)\n",
    "print(confusionMatrix)"
   ]
  },
  {
   "cell_type": "markdown",
   "metadata": {},
   "source": [
    "Mirando confusion matrix, ahora estan mas balanceado, el accuracy bajo."
   ]
  },
  {
   "cell_type": "code",
   "execution_count": 34,
   "metadata": {
    "id": "mPrqHnpaLOfs"
   },
   "outputs": [],
   "source": [
    "cm = metrics.confusion_matrix(y_test, y_pred)\n",
    "score = np.round(clf.score(X_test, y_test)*100,4)"
   ]
  },
  {
   "cell_type": "code",
   "execution_count": 35,
   "metadata": {
    "colab": {
     "base_uri": "https://localhost:8080/",
     "height": 362
    },
    "id": "UAmU2DrCLOft",
    "outputId": "4239e8ee-82b4-460c-c219-065fda24272e"
   },
   "outputs": [
    {
     "data": {
      "image/png": "[encoded data removed]",
      "text/plain": [
       "<Figure size 432x432 with 2 Axes>"
      ]
     },
     "metadata": {},
     "output_type": "display_data"
    }
   ],
   "source": [
    "cm = cm.astype('float') / cm.sum(axis=1)[:, np.newaxis]\n",
    "plt.figure(figsize=(6,6))\n",
    "sns.heatmap(cm, annot=True, fmt=\".3f\", linewidths=.5, square = True, cmap = 'Blues_r');\n",
    "plt.ylabel('Actual label');\n",
    "plt.xlabel('Predicted label');\n",
    "all_sample_title = 'Accuracy Score: {0}'.format(score)\n",
    "plt.title(all_sample_title, size = 15)\n",
    "plt.show()"
   ]
  },
  {
   "cell_type": "code",
   "execution_count": 36,
   "metadata": {},
   "outputs": [],
   "source": [
    "def save_results(pred, y_true, path):\n",
    "    directory = os.path.dirname(path)\n",
    "    if not os.path.exists(directory):\n",
    "        os.makedirs(directory)\n",
    "    with open(path, 'w') as f:\n",
    "        f.write(\"prediction,y_true\\n\")\n",
    "        for (x, y) in zip(pred, y_true):\n",
    "            f.write(\"{:.6f},{}\\n\".format(x, y))"
   ]
  },
  {
   "cell_type": "code",
   "execution_count": 37,
   "metadata": {},
   "outputs": [],
   "source": [
    "predictions_output_dir = '/data/codi/OASIS/lengthOfStay'"
   ]
  },
  {
   "cell_type": "code",
   "execution_count": 38,
   "metadata": {},
   "outputs": [],
   "source": [
    "save_results(y_pred_probas[:, 1], np.array(np.ravel(y_test)), os.path.join(predictions_output_dir, 'test_predictions', 'RF.csv'))"
   ]
  },
  {
   "cell_type": "markdown",
   "metadata": {},
   "source": [
    "Random Forest different class weight"
   ]
  },
  {
   "cell_type": "code",
   "execution_count": 39,
   "metadata": {},
   "outputs": [
    {
     "name": "stdout",
     "output_type": "stream",
     "text": [
      "Accuracy test: 61.5676\n",
      "Accuracy train: 61.9916\n"
     ]
    }
   ],
   "source": [
    "clf=RandomForestClassifier(n_estimators=10, random_state = 42,class_weight='balanced')\n",
    "clf.fit(X_train,np.ravel(y_train))\n",
    "y_pred=clf.predict(X_test)\n",
    "test_ac=np.round(metrics.accuracy_score(y_test, y_pred)*100,4)\n",
    "train_ac=np.round(clf.score(X_train, y_train)*100,4)\n",
    "print(\"Accuracy test:\",test_ac)\n",
    "print(\"Accuracy train:\",train_ac)"
   ]
  },
  {
   "cell_type": "code",
   "execution_count": 40,
   "metadata": {},
   "outputs": [
    {
     "name": "stdout",
     "output_type": "stream",
     "text": [
      "AUC-ROC:  0.6590933755335486\n",
      "AUC-PR:  0.5435136643102615\n"
     ]
    }
   ],
   "source": [
    "y_pred_probas=clf.predict_proba(X_test)\n",
    "auroc = metrics.roc_auc_score(y_test,  y_pred_probas[:, 1])\n",
    "print(\"AUC-ROC: \", auroc)\n",
    "(precisions, recalls, thresholds) = metrics.precision_recall_curve(y_test,  y_pred_probas[:, 1]) #same as benchmark\n",
    "auprc = metrics.auc(recalls, precisions)\n",
    "print(\"AUC-PR: \", auprc)"
   ]
  },
  {
   "cell_type": "code",
   "execution_count": 41,
   "metadata": {},
   "outputs": [
    {
     "name": "stdout",
     "output_type": "stream",
     "text": [
      "[[1990 1250]\n",
      " [ 780 1262]]\n"
     ]
    }
   ],
   "source": [
    "confusionMatrix = confusion_matrix(y_test, y_pred)\n",
    "print(confusionMatrix)"
   ]
  },
  {
   "cell_type": "code",
   "execution_count": 42,
   "metadata": {},
   "outputs": [],
   "source": [
    "cm = metrics.confusion_matrix(y_test, y_pred)\n",
    "score = np.round(clf.score(X_test, y_test)*100,4)"
   ]
  },
  {
   "cell_type": "code",
   "execution_count": 43,
   "metadata": {},
   "outputs": [
    {
     "data": {
      "image/png": "[encoded data removed]",
      "text/plain": [
       "<Figure size 432x432 with 2 Axes>"
      ]
     },
     "metadata": {},
     "output_type": "display_data"
    }
   ],
   "source": [
    "cm = cm.astype('float') / cm.sum(axis=1)[:, np.newaxis]\n",
    "plt.figure(figsize=(6,6))\n",
    "sns.heatmap(cm, annot=True, fmt=\".3f\", linewidths=.5, square = True, cmap = 'Blues_r');\n",
    "plt.ylabel('Actual label');\n",
    "plt.xlabel('Predicted label');\n",
    "all_sample_title = 'Accuracy Score: {0}'.format(score)\n",
    "plt.title(all_sample_title, size = 15)\n",
    "plt.show()"
   ]
  },
  {
   "cell_type": "code",
   "execution_count": 44,
   "metadata": {},
   "outputs": [],
   "source": [
    "save_results(y_pred_probas[:, 1], np.array(np.ravel(y_test)), os.path.join(predictions_output_dir, 'test_predictions', 'RF_weighted.csv'))"
   ]
  },
  {
   "cell_type": "markdown",
   "metadata": {},
   "source": [
    "Logistic Regression same class weight"
   ]
  },
  {
   "cell_type": "code",
   "execution_count": 45,
   "metadata": {},
   "outputs": [
    {
     "name": "stdout",
     "output_type": "stream",
     "text": [
      "Accuracy of logistic regression classifier on train set: 64.7691\n",
      "Accuracy of logistic regression classifier on test set: 65.089\n"
     ]
    }
   ],
   "source": [
    "logreg = LogisticRegression()\n",
    "logreg.fit(X_train, np.ravel(y_train))\n",
    "y_pred = logreg.predict(X_test)\n",
    "actr=np.round(100*logreg.score(X_train, y_train),4)\n",
    "acte=np.round(100*logreg.score(X_test, y_test),4)\n",
    "print('Accuracy of logistic regression classifier on train set:', actr)\n",
    "print('Accuracy of logistic regression classifier on test set:', acte)"
   ]
  },
  {
   "cell_type": "code",
   "execution_count": 46,
   "metadata": {},
   "outputs": [
    {
     "name": "stdout",
     "output_type": "stream",
     "text": [
      "AUC-ROC:  0.6565577350938926\n",
      "AUC-PR:  0.5367460527554307\n"
     ]
    }
   ],
   "source": [
    "y_pred_probas=logreg.predict_proba(X_test)\n",
    "auroc = metrics.roc_auc_score(y_test,  y_pred_probas[:, 1])\n",
    "print(\"AUC-ROC: \", auroc)\n",
    "(precisions, recalls, thresholds) = metrics.precision_recall_curve(y_test,  y_pred_probas[:, 1])\n",
    "auprc = metrics.auc(recalls, precisions)\n",
    "print(\"AUC-PR: \", auprc)"
   ]
  },
  {
   "cell_type": "code",
   "execution_count": 47,
   "metadata": {},
   "outputs": [
    {
     "name": "stdout",
     "output_type": "stream",
     "text": [
      "[[2881  359]\n",
      " [1485  557]]\n"
     ]
    }
   ],
   "source": [
    "confusionMatrix = confusion_matrix(y_test, y_pred)\n",
    "print(confusionMatrix)"
   ]
  },
  {
   "cell_type": "code",
   "execution_count": 48,
   "metadata": {},
   "outputs": [
    {
     "name": "stdout",
     "output_type": "stream",
     "text": [
      "              precision    recall  f1-score   support\n",
      "\n",
      "           0       0.66      0.89      0.76      3240\n",
      "           1       0.61      0.27      0.38      2042\n",
      "\n",
      "    accuracy                           0.65      5282\n",
      "   macro avg       0.63      0.58      0.57      5282\n",
      "weighted avg       0.64      0.65      0.61      5282\n",
      "\n"
     ]
    }
   ],
   "source": [
    "print(classification_report(y_test, y_pred))"
   ]
  },
  {
   "cell_type": "code",
   "execution_count": 49,
   "metadata": {},
   "outputs": [],
   "source": [
    "save_results(y_pred_probas[:, 1], np.array(np.ravel(y_test)), os.path.join(predictions_output_dir, 'test_predictions', 'LR.csv'))"
   ]
  },
  {
   "cell_type": "markdown",
   "metadata": {},
   "source": [
    "Logistic Regression different class weight"
   ]
  },
  {
   "cell_type": "code",
   "execution_count": 50,
   "metadata": {},
   "outputs": [
    {
     "name": "stdout",
     "output_type": "stream",
     "text": [
      "Accuracy of logistic regression classifier on train set: 62.0653\n",
      "Accuracy of logistic regression classifier on test set: 61.719\n"
     ]
    }
   ],
   "source": [
    "logreg = LogisticRegression(class_weight='balanced')\n",
    "logreg.fit(X_train, np.ravel(y_train))\n",
    "y_pred = logreg.predict(X_test)\n",
    "actr=np.round(100*logreg.score(X_train, y_train),4)\n",
    "acte=np.round(100*logreg.score(X_test, y_test),4)\n",
    "print('Accuracy of logistic regression classifier on train set:', actr)\n",
    "print('Accuracy of logistic regression classifier on test set:', acte)"
   ]
  },
  {
   "cell_type": "code",
   "execution_count": 51,
   "metadata": {},
   "outputs": [
    {
     "name": "stdout",
     "output_type": "stream",
     "text": [
      "AUC-ROC:  0.6565577350938926\n",
      "AUC-PR:  0.5367460527554307\n"
     ]
    }
   ],
   "source": [
    "y_pred_probas=logreg.predict_proba(X_test)\n",
    "auroc = metrics.roc_auc_score(y_test, y_pred_probas[:, 1])\n",
    "print(\"AUC-ROC: \", auroc)\n",
    "(precisions, recalls, thresholds) = metrics.precision_recall_curve(y_test, y_pred_probas[:, 1])\n",
    "auprc = metrics.auc(recalls, precisions)\n",
    "print(\"AUC-PR: \", auprc)"
   ]
  },
  {
   "cell_type": "code",
   "execution_count": 52,
   "metadata": {},
   "outputs": [
    {
     "name": "stdout",
     "output_type": "stream",
     "text": [
      "[[2020 1220]\n",
      " [ 802 1240]]\n"
     ]
    }
   ],
   "source": [
    "confusionMatrix = confusion_matrix(y_test, y_pred)\n",
    "print(confusionMatrix)"
   ]
  },
  {
   "cell_type": "code",
   "execution_count": 53,
   "metadata": {},
   "outputs": [
    {
     "name": "stdout",
     "output_type": "stream",
     "text": [
      "              precision    recall  f1-score   support\n",
      "\n",
      "           0       0.72      0.62      0.67      3240\n",
      "           1       0.50      0.61      0.55      2042\n",
      "\n",
      "    accuracy                           0.62      5282\n",
      "   macro avg       0.61      0.62      0.61      5282\n",
      "weighted avg       0.63      0.62      0.62      5282\n",
      "\n"
     ]
    }
   ],
   "source": [
    "print(classification_report(y_test, y_pred))"
   ]
  },
  {
   "cell_type": "code",
   "execution_count": 54,
   "metadata": {},
   "outputs": [],
   "source": [
    "save_results(y_pred_probas[:, 1], np.array(np.ravel(y_test)), os.path.join(predictions_output_dir, 'test_predictions', 'LR_weighted.csv'))"
   ]
  }
 ],
 "metadata": {
  "colab": {
   "collapsed_sections": [],
   "name": "enviadoaprofe.ipynb",
   "provenance": []
  },
  "kernelspec": {
   "display_name": "Python 3 (ipykernel)",
   "language": "python",
   "name": "python3"
  },
  "language_info": {
   "codemirror_mode": {
    "name": "ipython",
    "version": 3
   },
   "file_extension": ".py",
   "mimetype": "text/x-python",
   "name": "python",
   "nbconvert_exporter": "python",
   "pygments_lexer": "ipython3",
   "version": "3.9.2"
  }
 },
 "nbformat": 4,
 "nbformat_minor": 1
}
