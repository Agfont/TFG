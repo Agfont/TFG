{
 "cells": [
  {
   "cell_type": "markdown",
   "metadata": {},
   "source": [
    "EXTRA (APÉNDICE)\n",
    "\n",
    "En este notebook se realiza Student-t-test con los valores de AUC-ROC/AUC-PR obtenidos mediante cross validation. Este test indica si las diferencias entre los resultados de distintos modelos predictivos son estadísticamente significativas o no.\n",
    "\n",
    "obs. los aucprs/aucrocs se obtienen de los notebooks '04.2_OASIS_final_3daysLOSConCV','05.2_OASIS_final_mortalityConCV.ipynb','07.2OASIS_timeSeries_3daysLOSConCV' y '08.2OASIS_timeSeries_mortalityConCV'. "
   ]
  },
  {
   "cell_type": "code",
   "execution_count": 11,
   "metadata": {},
   "outputs": [],
   "source": [
    "from scipy import stats\n",
    "import numpy as np  \n",
    "import pandas as pd"
   ]
  },
  {
   "cell_type": "markdown",
   "metadata": {},
   "source": [
    "## Mortality"
   ]
  },
  {
   "cell_type": "markdown",
   "metadata": {},
   "source": [
    "### Li"
   ]
  },
  {
   "cell_type": "code",
   "execution_count": 94,
   "metadata": {},
   "outputs": [],
   "source": [
    "aucprs_LSTM = [0.383328, 0.413062, 0.428008, 0.38592, 0.391236]\n",
    "aucrocs_LSTM = [0.780942, 0.803288, 0.809693, 0.809336, 0.797069]"
   ]
  },
  {
   "cell_type": "code",
   "execution_count": 95,
   "metadata": {},
   "outputs": [],
   "source": [
    "aucprs_LSTM_weighted = [0.373053, 0.397489, 0.429715, 0.382057, 0.39139]\n",
    "aucrocs_LSTM_weighted =  [0.780075, 0.804848, 0.812498, 0.808423, 0.803504]"
   ]
  },
  {
   "cell_type": "code",
   "execution_count": 96,
   "metadata": {},
   "outputs": [],
   "source": [
    "aucprs_RF = [0.269771, 0.300152, 0.267277, 0.242272, 0.260992]\n",
    "aucrocs_RF = [0.711592, 0.721191, 0.72598, 0.708077, 0.70798]"
   ]
  },
  {
   "cell_type": "code",
   "execution_count": 97,
   "metadata": {},
   "outputs": [],
   "source": [
    "aucprs_RF_weighted = [0.265597, 0.295643, 0.265212, 0.236281, 0.264632]\n",
    "aucrocs_RF_weighted =  [0.710915, 0.719994, 0.724584, 0.706614, 0.707969]"
   ]
  },
  {
   "cell_type": "code",
   "execution_count": 98,
   "metadata": {},
   "outputs": [],
   "source": [
    "aucprs_LR = [0.273167, 0.306137, 0.273412, 0.258166, 0.258734]\n",
    "aucrocs_LR = [0.712599, 0.721519, 0.727405, 0.705763, 0.708709]"
   ]
  },
  {
   "cell_type": "code",
   "execution_count": 99,
   "metadata": {},
   "outputs": [],
   "source": [
    "aucprs_LR_weighted = [0.273167, 0.306137, 0.273412, 0.258166, 0.258734]\n",
    "aucrocs_LR_weighted = [0.712599, 0.721519, 0.727405, 0.705763, 0.708709]"
   ]
  },
  {
   "cell_type": "code",
   "execution_count": 100,
   "metadata": {},
   "outputs": [],
   "source": [
    "lista_aucprs_modelos = [aucprs_LSTM, aucprs_kmeans, aucprs_tskm, aucprs_LSTM_weighted, aucprs_kmeans_w, aucprs_tskm_w]\n",
    "lista_aucrocs_modelos = [aucrocs_LSTM, aucrocs_kmeans, aucrocs_tskm, aucrocs_LSTM_weighted, aucrocs_kmeans_w, aucrocs_tskm_w]"
   ]
  },
  {
   "cell_type": "code",
   "execution_count": 101,
   "metadata": {},
   "outputs": [],
   "source": [
    "n=len(lista_aucprs_modelos)\n",
    "p_values_matrix_aucprs = np.full((n, n), np.nan)"
   ]
  },
  {
   "cell_type": "code",
   "execution_count": null,
   "metadata": {},
   "outputs": [],
   "source": [
    "\"\"\" Set all the entries of array/matrix that lie above diagonal to models p_values. \"\"\"\n",
    "for i in range(min(p_values_matrix_aucprs.shape[0], p_values_matrix_aucprs.shape[0])):\n",
    "    for j in range(max(0, i+1), p_values_matrix_aucprs.shape[1]):\n",
    "        p_values_matrix_aucprs[i,j] = stats.ttest_rel(lista_aucprs_modelos[i],lista_aucprs_modelos[j])[1]\n",
    "        #print(i,j)"
   ]
  },
  {
   "cell_type": "code",
   "execution_count": null,
   "metadata": {},
   "outputs": [],
   "source": [
    "models_names = ['RF','RF_weighted','LR','LR_weighted','LSTM','LSTM_weighted']\n",
    "\n",
    "tabla_p_values_matrix_aucprs = pd.DataFrame(p_values_matrix_aucprs, index=models_names, columns=models_names)\n",
    "tabla_p_values_matrix_aucprs.columns.name = 'models(compare aucprs)'\n",
    "tabla_p_values_matrix_aucprs"
   ]
  },
  {
   "cell_type": "markdown",
   "metadata": {},
   "source": [
    "### Arthur"
   ]
  },
  {
   "cell_type": "code",
   "execution_count": 41,
   "metadata": {},
   "outputs": [],
   "source": [
    "# Por cluster LOS\n",
    "acc_lstm = [72.431, 72.189, 72.2032, 73.6655, 72.6406]\n",
    "acc_kmeans = [73.1692, 72.9693, 69.809, 73.9567, 73.346]\n",
    "acc_tskm = [72.2602, 72.1321, 71.6339, 73.5089, 72.4128]"
   ]
  },
  {
   "cell_type": "code",
   "execution_count": 57,
   "metadata": {},
   "outputs": [],
   "source": [
    "# Por cluster IHM\n",
    "acc_lstm = [86.4711, 86.9205, 87.843, 88.0558, 87.1067]\n",
    "acc_kmeans = [91.5033, 90.9617, 91.7919, 91.4317, 91.3482]\n",
    "acc_tskm = [86.3529, 86.4948, 87.0151, 87.772, 86.6809]"
   ]
  },
  {
   "cell_type": "code",
   "execution_count": 64,
   "metadata": {},
   "outputs": [
    {
     "data": {
      "text/plain": [
       "86.86314"
      ]
     },
     "execution_count": 64,
     "metadata": {},
     "output_type": "execute_result"
    }
   ],
   "source": [
    "sum(acc_tskm)/5"
   ]
  },
  {
   "cell_type": "code",
   "execution_count": 59,
   "metadata": {},
   "outputs": [],
   "source": [
    "lista_acc_modelos = [acc_lstm, acc_kmeans, acc_tskm]"
   ]
  },
  {
   "cell_type": "code",
   "execution_count": 60,
   "metadata": {},
   "outputs": [],
   "source": [
    "n=len(lista_acc_modelos)\n",
    "p_values_matrix_acc = np.full((n, n), np.nan)"
   ]
  },
  {
   "cell_type": "code",
   "execution_count": 61,
   "metadata": {},
   "outputs": [],
   "source": [
    "\"\"\" Set all the entries of array/matrix that lie above diagonal to models p_values. \"\"\"\n",
    "for i in range(min(p_values_matrix_acc.shape[0], p_values_matrix_acc.shape[0])):\n",
    "    for j in range(max(0, i+1), p_values_matrix_acc.shape[1]):\n",
    "        p_values_matrix_acc[i,j] = stats.ttest_rel(lista_acc_modelos[i],lista_acc_modelos[j])[1]\n",
    "        #print(i,j)"
   ]
  },
  {
   "cell_type": "code",
   "execution_count": 62,
   "metadata": {},
   "outputs": [
    {
     "data": {
      "text/html": [
       "<div>\n",
       "<style scoped>\n",
       "    .dataframe tbody tr th:only-of-type {\n",
       "        vertical-align: middle;\n",
       "    }\n",
       "\n",
       "    .dataframe tbody tr th {\n",
       "        vertical-align: top;\n",
       "    }\n",
       "\n",
       "    .dataframe thead th {\n",
       "        text-align: right;\n",
       "    }\n",
       "</style>\n",
       "<table border=\"1\" class=\"dataframe\">\n",
       "  <thead>\n",
       "    <tr style=\"text-align: right;\">\n",
       "      <th>models(compare ACC test)</th>\n",
       "      <th>LSTM</th>\n",
       "      <th>K-Means + LSTM (k=3)</th>\n",
       "      <th>TSKM + LSTM (k=3)</th>\n",
       "    </tr>\n",
       "  </thead>\n",
       "  <tbody>\n",
       "    <tr>\n",
       "      <th>LSTM</th>\n",
       "      <td>NaN</td>\n",
       "      <td>0.000104</td>\n",
       "      <td>0.023937</td>\n",
       "    </tr>\n",
       "    <tr>\n",
       "      <th>K-Means + LSTM (k=3)</th>\n",
       "      <td>NaN</td>\n",
       "      <td>NaN</td>\n",
       "      <td>0.000052</td>\n",
       "    </tr>\n",
       "    <tr>\n",
       "      <th>TSKM + LSTM (k=3)</th>\n",
       "      <td>NaN</td>\n",
       "      <td>NaN</td>\n",
       "      <td>NaN</td>\n",
       "    </tr>\n",
       "  </tbody>\n",
       "</table>\n",
       "</div>"
      ],
      "text/plain": [
       "models(compare ACC test)  LSTM  K-Means + LSTM (k=3)  TSKM + LSTM (k=3)\n",
       "LSTM                       NaN              0.000104           0.023937\n",
       "K-Means + LSTM (k=3)       NaN                   NaN           0.000052\n",
       "TSKM + LSTM (k=3)          NaN                   NaN                NaN"
      ]
     },
     "execution_count": 62,
     "metadata": {},
     "output_type": "execute_result"
    }
   ],
   "source": [
    "models_names = ['LSTM','K-Means + LSTM (k=3)','TSKM + LSTM (k=3)']\n",
    "\n",
    "tabla_p_values_matrix_acc = pd.DataFrame(p_values_matrix_acc, index=models_names, columns=models_names)\n",
    "tabla_p_values_matrix_acc.columns.name = 'models(compare ACC test)'\n",
    "tabla_p_values_matrix_acc"
   ]
  },
  {
   "cell_type": "markdown",
   "metadata": {},
   "source": [
    "#### AUCROC difference"
   ]
  },
  {
   "cell_type": "code",
   "execution_count": 104,
   "metadata": {},
   "outputs": [],
   "source": [
    "n=len(lista_aucrocs_modelos)\n",
    "p_values_matrix_aucrocs = np.full((n, n), np.nan)\n"
   ]
  },
  {
   "cell_type": "code",
   "execution_count": 105,
   "metadata": {},
   "outputs": [],
   "source": [
    "\"\"\" Set all the entries of array/matrix that lie above diagonal to models p_values. \"\"\"\n",
    "for i in range(min(p_values_matrix_aucrocs.shape[0], p_values_matrix_aucrocs.shape[0])):\n",
    "    for j in range(max(0, i+1), p_values_matrix_aucrocs.shape[1]):\n",
    "        p_values_matrix_aucrocs[i,j] = stats.ttest_rel(lista_aucrocs_modelos[i],lista_aucrocs_modelos[j])[1]\n",
    "        #print(i,j)"
   ]
  },
  {
   "cell_type": "code",
   "execution_count": 108,
   "metadata": {},
   "outputs": [
    {
     "data": {
      "text/html": [
       "<div>\n",
       "<style scoped>\n",
       "    .dataframe tbody tr th:only-of-type {\n",
       "        vertical-align: middle;\n",
       "    }\n",
       "\n",
       "    .dataframe tbody tr th {\n",
       "        vertical-align: top;\n",
       "    }\n",
       "\n",
       "    .dataframe thead th {\n",
       "        text-align: right;\n",
       "    }\n",
       "</style>\n",
       "<table border=\"1\" class=\"dataframe\">\n",
       "  <thead>\n",
       "    <tr style=\"text-align: right;\">\n",
       "      <th>models(compare aucrocs)</th>\n",
       "      <th>RF</th>\n",
       "      <th>RF_weighted</th>\n",
       "      <th>LR</th>\n",
       "      <th>LR_weighted</th>\n",
       "      <th>LSTM</th>\n",
       "      <th>LSTM_weighted</th>\n",
       "    </tr>\n",
       "  </thead>\n",
       "  <tbody>\n",
       "    <tr>\n",
       "      <td>RF</td>\n",
       "      <td>NaN</td>\n",
       "      <td>0.025154</td>\n",
       "      <td>0.740489</td>\n",
       "      <td>0.740489</td>\n",
       "      <td>0.000080</td>\n",
       "      <td>0.000094</td>\n",
       "    </tr>\n",
       "    <tr>\n",
       "      <td>RF_weighted</td>\n",
       "      <td>NaN</td>\n",
       "      <td>NaN</td>\n",
       "      <td>0.123210</td>\n",
       "      <td>0.123210</td>\n",
       "      <td>0.000081</td>\n",
       "      <td>0.000092</td>\n",
       "    </tr>\n",
       "    <tr>\n",
       "      <td>LR</td>\n",
       "      <td>NaN</td>\n",
       "      <td>NaN</td>\n",
       "      <td>NaN</td>\n",
       "      <td>NaN</td>\n",
       "      <td>0.000119</td>\n",
       "      <td>0.000128</td>\n",
       "    </tr>\n",
       "    <tr>\n",
       "      <td>LR_weighted</td>\n",
       "      <td>NaN</td>\n",
       "      <td>NaN</td>\n",
       "      <td>NaN</td>\n",
       "      <td>NaN</td>\n",
       "      <td>0.000119</td>\n",
       "      <td>0.000128</td>\n",
       "    </tr>\n",
       "    <tr>\n",
       "      <td>LSTM</td>\n",
       "      <td>NaN</td>\n",
       "      <td>NaN</td>\n",
       "      <td>NaN</td>\n",
       "      <td>NaN</td>\n",
       "      <td>NaN</td>\n",
       "      <td>0.255522</td>\n",
       "    </tr>\n",
       "    <tr>\n",
       "      <td>LSTM_weighted</td>\n",
       "      <td>NaN</td>\n",
       "      <td>NaN</td>\n",
       "      <td>NaN</td>\n",
       "      <td>NaN</td>\n",
       "      <td>NaN</td>\n",
       "      <td>NaN</td>\n",
       "    </tr>\n",
       "  </tbody>\n",
       "</table>\n",
       "</div>"
      ],
      "text/plain": [
       "models(compare aucrocs)  RF  RF_weighted        LR  LR_weighted      LSTM  \\\n",
       "RF                      NaN     0.025154  0.740489     0.740489  0.000080   \n",
       "RF_weighted             NaN          NaN  0.123210     0.123210  0.000081   \n",
       "LR                      NaN          NaN       NaN          NaN  0.000119   \n",
       "LR_weighted             NaN          NaN       NaN          NaN  0.000119   \n",
       "LSTM                    NaN          NaN       NaN          NaN       NaN   \n",
       "LSTM_weighted           NaN          NaN       NaN          NaN       NaN   \n",
       "\n",
       "models(compare aucrocs)  LSTM_weighted  \n",
       "RF                            0.000094  \n",
       "RF_weighted                   0.000092  \n",
       "LR                            0.000128  \n",
       "LR_weighted                   0.000128  \n",
       "LSTM                          0.255522  \n",
       "LSTM_weighted                      NaN  "
      ]
     },
     "execution_count": 108,
     "metadata": {},
     "output_type": "execute_result"
    }
   ],
   "source": [
    "models_names = ['RF','RF_weighted','LR','LR_weighted','LSTM','LSTM_weighted']\n",
    "\n",
    "tabla_p_values_matrix_aucrocs = pd.DataFrame(p_values_matrix_aucrocs, index=models_names, columns=models_names)\n",
    "tabla_p_values_matrix_aucrocs.columns.name = 'models(compare aucrocs)'\n",
    "tabla_p_values_matrix_aucrocs"
   ]
  },
  {
   "cell_type": "markdown",
   "metadata": {},
   "source": [
    "## LOS > 3 days"
   ]
  },
  {
   "cell_type": "code",
   "execution_count": 18,
   "metadata": {},
   "outputs": [],
   "source": [
    "\n",
    "aucprs_LSTM = [0.65765, 0.675308, 0.664431, 0.683029, 0.655524]\n",
    "#0.6672 mean aucpr with a standard deviation of 0.0105\n",
    "aucrocs_LSTM = [0.742266, 0.751112, 0.737771, 0.758849, 0.740259] \n",
    "#0.7461 mean aucroc with a standard deviation of 0.0078"
   ]
  },
  {
   "cell_type": "code",
   "execution_count": 19,
   "metadata": {},
   "outputs": [],
   "source": [
    "aucprs_LSTM_weighted = [0.657316, 0.673159, 0.663318, 0.680566, 0.655414]\n",
    "#0.6660 mean aucpr with a standard deviation of 0.0096\n",
    "aucrocs_LSTM_weighted = [0.742453, 0.750209, 0.737301, 0.758455, 0.741721]\n",
    "#0.7460 mean aucroc with a standard deviation of 0.0075"
   ]
  },
  {
   "cell_type": "code",
   "execution_count": 20,
   "metadata": {},
   "outputs": [],
   "source": [
    "aucprs_RF = [0.521526, 0.535587, 0.536623, 0.544644, 0.52562]\n",
    "#0.5328 mean aucpr with a standard deviation of 0.0083\n",
    "aucrocs_RF = [0.655988, 0.659277, 0.651154, 0.676124, 0.656375]\n",
    "#0.6598 mean aucroc with a standard deviation of 0.0086"
   ]
  },
  {
   "cell_type": "code",
   "execution_count": 21,
   "metadata": {},
   "outputs": [],
   "source": [
    "aucprs_RF_weighted =[0.521514, 0.535737, 0.5371, 0.544586, 0.525744]\n",
    "#0.5329 mean aucpr with a standard deviation of 0.0083\n",
    "aucrocs_RF_weighted =  [0.655946, 0.659265, 0.651133, 0.676104, 0.656384]\n",
    "#0.6598 mean aucroc with a standard deviation of 0.0086"
   ]
  },
  {
   "cell_type": "code",
   "execution_count": 22,
   "metadata": {},
   "outputs": [],
   "source": [
    "aucprs_LR = [0.524477, 0.533812, 0.537692, 0.541745, 0.518267]\n",
    "#0.5312 mean aucpr with a standard deviation of 0.0086\n",
    "aucrocs_LR =[0.654307, 0.657058, 0.649132, 0.669332, 0.655926]\n",
    "#0.6572 mean aucroc with a standard deviation of 0.0067"
   ]
  },
  {
   "cell_type": "code",
   "execution_count": 23,
   "metadata": {},
   "outputs": [],
   "source": [
    "aucprs_LR_weighted = [0.524477, 0.533812, 0.537692, 0.541745, 0.518267]\n",
    "#0.5312 mean aucpr with a standard deviation of 0.0086\n",
    "aucrocs_LR_weighted = [0.654307, 0.657058, 0.649132, 0.669332, 0.655926]\n",
    "#0.6572 mean aucroc with a standard deviation of 0.0067"
   ]
  },
  {
   "cell_type": "code",
   "execution_count": 24,
   "metadata": {},
   "outputs": [],
   "source": [
    "lista_aucprs_modelos = [aucprs_RF,aucprs_RF_weighted,aucprs_LR ,aucprs_LR_weighted,aucprs_LSTM,aucprs_LSTM_weighted ]\n",
    "lista_aucrocs_modelos = [aucrocs_RF,aucrocs_RF_weighted,aucrocs_LR,aucrocs_LR_weighted,aucrocs_LSTM,aucrocs_LSTM_weighted]\n"
   ]
  },
  {
   "cell_type": "code",
   "execution_count": 25,
   "metadata": {},
   "outputs": [
    {
     "data": {
      "text/html": [
       "<div>\n",
       "<style scoped>\n",
       "    .dataframe tbody tr th:only-of-type {\n",
       "        vertical-align: middle;\n",
       "    }\n",
       "\n",
       "    .dataframe tbody tr th {\n",
       "        vertical-align: top;\n",
       "    }\n",
       "\n",
       "    .dataframe thead th {\n",
       "        text-align: right;\n",
       "    }\n",
       "</style>\n",
       "<table border=\"1\" class=\"dataframe\">\n",
       "  <thead>\n",
       "    <tr style=\"text-align: right;\">\n",
       "      <th>models(compare aucprs)</th>\n",
       "      <th>RF</th>\n",
       "      <th>RF_weighted</th>\n",
       "      <th>LR</th>\n",
       "      <th>LR_weighted</th>\n",
       "      <th>LSTM</th>\n",
       "      <th>LSTM_weighted</th>\n",
       "    </tr>\n",
       "  </thead>\n",
       "  <tbody>\n",
       "    <tr>\n",
       "      <th>RF</th>\n",
       "      <td>NaN</td>\n",
       "      <td>0.220341</td>\n",
       "      <td>0.416739</td>\n",
       "      <td>0.416739</td>\n",
       "      <td>5.637627e-07</td>\n",
       "      <td>3.617128e-07</td>\n",
       "    </tr>\n",
       "    <tr>\n",
       "      <th>RF_weighted</th>\n",
       "      <td>NaN</td>\n",
       "      <td>NaN</td>\n",
       "      <td>0.378581</td>\n",
       "      <td>0.378581</td>\n",
       "      <td>6.340084e-07</td>\n",
       "      <td>4.169470e-07</td>\n",
       "    </tr>\n",
       "    <tr>\n",
       "      <th>LR</th>\n",
       "      <td>NaN</td>\n",
       "      <td>NaN</td>\n",
       "      <td>NaN</td>\n",
       "      <td>NaN</td>\n",
       "      <td>1.030101e-06</td>\n",
       "      <td>7.710519e-07</td>\n",
       "    </tr>\n",
       "    <tr>\n",
       "      <th>LR_weighted</th>\n",
       "      <td>NaN</td>\n",
       "      <td>NaN</td>\n",
       "      <td>NaN</td>\n",
       "      <td>NaN</td>\n",
       "      <td>1.030101e-06</td>\n",
       "      <td>7.710519e-07</td>\n",
       "    </tr>\n",
       "    <tr>\n",
       "      <th>LSTM</th>\n",
       "      <td>NaN</td>\n",
       "      <td>NaN</td>\n",
       "      <td>NaN</td>\n",
       "      <td>NaN</td>\n",
       "      <td>NaN</td>\n",
       "      <td>5.880748e-02</td>\n",
       "    </tr>\n",
       "    <tr>\n",
       "      <th>LSTM_weighted</th>\n",
       "      <td>NaN</td>\n",
       "      <td>NaN</td>\n",
       "      <td>NaN</td>\n",
       "      <td>NaN</td>\n",
       "      <td>NaN</td>\n",
       "      <td>NaN</td>\n",
       "    </tr>\n",
       "  </tbody>\n",
       "</table>\n",
       "</div>"
      ],
      "text/plain": [
       "models(compare aucprs)  RF  RF_weighted        LR  LR_weighted          LSTM  \\\n",
       "RF                     NaN     0.220341  0.416739     0.416739  5.637627e-07   \n",
       "RF_weighted            NaN          NaN  0.378581     0.378581  6.340084e-07   \n",
       "LR                     NaN          NaN       NaN          NaN  1.030101e-06   \n",
       "LR_weighted            NaN          NaN       NaN          NaN  1.030101e-06   \n",
       "LSTM                   NaN          NaN       NaN          NaN           NaN   \n",
       "LSTM_weighted          NaN          NaN       NaN          NaN           NaN   \n",
       "\n",
       "models(compare aucprs)  LSTM_weighted  \n",
       "RF                       3.617128e-07  \n",
       "RF_weighted              4.169470e-07  \n",
       "LR                       7.710519e-07  \n",
       "LR_weighted              7.710519e-07  \n",
       "LSTM                     5.880748e-02  \n",
       "LSTM_weighted                     NaN  "
      ]
     },
     "execution_count": 25,
     "metadata": {},
     "output_type": "execute_result"
    }
   ],
   "source": [
    "n=len(lista_aucprs_modelos)\n",
    "p_values_matrix_aucprs = np.full((n, n), np.nan)\n",
    "\"\"\" Set all the entries of array/matrix that lie above diagonal to models p_values. \"\"\"\n",
    "for i in range(min(p_values_matrix_aucprs.shape[0], p_values_matrix_aucprs.shape[0])):\n",
    "    for j in range(max(0, i+1), p_values_matrix_aucprs.shape[1]):\n",
    "        p_values_matrix_aucprs[i,j] = stats.ttest_rel(lista_aucprs_modelos[i],lista_aucprs_modelos[j])[1]\n",
    "        #print(i,j)\n",
    "        \n",
    "models_names = ['RF','RF_weighted','LR','LR_weighted','LSTM','LSTM_weighted']\n",
    "tabla_p_values_matrix_aucprs = pd.DataFrame(p_values_matrix_aucprs, index=models_names, columns=models_names)\n",
    "tabla_p_values_matrix_aucprs.columns.name = 'models(compare aucprs)'\n",
    "tabla_p_values_matrix_aucprs\n"
   ]
  },
  {
   "cell_type": "code",
   "execution_count": 129,
   "metadata": {},
   "outputs": [
    {
     "data": {
      "text/html": [
       "<div>\n",
       "<style scoped>\n",
       "    .dataframe tbody tr th:only-of-type {\n",
       "        vertical-align: middle;\n",
       "    }\n",
       "\n",
       "    .dataframe tbody tr th {\n",
       "        vertical-align: top;\n",
       "    }\n",
       "\n",
       "    .dataframe thead th {\n",
       "        text-align: right;\n",
       "    }\n",
       "</style>\n",
       "<table border=\"1\" class=\"dataframe\">\n",
       "  <thead>\n",
       "    <tr style=\"text-align: right;\">\n",
       "      <th>models(compare aucrocs)</th>\n",
       "      <th>RF</th>\n",
       "      <th>RF_weighted</th>\n",
       "      <th>LR</th>\n",
       "      <th>LR_weighted</th>\n",
       "      <th>LSTM</th>\n",
       "      <th>LSTM_weighted</th>\n",
       "    </tr>\n",
       "  </thead>\n",
       "  <tbody>\n",
       "    <tr>\n",
       "      <td>RF</td>\n",
       "      <td>NaN</td>\n",
       "      <td>0.104488</td>\n",
       "      <td>0.072159</td>\n",
       "      <td>0.072159</td>\n",
       "      <td>6.581213e-07</td>\n",
       "      <td>3.940032e-07</td>\n",
       "    </tr>\n",
       "    <tr>\n",
       "      <td>RF_weighted</td>\n",
       "      <td>NaN</td>\n",
       "      <td>NaN</td>\n",
       "      <td>0.073045</td>\n",
       "      <td>0.073045</td>\n",
       "      <td>6.589739e-07</td>\n",
       "      <td>3.934411e-07</td>\n",
       "    </tr>\n",
       "    <tr>\n",
       "      <td>LR</td>\n",
       "      <td>NaN</td>\n",
       "      <td>NaN</td>\n",
       "      <td>NaN</td>\n",
       "      <td>NaN</td>\n",
       "      <td>5.696801e-07</td>\n",
       "      <td>2.000138e-07</td>\n",
       "    </tr>\n",
       "    <tr>\n",
       "      <td>LR_weighted</td>\n",
       "      <td>NaN</td>\n",
       "      <td>NaN</td>\n",
       "      <td>NaN</td>\n",
       "      <td>NaN</td>\n",
       "      <td>5.696801e-07</td>\n",
       "      <td>2.000138e-07</td>\n",
       "    </tr>\n",
       "    <tr>\n",
       "      <td>LSTM</td>\n",
       "      <td>NaN</td>\n",
       "      <td>NaN</td>\n",
       "      <td>NaN</td>\n",
       "      <td>NaN</td>\n",
       "      <td>NaN</td>\n",
       "      <td>9.568537e-01</td>\n",
       "    </tr>\n",
       "    <tr>\n",
       "      <td>LSTM_weighted</td>\n",
       "      <td>NaN</td>\n",
       "      <td>NaN</td>\n",
       "      <td>NaN</td>\n",
       "      <td>NaN</td>\n",
       "      <td>NaN</td>\n",
       "      <td>NaN</td>\n",
       "    </tr>\n",
       "  </tbody>\n",
       "</table>\n",
       "</div>"
      ],
      "text/plain": [
       "models(compare aucrocs)  RF  RF_weighted        LR  LR_weighted          LSTM  \\\n",
       "RF                      NaN     0.104488  0.072159     0.072159  6.581213e-07   \n",
       "RF_weighted             NaN          NaN  0.073045     0.073045  6.589739e-07   \n",
       "LR                      NaN          NaN       NaN          NaN  5.696801e-07   \n",
       "LR_weighted             NaN          NaN       NaN          NaN  5.696801e-07   \n",
       "LSTM                    NaN          NaN       NaN          NaN           NaN   \n",
       "LSTM_weighted           NaN          NaN       NaN          NaN           NaN   \n",
       "\n",
       "models(compare aucrocs)  LSTM_weighted  \n",
       "RF                        3.940032e-07  \n",
       "RF_weighted               3.934411e-07  \n",
       "LR                        2.000138e-07  \n",
       "LR_weighted               2.000138e-07  \n",
       "LSTM                      9.568537e-01  \n",
       "LSTM_weighted                      NaN  "
      ]
     },
     "execution_count": 129,
     "metadata": {},
     "output_type": "execute_result"
    }
   ],
   "source": [
    "n=len(lista_aucrocs_modelos)\n",
    "p_values_matrix_aucrocs = np.full((n, n), np.nan)\n",
    "\"\"\" Set all the entries of array/matrix that lie above diagonal to models p_values. \"\"\"\n",
    "for i in range(min(p_values_matrix_aucrocs.shape[0], p_values_matrix_aucrocs.shape[0])):\n",
    "    for j in range(max(0, i+1), p_values_matrix_aucrocs.shape[1]):\n",
    "        p_values_matrix_aucrocs[i,j] = stats.ttest_rel(lista_aucrocs_modelos[i],lista_aucrocs_modelos[j])[1]\n",
    "        #print(i,j)\n",
    "models_names = ['RF','RF_weighted','LR','LR_weighted','LSTM','LSTM_weighted']\n",
    "tabla_p_values_matrix_aucrocs = pd.DataFrame(p_values_matrix_aucrocs, index=models_names, columns=models_names)\n",
    "tabla_p_values_matrix_aucrocs.columns.name = 'models(compare aucrocs)'\n",
    "tabla_p_values_matrix_aucrocs"
   ]
  }
 ],
 "metadata": {
  "kernelspec": {
   "display_name": "Python 3 (ipykernel)",
   "language": "python",
   "name": "python3"
  },
  "language_info": {
   "codemirror_mode": {
    "name": "ipython",
    "version": 3
   },
   "file_extension": ".py",
   "mimetype": "text/x-python",
   "name": "python",
   "nbconvert_exporter": "python",
   "pygments_lexer": "ipython3",
   "version": "3.9.2"
  }
 },
 "nbformat": 4,
 "nbformat_minor": 2
}
